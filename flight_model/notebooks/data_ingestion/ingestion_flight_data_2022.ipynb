{
 "cells": [
  {
   "cell_type": "code",
   "execution_count": 3,
   "metadata": {},
   "outputs": [],
   "source": [
    "import glob\n",
    "\n",
    "import numpy as np\n",
    "import pandas as pd"
   ]
  },
  {
   "cell_type": "markdown",
   "metadata": {},
   "source": [
    "### Data Ingestion\n",
    "\n",
    "- Data is read in from csv files\n",
    "- Data is grouped by month, quarter and year from 2018 t0 2022\n",
    "\n",
    "The data is grouped as follows\n",
    "\n",
    "| file name          | Description                                    |\n",
    "|--------------------|------------------------------------------------|\n",
    "| flight_data_MMYYYY | Ex: flight_data_082022 is data for August 2022 |\n",
    "| flight_data_Y20YY   | Ex: flight_data_Y2021 is data for 2021          |\n",
    "\n",
    "\n",
    "----------------------------------------------------------------------------------------------\n"
   ]
  },
  {
   "cell_type": "markdown",
   "metadata": {},
   "source": [
    "Flight Data by Month"
   ]
  },
  {
   "cell_type": "code",
   "execution_count": 5,
   "metadata": {},
   "outputs": [],
   "source": [
    "## load 2022 data groupby month ##\n",
    "##################################\n",
    "\n",
    "###JANUARY 2022###\n",
    "df_012022 = pd.read_csv(\"../../data/eda/flights/flight_data_012022/flight_data_012022.zip\", low_memory=False)\n",
    "\n",
    "###JUNE 2022###\n",
    "df_062022 = pd.read_csv(\"../../data/eda/flights/flight_data_062022/flight_data_062022.zip\", low_memory=False)\n",
    "\n",
    "###AUGUST 2020###\n",
    "df_082022 = pd.read_csv(\"../../data/eda/flights/flight_data_082022/flight_data_082022.zip\", low_memory=False)\n",
    "\n"
   ]
  },
  {
   "cell_type": "markdown",
   "metadata": {},
   "source": [
    "Flight Data 2022"
   ]
  },
  {
   "cell_type": "code",
   "execution_count": 14,
   "metadata": {},
   "outputs": [
    {
     "data": {
      "text/plain": [
       "['../../data/eda/flights\\\\flight_data_012022\\\\flight_data_012022.zip',\n",
       " '../../data/eda/flights\\\\flight_data_062022\\\\flight_data_062022.zip',\n",
       " '../../data/eda/flights\\\\flight_data_082022\\\\flight_data_082022.zip']"
      ]
     },
     "execution_count": 14,
     "metadata": {},
     "output_type": "execute_result"
    }
   ],
   "source": [
    "## Merge data groupby year ##\n",
    "##################################\n",
    "# merging 2022 csv files\n",
    "rpath2022 = \"../../data/eda/flights/flight_data_*2022/flight_data_*2022.zip\"\n",
    "all_files_2022 = glob.glob(rpath2022, recursive=True)\n",
    "\n",
    "[f for f in all_files_2022]\n",
    "\n",
    "#df = pd.concat((pd.read_csv(f, low_memory=False) for f in all_files_2022), ignore_index=True)\n",
    "#df.to_csv(\"../../data/eda/flights/flight_data_2022/flight_data_2022.csv.zip\",compression=\"zip\")\n",
    "\n"
   ]
  },
  {
   "cell_type": "code",
   "execution_count": 15,
   "metadata": {},
   "outputs": [
    {
     "data": {
      "text/plain": [
       "(1779443, 121)"
      ]
     },
     "execution_count": 15,
     "metadata": {},
     "output_type": "execute_result"
    }
   ],
   "source": [
    "df_flights_2022 = pd.read_csv(\"../../data/eda/flights/flight_data_Y2022/flight_data_2022.csv.zip\", low_memory=False)\n",
    "df_flights_2022.shape"
   ]
  },
  {
   "cell_type": "markdown",
   "metadata": {},
   "source": [
    "### Combined Flight data 2018 - 2022"
   ]
  },
  {
   "cell_type": "code",
   "execution_count": 18,
   "metadata": {},
   "outputs": [
    {
     "data": {
      "text/plain": [
       "['../../data/eda/flights\\\\flight_data_Y2022\\\\flight_data_2022.csv.zip']"
      ]
     },
     "execution_count": 18,
     "metadata": {},
     "output_type": "execute_result"
    }
   ],
   "source": [
    "rpath_2018_2022 = \"../../data/eda/flights/flight_data_Y*/flight_data_*.zip\"\n",
    "\n",
    "all_files_2018_2022 = glob.glob(rpath_2018_2022, recursive=True)\n",
    "\n",
    "[f for f in all_files_2018_2022]\n",
    "\n",
    "#df = pd.concat((pd.read_csv(f, low_memory=False) for f in all_files_2018_2022), ignore_index=True)\n",
    "#df.to_csv(\"../../data/eda/flights/flight_data_2018_2022/flight_data_2018_2022.csv.zip\",compression=\"zip\")"
   ]
  },
  {
   "cell_type": "code",
   "execution_count": null,
   "metadata": {},
   "outputs": [],
   "source": []
  }
 ],
 "metadata": {
  "kernelspec": {
   "display_name": "Python 3 (ipykernel)",
   "language": "python",
   "name": "python3"
  },
  "language_info": {
   "codemirror_mode": {
    "name": "ipython",
    "version": 3
   },
   "file_extension": ".py",
   "mimetype": "text/x-python",
   "name": "python",
   "nbconvert_exporter": "python",
   "pygments_lexer": "ipython3",
   "version": "3.10.7"
  },
  "vscode": {
   "interpreter": {
    "hash": "c1898d6cb0e1cdc2f80c185504810a75bef999fd51058daa5a4d1f09cfd35875"
   }
  }
 },
 "nbformat": 4,
 "nbformat_minor": 2
}

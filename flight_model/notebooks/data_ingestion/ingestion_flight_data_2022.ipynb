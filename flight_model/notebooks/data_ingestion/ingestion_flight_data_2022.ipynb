{
 "cells": [
  {
   "cell_type": "code",
   "execution_count": 10,
   "metadata": {},
   "outputs": [],
   "source": [
    "import glob\n",
    "\n",
    "import numpy as np\n",
    "import pandas as pd"
   ]
  },
  {
   "cell_type": "markdown",
   "metadata": {},
   "source": [
    "### Data Ingestion\n",
    "\n",
    "- Data is read in from csv files\n",
    "- To reduce dimensions we convert from csv to parquet\n",
    "- Data is grouped by month, quarter and year from 2018 t0 2022\n",
    "- Quarters correspond to seasons of the year [Winter, Spring, Summer,Autumn]\n",
    "\n",
    "The data is grouped as follows\n",
    "\n",
    "| file name          | Description                                    |\n",
    "|--------------------|------------------------------------------------|\n",
    "| flight_data_MMYYYY | Ex: flight_data_082022 is data for August 2022 |\n",
    "| flight_data_YYYY   | Ex: flight_data_2022 is data for 2022          |\n",
    "\n",
    "\n",
    "----------------------------------------------------------------------------------------------\n"
   ]
  },
  {
   "cell_type": "markdown",
   "metadata": {},
   "source": [
    "Flight Data by Month"
   ]
  },
  {
   "cell_type": "code",
   "execution_count": 11,
   "metadata": {},
   "outputs": [],
   "source": [
    "## load 2022 data groupby month ##\n",
    "##################################\n",
    "\n",
    "###JANUARY 2022###\n",
    "# df_012022 = pd.read_csv(\"../../data/eda/flights/flight_data_012022/flight_data_012022.csv\", low_memory=False)\n",
    "# df_012022.to_parquet(\"../../data/eda/flights/flight_data_012022/flight_data_012022.parquet\",engine='fastparquet')\n",
    "\n",
    "###AUGUST 2020###\n",
    "# df_082022 = pd.read_csv(\"../../data/eda/flights/flight_data_082022/flight_data_082022.csv\", low_memory=False)\n",
    "# df_082022.to_parquet(\"../../data/eda/flights/flight_data_082022/flight_data_082022.parquet\",engine='fastparquet')\n"
   ]
  },
  {
   "cell_type": "markdown",
   "metadata": {},
   "source": [
    "Flight Data 2022"
   ]
  },
  {
   "cell_type": "code",
   "execution_count": 12,
   "metadata": {},
   "outputs": [],
   "source": [
    "## Merge data groupby year ##\n",
    "##################################\n",
    "# merging 2022 csv files\n",
    "# rpath2022 = \"../../data/eda/flights/flight_data_*2022/flight_data_*2022.csv\"\n",
    "# all_files = glob.glob(rpath2022, recursive=True)\n",
    "\n",
    "# [f for f in all_files]\n",
    "\n",
    "# df = pd.concat((pd.read_csv(f, low_memory=False) for f in all_files), ignore_index=True)\n",
    "# df.to_parquet(\"../../data/eda/flights/flight_data_2022/flight_data_2022.parquet\",engine='fastparquet')\n",
    "\n"
   ]
  },
  {
   "cell_type": "code",
   "execution_count": 13,
   "metadata": {},
   "outputs": [
    {
     "data": {
      "text/plain": [
       "(1177386, 120)"
      ]
     },
     "execution_count": 13,
     "metadata": {},
     "output_type": "execute_result"
    }
   ],
   "source": [
    "df_flights_2022 = pd.read_parquet(\"../../data/eda/flights/flight_data_2022/flight_data_2022.parquet\")\n",
    "df_flights_2022.shape"
   ]
  },
  {
   "cell_type": "code",
   "execution_count": null,
   "metadata": {},
   "outputs": [],
   "source": []
  }
 ],
 "metadata": {
  "kernelspec": {
   "display_name": "Python 3 (ipykernel)",
   "language": "python",
   "name": "python3"
  },
  "language_info": {
   "codemirror_mode": {
    "name": "ipython",
    "version": 3
   },
   "file_extension": ".py",
   "mimetype": "text/x-python",
   "name": "python",
   "nbconvert_exporter": "python",
   "pygments_lexer": "ipython3",
   "version": "3.10.7"
  },
  "vscode": {
   "interpreter": {
    "hash": "c1898d6cb0e1cdc2f80c185504810a75bef999fd51058daa5a4d1f09cfd35875"
   }
  }
 },
 "nbformat": 4,
 "nbformat_minor": 2
}

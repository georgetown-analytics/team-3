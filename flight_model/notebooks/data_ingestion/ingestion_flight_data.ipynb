{
 "cells": [
  {
   "cell_type": "code",
   "execution_count": 2,
   "metadata": {},
   "outputs": [],
   "source": [
    "import glob\n",
    "import pandas as pd"
   ]
  },
  {
   "cell_type": "markdown",
   "metadata": {},
   "source": [
    "### Data Ingestion\n",
    "\n",
    "- Data is read in from csv files\n",
    "- Data is grouped by month, quarter and year from 2018 t0 2022\n",
    "\n",
    "The data is grouped as follows\n",
    "\n",
    "| file name             | Description                                    |\n",
    "|-----------------------|------------------------------------------------|\n",
    "| flight_data_YYYYMM    | Ex: flight_data_202208 is data for August 2022 |\n",
    "| flight_data_Y20YY     | Ex: flight_data_Y2021 is data for 2021         |\n",
    "| flight_data_Y20182022 | Data from 2018 - 2022                          |\n",
    "\n",
    "\n",
    "----------------------------------------------------------------------------------------------\n"
   ]
  },
  {
   "cell_type": "code",
   "execution_count": 3,
   "metadata": {},
   "outputs": [],
   "source": [
    "pd.options.display.max_rows = 20"
   ]
  },
  {
   "cell_type": "markdown",
   "metadata": {},
   "source": [
    "Flight Data by Month"
   ]
  },
  {
   "cell_type": "code",
   "execution_count": 3,
   "metadata": {},
   "outputs": [],
   "source": [
    "## load 2022 data groupby month ##\n",
    "##################################\n",
    "\n",
    "###JANUARY 2022###\n",
    "df_012022 = pd.read_csv(\"../../data/eda/flights/flight_data_2022/flight_data_202201.zip\", low_memory=False)\n",
    "\n",
    "###JUNE 2022###\n",
    "#df_062022 = pd.read_csv(\"../../data/eda/flights/flight_data_2022/flight_data_202206.zip\", low_memory=False)\n",
    "\n",
    "###AUGUST 2020###\n",
    "#df_082022 = pd.read_csv(\"../../data/eda/flights/flight_data_2022/flight_data_202208.zip\", low_memory=False)\n",
    "\n"
   ]
  },
  {
   "cell_type": "markdown",
   "metadata": {},
   "source": [
    "Flight Data 2022"
   ]
  },
  {
   "cell_type": "code",
   "execution_count": 5,
   "metadata": {},
   "outputs": [],
   "source": [
    "## Merge data groupby year ##\n",
    "##################################\n",
    "# merging 2022 csv files\n",
    "rpath2022 = \"../../data/eda/flights/flight_data_2022/flight_data_2022*.zip\"\n",
    "all_files_2022 = glob.glob(rpath2022, recursive=True)\n",
    "\n",
    "[f for f in all_files_2022]\n",
    "\n",
    "#df = pd.concat((pd.read_csv(f, low_memory=False) for f in all_files_2022), ignore_index=True)\n",
    "#df.to_csv(\"../../data/eda/flights/flight_data_Y2022/flight_data_2022.csv.zip\",compression=\"zip\")\n",
    "\n"
   ]
  },
  {
   "cell_type": "markdown",
   "metadata": {},
   "source": [
    "#### Flight Data 2021"
   ]
  },
  {
   "cell_type": "code",
   "execution_count": 4,
   "metadata": {},
   "outputs": [],
   "source": [
    "## Merge data groupby year ##\n",
    "##################################\n",
    "# merging 2021 csv files\n",
    "rpath2021 = \"../../data/eda/flights/flight_data_2021/flight_data_2021*.zip\"\n",
    "all_files_2021 = glob.glob(rpath2021, recursive=True)\n",
    "\n",
    "[f for f in all_files_2021]\n",
    "\n",
    "df = pd.concat((pd.read_csv(f, low_memory=False) for f in all_files_2021), ignore_index=True)\n",
    "df.to_csv(\"../../data/eda/flights/flight_data_Y2021/flight_data_2021.csv.zip\",compression=\"zip\")"
   ]
  },
  {
   "cell_type": "code",
   "execution_count": 7,
   "metadata": {},
   "outputs": [],
   "source": [
    "## Merge data groupby year ##\n",
    "##################################\n",
    "# merging 2020 csv files\n",
    "rpath2020 = \"../../data/eda/flights/flight_data_2020/flight_data_2020*.zip\"\n",
    "all_files_2020 = glob.glob(rpath2020, recursive=True)\n",
    "\n",
    "[f for f in all_files_2020]\n",
    "\n",
    "df = pd.concat((pd.read_csv(f, low_memory=False) for f in all_files_2020), ignore_index=True)\n",
    "df.to_csv(\"../../data/eda/flights/flight_data_Y2020/flight_data_2020.csv.zip\",compression=\"zip\")"
   ]
  },
  {
   "cell_type": "code",
   "execution_count": 3,
   "metadata": {},
   "outputs": [],
   "source": [
    "## Merge data groupby year ##\n",
    "##################################\n",
    "# merging 2019 csv files\n",
    "rpath2019 = \"../../data/eda/flights/flight_data_2019/flight_data_2019*.zip\"\n",
    "all_files_2019 = glob.glob(rpath2019, recursive=True)\n",
    "\n",
    "[f for f in all_files_2019]\n",
    "\n",
    "df = pd.concat((pd.read_csv(f, low_memory=False) for f in all_files_2019), ignore_index=True)\n",
    "df.to_csv(\"../../data/eda/flights/flight_data_Y2019/flight_data_2019.csv.zip\",compression=\"zip\")"
   ]
  },
  {
   "cell_type": "code",
   "execution_count": 4,
   "metadata": {},
   "outputs": [],
   "source": [
    "## Merge data groupby year ##\n",
    "##################################\n",
    "# merging 2018 csv files\n",
    "rpath2018 = \"../../data/eda/flights/flight_data_2018/flight_data_2018*.zip\"\n",
    "all_files_2018 = glob.glob(rpath2018, recursive=True)\n",
    "\n",
    "[f for f in all_files_2018]\n",
    "\n",
    "df = pd.concat((pd.read_csv(f, low_memory=False) for f in all_files_2018), ignore_index=True)\n",
    "df.to_csv(\"../../data/eda/flights/flight_data_Y2018/flight_data_2018.csv.zip\",compression=\"zip\")"
   ]
  },
  {
   "cell_type": "code",
   "execution_count": null,
   "metadata": {},
   "outputs": [],
   "source": [
    "# df_flights_2022 = pd.read_csv(\"../../data/eda/flights/flight_data_Y2022/flight_data_2022.csv.zip\", low_memory=False)\n",
    "## df_flights_2022.shape"
   ]
  },
  {
   "cell_type": "markdown",
   "metadata": {},
   "source": [
    "### Combined Flight data 2018 - 2022"
   ]
  },
  {
   "cell_type": "code",
   "execution_count": 4,
   "metadata": {},
   "outputs": [
    {
     "data": {
      "text/plain": [
       "['../../data/eda/flights\\\\flight_data_Y2018\\\\flight_data_2018.csv.zip',\n",
       " '../../data/eda/flights\\\\flight_data_Y2019\\\\flight_data_2019.csv.zip',\n",
       " '../../data/eda/flights\\\\flight_data_Y2020\\\\flight_data_2020.csv.zip',\n",
       " '../../data/eda/flights\\\\flight_data_Y2021\\\\flight_data_2021.csv.zip',\n",
       " '../../data/eda/flights\\\\flight_data_Y2022\\\\flight_data_2022.csv.zip']"
      ]
     },
     "execution_count": 4,
     "metadata": {},
     "output_type": "execute_result"
    }
   ],
   "source": [
    "rpath_2018_2022 = \"../../data/eda/flights/flight_data_Y*/flight_data_*.zip\"\n",
    "\n",
    "all_files_2018_2022 = glob.glob(rpath_2018_2022, recursive=True)\n",
    "\n",
    "[f for f in all_files_2018_2022]\n",
    "\n",
    "# df = pd.concat((pd.read_csv(f, low_memory=False) for f in all_files_2018_2022), ignore_index=True)\n",
    "# df.to_csv(\"../../data/eda/flights/flight_data_Y20182022/flight_data_2018_2022.csv.zip\",compression=\"zip\")"
   ]
  },
  {
   "cell_type": "code",
   "execution_count": null,
   "metadata": {},
   "outputs": [],
   "source": []
  }
 ],
 "metadata": {
  "kernelspec": {
   "display_name": "Python 3.10.7 ('team-3-N2NXnkel')",
   "language": "python",
   "name": "python3"
  },
  "language_info": {
   "codemirror_mode": {
    "name": "ipython",
    "version": 3
   },
   "file_extension": ".py",
   "mimetype": "text/x-python",
   "name": "python",
   "nbconvert_exporter": "python",
   "pygments_lexer": "ipython3",
   "version": "3.10.7"
  },
  "vscode": {
   "interpreter": {
    "hash": "13b707afe647235fabbd8fa9a50cb628621b6b26172b2c2a7128d664447ee1d0"
   }
  }
 },
 "nbformat": 4,
 "nbformat_minor": 2
}

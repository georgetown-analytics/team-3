{
 "cells": [
  {
   "cell_type": "code",
   "execution_count": 13,
   "metadata": {},
   "outputs": [],
   "source": [
    "import numpy as np\n",
    "import pandas as pd\n",
    "import matplotlib.pyplot as plt\n",
    "import seaborn as sns \n",
    "import plotly.express as px\n",
    "\n",
    "sns.set_theme(style=\"darkgrid\")\n",
    "current_palette=sns.color_palette()"
   ]
  },
  {
   "cell_type": "markdown",
   "metadata": {},
   "source": [
    "### Exploratory Data Analysis\n",
    "\n",
    "- Data is read in from file system storage\n",
    "- Data is analysed by month, quarter and year from 2018 t0 2022\n",
    "\n",
    "#### Data Preparation [cleaning and processing]\n",
    "| Action                         | Description                             |\n",
    "|--------------------------------|-----------------------------------------|\n",
    "| Renaming columns               | ----                                    |\n",
    "| Formatting data                | Ex: converting string date to date type |\n",
    "| Identifying duplicated columns | ----                                    |\n",
    "| Dropping irrelevant columns    | ------                                  |\n",
    "| Feature selection              | -------                                 |\n",
    "| Data visualisations            | ------                                  |\n",
    "\n",
    "----------------------------------------------------------------------------------------------\n"
   ]
  },
  {
   "cell_type": "code",
   "execution_count": 14,
   "metadata": {},
   "outputs": [
    {
     "data": {
      "text/plain": [
       "(563737, 120)"
      ]
     },
     "execution_count": 14,
     "metadata": {},
     "output_type": "execute_result"
    }
   ],
   "source": [
    "## Read in January 2022 data from filesystem\n",
    "df_flights_012022 = pd.read_csv(\"../../data/eda/flights/flight_data_012022/flight_data_012022.zip\", low_memory=False)\n",
    "df_flights_012022.shape"
   ]
  },
  {
   "cell_type": "code",
   "execution_count": 15,
   "metadata": {},
   "outputs": [
    {
     "data": {
      "text/html": [
       "<div>\n",
       "<style scoped>\n",
       "    .dataframe tbody tr th:only-of-type {\n",
       "        vertical-align: middle;\n",
       "    }\n",
       "\n",
       "    .dataframe tbody tr th {\n",
       "        vertical-align: top;\n",
       "    }\n",
       "\n",
       "    .dataframe thead th {\n",
       "        text-align: right;\n",
       "    }\n",
       "</style>\n",
       "<table border=\"1\" class=\"dataframe\">\n",
       "  <thead>\n",
       "    <tr style=\"text-align: right;\">\n",
       "      <th></th>\n",
       "      <th>Year</th>\n",
       "      <th>Quarter</th>\n",
       "      <th>Month</th>\n",
       "      <th>DayofMonth</th>\n",
       "      <th>DayOfWeek</th>\n",
       "      <th>FlightDate</th>\n",
       "      <th>Marketing_Airline_Network</th>\n",
       "      <th>Operated_or_Branded_Code_Share_Partners</th>\n",
       "      <th>DOT_ID_Marketing_Airline</th>\n",
       "      <th>IATA_Code_Marketing_Airline</th>\n",
       "      <th>...</th>\n",
       "      <th>Div5Airport</th>\n",
       "      <th>Div5AirportID</th>\n",
       "      <th>Div5AirportSeqID</th>\n",
       "      <th>Div5WheelsOn</th>\n",
       "      <th>Div5TotalGTime</th>\n",
       "      <th>Div5LongestGTime</th>\n",
       "      <th>Div5WheelsOff</th>\n",
       "      <th>Div5TailNum</th>\n",
       "      <th>Duplicate</th>\n",
       "      <th>Unnamed: 119</th>\n",
       "    </tr>\n",
       "  </thead>\n",
       "  <tbody>\n",
       "    <tr>\n",
       "      <th>0</th>\n",
       "      <td>2022</td>\n",
       "      <td>1</td>\n",
       "      <td>1</td>\n",
       "      <td>6</td>\n",
       "      <td>4</td>\n",
       "      <td>2022-01-06</td>\n",
       "      <td>DL</td>\n",
       "      <td>DL</td>\n",
       "      <td>19790</td>\n",
       "      <td>DL</td>\n",
       "      <td>...</td>\n",
       "      <td>NaN</td>\n",
       "      <td>NaN</td>\n",
       "      <td>NaN</td>\n",
       "      <td>NaN</td>\n",
       "      <td>NaN</td>\n",
       "      <td>NaN</td>\n",
       "      <td>NaN</td>\n",
       "      <td>NaN</td>\n",
       "      <td>N</td>\n",
       "      <td>NaN</td>\n",
       "    </tr>\n",
       "    <tr>\n",
       "      <th>1</th>\n",
       "      <td>2022</td>\n",
       "      <td>1</td>\n",
       "      <td>1</td>\n",
       "      <td>6</td>\n",
       "      <td>4</td>\n",
       "      <td>2022-01-06</td>\n",
       "      <td>DL</td>\n",
       "      <td>DL</td>\n",
       "      <td>19790</td>\n",
       "      <td>DL</td>\n",
       "      <td>...</td>\n",
       "      <td>NaN</td>\n",
       "      <td>NaN</td>\n",
       "      <td>NaN</td>\n",
       "      <td>NaN</td>\n",
       "      <td>NaN</td>\n",
       "      <td>NaN</td>\n",
       "      <td>NaN</td>\n",
       "      <td>NaN</td>\n",
       "      <td>N</td>\n",
       "      <td>NaN</td>\n",
       "    </tr>\n",
       "  </tbody>\n",
       "</table>\n",
       "<p>2 rows × 120 columns</p>\n",
       "</div>"
      ],
      "text/plain": [
       "   Year  Quarter  Month  DayofMonth  DayOfWeek  FlightDate  \\\n",
       "0  2022        1      1           6          4  2022-01-06   \n",
       "1  2022        1      1           6          4  2022-01-06   \n",
       "\n",
       "  Marketing_Airline_Network Operated_or_Branded_Code_Share_Partners  \\\n",
       "0                        DL                                      DL   \n",
       "1                        DL                                      DL   \n",
       "\n",
       "   DOT_ID_Marketing_Airline IATA_Code_Marketing_Airline  ...  Div5Airport  \\\n",
       "0                     19790                          DL  ...          NaN   \n",
       "1                     19790                          DL  ...          NaN   \n",
       "\n",
       "  Div5AirportID  Div5AirportSeqID Div5WheelsOn  Div5TotalGTime  \\\n",
       "0           NaN               NaN          NaN             NaN   \n",
       "1           NaN               NaN          NaN             NaN   \n",
       "\n",
       "  Div5LongestGTime  Div5WheelsOff Div5TailNum Duplicate  Unnamed: 119  \n",
       "0              NaN            NaN         NaN         N           NaN  \n",
       "1              NaN            NaN         NaN         N           NaN  \n",
       "\n",
       "[2 rows x 120 columns]"
      ]
     },
     "execution_count": 15,
     "metadata": {},
     "output_type": "execute_result"
    }
   ],
   "source": [
    "df_flights_012022.head(2)"
   ]
  },
  {
   "cell_type": "code",
   "execution_count": 16,
   "metadata": {},
   "outputs": [],
   "source": [
    "# Drop irrelevant columns\n",
    "SELECTED_COLUMNS = [\n",
    "    # 'Year',\n",
    "    # 'Quarter',\n",
    "    # 'Month',\n",
    "    # 'DayofMonth',\n",
    "    # 'DayOfWeek',\n",
    "    'FlightDate',\n",
    "    # 'Marketing_Airline_Network',\n",
    "    # 'Operated_or_Branded_Code_Share_Partners',\n",
    "    # 'DOT_ID_Marketing_Airline',\n",
    "    # 'IATA_Code_Marketing_Airline',\n",
    "    # 'Flight_Number_Marketing_Airline',\n",
    "    # 'Originally_Scheduled_Code_Share_Airline',\n",
    "    # 'DOT_ID_Originally_Scheduled_Code_Share_Airline',\n",
    "    # 'IATA_Code_Originally_Scheduled_Code_Share_Airline',\n",
    "    # 'Flight_Num_Originally_Scheduled_Code_Share_Airline',\n",
    "    'Operating_Airline',\n",
    "    # 'DOT_ID_Operating_Airline',\n",
    "    # 'IATA_Code_Operating_Airline',\n",
    "    # 'Tail_Number',\n",
    "    # 'Flight_Number_Operating_Airline',\n",
    "    'OriginAirportID',\n",
    "    # 'OriginAirportSeqID',\n",
    "    # 'OriginCityMarketID',\n",
    "    'Origin',\n",
    "    'OriginCityName',\n",
    "    'OriginState',\n",
    "    # 'OriginStateFips',\n",
    "    # 'OriginStateName',\n",
    "    # 'OriginWac',\n",
    "    'DestAirportID',\n",
    "    # 'DestAirportSeqID',\n",
    "    # 'DestCityMarketID',\n",
    "    'Dest',\n",
    "    'DestCityName',\n",
    "    'DestState',\n",
    "    # 'DestStateFips',\n",
    "    'DestStateName',\n",
    "    # 'DestWac',\n",
    "    'CRSDepTime',\n",
    "    'DepTime',\n",
    "    'DepDelay',\n",
    "    'DepDelayMinutes',\n",
    "    'DepDel15',\n",
    "    'DepartureDelayGroups',\n",
    "    'DepTimeBlk',\n",
    "    'TaxiOut',\n",
    "    'WheelsOff',\n",
    "    'WheelsOn',\n",
    "    'TaxiIn',\n",
    "    'CRSArrTime',\n",
    "    'ArrTime',\n",
    "    'ArrDelay',\n",
    "    'ArrDelayMinutes',\n",
    "    'ArrDel15',\n",
    "    'ArrivalDelayGroups',\n",
    "    'ArrTimeBlk',\n",
    "    'Cancelled',\n",
    "    'CancellationCode',\n",
    "    'Diverted',\n",
    "    'CRSElapsedTime',\n",
    "    'ActualElapsedTime',\n",
    "    'AirTime',\n",
    "    'Flights',\n",
    "    'Distance',\n",
    "    'DistanceGroup',\n",
    "    'CarrierDelay',\n",
    "    'WeatherDelay',\n",
    "    'NASDelay',\n",
    "    'SecurityDelay',\n",
    "    'LateAircraftDelay',\n",
    "    'FirstDepTime',\n",
    "    'TotalAddGTime',\n",
    "    'LongestAddGTime',\n",
    "    # 'DivAirportLandings',\n",
    "    # 'DivReachedDest',\n",
    "    # 'DivActualElapsedTime',\n",
    "    # 'DivArrDelay',\n",
    "    # 'DivDistance',\n",
    "    # 'Div1Airport',\n",
    "    # 'Div1AirportID',\n",
    "    # 'Div1AirportSeqID',\n",
    "    # 'Div1WheelsOn',\n",
    "    # 'Div1TotalGTime',\n",
    "    # 'Div1LongestGTime',\n",
    "    # 'Div1WheelsOff',\n",
    "    # 'Div1TailNum',\n",
    "    # 'Div2Airport',\n",
    "    # 'Div2AirportID',\n",
    "    # 'Div2AirportSeqID',\n",
    "    # 'Div2WheelsOn',\n",
    "    # 'Div2TotalGTime',\n",
    "    # 'Div2LongestGTime',\n",
    "    # 'Div2WheelsOff',\n",
    "    # 'Div2TailNum',\n",
    "    # 'Div3Airport',\n",
    "    # 'Div3AirportID',\n",
    "    # 'Div3AirportSeqID',\n",
    "    # 'Div3WheelsOn',\n",
    "    # 'Div3TotalGTime',\n",
    "    # 'Div3LongestGTime',\n",
    "    # 'Div3WheelsOff',\n",
    "    # 'Div3TailNum',\n",
    "    # 'Div4Airport',\n",
    "    # 'Div4AirportID',\n",
    "    # 'Div4AirportSeqID',\n",
    "    # 'Div4WheelsOn',\n",
    "    # 'Div4TotalGTime',\n",
    "    # 'Div4LongestGTime',\n",
    "    # 'Div4WheelsOff',\n",
    "    # 'Div4TailNum',\n",
    "    # 'Div5Airport',\n",
    "    # 'Div5AirportID',\n",
    "    # 'Div5AirportSeqID',\n",
    "    # 'Div5WheelsOn',\n",
    "    # 'Div5TotalGTime',\n",
    "    # 'Div5LongestGTime',\n",
    "    # 'Div5WheelsOff',\n",
    "    # 'Div5TailNum',\n",
    "    # 'Duplicate',\n",
    "    # 'Unnamed: 119'\n",
    "]"
   ]
  },
  {
   "cell_type": "code",
   "execution_count": 17,
   "metadata": {},
   "outputs": [
    {
     "data": {
      "text/plain": [
       "(602057, 120)"
      ]
     },
     "execution_count": 17,
     "metadata": {},
     "output_type": "execute_result"
    }
   ],
   "source": [
    "## Read in June 2022 data from filesystem\n",
    "df_flights_062022 = pd.read_csv(\"../../data/eda/flights/flight_data_062022/flight_data_062022.zip\", low_memory=False)\n",
    "df_flights_062022= df_flights_062022.rename(columns={'Operating_Airline ' : 'Operating_Airline'})\n",
    "df_flights_062022.shape"
   ]
  },
  {
   "cell_type": "code",
   "execution_count": 18,
   "metadata": {},
   "outputs": [
    {
     "data": {
      "text/plain": [
       "['FlightDate',\n",
       " 'Operating_Airline',\n",
       " 'OriginAirportID',\n",
       " 'Origin',\n",
       " 'OriginCityName',\n",
       " 'OriginState',\n",
       " 'DestAirportID',\n",
       " 'Dest',\n",
       " 'DestCityName',\n",
       " 'DestState',\n",
       " 'DestStateName',\n",
       " 'CRSDepTime',\n",
       " 'DepTime',\n",
       " 'DepDelay',\n",
       " 'DepDelayMinutes',\n",
       " 'DepDel15',\n",
       " 'DepartureDelayGroups',\n",
       " 'DepTimeBlk',\n",
       " 'TaxiOut',\n",
       " 'WheelsOff',\n",
       " 'WheelsOn',\n",
       " 'TaxiIn',\n",
       " 'CRSArrTime',\n",
       " 'ArrTime',\n",
       " 'ArrDelay',\n",
       " 'ArrDelayMinutes',\n",
       " 'ArrDel15',\n",
       " 'ArrivalDelayGroups',\n",
       " 'ArrTimeBlk',\n",
       " 'Cancelled',\n",
       " 'CancellationCode',\n",
       " 'Diverted',\n",
       " 'CRSElapsedTime',\n",
       " 'ActualElapsedTime',\n",
       " 'AirTime',\n",
       " 'Flights',\n",
       " 'Distance',\n",
       " 'DistanceGroup',\n",
       " 'CarrierDelay',\n",
       " 'WeatherDelay',\n",
       " 'NASDelay',\n",
       " 'SecurityDelay',\n",
       " 'LateAircraftDelay',\n",
       " 'FirstDepTime',\n",
       " 'TotalAddGTime',\n",
       " 'LongestAddGTime']"
      ]
     },
     "execution_count": 18,
     "metadata": {},
     "output_type": "execute_result"
    }
   ],
   "source": [
    "df_flights_062022 = df_flights_062022[SELECTED_COLUMNS].copy()\n",
    "df_flights_062022.columns.to_list()"
   ]
  },
  {
   "cell_type": "code",
   "execution_count": 19,
   "metadata": {},
   "outputs": [
    {
     "data": {
      "text/plain": [
       "(613649, 120)"
      ]
     },
     "execution_count": 19,
     "metadata": {},
     "output_type": "execute_result"
    }
   ],
   "source": [
    "## Read in August 2022 data from filesystem\n",
    "df_flights_082022 = pd.read_csv(\"../../data/eda/flights/flight_data_082022/flight_data_082022.zip\", low_memory=False)\n",
    "df_flights_082022.shape"
   ]
  },
  {
   "cell_type": "code",
   "execution_count": 20,
   "metadata": {},
   "outputs": [
    {
     "data": {
      "text/plain": [
       "(1779443, 121)"
      ]
     },
     "execution_count": 20,
     "metadata": {},
     "output_type": "execute_result"
    }
   ],
   "source": [
    "## Read in 2022 data from filesystem\n",
    "df_flights_2022 = pd.read_csv(\"../../data/eda/flights/flight_data_Y2022/flight_data_2022.csv.zip\", low_memory=False)\n",
    "df_flights_2022.shape"
   ]
  },
  {
   "cell_type": "code",
   "execution_count": 21,
   "metadata": {},
   "outputs": [
    {
     "data": {
      "text/plain": [
       "(1779443, 122)"
      ]
     },
     "execution_count": 21,
     "metadata": {},
     "output_type": "execute_result"
    }
   ],
   "source": [
    "## Read in 2018-2022 data from filesystem\n",
    "df_flights = pd.read_csv(\"../../data/eda/flights/flight_data_2018_2022/flight_data_2018_2022.csv.zip\", low_memory=False)\n",
    "df_flights.shape"
   ]
  },
  {
   "cell_type": "code",
   "execution_count": 29,
   "metadata": {},
   "outputs": [
    {
     "data": {
      "text/plain": [
       "0   2022-01-06\n",
       "1   2022-01-06\n",
       "2   2022-01-06\n",
       "3   2022-01-06\n",
       "4   2022-01-06\n",
       "Name: FlightDate, dtype: datetime64[ns]"
      ]
     },
     "execution_count": 29,
     "metadata": {},
     "output_type": "execute_result"
    }
   ],
   "source": [
    "## clean the data by removing spaces\n",
    "df_flights= df_flights.rename(columns={'Operating_Airline ' : 'Operating_Airline'})\n",
    "## Format column data from [0,1] -> boolean\n",
    "df_flights[\"Cancelled\"] = df_flights[\"Cancelled\"].astype(\"bool\")\n",
    "## Converting dataTypes\n",
    "df_flights[\"FlightDate\"] = pd.to_datetime(df_flights[\"FlightDate\"])\n",
    "df_flights[\"FlightDate\"].head() "
   ]
  },
  {
   "cell_type": "code",
   "execution_count": 30,
   "metadata": {},
   "outputs": [
    {
     "data": {
      "text/plain": [
       "642379051"
      ]
     },
     "execution_count": 30,
     "metadata": {},
     "output_type": "execute_result"
    }
   ],
   "source": [
    "df_flights.memory_usage().sum()"
   ]
  },
  {
   "cell_type": "code",
   "execution_count": 31,
   "metadata": {},
   "outputs": [],
   "source": [
    "df_flights = df_flights[SELECTED_COLUMNS].copy()"
   ]
  },
  {
   "cell_type": "code",
   "execution_count": 32,
   "metadata": {},
   "outputs": [
    {
     "data": {
      "text/plain": [
       "642379051"
      ]
     },
     "execution_count": 32,
     "metadata": {},
     "output_type": "execute_result"
    }
   ],
   "source": [
    "df_flights.memory_usage().sum()"
   ]
  },
  {
   "cell_type": "code",
   "execution_count": 33,
   "metadata": {},
   "outputs": [
    {
     "data": {
      "text/plain": [
       "0.37254906618595524"
      ]
     },
     "execution_count": 33,
     "metadata": {},
     "output_type": "execute_result"
    }
   ],
   "source": [
    "642379051 / 1724280395"
   ]
  },
  {
   "cell_type": "code",
   "execution_count": 34,
   "metadata": {},
   "outputs": [
    {
     "data": {
      "text/html": [
       "<div>\n",
       "<style scoped>\n",
       "    .dataframe tbody tr th:only-of-type {\n",
       "        vertical-align: middle;\n",
       "    }\n",
       "\n",
       "    .dataframe tbody tr th {\n",
       "        vertical-align: top;\n",
       "    }\n",
       "\n",
       "    .dataframe thead th {\n",
       "        text-align: right;\n",
       "    }\n",
       "</style>\n",
       "<table border=\"1\" class=\"dataframe\">\n",
       "  <thead>\n",
       "    <tr style=\"text-align: right;\">\n",
       "      <th></th>\n",
       "      <th>FlightDate</th>\n",
       "      <th>Operating_Airline</th>\n",
       "      <th>OriginAirportID</th>\n",
       "      <th>Origin</th>\n",
       "      <th>OriginCityName</th>\n",
       "      <th>OriginState</th>\n",
       "      <th>DestAirportID</th>\n",
       "      <th>Dest</th>\n",
       "      <th>DestCityName</th>\n",
       "      <th>DestState</th>\n",
       "      <th>...</th>\n",
       "      <th>Distance</th>\n",
       "      <th>DistanceGroup</th>\n",
       "      <th>CarrierDelay</th>\n",
       "      <th>WeatherDelay</th>\n",
       "      <th>NASDelay</th>\n",
       "      <th>SecurityDelay</th>\n",
       "      <th>LateAircraftDelay</th>\n",
       "      <th>FirstDepTime</th>\n",
       "      <th>TotalAddGTime</th>\n",
       "      <th>LongestAddGTime</th>\n",
       "    </tr>\n",
       "  </thead>\n",
       "  <tbody>\n",
       "    <tr>\n",
       "      <th>0</th>\n",
       "      <td>2022-01-06</td>\n",
       "      <td>DL</td>\n",
       "      <td>11697</td>\n",
       "      <td>FLL</td>\n",
       "      <td>Fort Lauderdale, FL</td>\n",
       "      <td>FL</td>\n",
       "      <td>12953</td>\n",
       "      <td>LGA</td>\n",
       "      <td>New York, NY</td>\n",
       "      <td>NY</td>\n",
       "      <td>...</td>\n",
       "      <td>1076.0</td>\n",
       "      <td>5</td>\n",
       "      <td>NaN</td>\n",
       "      <td>NaN</td>\n",
       "      <td>NaN</td>\n",
       "      <td>NaN</td>\n",
       "      <td>NaN</td>\n",
       "      <td>NaN</td>\n",
       "      <td>NaN</td>\n",
       "      <td>NaN</td>\n",
       "    </tr>\n",
       "    <tr>\n",
       "      <th>1</th>\n",
       "      <td>2022-01-06</td>\n",
       "      <td>DL</td>\n",
       "      <td>10397</td>\n",
       "      <td>ATL</td>\n",
       "      <td>Atlanta, GA</td>\n",
       "      <td>GA</td>\n",
       "      <td>11697</td>\n",
       "      <td>FLL</td>\n",
       "      <td>Fort Lauderdale, FL</td>\n",
       "      <td>FL</td>\n",
       "      <td>...</td>\n",
       "      <td>581.0</td>\n",
       "      <td>3</td>\n",
       "      <td>NaN</td>\n",
       "      <td>NaN</td>\n",
       "      <td>NaN</td>\n",
       "      <td>NaN</td>\n",
       "      <td>NaN</td>\n",
       "      <td>NaN</td>\n",
       "      <td>NaN</td>\n",
       "      <td>NaN</td>\n",
       "    </tr>\n",
       "    <tr>\n",
       "      <th>2</th>\n",
       "      <td>2022-01-06</td>\n",
       "      <td>DL</td>\n",
       "      <td>11697</td>\n",
       "      <td>FLL</td>\n",
       "      <td>Fort Lauderdale, FL</td>\n",
       "      <td>FL</td>\n",
       "      <td>10397</td>\n",
       "      <td>ATL</td>\n",
       "      <td>Atlanta, GA</td>\n",
       "      <td>GA</td>\n",
       "      <td>...</td>\n",
       "      <td>581.0</td>\n",
       "      <td>3</td>\n",
       "      <td>NaN</td>\n",
       "      <td>NaN</td>\n",
       "      <td>NaN</td>\n",
       "      <td>NaN</td>\n",
       "      <td>NaN</td>\n",
       "      <td>NaN</td>\n",
       "      <td>NaN</td>\n",
       "      <td>NaN</td>\n",
       "    </tr>\n",
       "    <tr>\n",
       "      <th>3</th>\n",
       "      <td>2022-01-06</td>\n",
       "      <td>DL</td>\n",
       "      <td>11697</td>\n",
       "      <td>FLL</td>\n",
       "      <td>Fort Lauderdale, FL</td>\n",
       "      <td>FL</td>\n",
       "      <td>14492</td>\n",
       "      <td>RDU</td>\n",
       "      <td>Raleigh/Durham, NC</td>\n",
       "      <td>NC</td>\n",
       "      <td>...</td>\n",
       "      <td>680.0</td>\n",
       "      <td>3</td>\n",
       "      <td>NaN</td>\n",
       "      <td>NaN</td>\n",
       "      <td>NaN</td>\n",
       "      <td>NaN</td>\n",
       "      <td>NaN</td>\n",
       "      <td>NaN</td>\n",
       "      <td>NaN</td>\n",
       "      <td>NaN</td>\n",
       "    </tr>\n",
       "    <tr>\n",
       "      <th>4</th>\n",
       "      <td>2022-01-06</td>\n",
       "      <td>DL</td>\n",
       "      <td>10397</td>\n",
       "      <td>ATL</td>\n",
       "      <td>Atlanta, GA</td>\n",
       "      <td>GA</td>\n",
       "      <td>12448</td>\n",
       "      <td>JAN</td>\n",
       "      <td>Jackson/Vicksburg, MS</td>\n",
       "      <td>MS</td>\n",
       "      <td>...</td>\n",
       "      <td>341.0</td>\n",
       "      <td>2</td>\n",
       "      <td>NaN</td>\n",
       "      <td>NaN</td>\n",
       "      <td>NaN</td>\n",
       "      <td>NaN</td>\n",
       "      <td>NaN</td>\n",
       "      <td>NaN</td>\n",
       "      <td>NaN</td>\n",
       "      <td>NaN</td>\n",
       "    </tr>\n",
       "  </tbody>\n",
       "</table>\n",
       "<p>5 rows × 46 columns</p>\n",
       "</div>"
      ],
      "text/plain": [
       "  FlightDate Operating_Airline  OriginAirportID Origin       OriginCityName  \\\n",
       "0 2022-01-06                DL            11697    FLL  Fort Lauderdale, FL   \n",
       "1 2022-01-06                DL            10397    ATL          Atlanta, GA   \n",
       "2 2022-01-06                DL            11697    FLL  Fort Lauderdale, FL   \n",
       "3 2022-01-06                DL            11697    FLL  Fort Lauderdale, FL   \n",
       "4 2022-01-06                DL            10397    ATL          Atlanta, GA   \n",
       "\n",
       "  OriginState  DestAirportID Dest           DestCityName DestState  ...  \\\n",
       "0          FL          12953  LGA           New York, NY        NY  ...   \n",
       "1          GA          11697  FLL    Fort Lauderdale, FL        FL  ...   \n",
       "2          FL          10397  ATL            Atlanta, GA        GA  ...   \n",
       "3          FL          14492  RDU     Raleigh/Durham, NC        NC  ...   \n",
       "4          GA          12448  JAN  Jackson/Vicksburg, MS        MS  ...   \n",
       "\n",
       "  Distance  DistanceGroup  CarrierDelay  WeatherDelay  NASDelay  \\\n",
       "0   1076.0              5           NaN           NaN       NaN   \n",
       "1    581.0              3           NaN           NaN       NaN   \n",
       "2    581.0              3           NaN           NaN       NaN   \n",
       "3    680.0              3           NaN           NaN       NaN   \n",
       "4    341.0              2           NaN           NaN       NaN   \n",
       "\n",
       "   SecurityDelay  LateAircraftDelay FirstDepTime  TotalAddGTime  \\\n",
       "0            NaN                NaN          NaN            NaN   \n",
       "1            NaN                NaN          NaN            NaN   \n",
       "2            NaN                NaN          NaN            NaN   \n",
       "3            NaN                NaN          NaN            NaN   \n",
       "4            NaN                NaN          NaN            NaN   \n",
       "\n",
       "   LongestAddGTime  \n",
       "0              NaN  \n",
       "1              NaN  \n",
       "2              NaN  \n",
       "3              NaN  \n",
       "4              NaN  \n",
       "\n",
       "[5 rows x 46 columns]"
      ]
     },
     "execution_count": 34,
     "metadata": {},
     "output_type": "execute_result"
    }
   ],
   "source": [
    "df_flights.head()"
   ]
  },
  {
   "cell_type": "code",
   "execution_count": 35,
   "metadata": {},
   "outputs": [
    {
     "data": {
      "text/plain": [
       "FlightDate              datetime64[ns]\n",
       "Operating_Airline               object\n",
       "OriginAirportID                  int64\n",
       "Origin                          object\n",
       "OriginCityName                  object\n",
       "OriginState                     object\n",
       "DestAirportID                    int64\n",
       "Dest                            object\n",
       "DestCityName                    object\n",
       "DestState                       object\n",
       "DestStateName                   object\n",
       "CRSDepTime                       int64\n",
       "DepTime                        float64\n",
       "DepDelay                       float64\n",
       "DepDelayMinutes                float64\n",
       "DepDel15                       float64\n",
       "DepartureDelayGroups           float64\n",
       "DepTimeBlk                      object\n",
       "TaxiOut                        float64\n",
       "WheelsOff                      float64\n",
       "WheelsOn                       float64\n",
       "TaxiIn                         float64\n",
       "CRSArrTime                       int64\n",
       "ArrTime                        float64\n",
       "ArrDelay                       float64\n",
       "ArrDelayMinutes                float64\n",
       "ArrDel15                       float64\n",
       "ArrivalDelayGroups             float64\n",
       "ArrTimeBlk                      object\n",
       "Cancelled                         bool\n",
       "CancellationCode                object\n",
       "Diverted                       float64\n",
       "CRSElapsedTime                 float64\n",
       "ActualElapsedTime              float64\n",
       "AirTime                        float64\n",
       "Flights                        float64\n",
       "Distance                       float64\n",
       "DistanceGroup                    int64\n",
       "CarrierDelay                   float64\n",
       "WeatherDelay                   float64\n",
       "NASDelay                       float64\n",
       "SecurityDelay                  float64\n",
       "LateAircraftDelay              float64\n",
       "FirstDepTime                   float64\n",
       "TotalAddGTime                  float64\n",
       "LongestAddGTime                float64\n",
       "dtype: object"
      ]
     },
     "execution_count": 35,
     "metadata": {},
     "output_type": "execute_result"
    }
   ],
   "source": [
    "df_flights.dtypes"
   ]
  },
  {
   "cell_type": "code",
   "execution_count": null,
   "metadata": {},
   "outputs": [],
   "source": []
  },
  {
   "cell_type": "markdown",
   "metadata": {},
   "source": [
    "##### Understanding the data"
   ]
  },
  {
   "cell_type": "code",
   "execution_count": 36,
   "metadata": {},
   "outputs": [
    {
     "data": {
      "text/plain": [
       "['FlightDate',\n",
       " 'Operating_Airline',\n",
       " 'OriginAirportID',\n",
       " 'Origin',\n",
       " 'OriginCityName',\n",
       " 'OriginState',\n",
       " 'DestAirportID',\n",
       " 'Dest',\n",
       " 'DestCityName',\n",
       " 'DestState',\n",
       " 'DestStateName',\n",
       " 'CRSDepTime',\n",
       " 'DepTime',\n",
       " 'DepDelay',\n",
       " 'DepDelayMinutes',\n",
       " 'DepDel15',\n",
       " 'DepartureDelayGroups',\n",
       " 'DepTimeBlk',\n",
       " 'TaxiOut',\n",
       " 'WheelsOff',\n",
       " 'WheelsOn',\n",
       " 'TaxiIn',\n",
       " 'CRSArrTime',\n",
       " 'ArrTime',\n",
       " 'ArrDelay',\n",
       " 'ArrDelayMinutes',\n",
       " 'ArrDel15',\n",
       " 'ArrivalDelayGroups',\n",
       " 'ArrTimeBlk',\n",
       " 'Cancelled',\n",
       " 'CancellationCode',\n",
       " 'Diverted',\n",
       " 'CRSElapsedTime',\n",
       " 'ActualElapsedTime',\n",
       " 'AirTime',\n",
       " 'Flights',\n",
       " 'Distance',\n",
       " 'DistanceGroup',\n",
       " 'CarrierDelay',\n",
       " 'WeatherDelay',\n",
       " 'NASDelay',\n",
       " 'SecurityDelay',\n",
       " 'LateAircraftDelay',\n",
       " 'FirstDepTime',\n",
       " 'TotalAddGTime',\n",
       " 'LongestAddGTime']"
      ]
     },
     "execution_count": 36,
     "metadata": {},
     "output_type": "execute_result"
    }
   ],
   "source": [
    "df_flights.columns.to_list()"
   ]
  },
  {
   "cell_type": "code",
   "execution_count": 37,
   "metadata": {},
   "outputs": [
    {
     "data": {
      "text/plain": [
       "FlightDate              datetime64[ns]\n",
       "Operating_Airline               object\n",
       "OriginAirportID                  int64\n",
       "Origin                          object\n",
       "OriginCityName                  object\n",
       "OriginState                     object\n",
       "DestAirportID                    int64\n",
       "Dest                            object\n",
       "DestCityName                    object\n",
       "DestState                       object\n",
       "DestStateName                   object\n",
       "CRSDepTime                       int64\n",
       "DepTime                        float64\n",
       "DepDelay                       float64\n",
       "DepDelayMinutes                float64\n",
       "DepDel15                       float64\n",
       "DepartureDelayGroups           float64\n",
       "DepTimeBlk                      object\n",
       "TaxiOut                        float64\n",
       "WheelsOff                      float64\n",
       "WheelsOn                       float64\n",
       "TaxiIn                         float64\n",
       "CRSArrTime                       int64\n",
       "ArrTime                        float64\n",
       "ArrDelay                       float64\n",
       "ArrDelayMinutes                float64\n",
       "ArrDel15                       float64\n",
       "ArrivalDelayGroups             float64\n",
       "ArrTimeBlk                      object\n",
       "Cancelled                         bool\n",
       "CancellationCode                object\n",
       "Diverted                       float64\n",
       "CRSElapsedTime                 float64\n",
       "ActualElapsedTime              float64\n",
       "AirTime                        float64\n",
       "Flights                        float64\n",
       "Distance                       float64\n",
       "DistanceGroup                    int64\n",
       "CarrierDelay                   float64\n",
       "WeatherDelay                   float64\n",
       "NASDelay                       float64\n",
       "SecurityDelay                  float64\n",
       "LateAircraftDelay              float64\n",
       "FirstDepTime                   float64\n",
       "TotalAddGTime                  float64\n",
       "LongestAddGTime                float64\n",
       "dtype: object"
      ]
     },
     "execution_count": 37,
     "metadata": {},
     "output_type": "execute_result"
    }
   ],
   "source": [
    "df_flights.dtypes"
   ]
  },
  {
   "cell_type": "code",
   "execution_count": 38,
   "metadata": {},
   "outputs": [
    {
     "data": {
      "text/plain": [
       "(1779443, 46)"
      ]
     },
     "execution_count": 38,
     "metadata": {},
     "output_type": "execute_result"
    }
   ],
   "source": [
    "df_flights.shape"
   ]
  },
  {
   "cell_type": "code",
   "execution_count": 39,
   "metadata": {},
   "outputs": [
    {
     "data": {
      "text/html": [
       "<div>\n",
       "<style scoped>\n",
       "    .dataframe tbody tr th:only-of-type {\n",
       "        vertical-align: middle;\n",
       "    }\n",
       "\n",
       "    .dataframe tbody tr th {\n",
       "        vertical-align: top;\n",
       "    }\n",
       "\n",
       "    .dataframe thead th {\n",
       "        text-align: right;\n",
       "    }\n",
       "</style>\n",
       "<table border=\"1\" class=\"dataframe\">\n",
       "  <thead>\n",
       "    <tr style=\"text-align: right;\">\n",
       "      <th></th>\n",
       "      <th>FlightDate</th>\n",
       "      <th>Operating_Airline</th>\n",
       "      <th>OriginAirportID</th>\n",
       "      <th>Origin</th>\n",
       "      <th>OriginCityName</th>\n",
       "      <th>OriginState</th>\n",
       "      <th>DestAirportID</th>\n",
       "      <th>Dest</th>\n",
       "      <th>DestCityName</th>\n",
       "      <th>DestState</th>\n",
       "      <th>...</th>\n",
       "      <th>Distance</th>\n",
       "      <th>DistanceGroup</th>\n",
       "      <th>CarrierDelay</th>\n",
       "      <th>WeatherDelay</th>\n",
       "      <th>NASDelay</th>\n",
       "      <th>SecurityDelay</th>\n",
       "      <th>LateAircraftDelay</th>\n",
       "      <th>FirstDepTime</th>\n",
       "      <th>TotalAddGTime</th>\n",
       "      <th>LongestAddGTime</th>\n",
       "    </tr>\n",
       "  </thead>\n",
       "  <tbody>\n",
       "    <tr>\n",
       "      <th>1779438</th>\n",
       "      <td>2022-08-10</td>\n",
       "      <td>OH</td>\n",
       "      <td>13577</td>\n",
       "      <td>MYR</td>\n",
       "      <td>Myrtle Beach, SC</td>\n",
       "      <td>SC</td>\n",
       "      <td>14100</td>\n",
       "      <td>PHL</td>\n",
       "      <td>Philadelphia, PA</td>\n",
       "      <td>PA</td>\n",
       "      <td>...</td>\n",
       "      <td>473.0</td>\n",
       "      <td>2</td>\n",
       "      <td>0.0</td>\n",
       "      <td>0.0</td>\n",
       "      <td>0.0</td>\n",
       "      <td>0.0</td>\n",
       "      <td>54.0</td>\n",
       "      <td>NaN</td>\n",
       "      <td>NaN</td>\n",
       "      <td>NaN</td>\n",
       "    </tr>\n",
       "    <tr>\n",
       "      <th>1779439</th>\n",
       "      <td>2022-08-16</td>\n",
       "      <td>OH</td>\n",
       "      <td>13577</td>\n",
       "      <td>MYR</td>\n",
       "      <td>Myrtle Beach, SC</td>\n",
       "      <td>SC</td>\n",
       "      <td>14100</td>\n",
       "      <td>PHL</td>\n",
       "      <td>Philadelphia, PA</td>\n",
       "      <td>PA</td>\n",
       "      <td>...</td>\n",
       "      <td>473.0</td>\n",
       "      <td>2</td>\n",
       "      <td>NaN</td>\n",
       "      <td>NaN</td>\n",
       "      <td>NaN</td>\n",
       "      <td>NaN</td>\n",
       "      <td>NaN</td>\n",
       "      <td>NaN</td>\n",
       "      <td>NaN</td>\n",
       "      <td>NaN</td>\n",
       "    </tr>\n",
       "    <tr>\n",
       "      <th>1779440</th>\n",
       "      <td>2022-08-17</td>\n",
       "      <td>OH</td>\n",
       "      <td>13577</td>\n",
       "      <td>MYR</td>\n",
       "      <td>Myrtle Beach, SC</td>\n",
       "      <td>SC</td>\n",
       "      <td>14100</td>\n",
       "      <td>PHL</td>\n",
       "      <td>Philadelphia, PA</td>\n",
       "      <td>PA</td>\n",
       "      <td>...</td>\n",
       "      <td>473.0</td>\n",
       "      <td>2</td>\n",
       "      <td>0.0</td>\n",
       "      <td>0.0</td>\n",
       "      <td>0.0</td>\n",
       "      <td>0.0</td>\n",
       "      <td>28.0</td>\n",
       "      <td>NaN</td>\n",
       "      <td>NaN</td>\n",
       "      <td>NaN</td>\n",
       "    </tr>\n",
       "    <tr>\n",
       "      <th>1779441</th>\n",
       "      <td>2022-08-18</td>\n",
       "      <td>OH</td>\n",
       "      <td>13577</td>\n",
       "      <td>MYR</td>\n",
       "      <td>Myrtle Beach, SC</td>\n",
       "      <td>SC</td>\n",
       "      <td>14100</td>\n",
       "      <td>PHL</td>\n",
       "      <td>Philadelphia, PA</td>\n",
       "      <td>PA</td>\n",
       "      <td>...</td>\n",
       "      <td>473.0</td>\n",
       "      <td>2</td>\n",
       "      <td>NaN</td>\n",
       "      <td>NaN</td>\n",
       "      <td>NaN</td>\n",
       "      <td>NaN</td>\n",
       "      <td>NaN</td>\n",
       "      <td>NaN</td>\n",
       "      <td>NaN</td>\n",
       "      <td>NaN</td>\n",
       "    </tr>\n",
       "    <tr>\n",
       "      <th>1779442</th>\n",
       "      <td>2022-08-19</td>\n",
       "      <td>OH</td>\n",
       "      <td>13577</td>\n",
       "      <td>MYR</td>\n",
       "      <td>Myrtle Beach, SC</td>\n",
       "      <td>SC</td>\n",
       "      <td>14100</td>\n",
       "      <td>PHL</td>\n",
       "      <td>Philadelphia, PA</td>\n",
       "      <td>PA</td>\n",
       "      <td>...</td>\n",
       "      <td>473.0</td>\n",
       "      <td>2</td>\n",
       "      <td>NaN</td>\n",
       "      <td>NaN</td>\n",
       "      <td>NaN</td>\n",
       "      <td>NaN</td>\n",
       "      <td>NaN</td>\n",
       "      <td>NaN</td>\n",
       "      <td>NaN</td>\n",
       "      <td>NaN</td>\n",
       "    </tr>\n",
       "  </tbody>\n",
       "</table>\n",
       "<p>5 rows × 46 columns</p>\n",
       "</div>"
      ],
      "text/plain": [
       "        FlightDate Operating_Airline  OriginAirportID Origin  \\\n",
       "1779438 2022-08-10                OH            13577    MYR   \n",
       "1779439 2022-08-16                OH            13577    MYR   \n",
       "1779440 2022-08-17                OH            13577    MYR   \n",
       "1779441 2022-08-18                OH            13577    MYR   \n",
       "1779442 2022-08-19                OH            13577    MYR   \n",
       "\n",
       "           OriginCityName OriginState  DestAirportID Dest      DestCityName  \\\n",
       "1779438  Myrtle Beach, SC          SC          14100  PHL  Philadelphia, PA   \n",
       "1779439  Myrtle Beach, SC          SC          14100  PHL  Philadelphia, PA   \n",
       "1779440  Myrtle Beach, SC          SC          14100  PHL  Philadelphia, PA   \n",
       "1779441  Myrtle Beach, SC          SC          14100  PHL  Philadelphia, PA   \n",
       "1779442  Myrtle Beach, SC          SC          14100  PHL  Philadelphia, PA   \n",
       "\n",
       "        DestState  ... Distance  DistanceGroup  CarrierDelay  WeatherDelay  \\\n",
       "1779438        PA  ...    473.0              2           0.0           0.0   \n",
       "1779439        PA  ...    473.0              2           NaN           NaN   \n",
       "1779440        PA  ...    473.0              2           0.0           0.0   \n",
       "1779441        PA  ...    473.0              2           NaN           NaN   \n",
       "1779442        PA  ...    473.0              2           NaN           NaN   \n",
       "\n",
       "         NASDelay  SecurityDelay  LateAircraftDelay FirstDepTime  \\\n",
       "1779438       0.0            0.0               54.0          NaN   \n",
       "1779439       NaN            NaN                NaN          NaN   \n",
       "1779440       0.0            0.0               28.0          NaN   \n",
       "1779441       NaN            NaN                NaN          NaN   \n",
       "1779442       NaN            NaN                NaN          NaN   \n",
       "\n",
       "         TotalAddGTime  LongestAddGTime  \n",
       "1779438            NaN              NaN  \n",
       "1779439            NaN              NaN  \n",
       "1779440            NaN              NaN  \n",
       "1779441            NaN              NaN  \n",
       "1779442            NaN              NaN  \n",
       "\n",
       "[5 rows x 46 columns]"
      ]
     },
     "execution_count": 39,
     "metadata": {},
     "output_type": "execute_result"
    }
   ],
   "source": [
    "df_flights.tail()"
   ]
  },
  {
   "cell_type": "code",
   "execution_count": 40,
   "metadata": {},
   "outputs": [
    {
     "data": {
      "text/html": [
       "<div>\n",
       "<style scoped>\n",
       "    .dataframe tbody tr th:only-of-type {\n",
       "        vertical-align: middle;\n",
       "    }\n",
       "\n",
       "    .dataframe tbody tr th {\n",
       "        vertical-align: top;\n",
       "    }\n",
       "\n",
       "    .dataframe thead th {\n",
       "        text-align: right;\n",
       "    }\n",
       "</style>\n",
       "<table border=\"1\" class=\"dataframe\">\n",
       "  <thead>\n",
       "    <tr style=\"text-align: right;\">\n",
       "      <th></th>\n",
       "      <th>OriginAirportID</th>\n",
       "      <th>DestAirportID</th>\n",
       "      <th>CRSDepTime</th>\n",
       "      <th>DepTime</th>\n",
       "      <th>DepDelay</th>\n",
       "      <th>DepDelayMinutes</th>\n",
       "      <th>DepDel15</th>\n",
       "      <th>DepartureDelayGroups</th>\n",
       "      <th>TaxiOut</th>\n",
       "      <th>WheelsOff</th>\n",
       "      <th>...</th>\n",
       "      <th>Distance</th>\n",
       "      <th>DistanceGroup</th>\n",
       "      <th>CarrierDelay</th>\n",
       "      <th>WeatherDelay</th>\n",
       "      <th>NASDelay</th>\n",
       "      <th>SecurityDelay</th>\n",
       "      <th>LateAircraftDelay</th>\n",
       "      <th>FirstDepTime</th>\n",
       "      <th>TotalAddGTime</th>\n",
       "      <th>LongestAddGTime</th>\n",
       "    </tr>\n",
       "  </thead>\n",
       "  <tbody>\n",
       "    <tr>\n",
       "      <th>count</th>\n",
       "      <td>1.779443e+06</td>\n",
       "      <td>1.779443e+06</td>\n",
       "      <td>1.779443e+06</td>\n",
       "      <td>1.711477e+06</td>\n",
       "      <td>1.711452e+06</td>\n",
       "      <td>1.711452e+06</td>\n",
       "      <td>1.711452e+06</td>\n",
       "      <td>1.711452e+06</td>\n",
       "      <td>1.710067e+06</td>\n",
       "      <td>1.710067e+06</td>\n",
       "      <td>...</td>\n",
       "      <td>1.779443e+06</td>\n",
       "      <td>1.779443e+06</td>\n",
       "      <td>374132.000000</td>\n",
       "      <td>374132.000000</td>\n",
       "      <td>374132.000000</td>\n",
       "      <td>374132.000000</td>\n",
       "      <td>374132.000000</td>\n",
       "      <td>12148.000000</td>\n",
       "      <td>12148.000000</td>\n",
       "      <td>12148.000000</td>\n",
       "    </tr>\n",
       "    <tr>\n",
       "      <th>mean</th>\n",
       "      <td>1.265515e+04</td>\n",
       "      <td>1.265508e+04</td>\n",
       "      <td>1.332487e+03</td>\n",
       "      <td>1.336607e+03</td>\n",
       "      <td>1.365804e+01</td>\n",
       "      <td>1.666825e+01</td>\n",
       "      <td>2.242856e-01</td>\n",
       "      <td>2.467034e-01</td>\n",
       "      <td>1.702023e+01</td>\n",
       "      <td>1.358015e+03</td>\n",
       "      <td>...</td>\n",
       "      <td>7.952382e+02</td>\n",
       "      <td>3.651882e+00</td>\n",
       "      <td>28.193849</td>\n",
       "      <td>4.304932</td>\n",
       "      <td>11.512084</td>\n",
       "      <td>0.153141</td>\n",
       "      <td>25.542918</td>\n",
       "      <td>1369.281116</td>\n",
       "      <td>45.536878</td>\n",
       "      <td>44.550955</td>\n",
       "    </tr>\n",
       "    <tr>\n",
       "      <th>std</th>\n",
       "      <td>1.523551e+03</td>\n",
       "      <td>1.523547e+03</td>\n",
       "      <td>4.921649e+02</td>\n",
       "      <td>5.083030e+02</td>\n",
       "      <td>5.494543e+01</td>\n",
       "      <td>5.390303e+01</td>\n",
       "      <td>4.171111e-01</td>\n",
       "      <td>2.403060e+00</td>\n",
       "      <td>9.718800e+00</td>\n",
       "      <td>5.107383e+02</td>\n",
       "      <td>...</td>\n",
       "      <td>5.936299e+02</td>\n",
       "      <td>2.330581e+00</td>\n",
       "      <td>77.275369</td>\n",
       "      <td>31.587205</td>\n",
       "      <td>31.980698</td>\n",
       "      <td>4.117464</td>\n",
       "      <td>54.217227</td>\n",
       "      <td>493.925456</td>\n",
       "      <td>41.683290</td>\n",
       "      <td>39.995099</td>\n",
       "    </tr>\n",
       "    <tr>\n",
       "      <th>min</th>\n",
       "      <td>1.013500e+04</td>\n",
       "      <td>1.013500e+04</td>\n",
       "      <td>1.000000e+00</td>\n",
       "      <td>1.000000e+00</td>\n",
       "      <td>-6.000000e+01</td>\n",
       "      <td>0.000000e+00</td>\n",
       "      <td>0.000000e+00</td>\n",
       "      <td>-2.000000e+00</td>\n",
       "      <td>1.000000e+00</td>\n",
       "      <td>1.000000e+00</td>\n",
       "      <td>...</td>\n",
       "      <td>3.100000e+01</td>\n",
       "      <td>1.000000e+00</td>\n",
       "      <td>0.000000</td>\n",
       "      <td>0.000000</td>\n",
       "      <td>0.000000</td>\n",
       "      <td>0.000000</td>\n",
       "      <td>0.000000</td>\n",
       "      <td>1.000000</td>\n",
       "      <td>1.000000</td>\n",
       "      <td>1.000000</td>\n",
       "    </tr>\n",
       "    <tr>\n",
       "      <th>25%</th>\n",
       "      <td>1.129200e+04</td>\n",
       "      <td>1.129200e+04</td>\n",
       "      <td>9.150000e+02</td>\n",
       "      <td>9.180000e+02</td>\n",
       "      <td>-5.000000e+00</td>\n",
       "      <td>0.000000e+00</td>\n",
       "      <td>0.000000e+00</td>\n",
       "      <td>-1.000000e+00</td>\n",
       "      <td>1.100000e+01</td>\n",
       "      <td>9.320000e+02</td>\n",
       "      <td>...</td>\n",
       "      <td>3.640000e+02</td>\n",
       "      <td>2.000000e+00</td>\n",
       "      <td>0.000000</td>\n",
       "      <td>0.000000</td>\n",
       "      <td>0.000000</td>\n",
       "      <td>0.000000</td>\n",
       "      <td>0.000000</td>\n",
       "      <td>936.000000</td>\n",
       "      <td>18.000000</td>\n",
       "      <td>18.000000</td>\n",
       "    </tr>\n",
       "    <tr>\n",
       "      <th>50%</th>\n",
       "      <td>1.288900e+04</td>\n",
       "      <td>1.288900e+04</td>\n",
       "      <td>1.322000e+03</td>\n",
       "      <td>1.325000e+03</td>\n",
       "      <td>-2.000000e+00</td>\n",
       "      <td>0.000000e+00</td>\n",
       "      <td>0.000000e+00</td>\n",
       "      <td>-1.000000e+00</td>\n",
       "      <td>1.500000e+01</td>\n",
       "      <td>1.338000e+03</td>\n",
       "      <td>...</td>\n",
       "      <td>6.390000e+02</td>\n",
       "      <td>3.000000e+00</td>\n",
       "      <td>8.000000</td>\n",
       "      <td>0.000000</td>\n",
       "      <td>0.000000</td>\n",
       "      <td>0.000000</td>\n",
       "      <td>0.000000</td>\n",
       "      <td>1434.000000</td>\n",
       "      <td>31.000000</td>\n",
       "      <td>31.000000</td>\n",
       "    </tr>\n",
       "    <tr>\n",
       "      <th>75%</th>\n",
       "      <td>1.400400e+04</td>\n",
       "      <td>1.398300e+04</td>\n",
       "      <td>1.737000e+03</td>\n",
       "      <td>1.747000e+03</td>\n",
       "      <td>1.100000e+01</td>\n",
       "      <td>1.100000e+01</td>\n",
       "      <td>0.000000e+00</td>\n",
       "      <td>0.000000e+00</td>\n",
       "      <td>1.900000e+01</td>\n",
       "      <td>1.801000e+03</td>\n",
       "      <td>...</td>\n",
       "      <td>1.027000e+03</td>\n",
       "      <td>5.000000e+00</td>\n",
       "      <td>27.000000</td>\n",
       "      <td>0.000000</td>\n",
       "      <td>14.000000</td>\n",
       "      <td>0.000000</td>\n",
       "      <td>30.000000</td>\n",
       "      <td>1740.000000</td>\n",
       "      <td>57.000000</td>\n",
       "      <td>56.000000</td>\n",
       "    </tr>\n",
       "    <tr>\n",
       "      <th>max</th>\n",
       "      <td>1.686900e+04</td>\n",
       "      <td>1.686900e+04</td>\n",
       "      <td>2.359000e+03</td>\n",
       "      <td>2.400000e+03</td>\n",
       "      <td>5.995000e+03</td>\n",
       "      <td>5.995000e+03</td>\n",
       "      <td>1.000000e+00</td>\n",
       "      <td>1.200000e+01</td>\n",
       "      <td>2.210000e+02</td>\n",
       "      <td>2.400000e+03</td>\n",
       "      <td>...</td>\n",
       "      <td>5.095000e+03</td>\n",
       "      <td>1.100000e+01</td>\n",
       "      <td>5986.000000</td>\n",
       "      <td>1665.000000</td>\n",
       "      <td>1522.000000</td>\n",
       "      <td>1245.000000</td>\n",
       "      <td>2098.000000</td>\n",
       "      <td>2400.000000</td>\n",
       "      <td>376.000000</td>\n",
       "      <td>341.000000</td>\n",
       "    </tr>\n",
       "  </tbody>\n",
       "</table>\n",
       "<p>8 rows × 33 columns</p>\n",
       "</div>"
      ],
      "text/plain": [
       "       OriginAirportID  DestAirportID    CRSDepTime       DepTime  \\\n",
       "count     1.779443e+06   1.779443e+06  1.779443e+06  1.711477e+06   \n",
       "mean      1.265515e+04   1.265508e+04  1.332487e+03  1.336607e+03   \n",
       "std       1.523551e+03   1.523547e+03  4.921649e+02  5.083030e+02   \n",
       "min       1.013500e+04   1.013500e+04  1.000000e+00  1.000000e+00   \n",
       "25%       1.129200e+04   1.129200e+04  9.150000e+02  9.180000e+02   \n",
       "50%       1.288900e+04   1.288900e+04  1.322000e+03  1.325000e+03   \n",
       "75%       1.400400e+04   1.398300e+04  1.737000e+03  1.747000e+03   \n",
       "max       1.686900e+04   1.686900e+04  2.359000e+03  2.400000e+03   \n",
       "\n",
       "           DepDelay  DepDelayMinutes      DepDel15  DepartureDelayGroups  \\\n",
       "count  1.711452e+06     1.711452e+06  1.711452e+06          1.711452e+06   \n",
       "mean   1.365804e+01     1.666825e+01  2.242856e-01          2.467034e-01   \n",
       "std    5.494543e+01     5.390303e+01  4.171111e-01          2.403060e+00   \n",
       "min   -6.000000e+01     0.000000e+00  0.000000e+00         -2.000000e+00   \n",
       "25%   -5.000000e+00     0.000000e+00  0.000000e+00         -1.000000e+00   \n",
       "50%   -2.000000e+00     0.000000e+00  0.000000e+00         -1.000000e+00   \n",
       "75%    1.100000e+01     1.100000e+01  0.000000e+00          0.000000e+00   \n",
       "max    5.995000e+03     5.995000e+03  1.000000e+00          1.200000e+01   \n",
       "\n",
       "            TaxiOut     WheelsOff  ...      Distance  DistanceGroup  \\\n",
       "count  1.710067e+06  1.710067e+06  ...  1.779443e+06   1.779443e+06   \n",
       "mean   1.702023e+01  1.358015e+03  ...  7.952382e+02   3.651882e+00   \n",
       "std    9.718800e+00  5.107383e+02  ...  5.936299e+02   2.330581e+00   \n",
       "min    1.000000e+00  1.000000e+00  ...  3.100000e+01   1.000000e+00   \n",
       "25%    1.100000e+01  9.320000e+02  ...  3.640000e+02   2.000000e+00   \n",
       "50%    1.500000e+01  1.338000e+03  ...  6.390000e+02   3.000000e+00   \n",
       "75%    1.900000e+01  1.801000e+03  ...  1.027000e+03   5.000000e+00   \n",
       "max    2.210000e+02  2.400000e+03  ...  5.095000e+03   1.100000e+01   \n",
       "\n",
       "        CarrierDelay   WeatherDelay       NASDelay  SecurityDelay  \\\n",
       "count  374132.000000  374132.000000  374132.000000  374132.000000   \n",
       "mean       28.193849       4.304932      11.512084       0.153141   \n",
       "std        77.275369      31.587205      31.980698       4.117464   \n",
       "min         0.000000       0.000000       0.000000       0.000000   \n",
       "25%         0.000000       0.000000       0.000000       0.000000   \n",
       "50%         8.000000       0.000000       0.000000       0.000000   \n",
       "75%        27.000000       0.000000      14.000000       0.000000   \n",
       "max      5986.000000    1665.000000    1522.000000    1245.000000   \n",
       "\n",
       "       LateAircraftDelay  FirstDepTime  TotalAddGTime  LongestAddGTime  \n",
       "count      374132.000000  12148.000000   12148.000000     12148.000000  \n",
       "mean           25.542918   1369.281116      45.536878        44.550955  \n",
       "std            54.217227    493.925456      41.683290        39.995099  \n",
       "min             0.000000      1.000000       1.000000         1.000000  \n",
       "25%             0.000000    936.000000      18.000000        18.000000  \n",
       "50%             0.000000   1434.000000      31.000000        31.000000  \n",
       "75%            30.000000   1740.000000      57.000000        56.000000  \n",
       "max          2098.000000   2400.000000     376.000000       341.000000  \n",
       "\n",
       "[8 rows x 33 columns]"
      ]
     },
     "execution_count": 40,
     "metadata": {},
     "output_type": "execute_result"
    }
   ],
   "source": [
    "df_flights.describe()"
   ]
  },
  {
   "cell_type": "markdown",
   "metadata": {},
   "source": [
    "##### Analysis of Features\n",
    "Identification of Potential Features \n",
    "- Time Series Features:\n",
    "    'Year',\n",
    "    'Quarter',\n",
    "    'Month',\n",
    "    'DayofMonth',\n",
    "    'DayOfWeek',\n",
    "    'FlightDate',\n",
    "- Flight Info:\n",
    "    - Airline: Marketing_Airline_Network\n",
    "    - Origin: Origin, OriginCityName\n",
    "    - Destination: Dest, DestCityName\n",
    "- Departure / Delay Info:\n",
    "    - CRSDepTime: Scheduled Departure\n",
    "    - DepTime: Actual Departure\n",
    "    - DepDelay: Departure Delay"
   ]
  },
  {
   "cell_type": "code",
   "execution_count": 41,
   "metadata": {},
   "outputs": [
    {
     "data": {
      "text/plain": [
       "['FlightDate',\n",
       " 'Operating_Airline',\n",
       " 'OriginAirportID',\n",
       " 'Origin',\n",
       " 'OriginCityName',\n",
       " 'OriginState',\n",
       " 'DestAirportID',\n",
       " 'Dest',\n",
       " 'DestCityName',\n",
       " 'DestState',\n",
       " 'DestStateName',\n",
       " 'CRSDepTime',\n",
       " 'DepTime',\n",
       " 'DepDelay',\n",
       " 'DepDelayMinutes',\n",
       " 'DepDel15',\n",
       " 'DepartureDelayGroups',\n",
       " 'DepTimeBlk',\n",
       " 'TaxiOut',\n",
       " 'WheelsOff',\n",
       " 'WheelsOn',\n",
       " 'TaxiIn',\n",
       " 'CRSArrTime',\n",
       " 'ArrTime',\n",
       " 'ArrDelay',\n",
       " 'ArrDelayMinutes',\n",
       " 'ArrDel15',\n",
       " 'ArrivalDelayGroups',\n",
       " 'ArrTimeBlk',\n",
       " 'Cancelled',\n",
       " 'CancellationCode',\n",
       " 'Diverted',\n",
       " 'CRSElapsedTime',\n",
       " 'ActualElapsedTime',\n",
       " 'AirTime',\n",
       " 'Flights',\n",
       " 'Distance',\n",
       " 'DistanceGroup',\n",
       " 'CarrierDelay',\n",
       " 'WeatherDelay',\n",
       " 'NASDelay',\n",
       " 'SecurityDelay',\n",
       " 'LateAircraftDelay',\n",
       " 'FirstDepTime',\n",
       " 'TotalAddGTime',\n",
       " 'LongestAddGTime']"
      ]
     },
     "execution_count": 41,
     "metadata": {},
     "output_type": "execute_result"
    }
   ],
   "source": [
    "df_flights.columns.to_list()"
   ]
  },
  {
   "cell_type": "markdown",
   "metadata": {},
   "source": [
    "#### Delays by Airline in 2022"
   ]
  },
  {
   "cell_type": "code",
   "execution_count": 42,
   "metadata": {},
   "outputs": [],
   "source": [
    "airline_csv = \"https://raw.githubusercontent.com/jenbam/airlines/master/data-raw/airlines.csv\"\n",
    "airlines = pd.read_csv(airline_csv)\n",
    "## save locally\n",
    "#airlines.to_csv(\"airlines.csv\") \n",
    "airlines.query(\"Code == '9E'\")\n",
    "#airlines\n",
    "airline_mapper = airlines.set_index(\"Code\")[\"Description\"]\n"
   ]
  },
  {
   "cell_type": "code",
   "execution_count": 43,
   "metadata": {},
   "outputs": [
    {
     "data": {
      "text/plain": [
       "WN    327327\n",
       "DL    224523\n",
       "AA    222706\n",
       "OO    192876\n",
       "UA    153764\n",
       "Name: Operating_Airline, dtype: int64"
      ]
     },
     "execution_count": 43,
     "metadata": {},
     "output_type": "execute_result"
    }
   ],
   "source": [
    "airline_counts=df_flights[\"Operating_Airline\"].value_counts()\n",
    "airline_counts.head()"
   ]
  },
  {
   "cell_type": "code",
   "execution_count": 44,
   "metadata": {},
   "outputs": [
    {
     "data": {
      "text/plain": [
       "Airline\n",
       "Southwest Airlines Co.    327327\n",
       "Delta Air Lines Inc.      224523\n",
       "American Airlines Inc.    222706\n",
       "SkyWest Airlines Inc.     192876\n",
       "United Air Lines Inc.     153764\n",
       "Name: Operating_Airline, dtype: int64"
      ]
     },
     "execution_count": 44,
     "metadata": {},
     "output_type": "execute_result"
    }
   ],
   "source": [
    "airline_counts=df_flights[\"Operating_Airline\"].value_counts()\n",
    "airline_counts\n",
    "airline_counts.index=airline_counts.index.map(\n",
    "    airlines.set_index('Code')['Description']\n",
    "    ).rename(\"Airline\")\n",
    "airline_counts.head()"
   ]
  },
  {
   "cell_type": "code",
   "execution_count": 45,
   "metadata": {},
   "outputs": [
    {
     "data": {
      "text/plain": [
       "<AxesSubplot: ylabel='Airline'>"
      ]
     },
     "execution_count": 45,
     "metadata": {},
     "output_type": "execute_result"
    },
    {
     "data": {
      "image/png": "[encoded data removed]",
      "text/plain": [
       "<Figure size 1000x1000 with 1 Axes>"
      ]
     },
     "metadata": {},
     "output_type": "display_data"
    }
   ],
   "source": [
    "airline_counts.plot(kind='barh', figsize=(10,10))"
   ]
  },
  {
   "cell_type": "code",
   "execution_count": 48,
   "metadata": {},
   "outputs": [
    {
     "data": {
      "text/plain": [
       "<AxesSubplot: ylabel='Airline'>"
      ]
     },
     "execution_count": 48,
     "metadata": {},
     "output_type": "execute_result"
    },
    {
     "data": {
      "image/png": "[encoded data removed]",
      "text/plain": [
       "<Figure size 1000x1000 with 1 Axes>"
      ]
     },
     "metadata": {},
     "output_type": "display_data"
    }
   ],
   "source": [
    "airline_counts.sort_values(ascending=True).plot(kind='barh', figsize=(10,10))"
   ]
  },
  {
   "cell_type": "code",
   "execution_count": 49,
   "metadata": {},
   "outputs": [
    {
     "data": {
      "text/html": [
       "<div>\n",
       "<style scoped>\n",
       "    .dataframe tbody tr th:only-of-type {\n",
       "        vertical-align: middle;\n",
       "    }\n",
       "\n",
       "    .dataframe tbody tr th {\n",
       "        vertical-align: top;\n",
       "    }\n",
       "\n",
       "    .dataframe thead th {\n",
       "        text-align: right;\n",
       "    }\n",
       "</style>\n",
       "<table border=\"1\" class=\"dataframe\">\n",
       "  <thead>\n",
       "    <tr style=\"text-align: right;\">\n",
       "      <th></th>\n",
       "      <th>Row Count</th>\n",
       "    </tr>\n",
       "    <tr>\n",
       "      <th>Airline</th>\n",
       "      <th></th>\n",
       "    </tr>\n",
       "  </thead>\n",
       "  <tbody>\n",
       "    <tr>\n",
       "      <th>GoJet Airlines, LLC d/b/a United Express</th>\n",
       "      <td>14975</td>\n",
       "    </tr>\n",
       "    <tr>\n",
       "      <th>Air Wisconsin Airlines Corp</th>\n",
       "      <td>16794</td>\n",
       "    </tr>\n",
       "    <tr>\n",
       "      <th>Hawaiian Airlines Inc.</th>\n",
       "      <td>18668</td>\n",
       "    </tr>\n",
       "    <tr>\n",
       "      <th>Commutair Aka Champlain Enterprises, Inc.</th>\n",
       "      <td>20265</td>\n",
       "    </tr>\n",
       "    <tr>\n",
       "      <th>Capital Cargo International</th>\n",
       "      <td>22426</td>\n",
       "    </tr>\n",
       "    <tr>\n",
       "      <th>Horizon Air</th>\n",
       "      <td>25127</td>\n",
       "    </tr>\n",
       "    <tr>\n",
       "      <th>Allegiant Air</th>\n",
       "      <td>29506</td>\n",
       "    </tr>\n",
       "    <tr>\n",
       "      <th>Mesa Airlines Inc.</th>\n",
       "      <td>30171</td>\n",
       "    </tr>\n",
       "    <tr>\n",
       "      <th>Frontier Airlines Inc.</th>\n",
       "      <td>37806</td>\n",
       "    </tr>\n",
       "    <tr>\n",
       "      <th>Spirit Air Lines</th>\n",
       "      <td>55690</td>\n",
       "    </tr>\n",
       "    <tr>\n",
       "      <th>Alaska Airlines Inc.</th>\n",
       "      <td>55980</td>\n",
       "    </tr>\n",
       "    <tr>\n",
       "      <th>Comair Inc.</th>\n",
       "      <td>57212</td>\n",
       "    </tr>\n",
       "    <tr>\n",
       "      <th>Endeavor Air Inc.</th>\n",
       "      <td>61431</td>\n",
       "    </tr>\n",
       "    <tr>\n",
       "      <th>Envoy Air</th>\n",
       "      <td>64375</td>\n",
       "    </tr>\n",
       "    <tr>\n",
       "      <th>JetBlue Airways</th>\n",
       "      <td>65755</td>\n",
       "    </tr>\n",
       "    <tr>\n",
       "      <th>Republic Airlines</th>\n",
       "      <td>82066</td>\n",
       "    </tr>\n",
       "    <tr>\n",
       "      <th>United Air Lines Inc.</th>\n",
       "      <td>153764</td>\n",
       "    </tr>\n",
       "    <tr>\n",
       "      <th>SkyWest Airlines Inc.</th>\n",
       "      <td>192876</td>\n",
       "    </tr>\n",
       "    <tr>\n",
       "      <th>American Airlines Inc.</th>\n",
       "      <td>222706</td>\n",
       "    </tr>\n",
       "    <tr>\n",
       "      <th>Delta Air Lines Inc.</th>\n",
       "      <td>224523</td>\n",
       "    </tr>\n",
       "    <tr>\n",
       "      <th>Southwest Airlines Co.</th>\n",
       "      <td>327327</td>\n",
       "    </tr>\n",
       "  </tbody>\n",
       "</table>\n",
       "</div>"
      ],
      "text/plain": [
       "                                           Row Count\n",
       "Airline                                             \n",
       "GoJet Airlines, LLC d/b/a United Express       14975\n",
       "Air Wisconsin Airlines Corp                    16794\n",
       "Hawaiian Airlines Inc.                         18668\n",
       "Commutair Aka Champlain Enterprises, Inc.      20265\n",
       "Capital Cargo International                    22426\n",
       "Horizon Air                                    25127\n",
       "Allegiant Air                                  29506\n",
       "Mesa Airlines Inc.                             30171\n",
       "Frontier Airlines Inc.                         37806\n",
       "Spirit Air Lines                               55690\n",
       "Alaska Airlines Inc.                           55980\n",
       "Comair Inc.                                    57212\n",
       "Endeavor Air Inc.                              61431\n",
       "Envoy Air                                      64375\n",
       "JetBlue Airways                                65755\n",
       "Republic Airlines                              82066\n",
       "United Air Lines Inc.                         153764\n",
       "SkyWest Airlines Inc.                         192876\n",
       "American Airlines Inc.                        222706\n",
       "Delta Air Lines Inc.                          224523\n",
       "Southwest Airlines Co.                        327327"
      ]
     },
     "execution_count": 49,
     "metadata": {},
     "output_type": "execute_result"
    }
   ],
   "source": [
    "airline_counts.sort_values(ascending=True).to_frame(\"Row Count\")"
   ]
  },
  {
   "cell_type": "code",
   "execution_count": 50,
   "metadata": {},
   "outputs": [
    {
     "ename": "ValueError",
     "evalue": "Mime type rendering requires nbformat>=4.2.0 but it is not installed",
     "output_type": "error",
     "traceback": [
      "\u001b[1;31m---------------------------------------------------------------------------\u001b[0m",
      "\u001b[1;31mValueError\u001b[0m                                Traceback (most recent call last)",
      "File \u001b[1;32mc:\\Users\\jenni\\.virtualenvs\\georgetown_capstone-1Fa6Wwg2\\lib\\site-packages\\IPython\\core\\formatters.py:921\u001b[0m, in \u001b[0;36mIPythonDisplayFormatter.__call__\u001b[1;34m(self, obj)\u001b[0m\n\u001b[0;32m    919\u001b[0m method \u001b[39m=\u001b[39m get_real_method(obj, \u001b[39mself\u001b[39m\u001b[39m.\u001b[39mprint_method)\n\u001b[0;32m    920\u001b[0m \u001b[39mif\u001b[39;00m method \u001b[39mis\u001b[39;00m \u001b[39mnot\u001b[39;00m \u001b[39mNone\u001b[39;00m:\n\u001b[1;32m--> 921\u001b[0m     method()\n\u001b[0;32m    922\u001b[0m     \u001b[39mreturn\u001b[39;00m \u001b[39mTrue\u001b[39;00m\n",
      "File \u001b[1;32mc:\\Users\\jenni\\.virtualenvs\\georgetown_capstone-1Fa6Wwg2\\lib\\site-packages\\plotly\\basedatatypes.py:842\u001b[0m, in \u001b[0;36mBaseFigure._ipython_display_\u001b[1;34m(self)\u001b[0m\n\u001b[0;32m    839\u001b[0m \u001b[39mimport\u001b[39;00m \u001b[39mplotly\u001b[39;00m\u001b[39m.\u001b[39;00m\u001b[39mio\u001b[39;00m \u001b[39mas\u001b[39;00m \u001b[39mpio\u001b[39;00m\n\u001b[0;32m    841\u001b[0m \u001b[39mif\u001b[39;00m pio\u001b[39m.\u001b[39mrenderers\u001b[39m.\u001b[39mrender_on_display \u001b[39mand\u001b[39;00m pio\u001b[39m.\u001b[39mrenderers\u001b[39m.\u001b[39mdefault:\n\u001b[1;32m--> 842\u001b[0m     pio\u001b[39m.\u001b[39;49mshow(\u001b[39mself\u001b[39;49m)\n\u001b[0;32m    843\u001b[0m \u001b[39melse\u001b[39;00m:\n\u001b[0;32m    844\u001b[0m     \u001b[39mprint\u001b[39m(\u001b[39mrepr\u001b[39m(\u001b[39mself\u001b[39m))\n",
      "File \u001b[1;32mc:\\Users\\jenni\\.virtualenvs\\georgetown_capstone-1Fa6Wwg2\\lib\\site-packages\\plotly\\io\\_renderers.py:396\u001b[0m, in \u001b[0;36mshow\u001b[1;34m(fig, renderer, validate, **kwargs)\u001b[0m\n\u001b[0;32m    391\u001b[0m         \u001b[39mraise\u001b[39;00m \u001b[39mValueError\u001b[39;00m(\n\u001b[0;32m    392\u001b[0m             \u001b[39m\"\u001b[39m\u001b[39mMime type rendering requires ipython but it is not installed\u001b[39m\u001b[39m\"\u001b[39m\n\u001b[0;32m    393\u001b[0m         )\n\u001b[0;32m    395\u001b[0m     \u001b[39mif\u001b[39;00m \u001b[39mnot\u001b[39;00m nbformat \u001b[39mor\u001b[39;00m LooseVersion(nbformat\u001b[39m.\u001b[39m__version__) \u001b[39m<\u001b[39m LooseVersion(\u001b[39m\"\u001b[39m\u001b[39m4.2.0\u001b[39m\u001b[39m\"\u001b[39m):\n\u001b[1;32m--> 396\u001b[0m         \u001b[39mraise\u001b[39;00m \u001b[39mValueError\u001b[39;00m(\n\u001b[0;32m    397\u001b[0m             \u001b[39m\"\u001b[39m\u001b[39mMime type rendering requires nbformat>=4.2.0 but it is not installed\u001b[39m\u001b[39m\"\u001b[39m\n\u001b[0;32m    398\u001b[0m         )\n\u001b[0;32m    400\u001b[0m     ipython_display\u001b[39m.\u001b[39mdisplay(bundle, raw\u001b[39m=\u001b[39m\u001b[39mTrue\u001b[39;00m)\n\u001b[0;32m    402\u001b[0m \u001b[39m# external renderers\u001b[39;00m\n",
      "\u001b[1;31mValueError\u001b[0m: Mime type rendering requires nbformat>=4.2.0 but it is not installed"
     ]
    },
    {
     "data": {
      "application/vnd.plotly.v1+json": {
       "config": {
        "plotlyServerURL": "https://plot.ly"
       },
       "data": [
        {
         "alignmentgroup": "True",
         "hovertemplate": "variable=Operating_Airline<br>value=%{x}<br>Airline=%{y}<extra></extra>",
         "legendgroup": "Operating_Airline",
         "marker": {
          "color": "#636efa",
          "pattern": {
           "shape": ""
          }
         },
         "name": "Operating_Airline",
         "offsetgroup": "Operating_Airline",
         "orientation": "h",
         "showlegend": true,
         "textposition": "auto",
         "type": "bar",
         "x": [
          14975,
          16794,
          18668,
          20265,
          22426,
          25127,
          29506,
          30171,
          37806,
          55690,
          55980,
          57212,
          61431,
          64375,
          65755,
          82066,
          153764,
          192876,
          222706,
          224523,
          327327
         ],
         "xaxis": "x",
         "y": [
          "GoJet Airlines, LLC d/b/a United Express",
          "Air Wisconsin Airlines Corp",
          "Hawaiian Airlines Inc.",
          "Commutair Aka Champlain Enterprises, Inc.",
          "Capital Cargo International",
          "Horizon Air",
          "Allegiant Air",
          "Mesa Airlines Inc.",
          "Frontier Airlines Inc.",
          "Spirit Air Lines",
          "Alaska Airlines Inc.",
          "Comair Inc.",
          "Endeavor Air Inc.",
          "Envoy Air",
          "JetBlue Airways",
          "Republic Airlines",
          "United Air Lines Inc.",
          "SkyWest Airlines Inc.",
          "American Airlines Inc.",
          "Delta Air Lines Inc.",
          "Southwest Airlines Co."
         ],
         "yaxis": "y"
        }
       ],
       "layout": {
        "barmode": "relative",
        "height": 700,
        "legend": {
         "title": {
          "text": "variable"
         },
         "tracegroupgap": 0
        },
        "template": {
         "data": {
          "bar": [
           {
            "error_x": {
             "color": "#f2f5fa"
            },
            "error_y": {
             "color": "#f2f5fa"
            },
            "marker": {
             "line": {
              "color": "rgb(17,17,17)",
              "width": 0.5
             },
             "pattern": {
              "fillmode": "overlay",
              "size": 10,
              "solidity": 0.2
             }
            },
            "type": "bar"
           }
          ],
          "barpolar": [
           {
            "marker": {
             "line": {
              "color": "rgb(17,17,17)",
              "width": 0.5
             },
             "pattern": {
              "fillmode": "overlay",
              "size": 10,
              "solidity": 0.2
             }
            },
            "type": "barpolar"
           }
          ],
          "carpet": [
           {
            "aaxis": {
             "endlinecolor": "#A2B1C6",
             "gridcolor": "#506784",
             "linecolor": "#506784",
             "minorgridcolor": "#506784",
             "startlinecolor": "#A2B1C6"
            },
            "baxis": {
             "endlinecolor": "#A2B1C6",
             "gridcolor": "#506784",
             "linecolor": "#506784",
             "minorgridcolor": "#506784",
             "startlinecolor": "#A2B1C6"
            },
            "type": "carpet"
           }
          ],
          "choropleth": [
           {
            "colorbar": {
             "outlinewidth": 0,
             "ticks": ""
            },
            "type": "choropleth"
           }
          ],
          "contour": [
           {
            "colorbar": {
             "outlinewidth": 0,
             "ticks": ""
            },
            "colorscale": [
             [
              0,
              "#0d0887"
             ],
             [
              0.1111111111111111,
              "#46039f"
             ],
             [
              0.2222222222222222,
              "#7201a8"
             ],
             [
              0.3333333333333333,
              "#9c179e"
             ],
             [
              0.4444444444444444,
              "#bd3786"
             ],
             [
              0.5555555555555556,
              "#d8576b"
             ],
             [
              0.6666666666666666,
              "#ed7953"
             ],
             [
              0.7777777777777778,
              "#fb9f3a"
             ],
             [
              0.8888888888888888,
              "#fdca26"
             ],
             [
              1,
              "#f0f921"
             ]
            ],
            "type": "contour"
           }
          ],
          "contourcarpet": [
           {
            "colorbar": {
             "outlinewidth": 0,
             "ticks": ""
            },
            "type": "contourcarpet"
           }
          ],
          "heatmap": [
           {
            "colorbar": {
             "outlinewidth": 0,
             "ticks": ""
            },
            "colorscale": [
             [
              0,
              "#0d0887"
             ],
             [
              0.1111111111111111,
              "#46039f"
             ],
             [
              0.2222222222222222,
              "#7201a8"
             ],
             [
              0.3333333333333333,
              "#9c179e"
             ],
             [
              0.4444444444444444,
              "#bd3786"
             ],
             [
              0.5555555555555556,
              "#d8576b"
             ],
             [
              0.6666666666666666,
              "#ed7953"
             ],
             [
              0.7777777777777778,
              "#fb9f3a"
             ],
             [
              0.8888888888888888,
              "#fdca26"
             ],
             [
              1,
              "#f0f921"
             ]
            ],
            "type": "heatmap"
           }
          ],
          "heatmapgl": [
           {
            "colorbar": {
             "outlinewidth": 0,
             "ticks": ""
            },
            "colorscale": [
             [
              0,
              "#0d0887"
             ],
             [
              0.1111111111111111,
              "#46039f"
             ],
             [
              0.2222222222222222,
              "#7201a8"
             ],
             [
              0.3333333333333333,
              "#9c179e"
             ],
             [
              0.4444444444444444,
              "#bd3786"
             ],
             [
              0.5555555555555556,
              "#d8576b"
             ],
             [
              0.6666666666666666,
              "#ed7953"
             ],
             [
              0.7777777777777778,
              "#fb9f3a"
             ],
             [
              0.8888888888888888,
              "#fdca26"
             ],
             [
              1,
              "#f0f921"
             ]
            ],
            "type": "heatmapgl"
           }
          ],
          "histogram": [
           {
            "marker": {
             "pattern": {
              "fillmode": "overlay",
              "size": 10,
              "solidity": 0.2
             }
            },
            "type": "histogram"
           }
          ],
          "histogram2d": [
           {
            "colorbar": {
             "outlinewidth": 0,
             "ticks": ""
            },
            "colorscale": [
             [
              0,
              "#0d0887"
             ],
             [
              0.1111111111111111,
              "#46039f"
             ],
             [
              0.2222222222222222,
              "#7201a8"
             ],
             [
              0.3333333333333333,
              "#9c179e"
             ],
             [
              0.4444444444444444,
              "#bd3786"
             ],
             [
              0.5555555555555556,
              "#d8576b"
             ],
             [
              0.6666666666666666,
              "#ed7953"
             ],
             [
              0.7777777777777778,
              "#fb9f3a"
             ],
             [
              0.8888888888888888,
              "#fdca26"
             ],
             [
              1,
              "#f0f921"
             ]
            ],
            "type": "histogram2d"
           }
          ],
          "histogram2dcontour": [
           {
            "colorbar": {
             "outlinewidth": 0,
             "ticks": ""
            },
            "colorscale": [
             [
              0,
              "#0d0887"
             ],
             [
              0.1111111111111111,
              "#46039f"
             ],
             [
              0.2222222222222222,
              "#7201a8"
             ],
             [
              0.3333333333333333,
              "#9c179e"
             ],
             [
              0.4444444444444444,
              "#bd3786"
             ],
             [
              0.5555555555555556,
              "#d8576b"
             ],
             [
              0.6666666666666666,
              "#ed7953"
             ],
             [
              0.7777777777777778,
              "#fb9f3a"
             ],
             [
              0.8888888888888888,
              "#fdca26"
             ],
             [
              1,
              "#f0f921"
             ]
            ],
            "type": "histogram2dcontour"
           }
          ],
          "mesh3d": [
           {
            "colorbar": {
             "outlinewidth": 0,
             "ticks": ""
            },
            "type": "mesh3d"
           }
          ],
          "parcoords": [
           {
            "line": {
             "colorbar": {
              "outlinewidth": 0,
              "ticks": ""
             }
            },
            "type": "parcoords"
           }
          ],
          "pie": [
           {
            "automargin": true,
            "type": "pie"
           }
          ],
          "scatter": [
           {
            "marker": {
             "line": {
              "color": "#283442"
             }
            },
            "type": "scatter"
           }
          ],
          "scatter3d": [
           {
            "line": {
             "colorbar": {
              "outlinewidth": 0,
              "ticks": ""
             }
            },
            "marker": {
             "colorbar": {
              "outlinewidth": 0,
              "ticks": ""
             }
            },
            "type": "scatter3d"
           }
          ],
          "scattercarpet": [
           {
            "marker": {
             "colorbar": {
              "outlinewidth": 0,
              "ticks": ""
             }
            },
            "type": "scattercarpet"
           }
          ],
          "scattergeo": [
           {
            "marker": {
             "colorbar": {
              "outlinewidth": 0,
              "ticks": ""
             }
            },
            "type": "scattergeo"
           }
          ],
          "scattergl": [
           {
            "marker": {
             "line": {
              "color": "#283442"
             }
            },
            "type": "scattergl"
           }
          ],
          "scattermapbox": [
           {
            "marker": {
             "colorbar": {
              "outlinewidth": 0,
              "ticks": ""
             }
            },
            "type": "scattermapbox"
           }
          ],
          "scatterpolar": [
           {
            "marker": {
             "colorbar": {
              "outlinewidth": 0,
              "ticks": ""
             }
            },
            "type": "scatterpolar"
           }
          ],
          "scatterpolargl": [
           {
            "marker": {
             "colorbar": {
              "outlinewidth": 0,
              "ticks": ""
             }
            },
            "type": "scatterpolargl"
           }
          ],
          "scatterternary": [
           {
            "marker": {
             "colorbar": {
              "outlinewidth": 0,
              "ticks": ""
             }
            },
            "type": "scatterternary"
           }
          ],
          "surface": [
           {
            "colorbar": {
             "outlinewidth": 0,
             "ticks": ""
            },
            "colorscale": [
             [
              0,
              "#0d0887"
             ],
             [
              0.1111111111111111,
              "#46039f"
             ],
             [
              0.2222222222222222,
              "#7201a8"
             ],
             [
              0.3333333333333333,
              "#9c179e"
             ],
             [
              0.4444444444444444,
              "#bd3786"
             ],
             [
              0.5555555555555556,
              "#d8576b"
             ],
             [
              0.6666666666666666,
              "#ed7953"
             ],
             [
              0.7777777777777778,
              "#fb9f3a"
             ],
             [
              0.8888888888888888,
              "#fdca26"
             ],
             [
              1,
              "#f0f921"
             ]
            ],
            "type": "surface"
           }
          ],
          "table": [
           {
            "cells": {
             "fill": {
              "color": "#506784"
             },
             "line": {
              "color": "rgb(17,17,17)"
             }
            },
            "header": {
             "fill": {
              "color": "#2a3f5f"
             },
             "line": {
              "color": "rgb(17,17,17)"
             }
            },
            "type": "table"
           }
          ]
         },
         "layout": {
          "annotationdefaults": {
           "arrowcolor": "#f2f5fa",
           "arrowhead": 0,
           "arrowwidth": 1
          },
          "autotypenumbers": "strict",
          "coloraxis": {
           "colorbar": {
            "outlinewidth": 0,
            "ticks": ""
           }
          },
          "colorscale": {
           "diverging": [
            [
             0,
             "#8e0152"
            ],
            [
             0.1,
             "#c51b7d"
            ],
            [
             0.2,
             "#de77ae"
            ],
            [
             0.3,
             "#f1b6da"
            ],
            [
             0.4,
             "#fde0ef"
            ],
            [
             0.5,
             "#f7f7f7"
            ],
            [
             0.6,
             "#e6f5d0"
            ],
            [
             0.7,
             "#b8e186"
            ],
            [
             0.8,
             "#7fbc41"
            ],
            [
             0.9,
             "#4d9221"
            ],
            [
             1,
             "#276419"
            ]
           ],
           "sequential": [
            [
             0,
             "#0d0887"
            ],
            [
             0.1111111111111111,
             "#46039f"
            ],
            [
             0.2222222222222222,
             "#7201a8"
            ],
            [
             0.3333333333333333,
             "#9c179e"
            ],
            [
             0.4444444444444444,
             "#bd3786"
            ],
            [
             0.5555555555555556,
             "#d8576b"
            ],
            [
             0.6666666666666666,
             "#ed7953"
            ],
            [
             0.7777777777777778,
             "#fb9f3a"
            ],
            [
             0.8888888888888888,
             "#fdca26"
            ],
            [
             1,
             "#f0f921"
            ]
           ],
           "sequentialminus": [
            [
             0,
             "#0d0887"
            ],
            [
             0.1111111111111111,
             "#46039f"
            ],
            [
             0.2222222222222222,
             "#7201a8"
            ],
            [
             0.3333333333333333,
             "#9c179e"
            ],
            [
             0.4444444444444444,
             "#bd3786"
            ],
            [
             0.5555555555555556,
             "#d8576b"
            ],
            [
             0.6666666666666666,
             "#ed7953"
            ],
            [
             0.7777777777777778,
             "#fb9f3a"
            ],
            [
             0.8888888888888888,
             "#fdca26"
            ],
            [
             1,
             "#f0f921"
            ]
           ]
          },
          "colorway": [
           "#636efa",
           "#EF553B",
           "#00cc96",
           "#ab63fa",
           "#FFA15A",
           "#19d3f3",
           "#FF6692",
           "#B6E880",
           "#FF97FF",
           "#FECB52"
          ],
          "font": {
           "color": "#f2f5fa"
          },
          "geo": {
           "bgcolor": "rgb(17,17,17)",
           "lakecolor": "rgb(17,17,17)",
           "landcolor": "rgb(17,17,17)",
           "showlakes": true,
           "showland": true,
           "subunitcolor": "#506784"
          },
          "hoverlabel": {
           "align": "left"
          },
          "hovermode": "closest",
          "mapbox": {
           "style": "dark"
          },
          "paper_bgcolor": "rgb(17,17,17)",
          "plot_bgcolor": "rgb(17,17,17)",
          "polar": {
           "angularaxis": {
            "gridcolor": "#506784",
            "linecolor": "#506784",
            "ticks": ""
           },
           "bgcolor": "rgb(17,17,17)",
           "radialaxis": {
            "gridcolor": "#506784",
            "linecolor": "#506784",
            "ticks": ""
           }
          },
          "scene": {
           "xaxis": {
            "backgroundcolor": "rgb(17,17,17)",
            "gridcolor": "#506784",
            "gridwidth": 2,
            "linecolor": "#506784",
            "showbackground": true,
            "ticks": "",
            "zerolinecolor": "#C8D4E3"
           },
           "yaxis": {
            "backgroundcolor": "rgb(17,17,17)",
            "gridcolor": "#506784",
            "gridwidth": 2,
            "linecolor": "#506784",
            "showbackground": true,
            "ticks": "",
            "zerolinecolor": "#C8D4E3"
           },
           "zaxis": {
            "backgroundcolor": "rgb(17,17,17)",
            "gridcolor": "#506784",
            "gridwidth": 2,
            "linecolor": "#506784",
            "showbackground": true,
            "ticks": "",
            "zerolinecolor": "#C8D4E3"
           }
          },
          "shapedefaults": {
           "line": {
            "color": "#f2f5fa"
           }
          },
          "sliderdefaults": {
           "bgcolor": "#C8D4E3",
           "bordercolor": "rgb(17,17,17)",
           "borderwidth": 1,
           "tickwidth": 0
          },
          "ternary": {
           "aaxis": {
            "gridcolor": "#506784",
            "linecolor": "#506784",
            "ticks": ""
           },
           "baxis": {
            "gridcolor": "#506784",
            "linecolor": "#506784",
            "ticks": ""
           },
           "bgcolor": "rgb(17,17,17)",
           "caxis": {
            "gridcolor": "#506784",
            "linecolor": "#506784",
            "ticks": ""
           }
          },
          "title": {
           "x": 0.05
          },
          "updatemenudefaults": {
           "bgcolor": "#506784",
           "borderwidth": 0
          },
          "xaxis": {
           "automargin": true,
           "gridcolor": "#283442",
           "linecolor": "#506784",
           "ticks": "",
           "title": {
            "standoff": 15
           },
           "zerolinecolor": "#283442",
           "zerolinewidth": 2
          },
          "yaxis": {
           "automargin": true,
           "gridcolor": "#283442",
           "linecolor": "#506784",
           "ticks": "",
           "title": {
            "standoff": 15
           },
           "zerolinecolor": "#283442",
           "zerolinewidth": 2
          }
         }
        },
        "title": {
         "text": "Flights per airline"
        },
        "xaxis": {
         "anchor": "y",
         "domain": [
          0,
          1
         ],
         "title": {
          "text": "value"
         }
        },
        "yaxis": {
         "anchor": "x",
         "domain": [
          0,
          1
         ],
         "title": {
          "text": "Airline"
         }
        }
       }
      },
      "text/html": [
       "<div>                        <script type=\"text/javascript\">window.PlotlyConfig = {MathJaxConfig: 'local'};</script>\n",
       "        <script src=\"https://cdn.plot.ly/plotly-2.16.1.min.js\"></script>                <div id=\"0ce19199-ee1f-4a94-93e0-5e7e795f58be\" class=\"plotly-graph-div\" style=\"height:700px; width:100%;\"></div>            <script type=\"text/javascript\">                                    window.PLOTLYENV=window.PLOTLYENV || {};                                    if (document.getElementById(\"0ce19199-ee1f-4a94-93e0-5e7e795f58be\")) {                    Plotly.newPlot(                        \"0ce19199-ee1f-4a94-93e0-5e7e795f58be\",                        [{\"alignmentgroup\":\"True\",\"hovertemplate\":\"variable=Operating_Airline<br>value=%{x}<br>Airline=%{y}<extra></extra>\",\"legendgroup\":\"Operating_Airline\",\"marker\":{\"color\":\"#636efa\",\"pattern\":{\"shape\":\"\"}},\"name\":\"Operating_Airline\",\"offsetgroup\":\"Operating_Airline\",\"orientation\":\"h\",\"showlegend\":true,\"textposition\":\"auto\",\"x\":[14975,16794,18668,20265,22426,25127,29506,30171,37806,55690,55980,57212,61431,64375,65755,82066,153764,192876,222706,224523,327327],\"xaxis\":\"x\",\"y\":[\"GoJet Airlines, LLC d/b/a United Express\",\"Air Wisconsin Airlines Corp\",\"Hawaiian Airlines Inc.\",\"Commutair Aka Champlain Enterprises, Inc.\",\"Capital Cargo International\",\"Horizon Air\",\"Allegiant Air\",\"Mesa Airlines Inc.\",\"Frontier Airlines Inc.\",\"Spirit Air Lines\",\"Alaska Airlines Inc.\",\"Comair Inc.\",\"Endeavor Air Inc.\",\"Envoy Air\",\"JetBlue Airways\",\"Republic Airlines\",\"United Air Lines Inc.\",\"SkyWest Airlines Inc.\",\"American Airlines Inc.\",\"Delta Air Lines Inc.\",\"Southwest Airlines Co.\"],\"yaxis\":\"y\",\"type\":\"bar\"}],                        {\"template\":{\"data\":{\"barpolar\":[{\"marker\":{\"line\":{\"color\":\"rgb(17,17,17)\",\"width\":0.5},\"pattern\":{\"fillmode\":\"overlay\",\"size\":10,\"solidity\":0.2}},\"type\":\"barpolar\"}],\"bar\":[{\"error_x\":{\"color\":\"#f2f5fa\"},\"error_y\":{\"color\":\"#f2f5fa\"},\"marker\":{\"line\":{\"color\":\"rgb(17,17,17)\",\"width\":0.5},\"pattern\":{\"fillmode\":\"overlay\",\"size\":10,\"solidity\":0.2}},\"type\":\"bar\"}],\"carpet\":[{\"aaxis\":{\"endlinecolor\":\"#A2B1C6\",\"gridcolor\":\"#506784\",\"linecolor\":\"#506784\",\"minorgridcolor\":\"#506784\",\"startlinecolor\":\"#A2B1C6\"},\"baxis\":{\"endlinecolor\":\"#A2B1C6\",\"gridcolor\":\"#506784\",\"linecolor\":\"#506784\",\"minorgridcolor\":\"#506784\",\"startlinecolor\":\"#A2B1C6\"},\"type\":\"carpet\"}],\"choropleth\":[{\"colorbar\":{\"outlinewidth\":0,\"ticks\":\"\"},\"type\":\"choropleth\"}],\"contourcarpet\":[{\"colorbar\":{\"outlinewidth\":0,\"ticks\":\"\"},\"type\":\"contourcarpet\"}],\"contour\":[{\"colorbar\":{\"outlinewidth\":0,\"ticks\":\"\"},\"colorscale\":[[0.0,\"#0d0887\"],[0.1111111111111111,\"#46039f\"],[0.2222222222222222,\"#7201a8\"],[0.3333333333333333,\"#9c179e\"],[0.4444444444444444,\"#bd3786\"],[0.5555555555555556,\"#d8576b\"],[0.6666666666666666,\"#ed7953\"],[0.7777777777777778,\"#fb9f3a\"],[0.8888888888888888,\"#fdca26\"],[1.0,\"#f0f921\"]],\"type\":\"contour\"}],\"heatmapgl\":[{\"colorbar\":{\"outlinewidth\":0,\"ticks\":\"\"},\"colorscale\":[[0.0,\"#0d0887\"],[0.1111111111111111,\"#46039f\"],[0.2222222222222222,\"#7201a8\"],[0.3333333333333333,\"#9c179e\"],[0.4444444444444444,\"#bd3786\"],[0.5555555555555556,\"#d8576b\"],[0.6666666666666666,\"#ed7953\"],[0.7777777777777778,\"#fb9f3a\"],[0.8888888888888888,\"#fdca26\"],[1.0,\"#f0f921\"]],\"type\":\"heatmapgl\"}],\"heatmap\":[{\"colorbar\":{\"outlinewidth\":0,\"ticks\":\"\"},\"colorscale\":[[0.0,\"#0d0887\"],[0.1111111111111111,\"#46039f\"],[0.2222222222222222,\"#7201a8\"],[0.3333333333333333,\"#9c179e\"],[0.4444444444444444,\"#bd3786\"],[0.5555555555555556,\"#d8576b\"],[0.6666666666666666,\"#ed7953\"],[0.7777777777777778,\"#fb9f3a\"],[0.8888888888888888,\"#fdca26\"],[1.0,\"#f0f921\"]],\"type\":\"heatmap\"}],\"histogram2dcontour\":[{\"colorbar\":{\"outlinewidth\":0,\"ticks\":\"\"},\"colorscale\":[[0.0,\"#0d0887\"],[0.1111111111111111,\"#46039f\"],[0.2222222222222222,\"#7201a8\"],[0.3333333333333333,\"#9c179e\"],[0.4444444444444444,\"#bd3786\"],[0.5555555555555556,\"#d8576b\"],[0.6666666666666666,\"#ed7953\"],[0.7777777777777778,\"#fb9f3a\"],[0.8888888888888888,\"#fdca26\"],[1.0,\"#f0f921\"]],\"type\":\"histogram2dcontour\"}],\"histogram2d\":[{\"colorbar\":{\"outlinewidth\":0,\"ticks\":\"\"},\"colorscale\":[[0.0,\"#0d0887\"],[0.1111111111111111,\"#46039f\"],[0.2222222222222222,\"#7201a8\"],[0.3333333333333333,\"#9c179e\"],[0.4444444444444444,\"#bd3786\"],[0.5555555555555556,\"#d8576b\"],[0.6666666666666666,\"#ed7953\"],[0.7777777777777778,\"#fb9f3a\"],[0.8888888888888888,\"#fdca26\"],[1.0,\"#f0f921\"]],\"type\":\"histogram2d\"}],\"histogram\":[{\"marker\":{\"pattern\":{\"fillmode\":\"overlay\",\"size\":10,\"solidity\":0.2}},\"type\":\"histogram\"}],\"mesh3d\":[{\"colorbar\":{\"outlinewidth\":0,\"ticks\":\"\"},\"type\":\"mesh3d\"}],\"parcoords\":[{\"line\":{\"colorbar\":{\"outlinewidth\":0,\"ticks\":\"\"}},\"type\":\"parcoords\"}],\"pie\":[{\"automargin\":true,\"type\":\"pie\"}],\"scatter3d\":[{\"line\":{\"colorbar\":{\"outlinewidth\":0,\"ticks\":\"\"}},\"marker\":{\"colorbar\":{\"outlinewidth\":0,\"ticks\":\"\"}},\"type\":\"scatter3d\"}],\"scattercarpet\":[{\"marker\":{\"colorbar\":{\"outlinewidth\":0,\"ticks\":\"\"}},\"type\":\"scattercarpet\"}],\"scattergeo\":[{\"marker\":{\"colorbar\":{\"outlinewidth\":0,\"ticks\":\"\"}},\"type\":\"scattergeo\"}],\"scattergl\":[{\"marker\":{\"line\":{\"color\":\"#283442\"}},\"type\":\"scattergl\"}],\"scattermapbox\":[{\"marker\":{\"colorbar\":{\"outlinewidth\":0,\"ticks\":\"\"}},\"type\":\"scattermapbox\"}],\"scatterpolargl\":[{\"marker\":{\"colorbar\":{\"outlinewidth\":0,\"ticks\":\"\"}},\"type\":\"scatterpolargl\"}],\"scatterpolar\":[{\"marker\":{\"colorbar\":{\"outlinewidth\":0,\"ticks\":\"\"}},\"type\":\"scatterpolar\"}],\"scatter\":[{\"marker\":{\"line\":{\"color\":\"#283442\"}},\"type\":\"scatter\"}],\"scatterternary\":[{\"marker\":{\"colorbar\":{\"outlinewidth\":0,\"ticks\":\"\"}},\"type\":\"scatterternary\"}],\"surface\":[{\"colorbar\":{\"outlinewidth\":0,\"ticks\":\"\"},\"colorscale\":[[0.0,\"#0d0887\"],[0.1111111111111111,\"#46039f\"],[0.2222222222222222,\"#7201a8\"],[0.3333333333333333,\"#9c179e\"],[0.4444444444444444,\"#bd3786\"],[0.5555555555555556,\"#d8576b\"],[0.6666666666666666,\"#ed7953\"],[0.7777777777777778,\"#fb9f3a\"],[0.8888888888888888,\"#fdca26\"],[1.0,\"#f0f921\"]],\"type\":\"surface\"}],\"table\":[{\"cells\":{\"fill\":{\"color\":\"#506784\"},\"line\":{\"color\":\"rgb(17,17,17)\"}},\"header\":{\"fill\":{\"color\":\"#2a3f5f\"},\"line\":{\"color\":\"rgb(17,17,17)\"}},\"type\":\"table\"}]},\"layout\":{\"annotationdefaults\":{\"arrowcolor\":\"#f2f5fa\",\"arrowhead\":0,\"arrowwidth\":1},\"autotypenumbers\":\"strict\",\"coloraxis\":{\"colorbar\":{\"outlinewidth\":0,\"ticks\":\"\"}},\"colorscale\":{\"diverging\":[[0,\"#8e0152\"],[0.1,\"#c51b7d\"],[0.2,\"#de77ae\"],[0.3,\"#f1b6da\"],[0.4,\"#fde0ef\"],[0.5,\"#f7f7f7\"],[0.6,\"#e6f5d0\"],[0.7,\"#b8e186\"],[0.8,\"#7fbc41\"],[0.9,\"#4d9221\"],[1,\"#276419\"]],\"sequential\":[[0.0,\"#0d0887\"],[0.1111111111111111,\"#46039f\"],[0.2222222222222222,\"#7201a8\"],[0.3333333333333333,\"#9c179e\"],[0.4444444444444444,\"#bd3786\"],[0.5555555555555556,\"#d8576b\"],[0.6666666666666666,\"#ed7953\"],[0.7777777777777778,\"#fb9f3a\"],[0.8888888888888888,\"#fdca26\"],[1.0,\"#f0f921\"]],\"sequentialminus\":[[0.0,\"#0d0887\"],[0.1111111111111111,\"#46039f\"],[0.2222222222222222,\"#7201a8\"],[0.3333333333333333,\"#9c179e\"],[0.4444444444444444,\"#bd3786\"],[0.5555555555555556,\"#d8576b\"],[0.6666666666666666,\"#ed7953\"],[0.7777777777777778,\"#fb9f3a\"],[0.8888888888888888,\"#fdca26\"],[1.0,\"#f0f921\"]]},\"colorway\":[\"#636efa\",\"#EF553B\",\"#00cc96\",\"#ab63fa\",\"#FFA15A\",\"#19d3f3\",\"#FF6692\",\"#B6E880\",\"#FF97FF\",\"#FECB52\"],\"font\":{\"color\":\"#f2f5fa\"},\"geo\":{\"bgcolor\":\"rgb(17,17,17)\",\"lakecolor\":\"rgb(17,17,17)\",\"landcolor\":\"rgb(17,17,17)\",\"showlakes\":true,\"showland\":true,\"subunitcolor\":\"#506784\"},\"hoverlabel\":{\"align\":\"left\"},\"hovermode\":\"closest\",\"mapbox\":{\"style\":\"dark\"},\"paper_bgcolor\":\"rgb(17,17,17)\",\"plot_bgcolor\":\"rgb(17,17,17)\",\"polar\":{\"angularaxis\":{\"gridcolor\":\"#506784\",\"linecolor\":\"#506784\",\"ticks\":\"\"},\"bgcolor\":\"rgb(17,17,17)\",\"radialaxis\":{\"gridcolor\":\"#506784\",\"linecolor\":\"#506784\",\"ticks\":\"\"}},\"scene\":{\"xaxis\":{\"backgroundcolor\":\"rgb(17,17,17)\",\"gridcolor\":\"#506784\",\"gridwidth\":2,\"linecolor\":\"#506784\",\"showbackground\":true,\"ticks\":\"\",\"zerolinecolor\":\"#C8D4E3\"},\"yaxis\":{\"backgroundcolor\":\"rgb(17,17,17)\",\"gridcolor\":\"#506784\",\"gridwidth\":2,\"linecolor\":\"#506784\",\"showbackground\":true,\"ticks\":\"\",\"zerolinecolor\":\"#C8D4E3\"},\"zaxis\":{\"backgroundcolor\":\"rgb(17,17,17)\",\"gridcolor\":\"#506784\",\"gridwidth\":2,\"linecolor\":\"#506784\",\"showbackground\":true,\"ticks\":\"\",\"zerolinecolor\":\"#C8D4E3\"}},\"shapedefaults\":{\"line\":{\"color\":\"#f2f5fa\"}},\"sliderdefaults\":{\"bgcolor\":\"#C8D4E3\",\"bordercolor\":\"rgb(17,17,17)\",\"borderwidth\":1,\"tickwidth\":0},\"ternary\":{\"aaxis\":{\"gridcolor\":\"#506784\",\"linecolor\":\"#506784\",\"ticks\":\"\"},\"baxis\":{\"gridcolor\":\"#506784\",\"linecolor\":\"#506784\",\"ticks\":\"\"},\"bgcolor\":\"rgb(17,17,17)\",\"caxis\":{\"gridcolor\":\"#506784\",\"linecolor\":\"#506784\",\"ticks\":\"\"}},\"title\":{\"x\":0.05},\"updatemenudefaults\":{\"bgcolor\":\"#506784\",\"borderwidth\":0},\"xaxis\":{\"automargin\":true,\"gridcolor\":\"#283442\",\"linecolor\":\"#506784\",\"ticks\":\"\",\"title\":{\"standoff\":15},\"zerolinecolor\":\"#283442\",\"zerolinewidth\":2},\"yaxis\":{\"automargin\":true,\"gridcolor\":\"#283442\",\"linecolor\":\"#506784\",\"ticks\":\"\",\"title\":{\"standoff\":15},\"zerolinecolor\":\"#283442\",\"zerolinewidth\":2}}},\"xaxis\":{\"anchor\":\"y\",\"domain\":[0.0,1.0],\"title\":{\"text\":\"value\"}},\"yaxis\":{\"anchor\":\"x\",\"domain\":[0.0,1.0],\"title\":{\"text\":\"Airline\"}},\"legend\":{\"title\":{\"text\":\"variable\"},\"tracegroupgap\":0},\"title\":{\"text\":\"Flights per airline\"},\"barmode\":\"relative\",\"height\":700},                        {\"responsive\": true}                    )                };                            </script>        </div>"
      ],
      "text/plain": [
       "Figure({\n",
       "    'data': [{'alignmentgroup': 'True',\n",
       "              'hovertemplate': 'variable=Operating_Airline<br>value=%{x}<br>Airline=%{y}<extra></extra>',\n",
       "              'legendgroup': 'Operating_Airline',\n",
       "              'marker': {'color': '#636efa', 'pattern': {'shape': ''}},\n",
       "              'name': 'Operating_Airline',\n",
       "              'offsetgroup': 'Operating_Airline',\n",
       "              'orientation': 'h',\n",
       "              'showlegend': True,\n",
       "              'textposition': 'auto',\n",
       "              'type': 'bar',\n",
       "              'x': array([ 14975,  16794,  18668,  20265,  22426,  25127,  29506,  30171,  37806,\n",
       "                           55690,  55980,  57212,  61431,  64375,  65755,  82066, 153764, 192876,\n",
       "                          222706, 224523, 327327], dtype=int64),\n",
       "              'xaxis': 'x',\n",
       "              'y': array(['GoJet Airlines, LLC d/b/a United Express',\n",
       "                          'Air Wisconsin Airlines Corp', 'Hawaiian Airlines Inc.',\n",
       "                          'Commutair Aka Champlain Enterprises, Inc.',\n",
       "                          'Capital Cargo International', 'Horizon Air', 'Allegiant Air',\n",
       "                          'Mesa Airlines Inc.', 'Frontier Airlines Inc.', 'Spirit Air Lines',\n",
       "                          'Alaska Airlines Inc.', 'Comair Inc.', 'Endeavor Air Inc.', 'Envoy Air',\n",
       "                          'JetBlue Airways', 'Republic Airlines', 'United Air Lines Inc.',\n",
       "                          'SkyWest Airlines Inc.', 'American Airlines Inc.',\n",
       "                          'Delta Air Lines Inc.', 'Southwest Airlines Co.'], dtype=object),\n",
       "              'yaxis': 'y'}],\n",
       "    'layout': {'barmode': 'relative',\n",
       "               'height': 700,\n",
       "               'legend': {'title': {'text': 'variable'}, 'tracegroupgap': 0},\n",
       "               'template': '...',\n",
       "               'title': {'text': 'Flights per airline'},\n",
       "               'xaxis': {'anchor': 'y', 'domain': [0.0, 1.0], 'title': {'text': 'value'}},\n",
       "               'yaxis': {'anchor': 'x', 'domain': [0.0, 1.0], 'title': {'text': 'Airline'}}}\n",
       "})"
      ]
     },
     "execution_count": 50,
     "metadata": {},
     "output_type": "execute_result"
    }
   ],
   "source": [
    "px.bar(\n",
    "    airline_counts.sort_values(ascending=True), \n",
    "    orientation='h', \n",
    "    template=\"plotly_dark\",\n",
    "    title=\"Flights per airline\",\n",
    "    height=700,\n",
    "    )"
   ]
  },
  {
   "cell_type": "code",
   "execution_count": null,
   "metadata": {},
   "outputs": [
    {
     "name": "stdout",
     "output_type": "stream",
     "text": [
      "0.04% of flights are cancelled\n"
     ]
    },
    {
     "data": {
      "text/plain": [
       "0.03912628839473925"
      ]
     },
     "execution_count": 25,
     "metadata": {},
     "output_type": "execute_result"
    }
   ],
   "source": [
    "pct_cancelled = df_flights[\"Cancelled\"].mean()\n",
    "print(f\"{pct_cancelled:0.2f}% of flights are cancelled\")\n",
    "pct_cancelled"
   ]
  },
  {
   "cell_type": "code",
   "execution_count": null,
   "metadata": {},
   "outputs": [
    {
     "data": {
      "text/plain": [
       "False    1709820\n",
       "True       69623\n",
       "Name: Cancelled, dtype: int64"
      ]
     },
     "execution_count": 26,
     "metadata": {},
     "output_type": "execute_result"
    }
   ],
   "source": [
    "df_flights[\"Cancelled\"].value_counts()"
   ]
  },
  {
   "cell_type": "markdown",
   "metadata": {},
   "source": [
    "### Cancelled flights, group by Year"
   ]
  },
  {
   "cell_type": "code",
   "execution_count": null,
   "metadata": {},
   "outputs": [
    {
     "data": {
      "text/html": [
       "<div>\n",
       "<style scoped>\n",
       "    .dataframe tbody tr th:only-of-type {\n",
       "        vertical-align: middle;\n",
       "    }\n",
       "\n",
       "    .dataframe tbody tr th {\n",
       "        vertical-align: top;\n",
       "    }\n",
       "\n",
       "    .dataframe thead th {\n",
       "        text-align: right;\n",
       "    }\n",
       "</style>\n",
       "<table border=\"1\" class=\"dataframe\">\n",
       "  <thead>\n",
       "    <tr style=\"text-align: right;\">\n",
       "      <th></th>\n",
       "      <th>Cancelled</th>\n",
       "    </tr>\n",
       "    <tr>\n",
       "      <th>Month</th>\n",
       "      <th></th>\n",
       "    </tr>\n",
       "  </thead>\n",
       "  <tbody>\n",
       "    <tr>\n",
       "      <th>1</th>\n",
       "      <td>0.063269</td>\n",
       "    </tr>\n",
       "    <tr>\n",
       "      <th>6</th>\n",
       "      <td>0.030683</td>\n",
       "    </tr>\n",
       "    <tr>\n",
       "      <th>8</th>\n",
       "      <td>0.025231</td>\n",
       "    </tr>\n",
       "  </tbody>\n",
       "</table>\n",
       "</div>"
      ],
      "text/plain": [
       "       Cancelled\n",
       "Month           \n",
       "1       0.063269\n",
       "6       0.030683\n",
       "8       0.025231"
      ]
     },
     "execution_count": 27,
     "metadata": {},
     "output_type": "execute_result"
    }
   ],
   "source": [
    "#df_flights.query(\"Year==2022\").query(\"Cancelled\")\n",
    "df_flights.groupby([\"Month\"])[\"Cancelled\"].agg(\"mean\").to_frame()"
   ]
  },
  {
   "cell_type": "code",
   "execution_count": null,
   "metadata": {},
   "outputs": [
    {
     "data": {
      "text/html": [
       "<div>\n",
       "<style scoped>\n",
       "    .dataframe tbody tr th:only-of-type {\n",
       "        vertical-align: middle;\n",
       "    }\n",
       "\n",
       "    .dataframe tbody tr th {\n",
       "        vertical-align: top;\n",
       "    }\n",
       "\n",
       "    .dataframe thead th {\n",
       "        text-align: right;\n",
       "    }\n",
       "</style>\n",
       "<table border=\"1\" class=\"dataframe\">\n",
       "  <thead>\n",
       "    <tr style=\"text-align: right;\">\n",
       "      <th></th>\n",
       "      <th>Cancelled</th>\n",
       "    </tr>\n",
       "    <tr>\n",
       "      <th>Year</th>\n",
       "      <th></th>\n",
       "    </tr>\n",
       "  </thead>\n",
       "  <tbody>\n",
       "    <tr>\n",
       "      <th>2022</th>\n",
       "      <td>0.039126</td>\n",
       "    </tr>\n",
       "  </tbody>\n",
       "</table>\n",
       "</div>"
      ],
      "text/plain": [
       "      Cancelled\n",
       "Year           \n",
       "2022   0.039126"
      ]
     },
     "execution_count": 28,
     "metadata": {},
     "output_type": "execute_result"
    }
   ],
   "source": [
    "#df_flights.query(\"Year==2022\").query(\"Cancelled\")\n",
    "df_flights.groupby([\"Year\"])[\"Cancelled\"].agg(\"mean\").to_frame()"
   ]
  },
  {
   "cell_type": "code",
   "execution_count": null,
   "metadata": {},
   "outputs": [],
   "source": [
    "cancelled_flights_analysis = (\n",
    "    (df_flights.query(\"Year == 2022\")\n",
    "     .groupby([\"Operating_Airline\", \"Cancelled\"])['Cancelled']\n",
    "     .size()\n",
    "     .unstack()\n",
    "     .reset_index()\n",
    "     )\n",
    "    .rename(columns={False: \"Departed\", True: \"Cancelled\"})\n",
    "    .rename_axis(None, axis=1))\n",
    "\n",
    "cancelled_flights_analysis[\"Total\"] = cancelled_flights_analysis[\"Departed\"] + cancelled_flights_analysis[\"Cancelled\"]\n",
    "cancelled_flights_analysis[\"Pct_Cancelled\"] = (cancelled_flights_analysis[\"Cancelled\"] / cancelled_flights_analysis[\"Total\"])*100\n",
    "cancelled_flights_analysis[\"Airline\"] = cancelled_flights_analysis[\"Operating_Airline\"].map(airline_mapper)\n"
   ]
  },
  {
   "cell_type": "code",
   "execution_count": null,
   "metadata": {},
   "outputs": [
    {
     "data": {
      "text/html": [
       "<div>\n",
       "<style scoped>\n",
       "    .dataframe tbody tr th:only-of-type {\n",
       "        vertical-align: middle;\n",
       "    }\n",
       "\n",
       "    .dataframe tbody tr th {\n",
       "        vertical-align: top;\n",
       "    }\n",
       "\n",
       "    .dataframe thead th {\n",
       "        text-align: right;\n",
       "    }\n",
       "</style>\n",
       "<table border=\"1\" class=\"dataframe\">\n",
       "  <thead>\n",
       "    <tr style=\"text-align: right;\">\n",
       "      <th></th>\n",
       "      <th>Operating_Airline</th>\n",
       "      <th>Departed</th>\n",
       "      <th>Cancelled</th>\n",
       "      <th>Total</th>\n",
       "      <th>Pct_Cancelled</th>\n",
       "      <th>Airline</th>\n",
       "    </tr>\n",
       "  </thead>\n",
       "  <tbody>\n",
       "    <tr>\n",
       "      <th>0</th>\n",
       "      <td>9E</td>\n",
       "      <td>57655</td>\n",
       "      <td>3776</td>\n",
       "      <td>61431</td>\n",
       "      <td>6.146734</td>\n",
       "      <td>Endeavor Air Inc.</td>\n",
       "    </tr>\n",
       "    <tr>\n",
       "      <th>1</th>\n",
       "      <td>AA</td>\n",
       "      <td>211752</td>\n",
       "      <td>10954</td>\n",
       "      <td>222706</td>\n",
       "      <td>4.918592</td>\n",
       "      <td>American Airlines Inc.</td>\n",
       "    </tr>\n",
       "    <tr>\n",
       "      <th>2</th>\n",
       "      <td>AS</td>\n",
       "      <td>54417</td>\n",
       "      <td>1563</td>\n",
       "      <td>55980</td>\n",
       "      <td>2.792069</td>\n",
       "      <td>Alaska Airlines Inc.</td>\n",
       "    </tr>\n",
       "    <tr>\n",
       "      <th>3</th>\n",
       "      <td>B6</td>\n",
       "      <td>62373</td>\n",
       "      <td>3382</td>\n",
       "      <td>65755</td>\n",
       "      <td>5.143335</td>\n",
       "      <td>JetBlue Airways</td>\n",
       "    </tr>\n",
       "    <tr>\n",
       "      <th>4</th>\n",
       "      <td>C5</td>\n",
       "      <td>19440</td>\n",
       "      <td>825</td>\n",
       "      <td>20265</td>\n",
       "      <td>4.071058</td>\n",
       "      <td>Commutair Aka Champlain Enterprises, Inc.</td>\n",
       "    </tr>\n",
       "  </tbody>\n",
       "</table>\n",
       "</div>"
      ],
      "text/plain": [
       "  Operating_Airline  Departed  Cancelled   Total  Pct_Cancelled  \\\n",
       "0                9E     57655       3776   61431       6.146734   \n",
       "1                AA    211752      10954  222706       4.918592   \n",
       "2                AS     54417       1563   55980       2.792069   \n",
       "3                B6     62373       3382   65755       5.143335   \n",
       "4                C5     19440        825   20265       4.071058   \n",
       "\n",
       "                                     Airline  \n",
       "0                          Endeavor Air Inc.  \n",
       "1                     American Airlines Inc.  \n",
       "2                       Alaska Airlines Inc.  \n",
       "3                            JetBlue Airways  \n",
       "4  Commutair Aka Champlain Enterprises, Inc.  "
      ]
     },
     "execution_count": 30,
     "metadata": {},
     "output_type": "execute_result"
    }
   ],
   "source": [
    "cancelled_flights_analysis.head()     ## TODO: add geographical information of flight, weather information"
   ]
  },
  {
   "cell_type": "code",
   "execution_count": null,
   "metadata": {},
   "outputs": [
    {
     "data": {
      "image/png": "[encoded data removed]",
      "text/plain": [
       "<Figure size 800x800 with 1 Axes>"
      ]
     },
     "metadata": {},
     "output_type": "display_data"
    }
   ],
   "source": [
    "cancelled_flights_analysis.set_index(\"Operating_Airline\").sort_values(\n",
    "    \"Cancelled\")[\"Cancelled\"].plot(kind=\"barh\", \n",
    "                                   figsize=(8, 8), \n",
    "                                   width=.8,\n",
    "                                   edgecolor=\"black\",\n",
    "                                   title=\"Flight Cancellations by Airline in 2022\")\n",
    "plt.show()"
   ]
  },
  {
   "cell_type": "code",
   "execution_count": null,
   "metadata": {},
   "outputs": [
    {
     "data": {
      "image/png": "[encoded data removed]",
      "text/plain": [
       "<Figure size 800x800 with 1 Axes>"
      ]
     },
     "metadata": {},
     "output_type": "display_data"
    }
   ],
   "source": [
    "fig, ax = plt.subplots(figsize=(8, 8))\n",
    "# cancelled_flights_analysis[\"Airline\"] = cancelled_flights_analysis[\"Operating_Airline\"].map(\n",
    "#     airline_mapper)\n",
    "cancelled_flights_analysis.set_index(\"Airline\").sort_values(\n",
    "    \"Cancelled\")[\"Cancelled\"].plot(kind=\"barh\", \n",
    "                                   title=\"Total Operations Cancelled by Airline in 2022\",\n",
    "                                   width=1\n",
    "                                   )\n",
    "\n",
    "ax.bar_label(ax.containers[0], padding=5, fontsize=9, color='b')\n",
    "plt.show()\n"
   ]
  },
  {
   "cell_type": "code",
   "execution_count": null,
   "metadata": {},
   "outputs": [
    {
     "data": {
      "image/png": "[encoded data removed]",
      "text/plain": [
       "<Figure size 800x800 with 1 Axes>"
      ]
     },
     "metadata": {},
     "output_type": "display_data"
    }
   ],
   "source": [
    "fig, ax = plt.subplots(figsize=(8, 8))\n",
    "cancelled_flights_analysis[\"Airline\"] = cancelled_flights_analysis[\"Operating_Airline\"].map(\n",
    "    airline_mapper)\n",
    "cancelled_flights_analysis.set_index(\"Airline\").sort_values(\n",
    "    \"Pct_Cancelled\")[\"Pct_Cancelled\"].plot(kind=\"barh\",\n",
    "                                           title=\"Percentage of Operations Cancelled by Airline in 2022\",\n",
    "                                           width=1,\n",
    "                                           #edgecolor=\"black\",\n",
    "                                           color=current_palette[6]\n",
    "                                           )\n",
    "ax.bar_label(ax.containers[0], fmt='%.3f%%', padding=5, fontsize=9, color='b')\n",
    "plt.show()"
   ]
  },
  {
   "cell_type": "code",
   "execution_count": null,
   "metadata": {},
   "outputs": [
    {
     "data": {
      "text/plain": [
       "AA    10954\n",
       "WN    10901\n",
       "YX     7183\n",
       "UA     5844\n",
       "DL     5755\n",
       "OO     5569\n",
       "9E     3776\n",
       "OH     3434\n",
       "B6     3382\n",
       "YV     2021\n",
       "G7     1608\n",
       "AS     1563\n",
       "MQ     1346\n",
       "G4     1195\n",
       "NK     1004\n",
       "ZW      896\n",
       "PT      842\n",
       "C5      825\n",
       "F9      798\n",
       "QX      494\n",
       "HA      233\n",
       "Name: Operating_Airline, dtype: int64"
      ]
     },
     "execution_count": 34,
     "metadata": {},
     "output_type": "execute_result"
    }
   ],
   "source": [
    "cancel_count = df_flights.query(\"Year == 2022\").query(\"Cancelled\")[\"Operating_Airline\"].value_counts()\n",
    "cancel_count"
   ]
  },
  {
   "cell_type": "code",
   "execution_count": null,
   "metadata": {},
   "outputs": [
    {
     "data": {
      "text/html": [
       "<svg  width=\"550\" height=\"55\"><rect x=\"0\" y=\"0\" width=\"55\" height=\"55\" style=\"fill:#4c72b0;stroke-width:2;stroke:rgb(255,255,255)\"/><rect x=\"55\" y=\"0\" width=\"55\" height=\"55\" style=\"fill:#dd8452;stroke-width:2;stroke:rgb(255,255,255)\"/><rect x=\"110\" y=\"0\" width=\"55\" height=\"55\" style=\"fill:#55a868;stroke-width:2;stroke:rgb(255,255,255)\"/><rect x=\"165\" y=\"0\" width=\"55\" height=\"55\" style=\"fill:#c44e52;stroke-width:2;stroke:rgb(255,255,255)\"/><rect x=\"220\" y=\"0\" width=\"55\" height=\"55\" style=\"fill:#8172b3;stroke-width:2;stroke:rgb(255,255,255)\"/><rect x=\"275\" y=\"0\" width=\"55\" height=\"55\" style=\"fill:#937860;stroke-width:2;stroke:rgb(255,255,255)\"/><rect x=\"330\" y=\"0\" width=\"55\" height=\"55\" style=\"fill:#da8bc3;stroke-width:2;stroke:rgb(255,255,255)\"/><rect x=\"385\" y=\"0\" width=\"55\" height=\"55\" style=\"fill:#8c8c8c;stroke-width:2;stroke:rgb(255,255,255)\"/><rect x=\"440\" y=\"0\" width=\"55\" height=\"55\" style=\"fill:#ccb974;stroke-width:2;stroke:rgb(255,255,255)\"/><rect x=\"495\" y=\"0\" width=\"55\" height=\"55\" style=\"fill:#64b5cd;stroke-width:2;stroke:rgb(255,255,255)\"/></svg>"
      ],
      "text/plain": [
       "[(0.2980392156862745, 0.4470588235294118, 0.6901960784313725),\n",
       " (0.8666666666666667, 0.5176470588235295, 0.3215686274509804),\n",
       " (0.3333333333333333, 0.6588235294117647, 0.40784313725490196),\n",
       " (0.7686274509803922, 0.3058823529411765, 0.3215686274509804),\n",
       " (0.5058823529411764, 0.4470588235294118, 0.7019607843137254),\n",
       " (0.5764705882352941, 0.47058823529411764, 0.3764705882352941),\n",
       " (0.8549019607843137, 0.5450980392156862, 0.7647058823529411),\n",
       " (0.5490196078431373, 0.5490196078431373, 0.5490196078431373),\n",
       " (0.8, 0.7254901960784313, 0.4549019607843137),\n",
       " (0.39215686274509803, 0.7098039215686275, 0.803921568627451)]"
      ]
     },
     "execution_count": 35,
     "metadata": {},
     "output_type": "execute_result"
    }
   ],
   "source": [
    "current_palette"
   ]
  },
  {
   "cell_type": "markdown",
   "metadata": {},
   "source": [
    "Analysis for January - June 2022"
   ]
  },
  {
   "cell_type": "code",
   "execution_count": null,
   "metadata": {},
   "outputs": [
    {
     "data": {
      "text/plain": [
       "8    613649\n",
       "6    602057\n",
       "1    563737\n",
       "Name: Month, dtype: int64"
      ]
     },
     "execution_count": 36,
     "metadata": {},
     "output_type": "execute_result"
    }
   ],
   "source": [
    "df_flights[\"Month\"].value_counts()"
   ]
  },
  {
   "cell_type": "code",
   "execution_count": null,
   "metadata": {},
   "outputs": [
    {
     "data": {
      "text/plain": [
       "3    613649\n",
       "2    602057\n",
       "1    563737\n",
       "Name: Quarter, dtype: int64"
      ]
     },
     "execution_count": 37,
     "metadata": {},
     "output_type": "execute_result"
    }
   ],
   "source": [
    "df_flights[\"Quarter\"].value_counts()"
   ]
  },
  {
   "cell_type": "code",
   "execution_count": null,
   "metadata": {},
   "outputs": [
    {
     "data": {
      "text/plain": [
       "2022-06-17    20841\n",
       "2022-06-23    20832\n",
       "2022-06-24    20800\n",
       "2022-06-20    20794\n",
       "2022-06-16    20789\n",
       "              ...  \n",
       "2022-01-01    16684\n",
       "2022-01-08    16031\n",
       "2022-01-29    15644\n",
       "2022-01-22    15625\n",
       "2022-01-15    15483\n",
       "Name: FlightDate, Length: 92, dtype: int64"
      ]
     },
     "execution_count": 38,
     "metadata": {},
     "output_type": "execute_result"
    }
   ],
   "source": [
    "df_flights[\"FlightDate\"].value_counts()"
   ]
  },
  {
   "cell_type": "code",
   "execution_count": null,
   "metadata": {},
   "outputs": [
    {
     "data": {
      "image/png": "[encoded data removed]",
      "text/plain": [
       "<Figure size 800x800 with 1 Axes>"
      ]
     },
     "metadata": {},
     "output_type": "display_data"
    }
   ],
   "source": [
    "cancelled_flights_analysis = (\n",
    "    (df_flights.query(\"Year == 2022 and Month <= 6\")\n",
    "     .groupby([\"Operating_Airline\", \"Cancelled\"])['Cancelled']\n",
    "     .size()\n",
    "     .unstack()\n",
    "     .reset_index()\n",
    "     )\n",
    "    .rename(columns={False: \"Departed\", True: \"Cancelled\"})\n",
    "    .rename_axis(None, axis=1))\n",
    "\n",
    "cancelled_flights_analysis[\"Total\"] = cancelled_flights_analysis[\"Departed\"] + cancelled_flights_analysis[\"Cancelled\"]\n",
    "cancelled_flights_analysis[\"Pct_Cancelled\"] = (cancelled_flights_analysis[\"Cancelled\"] / cancelled_flights_analysis[\"Total\"])*100\n",
    "cancelled_flights_analysis[\"Airline\"] = cancelled_flights_analysis[\"Operating_Airline\"].map(airline_mapper)\n",
    "\n",
    "fig, ax = plt.subplots(figsize=(8, 8))\n",
    "cancelled_flights_analysis[\"Airline\"] = cancelled_flights_analysis[\"Operating_Airline\"].map(\n",
    "    airline_mapper)\n",
    "cancelled_flights_analysis.set_index(\"Airline\").sort_values(\n",
    "    \"Pct_Cancelled\")[\"Pct_Cancelled\"].plot(kind=\"barh\",\n",
    "                                           title=\"Percentage of Operations Cancelled by Airline in January - June 2022\",\n",
    "                                           width=1,\n",
    "                                           #edgecolor=\"black\",\n",
    "                                           color=current_palette[2]\n",
    "                                           )\n",
    "ax.bar_label(ax.containers[0], fmt='%.3f%%', padding=5, fontsize=9, color='b')\n",
    "plt.show()"
   ]
  },
  {
   "cell_type": "code",
   "execution_count": null,
   "metadata": {},
   "outputs": [],
   "source": []
  }
 ],
 "metadata": {
  "kernelspec": {
   "display_name": "Python 3 (ipykernel)",
   "language": "python",
   "name": "python3"
  },
  "language_info": {
   "codemirror_mode": {
    "name": "ipython",
    "version": 3
   },
   "file_extension": ".py",
   "mimetype": "text/x-python",
   "name": "python",
   "nbconvert_exporter": "python",
   "pygments_lexer": "ipython3",
   "version": "3.10.7"
  },
  "vscode": {
   "interpreter": {
    "hash": "c1898d6cb0e1cdc2f80c185504810a75bef999fd51058daa5a4d1f09cfd35875"
   }
  }
 },
 "nbformat": 4,
 "nbformat_minor": 2
}

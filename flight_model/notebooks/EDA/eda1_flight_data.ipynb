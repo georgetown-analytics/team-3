{
 "cells": [
  {
   "cell_type": "code",
   "execution_count": 1,
   "metadata": {},
   "outputs": [],
   "source": [
    "import numpy as np\n",
    "import pandas as pd\n",
    "import matplotlib.pyplot as plt\n",
    "import seaborn as sns \n",
    "import plotly.express as px\n",
    "\n",
    "sns.set_theme(style=\"darkgrid\")\n",
    "current_palette=sns.color_palette()"
   ]
  },
  {
   "cell_type": "code",
   "execution_count": 2,
   "metadata": {},
   "outputs": [],
   "source": [
    "pd.options.display.min_rows = 20\n",
    "pd.options.display.max_columns = 50"
   ]
  },
  {
   "cell_type": "markdown",
   "metadata": {},
   "source": [
    "### Read in the data"
   ]
  },
  {
   "cell_type": "code",
   "execution_count": null,
   "metadata": {},
   "outputs": [],
   "source": [
    "## Read in January 2022 data from filesystem for 1st analysis\n",
    "# df_flights_012022 = pd.read_csv(\"../../data/eda/flights/flight_data_2022/flight_data_202201.zip\", low_memory=False)"
   ]
  },
  {
   "cell_type": "code",
   "execution_count": null,
   "metadata": {},
   "outputs": [],
   "source": [
    "# df_flights_012022.shape"
   ]
  },
  {
   "cell_type": "code",
   "execution_count": null,
   "metadata": {},
   "outputs": [],
   "source": [
    "# df_flights_012022.head(2)"
   ]
  },
  {
   "cell_type": "code",
   "execution_count": null,
   "metadata": {},
   "outputs": [],
   "source": [
    "# df_flights_012022.columns.to_list()"
   ]
  },
  {
   "cell_type": "code",
   "execution_count": null,
   "metadata": {},
   "outputs": [],
   "source": [
    "# remove spaces from column names\n",
    "# df_flights_012022= df_flights_012022.rename(columns={'Operating_Airline ' : 'Airline'})"
   ]
  },
  {
   "cell_type": "code",
   "execution_count": null,
   "metadata": {},
   "outputs": [],
   "source": [
    "# df_flights_012022[\"Operating_Airline\"].head(1)"
   ]
  },
  {
   "cell_type": "code",
   "execution_count": 3,
   "metadata": {},
   "outputs": [],
   "source": [
    "## Read in Jan - Aug 2022 data from filesystem\n",
    "df_flights_012022_082022 = pd.read_csv(\"../../data/eda/flights/flight_data_Y2022/flight_data_2022.csv.zip\",  low_memory=False)"
   ]
  },
  {
   "cell_type": "code",
   "execution_count": 4,
   "metadata": {},
   "outputs": [
    {
     "data": {
      "text/plain": [
       "(4691967, 121)"
      ]
     },
     "execution_count": 4,
     "metadata": {},
     "output_type": "execute_result"
    }
   ],
   "source": [
    "df_flights_012022_082022= df_flights_012022_082022.rename(columns={'Operating_Airline ' : 'Airline'})\n",
    "df_flights_012022_082022.shape"
   ]
  },
  {
   "cell_type": "markdown",
   "metadata": {},
   "source": [
    "Column Selction"
   ]
  },
  {
   "cell_type": "code",
   "execution_count": 5,
   "metadata": {},
   "outputs": [
    {
     "data": {
      "text/plain": [
       "['Unnamed: 0',\n",
       " 'Year',\n",
       " 'Quarter',\n",
       " 'Month',\n",
       " 'DayofMonth',\n",
       " 'DayOfWeek',\n",
       " 'FlightDate',\n",
       " 'Marketing_Airline_Network',\n",
       " 'Operated_or_Branded_Code_Share_Partners',\n",
       " 'DOT_ID_Marketing_Airline',\n",
       " 'IATA_Code_Marketing_Airline',\n",
       " 'Flight_Number_Marketing_Airline',\n",
       " 'Originally_Scheduled_Code_Share_Airline',\n",
       " 'DOT_ID_Originally_Scheduled_Code_Share_Airline',\n",
       " 'IATA_Code_Originally_Scheduled_Code_Share_Airline',\n",
       " 'Flight_Num_Originally_Scheduled_Code_Share_Airline',\n",
       " 'Airline',\n",
       " 'DOT_ID_Operating_Airline',\n",
       " 'IATA_Code_Operating_Airline',\n",
       " 'Tail_Number',\n",
       " 'Flight_Number_Operating_Airline',\n",
       " 'OriginAirportID',\n",
       " 'OriginAirportSeqID',\n",
       " 'OriginCityMarketID',\n",
       " 'Origin',\n",
       " 'OriginCityName',\n",
       " 'OriginState',\n",
       " 'OriginStateFips',\n",
       " 'OriginStateName',\n",
       " 'OriginWac',\n",
       " 'DestAirportID',\n",
       " 'DestAirportSeqID',\n",
       " 'DestCityMarketID',\n",
       " 'Dest',\n",
       " 'DestCityName',\n",
       " 'DestState',\n",
       " 'DestStateFips',\n",
       " 'DestStateName',\n",
       " 'DestWac',\n",
       " 'CRSDepTime',\n",
       " 'DepTime',\n",
       " 'DepDelay',\n",
       " 'DepDelayMinutes',\n",
       " 'DepDel15',\n",
       " 'DepartureDelayGroups',\n",
       " 'DepTimeBlk',\n",
       " 'TaxiOut',\n",
       " 'WheelsOff',\n",
       " 'WheelsOn',\n",
       " 'TaxiIn',\n",
       " 'CRSArrTime',\n",
       " 'ArrTime',\n",
       " 'ArrDelay',\n",
       " 'ArrDelayMinutes',\n",
       " 'ArrDel15',\n",
       " 'ArrivalDelayGroups',\n",
       " 'ArrTimeBlk',\n",
       " 'Cancelled',\n",
       " 'CancellationCode',\n",
       " 'Diverted',\n",
       " 'CRSElapsedTime',\n",
       " 'ActualElapsedTime',\n",
       " 'AirTime',\n",
       " 'Flights',\n",
       " 'Distance',\n",
       " 'DistanceGroup',\n",
       " 'CarrierDelay',\n",
       " 'WeatherDelay',\n",
       " 'NASDelay',\n",
       " 'SecurityDelay',\n",
       " 'LateAircraftDelay',\n",
       " 'FirstDepTime',\n",
       " 'TotalAddGTime',\n",
       " 'LongestAddGTime',\n",
       " 'DivAirportLandings',\n",
       " 'DivReachedDest',\n",
       " 'DivActualElapsedTime',\n",
       " 'DivArrDelay',\n",
       " 'DivDistance',\n",
       " 'Div1Airport',\n",
       " 'Div1AirportID',\n",
       " 'Div1AirportSeqID',\n",
       " 'Div1WheelsOn',\n",
       " 'Div1TotalGTime',\n",
       " 'Div1LongestGTime',\n",
       " 'Div1WheelsOff',\n",
       " 'Div1TailNum',\n",
       " 'Div2Airport',\n",
       " 'Div2AirportID',\n",
       " 'Div2AirportSeqID',\n",
       " 'Div2WheelsOn',\n",
       " 'Div2TotalGTime',\n",
       " 'Div2LongestGTime',\n",
       " 'Div2WheelsOff',\n",
       " 'Div2TailNum',\n",
       " 'Div3Airport',\n",
       " 'Div3AirportID',\n",
       " 'Div3AirportSeqID',\n",
       " 'Div3WheelsOn',\n",
       " 'Div3TotalGTime',\n",
       " 'Div3LongestGTime',\n",
       " 'Div3WheelsOff',\n",
       " 'Div3TailNum',\n",
       " 'Div4Airport',\n",
       " 'Div4AirportID',\n",
       " 'Div4AirportSeqID',\n",
       " 'Div4WheelsOn',\n",
       " 'Div4TotalGTime',\n",
       " 'Div4LongestGTime',\n",
       " 'Div4WheelsOff',\n",
       " 'Div4TailNum',\n",
       " 'Div5Airport',\n",
       " 'Div5AirportID',\n",
       " 'Div5AirportSeqID',\n",
       " 'Div5WheelsOn',\n",
       " 'Div5TotalGTime',\n",
       " 'Div5LongestGTime',\n",
       " 'Div5WheelsOff',\n",
       " 'Div5TailNum',\n",
       " 'Duplicate',\n",
       " 'Unnamed: 119']"
      ]
     },
     "execution_count": 5,
     "metadata": {},
     "output_type": "execute_result"
    }
   ],
   "source": [
    "df_flights_012022_082022.columns.to_list()"
   ]
  },
  {
   "cell_type": "code",
   "execution_count": 7,
   "metadata": {},
   "outputs": [],
   "source": [
    "# Drop irrelevant columns\n",
    "SELECTED_COLUMNS = [\n",
    "    # 'Year',\n",
    "    # 'Quarter',\n",
    "    # 'Month',\n",
    "    # 'DayofMonth',\n",
    "    # 'DayOfWeek',\n",
    "    'FlightDate',\n",
    "    # 'Marketing_Airline_Network',\n",
    "    # 'Operated_or_Branded_Code_Share_Partners',\n",
    "    # 'DOT_ID_Marketing_Airline',\n",
    "    # 'IATA_Code_Marketing_Airline',\n",
    "    # 'Flight_Number_Marketing_Airline',\n",
    "    # 'Originally_Scheduled_Code_Share_Airline',\n",
    "    # 'DOT_ID_Originally_Scheduled_Code_Share_Airline',\n",
    "    # 'IATA_Code_Originally_Scheduled_Code_Share_Airline',\n",
    "    # 'Flight_Num_Originally_Scheduled_Code_Share_Airline',\n",
    "    'Airline',\n",
    "    # 'DOT_ID_Operating_Airline',\n",
    "    # 'IATA_Code_Operating_Airline',\n",
    "    # 'Tail_Number',\n",
    "    # 'Flight_Number_Operating_Airline',\n",
    "    'OriginAirportID',\n",
    "    # 'OriginAirportSeqID',\n",
    "    # 'OriginCityMarketID',\n",
    "    'Origin',\n",
    "    'OriginCityName',\n",
    "    'OriginState',\n",
    "    # 'OriginStateFips',\n",
    "    # 'OriginStateName',\n",
    "    # 'OriginWac',\n",
    "    'DestAirportID',\n",
    "    # 'DestAirportSeqID',\n",
    "    # 'DestCityMarketID',\n",
    "    'Dest',\n",
    "    'DestCityName',\n",
    "    'DestState',\n",
    "    # 'DestStateFips',\n",
    "    'DestStateName',\n",
    "    # 'DestWac',\n",
    "    'CRSDepTime',\n",
    "    'DepTime',\n",
    "    'DepDelay',\n",
    "    'DepDelayMinutes',\n",
    "    'DepDel15',\n",
    "    'DepartureDelayGroups',\n",
    "    'DepTimeBlk',\n",
    "    'TaxiOut',\n",
    "    'WheelsOff',\n",
    "    'WheelsOn',\n",
    "    'TaxiIn',\n",
    "    'CRSArrTime',\n",
    "    'ArrTime',\n",
    "    'ArrDelay',\n",
    "    'ArrDelayMinutes',\n",
    "    'ArrDel15',\n",
    "    'ArrivalDelayGroups',\n",
    "    'ArrTimeBlk',\n",
    "    'Cancelled',\n",
    "    'CancellationCode',\n",
    "    'Diverted',\n",
    "    'CRSElapsedTime',\n",
    "    'ActualElapsedTime',\n",
    "    'AirTime',\n",
    "    'Flights',\n",
    "    'Distance',\n",
    "    'DistanceGroup',\n",
    "    'CarrierDelay',\n",
    "    'WeatherDelay',\n",
    "    'NASDelay',\n",
    "    'SecurityDelay',\n",
    "    'LateAircraftDelay',\n",
    "    'FirstDepTime',\n",
    "    'TotalAddGTime',\n",
    "    'LongestAddGTime',\n",
    "    # 'DivAirportLandings',\n",
    "    # 'DivReachedDest',\n",
    "    # 'DivActualElapsedTime',\n",
    "    # 'DivArrDelay',\n",
    "    # 'DivDistance',\n",
    "    # 'Div1Airport',\n",
    "    # 'Div1AirportID',\n",
    "    # 'Div1AirportSeqID',\n",
    "    # 'Div1WheelsOn',\n",
    "    # 'Div1TotalGTime',\n",
    "    # 'Div1LongestGTime',\n",
    "    # 'Div1WheelsOff',\n",
    "    # 'Div1TailNum',\n",
    "    # 'Div2Airport',\n",
    "    # 'Div2AirportID',\n",
    "    # 'Div2AirportSeqID',\n",
    "    # 'Div2WheelsOn',\n",
    "    # 'Div2TotalGTime',\n",
    "    # 'Div2LongestGTime',\n",
    "    # 'Div2WheelsOff',\n",
    "    # 'Div2TailNum',\n",
    "    # 'Div3Airport',\n",
    "    # 'Div3AirportID',\n",
    "    # 'Div3AirportSeqID',\n",
    "    # 'Div3WheelsOn',\n",
    "    # 'Div3TotalGTime',\n",
    "    # 'Div3LongestGTime',\n",
    "    # 'Div3WheelsOff',\n",
    "    # 'Div3TailNum',\n",
    "    # 'Div4Airport',\n",
    "    # 'Div4AirportID',\n",
    "    # 'Div4AirportSeqID',\n",
    "    # 'Div4WheelsOn',\n",
    "    # 'Div4TotalGTime',\n",
    "    # 'Div4LongestGTime',\n",
    "    # 'Div4WheelsOff',\n",
    "    # 'Div4TailNum',\n",
    "    # 'Div5Airport',\n",
    "    # 'Div5AirportID',\n",
    "    # 'Div5AirportSeqID',\n",
    "    # 'Div5WheelsOn',\n",
    "    # 'Div5TotalGTime',\n",
    "    # 'Div5LongestGTime',\n",
    "    # 'Div5WheelsOff',\n",
    "    # 'Div5TailNum',\n",
    "    # 'Duplicate',\n",
    "    # 'Unnamed: 119'\n",
    "]"
   ]
  },
  {
   "cell_type": "code",
   "execution_count": 8,
   "metadata": {},
   "outputs": [
    {
     "data": {
      "text/plain": [
       "(4691967, 46)"
      ]
     },
     "execution_count": 8,
     "metadata": {},
     "output_type": "execute_result"
    }
   ],
   "source": [
    "df_flights_012022_082022 = df_flights_012022_082022[SELECTED_COLUMNS].copy()\n",
    "df_flights_012022_082022.shape\n"
   ]
  },
  {
   "cell_type": "markdown",
   "metadata": {},
   "source": [
    "Types"
   ]
  },
  {
   "cell_type": "code",
   "execution_count": null,
   "metadata": {},
   "outputs": [],
   "source": [
    "## Types -> Getting the right types will enable analysis and correctness\n",
    "df_flights_012022_082022[SELECTED_COLUMNS].dtypes"
   ]
  },
  {
   "cell_type": "code",
   "execution_count": null,
   "metadata": {},
   "outputs": [],
   "source": [
    "## Evaluate memory usage\n",
    "df_flights_012022_082022[SELECTED_COLUMNS].memory_usage(deep=True)"
   ]
  },
  {
   "cell_type": "code",
   "execution_count": null,
   "metadata": {},
   "outputs": [],
   "source": [
    "df_flights_012022_082022[SELECTED_COLUMNS].memory_usage(deep=True).sum()"
   ]
  },
  {
   "cell_type": "code",
   "execution_count": 9,
   "metadata": {},
   "outputs": [],
   "source": [
    "# More data cleaning \n",
    "## Format column data from [0,1] -> boolean\n",
    "df_flights_012022_082022[\"Cancelled\"] = df_flights_012022_082022[\"Cancelled\"].astype(\"bool\")\n",
    "df_flights_012022_082022[\"Diverted\"] = df_flights_012022_082022[\"Diverted\"].astype(\"bool\")\n",
    "## Converting dataTypes\n",
    "df_flights_012022_082022[\"FlightDate\"] = pd.to_datetime(df_flights_012022_082022[\"FlightDate\"])\n",
    "#df_flights_012022_082022[\"FlightDate\"].head() "
   ]
  },
  {
   "cell_type": "code",
   "execution_count": 10,
   "metadata": {},
   "outputs": [
    {
     "data": {
      "text/plain": [
       "4378079738"
      ]
     },
     "execution_count": 10,
     "metadata": {},
     "output_type": "execute_result"
    }
   ],
   "source": [
    "df_flights_012022_082022[SELECTED_COLUMNS].memory_usage(deep=True).sum()"
   ]
  },
  {
   "cell_type": "markdown",
   "metadata": {},
   "source": [
    "Integer Types"
   ]
  },
  {
   "cell_type": "code",
   "execution_count": null,
   "metadata": {},
   "outputs": [],
   "source": [
    "df_flights_012022_082022.head()"
   ]
  },
  {
   "cell_type": "code",
   "execution_count": null,
   "metadata": {},
   "outputs": [],
   "source": [
    "(df_flights_012022_082022[SELECTED_COLUMNS].select_dtypes(int).describe())\n"
   ]
  },
  {
   "cell_type": "code",
   "execution_count": null,
   "metadata": {},
   "outputs": [],
   "source": [
    "#(df_flights_012022_082022.shape)"
   ]
  },
  {
   "cell_type": "code",
   "execution_count": null,
   "metadata": {},
   "outputs": [],
   "source": [
    "(df_flights_012022_082022.OriginAirportID.describe())"
   ]
  },
  {
   "cell_type": "code",
   "execution_count": null,
   "metadata": {},
   "outputs": [],
   "source": [
    "np.iinfo(np.int16)"
   ]
  },
  {
   "cell_type": "code",
   "execution_count": null,
   "metadata": {},
   "outputs": [],
   "source": [
    "np.iinfo(np.int32)"
   ]
  },
  {
   "cell_type": "code",
   "execution_count": null,
   "metadata": {},
   "outputs": [],
   "source": [
    "np.iinfo(np.int64)"
   ]
  },
  {
   "cell_type": "markdown",
   "metadata": {},
   "source": [
    "Floats"
   ]
  },
  {
   "cell_type": "code",
   "execution_count": null,
   "metadata": {},
   "outputs": [],
   "source": [
    "(df_flights_012022_082022[SELECTED_COLUMNS].select_dtypes('float'))"
   ]
  },
  {
   "cell_type": "code",
   "execution_count": null,
   "metadata": {},
   "outputs": [],
   "source": [
    "(df_flights_012022_082022.DepTime.describe())\n"
   ]
  },
  {
   "cell_type": "code",
   "execution_count": null,
   "metadata": {},
   "outputs": [],
   "source": [
    "#oops! 135280 missing values [NaN: 135280]\n",
    "(df_flights_012022_082022.DepTime.value_counts(dropna=False))"
   ]
  },
  {
   "cell_type": "code",
   "execution_count": null,
   "metadata": {},
   "outputs": [],
   "source": [
    "# investigate where these values are missing\n",
    "(df_flights_012022_082022[SELECTED_COLUMNS].query('DepTime.isna()'))"
   ]
  },
  {
   "cell_type": "code",
   "execution_count": null,
   "metadata": {},
   "outputs": [],
   "source": [
    "np.finfo(np.float16)"
   ]
  },
  {
   "cell_type": "code",
   "execution_count": 11,
   "metadata": {},
   "outputs": [],
   "source": [
    "# Subject Matter Expert info => Missing values correspond to cancelled flights\n",
    "# decision -> replace with 0\n",
    "df_flights_012022_082022[SELECTED_COLUMNS]=(df_flights_012022_082022\n",
    " [SELECTED_COLUMNS]\n",
    " .assign(DepTime=df_flights_012022_082022.DepTime.fillna(0).astype('float16'),\n",
    "         DepDelay=df_flights_012022_082022.DepDelay.fillna(0).astype('float16'),\n",
    "         DepDelayMinutes=df_flights_012022_082022.DepDelayMinutes.fillna(0),\n",
    "         DepDel15=df_flights_012022_082022.DepDel15.fillna(0).astype('float16'),\n",
    "         DepartureDelayGroups=df_flights_012022_082022.DepartureDelayGroups.fillna(0).astype('float16'),\n",
    "         TaxiOut=df_flights_012022_082022.TaxiOut.fillna(0).astype('float16'),\n",
    "         WheelsOff=df_flights_012022_082022.WheelsOff.fillna(0).astype('float16'),\n",
    "         WheelsOn=df_flights_012022_082022.WheelsOn.fillna(0).astype('float16'),\n",
    "         TaxiIn=df_flights_012022_082022.TaxiIn.fillna(0).astype('float16'),\n",
    "         ArrTime=df_flights_012022_082022.ArrTime.fillna(0).astype('float16'),\n",
    "         ArrDelay=df_flights_012022_082022.ArrDelay.fillna(0).astype('float16'),\n",
    "         ArrDelayMinutes=df_flights_012022_082022.ArrDelayMinutes.fillna(0).astype('float16'),\n",
    "         ArrDel15=df_flights_012022_082022.ArrDel15.fillna(0).astype('float16'),\n",
    "         ArrivalDelayGroups=df_flights_012022_082022.ArrivalDelayGroups.fillna(0).astype('float16'),\n",
    "         CRSElapsedTime=df_flights_012022_082022.CRSElapsedTime.fillna(0).astype('float16'),\n",
    "         ActualElapsedTime=df_flights_012022_082022.ActualElapsedTime.fillna(0).astype('float16'),\n",
    "         AirTime=df_flights_012022_082022.AirTime.fillna(0).astype('float16'),\n",
    "         Flights=df_flights_012022_082022.Flights.fillna(0).astype('float16'),\n",
    "         Distance=df_flights_012022_082022.Distance.fillna(0).astype('float16'),\n",
    "         CarrierDelay=df_flights_012022_082022.CarrierDelay.fillna(0).astype('float16'),\n",
    "         WeatherDelay=df_flights_012022_082022.WeatherDelay.fillna(0).astype('float16'),\n",
    "         NASDelay=df_flights_012022_082022.NASDelay.fillna(0).astype('float16'),\n",
    "         SecurityDelay=df_flights_012022_082022.SecurityDelay.fillna(0).astype('float16'),\n",
    "         LateAircraftDelay=df_flights_012022_082022.LateAircraftDelay.fillna(0).astype('float16'),\n",
    "         FirstDepTime=df_flights_012022_082022.FirstDepTime.fillna(0).astype('float16'),\n",
    "         TotalAddGTime=df_flights_012022_082022.TotalAddGTime.fillna(0).astype('float16'),\n",
    "         LongestAddGTime=df_flights_012022_082022.LongestAddGTime.fillna(0).astype('float16')\n",
    " ))\n"
   ]
  },
  {
   "cell_type": "code",
   "execution_count": 12,
   "metadata": {},
   "outputs": [
    {
     "data": {
      "text/html": [
       "<div>\n",
       "<style scoped>\n",
       "    .dataframe tbody tr th:only-of-type {\n",
       "        vertical-align: middle;\n",
       "    }\n",
       "\n",
       "    .dataframe tbody tr th {\n",
       "        vertical-align: top;\n",
       "    }\n",
       "\n",
       "    .dataframe thead th {\n",
       "        text-align: right;\n",
       "    }\n",
       "</style>\n",
       "<table border=\"1\" class=\"dataframe\">\n",
       "  <thead>\n",
       "    <tr style=\"text-align: right;\">\n",
       "      <th></th>\n",
       "      <th>OriginAirportID</th>\n",
       "      <th>DestAirportID</th>\n",
       "      <th>CRSDepTime</th>\n",
       "      <th>DepTime</th>\n",
       "      <th>DepDelay</th>\n",
       "      <th>DepDelayMinutes</th>\n",
       "      <th>DepDel15</th>\n",
       "      <th>DepartureDelayGroups</th>\n",
       "      <th>TaxiOut</th>\n",
       "      <th>WheelsOff</th>\n",
       "      <th>WheelsOn</th>\n",
       "      <th>TaxiIn</th>\n",
       "      <th>CRSArrTime</th>\n",
       "      <th>ArrTime</th>\n",
       "      <th>ArrDelay</th>\n",
       "      <th>ArrDelayMinutes</th>\n",
       "      <th>ArrDel15</th>\n",
       "      <th>ArrivalDelayGroups</th>\n",
       "      <th>CRSElapsedTime</th>\n",
       "      <th>ActualElapsedTime</th>\n",
       "      <th>AirTime</th>\n",
       "      <th>Flights</th>\n",
       "      <th>Distance</th>\n",
       "      <th>DistanceGroup</th>\n",
       "      <th>CarrierDelay</th>\n",
       "      <th>WeatherDelay</th>\n",
       "      <th>NASDelay</th>\n",
       "      <th>SecurityDelay</th>\n",
       "      <th>LateAircraftDelay</th>\n",
       "      <th>FirstDepTime</th>\n",
       "      <th>TotalAddGTime</th>\n",
       "      <th>LongestAddGTime</th>\n",
       "    </tr>\n",
       "  </thead>\n",
       "  <tbody>\n",
       "    <tr>\n",
       "      <th>count</th>\n",
       "      <td>4.691967e+06</td>\n",
       "      <td>4.691967e+06</td>\n",
       "      <td>4.691967e+06</td>\n",
       "      <td>4691967.0</td>\n",
       "      <td>4691967.0</td>\n",
       "      <td>4.691967e+06</td>\n",
       "      <td>4691967.0</td>\n",
       "      <td>4691967.0</td>\n",
       "      <td>4691967.0</td>\n",
       "      <td>4691967.0</td>\n",
       "      <td>4691967.0</td>\n",
       "      <td>4691967.0</td>\n",
       "      <td>4.691967e+06</td>\n",
       "      <td>4691967.0</td>\n",
       "      <td>4691967.0</td>\n",
       "      <td>4691967.0</td>\n",
       "      <td>4691967.0</td>\n",
       "      <td>4691967.0</td>\n",
       "      <td>4691967.0</td>\n",
       "      <td>4691967.0</td>\n",
       "      <td>4691967.0</td>\n",
       "      <td>4691967.0</td>\n",
       "      <td>4691967.0</td>\n",
       "      <td>4.691967e+06</td>\n",
       "      <td>4691967.0</td>\n",
       "      <td>4691967.0</td>\n",
       "      <td>4691967.0</td>\n",
       "      <td>4691967.0</td>\n",
       "      <td>4691967.0</td>\n",
       "      <td>4691967.0</td>\n",
       "      <td>4691967.0</td>\n",
       "      <td>4691967.0</td>\n",
       "    </tr>\n",
       "    <tr>\n",
       "      <th>mean</th>\n",
       "      <td>1.265936e+04</td>\n",
       "      <td>1.265932e+04</td>\n",
       "      <td>1.330279e+03</td>\n",
       "      <td>NaN</td>\n",
       "      <td>NaN</td>\n",
       "      <td>1.566092e+01</td>\n",
       "      <td>NaN</td>\n",
       "      <td>NaN</td>\n",
       "      <td>NaN</td>\n",
       "      <td>NaN</td>\n",
       "      <td>NaN</td>\n",
       "      <td>NaN</td>\n",
       "      <td>1.485272e+03</td>\n",
       "      <td>NaN</td>\n",
       "      <td>NaN</td>\n",
       "      <td>NaN</td>\n",
       "      <td>NaN</td>\n",
       "      <td>NaN</td>\n",
       "      <td>NaN</td>\n",
       "      <td>NaN</td>\n",
       "      <td>NaN</td>\n",
       "      <td>NaN</td>\n",
       "      <td>NaN</td>\n",
       "      <td>3.662583e+00</td>\n",
       "      <td>NaN</td>\n",
       "      <td>NaN</td>\n",
       "      <td>NaN</td>\n",
       "      <td>NaN</td>\n",
       "      <td>NaN</td>\n",
       "      <td>NaN</td>\n",
       "      <td>NaN</td>\n",
       "      <td>NaN</td>\n",
       "    </tr>\n",
       "    <tr>\n",
       "      <th>std</th>\n",
       "      <td>1.523274e+03</td>\n",
       "      <td>1.523281e+03</td>\n",
       "      <td>4.912575e+02</td>\n",
       "      <td>NaN</td>\n",
       "      <td>NaN</td>\n",
       "      <td>5.190498e+01</td>\n",
       "      <td>0.0</td>\n",
       "      <td>0.0</td>\n",
       "      <td>0.0</td>\n",
       "      <td>NaN</td>\n",
       "      <td>NaN</td>\n",
       "      <td>NaN</td>\n",
       "      <td>5.196737e+02</td>\n",
       "      <td>NaN</td>\n",
       "      <td>NaN</td>\n",
       "      <td>NaN</td>\n",
       "      <td>0.0</td>\n",
       "      <td>0.0</td>\n",
       "      <td>NaN</td>\n",
       "      <td>NaN</td>\n",
       "      <td>NaN</td>\n",
       "      <td>0.0</td>\n",
       "      <td>NaN</td>\n",
       "      <td>2.325003e+00</td>\n",
       "      <td>NaN</td>\n",
       "      <td>NaN</td>\n",
       "      <td>NaN</td>\n",
       "      <td>NaN</td>\n",
       "      <td>NaN</td>\n",
       "      <td>NaN</td>\n",
       "      <td>NaN</td>\n",
       "      <td>NaN</td>\n",
       "    </tr>\n",
       "    <tr>\n",
       "      <th>min</th>\n",
       "      <td>1.013500e+04</td>\n",
       "      <td>1.013500e+04</td>\n",
       "      <td>1.000000e+00</td>\n",
       "      <td>0.0</td>\n",
       "      <td>-78.0</td>\n",
       "      <td>0.000000e+00</td>\n",
       "      <td>0.0</td>\n",
       "      <td>-2.0</td>\n",
       "      <td>0.0</td>\n",
       "      <td>0.0</td>\n",
       "      <td>0.0</td>\n",
       "      <td>0.0</td>\n",
       "      <td>1.000000e+00</td>\n",
       "      <td>0.0</td>\n",
       "      <td>-100.0</td>\n",
       "      <td>0.0</td>\n",
       "      <td>0.0</td>\n",
       "      <td>-2.0</td>\n",
       "      <td>-48.0</td>\n",
       "      <td>0.0</td>\n",
       "      <td>0.0</td>\n",
       "      <td>1.0</td>\n",
       "      <td>31.0</td>\n",
       "      <td>1.000000e+00</td>\n",
       "      <td>0.0</td>\n",
       "      <td>0.0</td>\n",
       "      <td>0.0</td>\n",
       "      <td>0.0</td>\n",
       "      <td>0.0</td>\n",
       "      <td>0.0</td>\n",
       "      <td>0.0</td>\n",
       "      <td>0.0</td>\n",
       "    </tr>\n",
       "    <tr>\n",
       "      <th>25%</th>\n",
       "      <td>1.129200e+04</td>\n",
       "      <td>1.129200e+04</td>\n",
       "      <td>9.130000e+02</td>\n",
       "      <td>854.0</td>\n",
       "      <td>-5.0</td>\n",
       "      <td>0.000000e+00</td>\n",
       "      <td>0.0</td>\n",
       "      <td>-1.0</td>\n",
       "      <td>11.0</td>\n",
       "      <td>909.0</td>\n",
       "      <td>1016.0</td>\n",
       "      <td>4.0</td>\n",
       "      <td>1.101000e+03</td>\n",
       "      <td>1019.0</td>\n",
       "      <td>-14.0</td>\n",
       "      <td>0.0</td>\n",
       "      <td>0.0</td>\n",
       "      <td>-1.0</td>\n",
       "      <td>89.0</td>\n",
       "      <td>80.0</td>\n",
       "      <td>57.0</td>\n",
       "      <td>1.0</td>\n",
       "      <td>366.0</td>\n",
       "      <td>2.000000e+00</td>\n",
       "      <td>0.0</td>\n",
       "      <td>0.0</td>\n",
       "      <td>0.0</td>\n",
       "      <td>0.0</td>\n",
       "      <td>0.0</td>\n",
       "      <td>0.0</td>\n",
       "      <td>0.0</td>\n",
       "      <td>0.0</td>\n",
       "    </tr>\n",
       "    <tr>\n",
       "      <th>50%</th>\n",
       "      <td>1.288900e+04</td>\n",
       "      <td>1.288900e+04</td>\n",
       "      <td>1.320000e+03</td>\n",
       "      <td>1309.0</td>\n",
       "      <td>-1.0</td>\n",
       "      <td>0.000000e+00</td>\n",
       "      <td>0.0</td>\n",
       "      <td>-1.0</td>\n",
       "      <td>14.0</td>\n",
       "      <td>1322.0</td>\n",
       "      <td>1439.0</td>\n",
       "      <td>6.0</td>\n",
       "      <td>1.512000e+03</td>\n",
       "      <td>1442.0</td>\n",
       "      <td>-5.0</td>\n",
       "      <td>0.0</td>\n",
       "      <td>0.0</td>\n",
       "      <td>-1.0</td>\n",
       "      <td>124.0</td>\n",
       "      <td>116.0</td>\n",
       "      <td>91.0</td>\n",
       "      <td>1.0</td>\n",
       "      <td>642.0</td>\n",
       "      <td>3.000000e+00</td>\n",
       "      <td>0.0</td>\n",
       "      <td>0.0</td>\n",
       "      <td>0.0</td>\n",
       "      <td>0.0</td>\n",
       "      <td>0.0</td>\n",
       "      <td>0.0</td>\n",
       "      <td>0.0</td>\n",
       "      <td>0.0</td>\n",
       "    </tr>\n",
       "    <tr>\n",
       "      <th>75%</th>\n",
       "      <td>1.402700e+04</td>\n",
       "      <td>1.402700e+04</td>\n",
       "      <td>1.735000e+03</td>\n",
       "      <td>1737.0</td>\n",
       "      <td>10.0</td>\n",
       "      <td>1.000000e+01</td>\n",
       "      <td>0.0</td>\n",
       "      <td>0.0</td>\n",
       "      <td>19.0</td>\n",
       "      <td>1751.0</td>\n",
       "      <td>1902.0</td>\n",
       "      <td>9.0</td>\n",
       "      <td>1.920000e+03</td>\n",
       "      <td>1906.0</td>\n",
       "      <td>10.0</td>\n",
       "      <td>10.0</td>\n",
       "      <td>0.0</td>\n",
       "      <td>0.0</td>\n",
       "      <td>171.0</td>\n",
       "      <td>165.0</td>\n",
       "      <td>139.0</td>\n",
       "      <td>1.0</td>\n",
       "      <td>1034.0</td>\n",
       "      <td>5.000000e+00</td>\n",
       "      <td>0.0</td>\n",
       "      <td>0.0</td>\n",
       "      <td>0.0</td>\n",
       "      <td>0.0</td>\n",
       "      <td>0.0</td>\n",
       "      <td>0.0</td>\n",
       "      <td>0.0</td>\n",
       "      <td>0.0</td>\n",
       "    </tr>\n",
       "    <tr>\n",
       "      <th>max</th>\n",
       "      <td>1.686900e+04</td>\n",
       "      <td>1.686900e+04</td>\n",
       "      <td>2.359000e+03</td>\n",
       "      <td>2400.0</td>\n",
       "      <td>7224.0</td>\n",
       "      <td>7.223000e+03</td>\n",
       "      <td>1.0</td>\n",
       "      <td>12.0</td>\n",
       "      <td>221.0</td>\n",
       "      <td>2400.0</td>\n",
       "      <td>2400.0</td>\n",
       "      <td>290.0</td>\n",
       "      <td>2.400000e+03</td>\n",
       "      <td>2400.0</td>\n",
       "      <td>7232.0</td>\n",
       "      <td>7232.0</td>\n",
       "      <td>1.0</td>\n",
       "      <td>12.0</td>\n",
       "      <td>690.0</td>\n",
       "      <td>764.0</td>\n",
       "      <td>727.0</td>\n",
       "      <td>1.0</td>\n",
       "      <td>5096.0</td>\n",
       "      <td>1.100000e+01</td>\n",
       "      <td>7232.0</td>\n",
       "      <td>2364.0</td>\n",
       "      <td>1740.0</td>\n",
       "      <td>1245.0</td>\n",
       "      <td>2098.0</td>\n",
       "      <td>2400.0</td>\n",
       "      <td>376.0</td>\n",
       "      <td>341.0</td>\n",
       "    </tr>\n",
       "  </tbody>\n",
       "</table>\n",
       "</div>"
      ],
      "text/plain": [
       "       OriginAirportID  DestAirportID    CRSDepTime    DepTime   DepDelay  \\\n",
       "count     4.691967e+06   4.691967e+06  4.691967e+06  4691967.0  4691967.0   \n",
       "mean      1.265936e+04   1.265932e+04  1.330279e+03        NaN        NaN   \n",
       "std       1.523274e+03   1.523281e+03  4.912575e+02        NaN        NaN   \n",
       "min       1.013500e+04   1.013500e+04  1.000000e+00        0.0      -78.0   \n",
       "25%       1.129200e+04   1.129200e+04  9.130000e+02      854.0       -5.0   \n",
       "50%       1.288900e+04   1.288900e+04  1.320000e+03     1309.0       -1.0   \n",
       "75%       1.402700e+04   1.402700e+04  1.735000e+03     1737.0       10.0   \n",
       "max       1.686900e+04   1.686900e+04  2.359000e+03     2400.0     7224.0   \n",
       "\n",
       "       DepDelayMinutes   DepDel15  DepartureDelayGroups    TaxiOut  WheelsOff  \\\n",
       "count     4.691967e+06  4691967.0             4691967.0  4691967.0  4691967.0   \n",
       "mean      1.566092e+01        NaN                   NaN        NaN        NaN   \n",
       "std       5.190498e+01        0.0                   0.0        0.0        NaN   \n",
       "min       0.000000e+00        0.0                  -2.0        0.0        0.0   \n",
       "25%       0.000000e+00        0.0                  -1.0       11.0      909.0   \n",
       "50%       0.000000e+00        0.0                  -1.0       14.0     1322.0   \n",
       "75%       1.000000e+01        0.0                   0.0       19.0     1751.0   \n",
       "max       7.223000e+03        1.0                  12.0      221.0     2400.0   \n",
       "\n",
       "        WheelsOn     TaxiIn    CRSArrTime    ArrTime   ArrDelay  \\\n",
       "count  4691967.0  4691967.0  4.691967e+06  4691967.0  4691967.0   \n",
       "mean         NaN        NaN  1.485272e+03        NaN        NaN   \n",
       "std          NaN        NaN  5.196737e+02        NaN        NaN   \n",
       "min          0.0        0.0  1.000000e+00        0.0     -100.0   \n",
       "25%       1016.0        4.0  1.101000e+03     1019.0      -14.0   \n",
       "50%       1439.0        6.0  1.512000e+03     1442.0       -5.0   \n",
       "75%       1902.0        9.0  1.920000e+03     1906.0       10.0   \n",
       "max       2400.0      290.0  2.400000e+03     2400.0     7232.0   \n",
       "\n",
       "       ArrDelayMinutes   ArrDel15  ArrivalDelayGroups  CRSElapsedTime  \\\n",
       "count        4691967.0  4691967.0           4691967.0       4691967.0   \n",
       "mean               NaN        NaN                 NaN             NaN   \n",
       "std                NaN        0.0                 0.0             NaN   \n",
       "min                0.0        0.0                -2.0           -48.0   \n",
       "25%                0.0        0.0                -1.0            89.0   \n",
       "50%                0.0        0.0                -1.0           124.0   \n",
       "75%               10.0        0.0                 0.0           171.0   \n",
       "max             7232.0        1.0                12.0           690.0   \n",
       "\n",
       "       ActualElapsedTime    AirTime    Flights   Distance  DistanceGroup  \\\n",
       "count          4691967.0  4691967.0  4691967.0  4691967.0   4.691967e+06   \n",
       "mean                 NaN        NaN        NaN        NaN   3.662583e+00   \n",
       "std                  NaN        NaN        0.0        NaN   2.325003e+00   \n",
       "min                  0.0        0.0        1.0       31.0   1.000000e+00   \n",
       "25%                 80.0       57.0        1.0      366.0   2.000000e+00   \n",
       "50%                116.0       91.0        1.0      642.0   3.000000e+00   \n",
       "75%                165.0      139.0        1.0     1034.0   5.000000e+00   \n",
       "max                764.0      727.0        1.0     5096.0   1.100000e+01   \n",
       "\n",
       "       CarrierDelay  WeatherDelay   NASDelay  SecurityDelay  \\\n",
       "count     4691967.0     4691967.0  4691967.0      4691967.0   \n",
       "mean            NaN           NaN        NaN            NaN   \n",
       "std             NaN           NaN        NaN            NaN   \n",
       "min             0.0           0.0        0.0            0.0   \n",
       "25%             0.0           0.0        0.0            0.0   \n",
       "50%             0.0           0.0        0.0            0.0   \n",
       "75%             0.0           0.0        0.0            0.0   \n",
       "max          7232.0        2364.0     1740.0         1245.0   \n",
       "\n",
       "       LateAircraftDelay  FirstDepTime  TotalAddGTime  LongestAddGTime  \n",
       "count          4691967.0     4691967.0      4691967.0        4691967.0  \n",
       "mean                 NaN           NaN            NaN              NaN  \n",
       "std                  NaN           NaN            NaN              NaN  \n",
       "min                  0.0           0.0            0.0              0.0  \n",
       "25%                  0.0           0.0            0.0              0.0  \n",
       "50%                  0.0           0.0            0.0              0.0  \n",
       "75%                  0.0           0.0            0.0              0.0  \n",
       "max               2098.0        2400.0          376.0            341.0  "
      ]
     },
     "execution_count": 12,
     "metadata": {},
     "output_type": "execute_result"
    }
   ],
   "source": [
    "(df_flights_012022_082022[SELECTED_COLUMNS].describe())"
   ]
  },
  {
   "cell_type": "code",
   "execution_count": null,
   "metadata": {},
   "outputs": [],
   "source": [
    "(df_flights_012022_082022.DepTime.describe())"
   ]
  },
  {
   "cell_type": "code",
   "execution_count": null,
   "metadata": {},
   "outputs": [],
   "source": [
    "np.finfo(np.float32)"
   ]
  },
  {
   "cell_type": "code",
   "execution_count": null,
   "metadata": {},
   "outputs": [],
   "source": [
    "df_flights_012022_082022[SELECTED_COLUMNS].memory_usage(deep=True).sum()"
   ]
  },
  {
   "cell_type": "code",
   "execution_count": null,
   "metadata": {},
   "outputs": [],
   "source": [
    "3650824853 / 4410923507"
   ]
  },
  {
   "cell_type": "markdown",
   "metadata": {},
   "source": [
    "#### Load the transformed data"
   ]
  },
  {
   "cell_type": "code",
   "execution_count": 13,
   "metadata": {},
   "outputs": [],
   "source": [
    "df_flights_012022_082022.to_csv(\"../../data/eda/flights/flight_data_Y2022/transformed_flight_data_2022.csv.zip\",compression=\"zip\", index=False)"
   ]
  },
  {
   "cell_type": "code",
   "execution_count": 14,
   "metadata": {},
   "outputs": [],
   "source": [
    "df_flights_012022_082022 = pd.read_csv(\"../../data/eda/flights/flight_data_Y2022/transformed_flight_data_2022.csv.zip\",  low_memory=False)"
   ]
  },
  {
   "cell_type": "code",
   "execution_count": 15,
   "metadata": {},
   "outputs": [
    {
     "data": {
      "text/plain": [
       "(4691967, 46)"
      ]
     },
     "execution_count": 15,
     "metadata": {},
     "output_type": "execute_result"
    }
   ],
   "source": [
    "df_flights_012022_082022.shape"
   ]
  },
  {
   "cell_type": "code",
   "execution_count": 16,
   "metadata": {},
   "outputs": [
    {
     "name": "stdout",
     "output_type": "stream",
     "text": [
      "<class 'pandas.core.frame.DataFrame'>\n",
      "RangeIndex: 4691967 entries, 0 to 4691966\n",
      "Data columns (total 46 columns):\n",
      " #   Column                Dtype  \n",
      "---  ------                -----  \n",
      " 0   FlightDate            object \n",
      " 1   Airline               object \n",
      " 2   OriginAirportID       int64  \n",
      " 3   Origin                object \n",
      " 4   OriginCityName        object \n",
      " 5   OriginState           object \n",
      " 6   DestAirportID         int64  \n",
      " 7   Dest                  object \n",
      " 8   DestCityName          object \n",
      " 9   DestState             object \n",
      " 10  DestStateName         object \n",
      " 11  CRSDepTime            int64  \n",
      " 12  DepTime               float64\n",
      " 13  DepDelay              float64\n",
      " 14  DepDelayMinutes       float64\n",
      " 15  DepDel15              float64\n",
      " 16  DepartureDelayGroups  float64\n",
      " 17  DepTimeBlk            object \n",
      " 18  TaxiOut               float64\n",
      " 19  WheelsOff             float64\n",
      " 20  WheelsOn              float64\n",
      " 21  TaxiIn                float64\n",
      " 22  CRSArrTime            int64  \n",
      " 23  ArrTime               float64\n",
      " 24  ArrDelay              float64\n",
      " 25  ArrDelayMinutes       float64\n",
      " 26  ArrDel15              float64\n",
      " 27  ArrivalDelayGroups    float64\n",
      " 28  ArrTimeBlk            object \n",
      " 29  Cancelled             bool   \n",
      " 30  CancellationCode      object \n",
      " 31  Diverted              bool   \n",
      " 32  CRSElapsedTime        float64\n",
      " 33  ActualElapsedTime     float64\n",
      " 34  AirTime               float64\n",
      " 35  Flights               float64\n",
      " 36  Distance              float64\n",
      " 37  DistanceGroup         int64  \n",
      " 38  CarrierDelay          float64\n",
      " 39  WeatherDelay          float64\n",
      " 40  NASDelay              float64\n",
      " 41  SecurityDelay         float64\n",
      " 42  LateAircraftDelay     float64\n",
      " 43  FirstDepTime          float64\n",
      " 44  TotalAddGTime         float64\n",
      " 45  LongestAddGTime       float64\n",
      "dtypes: bool(2), float64(27), int64(5), object(12)\n",
      "memory usage: 1.5+ GB\n"
     ]
    }
   ],
   "source": [
    "df_flights_012022_082022.info()"
   ]
  },
  {
   "cell_type": "code",
   "execution_count": null,
   "metadata": {},
   "outputs": [],
   "source": [
    "#(df_flights_012022_082022[SELECTED_COLUMNS].select_dtypes('float'))"
   ]
  },
  {
   "cell_type": "code",
   "execution_count": null,
   "metadata": {},
   "outputs": [],
   "source": [
    "df_flights_012022_082022.isna().sum()"
   ]
  },
  {
   "cell_type": "code",
   "execution_count": null,
   "metadata": {},
   "outputs": [],
   "source": [
    "df_flights_012022_082022.corr()"
   ]
  },
  {
   "cell_type": "code",
   "execution_count": null,
   "metadata": {},
   "outputs": [],
   "source": [
    "# % of missing values\n",
    "df_flights_012022_082022.isna().mean()*100"
   ]
  },
  {
   "cell_type": "code",
   "execution_count": null,
   "metadata": {},
   "outputs": [],
   "source": [
    "(df_flights_012022_082022.CancellationCode.value_counts(dropna=False))"
   ]
  },
  {
   "cell_type": "code",
   "execution_count": null,
   "metadata": {},
   "outputs": [],
   "source": [
    "(df_flights_012022_082022.CancellationCode.describe())"
   ]
  },
  {
   "cell_type": "markdown",
   "metadata": {},
   "source": [
    "#### Delays by Airline in 2022"
   ]
  },
  {
   "cell_type": "code",
   "execution_count": null,
   "metadata": {},
   "outputs": [],
   "source": [
    "airline_csv = \"https://raw.githubusercontent.com/jenbam/airlines/master/data-raw/airlines.csv\"\n",
    "airlines = pd.read_csv(airline_csv)\n",
    "## save locally\n",
    "#airlines.to_csv(\"airlines.csv\") \n",
    "airlines.query(\"Code == '9E'\")\n",
    "#airlines\n",
    "airline_mapper = airlines.set_index(\"Code\")[\"Description\"]\n"
   ]
  },
  {
   "cell_type": "code",
   "execution_count": null,
   "metadata": {},
   "outputs": [],
   "source": [
    "airline_counts=df_flights_012022_082022[\"Operating_Airline\"].value_counts()\n",
    "airline_counts.head()"
   ]
  },
  {
   "cell_type": "code",
   "execution_count": null,
   "metadata": {},
   "outputs": [],
   "source": [
    "airline_counts=df_flights_012022_082022[\"Operating_Airline\"].value_counts()\n",
    "airline_counts\n",
    "airline_counts.index=airline_counts.index.map(\n",
    "    airlines.set_index('Code')['Description']\n",
    "    ).rename(\"Airline\")\n",
    "airline_counts.head()"
   ]
  },
  {
   "cell_type": "code",
   "execution_count": null,
   "metadata": {},
   "outputs": [],
   "source": [
    "airline_counts.plot(kind='barh', figsize=(10,10))"
   ]
  },
  {
   "cell_type": "code",
   "execution_count": null,
   "metadata": {},
   "outputs": [],
   "source": [
    "airline_counts.sort_values(ascending=True).plot(kind='barh', figsize=(10,10))"
   ]
  },
  {
   "cell_type": "code",
   "execution_count": null,
   "metadata": {},
   "outputs": [],
   "source": [
    "airline_counts.sort_values(ascending=True).to_frame(\"Row Count\")"
   ]
  },
  {
   "cell_type": "code",
   "execution_count": null,
   "metadata": {},
   "outputs": [],
   "source": [
    "px.bar(\n",
    "    airline_counts.sort_values(ascending=True), \n",
    "    orientation='h', \n",
    "    template=\"plotly_dark\",\n",
    "    title=\"Flights per airline\",\n",
    "    height=700,\n",
    "    )"
   ]
  },
  {
   "cell_type": "code",
   "execution_count": null,
   "metadata": {},
   "outputs": [],
   "source": [
    "pct_cancelled = df_flights_012022_082022[\"Cancelled\"].mean()\n",
    "print(f\"{pct_cancelled:0.2f}% of flights are cancelled\")\n",
    "pct_cancelled"
   ]
  },
  {
   "cell_type": "code",
   "execution_count": null,
   "metadata": {},
   "outputs": [],
   "source": [
    "df_flights_012022_082022[\"Cancelled\"].value_counts()"
   ]
  },
  {
   "cell_type": "markdown",
   "metadata": {},
   "source": [
    "### Cancelled flights, group by Year"
   ]
  },
  {
   "cell_type": "code",
   "execution_count": null,
   "metadata": {},
   "outputs": [],
   "source": [
    "#df_flights.query(\"Year==2022\").query(\"Cancelled\")\n",
    "df_flights_012022_082022.groupby(\"FlightDate\")[\"Cancelled\"].agg(\"mean\").to_frame()"
   ]
  },
  {
   "cell_type": "code",
   "execution_count": null,
   "metadata": {},
   "outputs": [],
   "source": [
    "df_flights_012022_082022.query('20220101 < FlightDate < 20221231')  # flights in 2022"
   ]
  },
  {
   "cell_type": "code",
   "execution_count": null,
   "metadata": {},
   "outputs": [],
   "source": [
    "cancelled_flights_analysis = (\n",
    "    (df_flights_012022_082022.query(\"20220101 <FlightDate < 20221231\")\n",
    "     .groupby([\"Operating_Airline\", \"Cancelled\"])['Cancelled']\n",
    "     .size()\n",
    "     .unstack()\n",
    "     .reset_index()\n",
    "     )\n",
    "    .rename(columns={False: \"Departed\", True: \"Cancelled\"})\n",
    "    .rename_axis(None, axis=1))\n",
    "\n",
    "cancelled_flights_analysis[\"Total\"] = cancelled_flights_analysis[\"Departed\"] + cancelled_flights_analysis[\"Cancelled\"]\n",
    "cancelled_flights_analysis[\"Pct_Cancelled\"] = (cancelled_flights_analysis[\"Cancelled\"] / cancelled_flights_analysis[\"Total\"])*100\n",
    "cancelled_flights_analysis[\"Airline\"] = cancelled_flights_analysis[\"Operating_Airline\"].map(airline_mapper)\n"
   ]
  },
  {
   "cell_type": "code",
   "execution_count": null,
   "metadata": {},
   "outputs": [],
   "source": [
    "cancelled_flights_analysis.head()     ## TODO: add geographical information of flight, weather information"
   ]
  },
  {
   "cell_type": "code",
   "execution_count": null,
   "metadata": {},
   "outputs": [],
   "source": [
    "cancelled_flights_analysis.set_index(\"Operating_Airline\").sort_values(\n",
    "    \"Cancelled\")[\"Cancelled\"].plot(kind=\"barh\", \n",
    "                                   figsize=(8, 8), \n",
    "                                   width=.8,\n",
    "                                   edgecolor=\"black\",\n",
    "                                   title=\"Flight Cancellations by Airline in 2022\")\n",
    "plt.show()"
   ]
  },
  {
   "cell_type": "code",
   "execution_count": null,
   "metadata": {},
   "outputs": [],
   "source": [
    "fig, ax = plt.subplots(figsize=(8, 8))\n",
    "# cancelled_flights_analysis[\"Airline\"] = cancelled_flights_analysis[\"Operating_Airline\"].map(\n",
    "#     airline_mapper)\n",
    "cancelled_flights_analysis.set_index(\"Airline\").sort_values(\n",
    "    \"Cancelled\")[\"Cancelled\"].plot(kind=\"barh\", \n",
    "                                   title=\"Total Operations Cancelled by Airline in 2022\",\n",
    "                                   width=1\n",
    "                                   )\n",
    "\n",
    "ax.bar_label(ax.containers[0], padding=5, fontsize=9, color='b')\n",
    "plt.show()\n"
   ]
  },
  {
   "cell_type": "code",
   "execution_count": null,
   "metadata": {},
   "outputs": [],
   "source": [
    "fig, ax = plt.subplots(figsize=(8, 8))\n",
    "cancelled_flights_analysis[\"Airline\"] = cancelled_flights_analysis[\"Operating_Airline\"].map(\n",
    "    airline_mapper)\n",
    "cancelled_flights_analysis.set_index(\"Airline\").sort_values(\n",
    "    \"Pct_Cancelled\")[\"Pct_Cancelled\"].plot(kind=\"barh\",\n",
    "                                           title=\"Percentage of Operations Cancelled by Airline in 2022\",\n",
    "                                           width=1,\n",
    "                                           #edgecolor=\"black\",\n",
    "                                           color=current_palette[6]\n",
    "                                           )\n",
    "ax.bar_label(ax.containers[0], fmt='%.3f%%', padding=5, fontsize=9, color='b')\n",
    "plt.show()"
   ]
  },
  {
   "cell_type": "code",
   "execution_count": null,
   "metadata": {},
   "outputs": [],
   "source": [
    "cancel_count = df_flights_012022_082022.query('20220101 < FlightDate < 20221231').query(\"Cancelled\")[\"Operating_Airline\"].value_counts()\n",
    "cancel_count"
   ]
  },
  {
   "cell_type": "code",
   "execution_count": null,
   "metadata": {},
   "outputs": [],
   "source": [
    "current_palette"
   ]
  },
  {
   "cell_type": "markdown",
   "metadata": {},
   "source": [
    "Analysis for January - June 2022"
   ]
  },
  {
   "cell_type": "code",
   "execution_count": null,
   "metadata": {},
   "outputs": [],
   "source": [
    "df_flights_012022_082022[\"Month\"].value_counts()"
   ]
  },
  {
   "cell_type": "code",
   "execution_count": null,
   "metadata": {},
   "outputs": [],
   "source": [
    "df_flights_012022_082022[\"Quarter\"].value_counts()"
   ]
  },
  {
   "cell_type": "code",
   "execution_count": null,
   "metadata": {},
   "outputs": [],
   "source": [
    "df_flights_012022_082022[\"FlightDate\"].value_counts()"
   ]
  },
  {
   "cell_type": "code",
   "execution_count": null,
   "metadata": {},
   "outputs": [],
   "source": [
    "cancelled_flights_analysis = (\n",
    "    (df_flights_012022_082022.query(\"20220101 < FlightDate < 20221231\")\n",
    "     .groupby([\"Operating_Airline\", \"Cancelled\"])['Cancelled']\n",
    "     .size()\n",
    "     .unstack()\n",
    "     .reset_index()\n",
    "     )\n",
    "    .rename(columns={False: \"Departed\", True: \"Cancelled\"})\n",
    "    .rename_axis(None, axis=1))\n",
    "\n",
    "cancelled_flights_analysis[\"Total\"] = cancelled_flights_analysis[\"Departed\"] + cancelled_flights_analysis[\"Cancelled\"]\n",
    "cancelled_flights_analysis[\"Pct_Cancelled\"] = (cancelled_flights_analysis[\"Cancelled\"] / cancelled_flights_analysis[\"Total\"])*100\n",
    "cancelled_flights_analysis[\"Airline\"] = cancelled_flights_analysis[\"Operating_Airline\"].map(airline_mapper)\n",
    "\n",
    "fig, ax = plt.subplots(figsize=(8, 8))\n",
    "cancelled_flights_analysis[\"Airline\"] = cancelled_flights_analysis[\"Operating_Airline\"].map(\n",
    "    airline_mapper)\n",
    "cancelled_flights_analysis.set_index(\"Airline\").sort_values(\n",
    "    \"Pct_Cancelled\")[\"Pct_Cancelled\"].plot(kind=\"barh\",\n",
    "                                           title=\"Percentage of Operations Cancelled by Airline in January - June 2022\",\n",
    "                                           width=1,\n",
    "                                           #edgecolor=\"black\",\n",
    "                                           color=current_palette[2]\n",
    "                                           )\n",
    "ax.bar_label(ax.containers[0], fmt='%.3f%%', padding=5, fontsize=9, color='b')\n",
    "plt.show()"
   ]
  },
  {
   "cell_type": "code",
   "execution_count": null,
   "metadata": {},
   "outputs": [],
   "source": []
  }
 ],
 "metadata": {
  "kernelspec": {
   "display_name": "Python 3.10.7 ('team-3-N2NXnkel')",
   "language": "python",
   "name": "python3"
  },
  "language_info": {
   "codemirror_mode": {
    "name": "ipython",
    "version": 3
   },
   "file_extension": ".py",
   "mimetype": "text/x-python",
   "name": "python",
   "nbconvert_exporter": "python",
   "pygments_lexer": "ipython3",
   "version": "3.10.7"
  },
  "vscode": {
   "interpreter": {
    "hash": "13b707afe647235fabbd8fa9a50cb628621b6b26172b2c2a7128d664447ee1d0"
   }
  }
 },
 "nbformat": 4,
 "nbformat_minor": 2
}

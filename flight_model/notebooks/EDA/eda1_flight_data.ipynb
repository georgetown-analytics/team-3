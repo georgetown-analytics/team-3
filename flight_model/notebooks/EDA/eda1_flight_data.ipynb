{
 "cells": [
  {
   "cell_type": "code",
   "execution_count": 1,
   "metadata": {},
   "outputs": [],
   "source": [
    "import numpy as np\n",
    "import pandas as pd\n",
    "import matplotlib.pyplot as plt\n",
    "import seaborn as sns \n",
    "import plotly.express as px\n",
    "\n",
    "sns.set_theme(style=\"darkgrid\")\n",
    "current_palette=sns.color_palette()"
   ]
  },
  {
   "cell_type": "code",
   "execution_count": 2,
   "metadata": {},
   "outputs": [],
   "source": [
    "pd.options.display.min_rows = 20\n",
    "pd.options.display.max_columns = 50"
   ]
  },
  {
   "cell_type": "markdown",
   "metadata": {},
   "source": [
    "### Read in the data"
   ]
  },
  {
   "cell_type": "code",
   "execution_count": null,
   "metadata": {},
   "outputs": [],
   "source": [
    "## Read in January 2022 data from filesystem for 1st analysis\n",
    "# df_flights_012022 = pd.read_csv(\"../../data/eda/flights/flight_data_2022/flight_data_202201.zip\", low_memory=False)"
   ]
  },
  {
   "cell_type": "code",
   "execution_count": null,
   "metadata": {},
   "outputs": [],
   "source": [
    "# df_flights_012022.shape"
   ]
  },
  {
   "cell_type": "code",
   "execution_count": null,
   "metadata": {},
   "outputs": [],
   "source": [
    "# df_flights_012022.head(2)"
   ]
  },
  {
   "cell_type": "code",
   "execution_count": null,
   "metadata": {},
   "outputs": [],
   "source": [
    "# df_flights_012022.columns.to_list()"
   ]
  },
  {
   "cell_type": "code",
   "execution_count": null,
   "metadata": {},
   "outputs": [],
   "source": [
    "# remove spaces from column names\n",
    "# df_flights_012022= df_flights_012022.rename(columns={'Operating_Airline ' : 'Airline'})"
   ]
  },
  {
   "cell_type": "code",
   "execution_count": null,
   "metadata": {},
   "outputs": [],
   "source": [
    "# df_flights_012022[\"Operating_Airline\"].head(1)"
   ]
  },
  {
   "cell_type": "code",
   "execution_count": 3,
   "metadata": {},
   "outputs": [],
   "source": [
    "## Read in Jan - Aug 2022 data from filesystem\n",
    "df_flights_012022_082022 = pd.read_csv(\"../../data/eda/flights/flight_data_Y2022/flight_data_2022.csv.zip\",  low_memory=False)"
   ]
  },
  {
   "cell_type": "code",
   "execution_count": 4,
   "metadata": {},
   "outputs": [
    {
     "data": {
      "text/plain": [
       "(4691967, 121)"
      ]
     },
     "execution_count": 4,
     "metadata": {},
     "output_type": "execute_result"
    }
   ],
   "source": [
    "df_flights_012022_082022= df_flights_012022_082022.rename(columns={'Operating_Airline ' : 'Airline'})\n",
    "df_flights_012022_082022.shape"
   ]
  },
  {
   "cell_type": "markdown",
   "metadata": {},
   "source": [
    "Column Selction"
   ]
  },
  {
   "cell_type": "code",
   "execution_count": 5,
   "metadata": {},
   "outputs": [
    {
     "data": {
      "text/plain": [
       "['Unnamed: 0',\n",
       " 'Year',\n",
       " 'Quarter',\n",
       " 'Month',\n",
       " 'DayofMonth',\n",
       " 'DayOfWeek',\n",
       " 'FlightDate',\n",
       " 'Marketing_Airline_Network',\n",
       " 'Operated_or_Branded_Code_Share_Partners',\n",
       " 'DOT_ID_Marketing_Airline',\n",
       " 'IATA_Code_Marketing_Airline',\n",
       " 'Flight_Number_Marketing_Airline',\n",
       " 'Originally_Scheduled_Code_Share_Airline',\n",
       " 'DOT_ID_Originally_Scheduled_Code_Share_Airline',\n",
       " 'IATA_Code_Originally_Scheduled_Code_Share_Airline',\n",
       " 'Flight_Num_Originally_Scheduled_Code_Share_Airline',\n",
       " 'Airline',\n",
       " 'DOT_ID_Operating_Airline',\n",
       " 'IATA_Code_Operating_Airline',\n",
       " 'Tail_Number',\n",
       " 'Flight_Number_Operating_Airline',\n",
       " 'OriginAirportID',\n",
       " 'OriginAirportSeqID',\n",
       " 'OriginCityMarketID',\n",
       " 'Origin',\n",
       " 'OriginCityName',\n",
       " 'OriginState',\n",
       " 'OriginStateFips',\n",
       " 'OriginStateName',\n",
       " 'OriginWac',\n",
       " 'DestAirportID',\n",
       " 'DestAirportSeqID',\n",
       " 'DestCityMarketID',\n",
       " 'Dest',\n",
       " 'DestCityName',\n",
       " 'DestState',\n",
       " 'DestStateFips',\n",
       " 'DestStateName',\n",
       " 'DestWac',\n",
       " 'CRSDepTime',\n",
       " 'DepTime',\n",
       " 'DepDelay',\n",
       " 'DepDelayMinutes',\n",
       " 'DepDel15',\n",
       " 'DepartureDelayGroups',\n",
       " 'DepTimeBlk',\n",
       " 'TaxiOut',\n",
       " 'WheelsOff',\n",
       " 'WheelsOn',\n",
       " 'TaxiIn',\n",
       " 'CRSArrTime',\n",
       " 'ArrTime',\n",
       " 'ArrDelay',\n",
       " 'ArrDelayMinutes',\n",
       " 'ArrDel15',\n",
       " 'ArrivalDelayGroups',\n",
       " 'ArrTimeBlk',\n",
       " 'Cancelled',\n",
       " 'CancellationCode',\n",
       " 'Diverted',\n",
       " 'CRSElapsedTime',\n",
       " 'ActualElapsedTime',\n",
       " 'AirTime',\n",
       " 'Flights',\n",
       " 'Distance',\n",
       " 'DistanceGroup',\n",
       " 'CarrierDelay',\n",
       " 'WeatherDelay',\n",
       " 'NASDelay',\n",
       " 'SecurityDelay',\n",
       " 'LateAircraftDelay',\n",
       " 'FirstDepTime',\n",
       " 'TotalAddGTime',\n",
       " 'LongestAddGTime',\n",
       " 'DivAirportLandings',\n",
       " 'DivReachedDest',\n",
       " 'DivActualElapsedTime',\n",
       " 'DivArrDelay',\n",
       " 'DivDistance',\n",
       " 'Div1Airport',\n",
       " 'Div1AirportID',\n",
       " 'Div1AirportSeqID',\n",
       " 'Div1WheelsOn',\n",
       " 'Div1TotalGTime',\n",
       " 'Div1LongestGTime',\n",
       " 'Div1WheelsOff',\n",
       " 'Div1TailNum',\n",
       " 'Div2Airport',\n",
       " 'Div2AirportID',\n",
       " 'Div2AirportSeqID',\n",
       " 'Div2WheelsOn',\n",
       " 'Div2TotalGTime',\n",
       " 'Div2LongestGTime',\n",
       " 'Div2WheelsOff',\n",
       " 'Div2TailNum',\n",
       " 'Div3Airport',\n",
       " 'Div3AirportID',\n",
       " 'Div3AirportSeqID',\n",
       " 'Div3WheelsOn',\n",
       " 'Div3TotalGTime',\n",
       " 'Div3LongestGTime',\n",
       " 'Div3WheelsOff',\n",
       " 'Div3TailNum',\n",
       " 'Div4Airport',\n",
       " 'Div4AirportID',\n",
       " 'Div4AirportSeqID',\n",
       " 'Div4WheelsOn',\n",
       " 'Div4TotalGTime',\n",
       " 'Div4LongestGTime',\n",
       " 'Div4WheelsOff',\n",
       " 'Div4TailNum',\n",
       " 'Div5Airport',\n",
       " 'Div5AirportID',\n",
       " 'Div5AirportSeqID',\n",
       " 'Div5WheelsOn',\n",
       " 'Div5TotalGTime',\n",
       " 'Div5LongestGTime',\n",
       " 'Div5WheelsOff',\n",
       " 'Div5TailNum',\n",
       " 'Duplicate',\n",
       " 'Unnamed: 119']"
      ]
     },
     "execution_count": 5,
     "metadata": {},
     "output_type": "execute_result"
    }
   ],
   "source": [
    "df_flights_012022_082022.columns.to_list()"
   ]
  },
  {
   "cell_type": "code",
   "execution_count": 7,
   "metadata": {},
   "outputs": [],
   "source": [
    "# Drop irrelevant columns\n",
    "SELECTED_COLUMNS = [\n",
    "    # 'Year',\n",
    "    # 'Quarter',\n",
    "    # 'Month',\n",
    "    # 'DayofMonth',\n",
    "    # 'DayOfWeek',\n",
    "    'FlightDate',\n",
    "    # 'Marketing_Airline_Network',\n",
    "    # 'Operated_or_Branded_Code_Share_Partners',\n",
    "    # 'DOT_ID_Marketing_Airline',\n",
    "    # 'IATA_Code_Marketing_Airline',\n",
    "    # 'Flight_Number_Marketing_Airline',\n",
    "    # 'Originally_Scheduled_Code_Share_Airline',\n",
    "    # 'DOT_ID_Originally_Scheduled_Code_Share_Airline',\n",
    "    # 'IATA_Code_Originally_Scheduled_Code_Share_Airline',\n",
    "    # 'Flight_Num_Originally_Scheduled_Code_Share_Airline',\n",
    "    'Airline',\n",
    "    # 'DOT_ID_Operating_Airline',\n",
    "    # 'IATA_Code_Operating_Airline',\n",
    "    # 'Tail_Number',\n",
    "    # 'Flight_Number_Operating_Airline',\n",
    "    'OriginAirportID',\n",
    "    # 'OriginAirportSeqID',\n",
    "    # 'OriginCityMarketID',\n",
    "    'Origin',\n",
    "    'OriginCityName',\n",
    "    'OriginState',\n",
    "    # 'OriginStateFips',\n",
    "    # 'OriginStateName',\n",
    "    # 'OriginWac',\n",
    "    'DestAirportID',\n",
    "    # 'DestAirportSeqID',\n",
    "    # 'DestCityMarketID',\n",
    "    'Dest',\n",
    "    'DestCityName',\n",
    "    'DestState',\n",
    "    # 'DestStateFips',\n",
    "    'DestStateName',\n",
    "    # 'DestWac',\n",
    "    'CRSDepTime',\n",
    "    'DepTime',\n",
    "    'DepDelay',\n",
    "    'DepDelayMinutes',\n",
    "    'DepDel15',\n",
    "    'DepartureDelayGroups',\n",
    "    'DepTimeBlk',\n",
    "    'TaxiOut',\n",
    "    'WheelsOff',\n",
    "    'WheelsOn',\n",
    "    'TaxiIn',\n",
    "    'CRSArrTime',\n",
    "    'ArrTime',\n",
    "    'ArrDelay',\n",
    "    'ArrDelayMinutes',\n",
    "    'ArrDel15',\n",
    "    'ArrivalDelayGroups',\n",
    "    'ArrTimeBlk',\n",
    "    'Cancelled',\n",
    "    'CancellationCode',\n",
    "    'Diverted',\n",
    "    'CRSElapsedTime',\n",
    "    'ActualElapsedTime',\n",
    "    'AirTime',\n",
    "    'Flights',\n",
    "    'Distance',\n",
    "    'DistanceGroup',\n",
    "    'CarrierDelay',\n",
    "    'WeatherDelay',\n",
    "    'NASDelay',\n",
    "    'SecurityDelay',\n",
    "    'LateAircraftDelay',\n",
    "    'FirstDepTime',\n",
    "    'TotalAddGTime',\n",
    "    'LongestAddGTime',\n",
    "    # 'DivAirportLandings',\n",
    "    # 'DivReachedDest',\n",
    "    # 'DivActualElapsedTime',\n",
    "    # 'DivArrDelay',\n",
    "    # 'DivDistance',\n",
    "    # 'Div1Airport',\n",
    "    # 'Div1AirportID',\n",
    "    # 'Div1AirportSeqID',\n",
    "    # 'Div1WheelsOn',\n",
    "    # 'Div1TotalGTime',\n",
    "    # 'Div1LongestGTime',\n",
    "    # 'Div1WheelsOff',\n",
    "    # 'Div1TailNum',\n",
    "    # 'Div2Airport',\n",
    "    # 'Div2AirportID',\n",
    "    # 'Div2AirportSeqID',\n",
    "    # 'Div2WheelsOn',\n",
    "    # 'Div2TotalGTime',\n",
    "    # 'Div2LongestGTime',\n",
    "    # 'Div2WheelsOff',\n",
    "    # 'Div2TailNum',\n",
    "    # 'Div3Airport',\n",
    "    # 'Div3AirportID',\n",
    "    # 'Div3AirportSeqID',\n",
    "    # 'Div3WheelsOn',\n",
    "    # 'Div3TotalGTime',\n",
    "    # 'Div3LongestGTime',\n",
    "    # 'Div3WheelsOff',\n",
    "    # 'Div3TailNum',\n",
    "    # 'Div4Airport',\n",
    "    # 'Div4AirportID',\n",
    "    # 'Div4AirportSeqID',\n",
    "    # 'Div4WheelsOn',\n",
    "    # 'Div4TotalGTime',\n",
    "    # 'Div4LongestGTime',\n",
    "    # 'Div4WheelsOff',\n",
    "    # 'Div4TailNum',\n",
    "    # 'Div5Airport',\n",
    "    # 'Div5AirportID',\n",
    "    # 'Div5AirportSeqID',\n",
    "    # 'Div5WheelsOn',\n",
    "    # 'Div5TotalGTime',\n",
    "    # 'Div5LongestGTime',\n",
    "    # 'Div5WheelsOff',\n",
    "    # 'Div5TailNum',\n",
    "    # 'Duplicate',\n",
    "    # 'Unnamed: 119'\n",
    "]"
   ]
  },
  {
   "cell_type": "code",
   "execution_count": 8,
   "metadata": {},
   "outputs": [
    {
     "data": {
      "text/plain": [
       "(4691967, 46)"
      ]
     },
     "execution_count": 8,
     "metadata": {},
     "output_type": "execute_result"
    }
   ],
   "source": [
    "df_flights_012022_082022 = df_flights_012022_082022[SELECTED_COLUMNS].copy()\n",
    "df_flights_012022_082022.shape\n"
   ]
  },
  {
   "cell_type": "markdown",
   "metadata": {},
   "source": [
    "Types"
   ]
  },
  {
   "cell_type": "code",
   "execution_count": null,
   "metadata": {},
   "outputs": [],
   "source": [
    "## Types -> Getting the right types will enable analysis and correctness\n",
    "df_flights_012022_082022[SELECTED_COLUMNS].dtypes"
   ]
  },
  {
   "cell_type": "code",
   "execution_count": null,
   "metadata": {},
   "outputs": [],
   "source": [
    "## Evaluate memory usage\n",
    "df_flights_012022_082022[SELECTED_COLUMNS].memory_usage(deep=True)"
   ]
  },
  {
   "cell_type": "code",
   "execution_count": null,
   "metadata": {},
   "outputs": [],
   "source": [
    "df_flights_012022_082022[SELECTED_COLUMNS].memory_usage(deep=True).sum()"
   ]
  },
  {
   "cell_type": "code",
   "execution_count": 43,
   "metadata": {},
   "outputs": [
    {
     "data": {
      "text/plain": [
       "0   2022-01-06\n",
       "1   2022-01-06\n",
       "2   2022-01-06\n",
       "3   2022-01-06\n",
       "4   2022-01-06\n",
       "Name: FlightDate, dtype: datetime64[ns]"
      ]
     },
     "execution_count": 43,
     "metadata": {},
     "output_type": "execute_result"
    }
   ],
   "source": [
    "# More data cleaning \n",
    "## Format column data from [0,1] -> boolean\n",
    "df_flights_012022_082022[\"Cancelled\"] = df_flights_012022_082022[\"Cancelled\"].astype(\"bool\")\n",
    "df_flights_012022_082022[\"Diverted\"] = df_flights_012022_082022[\"Diverted\"].astype(\"bool\")\n",
    "## Converting dataTypes\n",
    "df_flights_012022_082022[\"FlightDate\"] = pd.to_datetime(df_flights_012022_082022[\"FlightDate\"])\n",
    "df_flights_012022_082022[\"FlightDate\"].head() "
   ]
  },
  {
   "cell_type": "code",
   "execution_count": 10,
   "metadata": {},
   "outputs": [
    {
     "data": {
      "text/plain": [
       "4378079738"
      ]
     },
     "execution_count": 10,
     "metadata": {},
     "output_type": "execute_result"
    }
   ],
   "source": [
    "df_flights_012022_082022[SELECTED_COLUMNS].memory_usage(deep=True).sum()"
   ]
  },
  {
   "cell_type": "markdown",
   "metadata": {},
   "source": [
    "Integer Types"
   ]
  },
  {
   "cell_type": "code",
   "execution_count": null,
   "metadata": {},
   "outputs": [],
   "source": [
    "df_flights_012022_082022.head()"
   ]
  },
  {
   "cell_type": "code",
   "execution_count": null,
   "metadata": {},
   "outputs": [],
   "source": [
    "(df_flights_012022_082022[SELECTED_COLUMNS].select_dtypes(int).describe())\n"
   ]
  },
  {
   "cell_type": "code",
   "execution_count": null,
   "metadata": {},
   "outputs": [],
   "source": [
    "#(df_flights_012022_082022.shape)"
   ]
  },
  {
   "cell_type": "code",
   "execution_count": null,
   "metadata": {},
   "outputs": [],
   "source": [
    "(df_flights_012022_082022.OriginAirportID.describe())"
   ]
  },
  {
   "cell_type": "code",
   "execution_count": null,
   "metadata": {},
   "outputs": [],
   "source": [
    "np.iinfo(np.int16)"
   ]
  },
  {
   "cell_type": "code",
   "execution_count": null,
   "metadata": {},
   "outputs": [],
   "source": [
    "np.iinfo(np.int32)"
   ]
  },
  {
   "cell_type": "code",
   "execution_count": null,
   "metadata": {},
   "outputs": [],
   "source": [
    "np.iinfo(np.int64)"
   ]
  },
  {
   "cell_type": "markdown",
   "metadata": {},
   "source": [
    "Floats"
   ]
  },
  {
   "cell_type": "code",
   "execution_count": null,
   "metadata": {},
   "outputs": [],
   "source": [
    "(df_flights_012022_082022[SELECTED_COLUMNS].select_dtypes('float'))"
   ]
  },
  {
   "cell_type": "code",
   "execution_count": null,
   "metadata": {},
   "outputs": [],
   "source": [
    "(df_flights_012022_082022.DepTime.describe())\n"
   ]
  },
  {
   "cell_type": "code",
   "execution_count": null,
   "metadata": {},
   "outputs": [],
   "source": [
    "#oops! 135280 missing values [NaN: 135280]\n",
    "(df_flights_012022_082022.DepTime.value_counts(dropna=False))"
   ]
  },
  {
   "cell_type": "code",
   "execution_count": null,
   "metadata": {},
   "outputs": [],
   "source": [
    "# investigate where these values are missing\n",
    "(df_flights_012022_082022[SELECTED_COLUMNS].query('DepTime.isna()'))"
   ]
  },
  {
   "cell_type": "code",
   "execution_count": null,
   "metadata": {},
   "outputs": [],
   "source": [
    "np.finfo(np.float16)"
   ]
  },
  {
   "cell_type": "code",
   "execution_count": 11,
   "metadata": {},
   "outputs": [],
   "source": [
    "# Subject Matter Expert info => Missing values correspond to cancelled flights\n",
    "# decision -> replace with 0\n",
    "df_flights_012022_082022[SELECTED_COLUMNS]=(df_flights_012022_082022\n",
    " [SELECTED_COLUMNS]\n",
    " .assign(DepTime=df_flights_012022_082022.DepTime.fillna(0).astype('float16'),\n",
    "         DepDelay=df_flights_012022_082022.DepDelay.fillna(0).astype('float16'),\n",
    "         DepDelayMinutes=df_flights_012022_082022.DepDelayMinutes.fillna(0),\n",
    "         DepDel15=df_flights_012022_082022.DepDel15.fillna(0).astype('float16'),\n",
    "         DepartureDelayGroups=df_flights_012022_082022.DepartureDelayGroups.fillna(0).astype('float16'),\n",
    "         TaxiOut=df_flights_012022_082022.TaxiOut.fillna(0).astype('float16'),\n",
    "         WheelsOff=df_flights_012022_082022.WheelsOff.fillna(0).astype('float16'),\n",
    "         WheelsOn=df_flights_012022_082022.WheelsOn.fillna(0).astype('float16'),\n",
    "         TaxiIn=df_flights_012022_082022.TaxiIn.fillna(0).astype('float16'),\n",
    "         ArrTime=df_flights_012022_082022.ArrTime.fillna(0).astype('float16'),\n",
    "         ArrDelay=df_flights_012022_082022.ArrDelay.fillna(0).astype('float16'),\n",
    "         ArrDelayMinutes=df_flights_012022_082022.ArrDelayMinutes.fillna(0).astype('float16'),\n",
    "         ArrDel15=df_flights_012022_082022.ArrDel15.fillna(0).astype('float16'),\n",
    "         ArrivalDelayGroups=df_flights_012022_082022.ArrivalDelayGroups.fillna(0).astype('float16'),\n",
    "         CRSElapsedTime=df_flights_012022_082022.CRSElapsedTime.fillna(0).astype('float16'),\n",
    "         ActualElapsedTime=df_flights_012022_082022.ActualElapsedTime.fillna(0).astype('float16'),\n",
    "         AirTime=df_flights_012022_082022.AirTime.fillna(0).astype('float16'),\n",
    "         Flights=df_flights_012022_082022.Flights.fillna(0).astype('float16'),\n",
    "         Distance=df_flights_012022_082022.Distance.fillna(0).astype('float16'),\n",
    "         CarrierDelay=df_flights_012022_082022.CarrierDelay.fillna(0).astype('float16'),\n",
    "         WeatherDelay=df_flights_012022_082022.WeatherDelay.fillna(0).astype('float16'),\n",
    "         NASDelay=df_flights_012022_082022.NASDelay.fillna(0).astype('float16'),\n",
    "         SecurityDelay=df_flights_012022_082022.SecurityDelay.fillna(0).astype('float16'),\n",
    "         LateAircraftDelay=df_flights_012022_082022.LateAircraftDelay.fillna(0).astype('float16'),\n",
    "         FirstDepTime=df_flights_012022_082022.FirstDepTime.fillna(0).astype('float16'),\n",
    "         TotalAddGTime=df_flights_012022_082022.TotalAddGTime.fillna(0).astype('float16'),\n",
    "         LongestAddGTime=df_flights_012022_082022.LongestAddGTime.fillna(0).astype('float16')\n",
    " ))\n"
   ]
  },
  {
   "cell_type": "code",
   "execution_count": 12,
   "metadata": {},
   "outputs": [
    {
     "data": {
      "text/html": [
       "<div>\n",
       "<style scoped>\n",
       "    .dataframe tbody tr th:only-of-type {\n",
       "        vertical-align: middle;\n",
       "    }\n",
       "\n",
       "    .dataframe tbody tr th {\n",
       "        vertical-align: top;\n",
       "    }\n",
       "\n",
       "    .dataframe thead th {\n",
       "        text-align: right;\n",
       "    }\n",
       "</style>\n",
       "<table border=\"1\" class=\"dataframe\">\n",
       "  <thead>\n",
       "    <tr style=\"text-align: right;\">\n",
       "      <th></th>\n",
       "      <th>OriginAirportID</th>\n",
       "      <th>DestAirportID</th>\n",
       "      <th>CRSDepTime</th>\n",
       "      <th>DepTime</th>\n",
       "      <th>DepDelay</th>\n",
       "      <th>DepDelayMinutes</th>\n",
       "      <th>DepDel15</th>\n",
       "      <th>DepartureDelayGroups</th>\n",
       "      <th>TaxiOut</th>\n",
       "      <th>WheelsOff</th>\n",
       "      <th>WheelsOn</th>\n",
       "      <th>TaxiIn</th>\n",
       "      <th>CRSArrTime</th>\n",
       "      <th>ArrTime</th>\n",
       "      <th>ArrDelay</th>\n",
       "      <th>ArrDelayMinutes</th>\n",
       "      <th>ArrDel15</th>\n",
       "      <th>ArrivalDelayGroups</th>\n",
       "      <th>CRSElapsedTime</th>\n",
       "      <th>ActualElapsedTime</th>\n",
       "      <th>AirTime</th>\n",
       "      <th>Flights</th>\n",
       "      <th>Distance</th>\n",
       "      <th>DistanceGroup</th>\n",
       "      <th>CarrierDelay</th>\n",
       "      <th>WeatherDelay</th>\n",
       "      <th>NASDelay</th>\n",
       "      <th>SecurityDelay</th>\n",
       "      <th>LateAircraftDelay</th>\n",
       "      <th>FirstDepTime</th>\n",
       "      <th>TotalAddGTime</th>\n",
       "      <th>LongestAddGTime</th>\n",
       "    </tr>\n",
       "  </thead>\n",
       "  <tbody>\n",
       "    <tr>\n",
       "      <th>count</th>\n",
       "      <td>4.691967e+06</td>\n",
       "      <td>4.691967e+06</td>\n",
       "      <td>4.691967e+06</td>\n",
       "      <td>4691967.0</td>\n",
       "      <td>4691967.0</td>\n",
       "      <td>4.691967e+06</td>\n",
       "      <td>4691967.0</td>\n",
       "      <td>4691967.0</td>\n",
       "      <td>4691967.0</td>\n",
       "      <td>4691967.0</td>\n",
       "      <td>4691967.0</td>\n",
       "      <td>4691967.0</td>\n",
       "      <td>4.691967e+06</td>\n",
       "      <td>4691967.0</td>\n",
       "      <td>4691967.0</td>\n",
       "      <td>4691967.0</td>\n",
       "      <td>4691967.0</td>\n",
       "      <td>4691967.0</td>\n",
       "      <td>4691967.0</td>\n",
       "      <td>4691967.0</td>\n",
       "      <td>4691967.0</td>\n",
       "      <td>4691967.0</td>\n",
       "      <td>4691967.0</td>\n",
       "      <td>4.691967e+06</td>\n",
       "      <td>4691967.0</td>\n",
       "      <td>4691967.0</td>\n",
       "      <td>4691967.0</td>\n",
       "      <td>4691967.0</td>\n",
       "      <td>4691967.0</td>\n",
       "      <td>4691967.0</td>\n",
       "      <td>4691967.0</td>\n",
       "      <td>4691967.0</td>\n",
       "    </tr>\n",
       "    <tr>\n",
       "      <th>mean</th>\n",
       "      <td>1.265936e+04</td>\n",
       "      <td>1.265932e+04</td>\n",
       "      <td>1.330279e+03</td>\n",
       "      <td>NaN</td>\n",
       "      <td>NaN</td>\n",
       "      <td>1.566092e+01</td>\n",
       "      <td>NaN</td>\n",
       "      <td>NaN</td>\n",
       "      <td>NaN</td>\n",
       "      <td>NaN</td>\n",
       "      <td>NaN</td>\n",
       "      <td>NaN</td>\n",
       "      <td>1.485272e+03</td>\n",
       "      <td>NaN</td>\n",
       "      <td>NaN</td>\n",
       "      <td>NaN</td>\n",
       "      <td>NaN</td>\n",
       "      <td>NaN</td>\n",
       "      <td>NaN</td>\n",
       "      <td>NaN</td>\n",
       "      <td>NaN</td>\n",
       "      <td>NaN</td>\n",
       "      <td>NaN</td>\n",
       "      <td>3.662583e+00</td>\n",
       "      <td>NaN</td>\n",
       "      <td>NaN</td>\n",
       "      <td>NaN</td>\n",
       "      <td>NaN</td>\n",
       "      <td>NaN</td>\n",
       "      <td>NaN</td>\n",
       "      <td>NaN</td>\n",
       "      <td>NaN</td>\n",
       "    </tr>\n",
       "    <tr>\n",
       "      <th>std</th>\n",
       "      <td>1.523274e+03</td>\n",
       "      <td>1.523281e+03</td>\n",
       "      <td>4.912575e+02</td>\n",
       "      <td>NaN</td>\n",
       "      <td>NaN</td>\n",
       "      <td>5.190498e+01</td>\n",
       "      <td>0.0</td>\n",
       "      <td>0.0</td>\n",
       "      <td>0.0</td>\n",
       "      <td>NaN</td>\n",
       "      <td>NaN</td>\n",
       "      <td>NaN</td>\n",
       "      <td>5.196737e+02</td>\n",
       "      <td>NaN</td>\n",
       "      <td>NaN</td>\n",
       "      <td>NaN</td>\n",
       "      <td>0.0</td>\n",
       "      <td>0.0</td>\n",
       "      <td>NaN</td>\n",
       "      <td>NaN</td>\n",
       "      <td>NaN</td>\n",
       "      <td>0.0</td>\n",
       "      <td>NaN</td>\n",
       "      <td>2.325003e+00</td>\n",
       "      <td>NaN</td>\n",
       "      <td>NaN</td>\n",
       "      <td>NaN</td>\n",
       "      <td>NaN</td>\n",
       "      <td>NaN</td>\n",
       "      <td>NaN</td>\n",
       "      <td>NaN</td>\n",
       "      <td>NaN</td>\n",
       "    </tr>\n",
       "    <tr>\n",
       "      <th>min</th>\n",
       "      <td>1.013500e+04</td>\n",
       "      <td>1.013500e+04</td>\n",
       "      <td>1.000000e+00</td>\n",
       "      <td>0.0</td>\n",
       "      <td>-78.0</td>\n",
       "      <td>0.000000e+00</td>\n",
       "      <td>0.0</td>\n",
       "      <td>-2.0</td>\n",
       "      <td>0.0</td>\n",
       "      <td>0.0</td>\n",
       "      <td>0.0</td>\n",
       "      <td>0.0</td>\n",
       "      <td>1.000000e+00</td>\n",
       "      <td>0.0</td>\n",
       "      <td>-100.0</td>\n",
       "      <td>0.0</td>\n",
       "      <td>0.0</td>\n",
       "      <td>-2.0</td>\n",
       "      <td>-48.0</td>\n",
       "      <td>0.0</td>\n",
       "      <td>0.0</td>\n",
       "      <td>1.0</td>\n",
       "      <td>31.0</td>\n",
       "      <td>1.000000e+00</td>\n",
       "      <td>0.0</td>\n",
       "      <td>0.0</td>\n",
       "      <td>0.0</td>\n",
       "      <td>0.0</td>\n",
       "      <td>0.0</td>\n",
       "      <td>0.0</td>\n",
       "      <td>0.0</td>\n",
       "      <td>0.0</td>\n",
       "    </tr>\n",
       "    <tr>\n",
       "      <th>25%</th>\n",
       "      <td>1.129200e+04</td>\n",
       "      <td>1.129200e+04</td>\n",
       "      <td>9.130000e+02</td>\n",
       "      <td>854.0</td>\n",
       "      <td>-5.0</td>\n",
       "      <td>0.000000e+00</td>\n",
       "      <td>0.0</td>\n",
       "      <td>-1.0</td>\n",
       "      <td>11.0</td>\n",
       "      <td>909.0</td>\n",
       "      <td>1016.0</td>\n",
       "      <td>4.0</td>\n",
       "      <td>1.101000e+03</td>\n",
       "      <td>1019.0</td>\n",
       "      <td>-14.0</td>\n",
       "      <td>0.0</td>\n",
       "      <td>0.0</td>\n",
       "      <td>-1.0</td>\n",
       "      <td>89.0</td>\n",
       "      <td>80.0</td>\n",
       "      <td>57.0</td>\n",
       "      <td>1.0</td>\n",
       "      <td>366.0</td>\n",
       "      <td>2.000000e+00</td>\n",
       "      <td>0.0</td>\n",
       "      <td>0.0</td>\n",
       "      <td>0.0</td>\n",
       "      <td>0.0</td>\n",
       "      <td>0.0</td>\n",
       "      <td>0.0</td>\n",
       "      <td>0.0</td>\n",
       "      <td>0.0</td>\n",
       "    </tr>\n",
       "    <tr>\n",
       "      <th>50%</th>\n",
       "      <td>1.288900e+04</td>\n",
       "      <td>1.288900e+04</td>\n",
       "      <td>1.320000e+03</td>\n",
       "      <td>1309.0</td>\n",
       "      <td>-1.0</td>\n",
       "      <td>0.000000e+00</td>\n",
       "      <td>0.0</td>\n",
       "      <td>-1.0</td>\n",
       "      <td>14.0</td>\n",
       "      <td>1322.0</td>\n",
       "      <td>1439.0</td>\n",
       "      <td>6.0</td>\n",
       "      <td>1.512000e+03</td>\n",
       "      <td>1442.0</td>\n",
       "      <td>-5.0</td>\n",
       "      <td>0.0</td>\n",
       "      <td>0.0</td>\n",
       "      <td>-1.0</td>\n",
       "      <td>124.0</td>\n",
       "      <td>116.0</td>\n",
       "      <td>91.0</td>\n",
       "      <td>1.0</td>\n",
       "      <td>642.0</td>\n",
       "      <td>3.000000e+00</td>\n",
       "      <td>0.0</td>\n",
       "      <td>0.0</td>\n",
       "      <td>0.0</td>\n",
       "      <td>0.0</td>\n",
       "      <td>0.0</td>\n",
       "      <td>0.0</td>\n",
       "      <td>0.0</td>\n",
       "      <td>0.0</td>\n",
       "    </tr>\n",
       "    <tr>\n",
       "      <th>75%</th>\n",
       "      <td>1.402700e+04</td>\n",
       "      <td>1.402700e+04</td>\n",
       "      <td>1.735000e+03</td>\n",
       "      <td>1737.0</td>\n",
       "      <td>10.0</td>\n",
       "      <td>1.000000e+01</td>\n",
       "      <td>0.0</td>\n",
       "      <td>0.0</td>\n",
       "      <td>19.0</td>\n",
       "      <td>1751.0</td>\n",
       "      <td>1902.0</td>\n",
       "      <td>9.0</td>\n",
       "      <td>1.920000e+03</td>\n",
       "      <td>1906.0</td>\n",
       "      <td>10.0</td>\n",
       "      <td>10.0</td>\n",
       "      <td>0.0</td>\n",
       "      <td>0.0</td>\n",
       "      <td>171.0</td>\n",
       "      <td>165.0</td>\n",
       "      <td>139.0</td>\n",
       "      <td>1.0</td>\n",
       "      <td>1034.0</td>\n",
       "      <td>5.000000e+00</td>\n",
       "      <td>0.0</td>\n",
       "      <td>0.0</td>\n",
       "      <td>0.0</td>\n",
       "      <td>0.0</td>\n",
       "      <td>0.0</td>\n",
       "      <td>0.0</td>\n",
       "      <td>0.0</td>\n",
       "      <td>0.0</td>\n",
       "    </tr>\n",
       "    <tr>\n",
       "      <th>max</th>\n",
       "      <td>1.686900e+04</td>\n",
       "      <td>1.686900e+04</td>\n",
       "      <td>2.359000e+03</td>\n",
       "      <td>2400.0</td>\n",
       "      <td>7224.0</td>\n",
       "      <td>7.223000e+03</td>\n",
       "      <td>1.0</td>\n",
       "      <td>12.0</td>\n",
       "      <td>221.0</td>\n",
       "      <td>2400.0</td>\n",
       "      <td>2400.0</td>\n",
       "      <td>290.0</td>\n",
       "      <td>2.400000e+03</td>\n",
       "      <td>2400.0</td>\n",
       "      <td>7232.0</td>\n",
       "      <td>7232.0</td>\n",
       "      <td>1.0</td>\n",
       "      <td>12.0</td>\n",
       "      <td>690.0</td>\n",
       "      <td>764.0</td>\n",
       "      <td>727.0</td>\n",
       "      <td>1.0</td>\n",
       "      <td>5096.0</td>\n",
       "      <td>1.100000e+01</td>\n",
       "      <td>7232.0</td>\n",
       "      <td>2364.0</td>\n",
       "      <td>1740.0</td>\n",
       "      <td>1245.0</td>\n",
       "      <td>2098.0</td>\n",
       "      <td>2400.0</td>\n",
       "      <td>376.0</td>\n",
       "      <td>341.0</td>\n",
       "    </tr>\n",
       "  </tbody>\n",
       "</table>\n",
       "</div>"
      ],
      "text/plain": [
       "       OriginAirportID  DestAirportID    CRSDepTime    DepTime   DepDelay  \\\n",
       "count     4.691967e+06   4.691967e+06  4.691967e+06  4691967.0  4691967.0   \n",
       "mean      1.265936e+04   1.265932e+04  1.330279e+03        NaN        NaN   \n",
       "std       1.523274e+03   1.523281e+03  4.912575e+02        NaN        NaN   \n",
       "min       1.013500e+04   1.013500e+04  1.000000e+00        0.0      -78.0   \n",
       "25%       1.129200e+04   1.129200e+04  9.130000e+02      854.0       -5.0   \n",
       "50%       1.288900e+04   1.288900e+04  1.320000e+03     1309.0       -1.0   \n",
       "75%       1.402700e+04   1.402700e+04  1.735000e+03     1737.0       10.0   \n",
       "max       1.686900e+04   1.686900e+04  2.359000e+03     2400.0     7224.0   \n",
       "\n",
       "       DepDelayMinutes   DepDel15  DepartureDelayGroups    TaxiOut  WheelsOff  \\\n",
       "count     4.691967e+06  4691967.0             4691967.0  4691967.0  4691967.0   \n",
       "mean      1.566092e+01        NaN                   NaN        NaN        NaN   \n",
       "std       5.190498e+01        0.0                   0.0        0.0        NaN   \n",
       "min       0.000000e+00        0.0                  -2.0        0.0        0.0   \n",
       "25%       0.000000e+00        0.0                  -1.0       11.0      909.0   \n",
       "50%       0.000000e+00        0.0                  -1.0       14.0     1322.0   \n",
       "75%       1.000000e+01        0.0                   0.0       19.0     1751.0   \n",
       "max       7.223000e+03        1.0                  12.0      221.0     2400.0   \n",
       "\n",
       "        WheelsOn     TaxiIn    CRSArrTime    ArrTime   ArrDelay  \\\n",
       "count  4691967.0  4691967.0  4.691967e+06  4691967.0  4691967.0   \n",
       "mean         NaN        NaN  1.485272e+03        NaN        NaN   \n",
       "std          NaN        NaN  5.196737e+02        NaN        NaN   \n",
       "min          0.0        0.0  1.000000e+00        0.0     -100.0   \n",
       "25%       1016.0        4.0  1.101000e+03     1019.0      -14.0   \n",
       "50%       1439.0        6.0  1.512000e+03     1442.0       -5.0   \n",
       "75%       1902.0        9.0  1.920000e+03     1906.0       10.0   \n",
       "max       2400.0      290.0  2.400000e+03     2400.0     7232.0   \n",
       "\n",
       "       ArrDelayMinutes   ArrDel15  ArrivalDelayGroups  CRSElapsedTime  \\\n",
       "count        4691967.0  4691967.0           4691967.0       4691967.0   \n",
       "mean               NaN        NaN                 NaN             NaN   \n",
       "std                NaN        0.0                 0.0             NaN   \n",
       "min                0.0        0.0                -2.0           -48.0   \n",
       "25%                0.0        0.0                -1.0            89.0   \n",
       "50%                0.0        0.0                -1.0           124.0   \n",
       "75%               10.0        0.0                 0.0           171.0   \n",
       "max             7232.0        1.0                12.0           690.0   \n",
       "\n",
       "       ActualElapsedTime    AirTime    Flights   Distance  DistanceGroup  \\\n",
       "count          4691967.0  4691967.0  4691967.0  4691967.0   4.691967e+06   \n",
       "mean                 NaN        NaN        NaN        NaN   3.662583e+00   \n",
       "std                  NaN        NaN        0.0        NaN   2.325003e+00   \n",
       "min                  0.0        0.0        1.0       31.0   1.000000e+00   \n",
       "25%                 80.0       57.0        1.0      366.0   2.000000e+00   \n",
       "50%                116.0       91.0        1.0      642.0   3.000000e+00   \n",
       "75%                165.0      139.0        1.0     1034.0   5.000000e+00   \n",
       "max                764.0      727.0        1.0     5096.0   1.100000e+01   \n",
       "\n",
       "       CarrierDelay  WeatherDelay   NASDelay  SecurityDelay  \\\n",
       "count     4691967.0     4691967.0  4691967.0      4691967.0   \n",
       "mean            NaN           NaN        NaN            NaN   \n",
       "std             NaN           NaN        NaN            NaN   \n",
       "min             0.0           0.0        0.0            0.0   \n",
       "25%             0.0           0.0        0.0            0.0   \n",
       "50%             0.0           0.0        0.0            0.0   \n",
       "75%             0.0           0.0        0.0            0.0   \n",
       "max          7232.0        2364.0     1740.0         1245.0   \n",
       "\n",
       "       LateAircraftDelay  FirstDepTime  TotalAddGTime  LongestAddGTime  \n",
       "count          4691967.0     4691967.0      4691967.0        4691967.0  \n",
       "mean                 NaN           NaN            NaN              NaN  \n",
       "std                  NaN           NaN            NaN              NaN  \n",
       "min                  0.0           0.0            0.0              0.0  \n",
       "25%                  0.0           0.0            0.0              0.0  \n",
       "50%                  0.0           0.0            0.0              0.0  \n",
       "75%                  0.0           0.0            0.0              0.0  \n",
       "max               2098.0        2400.0          376.0            341.0  "
      ]
     },
     "execution_count": 12,
     "metadata": {},
     "output_type": "execute_result"
    }
   ],
   "source": [
    "(df_flights_012022_082022[SELECTED_COLUMNS].describe())"
   ]
  },
  {
   "cell_type": "code",
   "execution_count": null,
   "metadata": {},
   "outputs": [],
   "source": [
    "(df_flights_012022_082022.DepTime.describe())"
   ]
  },
  {
   "cell_type": "code",
   "execution_count": null,
   "metadata": {},
   "outputs": [],
   "source": [
    "np.finfo(np.float32)"
   ]
  },
  {
   "cell_type": "code",
   "execution_count": null,
   "metadata": {},
   "outputs": [],
   "source": [
    "df_flights_012022_082022[SELECTED_COLUMNS].memory_usage(deep=True).sum()"
   ]
  },
  {
   "cell_type": "code",
   "execution_count": null,
   "metadata": {},
   "outputs": [],
   "source": [
    "3650824853 / 4410923507"
   ]
  },
  {
   "cell_type": "markdown",
   "metadata": {},
   "source": [
    "#### Load the transformed data"
   ]
  },
  {
   "cell_type": "code",
   "execution_count": 13,
   "metadata": {},
   "outputs": [],
   "source": [
    "df_flights_012022_082022.to_csv(\"../../data/eda/flights/flight_data_Y2022/transformed_flight_data_2022.csv.zip\",compression=\"zip\", index=False)"
   ]
  },
  {
   "cell_type": "code",
   "execution_count": 14,
   "metadata": {},
   "outputs": [],
   "source": [
    "df_flights_012022_082022 = pd.read_csv(\"../../data/eda/flights/flight_data_Y2022/transformed_flight_data_2022.csv.zip\",  low_memory=False)"
   ]
  },
  {
   "cell_type": "code",
   "execution_count": 15,
   "metadata": {},
   "outputs": [
    {
     "data": {
      "text/plain": [
       "(4691967, 46)"
      ]
     },
     "execution_count": 15,
     "metadata": {},
     "output_type": "execute_result"
    }
   ],
   "source": [
    "df_flights_012022_082022.shape"
   ]
  },
  {
   "cell_type": "code",
   "execution_count": 16,
   "metadata": {},
   "outputs": [
    {
     "name": "stdout",
     "output_type": "stream",
     "text": [
      "<class 'pandas.core.frame.DataFrame'>\n",
      "RangeIndex: 4691967 entries, 0 to 4691966\n",
      "Data columns (total 46 columns):\n",
      " #   Column                Dtype  \n",
      "---  ------                -----  \n",
      " 0   FlightDate            object \n",
      " 1   Airline               object \n",
      " 2   OriginAirportID       int64  \n",
      " 3   Origin                object \n",
      " 4   OriginCityName        object \n",
      " 5   OriginState           object \n",
      " 6   DestAirportID         int64  \n",
      " 7   Dest                  object \n",
      " 8   DestCityName          object \n",
      " 9   DestState             object \n",
      " 10  DestStateName         object \n",
      " 11  CRSDepTime            int64  \n",
      " 12  DepTime               float64\n",
      " 13  DepDelay              float64\n",
      " 14  DepDelayMinutes       float64\n",
      " 15  DepDel15              float64\n",
      " 16  DepartureDelayGroups  float64\n",
      " 17  DepTimeBlk            object \n",
      " 18  TaxiOut               float64\n",
      " 19  WheelsOff             float64\n",
      " 20  WheelsOn              float64\n",
      " 21  TaxiIn                float64\n",
      " 22  CRSArrTime            int64  \n",
      " 23  ArrTime               float64\n",
      " 24  ArrDelay              float64\n",
      " 25  ArrDelayMinutes       float64\n",
      " 26  ArrDel15              float64\n",
      " 27  ArrivalDelayGroups    float64\n",
      " 28  ArrTimeBlk            object \n",
      " 29  Cancelled             bool   \n",
      " 30  CancellationCode      object \n",
      " 31  Diverted              bool   \n",
      " 32  CRSElapsedTime        float64\n",
      " 33  ActualElapsedTime     float64\n",
      " 34  AirTime               float64\n",
      " 35  Flights               float64\n",
      " 36  Distance              float64\n",
      " 37  DistanceGroup         int64  \n",
      " 38  CarrierDelay          float64\n",
      " 39  WeatherDelay          float64\n",
      " 40  NASDelay              float64\n",
      " 41  SecurityDelay         float64\n",
      " 42  LateAircraftDelay     float64\n",
      " 43  FirstDepTime          float64\n",
      " 44  TotalAddGTime         float64\n",
      " 45  LongestAddGTime       float64\n",
      "dtypes: bool(2), float64(27), int64(5), object(12)\n",
      "memory usage: 1.5+ GB\n"
     ]
    }
   ],
   "source": [
    "df_flights_012022_082022.info()"
   ]
  },
  {
   "cell_type": "code",
   "execution_count": null,
   "metadata": {},
   "outputs": [],
   "source": [
    "#(df_flights_012022_082022[SELECTED_COLUMNS].select_dtypes('float'))"
   ]
  },
  {
   "cell_type": "code",
   "execution_count": 17,
   "metadata": {},
   "outputs": [
    {
     "data": {
      "text/plain": [
       "FlightDate                    0\n",
       "Airline                       0\n",
       "OriginAirportID               0\n",
       "Origin                        0\n",
       "OriginCityName                0\n",
       "OriginState                   0\n",
       "DestAirportID                 0\n",
       "Dest                          0\n",
       "DestCityName                  0\n",
       "DestState                     0\n",
       "DestStateName                 0\n",
       "CRSDepTime                    0\n",
       "DepTime                       0\n",
       "DepDelay                      0\n",
       "DepDelayMinutes               0\n",
       "DepDel15                      0\n",
       "DepartureDelayGroups          0\n",
       "DepTimeBlk                    0\n",
       "TaxiOut                       0\n",
       "WheelsOff                     0\n",
       "WheelsOn                      0\n",
       "TaxiIn                        0\n",
       "CRSArrTime                    0\n",
       "ArrTime                       0\n",
       "ArrDelay                      0\n",
       "ArrDelayMinutes               0\n",
       "ArrDel15                      0\n",
       "ArrivalDelayGroups            0\n",
       "ArrTimeBlk                    0\n",
       "Cancelled                     0\n",
       "CancellationCode        4553292\n",
       "Diverted                      0\n",
       "CRSElapsedTime                0\n",
       "ActualElapsedTime             0\n",
       "AirTime                       0\n",
       "Flights                       0\n",
       "Distance                      0\n",
       "DistanceGroup                 0\n",
       "CarrierDelay                  0\n",
       "WeatherDelay                  0\n",
       "NASDelay                      0\n",
       "SecurityDelay                 0\n",
       "LateAircraftDelay             0\n",
       "FirstDepTime                  0\n",
       "TotalAddGTime                 0\n",
       "LongestAddGTime               0\n",
       "dtype: int64"
      ]
     },
     "execution_count": 17,
     "metadata": {},
     "output_type": "execute_result"
    }
   ],
   "source": [
    "df_flights_012022_082022.isna().sum()"
   ]
  },
  {
   "cell_type": "code",
   "execution_count": null,
   "metadata": {},
   "outputs": [],
   "source": [
    "df_flights_012022_082022.corr()"
   ]
  },
  {
   "cell_type": "code",
   "execution_count": null,
   "metadata": {},
   "outputs": [],
   "source": [
    "# % of missing values\n",
    "df_flights_012022_082022.isna().mean()*100"
   ]
  },
  {
   "cell_type": "code",
   "execution_count": 18,
   "metadata": {},
   "outputs": [
    {
     "data": {
      "text/plain": [
       "NaN    4553292\n",
       "B        73465\n",
       "A        50549\n",
       "C        13605\n",
       "D         1056\n",
       "Name: CancellationCode, dtype: int64"
      ]
     },
     "execution_count": 18,
     "metadata": {},
     "output_type": "execute_result"
    }
   ],
   "source": [
    "(df_flights_012022_082022.CancellationCode.value_counts(dropna=False))"
   ]
  },
  {
   "cell_type": "code",
   "execution_count": null,
   "metadata": {},
   "outputs": [],
   "source": [
    "(df_flights_012022_082022.CancellationCode.describe())"
   ]
  },
  {
   "cell_type": "markdown",
   "metadata": {},
   "source": [
    "#### Delays by Airline in 2022"
   ]
  },
  {
   "cell_type": "code",
   "execution_count": 19,
   "metadata": {},
   "outputs": [],
   "source": [
    "airline_csv = \"https://raw.githubusercontent.com/jenbam/airlines/master/data-raw/airlines.csv\"\n",
    "airlines = pd.read_csv(airline_csv)\n",
    "## save locally\n",
    "#airlines.to_csv(\"airlines.csv\") \n",
    "airlines.query(\"Code == '9E'\")\n",
    "#airlines\n",
    "airline_mapper = airlines.set_index(\"Code\")[\"Description\"]\n"
   ]
  },
  {
   "cell_type": "code",
   "execution_count": 21,
   "metadata": {},
   "outputs": [
    {
     "data": {
      "text/plain": [
       "WN    850814\n",
       "DL    590787\n",
       "AA    574280\n",
       "OO    504520\n",
       "UA    406927\n",
       "Name: Airline, dtype: int64"
      ]
     },
     "execution_count": 21,
     "metadata": {},
     "output_type": "execute_result"
    }
   ],
   "source": [
    "airline_counts=df_flights_012022_082022[\"Airline\"].value_counts()\n",
    "airline_counts.head()"
   ]
  },
  {
   "cell_type": "code",
   "execution_count": 22,
   "metadata": {},
   "outputs": [
    {
     "data": {
      "text/plain": [
       "Airline\n",
       "Southwest Airlines Co.    850814\n",
       "Delta Air Lines Inc.      590787\n",
       "American Airlines Inc.    574280\n",
       "SkyWest Airlines Inc.     504520\n",
       "United Air Lines Inc.     406927\n",
       "Name: Airline, dtype: int64"
      ]
     },
     "execution_count": 22,
     "metadata": {},
     "output_type": "execute_result"
    }
   ],
   "source": [
    "airline_counts=df_flights_012022_082022[\"Airline\"].value_counts()\n",
    "airline_counts\n",
    "airline_counts.index=airline_counts.index.map(\n",
    "    airlines.set_index('Code')['Description']\n",
    "    ).rename(\"Airline\")\n",
    "airline_counts.head()"
   ]
  },
  {
   "cell_type": "code",
   "execution_count": 23,
   "metadata": {},
   "outputs": [
    {
     "data": {
      "text/plain": [
       "<AxesSubplot: ylabel='Airline'>"
      ]
     },
     "execution_count": 23,
     "metadata": {},
     "output_type": "execute_result"
    },
    {
     "data": {
      "image/png": "[encoded data removed]",
      "text/plain": [
       "<Figure size 1000x1000 with 1 Axes>"
      ]
     },
     "metadata": {},
     "output_type": "display_data"
    }
   ],
   "source": [
    "airline_counts.plot(kind='barh', figsize=(10,10))"
   ]
  },
  {
   "cell_type": "code",
   "execution_count": 24,
   "metadata": {},
   "outputs": [
    {
     "data": {
      "text/plain": [
       "<AxesSubplot: ylabel='Airline'>"
      ]
     },
     "execution_count": 24,
     "metadata": {},
     "output_type": "execute_result"
    },
    {
     "data": {
      "image/png": "[encoded data removed]",
      "text/plain": [
       "<Figure size 1000x1000 with 1 Axes>"
      ]
     },
     "metadata": {},
     "output_type": "display_data"
    }
   ],
   "source": [
    "airline_counts.sort_values(ascending=True).plot(kind='barh', figsize=(10,10))"
   ]
  },
  {
   "cell_type": "code",
   "execution_count": 25,
   "metadata": {},
   "outputs": [
    {
     "data": {
      "text/html": [
       "<div>\n",
       "<style scoped>\n",
       "    .dataframe tbody tr th:only-of-type {\n",
       "        vertical-align: middle;\n",
       "    }\n",
       "\n",
       "    .dataframe tbody tr th {\n",
       "        vertical-align: top;\n",
       "    }\n",
       "\n",
       "    .dataframe thead th {\n",
       "        text-align: right;\n",
       "    }\n",
       "</style>\n",
       "<table border=\"1\" class=\"dataframe\">\n",
       "  <thead>\n",
       "    <tr style=\"text-align: right;\">\n",
       "      <th></th>\n",
       "      <th>Row Count</th>\n",
       "    </tr>\n",
       "    <tr>\n",
       "      <th>Airline</th>\n",
       "      <th></th>\n",
       "    </tr>\n",
       "  </thead>\n",
       "  <tbody>\n",
       "    <tr>\n",
       "      <th>GoJet Airlines, LLC d/b/a United Express</th>\n",
       "      <td>39310</td>\n",
       "    </tr>\n",
       "    <tr>\n",
       "      <th>Air Wisconsin Airlines Corp</th>\n",
       "      <td>45652</td>\n",
       "    </tr>\n",
       "    <tr>\n",
       "      <th>Hawaiian Airlines Inc.</th>\n",
       "      <td>48726</td>\n",
       "    </tr>\n",
       "    <tr>\n",
       "      <th>Commutair Aka Champlain Enterprises, Inc.</th>\n",
       "      <td>51198</td>\n",
       "    </tr>\n",
       "    <tr>\n",
       "      <th>Capital Cargo International</th>\n",
       "      <td>59966</td>\n",
       "    </tr>\n",
       "    <tr>\n",
       "      <th>Horizon Air</th>\n",
       "      <td>64566</td>\n",
       "    </tr>\n",
       "    <tr>\n",
       "      <th>Mesa Airlines Inc.</th>\n",
       "      <td>80859</td>\n",
       "    </tr>\n",
       "    <tr>\n",
       "      <th>Allegiant Air</th>\n",
       "      <td>82786</td>\n",
       "    </tr>\n",
       "    <tr>\n",
       "      <th>Frontier Airlines Inc.</th>\n",
       "      <td>99894</td>\n",
       "    </tr>\n",
       "    <tr>\n",
       "      <th>Spirit Air Lines</th>\n",
       "      <td>148789</td>\n",
       "    </tr>\n",
       "    <tr>\n",
       "      <th>Alaska Airlines Inc.</th>\n",
       "      <td>150024</td>\n",
       "    </tr>\n",
       "    <tr>\n",
       "      <th>Comair Inc.</th>\n",
       "      <td>153276</td>\n",
       "    </tr>\n",
       "    <tr>\n",
       "      <th>Endeavor Air Inc.</th>\n",
       "      <td>162517</td>\n",
       "    </tr>\n",
       "    <tr>\n",
       "      <th>Envoy Air</th>\n",
       "      <td>172616</td>\n",
       "    </tr>\n",
       "    <tr>\n",
       "      <th>JetBlue Airways</th>\n",
       "      <td>179893</td>\n",
       "    </tr>\n",
       "    <tr>\n",
       "      <th>Republic Airlines</th>\n",
       "      <td>224567</td>\n",
       "    </tr>\n",
       "    <tr>\n",
       "      <th>United Air Lines Inc.</th>\n",
       "      <td>406927</td>\n",
       "    </tr>\n",
       "    <tr>\n",
       "      <th>SkyWest Airlines Inc.</th>\n",
       "      <td>504520</td>\n",
       "    </tr>\n",
       "    <tr>\n",
       "      <th>American Airlines Inc.</th>\n",
       "      <td>574280</td>\n",
       "    </tr>\n",
       "    <tr>\n",
       "      <th>Delta Air Lines Inc.</th>\n",
       "      <td>590787</td>\n",
       "    </tr>\n",
       "    <tr>\n",
       "      <th>Southwest Airlines Co.</th>\n",
       "      <td>850814</td>\n",
       "    </tr>\n",
       "  </tbody>\n",
       "</table>\n",
       "</div>"
      ],
      "text/plain": [
       "                                           Row Count\n",
       "Airline                                             \n",
       "GoJet Airlines, LLC d/b/a United Express       39310\n",
       "Air Wisconsin Airlines Corp                    45652\n",
       "Hawaiian Airlines Inc.                         48726\n",
       "Commutair Aka Champlain Enterprises, Inc.      51198\n",
       "Capital Cargo International                    59966\n",
       "Horizon Air                                    64566\n",
       "Mesa Airlines Inc.                             80859\n",
       "Allegiant Air                                  82786\n",
       "Frontier Airlines Inc.                         99894\n",
       "Spirit Air Lines                              148789\n",
       "Alaska Airlines Inc.                          150024\n",
       "Comair Inc.                                   153276\n",
       "Endeavor Air Inc.                             162517\n",
       "Envoy Air                                     172616\n",
       "JetBlue Airways                               179893\n",
       "Republic Airlines                             224567\n",
       "United Air Lines Inc.                         406927\n",
       "SkyWest Airlines Inc.                         504520\n",
       "American Airlines Inc.                        574280\n",
       "Delta Air Lines Inc.                          590787\n",
       "Southwest Airlines Co.                        850814"
      ]
     },
     "execution_count": 25,
     "metadata": {},
     "output_type": "execute_result"
    }
   ],
   "source": [
    "airline_counts.sort_values(ascending=True).to_frame(\"Row Count\")"
   ]
  },
  {
   "cell_type": "code",
   "execution_count": 26,
   "metadata": {},
   "outputs": [
    {
     "data": {
      "application/vnd.plotly.v1+json": {
       "config": {
        "plotlyServerURL": "https://plot.ly"
       },
       "data": [
        {
         "alignmentgroup": "True",
         "hovertemplate": "variable=Airline<br>value=%{x}<br>index=%{y}<extra></extra>",
         "legendgroup": "Airline",
         "marker": {
          "color": "#636efa",
          "pattern": {
           "shape": ""
          }
         },
         "name": "Airline",
         "offsetgroup": "Airline",
         "orientation": "h",
         "showlegend": true,
         "textposition": "auto",
         "type": "bar",
         "x": [
          39310,
          45652,
          48726,
          51198,
          59966,
          64566,
          80859,
          82786,
          99894,
          148789,
          150024,
          153276,
          162517,
          172616,
          179893,
          224567,
          406927,
          504520,
          574280,
          590787,
          850814
         ],
         "xaxis": "x",
         "y": [
          "GoJet Airlines, LLC d/b/a United Express",
          "Air Wisconsin Airlines Corp",
          "Hawaiian Airlines Inc.",
          "Commutair Aka Champlain Enterprises, Inc.",
          "Capital Cargo International",
          "Horizon Air",
          "Mesa Airlines Inc.",
          "Allegiant Air",
          "Frontier Airlines Inc.",
          "Spirit Air Lines",
          "Alaska Airlines Inc.",
          "Comair Inc.",
          "Endeavor Air Inc.",
          "Envoy Air",
          "JetBlue Airways",
          "Republic Airlines",
          "United Air Lines Inc.",
          "SkyWest Airlines Inc.",
          "American Airlines Inc.",
          "Delta Air Lines Inc.",
          "Southwest Airlines Co."
         ],
         "yaxis": "y"
        }
       ],
       "layout": {
        "barmode": "relative",
        "height": 700,
        "legend": {
         "title": {
          "text": "variable"
         },
         "tracegroupgap": 0
        },
        "template": {
         "data": {
          "bar": [
           {
            "error_x": {
             "color": "#f2f5fa"
            },
            "error_y": {
             "color": "#f2f5fa"
            },
            "marker": {
             "line": {
              "color": "rgb(17,17,17)",
              "width": 0.5
             },
             "pattern": {
              "fillmode": "overlay",
              "size": 10,
              "solidity": 0.2
             }
            },
            "type": "bar"
           }
          ],
          "barpolar": [
           {
            "marker": {
             "line": {
              "color": "rgb(17,17,17)",
              "width": 0.5
             },
             "pattern": {
              "fillmode": "overlay",
              "size": 10,
              "solidity": 0.2
             }
            },
            "type": "barpolar"
           }
          ],
          "carpet": [
           {
            "aaxis": {
             "endlinecolor": "#A2B1C6",
             "gridcolor": "#506784",
             "linecolor": "#506784",
             "minorgridcolor": "#506784",
             "startlinecolor": "#A2B1C6"
            },
            "baxis": {
             "endlinecolor": "#A2B1C6",
             "gridcolor": "#506784",
             "linecolor": "#506784",
             "minorgridcolor": "#506784",
             "startlinecolor": "#A2B1C6"
            },
            "type": "carpet"
           }
          ],
          "choropleth": [
           {
            "colorbar": {
             "outlinewidth": 0,
             "ticks": ""
            },
            "type": "choropleth"
           }
          ],
          "contour": [
           {
            "colorbar": {
             "outlinewidth": 0,
             "ticks": ""
            },
            "colorscale": [
             [
              0,
              "#0d0887"
             ],
             [
              0.1111111111111111,
              "#46039f"
             ],
             [
              0.2222222222222222,
              "#7201a8"
             ],
             [
              0.3333333333333333,
              "#9c179e"
             ],
             [
              0.4444444444444444,
              "#bd3786"
             ],
             [
              0.5555555555555556,
              "#d8576b"
             ],
             [
              0.6666666666666666,
              "#ed7953"
             ],
             [
              0.7777777777777778,
              "#fb9f3a"
             ],
             [
              0.8888888888888888,
              "#fdca26"
             ],
             [
              1,
              "#f0f921"
             ]
            ],
            "type": "contour"
           }
          ],
          "contourcarpet": [
           {
            "colorbar": {
             "outlinewidth": 0,
             "ticks": ""
            },
            "type": "contourcarpet"
           }
          ],
          "heatmap": [
           {
            "colorbar": {
             "outlinewidth": 0,
             "ticks": ""
            },
            "colorscale": [
             [
              0,
              "#0d0887"
             ],
             [
              0.1111111111111111,
              "#46039f"
             ],
             [
              0.2222222222222222,
              "#7201a8"
             ],
             [
              0.3333333333333333,
              "#9c179e"
             ],
             [
              0.4444444444444444,
              "#bd3786"
             ],
             [
              0.5555555555555556,
              "#d8576b"
             ],
             [
              0.6666666666666666,
              "#ed7953"
             ],
             [
              0.7777777777777778,
              "#fb9f3a"
             ],
             [
              0.8888888888888888,
              "#fdca26"
             ],
             [
              1,
              "#f0f921"
             ]
            ],
            "type": "heatmap"
           }
          ],
          "heatmapgl": [
           {
            "colorbar": {
             "outlinewidth": 0,
             "ticks": ""
            },
            "colorscale": [
             [
              0,
              "#0d0887"
             ],
             [
              0.1111111111111111,
              "#46039f"
             ],
             [
              0.2222222222222222,
              "#7201a8"
             ],
             [
              0.3333333333333333,
              "#9c179e"
             ],
             [
              0.4444444444444444,
              "#bd3786"
             ],
             [
              0.5555555555555556,
              "#d8576b"
             ],
             [
              0.6666666666666666,
              "#ed7953"
             ],
             [
              0.7777777777777778,
              "#fb9f3a"
             ],
             [
              0.8888888888888888,
              "#fdca26"
             ],
             [
              1,
              "#f0f921"
             ]
            ],
            "type": "heatmapgl"
           }
          ],
          "histogram": [
           {
            "marker": {
             "pattern": {
              "fillmode": "overlay",
              "size": 10,
              "solidity": 0.2
             }
            },
            "type": "histogram"
           }
          ],
          "histogram2d": [
           {
            "colorbar": {
             "outlinewidth": 0,
             "ticks": ""
            },
            "colorscale": [
             [
              0,
              "#0d0887"
             ],
             [
              0.1111111111111111,
              "#46039f"
             ],
             [
              0.2222222222222222,
              "#7201a8"
             ],
             [
              0.3333333333333333,
              "#9c179e"
             ],
             [
              0.4444444444444444,
              "#bd3786"
             ],
             [
              0.5555555555555556,
              "#d8576b"
             ],
             [
              0.6666666666666666,
              "#ed7953"
             ],
             [
              0.7777777777777778,
              "#fb9f3a"
             ],
             [
              0.8888888888888888,
              "#fdca26"
             ],
             [
              1,
              "#f0f921"
             ]
            ],
            "type": "histogram2d"
           }
          ],
          "histogram2dcontour": [
           {
            "colorbar": {
             "outlinewidth": 0,
             "ticks": ""
            },
            "colorscale": [
             [
              0,
              "#0d0887"
             ],
             [
              0.1111111111111111,
              "#46039f"
             ],
             [
              0.2222222222222222,
              "#7201a8"
             ],
             [
              0.3333333333333333,
              "#9c179e"
             ],
             [
              0.4444444444444444,
              "#bd3786"
             ],
             [
              0.5555555555555556,
              "#d8576b"
             ],
             [
              0.6666666666666666,
              "#ed7953"
             ],
             [
              0.7777777777777778,
              "#fb9f3a"
             ],
             [
              0.8888888888888888,
              "#fdca26"
             ],
             [
              1,
              "#f0f921"
             ]
            ],
            "type": "histogram2dcontour"
           }
          ],
          "mesh3d": [
           {
            "colorbar": {
             "outlinewidth": 0,
             "ticks": ""
            },
            "type": "mesh3d"
           }
          ],
          "parcoords": [
           {
            "line": {
             "colorbar": {
              "outlinewidth": 0,
              "ticks": ""
             }
            },
            "type": "parcoords"
           }
          ],
          "pie": [
           {
            "automargin": true,
            "type": "pie"
           }
          ],
          "scatter": [
           {
            "marker": {
             "line": {
              "color": "#283442"
             }
            },
            "type": "scatter"
           }
          ],
          "scatter3d": [
           {
            "line": {
             "colorbar": {
              "outlinewidth": 0,
              "ticks": ""
             }
            },
            "marker": {
             "colorbar": {
              "outlinewidth": 0,
              "ticks": ""
             }
            },
            "type": "scatter3d"
           }
          ],
          "scattercarpet": [
           {
            "marker": {
             "colorbar": {
              "outlinewidth": 0,
              "ticks": ""
             }
            },
            "type": "scattercarpet"
           }
          ],
          "scattergeo": [
           {
            "marker": {
             "colorbar": {
              "outlinewidth": 0,
              "ticks": ""
             }
            },
            "type": "scattergeo"
           }
          ],
          "scattergl": [
           {
            "marker": {
             "line": {
              "color": "#283442"
             }
            },
            "type": "scattergl"
           }
          ],
          "scattermapbox": [
           {
            "marker": {
             "colorbar": {
              "outlinewidth": 0,
              "ticks": ""
             }
            },
            "type": "scattermapbox"
           }
          ],
          "scatterpolar": [
           {
            "marker": {
             "colorbar": {
              "outlinewidth": 0,
              "ticks": ""
             }
            },
            "type": "scatterpolar"
           }
          ],
          "scatterpolargl": [
           {
            "marker": {
             "colorbar": {
              "outlinewidth": 0,
              "ticks": ""
             }
            },
            "type": "scatterpolargl"
           }
          ],
          "scatterternary": [
           {
            "marker": {
             "colorbar": {
              "outlinewidth": 0,
              "ticks": ""
             }
            },
            "type": "scatterternary"
           }
          ],
          "surface": [
           {
            "colorbar": {
             "outlinewidth": 0,
             "ticks": ""
            },
            "colorscale": [
             [
              0,
              "#0d0887"
             ],
             [
              0.1111111111111111,
              "#46039f"
             ],
             [
              0.2222222222222222,
              "#7201a8"
             ],
             [
              0.3333333333333333,
              "#9c179e"
             ],
             [
              0.4444444444444444,
              "#bd3786"
             ],
             [
              0.5555555555555556,
              "#d8576b"
             ],
             [
              0.6666666666666666,
              "#ed7953"
             ],
             [
              0.7777777777777778,
              "#fb9f3a"
             ],
             [
              0.8888888888888888,
              "#fdca26"
             ],
             [
              1,
              "#f0f921"
             ]
            ],
            "type": "surface"
           }
          ],
          "table": [
           {
            "cells": {
             "fill": {
              "color": "#506784"
             },
             "line": {
              "color": "rgb(17,17,17)"
             }
            },
            "header": {
             "fill": {
              "color": "#2a3f5f"
             },
             "line": {
              "color": "rgb(17,17,17)"
             }
            },
            "type": "table"
           }
          ]
         },
         "layout": {
          "annotationdefaults": {
           "arrowcolor": "#f2f5fa",
           "arrowhead": 0,
           "arrowwidth": 1
          },
          "autotypenumbers": "strict",
          "coloraxis": {
           "colorbar": {
            "outlinewidth": 0,
            "ticks": ""
           }
          },
          "colorscale": {
           "diverging": [
            [
             0,
             "#8e0152"
            ],
            [
             0.1,
             "#c51b7d"
            ],
            [
             0.2,
             "#de77ae"
            ],
            [
             0.3,
             "#f1b6da"
            ],
            [
             0.4,
             "#fde0ef"
            ],
            [
             0.5,
             "#f7f7f7"
            ],
            [
             0.6,
             "#e6f5d0"
            ],
            [
             0.7,
             "#b8e186"
            ],
            [
             0.8,
             "#7fbc41"
            ],
            [
             0.9,
             "#4d9221"
            ],
            [
             1,
             "#276419"
            ]
           ],
           "sequential": [
            [
             0,
             "#0d0887"
            ],
            [
             0.1111111111111111,
             "#46039f"
            ],
            [
             0.2222222222222222,
             "#7201a8"
            ],
            [
             0.3333333333333333,
             "#9c179e"
            ],
            [
             0.4444444444444444,
             "#bd3786"
            ],
            [
             0.5555555555555556,
             "#d8576b"
            ],
            [
             0.6666666666666666,
             "#ed7953"
            ],
            [
             0.7777777777777778,
             "#fb9f3a"
            ],
            [
             0.8888888888888888,
             "#fdca26"
            ],
            [
             1,
             "#f0f921"
            ]
           ],
           "sequentialminus": [
            [
             0,
             "#0d0887"
            ],
            [
             0.1111111111111111,
             "#46039f"
            ],
            [
             0.2222222222222222,
             "#7201a8"
            ],
            [
             0.3333333333333333,
             "#9c179e"
            ],
            [
             0.4444444444444444,
             "#bd3786"
            ],
            [
             0.5555555555555556,
             "#d8576b"
            ],
            [
             0.6666666666666666,
             "#ed7953"
            ],
            [
             0.7777777777777778,
             "#fb9f3a"
            ],
            [
             0.8888888888888888,
             "#fdca26"
            ],
            [
             1,
             "#f0f921"
            ]
           ]
          },
          "colorway": [
           "#636efa",
           "#EF553B",
           "#00cc96",
           "#ab63fa",
           "#FFA15A",
           "#19d3f3",
           "#FF6692",
           "#B6E880",
           "#FF97FF",
           "#FECB52"
          ],
          "font": {
           "color": "#f2f5fa"
          },
          "geo": {
           "bgcolor": "rgb(17,17,17)",
           "lakecolor": "rgb(17,17,17)",
           "landcolor": "rgb(17,17,17)",
           "showlakes": true,
           "showland": true,
           "subunitcolor": "#506784"
          },
          "hoverlabel": {
           "align": "left"
          },
          "hovermode": "closest",
          "mapbox": {
           "style": "dark"
          },
          "paper_bgcolor": "rgb(17,17,17)",
          "plot_bgcolor": "rgb(17,17,17)",
          "polar": {
           "angularaxis": {
            "gridcolor": "#506784",
            "linecolor": "#506784",
            "ticks": ""
           },
           "bgcolor": "rgb(17,17,17)",
           "radialaxis": {
            "gridcolor": "#506784",
            "linecolor": "#506784",
            "ticks": ""
           }
          },
          "scene": {
           "xaxis": {
            "backgroundcolor": "rgb(17,17,17)",
            "gridcolor": "#506784",
            "gridwidth": 2,
            "linecolor": "#506784",
            "showbackground": true,
            "ticks": "",
            "zerolinecolor": "#C8D4E3"
           },
           "yaxis": {
            "backgroundcolor": "rgb(17,17,17)",
            "gridcolor": "#506784",
            "gridwidth": 2,
            "linecolor": "#506784",
            "showbackground": true,
            "ticks": "",
            "zerolinecolor": "#C8D4E3"
           },
           "zaxis": {
            "backgroundcolor": "rgb(17,17,17)",
            "gridcolor": "#506784",
            "gridwidth": 2,
            "linecolor": "#506784",
            "showbackground": true,
            "ticks": "",
            "zerolinecolor": "#C8D4E3"
           }
          },
          "shapedefaults": {
           "line": {
            "color": "#f2f5fa"
           }
          },
          "sliderdefaults": {
           "bgcolor": "#C8D4E3",
           "bordercolor": "rgb(17,17,17)",
           "borderwidth": 1,
           "tickwidth": 0
          },
          "ternary": {
           "aaxis": {
            "gridcolor": "#506784",
            "linecolor": "#506784",
            "ticks": ""
           },
           "baxis": {
            "gridcolor": "#506784",
            "linecolor": "#506784",
            "ticks": ""
           },
           "bgcolor": "rgb(17,17,17)",
           "caxis": {
            "gridcolor": "#506784",
            "linecolor": "#506784",
            "ticks": ""
           }
          },
          "title": {
           "x": 0.05
          },
          "updatemenudefaults": {
           "bgcolor": "#506784",
           "borderwidth": 0
          },
          "xaxis": {
           "automargin": true,
           "gridcolor": "#283442",
           "linecolor": "#506784",
           "ticks": "",
           "title": {
            "standoff": 15
           },
           "zerolinecolor": "#283442",
           "zerolinewidth": 2
          },
          "yaxis": {
           "automargin": true,
           "gridcolor": "#283442",
           "linecolor": "#506784",
           "ticks": "",
           "title": {
            "standoff": 15
           },
           "zerolinecolor": "#283442",
           "zerolinewidth": 2
          }
         }
        },
        "title": {
         "text": "Flights per airline"
        },
        "xaxis": {
         "anchor": "y",
         "domain": [
          0,
          1
         ],
         "title": {
          "text": "value"
         }
        },
        "yaxis": {
         "anchor": "x",
         "domain": [
          0,
          1
         ],
         "title": {
          "text": "index"
         }
        }
       }
      }
     },
     "metadata": {},
     "output_type": "display_data"
    }
   ],
   "source": [
    "px.bar(\n",
    "    airline_counts.sort_values(ascending=True), \n",
    "    orientation='h', \n",
    "    template=\"plotly_dark\",\n",
    "    title=\"Flights per airline\",\n",
    "    height=700,\n",
    "    )"
   ]
  },
  {
   "cell_type": "code",
   "execution_count": 27,
   "metadata": {},
   "outputs": [
    {
     "name": "stdout",
     "output_type": "stream",
     "text": [
      "0.03% of flights are cancelled\n"
     ]
    },
    {
     "data": {
      "text/plain": [
       "0.029555834471981582"
      ]
     },
     "execution_count": 27,
     "metadata": {},
     "output_type": "execute_result"
    }
   ],
   "source": [
    "pct_cancelled = df_flights_012022_082022[\"Cancelled\"].mean()\n",
    "print(f\"{pct_cancelled:0.2f}% of flights are cancelled\")\n",
    "pct_cancelled"
   ]
  },
  {
   "cell_type": "code",
   "execution_count": 28,
   "metadata": {},
   "outputs": [
    {
     "data": {
      "text/plain": [
       "False    4553292\n",
       "True      138675\n",
       "Name: Cancelled, dtype: int64"
      ]
     },
     "execution_count": 28,
     "metadata": {},
     "output_type": "execute_result"
    }
   ],
   "source": [
    "df_flights_012022_082022[\"Cancelled\"].value_counts()"
   ]
  },
  {
   "cell_type": "markdown",
   "metadata": {},
   "source": [
    "### Cancelled flights, group by Year"
   ]
  },
  {
   "cell_type": "code",
   "execution_count": 41,
   "metadata": {},
   "outputs": [
    {
     "data": {
      "text/html": [
       "<div>\n",
       "<style scoped>\n",
       "    .dataframe tbody tr th:only-of-type {\n",
       "        vertical-align: middle;\n",
       "    }\n",
       "\n",
       "    .dataframe tbody tr th {\n",
       "        vertical-align: top;\n",
       "    }\n",
       "\n",
       "    .dataframe thead th {\n",
       "        text-align: right;\n",
       "    }\n",
       "</style>\n",
       "<table border=\"1\" class=\"dataframe\">\n",
       "  <thead>\n",
       "    <tr style=\"text-align: right;\">\n",
       "      <th></th>\n",
       "      <th>Cancelled</th>\n",
       "    </tr>\n",
       "    <tr>\n",
       "      <th>FlightDate</th>\n",
       "      <th></th>\n",
       "    </tr>\n",
       "  </thead>\n",
       "  <tbody>\n",
       "    <tr>\n",
       "      <th>2022-01-01</th>\n",
       "      <td>0.153500</td>\n",
       "    </tr>\n",
       "    <tr>\n",
       "      <th>2022-01-02</th>\n",
       "      <td>0.129504</td>\n",
       "    </tr>\n",
       "    <tr>\n",
       "      <th>2022-01-03</th>\n",
       "      <td>0.158931</td>\n",
       "    </tr>\n",
       "    <tr>\n",
       "      <th>2022-01-04</th>\n",
       "      <td>0.080606</td>\n",
       "    </tr>\n",
       "    <tr>\n",
       "      <th>2022-01-05</th>\n",
       "      <td>0.094092</td>\n",
       "    </tr>\n",
       "    <tr>\n",
       "      <th>2022-01-06</th>\n",
       "      <td>0.110386</td>\n",
       "    </tr>\n",
       "    <tr>\n",
       "      <th>2022-01-07</th>\n",
       "      <td>0.126592</td>\n",
       "    </tr>\n",
       "    <tr>\n",
       "      <th>2022-01-08</th>\n",
       "      <td>0.072110</td>\n",
       "    </tr>\n",
       "    <tr>\n",
       "      <th>2022-01-09</th>\n",
       "      <td>0.062467</td>\n",
       "    </tr>\n",
       "    <tr>\n",
       "      <th>2022-01-10</th>\n",
       "      <td>0.041520</td>\n",
       "    </tr>\n",
       "    <tr>\n",
       "      <th>...</th>\n",
       "      <td>...</td>\n",
       "    </tr>\n",
       "    <tr>\n",
       "      <th>2022-08-22</th>\n",
       "      <td>0.070200</td>\n",
       "    </tr>\n",
       "    <tr>\n",
       "      <th>2022-08-23</th>\n",
       "      <td>0.026885</td>\n",
       "    </tr>\n",
       "    <tr>\n",
       "      <th>2022-08-24</th>\n",
       "      <td>0.009784</td>\n",
       "    </tr>\n",
       "    <tr>\n",
       "      <th>2022-08-25</th>\n",
       "      <td>0.003989</td>\n",
       "    </tr>\n",
       "    <tr>\n",
       "      <th>2022-08-26</th>\n",
       "      <td>0.012899</td>\n",
       "    </tr>\n",
       "    <tr>\n",
       "      <th>2022-08-27</th>\n",
       "      <td>0.003793</td>\n",
       "    </tr>\n",
       "    <tr>\n",
       "      <th>2022-08-28</th>\n",
       "      <td>0.007232</td>\n",
       "    </tr>\n",
       "    <tr>\n",
       "      <th>2022-08-29</th>\n",
       "      <td>0.026391</td>\n",
       "    </tr>\n",
       "    <tr>\n",
       "      <th>2022-08-30</th>\n",
       "      <td>0.045162</td>\n",
       "    </tr>\n",
       "    <tr>\n",
       "      <th>2022-08-31</th>\n",
       "      <td>0.006588</td>\n",
       "    </tr>\n",
       "  </tbody>\n",
       "</table>\n",
       "<p>243 rows × 1 columns</p>\n",
       "</div>"
      ],
      "text/plain": [
       "            Cancelled\n",
       "FlightDate           \n",
       "2022-01-01   0.153500\n",
       "2022-01-02   0.129504\n",
       "2022-01-03   0.158931\n",
       "2022-01-04   0.080606\n",
       "2022-01-05   0.094092\n",
       "2022-01-06   0.110386\n",
       "2022-01-07   0.126592\n",
       "2022-01-08   0.072110\n",
       "2022-01-09   0.062467\n",
       "2022-01-10   0.041520\n",
       "...               ...\n",
       "2022-08-22   0.070200\n",
       "2022-08-23   0.026885\n",
       "2022-08-24   0.009784\n",
       "2022-08-25   0.003989\n",
       "2022-08-26   0.012899\n",
       "2022-08-27   0.003793\n",
       "2022-08-28   0.007232\n",
       "2022-08-29   0.026391\n",
       "2022-08-30   0.045162\n",
       "2022-08-31   0.006588\n",
       "\n",
       "[243 rows x 1 columns]"
      ]
     },
     "execution_count": 41,
     "metadata": {},
     "output_type": "execute_result"
    }
   ],
   "source": [
    "#df_flights.query(\"Year==2022\").query(\"Cancelled\")\n",
    "df_flights_012022_082022.groupby(\"FlightDate\")[\"Cancelled\"].agg(\"mean\").to_frame()"
   ]
  },
  {
   "cell_type": "code",
   "execution_count": 52,
   "metadata": {},
   "outputs": [
    {
     "data": {
      "text/html": [
       "<div>\n",
       "<style scoped>\n",
       "    .dataframe tbody tr th:only-of-type {\n",
       "        vertical-align: middle;\n",
       "    }\n",
       "\n",
       "    .dataframe tbody tr th {\n",
       "        vertical-align: top;\n",
       "    }\n",
       "\n",
       "    .dataframe thead th {\n",
       "        text-align: right;\n",
       "    }\n",
       "</style>\n",
       "<table border=\"1\" class=\"dataframe\">\n",
       "  <thead>\n",
       "    <tr style=\"text-align: right;\">\n",
       "      <th></th>\n",
       "      <th>FlightDate</th>\n",
       "      <th>Airline</th>\n",
       "      <th>OriginAirportID</th>\n",
       "      <th>Origin</th>\n",
       "      <th>OriginCityName</th>\n",
       "      <th>OriginState</th>\n",
       "      <th>DestAirportID</th>\n",
       "      <th>Dest</th>\n",
       "      <th>DestCityName</th>\n",
       "      <th>DestState</th>\n",
       "      <th>DestStateName</th>\n",
       "      <th>CRSDepTime</th>\n",
       "      <th>DepTime</th>\n",
       "      <th>DepDelay</th>\n",
       "      <th>DepDelayMinutes</th>\n",
       "      <th>DepDel15</th>\n",
       "      <th>DepartureDelayGroups</th>\n",
       "      <th>DepTimeBlk</th>\n",
       "      <th>TaxiOut</th>\n",
       "      <th>WheelsOff</th>\n",
       "      <th>WheelsOn</th>\n",
       "      <th>TaxiIn</th>\n",
       "      <th>CRSArrTime</th>\n",
       "      <th>ArrTime</th>\n",
       "      <th>ArrDelay</th>\n",
       "      <th>ArrDelayMinutes</th>\n",
       "      <th>ArrDel15</th>\n",
       "      <th>ArrivalDelayGroups</th>\n",
       "      <th>ArrTimeBlk</th>\n",
       "      <th>Cancelled</th>\n",
       "      <th>CancellationCode</th>\n",
       "      <th>Diverted</th>\n",
       "      <th>CRSElapsedTime</th>\n",
       "      <th>ActualElapsedTime</th>\n",
       "      <th>AirTime</th>\n",
       "      <th>Flights</th>\n",
       "      <th>Distance</th>\n",
       "      <th>DistanceGroup</th>\n",
       "      <th>CarrierDelay</th>\n",
       "      <th>WeatherDelay</th>\n",
       "      <th>NASDelay</th>\n",
       "      <th>SecurityDelay</th>\n",
       "      <th>LateAircraftDelay</th>\n",
       "      <th>FirstDepTime</th>\n",
       "      <th>TotalAddGTime</th>\n",
       "      <th>LongestAddGTime</th>\n",
       "    </tr>\n",
       "  </thead>\n",
       "  <tbody>\n",
       "    <tr>\n",
       "      <th>0</th>\n",
       "      <td>2022-01-06</td>\n",
       "      <td>DL</td>\n",
       "      <td>11697</td>\n",
       "      <td>FLL</td>\n",
       "      <td>Fort Lauderdale, FL</td>\n",
       "      <td>FL</td>\n",
       "      <td>12953</td>\n",
       "      <td>LGA</td>\n",
       "      <td>New York, NY</td>\n",
       "      <td>NY</td>\n",
       "      <td>New York</td>\n",
       "      <td>1126</td>\n",
       "      <td>0.0</td>\n",
       "      <td>0.0</td>\n",
       "      <td>0.0</td>\n",
       "      <td>0.0</td>\n",
       "      <td>0.0</td>\n",
       "      <td>1100-1159</td>\n",
       "      <td>0.0</td>\n",
       "      <td>0.0</td>\n",
       "      <td>0.0</td>\n",
       "      <td>0.0</td>\n",
       "      <td>1419</td>\n",
       "      <td>0.0</td>\n",
       "      <td>0.0</td>\n",
       "      <td>0.0</td>\n",
       "      <td>0.0</td>\n",
       "      <td>0.0</td>\n",
       "      <td>1400-1459</td>\n",
       "      <td>True</td>\n",
       "      <td>A</td>\n",
       "      <td>False</td>\n",
       "      <td>173.0</td>\n",
       "      <td>0.0</td>\n",
       "      <td>0.0</td>\n",
       "      <td>1.0</td>\n",
       "      <td>1076.0</td>\n",
       "      <td>5</td>\n",
       "      <td>0.0</td>\n",
       "      <td>0.0</td>\n",
       "      <td>0.0</td>\n",
       "      <td>0.0</td>\n",
       "      <td>0.0</td>\n",
       "      <td>0.0</td>\n",
       "      <td>0.0</td>\n",
       "      <td>0.0</td>\n",
       "    </tr>\n",
       "    <tr>\n",
       "      <th>1</th>\n",
       "      <td>2022-01-06</td>\n",
       "      <td>DL</td>\n",
       "      <td>10397</td>\n",
       "      <td>ATL</td>\n",
       "      <td>Atlanta, GA</td>\n",
       "      <td>GA</td>\n",
       "      <td>11697</td>\n",
       "      <td>FLL</td>\n",
       "      <td>Fort Lauderdale, FL</td>\n",
       "      <td>FL</td>\n",
       "      <td>Florida</td>\n",
       "      <td>1631</td>\n",
       "      <td>1627.0</td>\n",
       "      <td>-4.0</td>\n",
       "      <td>0.0</td>\n",
       "      <td>0.0</td>\n",
       "      <td>-1.0</td>\n",
       "      <td>1600-1659</td>\n",
       "      <td>15.0</td>\n",
       "      <td>1642.0</td>\n",
       "      <td>1815.0</td>\n",
       "      <td>5.0</td>\n",
       "      <td>1821</td>\n",
       "      <td>1820.0</td>\n",
       "      <td>-1.0</td>\n",
       "      <td>0.0</td>\n",
       "      <td>0.0</td>\n",
       "      <td>-1.0</td>\n",
       "      <td>1800-1859</td>\n",
       "      <td>False</td>\n",
       "      <td>NaN</td>\n",
       "      <td>False</td>\n",
       "      <td>110.0</td>\n",
       "      <td>113.0</td>\n",
       "      <td>93.0</td>\n",
       "      <td>1.0</td>\n",
       "      <td>581.0</td>\n",
       "      <td>3</td>\n",
       "      <td>0.0</td>\n",
       "      <td>0.0</td>\n",
       "      <td>0.0</td>\n",
       "      <td>0.0</td>\n",
       "      <td>0.0</td>\n",
       "      <td>0.0</td>\n",
       "      <td>0.0</td>\n",
       "      <td>0.0</td>\n",
       "    </tr>\n",
       "    <tr>\n",
       "      <th>2</th>\n",
       "      <td>2022-01-06</td>\n",
       "      <td>DL</td>\n",
       "      <td>11697</td>\n",
       "      <td>FLL</td>\n",
       "      <td>Fort Lauderdale, FL</td>\n",
       "      <td>FL</td>\n",
       "      <td>10397</td>\n",
       "      <td>ATL</td>\n",
       "      <td>Atlanta, GA</td>\n",
       "      <td>GA</td>\n",
       "      <td>Georgia</td>\n",
       "      <td>1931</td>\n",
       "      <td>1929.0</td>\n",
       "      <td>-2.0</td>\n",
       "      <td>0.0</td>\n",
       "      <td>0.0</td>\n",
       "      <td>-1.0</td>\n",
       "      <td>1900-1959</td>\n",
       "      <td>13.0</td>\n",
       "      <td>1942.0</td>\n",
       "      <td>2104.0</td>\n",
       "      <td>10.0</td>\n",
       "      <td>2127</td>\n",
       "      <td>2116.0</td>\n",
       "      <td>-12.0</td>\n",
       "      <td>0.0</td>\n",
       "      <td>0.0</td>\n",
       "      <td>-1.0</td>\n",
       "      <td>2100-2159</td>\n",
       "      <td>False</td>\n",
       "      <td>NaN</td>\n",
       "      <td>False</td>\n",
       "      <td>116.0</td>\n",
       "      <td>106.0</td>\n",
       "      <td>83.0</td>\n",
       "      <td>1.0</td>\n",
       "      <td>581.0</td>\n",
       "      <td>3</td>\n",
       "      <td>0.0</td>\n",
       "      <td>0.0</td>\n",
       "      <td>0.0</td>\n",
       "      <td>0.0</td>\n",
       "      <td>0.0</td>\n",
       "      <td>0.0</td>\n",
       "      <td>0.0</td>\n",
       "      <td>0.0</td>\n",
       "    </tr>\n",
       "    <tr>\n",
       "      <th>3</th>\n",
       "      <td>2022-01-06</td>\n",
       "      <td>DL</td>\n",
       "      <td>11697</td>\n",
       "      <td>FLL</td>\n",
       "      <td>Fort Lauderdale, FL</td>\n",
       "      <td>FL</td>\n",
       "      <td>14492</td>\n",
       "      <td>RDU</td>\n",
       "      <td>Raleigh/Durham, NC</td>\n",
       "      <td>NC</td>\n",
       "      <td>North Carolina</td>\n",
       "      <td>1024</td>\n",
       "      <td>1019.0</td>\n",
       "      <td>-5.0</td>\n",
       "      <td>0.0</td>\n",
       "      <td>0.0</td>\n",
       "      <td>-1.0</td>\n",
       "      <td>1000-1059</td>\n",
       "      <td>17.0</td>\n",
       "      <td>1036.0</td>\n",
       "      <td>1209.0</td>\n",
       "      <td>3.0</td>\n",
       "      <td>1227</td>\n",
       "      <td>1212.0</td>\n",
       "      <td>-15.0</td>\n",
       "      <td>0.0</td>\n",
       "      <td>0.0</td>\n",
       "      <td>-1.0</td>\n",
       "      <td>1200-1259</td>\n",
       "      <td>False</td>\n",
       "      <td>NaN</td>\n",
       "      <td>False</td>\n",
       "      <td>123.0</td>\n",
       "      <td>113.0</td>\n",
       "      <td>93.0</td>\n",
       "      <td>1.0</td>\n",
       "      <td>680.0</td>\n",
       "      <td>3</td>\n",
       "      <td>0.0</td>\n",
       "      <td>0.0</td>\n",
       "      <td>0.0</td>\n",
       "      <td>0.0</td>\n",
       "      <td>0.0</td>\n",
       "      <td>0.0</td>\n",
       "      <td>0.0</td>\n",
       "      <td>0.0</td>\n",
       "    </tr>\n",
       "    <tr>\n",
       "      <th>4</th>\n",
       "      <td>2022-01-06</td>\n",
       "      <td>DL</td>\n",
       "      <td>10397</td>\n",
       "      <td>ATL</td>\n",
       "      <td>Atlanta, GA</td>\n",
       "      <td>GA</td>\n",
       "      <td>12448</td>\n",
       "      <td>JAN</td>\n",
       "      <td>Jackson/Vicksburg, MS</td>\n",
       "      <td>MS</td>\n",
       "      <td>Mississippi</td>\n",
       "      <td>1117</td>\n",
       "      <td>1113.0</td>\n",
       "      <td>-4.0</td>\n",
       "      <td>0.0</td>\n",
       "      <td>0.0</td>\n",
       "      <td>-1.0</td>\n",
       "      <td>1100-1159</td>\n",
       "      <td>14.0</td>\n",
       "      <td>1127.0</td>\n",
       "      <td>1127.0</td>\n",
       "      <td>4.0</td>\n",
       "      <td>1142</td>\n",
       "      <td>1131.0</td>\n",
       "      <td>-11.0</td>\n",
       "      <td>0.0</td>\n",
       "      <td>0.0</td>\n",
       "      <td>-1.0</td>\n",
       "      <td>1100-1159</td>\n",
       "      <td>False</td>\n",
       "      <td>NaN</td>\n",
       "      <td>False</td>\n",
       "      <td>85.0</td>\n",
       "      <td>78.0</td>\n",
       "      <td>60.0</td>\n",
       "      <td>1.0</td>\n",
       "      <td>341.0</td>\n",
       "      <td>2</td>\n",
       "      <td>0.0</td>\n",
       "      <td>0.0</td>\n",
       "      <td>0.0</td>\n",
       "      <td>0.0</td>\n",
       "      <td>0.0</td>\n",
       "      <td>0.0</td>\n",
       "      <td>0.0</td>\n",
       "      <td>0.0</td>\n",
       "    </tr>\n",
       "    <tr>\n",
       "      <th>5</th>\n",
       "      <td>2022-01-06</td>\n",
       "      <td>DL</td>\n",
       "      <td>12448</td>\n",
       "      <td>JAN</td>\n",
       "      <td>Jackson/Vicksburg, MS</td>\n",
       "      <td>MS</td>\n",
       "      <td>10397</td>\n",
       "      <td>ATL</td>\n",
       "      <td>Atlanta, GA</td>\n",
       "      <td>GA</td>\n",
       "      <td>Georgia</td>\n",
       "      <td>1237</td>\n",
       "      <td>1230.0</td>\n",
       "      <td>-7.0</td>\n",
       "      <td>0.0</td>\n",
       "      <td>0.0</td>\n",
       "      <td>-1.0</td>\n",
       "      <td>1200-1259</td>\n",
       "      <td>11.0</td>\n",
       "      <td>1241.0</td>\n",
       "      <td>1430.0</td>\n",
       "      <td>5.0</td>\n",
       "      <td>1458</td>\n",
       "      <td>1435.0</td>\n",
       "      <td>-23.0</td>\n",
       "      <td>0.0</td>\n",
       "      <td>0.0</td>\n",
       "      <td>-2.0</td>\n",
       "      <td>1400-1459</td>\n",
       "      <td>False</td>\n",
       "      <td>NaN</td>\n",
       "      <td>False</td>\n",
       "      <td>81.0</td>\n",
       "      <td>65.0</td>\n",
       "      <td>49.0</td>\n",
       "      <td>1.0</td>\n",
       "      <td>341.0</td>\n",
       "      <td>2</td>\n",
       "      <td>0.0</td>\n",
       "      <td>0.0</td>\n",
       "      <td>0.0</td>\n",
       "      <td>0.0</td>\n",
       "      <td>0.0</td>\n",
       "      <td>0.0</td>\n",
       "      <td>0.0</td>\n",
       "      <td>0.0</td>\n",
       "    </tr>\n",
       "    <tr>\n",
       "      <th>6</th>\n",
       "      <td>2022-01-06</td>\n",
       "      <td>DL</td>\n",
       "      <td>14524</td>\n",
       "      <td>RIC</td>\n",
       "      <td>Richmond, VA</td>\n",
       "      <td>VA</td>\n",
       "      <td>10397</td>\n",
       "      <td>ATL</td>\n",
       "      <td>Atlanta, GA</td>\n",
       "      <td>GA</td>\n",
       "      <td>Georgia</td>\n",
       "      <td>900</td>\n",
       "      <td>857.0</td>\n",
       "      <td>-3.0</td>\n",
       "      <td>0.0</td>\n",
       "      <td>0.0</td>\n",
       "      <td>-1.0</td>\n",
       "      <td>0900-0959</td>\n",
       "      <td>13.0</td>\n",
       "      <td>910.0</td>\n",
       "      <td>1030.0</td>\n",
       "      <td>8.0</td>\n",
       "      <td>1050</td>\n",
       "      <td>1038.0</td>\n",
       "      <td>-12.0</td>\n",
       "      <td>0.0</td>\n",
       "      <td>0.0</td>\n",
       "      <td>-1.0</td>\n",
       "      <td>1000-1059</td>\n",
       "      <td>False</td>\n",
       "      <td>NaN</td>\n",
       "      <td>False</td>\n",
       "      <td>110.0</td>\n",
       "      <td>101.0</td>\n",
       "      <td>80.0</td>\n",
       "      <td>1.0</td>\n",
       "      <td>481.0</td>\n",
       "      <td>2</td>\n",
       "      <td>0.0</td>\n",
       "      <td>0.0</td>\n",
       "      <td>0.0</td>\n",
       "      <td>0.0</td>\n",
       "      <td>0.0</td>\n",
       "      <td>0.0</td>\n",
       "      <td>0.0</td>\n",
       "      <td>0.0</td>\n",
       "    </tr>\n",
       "    <tr>\n",
       "      <th>7</th>\n",
       "      <td>2022-01-06</td>\n",
       "      <td>DL</td>\n",
       "      <td>13487</td>\n",
       "      <td>MSP</td>\n",
       "      <td>Minneapolis, MN</td>\n",
       "      <td>MN</td>\n",
       "      <td>14635</td>\n",
       "      <td>RSW</td>\n",
       "      <td>Fort Myers, FL</td>\n",
       "      <td>FL</td>\n",
       "      <td>Florida</td>\n",
       "      <td>1000</td>\n",
       "      <td>1018.0</td>\n",
       "      <td>18.0</td>\n",
       "      <td>18.0</td>\n",
       "      <td>1.0</td>\n",
       "      <td>1.0</td>\n",
       "      <td>1000-1059</td>\n",
       "      <td>15.0</td>\n",
       "      <td>1033.0</td>\n",
       "      <td>1431.0</td>\n",
       "      <td>4.0</td>\n",
       "      <td>1433</td>\n",
       "      <td>1435.0</td>\n",
       "      <td>2.0</td>\n",
       "      <td>2.0</td>\n",
       "      <td>0.0</td>\n",
       "      <td>0.0</td>\n",
       "      <td>1400-1459</td>\n",
       "      <td>False</td>\n",
       "      <td>NaN</td>\n",
       "      <td>False</td>\n",
       "      <td>213.0</td>\n",
       "      <td>197.0</td>\n",
       "      <td>178.0</td>\n",
       "      <td>1.0</td>\n",
       "      <td>1416.0</td>\n",
       "      <td>6</td>\n",
       "      <td>0.0</td>\n",
       "      <td>0.0</td>\n",
       "      <td>0.0</td>\n",
       "      <td>0.0</td>\n",
       "      <td>0.0</td>\n",
       "      <td>0.0</td>\n",
       "      <td>0.0</td>\n",
       "      <td>0.0</td>\n",
       "    </tr>\n",
       "    <tr>\n",
       "      <th>8</th>\n",
       "      <td>2022-01-06</td>\n",
       "      <td>DL</td>\n",
       "      <td>10397</td>\n",
       "      <td>ATL</td>\n",
       "      <td>Atlanta, GA</td>\n",
       "      <td>GA</td>\n",
       "      <td>14492</td>\n",
       "      <td>RDU</td>\n",
       "      <td>Raleigh/Durham, NC</td>\n",
       "      <td>NC</td>\n",
       "      <td>North Carolina</td>\n",
       "      <td>1414</td>\n",
       "      <td>1422.0</td>\n",
       "      <td>8.0</td>\n",
       "      <td>8.0</td>\n",
       "      <td>0.0</td>\n",
       "      <td>0.0</td>\n",
       "      <td>1400-1459</td>\n",
       "      <td>11.0</td>\n",
       "      <td>1433.0</td>\n",
       "      <td>1528.0</td>\n",
       "      <td>3.0</td>\n",
       "      <td>1533</td>\n",
       "      <td>1531.0</td>\n",
       "      <td>-2.0</td>\n",
       "      <td>0.0</td>\n",
       "      <td>0.0</td>\n",
       "      <td>-1.0</td>\n",
       "      <td>1500-1559</td>\n",
       "      <td>False</td>\n",
       "      <td>NaN</td>\n",
       "      <td>False</td>\n",
       "      <td>79.0</td>\n",
       "      <td>69.0</td>\n",
       "      <td>55.0</td>\n",
       "      <td>1.0</td>\n",
       "      <td>356.0</td>\n",
       "      <td>2</td>\n",
       "      <td>0.0</td>\n",
       "      <td>0.0</td>\n",
       "      <td>0.0</td>\n",
       "      <td>0.0</td>\n",
       "      <td>0.0</td>\n",
       "      <td>0.0</td>\n",
       "      <td>0.0</td>\n",
       "      <td>0.0</td>\n",
       "    </tr>\n",
       "    <tr>\n",
       "      <th>9</th>\n",
       "      <td>2022-01-06</td>\n",
       "      <td>DL</td>\n",
       "      <td>14492</td>\n",
       "      <td>RDU</td>\n",
       "      <td>Raleigh/Durham, NC</td>\n",
       "      <td>NC</td>\n",
       "      <td>10397</td>\n",
       "      <td>ATL</td>\n",
       "      <td>Atlanta, GA</td>\n",
       "      <td>GA</td>\n",
       "      <td>Georgia</td>\n",
       "      <td>1643</td>\n",
       "      <td>1640.0</td>\n",
       "      <td>-3.0</td>\n",
       "      <td>0.0</td>\n",
       "      <td>0.0</td>\n",
       "      <td>-1.0</td>\n",
       "      <td>1600-1659</td>\n",
       "      <td>12.0</td>\n",
       "      <td>1652.0</td>\n",
       "      <td>1759.0</td>\n",
       "      <td>4.0</td>\n",
       "      <td>1814</td>\n",
       "      <td>1803.0</td>\n",
       "      <td>-11.0</td>\n",
       "      <td>0.0</td>\n",
       "      <td>0.0</td>\n",
       "      <td>-1.0</td>\n",
       "      <td>1800-1859</td>\n",
       "      <td>False</td>\n",
       "      <td>NaN</td>\n",
       "      <td>False</td>\n",
       "      <td>91.0</td>\n",
       "      <td>83.0</td>\n",
       "      <td>67.0</td>\n",
       "      <td>1.0</td>\n",
       "      <td>356.0</td>\n",
       "      <td>2</td>\n",
       "      <td>0.0</td>\n",
       "      <td>0.0</td>\n",
       "      <td>0.0</td>\n",
       "      <td>0.0</td>\n",
       "      <td>0.0</td>\n",
       "      <td>0.0</td>\n",
       "      <td>0.0</td>\n",
       "      <td>0.0</td>\n",
       "    </tr>\n",
       "    <tr>\n",
       "      <th>...</th>\n",
       "      <td>...</td>\n",
       "      <td>...</td>\n",
       "      <td>...</td>\n",
       "      <td>...</td>\n",
       "      <td>...</td>\n",
       "      <td>...</td>\n",
       "      <td>...</td>\n",
       "      <td>...</td>\n",
       "      <td>...</td>\n",
       "      <td>...</td>\n",
       "      <td>...</td>\n",
       "      <td>...</td>\n",
       "      <td>...</td>\n",
       "      <td>...</td>\n",
       "      <td>...</td>\n",
       "      <td>...</td>\n",
       "      <td>...</td>\n",
       "      <td>...</td>\n",
       "      <td>...</td>\n",
       "      <td>...</td>\n",
       "      <td>...</td>\n",
       "      <td>...</td>\n",
       "      <td>...</td>\n",
       "      <td>...</td>\n",
       "      <td>...</td>\n",
       "      <td>...</td>\n",
       "      <td>...</td>\n",
       "      <td>...</td>\n",
       "      <td>...</td>\n",
       "      <td>...</td>\n",
       "      <td>...</td>\n",
       "      <td>...</td>\n",
       "      <td>...</td>\n",
       "      <td>...</td>\n",
       "      <td>...</td>\n",
       "      <td>...</td>\n",
       "      <td>...</td>\n",
       "      <td>...</td>\n",
       "      <td>...</td>\n",
       "      <td>...</td>\n",
       "      <td>...</td>\n",
       "      <td>...</td>\n",
       "      <td>...</td>\n",
       "      <td>...</td>\n",
       "      <td>...</td>\n",
       "      <td>...</td>\n",
       "    </tr>\n",
       "    <tr>\n",
       "      <th>3459518</th>\n",
       "      <td>2022-06-18</td>\n",
       "      <td>DL</td>\n",
       "      <td>14869</td>\n",
       "      <td>SLC</td>\n",
       "      <td>Salt Lake City, UT</td>\n",
       "      <td>UT</td>\n",
       "      <td>14057</td>\n",
       "      <td>PDX</td>\n",
       "      <td>Portland, OR</td>\n",
       "      <td>OR</td>\n",
       "      <td>Oregon</td>\n",
       "      <td>1107</td>\n",
       "      <td>1107.0</td>\n",
       "      <td>0.0</td>\n",
       "      <td>0.0</td>\n",
       "      <td>0.0</td>\n",
       "      <td>0.0</td>\n",
       "      <td>1100-1159</td>\n",
       "      <td>22.0</td>\n",
       "      <td>1129.0</td>\n",
       "      <td>1150.0</td>\n",
       "      <td>4.0</td>\n",
       "      <td>1201</td>\n",
       "      <td>1154.0</td>\n",
       "      <td>-7.0</td>\n",
       "      <td>0.0</td>\n",
       "      <td>0.0</td>\n",
       "      <td>-1.0</td>\n",
       "      <td>1200-1259</td>\n",
       "      <td>False</td>\n",
       "      <td>NaN</td>\n",
       "      <td>False</td>\n",
       "      <td>114.0</td>\n",
       "      <td>107.0</td>\n",
       "      <td>81.0</td>\n",
       "      <td>1.0</td>\n",
       "      <td>630.0</td>\n",
       "      <td>3</td>\n",
       "      <td>0.0</td>\n",
       "      <td>0.0</td>\n",
       "      <td>0.0</td>\n",
       "      <td>0.0</td>\n",
       "      <td>0.0</td>\n",
       "      <td>0.0</td>\n",
       "      <td>0.0</td>\n",
       "      <td>0.0</td>\n",
       "    </tr>\n",
       "    <tr>\n",
       "      <th>3459519</th>\n",
       "      <td>2022-06-19</td>\n",
       "      <td>DL</td>\n",
       "      <td>14057</td>\n",
       "      <td>PDX</td>\n",
       "      <td>Portland, OR</td>\n",
       "      <td>OR</td>\n",
       "      <td>14869</td>\n",
       "      <td>SLC</td>\n",
       "      <td>Salt Lake City, UT</td>\n",
       "      <td>UT</td>\n",
       "      <td>Utah</td>\n",
       "      <td>1312</td>\n",
       "      <td>0.0</td>\n",
       "      <td>0.0</td>\n",
       "      <td>0.0</td>\n",
       "      <td>0.0</td>\n",
       "      <td>0.0</td>\n",
       "      <td>1300-1359</td>\n",
       "      <td>0.0</td>\n",
       "      <td>0.0</td>\n",
       "      <td>0.0</td>\n",
       "      <td>0.0</td>\n",
       "      <td>1604</td>\n",
       "      <td>0.0</td>\n",
       "      <td>0.0</td>\n",
       "      <td>0.0</td>\n",
       "      <td>0.0</td>\n",
       "      <td>0.0</td>\n",
       "      <td>1600-1659</td>\n",
       "      <td>True</td>\n",
       "      <td>A</td>\n",
       "      <td>False</td>\n",
       "      <td>112.0</td>\n",
       "      <td>0.0</td>\n",
       "      <td>0.0</td>\n",
       "      <td>1.0</td>\n",
       "      <td>630.0</td>\n",
       "      <td>3</td>\n",
       "      <td>0.0</td>\n",
       "      <td>0.0</td>\n",
       "      <td>0.0</td>\n",
       "      <td>0.0</td>\n",
       "      <td>0.0</td>\n",
       "      <td>0.0</td>\n",
       "      <td>0.0</td>\n",
       "      <td>0.0</td>\n",
       "    </tr>\n",
       "    <tr>\n",
       "      <th>3459520</th>\n",
       "      <td>2022-06-19</td>\n",
       "      <td>DL</td>\n",
       "      <td>14869</td>\n",
       "      <td>SLC</td>\n",
       "      <td>Salt Lake City, UT</td>\n",
       "      <td>UT</td>\n",
       "      <td>14057</td>\n",
       "      <td>PDX</td>\n",
       "      <td>Portland, OR</td>\n",
       "      <td>OR</td>\n",
       "      <td>Oregon</td>\n",
       "      <td>1107</td>\n",
       "      <td>0.0</td>\n",
       "      <td>0.0</td>\n",
       "      <td>0.0</td>\n",
       "      <td>0.0</td>\n",
       "      <td>0.0</td>\n",
       "      <td>1100-1159</td>\n",
       "      <td>0.0</td>\n",
       "      <td>0.0</td>\n",
       "      <td>0.0</td>\n",
       "      <td>0.0</td>\n",
       "      <td>1201</td>\n",
       "      <td>0.0</td>\n",
       "      <td>0.0</td>\n",
       "      <td>0.0</td>\n",
       "      <td>0.0</td>\n",
       "      <td>0.0</td>\n",
       "      <td>1200-1259</td>\n",
       "      <td>True</td>\n",
       "      <td>A</td>\n",
       "      <td>False</td>\n",
       "      <td>114.0</td>\n",
       "      <td>0.0</td>\n",
       "      <td>0.0</td>\n",
       "      <td>1.0</td>\n",
       "      <td>630.0</td>\n",
       "      <td>3</td>\n",
       "      <td>0.0</td>\n",
       "      <td>0.0</td>\n",
       "      <td>0.0</td>\n",
       "      <td>0.0</td>\n",
       "      <td>0.0</td>\n",
       "      <td>0.0</td>\n",
       "      <td>0.0</td>\n",
       "      <td>0.0</td>\n",
       "    </tr>\n",
       "    <tr>\n",
       "      <th>3459521</th>\n",
       "      <td>2022-06-20</td>\n",
       "      <td>DL</td>\n",
       "      <td>14057</td>\n",
       "      <td>PDX</td>\n",
       "      <td>Portland, OR</td>\n",
       "      <td>OR</td>\n",
       "      <td>14869</td>\n",
       "      <td>SLC</td>\n",
       "      <td>Salt Lake City, UT</td>\n",
       "      <td>UT</td>\n",
       "      <td>Utah</td>\n",
       "      <td>1312</td>\n",
       "      <td>1316.0</td>\n",
       "      <td>4.0</td>\n",
       "      <td>4.0</td>\n",
       "      <td>0.0</td>\n",
       "      <td>0.0</td>\n",
       "      <td>1300-1359</td>\n",
       "      <td>13.0</td>\n",
       "      <td>1329.0</td>\n",
       "      <td>1553.0</td>\n",
       "      <td>6.0</td>\n",
       "      <td>1604</td>\n",
       "      <td>1559.0</td>\n",
       "      <td>-5.0</td>\n",
       "      <td>0.0</td>\n",
       "      <td>0.0</td>\n",
       "      <td>-1.0</td>\n",
       "      <td>1600-1659</td>\n",
       "      <td>False</td>\n",
       "      <td>NaN</td>\n",
       "      <td>False</td>\n",
       "      <td>112.0</td>\n",
       "      <td>103.0</td>\n",
       "      <td>84.0</td>\n",
       "      <td>1.0</td>\n",
       "      <td>630.0</td>\n",
       "      <td>3</td>\n",
       "      <td>0.0</td>\n",
       "      <td>0.0</td>\n",
       "      <td>0.0</td>\n",
       "      <td>0.0</td>\n",
       "      <td>0.0</td>\n",
       "      <td>0.0</td>\n",
       "      <td>0.0</td>\n",
       "      <td>0.0</td>\n",
       "    </tr>\n",
       "    <tr>\n",
       "      <th>3459522</th>\n",
       "      <td>2022-06-20</td>\n",
       "      <td>DL</td>\n",
       "      <td>14869</td>\n",
       "      <td>SLC</td>\n",
       "      <td>Salt Lake City, UT</td>\n",
       "      <td>UT</td>\n",
       "      <td>14057</td>\n",
       "      <td>PDX</td>\n",
       "      <td>Portland, OR</td>\n",
       "      <td>OR</td>\n",
       "      <td>Oregon</td>\n",
       "      <td>1107</td>\n",
       "      <td>1107.0</td>\n",
       "      <td>0.0</td>\n",
       "      <td>0.0</td>\n",
       "      <td>0.0</td>\n",
       "      <td>0.0</td>\n",
       "      <td>1100-1159</td>\n",
       "      <td>12.0</td>\n",
       "      <td>1119.0</td>\n",
       "      <td>1148.0</td>\n",
       "      <td>5.0</td>\n",
       "      <td>1201</td>\n",
       "      <td>1153.0</td>\n",
       "      <td>-8.0</td>\n",
       "      <td>0.0</td>\n",
       "      <td>0.0</td>\n",
       "      <td>-1.0</td>\n",
       "      <td>1200-1259</td>\n",
       "      <td>False</td>\n",
       "      <td>NaN</td>\n",
       "      <td>False</td>\n",
       "      <td>114.0</td>\n",
       "      <td>106.0</td>\n",
       "      <td>89.0</td>\n",
       "      <td>1.0</td>\n",
       "      <td>630.0</td>\n",
       "      <td>3</td>\n",
       "      <td>0.0</td>\n",
       "      <td>0.0</td>\n",
       "      <td>0.0</td>\n",
       "      <td>0.0</td>\n",
       "      <td>0.0</td>\n",
       "      <td>0.0</td>\n",
       "      <td>0.0</td>\n",
       "      <td>0.0</td>\n",
       "    </tr>\n",
       "    <tr>\n",
       "      <th>3459523</th>\n",
       "      <td>2022-06-21</td>\n",
       "      <td>DL</td>\n",
       "      <td>14057</td>\n",
       "      <td>PDX</td>\n",
       "      <td>Portland, OR</td>\n",
       "      <td>OR</td>\n",
       "      <td>14869</td>\n",
       "      <td>SLC</td>\n",
       "      <td>Salt Lake City, UT</td>\n",
       "      <td>UT</td>\n",
       "      <td>Utah</td>\n",
       "      <td>1312</td>\n",
       "      <td>1312.0</td>\n",
       "      <td>0.0</td>\n",
       "      <td>0.0</td>\n",
       "      <td>0.0</td>\n",
       "      <td>0.0</td>\n",
       "      <td>1300-1359</td>\n",
       "      <td>10.0</td>\n",
       "      <td>1322.0</td>\n",
       "      <td>1552.0</td>\n",
       "      <td>5.0</td>\n",
       "      <td>1604</td>\n",
       "      <td>1557.0</td>\n",
       "      <td>-7.0</td>\n",
       "      <td>0.0</td>\n",
       "      <td>0.0</td>\n",
       "      <td>-1.0</td>\n",
       "      <td>1600-1659</td>\n",
       "      <td>False</td>\n",
       "      <td>NaN</td>\n",
       "      <td>False</td>\n",
       "      <td>112.0</td>\n",
       "      <td>105.0</td>\n",
       "      <td>90.0</td>\n",
       "      <td>1.0</td>\n",
       "      <td>630.0</td>\n",
       "      <td>3</td>\n",
       "      <td>0.0</td>\n",
       "      <td>0.0</td>\n",
       "      <td>0.0</td>\n",
       "      <td>0.0</td>\n",
       "      <td>0.0</td>\n",
       "      <td>0.0</td>\n",
       "      <td>0.0</td>\n",
       "      <td>0.0</td>\n",
       "    </tr>\n",
       "    <tr>\n",
       "      <th>3459524</th>\n",
       "      <td>2022-06-21</td>\n",
       "      <td>DL</td>\n",
       "      <td>14869</td>\n",
       "      <td>SLC</td>\n",
       "      <td>Salt Lake City, UT</td>\n",
       "      <td>UT</td>\n",
       "      <td>14057</td>\n",
       "      <td>PDX</td>\n",
       "      <td>Portland, OR</td>\n",
       "      <td>OR</td>\n",
       "      <td>Oregon</td>\n",
       "      <td>1107</td>\n",
       "      <td>1125.0</td>\n",
       "      <td>18.0</td>\n",
       "      <td>18.0</td>\n",
       "      <td>1.0</td>\n",
       "      <td>1.0</td>\n",
       "      <td>1100-1159</td>\n",
       "      <td>16.0</td>\n",
       "      <td>1141.0</td>\n",
       "      <td>1205.0</td>\n",
       "      <td>3.0</td>\n",
       "      <td>1201</td>\n",
       "      <td>1208.0</td>\n",
       "      <td>7.0</td>\n",
       "      <td>7.0</td>\n",
       "      <td>0.0</td>\n",
       "      <td>0.0</td>\n",
       "      <td>1200-1259</td>\n",
       "      <td>False</td>\n",
       "      <td>NaN</td>\n",
       "      <td>False</td>\n",
       "      <td>114.0</td>\n",
       "      <td>103.0</td>\n",
       "      <td>84.0</td>\n",
       "      <td>1.0</td>\n",
       "      <td>630.0</td>\n",
       "      <td>3</td>\n",
       "      <td>0.0</td>\n",
       "      <td>0.0</td>\n",
       "      <td>0.0</td>\n",
       "      <td>0.0</td>\n",
       "      <td>0.0</td>\n",
       "      <td>0.0</td>\n",
       "      <td>0.0</td>\n",
       "      <td>0.0</td>\n",
       "    </tr>\n",
       "    <tr>\n",
       "      <th>3459525</th>\n",
       "      <td>2022-06-22</td>\n",
       "      <td>DL</td>\n",
       "      <td>14057</td>\n",
       "      <td>PDX</td>\n",
       "      <td>Portland, OR</td>\n",
       "      <td>OR</td>\n",
       "      <td>14869</td>\n",
       "      <td>SLC</td>\n",
       "      <td>Salt Lake City, UT</td>\n",
       "      <td>UT</td>\n",
       "      <td>Utah</td>\n",
       "      <td>1312</td>\n",
       "      <td>1316.0</td>\n",
       "      <td>4.0</td>\n",
       "      <td>4.0</td>\n",
       "      <td>0.0</td>\n",
       "      <td>0.0</td>\n",
       "      <td>1300-1359</td>\n",
       "      <td>10.0</td>\n",
       "      <td>1326.0</td>\n",
       "      <td>1554.0</td>\n",
       "      <td>9.0</td>\n",
       "      <td>1604</td>\n",
       "      <td>1603.0</td>\n",
       "      <td>-1.0</td>\n",
       "      <td>0.0</td>\n",
       "      <td>0.0</td>\n",
       "      <td>-1.0</td>\n",
       "      <td>1600-1659</td>\n",
       "      <td>False</td>\n",
       "      <td>NaN</td>\n",
       "      <td>False</td>\n",
       "      <td>112.0</td>\n",
       "      <td>107.0</td>\n",
       "      <td>88.0</td>\n",
       "      <td>1.0</td>\n",
       "      <td>630.0</td>\n",
       "      <td>3</td>\n",
       "      <td>0.0</td>\n",
       "      <td>0.0</td>\n",
       "      <td>0.0</td>\n",
       "      <td>0.0</td>\n",
       "      <td>0.0</td>\n",
       "      <td>0.0</td>\n",
       "      <td>0.0</td>\n",
       "      <td>0.0</td>\n",
       "    </tr>\n",
       "    <tr>\n",
       "      <th>3459526</th>\n",
       "      <td>2022-06-22</td>\n",
       "      <td>DL</td>\n",
       "      <td>14869</td>\n",
       "      <td>SLC</td>\n",
       "      <td>Salt Lake City, UT</td>\n",
       "      <td>UT</td>\n",
       "      <td>14057</td>\n",
       "      <td>PDX</td>\n",
       "      <td>Portland, OR</td>\n",
       "      <td>OR</td>\n",
       "      <td>Oregon</td>\n",
       "      <td>1107</td>\n",
       "      <td>1122.0</td>\n",
       "      <td>15.0</td>\n",
       "      <td>15.0</td>\n",
       "      <td>1.0</td>\n",
       "      <td>1.0</td>\n",
       "      <td>1100-1159</td>\n",
       "      <td>14.0</td>\n",
       "      <td>1136.0</td>\n",
       "      <td>1200.0</td>\n",
       "      <td>5.0</td>\n",
       "      <td>1201</td>\n",
       "      <td>1205.0</td>\n",
       "      <td>4.0</td>\n",
       "      <td>4.0</td>\n",
       "      <td>0.0</td>\n",
       "      <td>0.0</td>\n",
       "      <td>1200-1259</td>\n",
       "      <td>False</td>\n",
       "      <td>NaN</td>\n",
       "      <td>False</td>\n",
       "      <td>114.0</td>\n",
       "      <td>103.0</td>\n",
       "      <td>84.0</td>\n",
       "      <td>1.0</td>\n",
       "      <td>630.0</td>\n",
       "      <td>3</td>\n",
       "      <td>0.0</td>\n",
       "      <td>0.0</td>\n",
       "      <td>0.0</td>\n",
       "      <td>0.0</td>\n",
       "      <td>0.0</td>\n",
       "      <td>0.0</td>\n",
       "      <td>0.0</td>\n",
       "      <td>0.0</td>\n",
       "    </tr>\n",
       "    <tr>\n",
       "      <th>3459527</th>\n",
       "      <td>2022-06-23</td>\n",
       "      <td>DL</td>\n",
       "      <td>14057</td>\n",
       "      <td>PDX</td>\n",
       "      <td>Portland, OR</td>\n",
       "      <td>OR</td>\n",
       "      <td>14869</td>\n",
       "      <td>SLC</td>\n",
       "      <td>Salt Lake City, UT</td>\n",
       "      <td>UT</td>\n",
       "      <td>Utah</td>\n",
       "      <td>1312</td>\n",
       "      <td>1310.0</td>\n",
       "      <td>-2.0</td>\n",
       "      <td>0.0</td>\n",
       "      <td>0.0</td>\n",
       "      <td>-1.0</td>\n",
       "      <td>1300-1359</td>\n",
       "      <td>9.0</td>\n",
       "      <td>1319.0</td>\n",
       "      <td>1545.0</td>\n",
       "      <td>6.0</td>\n",
       "      <td>1604</td>\n",
       "      <td>1551.0</td>\n",
       "      <td>-13.0</td>\n",
       "      <td>0.0</td>\n",
       "      <td>0.0</td>\n",
       "      <td>-1.0</td>\n",
       "      <td>1600-1659</td>\n",
       "      <td>False</td>\n",
       "      <td>NaN</td>\n",
       "      <td>False</td>\n",
       "      <td>112.0</td>\n",
       "      <td>101.0</td>\n",
       "      <td>86.0</td>\n",
       "      <td>1.0</td>\n",
       "      <td>630.0</td>\n",
       "      <td>3</td>\n",
       "      <td>0.0</td>\n",
       "      <td>0.0</td>\n",
       "      <td>0.0</td>\n",
       "      <td>0.0</td>\n",
       "      <td>0.0</td>\n",
       "      <td>0.0</td>\n",
       "      <td>0.0</td>\n",
       "      <td>0.0</td>\n",
       "    </tr>\n",
       "  </tbody>\n",
       "</table>\n",
       "<p>3422108 rows × 46 columns</p>\n",
       "</div>"
      ],
      "text/plain": [
       "        FlightDate Airline  OriginAirportID Origin         OriginCityName  \\\n",
       "0       2022-01-06      DL            11697    FLL    Fort Lauderdale, FL   \n",
       "1       2022-01-06      DL            10397    ATL            Atlanta, GA   \n",
       "2       2022-01-06      DL            11697    FLL    Fort Lauderdale, FL   \n",
       "3       2022-01-06      DL            11697    FLL    Fort Lauderdale, FL   \n",
       "4       2022-01-06      DL            10397    ATL            Atlanta, GA   \n",
       "5       2022-01-06      DL            12448    JAN  Jackson/Vicksburg, MS   \n",
       "6       2022-01-06      DL            14524    RIC           Richmond, VA   \n",
       "7       2022-01-06      DL            13487    MSP        Minneapolis, MN   \n",
       "8       2022-01-06      DL            10397    ATL            Atlanta, GA   \n",
       "9       2022-01-06      DL            14492    RDU     Raleigh/Durham, NC   \n",
       "...            ...     ...              ...    ...                    ...   \n",
       "3459518 2022-06-18      DL            14869    SLC     Salt Lake City, UT   \n",
       "3459519 2022-06-19      DL            14057    PDX           Portland, OR   \n",
       "3459520 2022-06-19      DL            14869    SLC     Salt Lake City, UT   \n",
       "3459521 2022-06-20      DL            14057    PDX           Portland, OR   \n",
       "3459522 2022-06-20      DL            14869    SLC     Salt Lake City, UT   \n",
       "3459523 2022-06-21      DL            14057    PDX           Portland, OR   \n",
       "3459524 2022-06-21      DL            14869    SLC     Salt Lake City, UT   \n",
       "3459525 2022-06-22      DL            14057    PDX           Portland, OR   \n",
       "3459526 2022-06-22      DL            14869    SLC     Salt Lake City, UT   \n",
       "3459527 2022-06-23      DL            14057    PDX           Portland, OR   \n",
       "\n",
       "        OriginState  DestAirportID Dest           DestCityName DestState  \\\n",
       "0                FL          12953  LGA           New York, NY        NY   \n",
       "1                GA          11697  FLL    Fort Lauderdale, FL        FL   \n",
       "2                FL          10397  ATL            Atlanta, GA        GA   \n",
       "3                FL          14492  RDU     Raleigh/Durham, NC        NC   \n",
       "4                GA          12448  JAN  Jackson/Vicksburg, MS        MS   \n",
       "5                MS          10397  ATL            Atlanta, GA        GA   \n",
       "6                VA          10397  ATL            Atlanta, GA        GA   \n",
       "7                MN          14635  RSW         Fort Myers, FL        FL   \n",
       "8                GA          14492  RDU     Raleigh/Durham, NC        NC   \n",
       "9                NC          10397  ATL            Atlanta, GA        GA   \n",
       "...             ...            ...  ...                    ...       ...   \n",
       "3459518          UT          14057  PDX           Portland, OR        OR   \n",
       "3459519          OR          14869  SLC     Salt Lake City, UT        UT   \n",
       "3459520          UT          14057  PDX           Portland, OR        OR   \n",
       "3459521          OR          14869  SLC     Salt Lake City, UT        UT   \n",
       "3459522          UT          14057  PDX           Portland, OR        OR   \n",
       "3459523          OR          14869  SLC     Salt Lake City, UT        UT   \n",
       "3459524          UT          14057  PDX           Portland, OR        OR   \n",
       "3459525          OR          14869  SLC     Salt Lake City, UT        UT   \n",
       "3459526          UT          14057  PDX           Portland, OR        OR   \n",
       "3459527          OR          14869  SLC     Salt Lake City, UT        UT   \n",
       "\n",
       "          DestStateName  CRSDepTime  DepTime  DepDelay  DepDelayMinutes  \\\n",
       "0              New York        1126      0.0       0.0              0.0   \n",
       "1               Florida        1631   1627.0      -4.0              0.0   \n",
       "2               Georgia        1931   1929.0      -2.0              0.0   \n",
       "3        North Carolina        1024   1019.0      -5.0              0.0   \n",
       "4           Mississippi        1117   1113.0      -4.0              0.0   \n",
       "5               Georgia        1237   1230.0      -7.0              0.0   \n",
       "6               Georgia         900    857.0      -3.0              0.0   \n",
       "7               Florida        1000   1018.0      18.0             18.0   \n",
       "8        North Carolina        1414   1422.0       8.0              8.0   \n",
       "9               Georgia        1643   1640.0      -3.0              0.0   \n",
       "...                 ...         ...      ...       ...              ...   \n",
       "3459518          Oregon        1107   1107.0       0.0              0.0   \n",
       "3459519            Utah        1312      0.0       0.0              0.0   \n",
       "3459520          Oregon        1107      0.0       0.0              0.0   \n",
       "3459521            Utah        1312   1316.0       4.0              4.0   \n",
       "3459522          Oregon        1107   1107.0       0.0              0.0   \n",
       "3459523            Utah        1312   1312.0       0.0              0.0   \n",
       "3459524          Oregon        1107   1125.0      18.0             18.0   \n",
       "3459525            Utah        1312   1316.0       4.0              4.0   \n",
       "3459526          Oregon        1107   1122.0      15.0             15.0   \n",
       "3459527            Utah        1312   1310.0      -2.0              0.0   \n",
       "\n",
       "         DepDel15  DepartureDelayGroups DepTimeBlk  TaxiOut  WheelsOff  \\\n",
       "0             0.0                   0.0  1100-1159      0.0        0.0   \n",
       "1             0.0                  -1.0  1600-1659     15.0     1642.0   \n",
       "2             0.0                  -1.0  1900-1959     13.0     1942.0   \n",
       "3             0.0                  -1.0  1000-1059     17.0     1036.0   \n",
       "4             0.0                  -1.0  1100-1159     14.0     1127.0   \n",
       "5             0.0                  -1.0  1200-1259     11.0     1241.0   \n",
       "6             0.0                  -1.0  0900-0959     13.0      910.0   \n",
       "7             1.0                   1.0  1000-1059     15.0     1033.0   \n",
       "8             0.0                   0.0  1400-1459     11.0     1433.0   \n",
       "9             0.0                  -1.0  1600-1659     12.0     1652.0   \n",
       "...           ...                   ...        ...      ...        ...   \n",
       "3459518       0.0                   0.0  1100-1159     22.0     1129.0   \n",
       "3459519       0.0                   0.0  1300-1359      0.0        0.0   \n",
       "3459520       0.0                   0.0  1100-1159      0.0        0.0   \n",
       "3459521       0.0                   0.0  1300-1359     13.0     1329.0   \n",
       "3459522       0.0                   0.0  1100-1159     12.0     1119.0   \n",
       "3459523       0.0                   0.0  1300-1359     10.0     1322.0   \n",
       "3459524       1.0                   1.0  1100-1159     16.0     1141.0   \n",
       "3459525       0.0                   0.0  1300-1359     10.0     1326.0   \n",
       "3459526       1.0                   1.0  1100-1159     14.0     1136.0   \n",
       "3459527       0.0                  -1.0  1300-1359      9.0     1319.0   \n",
       "\n",
       "         WheelsOn  TaxiIn  CRSArrTime  ArrTime  ArrDelay  ArrDelayMinutes  \\\n",
       "0             0.0     0.0        1419      0.0       0.0              0.0   \n",
       "1          1815.0     5.0        1821   1820.0      -1.0              0.0   \n",
       "2          2104.0    10.0        2127   2116.0     -12.0              0.0   \n",
       "3          1209.0     3.0        1227   1212.0     -15.0              0.0   \n",
       "4          1127.0     4.0        1142   1131.0     -11.0              0.0   \n",
       "5          1430.0     5.0        1458   1435.0     -23.0              0.0   \n",
       "6          1030.0     8.0        1050   1038.0     -12.0              0.0   \n",
       "7          1431.0     4.0        1433   1435.0       2.0              2.0   \n",
       "8          1528.0     3.0        1533   1531.0      -2.0              0.0   \n",
       "9          1759.0     4.0        1814   1803.0     -11.0              0.0   \n",
       "...           ...     ...         ...      ...       ...              ...   \n",
       "3459518    1150.0     4.0        1201   1154.0      -7.0              0.0   \n",
       "3459519       0.0     0.0        1604      0.0       0.0              0.0   \n",
       "3459520       0.0     0.0        1201      0.0       0.0              0.0   \n",
       "3459521    1553.0     6.0        1604   1559.0      -5.0              0.0   \n",
       "3459522    1148.0     5.0        1201   1153.0      -8.0              0.0   \n",
       "3459523    1552.0     5.0        1604   1557.0      -7.0              0.0   \n",
       "3459524    1205.0     3.0        1201   1208.0       7.0              7.0   \n",
       "3459525    1554.0     9.0        1604   1603.0      -1.0              0.0   \n",
       "3459526    1200.0     5.0        1201   1205.0       4.0              4.0   \n",
       "3459527    1545.0     6.0        1604   1551.0     -13.0              0.0   \n",
       "\n",
       "         ArrDel15  ArrivalDelayGroups ArrTimeBlk  Cancelled CancellationCode  \\\n",
       "0             0.0                 0.0  1400-1459       True                A   \n",
       "1             0.0                -1.0  1800-1859      False              NaN   \n",
       "2             0.0                -1.0  2100-2159      False              NaN   \n",
       "3             0.0                -1.0  1200-1259      False              NaN   \n",
       "4             0.0                -1.0  1100-1159      False              NaN   \n",
       "5             0.0                -2.0  1400-1459      False              NaN   \n",
       "6             0.0                -1.0  1000-1059      False              NaN   \n",
       "7             0.0                 0.0  1400-1459      False              NaN   \n",
       "8             0.0                -1.0  1500-1559      False              NaN   \n",
       "9             0.0                -1.0  1800-1859      False              NaN   \n",
       "...           ...                 ...        ...        ...              ...   \n",
       "3459518       0.0                -1.0  1200-1259      False              NaN   \n",
       "3459519       0.0                 0.0  1600-1659       True                A   \n",
       "3459520       0.0                 0.0  1200-1259       True                A   \n",
       "3459521       0.0                -1.0  1600-1659      False              NaN   \n",
       "3459522       0.0                -1.0  1200-1259      False              NaN   \n",
       "3459523       0.0                -1.0  1600-1659      False              NaN   \n",
       "3459524       0.0                 0.0  1200-1259      False              NaN   \n",
       "3459525       0.0                -1.0  1600-1659      False              NaN   \n",
       "3459526       0.0                 0.0  1200-1259      False              NaN   \n",
       "3459527       0.0                -1.0  1600-1659      False              NaN   \n",
       "\n",
       "         Diverted  CRSElapsedTime  ActualElapsedTime  AirTime  Flights  \\\n",
       "0           False           173.0                0.0      0.0      1.0   \n",
       "1           False           110.0              113.0     93.0      1.0   \n",
       "2           False           116.0              106.0     83.0      1.0   \n",
       "3           False           123.0              113.0     93.0      1.0   \n",
       "4           False            85.0               78.0     60.0      1.0   \n",
       "5           False            81.0               65.0     49.0      1.0   \n",
       "6           False           110.0              101.0     80.0      1.0   \n",
       "7           False           213.0              197.0    178.0      1.0   \n",
       "8           False            79.0               69.0     55.0      1.0   \n",
       "9           False            91.0               83.0     67.0      1.0   \n",
       "...           ...             ...                ...      ...      ...   \n",
       "3459518     False           114.0              107.0     81.0      1.0   \n",
       "3459519     False           112.0                0.0      0.0      1.0   \n",
       "3459520     False           114.0                0.0      0.0      1.0   \n",
       "3459521     False           112.0              103.0     84.0      1.0   \n",
       "3459522     False           114.0              106.0     89.0      1.0   \n",
       "3459523     False           112.0              105.0     90.0      1.0   \n",
       "3459524     False           114.0              103.0     84.0      1.0   \n",
       "3459525     False           112.0              107.0     88.0      1.0   \n",
       "3459526     False           114.0              103.0     84.0      1.0   \n",
       "3459527     False           112.0              101.0     86.0      1.0   \n",
       "\n",
       "         Distance  DistanceGroup  CarrierDelay  WeatherDelay  NASDelay  \\\n",
       "0          1076.0              5           0.0           0.0       0.0   \n",
       "1           581.0              3           0.0           0.0       0.0   \n",
       "2           581.0              3           0.0           0.0       0.0   \n",
       "3           680.0              3           0.0           0.0       0.0   \n",
       "4           341.0              2           0.0           0.0       0.0   \n",
       "5           341.0              2           0.0           0.0       0.0   \n",
       "6           481.0              2           0.0           0.0       0.0   \n",
       "7          1416.0              6           0.0           0.0       0.0   \n",
       "8           356.0              2           0.0           0.0       0.0   \n",
       "9           356.0              2           0.0           0.0       0.0   \n",
       "...           ...            ...           ...           ...       ...   \n",
       "3459518     630.0              3           0.0           0.0       0.0   \n",
       "3459519     630.0              3           0.0           0.0       0.0   \n",
       "3459520     630.0              3           0.0           0.0       0.0   \n",
       "3459521     630.0              3           0.0           0.0       0.0   \n",
       "3459522     630.0              3           0.0           0.0       0.0   \n",
       "3459523     630.0              3           0.0           0.0       0.0   \n",
       "3459524     630.0              3           0.0           0.0       0.0   \n",
       "3459525     630.0              3           0.0           0.0       0.0   \n",
       "3459526     630.0              3           0.0           0.0       0.0   \n",
       "3459527     630.0              3           0.0           0.0       0.0   \n",
       "\n",
       "         SecurityDelay  LateAircraftDelay  FirstDepTime  TotalAddGTime  \\\n",
       "0                  0.0                0.0           0.0            0.0   \n",
       "1                  0.0                0.0           0.0            0.0   \n",
       "2                  0.0                0.0           0.0            0.0   \n",
       "3                  0.0                0.0           0.0            0.0   \n",
       "4                  0.0                0.0           0.0            0.0   \n",
       "5                  0.0                0.0           0.0            0.0   \n",
       "6                  0.0                0.0           0.0            0.0   \n",
       "7                  0.0                0.0           0.0            0.0   \n",
       "8                  0.0                0.0           0.0            0.0   \n",
       "9                  0.0                0.0           0.0            0.0   \n",
       "...                ...                ...           ...            ...   \n",
       "3459518            0.0                0.0           0.0            0.0   \n",
       "3459519            0.0                0.0           0.0            0.0   \n",
       "3459520            0.0                0.0           0.0            0.0   \n",
       "3459521            0.0                0.0           0.0            0.0   \n",
       "3459522            0.0                0.0           0.0            0.0   \n",
       "3459523            0.0                0.0           0.0            0.0   \n",
       "3459524            0.0                0.0           0.0            0.0   \n",
       "3459525            0.0                0.0           0.0            0.0   \n",
       "3459526            0.0                0.0           0.0            0.0   \n",
       "3459527            0.0                0.0           0.0            0.0   \n",
       "\n",
       "         LongestAddGTime  \n",
       "0                    0.0  \n",
       "1                    0.0  \n",
       "2                    0.0  \n",
       "3                    0.0  \n",
       "4                    0.0  \n",
       "5                    0.0  \n",
       "6                    0.0  \n",
       "7                    0.0  \n",
       "8                    0.0  \n",
       "9                    0.0  \n",
       "...                  ...  \n",
       "3459518              0.0  \n",
       "3459519              0.0  \n",
       "3459520              0.0  \n",
       "3459521              0.0  \n",
       "3459522              0.0  \n",
       "3459523              0.0  \n",
       "3459524              0.0  \n",
       "3459525              0.0  \n",
       "3459526              0.0  \n",
       "3459527              0.0  \n",
       "\n",
       "[3422108 rows x 46 columns]"
      ]
     },
     "execution_count": 52,
     "metadata": {},
     "output_type": "execute_result"
    }
   ],
   "source": [
    "# flights in 2022\n",
    "df_flights_012022_082022[\"FlightDate\"] = pd.to_datetime(df_flights_012022_082022[\"FlightDate\"])\n",
    "df_flights_012022_082022.query(\"'2022-01-01' <FlightDate < '2022-06-30'\")"
   ]
  },
  {
   "cell_type": "code",
   "execution_count": 53,
   "metadata": {},
   "outputs": [],
   "source": [
    "cancelled_flights_analysis = (\n",
    "    (df_flights_012022_082022.query(\"'2022-01-01' < FlightDate < '2022-12-31'\")\n",
    "     .groupby([\"Airline\", \"Cancelled\"])['Cancelled']\n",
    "     .size()\n",
    "     .unstack()\n",
    "     .reset_index()\n",
    "     )\n",
    "    .rename(columns={False: \"Departed\", True: \"Cancelled\"})\n",
    "    .rename_axis(None, axis=1))\n",
    "\n",
    "cancelled_flights_analysis[\"Total\"] = cancelled_flights_analysis[\"Departed\"] + cancelled_flights_analysis[\"Cancelled\"]\n",
    "cancelled_flights_analysis[\"Pct_Cancelled\"] = (cancelled_flights_analysis[\"Cancelled\"] / cancelled_flights_analysis[\"Total\"])*100\n",
    "#cancelled_flights_analysis[\"Airline\"] = cancelled_flights_analysis[\"Operating_Airline\"].map(airline_mapper)\n"
   ]
  },
  {
   "cell_type": "code",
   "execution_count": 54,
   "metadata": {},
   "outputs": [
    {
     "data": {
      "text/html": [
       "<div>\n",
       "<style scoped>\n",
       "    .dataframe tbody tr th:only-of-type {\n",
       "        vertical-align: middle;\n",
       "    }\n",
       "\n",
       "    .dataframe tbody tr th {\n",
       "        vertical-align: top;\n",
       "    }\n",
       "\n",
       "    .dataframe thead th {\n",
       "        text-align: right;\n",
       "    }\n",
       "</style>\n",
       "<table border=\"1\" class=\"dataframe\">\n",
       "  <thead>\n",
       "    <tr style=\"text-align: right;\">\n",
       "      <th></th>\n",
       "      <th>Airline</th>\n",
       "      <th>Departed</th>\n",
       "      <th>Cancelled</th>\n",
       "      <th>Total</th>\n",
       "      <th>Pct_Cancelled</th>\n",
       "    </tr>\n",
       "  </thead>\n",
       "  <tbody>\n",
       "    <tr>\n",
       "      <th>0</th>\n",
       "      <td>9E</td>\n",
       "      <td>155244</td>\n",
       "      <td>6797</td>\n",
       "      <td>162041</td>\n",
       "      <td>4.194617</td>\n",
       "    </tr>\n",
       "    <tr>\n",
       "      <th>1</th>\n",
       "      <td>AA</td>\n",
       "      <td>550460</td>\n",
       "      <td>21874</td>\n",
       "      <td>572334</td>\n",
       "      <td>3.821894</td>\n",
       "    </tr>\n",
       "    <tr>\n",
       "      <th>2</th>\n",
       "      <td>AS</td>\n",
       "      <td>145717</td>\n",
       "      <td>3801</td>\n",
       "      <td>149518</td>\n",
       "      <td>2.542169</td>\n",
       "    </tr>\n",
       "    <tr>\n",
       "      <th>3</th>\n",
       "      <td>B6</td>\n",
       "      <td>171119</td>\n",
       "      <td>8075</td>\n",
       "      <td>179194</td>\n",
       "      <td>4.506289</td>\n",
       "    </tr>\n",
       "    <tr>\n",
       "      <th>4</th>\n",
       "      <td>C5</td>\n",
       "      <td>49359</td>\n",
       "      <td>1612</td>\n",
       "      <td>50971</td>\n",
       "      <td>3.162583</td>\n",
       "    </tr>\n",
       "  </tbody>\n",
       "</table>\n",
       "</div>"
      ],
      "text/plain": [
       "  Airline  Departed  Cancelled   Total  Pct_Cancelled\n",
       "0      9E    155244       6797  162041       4.194617\n",
       "1      AA    550460      21874  572334       3.821894\n",
       "2      AS    145717       3801  149518       2.542169\n",
       "3      B6    171119       8075  179194       4.506289\n",
       "4      C5     49359       1612   50971       3.162583"
      ]
     },
     "execution_count": 54,
     "metadata": {},
     "output_type": "execute_result"
    }
   ],
   "source": [
    "cancelled_flights_analysis.head()     ## TODO: add geographical information of flight, weather information"
   ]
  },
  {
   "cell_type": "code",
   "execution_count": 55,
   "metadata": {},
   "outputs": [
    {
     "data": {
      "image/png": "[encoded data removed]",
      "text/plain": [
       "<Figure size 800x800 with 1 Axes>"
      ]
     },
     "metadata": {},
     "output_type": "display_data"
    }
   ],
   "source": [
    "cancelled_flights_analysis.set_index(\"Airline\").sort_values(\n",
    "    \"Cancelled\")[\"Cancelled\"].plot(kind=\"barh\", \n",
    "                                   figsize=(8, 8), \n",
    "                                   width=.8,\n",
    "                                   edgecolor=\"black\",\n",
    "                                   title=\"Flight Cancellations by Airline in 2022\")\n",
    "plt.show()"
   ]
  },
  {
   "cell_type": "code",
   "execution_count": 56,
   "metadata": {},
   "outputs": [
    {
     "data": {
      "image/png": "[encoded data removed]",
      "text/plain": [
       "<Figure size 800x800 with 1 Axes>"
      ]
     },
     "metadata": {},
     "output_type": "display_data"
    }
   ],
   "source": [
    "fig, ax = plt.subplots(figsize=(8, 8))\n",
    "# cancelled_flights_analysis[\"Airline\"] = cancelled_flights_analysis[\"Operating_Airline\"].map(\n",
    "#     airline_mapper)\n",
    "cancelled_flights_analysis.set_index(\"Airline\").sort_values(\n",
    "    \"Cancelled\")[\"Cancelled\"].plot(kind=\"barh\", \n",
    "                                   title=\"Total Operations Cancelled by Airline in 2022\",\n",
    "                                   width=1\n",
    "                                   )\n",
    "\n",
    "ax.bar_label(ax.containers[0], padding=5, fontsize=9, color='b')\n",
    "plt.show()\n"
   ]
  },
  {
   "cell_type": "code",
   "execution_count": 58,
   "metadata": {},
   "outputs": [
    {
     "data": {
      "image/png": "[encoded data removed]",
      "text/plain": [
       "<Figure size 800x800 with 1 Axes>"
      ]
     },
     "metadata": {},
     "output_type": "display_data"
    }
   ],
   "source": [
    "fig, ax = plt.subplots(figsize=(8, 8))\n",
    "cancelled_flights_analysis[\"Airline\"] = cancelled_flights_analysis[\"Airline\"].map(\n",
    "    airline_mapper)\n",
    "cancelled_flights_analysis.set_index(\"Airline\").sort_values(\n",
    "    \"Pct_Cancelled\")[\"Pct_Cancelled\"].plot(kind=\"barh\",\n",
    "                                           title=\"Percentage of Operations Cancelled by Airline in 2022\",\n",
    "                                           width=1,\n",
    "                                           #edgecolor=\"black\",\n",
    "                                           color=current_palette[6]\n",
    "                                           )\n",
    "ax.bar_label(ax.containers[0], fmt='%.3f%%', padding=5, fontsize=9, color='b')\n",
    "plt.show()"
   ]
  },
  {
   "cell_type": "code",
   "execution_count": 62,
   "metadata": {},
   "outputs": [
    {
     "data": {
      "text/plain": [
       "AA    21874\n",
       "WN    20843\n",
       "YX    13200\n",
       "DL    10709\n",
       "OO     9650\n",
       "UA     9095\n",
       "B6     8075\n",
       "9E     6797\n",
       "OH     5737\n",
       "MQ     4320\n",
       "NK     4261\n",
       "AS     3801\n",
       "YV     3256\n",
       "G7     2948\n",
       "G4     2930\n",
       "F9     2587\n",
       "C5     1612\n",
       "ZW     1556\n",
       "PT     1553\n",
       "QX      985\n",
       "HA      325\n",
       "Name: Airline, dtype: int64"
      ]
     },
     "execution_count": 62,
     "metadata": {},
     "output_type": "execute_result"
    }
   ],
   "source": [
    "cancel_count = df_flights_012022_082022.query(\"'2022-01-01' < FlightDate < '2022-12-31'\").query(\"Cancelled\")[\"Airline\"].value_counts()\n",
    "cancel_count"
   ]
  },
  {
   "cell_type": "code",
   "execution_count": null,
   "metadata": {},
   "outputs": [],
   "source": [
    "current_palette"
   ]
  },
  {
   "cell_type": "markdown",
   "metadata": {},
   "source": [
    "Analysis for January - June 2022"
   ]
  },
  {
   "cell_type": "code",
   "execution_count": 64,
   "metadata": {},
   "outputs": [
    {
     "data": {
      "text/plain": [
       "7    618790\n",
       "8    613649\n",
       "5    602950\n",
       "6    602057\n",
       "3    590542\n",
       "4    580290\n",
       "1    563737\n",
       "2    519952\n",
       "Name: FlightDate, dtype: int64"
      ]
     },
     "execution_count": 64,
     "metadata": {},
     "output_type": "execute_result"
    }
   ],
   "source": [
    "df_flights_012022_082022[\"FlightDate\"].dt.month.value_counts()"
   ]
  },
  {
   "cell_type": "code",
   "execution_count": 65,
   "metadata": {},
   "outputs": [
    {
     "data": {
      "text/plain": [
       "2    1785297\n",
       "1    1674231\n",
       "3    1232439\n",
       "Name: FlightDate, dtype: int64"
      ]
     },
     "execution_count": 65,
     "metadata": {},
     "output_type": "execute_result"
    }
   ],
   "source": [
    "df_flights_012022_082022[\"FlightDate\"].dt.quarter.value_counts()"
   ]
  },
  {
   "cell_type": "code",
   "execution_count": 66,
   "metadata": {},
   "outputs": [
    {
     "data": {
      "text/plain": [
       "2022-07-21    20844\n",
       "2022-07-15    20843\n",
       "2022-07-28    20841\n",
       "2022-06-17    20841\n",
       "2022-07-14    20840\n",
       "2022-07-29    20833\n",
       "2022-06-23    20832\n",
       "2022-07-22    20820\n",
       "2022-07-11    20808\n",
       "2022-07-18    20803\n",
       "              ...  \n",
       "2022-02-26    16798\n",
       "2022-03-05    16747\n",
       "2022-01-01    16684\n",
       "2022-02-19    16541\n",
       "2022-01-08    16031\n",
       "2022-02-12    15975\n",
       "2022-02-05    15946\n",
       "2022-01-29    15644\n",
       "2022-01-22    15625\n",
       "2022-01-15    15483\n",
       "Name: FlightDate, Length: 243, dtype: int64"
      ]
     },
     "execution_count": 66,
     "metadata": {},
     "output_type": "execute_result"
    }
   ],
   "source": [
    "df_flights_012022_082022[\"FlightDate\"].value_counts()"
   ]
  },
  {
   "cell_type": "code",
   "execution_count": 67,
   "metadata": {},
   "outputs": [
    {
     "data": {
      "image/png": "[encoded data removed]",
      "text/plain": [
       "<Figure size 800x800 with 1 Axes>"
      ]
     },
     "metadata": {},
     "output_type": "display_data"
    }
   ],
   "source": [
    "cancelled_flights_analysis = (\n",
    "    (df_flights_012022_082022.query(\"'2022-01-01' < FlightDate < '2022-12-31'\")\n",
    "     .groupby([\"Airline\", \"Cancelled\"])['Cancelled']\n",
    "     .size()\n",
    "     .unstack()\n",
    "     .reset_index()\n",
    "     )\n",
    "    .rename(columns={False: \"Departed\", True: \"Cancelled\"})\n",
    "    .rename_axis(None, axis=1))\n",
    "\n",
    "cancelled_flights_analysis[\"Total\"] = cancelled_flights_analysis[\"Departed\"] + cancelled_flights_analysis[\"Cancelled\"]\n",
    "cancelled_flights_analysis[\"Pct_Cancelled\"] = (cancelled_flights_analysis[\"Cancelled\"] / cancelled_flights_analysis[\"Total\"])*100\n",
    "#cancelled_flights_analysis[\"Airline\"] = cancelled_flights_analysis[\"Airline\"].map(airline_mapper)\n",
    "\n",
    "fig, ax = plt.subplots(figsize=(8, 8))\n",
    "#cancelled_flights_analysis[\"Airline\"] = cancelled_flights_analysis[\"Operating_Airline\"].map(airline_mapper)\n",
    "cancelled_flights_analysis.set_index(\"Airline\").sort_values(\n",
    "    \"Pct_Cancelled\")[\"Pct_Cancelled\"].plot(kind=\"barh\",\n",
    "                                           title=\"Percentage of Operations Cancelled by Airline in January - June 2022\",\n",
    "                                           width=1,\n",
    "                                           #edgecolor=\"black\",\n",
    "                                           color=current_palette[2]\n",
    "                                           )\n",
    "ax.bar_label(ax.containers[0], fmt='%.3f%%', padding=5, fontsize=9, color='b')\n",
    "plt.show()"
   ]
  },
  {
   "cell_type": "code",
   "execution_count": null,
   "metadata": {},
   "outputs": [],
   "source": []
  }
 ],
 "metadata": {
  "kernelspec": {
   "display_name": "Python 3.10.7 ('team-3-N2NXnkel')",
   "language": "python",
   "name": "python3"
  },
  "language_info": {
   "codemirror_mode": {
    "name": "ipython",
    "version": 3
   },
   "file_extension": ".py",
   "mimetype": "text/x-python",
   "name": "python",
   "nbconvert_exporter": "python",
   "pygments_lexer": "ipython3",
   "version": "3.10.7"
  },
  "vscode": {
   "interpreter": {
    "hash": "13b707afe647235fabbd8fa9a50cb628621b6b26172b2c2a7128d664447ee1d0"
   }
  }
 },
 "nbformat": 4,
 "nbformat_minor": 2
}

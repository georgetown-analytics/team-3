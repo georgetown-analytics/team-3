{
 "cells": [
  {
   "cell_type": "code",
   "execution_count": null,
   "metadata": {},
   "outputs": [],
   "source": [
    "import numpy as np\n",
    "import pandas as pd\n",
    "import matplotlib.pyplot as plt\n",
    "import seaborn as sns \n",
    "import plotly.express as px\n",
    "\n",
    "sns.set_theme(style=\"darkgrid\")\n",
    "current_palette=sns.color_palette()"
   ]
  },
  {
   "cell_type": "code",
   "execution_count": null,
   "metadata": {},
   "outputs": [],
   "source": [
    "pd.options.display.min_rows = 20\n",
    "pd.options.display.max_columns = 50"
   ]
  },
  {
   "cell_type": "markdown",
   "metadata": {},
   "source": [
    "### Load in the data"
   ]
  },
  {
   "cell_type": "code",
   "execution_count": null,
   "metadata": {},
   "outputs": [],
   "source": [
    "## Read in 2022 data from filesystem\n",
    "df_flights = pd.read_csv(\"../../data/eda/flights/flight_data_Y2022/flight_data_2022.csv.zip\",  low_memory=False)"
   ]
  },
  {
   "cell_type": "code",
   "execution_count": null,
   "metadata": {},
   "outputs": [],
   "source": [
    "airlines = pd.read_csv(\"../../data/databases/flight_attributes/airlines.csv.zip\", low_memory=False)\n",
    "airline_mapper = airlines.set_index(\"Code\")[\"Description\"]"
   ]
  },
  {
   "cell_type": "markdown",
   "metadata": {},
   "source": [
    "### Clean the data"
   ]
  },
  {
   "cell_type": "code",
   "execution_count": null,
   "metadata": {},
   "outputs": [],
   "source": [
    "SELECTED_COLUMNS = [\n",
    "    'FlightDate',\n",
    "    'Operating_Airline ',\n",
    "    'OriginAirportID',\n",
    "    'Origin',\n",
    "    'OriginCityName',\n",
    "    'OriginState',\n",
    "    'DestAirportID',\n",
    "    'Dest',\n",
    "    'DestCityName',\n",
    "    'DestState',\n",
    "    'DestStateName',\n",
    "    'CRSDepTime',\n",
    "    'DepTime',\n",
    "    'DepDelay',\n",
    "    'DepDelayMinutes',\n",
    "    'DepDel15',\n",
    "    'DepartureDelayGroups',\n",
    "    'DepTimeBlk',\n",
    "    'TaxiOut',\n",
    "    'WheelsOff',\n",
    "    'WheelsOn',\n",
    "    'TaxiIn',\n",
    "    'CRSArrTime',\n",
    "    'ArrTime',\n",
    "    'ArrDelay',\n",
    "    'ArrDelayMinutes',\n",
    "    'ArrDel15',\n",
    "    'ArrivalDelayGroups',\n",
    "    'ArrTimeBlk',\n",
    "    'Cancelled',\n",
    "    'CancellationCode',\n",
    "    'Diverted',\n",
    "    'CRSElapsedTime',\n",
    "    'ActualElapsedTime',\n",
    "    'AirTime',\n",
    "    'Flights',\n",
    "    'Distance',\n",
    "    'DistanceGroup',\n",
    "    'CarrierDelay',\n",
    "    'WeatherDelay',\n",
    "    'NASDelay',\n",
    "    'SecurityDelay',\n",
    "    'LateAircraftDelay',\n",
    "    'FirstDepTime',\n",
    "    'TotalAddGTime',\n",
    "    'LongestAddGTime'\n",
    "]"
   ]
  },
  {
   "cell_type": "code",
   "execution_count": null,
   "metadata": {},
   "outputs": [],
   "source": [
    "def airline_mapping(df_flights):\n",
    "    df_flights[\"Operating_Airline\"] = df_flights[\"Operating_Airline\"].map(airline_mapper)\n",
    "    return df_flights\n",
    "\n",
    "def tweak_df_flights(df_flights):\n",
    "    df_flights = (\n",
    "        df_flights[SELECTED_COLUMNS]\n",
    "        .copy()\n",
    "        .rename(columns={\"Operating_Airline \": \"Operating_Airline\"})\n",
    "    )\n",
    "    return df_flights.assign(\n",
    "        DepTime=df_flights.DepTime.fillna(0).astype(\"float16\"),\n",
    "        DepDelay=df_flights.DepDelay.fillna(0).astype(\"float16\"),\n",
    "        DepDelayMinutes=df_flights.DepDelayMinutes.fillna(0).astype(\"float16\"),\n",
    "        DepDel15=df_flights.DepDel15.fillna(0).astype(\"float16\"),\n",
    "        DepartureDelayGroups=df_flights.DepartureDelayGroups.fillna(0).astype(\"float16\"),\n",
    "        TaxiOut=df_flights.TaxiOut.fillna(0).astype(\"float16\"),\n",
    "        WheelsOff=df_flights.WheelsOff.fillna(0).astype(\"float16\"),\n",
    "        WheelsOn=df_flights.WheelsOn.fillna(0).astype(\"float16\"),\n",
    "        TaxiIn=df_flights.TaxiIn.fillna(0).astype(\"float16\"),\n",
    "        ArrTime=df_flights.ArrTime.fillna(0).astype(\"float16\"),\n",
    "        ArrDelay=df_flights.ArrDelay.fillna(0).astype(\"float16\"),\n",
    "        ArrDelayMinutes=df_flights.ArrDelayMinutes.fillna(0).astype(\"float16\"),\n",
    "        ArrDel15=df_flights.ArrDel15.fillna(0).astype(\"float16\"),\n",
    "        ArrivalDelayGroups=df_flights.ArrivalDelayGroups.fillna(0).astype(\"float16\"),\n",
    "        CRSElapsedTime=df_flights.CRSElapsedTime.fillna(0).astype(\"float16\"),\n",
    "        ActualElapsedTime=df_flights.ActualElapsedTime.fillna(0).astype(\"float16\"),\n",
    "        AirTime=df_flights.AirTime.fillna(0).astype(\"float16\"),\n",
    "        Flights=df_flights.Flights.fillna(0).astype(\"float16\"),\n",
    "        Distance=df_flights.Distance.fillna(0).astype(\"float16\"),\n",
    "        CarrierDelay=df_flights.CarrierDelay.fillna(0).astype(\"float16\"),\n",
    "        WeatherDelay=df_flights.WeatherDelay.fillna(0).astype(\"float16\"),\n",
    "        NASDelay=df_flights.NASDelay.fillna(0).astype(\"float16\"),\n",
    "        SecurityDelay=df_flights.SecurityDelay.fillna(0).astype(\"float16\"),\n",
    "        LateAircraftDelay=df_flights.LateAircraftDelay.fillna(0).astype(\"float16\"),\n",
    "        FirstDepTime=df_flights.FirstDepTime.fillna(0).astype(\"float16\"),\n",
    "        TotalAddGTime=df_flights.TotalAddGTime.fillna(0).astype(\"float16\"),\n",
    "        LongestAddGTime=df_flights.LongestAddGTime.fillna(0).astype(\"float16\"),\n",
    "        CancellationCode=df_flights.CancellationCode.fillna(\"none\").astype(\"category\"),\n",
    "        FlightDate=pd.to_datetime(df_flights.FlightDate),\n",
    "    ).astype(\n",
    "        {\n",
    "            \"Operating_Airline\": \"category\",\n",
    "            \"Origin\": \"category\",\n",
    "            \"Dest\": \"category\",\n",
    "            \"DestState\": \"category\",\n",
    "            \"OriginState\": \"category\",\n",
    "            \"OriginCityName\": \"category\",\n",
    "            \"DestStateName\": \"category\",\n",
    "            \"DestCityName\": \"category\",\n",
    "            \"DepTimeBlk\": \"category\",\n",
    "            \"ArrTimeBlk\": \"category\",\n",
    "            \"Cancelled\": \"bool\",\n",
    "            \"Diverted\": \"bool\",\n",
    "            \"OriginAirportID\": \"int16\",\n",
    "            \"DestAirportID\": \"int16\",\n",
    "            \"CRSDepTime\": \"int16\",\n",
    "            \"CRSArrTime\": \"int16\",\n",
    "            \"DistanceGroup\": \"int16\",\n",
    "        }\n",
    "    )\n",
    "\n",
    "\n",
    "df_flights = tweak_df_flights(df_flights)\n",
    "df_flights.info()"
   ]
  },
  {
   "cell_type": "code",
   "execution_count": null,
   "metadata": {},
   "outputs": [],
   "source": [
    "df_flights.shape"
   ]
  },
  {
   "cell_type": "markdown",
   "metadata": {},
   "source": [
    "### Airlines\n",
    "airline mapping from Code to Name\n",
    "airline analysis"
   ]
  },
  {
   "cell_type": "code",
   "execution_count": null,
   "metadata": {},
   "outputs": [],
   "source": [
    "#airlines = pd.read_csv(\"../../data/databases/flight_attributes/airlines.csv.zip\", low_memory=False)"
   ]
  },
  {
   "cell_type": "code",
   "execution_count": null,
   "metadata": {},
   "outputs": [],
   "source": [
    "\n",
    "#airline_mapper = airlines.set_index(\"Code\")[\"Description\"]\n",
    "#df_flights[\"Operating_Airline\"] = df_flights[\"Operating_Airline\"].map(airline_mapper)\n",
    "airline_counts=(df_flights[\"Operating_Airline\"].value_counts()).index.map(airline_mapper)\n",
    "airline_counts"
   ]
  },
  {
   "cell_type": "code",
   "execution_count": null,
   "metadata": {},
   "outputs": [],
   "source": [
    "df_flights.head()"
   ]
  },
  {
   "cell_type": "code",
   "execution_count": null,
   "metadata": {},
   "outputs": [],
   "source": [
    "# df_flights.info()"
   ]
  },
  {
   "cell_type": "markdown",
   "metadata": {},
   "source": [
    "#### Delays by Airline in 2022"
   ]
  },
  {
   "cell_type": "code",
   "execution_count": null,
   "metadata": {},
   "outputs": [],
   "source": [
    "airline_counts = df_flights[\"Operating_Airline\"].value_counts()\n",
    "airline_counts.plot(kind='barh', figsize=(10, 10))\n"
   ]
  },
  {
   "cell_type": "code",
   "execution_count": null,
   "metadata": {},
   "outputs": [],
   "source": [
    "airline_counts.sort_values(ascending=True).plot(kind='barh', figsize=(10,10))"
   ]
  },
  {
   "cell_type": "code",
   "execution_count": null,
   "metadata": {},
   "outputs": [],
   "source": [
    "airline_counts.sort_values(ascending=True).to_frame(\"Row Count\")"
   ]
  },
  {
   "cell_type": "code",
   "execution_count": null,
   "metadata": {},
   "outputs": [],
   "source": [
    "px.bar(\n",
    "    airline_counts.sort_values(ascending=True), \n",
    "    orientation='h', \n",
    "    template=\"plotly_dark\",\n",
    "    title=\"Flights per airline\",\n",
    "    height=700,\n",
    "    )"
   ]
  },
  {
   "cell_type": "markdown",
   "metadata": {},
   "source": [
    "### Cancelled flights, group by Year"
   ]
  },
  {
   "cell_type": "code",
   "execution_count": null,
   "metadata": {},
   "outputs": [],
   "source": [
    "pct_cancelled = df_flights[\"Cancelled\"].mean()\n",
    "print(f\"{pct_cancelled:0.2f}% of flights are cancelled\")\n",
    "pct_cancelled"
   ]
  },
  {
   "cell_type": "code",
   "execution_count": null,
   "metadata": {},
   "outputs": [],
   "source": [
    "df_flights[\"Cancelled\"].value_counts()"
   ]
  },
  {
   "cell_type": "code",
   "execution_count": null,
   "metadata": {},
   "outputs": [],
   "source": [
    "#df_flights.query(\"Year==2022\").query(\"Cancelled\")\n",
    "df_flights.groupby(\"FlightDate\")[\"Cancelled\"].agg(\"mean\").to_frame()"
   ]
  },
  {
   "cell_type": "code",
   "execution_count": null,
   "metadata": {},
   "outputs": [],
   "source": [
    "# flights in 2022\n",
    "df_flights.query(\"'2022-01-01' <FlightDate < '2022-06-30'\")"
   ]
  },
  {
   "cell_type": "code",
   "execution_count": null,
   "metadata": {},
   "outputs": [],
   "source": [
    "cancelled_flights_analysis = (\n",
    "    (df_flights.query(\"'2022-01-01' < FlightDate < '2022-12-31'\")\n",
    "     .groupby([\"Operating_Airline\", \"Cancelled\"])['Cancelled']\n",
    "     .size()\n",
    "     .unstack()\n",
    "     .reset_index()\n",
    "     )\n",
    "    .rename(columns={False: \"Departed\", True: \"Cancelled\"})\n",
    "    .rename_axis(None, axis=1))\n",
    "\n",
    "cancelled_flights_analysis[\"Total\"] = cancelled_flights_analysis[\"Departed\"] + \\\n",
    "    cancelled_flights_analysis[\"Cancelled\"]\n",
    "cancelled_flights_analysis[\"Pct_Cancelled\"] = (\n",
    "    cancelled_flights_analysis[\"Cancelled\"] / cancelled_flights_analysis[\"Total\"])*100\n"
   ]
  },
  {
   "cell_type": "code",
   "execution_count": null,
   "metadata": {},
   "outputs": [],
   "source": [
    "cancelled_flights_analysis.head()     ## TODO: add geographical information of flight, weather information"
   ]
  },
  {
   "cell_type": "code",
   "execution_count": null,
   "metadata": {},
   "outputs": [],
   "source": [
    "(cancelled_flights_analysis\n",
    " .set_index(\"Operating_Airline\")\n",
    " .sort_values(\"Cancelled\")[\"Cancelled\"]\n",
    " .plot(kind=\"barh\",\n",
    "       figsize=(8, 8),\n",
    "       width=.8,\n",
    "       edgecolor=\"black\",\n",
    "       title=\"Flight Cancellations by Airline in 2022\"))\n",
    "plt.show()\n"
   ]
  },
  {
   "cell_type": "code",
   "execution_count": null,
   "metadata": {},
   "outputs": [],
   "source": [
    "fig, ax = plt.subplots(figsize=(8, 8))\n",
    "(cancelled_flights_analysis.set_index(\"Operating_Airline\")\n",
    " .sort_values(\"Cancelled\")[\"Cancelled\"]\n",
    " .plot(kind=\"barh\",\n",
    "       title=\"Total Operations Cancelled by Airline in 2022\",\n",
    "       width=1\n",
    "       ))\n",
    "\n",
    "ax.bar_label(ax.containers[0], padding=5, fontsize=9, color='b')\n",
    "plt.show()\n"
   ]
  },
  {
   "cell_type": "code",
   "execution_count": null,
   "metadata": {},
   "outputs": [],
   "source": [
    "fig, ax = plt.subplots(figsize=(10, 8))\n",
    "(cancelled_flights_analysis\n",
    " .set_index(\"Operating_Airline\")\n",
    " .sort_values(\"Pct_Cancelled\")[\"Pct_Cancelled\"]\n",
    " .plot(kind=\"barh\",\n",
    "       title=\"Percentage of Operations Cancelled by Airline in 2022\",\n",
    "       width=1,\n",
    "       # edgecolor=\"black\",\n",
    "       color=current_palette[6]\n",
    "       ))\n",
    "ax.bar_label(ax.containers[0], fmt='%.3f%%', padding=5, fontsize=9, color='b')\n",
    "plt.show()\n"
   ]
  },
  {
   "cell_type": "code",
   "execution_count": null,
   "metadata": {},
   "outputs": [],
   "source": [
    "df_flights[[\"FlightDate\"]].info()"
   ]
  },
  {
   "cell_type": "code",
   "execution_count": null,
   "metadata": {},
   "outputs": [],
   "source": [
    "cancelled_flights = df_flights.query(\"'2022-01-01' < FlightDate < '2022-12-31'\")\n",
    "cancelled_flights"
   ]
  },
  {
   "cell_type": "code",
   "execution_count": null,
   "metadata": {},
   "outputs": [],
   "source": [
    "cancelled_flights_count = (df_flights.query(\"'2022-01-01' < FlightDate < '2022-12-31'\").query(\"Cancelled\")[\"Operating_Airline\"].value_counts())\n",
    "cancelled_flights_count"
   ]
  },
  {
   "cell_type": "markdown",
   "metadata": {},
   "source": [
    "Analysis for January - June 2022"
   ]
  },
  {
   "cell_type": "code",
   "execution_count": null,
   "metadata": {},
   "outputs": [],
   "source": [
    "df_flights[\"FlightDate\"].dt.month.value_counts()"
   ]
  },
  {
   "cell_type": "code",
   "execution_count": null,
   "metadata": {},
   "outputs": [],
   "source": [
    "df_flights[\"FlightDate\"].dt.quarter.value_counts()"
   ]
  },
  {
   "cell_type": "code",
   "execution_count": null,
   "metadata": {},
   "outputs": [],
   "source": [
    "df_flights[\"FlightDate\"].value_counts()"
   ]
  },
  {
   "cell_type": "code",
   "execution_count": null,
   "metadata": {},
   "outputs": [],
   "source": [
    "cancelled_flights_analysis = (\n",
    "    (df_flights.query(\"'2022-01-01' < FlightDate < '2022-12-31'\")\n",
    "     .groupby([\"Operating_Airline\", \"Cancelled\"])['Cancelled']\n",
    "     .size()\n",
    "     .unstack()\n",
    "     .reset_index()\n",
    "     )\n",
    "    .rename(columns={False: \"Departed\", True: \"Cancelled\"})\n",
    "    .rename_axis(None, axis=1))\n",
    "\n",
    "cancelled_flights_analysis[\"Total\"] = cancelled_flights_analysis[\"Departed\"] + cancelled_flights_analysis[\"Cancelled\"]\n",
    "cancelled_flights_analysis[\"Pct_Cancelled\"] = (cancelled_flights_analysis[\"Cancelled\"] / cancelled_flights_analysis[\"Total\"])*100\n",
    "\n",
    "fig, ax = plt.subplots(figsize=(8, 8))\n",
    "cancelled_flights_analysis.set_index(\"Operating_Airline\").sort_values(\n",
    "    \"Pct_Cancelled\")[\"Pct_Cancelled\"].plot(kind=\"barh\",\n",
    "                                           title=\"Percentage of Operations Cancelled by Airline in January - June 2022\",\n",
    "                                           width=1,\n",
    "                                           #edgecolor=\"black\",\n",
    "                                           color=current_palette[2]\n",
    "                                           )\n",
    "ax.bar_label(ax.containers[0], fmt='%.3f%%', padding=5, fontsize=9, color='b')\n",
    "plt.show()"
   ]
  }
 ],
 "metadata": {
  "kernelspec": {
   "display_name": "Python 3.11.0 ('team-3-N2NXnkel')",
   "language": "python",
   "name": "python3"
  },
  "language_info": {
   "codemirror_mode": {
    "name": "ipython",
    "version": 3
   },
   "file_extension": ".py",
   "mimetype": "text/x-python",
   "name": "python",
   "nbconvert_exporter": "python",
   "pygments_lexer": "ipython3",
   "version": "3.11.0"
  },
  "vscode": {
   "interpreter": {
    "hash": "13b707afe647235fabbd8fa9a50cb628621b6b26172b2c2a7128d664447ee1d0"
   }
  }
 },
 "nbformat": 4,
 "nbformat_minor": 2
}

{
 "cells": [
  {
   "cell_type": "code",
   "execution_count": 1,
   "metadata": {},
   "outputs": [],
   "source": [
    "import numpy as np\n",
    "import pandas as pd\n",
    "import matplotlib.pyplot as plt\n",
    "import seaborn as sns \n",
    "import plotly.express as px\n",
    "\n",
    "sns.set_theme(style=\"darkgrid\")\n",
    "current_palette=sns.color_palette()"
   ]
  },
  {
   "cell_type": "code",
   "execution_count": 2,
   "metadata": {},
   "outputs": [],
   "source": [
    "pd.options.display.min_rows = 20\n",
    "pd.options.display.max_columns = 50"
   ]
  },
  {
   "cell_type": "markdown",
   "metadata": {},
   "source": [
    "### Load in the data"
   ]
  },
  {
   "cell_type": "code",
   "execution_count": 3,
   "metadata": {},
   "outputs": [],
   "source": [
    "## Read in 2018 data from filesystem\n",
    "df_flights = pd.read_csv(\"../../data/eda/flights/flight_data_Y2018/flight_data_2018.csv.zip\",  low_memory=False)"
   ]
  },
  {
   "cell_type": "code",
   "execution_count": 4,
   "metadata": {},
   "outputs": [],
   "source": [
    "airlines = pd.read_csv(\"../../data/databases/flight_attributes/airlines.csv.zip\", low_memory=False)\n",
    "airline_mapper = airlines.set_index(\"Code\")[\"Description\"]"
   ]
  },
  {
   "cell_type": "markdown",
   "metadata": {},
   "source": [
    "### Clean the data"
   ]
  },
  {
   "cell_type": "code",
   "execution_count": 18,
   "metadata": {},
   "outputs": [],
   "source": [
    "\n",
    "SELECTED_COLUMNS = [\n",
    "    \"FlightDate\",\n",
    "    \"Operating_Airline \",\n",
    "    \"Tail_Number\",\n",
    "    \"Flight_Number_Operating_Airline\",\n",
    "    \"OriginAirportID\",\n",
    "    \"Origin\",\n",
    "    \"OriginCityName\",\n",
    "    \"OriginState\",\n",
    "    \"OriginStateName\",\n",
    "    \"DestAirportID\",\n",
    "    \"Dest\",\n",
    "    \"DestCityName\",\n",
    "    \"DestState\",\n",
    "    \"DestStateName\",\n",
    "    \"CRSDepTime\",\n",
    "    \"DepTime\",\n",
    "    \"DepDelay\",\n",
    "    \"DepDel15\",\n",
    "    \"DepartureDelayGroups\",\n",
    "    \"DepTimeBlk\",\n",
    "    \"TaxiOut\",\n",
    "    \"WheelsOn\",\n",
    "    \"TaxiIn\",\n",
    "    \"CRSArrTime\",\n",
    "    \"ArrDelayMinutes\",\n",
    "    \"ArrDel15\",\n",
    "    \"ArrivalDelayGroups\",\n",
    "    \"ArrTimeBlk\",\n",
    "    \"Cancelled\",\n",
    "    \"CancellationCode\",\n",
    "    \"Diverted\",\n",
    "    \"CRSElapsedTime\",\n",
    "    \"AirTime\",\n",
    "    \"Flights\",\n",
    "    \"Distance\",\n",
    "    \"DistanceGroup\",\n",
    "    \"CarrierDelay\",\n",
    "    \"WeatherDelay\",\n",
    "    \"NASDelay\",\n",
    "    \"SecurityDelay\",\n",
    "    \"LateAircraftDelay\",\n",
    "    \"FirstDepTime\",\n",
    "    \"TotalAddGTime\",\n",
    "]"
   ]
  },
  {
   "cell_type": "code",
   "execution_count": 15,
   "metadata": {},
   "outputs": [
    {
     "name": "stdout",
     "output_type": "stream",
     "text": [
      "<class 'pandas.core.frame.DataFrame'>\n",
      "RangeIndex: 5689512 entries, 0 to 5689511\n",
      "Data columns (total 21 columns):\n",
      " #   Column                           Dtype         \n",
      "---  ------                           -----         \n",
      " 0   FlightDate                       datetime64[ns]\n",
      " 1   Operating_Airline                category      \n",
      " 2   Tail_Number                      category      \n",
      " 3   Flight_Number_Operating_Airline  int16         \n",
      " 4   OriginAirportID                  int16         \n",
      " 5   Origin                           category      \n",
      " 6   OriginCityName                   category      \n",
      " 7   OriginStateName                  category      \n",
      " 8   OriginState                      category      \n",
      " 9   DestAirportID                    int16         \n",
      " 10  Dest                             category      \n",
      " 11  DestCityName                     category      \n",
      " 12  DestState                        category      \n",
      " 13  DestStateName                    category      \n",
      " 14  CRSDepTime                       int16         \n",
      " 15  DepTime                          float16       \n",
      " 16  DepDelay                         float16       \n",
      " 17  DepDelayMinutes                  float16       \n",
      " 18  Cancelled                        bool          \n",
      " 19  CancellationCode                 category      \n",
      " 20  Diverted                         bool          \n",
      "dtypes: bool(2), category(11), datetime64[ns](1), float16(3), int16(4)\n",
      "memory usage: 217.3 MB\n"
     ]
    }
   ],
   "source": [
    "def airline_mapping(df_flights):\n",
    "    df_flights[\"Operating_Airline\"] = (df_flights[\"Operating_Airline\"].map(airline_mapper))\n",
    "    df_flights[\"CancellationCode\"] = (df_flights[\"CancellationCode\"].map(cancellation_code_mapper))\n",
    "    return df_flights\n",
    "\n",
    "def tweak_df_flights(df_flights):\n",
    "    df_flights = (\n",
    "        df_flights[SELECTED_COLUMNS]\n",
    "        .copy()\n",
    "        .rename(columns={\"Operating_Airline \": \"Operating_Airline\"})\n",
    "    )\n",
    "    df_flights.pipe(airline_mapping)\n",
    "    return df_flights.assign(\n",
    "        DepTime=df_flights.DepTime.fillna(0).astype(\"float16\"),\n",
    "        DepDelay=df_flights.DepDelay.fillna(0).astype(\"float16\"),\n",
    "        DepDel15=df_flights.DepDel15.fillna(0).astype(\"float16\"),\n",
    "        DepartureDelayGroups=df_flights.DepartureDelayGroups.fillna(0).astype(\"float16\"),\n",
    "        TaxiOut=df_flights.TaxiOut.fillna(0).astype(\"float16\"),\n",
    "        WheelsOn=df_flights.WheelsOn.fillna(0).astype(\"float16\"),\n",
    "        TaxiIn=df_flights.TaxiIn.fillna(0).astype(\"float16\"),\n",
    "        ArrDel15=df_flights.ArrDel15.fillna(0).astype(\"float16\"),\n",
    "        ArrivalDelayGroups=df_flights.ArrivalDelayGroups.fillna(0).astype(\"float16\"),\n",
    "        CRSElapsedTime=df_flights.CRSElapsedTime.fillna(0).astype(\"float16\"),\n",
    "        AirTime=df_flights.AirTime.fillna(0).astype(\"float16\"),\n",
    "        Flights=df_flights.Flights.fillna(0).astype(\"float16\"),\n",
    "        Distance=df_flights.Distance.fillna(0).astype(\"float16\"),\n",
    "        CarrierDelay=df_flights.CarrierDelay.fillna(0).astype(\"float16\"),\n",
    "        WeatherDelay=df_flights.WeatherDelay.fillna(0).astype(\"float16\"),\n",
    "        NASDelay=df_flights.NASDelay.fillna(0).astype(\"float16\"),\n",
    "        SecurityDelay=df_flights.SecurityDelay.fillna(0).astype(\"float16\"),\n",
    "        LateAircraftDelay=df_flights.LateAircraftDelay.fillna(0).astype(\"float16\"),\n",
    "        FirstDepTime=df_flights.FirstDepTime.fillna(0).astype(\"float16\"),\n",
    "        TotalAddGTime=df_flights.TotalAddGTime.fillna(0).astype(\"float16\"),\n",
    "        CancellationCode=df_flights.CancellationCode.fillna(\"none\").astype(\"category\"),\n",
    "        Tail_Number=df_flights.Tail_Number.fillna(\"none\").astype(\"category\"),\n",
    "        FlightDate=pd.to_datetime(df_flights.FlightDate),\n",
    "    ).astype(\n",
    "        {\n",
    "            \"Operating_Airline\": \"category\",\n",
    "            \"Origin\": \"category\",\n",
    "            \"Dest\": \"category\",\n",
    "            \"DestState\": \"category\",\n",
    "            \"OriginState\": \"category\",\n",
    "            \"OriginCityName\": \"category\",\n",
    "            \"OriginStateName\": \"category\",\n",
    "            \"DestStateName\": \"category\",\n",
    "            \"DestCityName\": \"category\",\n",
    "            \"DepTimeBlk\": \"category\",\n",
    "            \"ArrTimeBlk\": \"category\",\n",
    "            \"Cancelled\": \"bool\",\n",
    "            \"Diverted\": \"bool\",\n",
    "            \"OriginAirportID\": \"int16\",\n",
    "            \"DestAirportID\": \"int16\",\n",
    "            \"CRSDepTime\": \"int16\",\n",
    "            \"CRSArrTime\": \"int16\",\n",
    "            \"DistanceGroup\": \"int16\",\n",
    "            \"Flight_Number_Operating_Airline\": \"int16\",\n",
    "            \"Flights\": \"int16\",\n",
    "        }\n",
    "    )\n",
    "\n",
    "\n",
    "df_flights = tweak_df_flights(df_flights)\n",
    "df_flights.info()"
   ]
  },
  {
   "cell_type": "code",
   "execution_count": 16,
   "metadata": {},
   "outputs": [
    {
     "data": {
      "text/plain": [
       "(5689512, 21)"
      ]
     },
     "execution_count": 16,
     "metadata": {},
     "output_type": "execute_result"
    }
   ],
   "source": [
    "df_flights.shape"
   ]
  },
  {
   "cell_type": "markdown",
   "metadata": {},
   "source": [
    "## Statistical Analysis"
   ]
  },
  {
   "cell_type": "markdown",
   "metadata": {},
   "source": [
    "#### Correlation matrix"
   ]
  },
  {
   "cell_type": "code",
   "execution_count": 17,
   "metadata": {},
   "outputs": [
    {
     "data": {
      "text/html": [
       "<div>\n",
       "<style scoped>\n",
       "    .dataframe tbody tr th:only-of-type {\n",
       "        vertical-align: middle;\n",
       "    }\n",
       "\n",
       "    .dataframe tbody tr th {\n",
       "        vertical-align: top;\n",
       "    }\n",
       "\n",
       "    .dataframe thead th {\n",
       "        text-align: right;\n",
       "    }\n",
       "</style>\n",
       "<table border=\"1\" class=\"dataframe\">\n",
       "  <thead>\n",
       "    <tr style=\"text-align: right;\">\n",
       "      <th></th>\n",
       "      <th>FlightDate</th>\n",
       "      <th>Operating_Airline</th>\n",
       "      <th>Tail_Number</th>\n",
       "      <th>Flight_Number_Operating_Airline</th>\n",
       "      <th>OriginAirportID</th>\n",
       "      <th>Origin</th>\n",
       "      <th>OriginCityName</th>\n",
       "      <th>OriginStateName</th>\n",
       "      <th>OriginState</th>\n",
       "      <th>DestAirportID</th>\n",
       "      <th>Dest</th>\n",
       "      <th>DestCityName</th>\n",
       "      <th>DestState</th>\n",
       "      <th>DestStateName</th>\n",
       "      <th>CRSDepTime</th>\n",
       "      <th>DepTime</th>\n",
       "      <th>DepDelay</th>\n",
       "      <th>DepDelayMinutes</th>\n",
       "      <th>Cancelled</th>\n",
       "      <th>CancellationCode</th>\n",
       "      <th>Diverted</th>\n",
       "    </tr>\n",
       "  </thead>\n",
       "  <tbody>\n",
       "    <tr>\n",
       "      <th>0</th>\n",
       "      <td>2018-01-23</td>\n",
       "      <td>NaN</td>\n",
       "      <td>N8928A</td>\n",
       "      <td>3298</td>\n",
       "      <td>10146</td>\n",
       "      <td>ABY</td>\n",
       "      <td>Albany, GA</td>\n",
       "      <td>Georgia</td>\n",
       "      <td>GA</td>\n",
       "      <td>10397</td>\n",
       "      <td>ATL</td>\n",
       "      <td>Atlanta, GA</td>\n",
       "      <td>GA</td>\n",
       "      <td>Georgia</td>\n",
       "      <td>1202</td>\n",
       "      <td>1157.0</td>\n",
       "      <td>-5.0</td>\n",
       "      <td>0.0</td>\n",
       "      <td>False</td>\n",
       "      <td>none</td>\n",
       "      <td>False</td>\n",
       "    </tr>\n",
       "    <tr>\n",
       "      <th>1</th>\n",
       "      <td>2018-01-24</td>\n",
       "      <td>NaN</td>\n",
       "      <td>N800AY</td>\n",
       "      <td>3298</td>\n",
       "      <td>10146</td>\n",
       "      <td>ABY</td>\n",
       "      <td>Albany, GA</td>\n",
       "      <td>Georgia</td>\n",
       "      <td>GA</td>\n",
       "      <td>10397</td>\n",
       "      <td>ATL</td>\n",
       "      <td>Atlanta, GA</td>\n",
       "      <td>GA</td>\n",
       "      <td>Georgia</td>\n",
       "      <td>1202</td>\n",
       "      <td>1157.0</td>\n",
       "      <td>-5.0</td>\n",
       "      <td>0.0</td>\n",
       "      <td>False</td>\n",
       "      <td>none</td>\n",
       "      <td>False</td>\n",
       "    </tr>\n",
       "    <tr>\n",
       "      <th>2</th>\n",
       "      <td>2018-01-25</td>\n",
       "      <td>NaN</td>\n",
       "      <td>N8836A</td>\n",
       "      <td>3298</td>\n",
       "      <td>10146</td>\n",
       "      <td>ABY</td>\n",
       "      <td>Albany, GA</td>\n",
       "      <td>Georgia</td>\n",
       "      <td>GA</td>\n",
       "      <td>10397</td>\n",
       "      <td>ATL</td>\n",
       "      <td>Atlanta, GA</td>\n",
       "      <td>GA</td>\n",
       "      <td>Georgia</td>\n",
       "      <td>1202</td>\n",
       "      <td>1153.0</td>\n",
       "      <td>-9.0</td>\n",
       "      <td>0.0</td>\n",
       "      <td>False</td>\n",
       "      <td>none</td>\n",
       "      <td>False</td>\n",
       "    </tr>\n",
       "    <tr>\n",
       "      <th>3</th>\n",
       "      <td>2018-01-26</td>\n",
       "      <td>NaN</td>\n",
       "      <td>N800AY</td>\n",
       "      <td>3298</td>\n",
       "      <td>10146</td>\n",
       "      <td>ABY</td>\n",
       "      <td>Albany, GA</td>\n",
       "      <td>Georgia</td>\n",
       "      <td>GA</td>\n",
       "      <td>10397</td>\n",
       "      <td>ATL</td>\n",
       "      <td>Atlanta, GA</td>\n",
       "      <td>GA</td>\n",
       "      <td>Georgia</td>\n",
       "      <td>1202</td>\n",
       "      <td>1150.0</td>\n",
       "      <td>-12.0</td>\n",
       "      <td>0.0</td>\n",
       "      <td>False</td>\n",
       "      <td>none</td>\n",
       "      <td>False</td>\n",
       "    </tr>\n",
       "    <tr>\n",
       "      <th>4</th>\n",
       "      <td>2018-01-27</td>\n",
       "      <td>NaN</td>\n",
       "      <td>N8839E</td>\n",
       "      <td>3298</td>\n",
       "      <td>10146</td>\n",
       "      <td>ABY</td>\n",
       "      <td>Albany, GA</td>\n",
       "      <td>Georgia</td>\n",
       "      <td>GA</td>\n",
       "      <td>10397</td>\n",
       "      <td>ATL</td>\n",
       "      <td>Atlanta, GA</td>\n",
       "      <td>GA</td>\n",
       "      <td>Georgia</td>\n",
       "      <td>1400</td>\n",
       "      <td>1355.0</td>\n",
       "      <td>-5.0</td>\n",
       "      <td>0.0</td>\n",
       "      <td>False</td>\n",
       "      <td>none</td>\n",
       "      <td>False</td>\n",
       "    </tr>\n",
       "  </tbody>\n",
       "</table>\n",
       "</div>"
      ],
      "text/plain": [
       "  FlightDate Operating_Airline Tail_Number  Flight_Number_Operating_Airline  \\\n",
       "0 2018-01-23               NaN      N8928A                             3298   \n",
       "1 2018-01-24               NaN      N800AY                             3298   \n",
       "2 2018-01-25               NaN      N8836A                             3298   \n",
       "3 2018-01-26               NaN      N800AY                             3298   \n",
       "4 2018-01-27               NaN      N8839E                             3298   \n",
       "\n",
       "   OriginAirportID Origin OriginCityName OriginStateName OriginState  \\\n",
       "0            10146    ABY     Albany, GA         Georgia          GA   \n",
       "1            10146    ABY     Albany, GA         Georgia          GA   \n",
       "2            10146    ABY     Albany, GA         Georgia          GA   \n",
       "3            10146    ABY     Albany, GA         Georgia          GA   \n",
       "4            10146    ABY     Albany, GA         Georgia          GA   \n",
       "\n",
       "   DestAirportID Dest DestCityName DestState DestStateName  CRSDepTime  \\\n",
       "0          10397  ATL  Atlanta, GA        GA       Georgia        1202   \n",
       "1          10397  ATL  Atlanta, GA        GA       Georgia        1202   \n",
       "2          10397  ATL  Atlanta, GA        GA       Georgia        1202   \n",
       "3          10397  ATL  Atlanta, GA        GA       Georgia        1202   \n",
       "4          10397  ATL  Atlanta, GA        GA       Georgia        1400   \n",
       "\n",
       "   DepTime  DepDelay  DepDelayMinutes  Cancelled CancellationCode  Diverted  \n",
       "0   1157.0      -5.0              0.0      False             none     False  \n",
       "1   1157.0      -5.0              0.0      False             none     False  \n",
       "2   1153.0      -9.0              0.0      False             none     False  \n",
       "3   1150.0     -12.0              0.0      False             none     False  \n",
       "4   1355.0      -5.0              0.0      False             none     False  "
      ]
     },
     "execution_count": 17,
     "metadata": {},
     "output_type": "execute_result"
    }
   ],
   "source": [
    "df_flights.head()"
   ]
  },
  {
   "cell_type": "code",
   "execution_count": 19,
   "metadata": {},
   "outputs": [
    {
     "data": {
      "text/html": [
       "<div>\n",
       "<style scoped>\n",
       "    .dataframe tbody tr th:only-of-type {\n",
       "        vertical-align: middle;\n",
       "    }\n",
       "\n",
       "    .dataframe tbody tr th {\n",
       "        vertical-align: top;\n",
       "    }\n",
       "\n",
       "    .dataframe thead th {\n",
       "        text-align: right;\n",
       "    }\n",
       "</style>\n",
       "<table border=\"1\" class=\"dataframe\">\n",
       "  <thead>\n",
       "    <tr style=\"text-align: right;\">\n",
       "      <th></th>\n",
       "      <th>OriginAirportID</th>\n",
       "      <th>Origin</th>\n",
       "      <th>OriginCityName</th>\n",
       "      <th>OriginState</th>\n",
       "    </tr>\n",
       "  </thead>\n",
       "  <tbody>\n",
       "    <tr>\n",
       "      <th>0</th>\n",
       "      <td>11697</td>\n",
       "      <td>FLL</td>\n",
       "      <td>Fort Lauderdale, FL</td>\n",
       "      <td>FL</td>\n",
       "    </tr>\n",
       "    <tr>\n",
       "      <th>1</th>\n",
       "      <td>10397</td>\n",
       "      <td>ATL</td>\n",
       "      <td>Atlanta, GA</td>\n",
       "      <td>GA</td>\n",
       "    </tr>\n",
       "    <tr>\n",
       "      <th>2</th>\n",
       "      <td>11697</td>\n",
       "      <td>FLL</td>\n",
       "      <td>Fort Lauderdale, FL</td>\n",
       "      <td>FL</td>\n",
       "    </tr>\n",
       "    <tr>\n",
       "      <th>3</th>\n",
       "      <td>11697</td>\n",
       "      <td>FLL</td>\n",
       "      <td>Fort Lauderdale, FL</td>\n",
       "      <td>FL</td>\n",
       "    </tr>\n",
       "    <tr>\n",
       "      <th>4</th>\n",
       "      <td>10397</td>\n",
       "      <td>ATL</td>\n",
       "      <td>Atlanta, GA</td>\n",
       "      <td>GA</td>\n",
       "    </tr>\n",
       "    <tr>\n",
       "      <th>5</th>\n",
       "      <td>12448</td>\n",
       "      <td>JAN</td>\n",
       "      <td>Jackson/Vicksburg, MS</td>\n",
       "      <td>MS</td>\n",
       "    </tr>\n",
       "    <tr>\n",
       "      <th>6</th>\n",
       "      <td>14524</td>\n",
       "      <td>RIC</td>\n",
       "      <td>Richmond, VA</td>\n",
       "      <td>VA</td>\n",
       "    </tr>\n",
       "    <tr>\n",
       "      <th>7</th>\n",
       "      <td>13487</td>\n",
       "      <td>MSP</td>\n",
       "      <td>Minneapolis, MN</td>\n",
       "      <td>MN</td>\n",
       "    </tr>\n",
       "    <tr>\n",
       "      <th>8</th>\n",
       "      <td>10397</td>\n",
       "      <td>ATL</td>\n",
       "      <td>Atlanta, GA</td>\n",
       "      <td>GA</td>\n",
       "    </tr>\n",
       "    <tr>\n",
       "      <th>9</th>\n",
       "      <td>14492</td>\n",
       "      <td>RDU</td>\n",
       "      <td>Raleigh/Durham, NC</td>\n",
       "      <td>NC</td>\n",
       "    </tr>\n",
       "    <tr>\n",
       "      <th>...</th>\n",
       "      <td>...</td>\n",
       "      <td>...</td>\n",
       "      <td>...</td>\n",
       "      <td>...</td>\n",
       "    </tr>\n",
       "    <tr>\n",
       "      <th>4691957</th>\n",
       "      <td>13577</td>\n",
       "      <td>MYR</td>\n",
       "      <td>Myrtle Beach, SC</td>\n",
       "      <td>SC</td>\n",
       "    </tr>\n",
       "    <tr>\n",
       "      <th>4691958</th>\n",
       "      <td>13577</td>\n",
       "      <td>MYR</td>\n",
       "      <td>Myrtle Beach, SC</td>\n",
       "      <td>SC</td>\n",
       "    </tr>\n",
       "    <tr>\n",
       "      <th>4691959</th>\n",
       "      <td>13577</td>\n",
       "      <td>MYR</td>\n",
       "      <td>Myrtle Beach, SC</td>\n",
       "      <td>SC</td>\n",
       "    </tr>\n",
       "    <tr>\n",
       "      <th>4691960</th>\n",
       "      <td>13577</td>\n",
       "      <td>MYR</td>\n",
       "      <td>Myrtle Beach, SC</td>\n",
       "      <td>SC</td>\n",
       "    </tr>\n",
       "    <tr>\n",
       "      <th>4691961</th>\n",
       "      <td>13577</td>\n",
       "      <td>MYR</td>\n",
       "      <td>Myrtle Beach, SC</td>\n",
       "      <td>SC</td>\n",
       "    </tr>\n",
       "    <tr>\n",
       "      <th>4691962</th>\n",
       "      <td>13577</td>\n",
       "      <td>MYR</td>\n",
       "      <td>Myrtle Beach, SC</td>\n",
       "      <td>SC</td>\n",
       "    </tr>\n",
       "    <tr>\n",
       "      <th>4691963</th>\n",
       "      <td>13577</td>\n",
       "      <td>MYR</td>\n",
       "      <td>Myrtle Beach, SC</td>\n",
       "      <td>SC</td>\n",
       "    </tr>\n",
       "    <tr>\n",
       "      <th>4691964</th>\n",
       "      <td>13577</td>\n",
       "      <td>MYR</td>\n",
       "      <td>Myrtle Beach, SC</td>\n",
       "      <td>SC</td>\n",
       "    </tr>\n",
       "    <tr>\n",
       "      <th>4691965</th>\n",
       "      <td>13577</td>\n",
       "      <td>MYR</td>\n",
       "      <td>Myrtle Beach, SC</td>\n",
       "      <td>SC</td>\n",
       "    </tr>\n",
       "    <tr>\n",
       "      <th>4691966</th>\n",
       "      <td>13577</td>\n",
       "      <td>MYR</td>\n",
       "      <td>Myrtle Beach, SC</td>\n",
       "      <td>SC</td>\n",
       "    </tr>\n",
       "  </tbody>\n",
       "</table>\n",
       "<p>4691967 rows × 4 columns</p>\n",
       "</div>"
      ],
      "text/plain": [
       "         OriginAirportID Origin         OriginCityName OriginState\n",
       "0                  11697    FLL    Fort Lauderdale, FL          FL\n",
       "1                  10397    ATL            Atlanta, GA          GA\n",
       "2                  11697    FLL    Fort Lauderdale, FL          FL\n",
       "3                  11697    FLL    Fort Lauderdale, FL          FL\n",
       "4                  10397    ATL            Atlanta, GA          GA\n",
       "5                  12448    JAN  Jackson/Vicksburg, MS          MS\n",
       "6                  14524    RIC           Richmond, VA          VA\n",
       "7                  13487    MSP        Minneapolis, MN          MN\n",
       "8                  10397    ATL            Atlanta, GA          GA\n",
       "9                  14492    RDU     Raleigh/Durham, NC          NC\n",
       "...                  ...    ...                    ...         ...\n",
       "4691957            13577    MYR       Myrtle Beach, SC          SC\n",
       "4691958            13577    MYR       Myrtle Beach, SC          SC\n",
       "4691959            13577    MYR       Myrtle Beach, SC          SC\n",
       "4691960            13577    MYR       Myrtle Beach, SC          SC\n",
       "4691961            13577    MYR       Myrtle Beach, SC          SC\n",
       "4691962            13577    MYR       Myrtle Beach, SC          SC\n",
       "4691963            13577    MYR       Myrtle Beach, SC          SC\n",
       "4691964            13577    MYR       Myrtle Beach, SC          SC\n",
       "4691965            13577    MYR       Myrtle Beach, SC          SC\n",
       "4691966            13577    MYR       Myrtle Beach, SC          SC\n",
       "\n",
       "[4691967 rows x 4 columns]"
      ]
     },
     "execution_count": 19,
     "metadata": {},
     "output_type": "execute_result"
    }
   ],
   "source": [
    "df_flights.filter(regex=r'Origin')"
   ]
  },
  {
   "cell_type": "code",
   "execution_count": 9,
   "metadata": {},
   "outputs": [
    {
     "data": {
      "text/html": [
       "<style type=\"text/css\">\n",
       "#T_89ae8_row0_col0, #T_89ae8_row1_col1, #T_89ae8_row1_col2, #T_89ae8_row2_col1, #T_89ae8_row2_col2, #T_89ae8_row3_col3, #T_89ae8_row4_col4, #T_89ae8_row5_col5, #T_89ae8_row6_col6, #T_89ae8_row7_col7, #T_89ae8_row8_col8, #T_89ae8_row9_col9, #T_89ae8_row10_col10, #T_89ae8_row11_col11, #T_89ae8_row12_col12, #T_89ae8_row13_col13, #T_89ae8_row14_col14, #T_89ae8_row15_col15, #T_89ae8_row16_col16, #T_89ae8_row17_col17, #T_89ae8_row18_col18, #T_89ae8_row19_col19, #T_89ae8_row20_col20, #T_89ae8_row21_col21, #T_89ae8_row22_col22, #T_89ae8_row23_col23, #T_89ae8_row24_col24, #T_89ae8_row25_col25 {\n",
       "  background-color: #b40426;\n",
       "  color: #f1f1f1;\n",
       "}\n",
       "#T_89ae8_row0_col1, #T_89ae8_row3_col19, #T_89ae8_row7_col3, #T_89ae8_row12_col19, #T_89ae8_row16_col5, #T_89ae8_row25_col18 {\n",
       "  background-color: #5f7fe8;\n",
       "  color: #f1f1f1;\n",
       "}\n",
       "#T_89ae8_row0_col2, #T_89ae8_row0_col15, #T_89ae8_row8_col7, #T_89ae8_row8_col9, #T_89ae8_row8_col14, #T_89ae8_row12_col15, #T_89ae8_row23_col20 {\n",
       "  background-color: #5e7de7;\n",
       "  color: #f1f1f1;\n",
       "}\n",
       "#T_89ae8_row0_col3, #T_89ae8_row12_col5 {\n",
       "  background-color: #8badfd;\n",
       "  color: #000000;\n",
       "}\n",
       "#T_89ae8_row0_col4, #T_89ae8_row13_col6, #T_89ae8_row13_col24, #T_89ae8_row13_col25, #T_89ae8_row23_col10, #T_89ae8_row23_col13, #T_89ae8_row24_col10, #T_89ae8_row25_col10 {\n",
       "  background-color: #7699f6;\n",
       "  color: #f1f1f1;\n",
       "}\n",
       "#T_89ae8_row0_col5, #T_89ae8_row0_col10, #T_89ae8_row0_col22, #T_89ae8_row3_col9, #T_89ae8_row5_col16, #T_89ae8_row7_col16, #T_89ae8_row8_col16, #T_89ae8_row11_col0 {\n",
       "  background-color: #6384eb;\n",
       "  color: #f1f1f1;\n",
       "}\n",
       "#T_89ae8_row0_col6, #T_89ae8_row1_col11, #T_89ae8_row6_col0, #T_89ae8_row11_col1 {\n",
       "  background-color: #be242e;\n",
       "  color: #f1f1f1;\n",
       "}\n",
       "#T_89ae8_row0_col7 {\n",
       "  background-color: #f7ac8e;\n",
       "  color: #000000;\n",
       "}\n",
       "#T_89ae8_row0_col8, #T_89ae8_row6_col8, #T_89ae8_row13_col15, #T_89ae8_row20_col0, #T_89ae8_row20_col7, #T_89ae8_row25_col12 {\n",
       "  background-color: #4f69d9;\n",
       "  color: #f1f1f1;\n",
       "}\n",
       "#T_89ae8_row0_col9 {\n",
       "  background-color: #f7b79b;\n",
       "  color: #000000;\n",
       "}\n",
       "#T_89ae8_row0_col11, #T_89ae8_row6_col15, #T_89ae8_row8_col10, #T_89ae8_row10_col8, #T_89ae8_row20_col15, #T_89ae8_row23_col19 {\n",
       "  background-color: #5d7ce6;\n",
       "  color: #f1f1f1;\n",
       "}\n",
       "#T_89ae8_row0_col12, #T_89ae8_row4_col19, #T_89ae8_row4_col24, #T_89ae8_row4_col25, #T_89ae8_row6_col12 {\n",
       "  background-color: #7da0f9;\n",
       "  color: #f1f1f1;\n",
       "}\n",
       "#T_89ae8_row0_col13, #T_89ae8_row10_col5, #T_89ae8_row19_col24, #T_89ae8_row19_col25, #T_89ae8_row23_col11, #T_89ae8_row24_col11, #T_89ae8_row25_col11 {\n",
       "  background-color: #7295f4;\n",
       "  color: #f1f1f1;\n",
       "}\n",
       "#T_89ae8_row0_col14, #T_89ae8_row3_col8, #T_89ae8_row8_col23, #T_89ae8_row16_col1, #T_89ae8_row16_col2, #T_89ae8_row16_col22, #T_89ae8_row17_col0, #T_89ae8_row19_col15, #T_89ae8_row21_col15, #T_89ae8_row21_col16, #T_89ae8_row21_col19, #T_89ae8_row21_col22, #T_89ae8_row23_col9, #T_89ae8_row23_col15, #T_89ae8_row23_col16, #T_89ae8_row24_col21, #T_89ae8_row25_col21 {\n",
       "  background-color: #3d50c3;\n",
       "  color: #f1f1f1;\n",
       "}\n",
       "#T_89ae8_row0_col16, #T_89ae8_row7_col8, #T_89ae8_row7_col12, #T_89ae8_row9_col8, #T_89ae8_row11_col8 {\n",
       "  background-color: #5977e3;\n",
       "  color: #f1f1f1;\n",
       "}\n",
       "#T_89ae8_row0_col17, #T_89ae8_row4_col8, #T_89ae8_row6_col24, #T_89ae8_row6_col25, #T_89ae8_row9_col1, #T_89ae8_row9_col2, #T_89ae8_row15_col19, #T_89ae8_row16_col23, #T_89ae8_row16_col24, #T_89ae8_row16_col25, #T_89ae8_row19_col14, #T_89ae8_row21_col12, #T_89ae8_row22_col16, #T_89ae8_row22_col17, #T_89ae8_row23_col5, #T_89ae8_row23_col7, #T_89ae8_row24_col6, #T_89ae8_row25_col6 {\n",
       "  background-color: #3e51c5;\n",
       "  color: #f1f1f1;\n",
       "}\n",
       "#T_89ae8_row0_col18, #T_89ae8_row0_col24, #T_89ae8_row0_col25, #T_89ae8_row1_col14, #T_89ae8_row5_col4, #T_89ae8_row7_col10, #T_89ae8_row7_col20, #T_89ae8_row9_col13, #T_89ae8_row16_col20, #T_89ae8_row18_col5, #T_89ae8_row20_col14, #T_89ae8_row23_col22 {\n",
       "  background-color: #485fd1;\n",
       "  color: #f1f1f1;\n",
       "}\n",
       "#T_89ae8_row0_col19, #T_89ae8_row2_col16, #T_89ae8_row2_col17, #T_89ae8_row3_col21, #T_89ae8_row5_col1, #T_89ae8_row7_col17, #T_89ae8_row9_col4, #T_89ae8_row9_col14, #T_89ae8_row9_col22, #T_89ae8_row11_col14, #T_89ae8_row12_col21, #T_89ae8_row14_col9, #T_89ae8_row14_col24, #T_89ae8_row15_col18, #T_89ae8_row17_col5, #T_89ae8_row17_col9, #T_89ae8_row18_col14, #T_89ae8_row18_col15, #T_89ae8_row19_col0, #T_89ae8_row21_col23, #T_89ae8_row21_col24, #T_89ae8_row21_col25, #T_89ae8_row22_col5, #T_89ae8_row24_col14, #T_89ae8_row25_col14 {\n",
       "  background-color: #445acc;\n",
       "  color: #f1f1f1;\n",
       "}\n",
       "#T_89ae8_row0_col20, #T_89ae8_row2_col5, #T_89ae8_row3_col14, #T_89ae8_row4_col14, #T_89ae8_row5_col3, #T_89ae8_row5_col17, #T_89ae8_row5_col18, #T_89ae8_row7_col13, #T_89ae8_row10_col9, #T_89ae8_row11_col9, #T_89ae8_row15_col11, #T_89ae8_row18_col0, #T_89ae8_row19_col5, #T_89ae8_row22_col24, #T_89ae8_row22_col25, #T_89ae8_row23_col0 {\n",
       "  background-color: #4a63d3;\n",
       "  color: #f1f1f1;\n",
       "}\n",
       "#T_89ae8_row0_col21, #T_89ae8_row6_col21, #T_89ae8_row7_col18, #T_89ae8_row8_col2, #T_89ae8_row9_col18, #T_89ae8_row14_col1, #T_89ae8_row15_col21, #T_89ae8_row16_col19, #T_89ae8_row16_col21, #T_89ae8_row17_col1, #T_89ae8_row17_col6, #T_89ae8_row17_col10, #T_89ae8_row17_col12, #T_89ae8_row17_col13, #T_89ae8_row17_col21, #T_89ae8_row18_col19, #T_89ae8_row19_col17, #T_89ae8_row20_col21, #T_89ae8_row21_col8, #T_89ae8_row21_col18, #T_89ae8_row22_col21 {\n",
       "  background-color: #3c4ec2;\n",
       "  color: #f1f1f1;\n",
       "}\n",
       "#T_89ae8_row0_col23, #T_89ae8_row1_col5, #T_89ae8_row1_col9, #T_89ae8_row2_col9, #T_89ae8_row3_col17, #T_89ae8_row4_col5, #T_89ae8_row4_col17, #T_89ae8_row15_col3, #T_89ae8_row16_col12, #T_89ae8_row20_col22, #T_89ae8_row22_col9, #T_89ae8_row22_col23 {\n",
       "  background-color: #4961d2;\n",
       "  color: #f1f1f1;\n",
       "}\n",
       "#T_89ae8_row1_col0, #T_89ae8_row5_col11, #T_89ae8_row9_col5, #T_89ae8_row9_col15, #T_89ae8_row23_col18, #T_89ae8_row25_col20 {\n",
       "  background-color: #688aef;\n",
       "  color: #f1f1f1;\n",
       "}\n",
       "#T_89ae8_row1_col3 {\n",
       "  background-color: #e8d6cc;\n",
       "  color: #000000;\n",
       "}\n",
       "#T_89ae8_row1_col4, #T_89ae8_row4_col1 {\n",
       "  background-color: #ea7b60;\n",
       "  color: #f1f1f1;\n",
       "}\n",
       "#T_89ae8_row1_col6, #T_89ae8_row2_col0, #T_89ae8_row3_col7, #T_89ae8_row5_col0, #T_89ae8_row10_col6, #T_89ae8_row16_col7, #T_89ae8_row24_col20 {\n",
       "  background-color: #6788ee;\n",
       "  color: #f1f1f1;\n",
       "}\n",
       "#T_89ae8_row1_col7, #T_89ae8_row2_col7, #T_89ae8_row3_col5, #T_89ae8_row3_col16, #T_89ae8_row10_col15, #T_89ae8_row15_col10, #T_89ae8_row18_col6, #T_89ae8_row20_col16, #T_89ae8_row22_col7 {\n",
       "  background-color: #4b64d5;\n",
       "  color: #f1f1f1;\n",
       "}\n",
       "#T_89ae8_row1_col8, #T_89ae8_row6_col23, #T_89ae8_row8_col18, #T_89ae8_row9_col11, #T_89ae8_row13_col14, #T_89ae8_row13_col17, #T_89ae8_row14_col3, #T_89ae8_row14_col4, #T_89ae8_row14_col20, #T_89ae8_row16_col4, #T_89ae8_row16_col11, #T_89ae8_row17_col4, #T_89ae8_row17_col23, #T_89ae8_row18_col7, #T_89ae8_row18_col8, #T_89ae8_row18_col9, #T_89ae8_row19_col8, #T_89ae8_row21_col1, #T_89ae8_row21_col2, #T_89ae8_row21_col3, #T_89ae8_row21_col7, #T_89ae8_row21_col9, #T_89ae8_row23_col21, #T_89ae8_row24_col17, #T_89ae8_row25_col17 {\n",
       "  background-color: #4055c8;\n",
       "  color: #f1f1f1;\n",
       "}\n",
       "#T_89ae8_row1_col10, #T_89ae8_row2_col10, #T_89ae8_row10_col1, #T_89ae8_row10_col2 {\n",
       "  background-color: #c12b30;\n",
       "  color: #f1f1f1;\n",
       "}\n",
       "#T_89ae8_row1_col12 {\n",
       "  background-color: #dcdddd;\n",
       "  color: #000000;\n",
       "}\n",
       "#T_89ae8_row1_col13, #T_89ae8_row4_col11, #T_89ae8_row11_col4 {\n",
       "  background-color: #f29072;\n",
       "  color: #f1f1f1;\n",
       "}\n",
       "#T_89ae8_row1_col15, #T_89ae8_row2_col14, #T_89ae8_row4_col15, #T_89ae8_row5_col22, #T_89ae8_row5_col24, #T_89ae8_row5_col25, #T_89ae8_row6_col18, #T_89ae8_row7_col4, #T_89ae8_row7_col22, #T_89ae8_row9_col20, #T_89ae8_row10_col21, #T_89ae8_row11_col16, #T_89ae8_row12_col14, #T_89ae8_row12_col17, #T_89ae8_row16_col3, #T_89ae8_row19_col6, #T_89ae8_row21_col10, #T_89ae8_row22_col20 {\n",
       "  background-color: #465ecf;\n",
       "  color: #f1f1f1;\n",
       "}\n",
       "#T_89ae8_row1_col16, #T_89ae8_row1_col17, #T_89ae8_row1_col21, #T_89ae8_row2_col15, #T_89ae8_row2_col21, #T_89ae8_row4_col16, #T_89ae8_row4_col21, #T_89ae8_row5_col2, #T_89ae8_row7_col14, #T_89ae8_row9_col10, #T_89ae8_row11_col21, #T_89ae8_row13_col21, #T_89ae8_row14_col7, #T_89ae8_row17_col7, #T_89ae8_row20_col17, #T_89ae8_row20_col19, #T_89ae8_row21_col13, #T_89ae8_row23_col6, #T_89ae8_row23_col14, #T_89ae8_row24_col0, #T_89ae8_row24_col22, #T_89ae8_row25_col0, #T_89ae8_row25_col22 {\n",
       "  background-color: #455cce;\n",
       "  color: #f1f1f1;\n",
       "}\n",
       "#T_89ae8_row1_col18, #T_89ae8_row18_col2, #T_89ae8_row18_col11 {\n",
       "  background-color: #f5a081;\n",
       "  color: #000000;\n",
       "}\n",
       "#T_89ae8_row1_col19, #T_89ae8_row18_col3, #T_89ae8_row19_col10 {\n",
       "  background-color: #98b9ff;\n",
       "  color: #000000;\n",
       "}\n",
       "#T_89ae8_row1_col20 {\n",
       "  background-color: #89acfd;\n",
       "  color: #000000;\n",
       "}\n",
       "#T_89ae8_row1_col22, #T_89ae8_row2_col22, #T_89ae8_row4_col22 {\n",
       "  background-color: #f1ccb8;\n",
       "  color: #000000;\n",
       "}\n",
       "#T_89ae8_row1_col23, #T_89ae8_row2_col23, #T_89ae8_row4_col0, #T_89ae8_row11_col24, #T_89ae8_row11_col25, #T_89ae8_row19_col13 {\n",
       "  background-color: #7b9ff9;\n",
       "  color: #f1f1f1;\n",
       "}\n",
       "#T_89ae8_row1_col24, #T_89ae8_row2_col24, #T_89ae8_row2_col25, #T_89ae8_row4_col23, #T_89ae8_row8_col20 {\n",
       "  background-color: #80a3fa;\n",
       "  color: #f1f1f1;\n",
       "}\n",
       "#T_89ae8_row1_col25, #T_89ae8_row13_col19 {\n",
       "  background-color: #7ea1fa;\n",
       "  color: #f1f1f1;\n",
       "}\n",
       "#T_89ae8_row2_col3, #T_89ae8_row12_col11 {\n",
       "  background-color: #e3d9d3;\n",
       "  color: #000000;\n",
       "}\n",
       "#T_89ae8_row2_col4 {\n",
       "  background-color: #ec8165;\n",
       "  color: #f1f1f1;\n",
       "}\n",
       "#T_89ae8_row2_col6, #T_89ae8_row3_col23, #T_89ae8_row8_col13, #T_89ae8_row10_col0, #T_89ae8_row13_col8, #T_89ae8_row16_col9, #T_89ae8_row22_col0, #T_89ae8_row22_col6 {\n",
       "  background-color: #6687ed;\n",
       "  color: #f1f1f1;\n",
       "}\n",
       "#T_89ae8_row2_col8, #T_89ae8_row11_col17, #T_89ae8_row14_col23, #T_89ae8_row16_col10, #T_89ae8_row16_col13, #T_89ae8_row16_col18, #T_89ae8_row17_col3, #T_89ae8_row17_col24, #T_89ae8_row17_col25, #T_89ae8_row19_col20, #T_89ae8_row19_col22, #T_89ae8_row20_col18, #T_89ae8_row21_col4, #T_89ae8_row21_col6, #T_89ae8_row21_col14, #T_89ae8_row22_col8 {\n",
       "  background-color: #4257c9;\n",
       "  color: #f1f1f1;\n",
       "}\n",
       "#T_89ae8_row2_col11, #T_89ae8_row11_col2 {\n",
       "  background-color: #bd1f2d;\n",
       "  color: #f1f1f1;\n",
       "}\n",
       "#T_89ae8_row2_col12, #T_89ae8_row4_col18, #T_89ae8_row11_col3 {\n",
       "  background-color: #d8dce2;\n",
       "  color: #000000;\n",
       "}\n",
       "#T_89ae8_row2_col13 {\n",
       "  background-color: #f39577;\n",
       "  color: #000000;\n",
       "}\n",
       "#T_89ae8_row2_col18, #T_89ae8_row11_col18 {\n",
       "  background-color: #f59f80;\n",
       "  color: #000000;\n",
       "}\n",
       "#T_89ae8_row2_col19, #T_89ae8_row10_col19 {\n",
       "  background-color: #9abbff;\n",
       "  color: #000000;\n",
       "}\n",
       "#T_89ae8_row2_col20, #T_89ae8_row4_col20, #T_89ae8_row12_col6 {\n",
       "  background-color: #88abfd;\n",
       "  color: #000000;\n",
       "}\n",
       "#T_89ae8_row3_col0, #T_89ae8_row5_col15 {\n",
       "  background-color: #90b2fe;\n",
       "  color: #000000;\n",
       "}\n",
       "#T_89ae8_row3_col1 {\n",
       "  background-color: #e7d7ce;\n",
       "  color: #000000;\n",
       "}\n",
       "#T_89ae8_row3_col2, #T_89ae8_row11_col12 {\n",
       "  background-color: #e2dad5;\n",
       "  color: #000000;\n",
       "}\n",
       "#T_89ae8_row3_col4, #T_89ae8_row4_col3 {\n",
       "  background-color: #f49a7b;\n",
       "  color: #000000;\n",
       "}\n",
       "#T_89ae8_row3_col6 {\n",
       "  background-color: #8fb1fe;\n",
       "  color: #000000;\n",
       "}\n",
       "#T_89ae8_row3_col10 {\n",
       "  background-color: #e5d8d1;\n",
       "  color: #000000;\n",
       "}\n",
       "#T_89ae8_row3_col11 {\n",
       "  background-color: #d7dce3;\n",
       "  color: #000000;\n",
       "}\n",
       "#T_89ae8_row3_col12 {\n",
       "  background-color: #f59d7e;\n",
       "  color: #000000;\n",
       "}\n",
       "#T_89ae8_row3_col13 {\n",
       "  background-color: #f7b194;\n",
       "  color: #000000;\n",
       "}\n",
       "#T_89ae8_row3_col15, #T_89ae8_row4_col9, #T_89ae8_row6_col20, #T_89ae8_row10_col7, #T_89ae8_row11_col7 {\n",
       "  background-color: #4c66d6;\n",
       "  color: #f1f1f1;\n",
       "}\n",
       "#T_89ae8_row3_col18, #T_89ae8_row11_col19 {\n",
       "  background-color: #9dbdff;\n",
       "  color: #000000;\n",
       "}\n",
       "#T_89ae8_row3_col20, #T_89ae8_row5_col9, #T_89ae8_row6_col13, #T_89ae8_row15_col7, #T_89ae8_row20_col24, #T_89ae8_row20_col25, #T_89ae8_row24_col19, #T_89ae8_row25_col19 {\n",
       "  background-color: #6f92f3;\n",
       "  color: #f1f1f1;\n",
       "}\n",
       "#T_89ae8_row3_col22 {\n",
       "  background-color: #b9d0f9;\n",
       "  color: #000000;\n",
       "}\n",
       "#T_89ae8_row3_col24, #T_89ae8_row3_col25, #T_89ae8_row6_col22, #T_89ae8_row12_col23, #T_89ae8_row15_col0, #T_89ae8_row24_col18 {\n",
       "  background-color: #6180e9;\n",
       "  color: #f1f1f1;\n",
       "}\n",
       "#T_89ae8_row4_col2 {\n",
       "  background-color: #ed8366;\n",
       "  color: #f1f1f1;\n",
       "}\n",
       "#T_89ae8_row4_col6, #T_89ae8_row13_col23 {\n",
       "  background-color: #799cf8;\n",
       "  color: #f1f1f1;\n",
       "}\n",
       "#T_89ae8_row4_col7, #T_89ae8_row8_col5, #T_89ae8_row12_col16, #T_89ae8_row13_col7, #T_89ae8_row14_col5 {\n",
       "  background-color: #506bda;\n",
       "  color: #f1f1f1;\n",
       "}\n",
       "#T_89ae8_row4_col10, #T_89ae8_row10_col4 {\n",
       "  background-color: #ee8669;\n",
       "  color: #f1f1f1;\n",
       "}\n",
       "#T_89ae8_row4_col12 {\n",
       "  background-color: #f7b599;\n",
       "  color: #000000;\n",
       "}\n",
       "#T_89ae8_row4_col13, #T_89ae8_row13_col4, #T_89ae8_row14_col15, #T_89ae8_row15_col14 {\n",
       "  background-color: #d0473d;\n",
       "  color: #f1f1f1;\n",
       "}\n",
       "#T_89ae8_row5_col6, #T_89ae8_row25_col1 {\n",
       "  background-color: #7396f5;\n",
       "  color: #f1f1f1;\n",
       "}\n",
       "#T_89ae8_row5_col7, #T_89ae8_row6_col4, #T_89ae8_row24_col13, #T_89ae8_row25_col13 {\n",
       "  background-color: #7093f3;\n",
       "  color: #f1f1f1;\n",
       "}\n",
       "#T_89ae8_row5_col8, #T_89ae8_row8_col0, #T_89ae8_row17_col8 {\n",
       "  background-color: #516ddb;\n",
       "  color: #f1f1f1;\n",
       "}\n",
       "#T_89ae8_row5_col10, #T_89ae8_row13_col0, #T_89ae8_row23_col1, #T_89ae8_row23_col2, #T_89ae8_row24_col1, #T_89ae8_row24_col2, #T_89ae8_row24_col4, #T_89ae8_row25_col2, #T_89ae8_row25_col4 {\n",
       "  background-color: #7597f6;\n",
       "  color: #f1f1f1;\n",
       "}\n",
       "#T_89ae8_row5_col12, #T_89ae8_row5_col13, #T_89ae8_row20_col1, #T_89ae8_row20_col2 {\n",
       "  background-color: #85a8fc;\n",
       "  color: #f1f1f1;\n",
       "}\n",
       "#T_89ae8_row5_col14, #T_89ae8_row14_col8, #T_89ae8_row19_col12, #T_89ae8_row23_col12, #T_89ae8_row24_col3, #T_89ae8_row25_col3 {\n",
       "  background-color: #5875e1;\n",
       "  color: #f1f1f1;\n",
       "}\n",
       "#T_89ae8_row5_col19, #T_89ae8_row11_col15, #T_89ae8_row13_col9, #T_89ae8_row15_col13, #T_89ae8_row18_col22, #T_89ae8_row20_col9, #T_89ae8_row22_col18, #T_89ae8_row24_col12 {\n",
       "  background-color: #4e68d8;\n",
       "  color: #f1f1f1;\n",
       "}\n",
       "#T_89ae8_row5_col20, #T_89ae8_row18_col12, #T_89ae8_row20_col5 {\n",
       "  background-color: #9bbcff;\n",
       "  color: #000000;\n",
       "}\n",
       "#T_89ae8_row5_col21, #T_89ae8_row6_col14, #T_89ae8_row6_col17, #T_89ae8_row7_col21, #T_89ae8_row7_col23, #T_89ae8_row7_col24, #T_89ae8_row7_col25, #T_89ae8_row8_col1, #T_89ae8_row8_col3, #T_89ae8_row8_col4, #T_89ae8_row8_col21, #T_89ae8_row9_col21, #T_89ae8_row9_col23, #T_89ae8_row9_col24, #T_89ae8_row9_col25, #T_89ae8_row14_col0, #T_89ae8_row14_col2, #T_89ae8_row14_col6, #T_89ae8_row14_col10, #T_89ae8_row14_col11, #T_89ae8_row14_col12, #T_89ae8_row14_col13, #T_89ae8_row14_col19, #T_89ae8_row14_col21, #T_89ae8_row14_col22, #T_89ae8_row17_col2, #T_89ae8_row17_col11, #T_89ae8_row17_col19, #T_89ae8_row17_col22, #T_89ae8_row18_col21, #T_89ae8_row19_col16, #T_89ae8_row19_col18, #T_89ae8_row19_col21, #T_89ae8_row21_col5, #T_89ae8_row21_col20, #T_89ae8_row23_col8, #T_89ae8_row24_col7, #T_89ae8_row24_col8, #T_89ae8_row24_col9, #T_89ae8_row24_col15, #T_89ae8_row24_col16, #T_89ae8_row25_col7, #T_89ae8_row25_col8, #T_89ae8_row25_col9, #T_89ae8_row25_col15, #T_89ae8_row25_col16 {\n",
       "  background-color: #3b4cc0;\n",
       "  color: #f1f1f1;\n",
       "}\n",
       "#T_89ae8_row5_col23, #T_89ae8_row6_col19, #T_89ae8_row7_col11, #T_89ae8_row8_col19, #T_89ae8_row8_col22, #T_89ae8_row9_col17, #T_89ae8_row10_col16, #T_89ae8_row13_col16, #T_89ae8_row14_col25, #T_89ae8_row15_col4, #T_89ae8_row18_col16, #T_89ae8_row18_col17, #T_89ae8_row19_col7, #T_89ae8_row19_col9, #T_89ae8_row21_col11, #T_89ae8_row22_col19, #T_89ae8_row23_col17 {\n",
       "  background-color: #4358cb;\n",
       "  color: #f1f1f1;\n",
       "}\n",
       "#T_89ae8_row6_col1, #T_89ae8_row6_col11, #T_89ae8_row9_col3, #T_89ae8_row16_col6, #T_89ae8_row19_col23 {\n",
       "  background-color: #5b7ae5;\n",
       "  color: #f1f1f1;\n",
       "}\n",
       "#T_89ae8_row6_col2, #T_89ae8_row12_col24, #T_89ae8_row12_col25, #T_89ae8_row15_col20, #T_89ae8_row16_col0, #T_89ae8_row19_col3 {\n",
       "  background-color: #5a78e4;\n",
       "  color: #f1f1f1;\n",
       "}\n",
       "#T_89ae8_row6_col3, #T_89ae8_row12_col0, #T_89ae8_row20_col4 {\n",
       "  background-color: #86a9fc;\n",
       "  color: #f1f1f1;\n",
       "}\n",
       "#T_89ae8_row6_col5, #T_89ae8_row11_col5, #T_89ae8_row12_col8 {\n",
       "  background-color: #6b8df0;\n",
       "  color: #f1f1f1;\n",
       "}\n",
       "#T_89ae8_row6_col7, #T_89ae8_row23_col24 {\n",
       "  background-color: #f6a586;\n",
       "  color: #000000;\n",
       "}\n",
       "#T_89ae8_row6_col9, #T_89ae8_row9_col6 {\n",
       "  background-color: #f7af91;\n",
       "  color: #000000;\n",
       "}\n",
       "#T_89ae8_row6_col10, #T_89ae8_row9_col16, #T_89ae8_row12_col9, #T_89ae8_row15_col6, #T_89ae8_row16_col8, #T_89ae8_row20_col23, #T_89ae8_row23_col3 {\n",
       "  background-color: #6282ea;\n",
       "  color: #f1f1f1;\n",
       "}\n",
       "#T_89ae8_row6_col16, #T_89ae8_row9_col12, #T_89ae8_row15_col12 {\n",
       "  background-color: #5673e0;\n",
       "  color: #f1f1f1;\n",
       "}\n",
       "#T_89ae8_row7_col0 {\n",
       "  background-color: #f7ad90;\n",
       "  color: #000000;\n",
       "}\n",
       "#T_89ae8_row7_col1, #T_89ae8_row7_col2, #T_89ae8_row7_col19, #T_89ae8_row8_col24, #T_89ae8_row8_col25, #T_89ae8_row9_col19, #T_89ae8_row10_col14, #T_89ae8_row10_col17, #T_89ae8_row14_col18, #T_89ae8_row15_col1, #T_89ae8_row15_col2, #T_89ae8_row15_col22, #T_89ae8_row15_col23, #T_89ae8_row15_col24, #T_89ae8_row15_col25, #T_89ae8_row17_col18, #T_89ae8_row17_col20, #T_89ae8_row18_col20, #T_89ae8_row21_col0, #T_89ae8_row21_col17, #T_89ae8_row22_col14, #T_89ae8_row22_col15, #T_89ae8_row24_col5, #T_89ae8_row25_col5 {\n",
       "  background-color: #3f53c6;\n",
       "  color: #f1f1f1;\n",
       "}\n",
       "#T_89ae8_row7_col5, #T_89ae8_row7_col15, #T_89ae8_row18_col23 {\n",
       "  background-color: #6a8bef;\n",
       "  color: #f1f1f1;\n",
       "}\n",
       "#T_89ae8_row7_col6, #T_89ae8_row25_col23 {\n",
       "  background-color: #f6a385;\n",
       "  color: #000000;\n",
       "}\n",
       "#T_89ae8_row7_col9, #T_89ae8_row9_col7 {\n",
       "  background-color: #c0282f;\n",
       "  color: #f1f1f1;\n",
       "}\n",
       "#T_89ae8_row8_col6, #T_89ae8_row8_col17 {\n",
       "  background-color: #5572df;\n",
       "  color: #f1f1f1;\n",
       "}\n",
       "#T_89ae8_row8_col11, #T_89ae8_row20_col6 {\n",
       "  background-color: #5470de;\n",
       "  color: #f1f1f1;\n",
       "}\n",
       "#T_89ae8_row8_col12, #T_89ae8_row11_col6, #T_89ae8_row12_col7, #T_89ae8_row18_col24, #T_89ae8_row18_col25 {\n",
       "  background-color: #6485ec;\n",
       "  color: #f1f1f1;\n",
       "}\n",
       "#T_89ae8_row8_col15, #T_89ae8_row15_col8, #T_89ae8_row20_col8 {\n",
       "  background-color: #82a6fb;\n",
       "  color: #f1f1f1;\n",
       "}\n",
       "#T_89ae8_row9_col0 {\n",
       "  background-color: #f7b89c;\n",
       "  color: #000000;\n",
       "}\n",
       "#T_89ae8_row10_col3 {\n",
       "  background-color: #e4d9d2;\n",
       "  color: #000000;\n",
       "}\n",
       "#T_89ae8_row10_col11, #T_89ae8_row11_col10, #T_89ae8_row15_col16, #T_89ae8_row16_col15 {\n",
       "  background-color: #b8122a;\n",
       "  color: #f1f1f1;\n",
       "}\n",
       "#T_89ae8_row10_col12 {\n",
       "  background-color: #edd2c3;\n",
       "  color: #000000;\n",
       "}\n",
       "#T_89ae8_row10_col13, #T_89ae8_row13_col10 {\n",
       "  background-color: #e67259;\n",
       "  color: #f1f1f1;\n",
       "}\n",
       "#T_89ae8_row10_col18, #T_89ae8_row18_col10, #T_89ae8_row24_col23 {\n",
       "  background-color: #f7a688;\n",
       "  color: #000000;\n",
       "}\n",
       "#T_89ae8_row10_col20 {\n",
       "  background-color: #a9c6fd;\n",
       "  color: #000000;\n",
       "}\n",
       "#T_89ae8_row10_col22, #T_89ae8_row22_col1, #T_89ae8_row22_col2, #T_89ae8_row22_col10, #T_89ae8_row22_col11 {\n",
       "  background-color: #efcebd;\n",
       "  color: #000000;\n",
       "}\n",
       "#T_89ae8_row10_col23, #T_89ae8_row11_col23, #T_89ae8_row19_col4 {\n",
       "  background-color: #779af7;\n",
       "  color: #f1f1f1;\n",
       "}\n",
       "#T_89ae8_row10_col24, #T_89ae8_row10_col25, #T_89ae8_row23_col4 {\n",
       "  background-color: #7a9df8;\n",
       "  color: #f1f1f1;\n",
       "}\n",
       "#T_89ae8_row11_col13 {\n",
       "  background-color: #ef886b;\n",
       "  color: #f1f1f1;\n",
       "}\n",
       "#T_89ae8_row11_col20 {\n",
       "  background-color: #a7c5fe;\n",
       "  color: #000000;\n",
       "}\n",
       "#T_89ae8_row11_col22, #T_89ae8_row22_col4 {\n",
       "  background-color: #f0cdbb;\n",
       "  color: #000000;\n",
       "}\n",
       "#T_89ae8_row12_col1 {\n",
       "  background-color: #dddcdc;\n",
       "  color: #000000;\n",
       "}\n",
       "#T_89ae8_row12_col2 {\n",
       "  background-color: #d9dce1;\n",
       "  color: #000000;\n",
       "}\n",
       "#T_89ae8_row12_col3 {\n",
       "  background-color: #f59c7d;\n",
       "  color: #000000;\n",
       "}\n",
       "#T_89ae8_row12_col4 {\n",
       "  background-color: #f7b497;\n",
       "  color: #000000;\n",
       "}\n",
       "#T_89ae8_row12_col10 {\n",
       "  background-color: #eed0c0;\n",
       "  color: #000000;\n",
       "}\n",
       "#T_89ae8_row12_col13, #T_89ae8_row13_col2 {\n",
       "  background-color: #f39778;\n",
       "  color: #000000;\n",
       "}\n",
       "#T_89ae8_row12_col18, #T_89ae8_row20_col12 {\n",
       "  background-color: #a1c0ff;\n",
       "  color: #000000;\n",
       "}\n",
       "#T_89ae8_row12_col20 {\n",
       "  background-color: #a5c3fe;\n",
       "  color: #000000;\n",
       "}\n",
       "#T_89ae8_row12_col22 {\n",
       "  background-color: #bbd1f8;\n",
       "  color: #000000;\n",
       "}\n",
       "#T_89ae8_row13_col1 {\n",
       "  background-color: #f29274;\n",
       "  color: #f1f1f1;\n",
       "}\n",
       "#T_89ae8_row13_col3 {\n",
       "  background-color: #f7b396;\n",
       "  color: #000000;\n",
       "}\n",
       "#T_89ae8_row13_col5 {\n",
       "  background-color: #84a7fc;\n",
       "  color: #f1f1f1;\n",
       "}\n",
       "#T_89ae8_row13_col11 {\n",
       "  background-color: #f08a6c;\n",
       "  color: #f1f1f1;\n",
       "}\n",
       "#T_89ae8_row13_col12 {\n",
       "  background-color: #f4987a;\n",
       "  color: #000000;\n",
       "}\n",
       "#T_89ae8_row13_col18, #T_89ae8_row18_col13 {\n",
       "  background-color: #d4dbe6;\n",
       "  color: #000000;\n",
       "}\n",
       "#T_89ae8_row13_col20 {\n",
       "  background-color: #b2ccfb;\n",
       "  color: #000000;\n",
       "}\n",
       "#T_89ae8_row13_col22, #T_89ae8_row22_col13 {\n",
       "  background-color: #edd1c2;\n",
       "  color: #000000;\n",
       "}\n",
       "#T_89ae8_row14_col16, #T_89ae8_row16_col17, #T_89ae8_row17_col16 {\n",
       "  background-color: #ca3b37;\n",
       "  color: #f1f1f1;\n",
       "}\n",
       "#T_89ae8_row14_col17, #T_89ae8_row17_col14 {\n",
       "  background-color: #ba162b;\n",
       "  color: #f1f1f1;\n",
       "}\n",
       "#T_89ae8_row15_col5 {\n",
       "  background-color: #8db0fe;\n",
       "  color: #000000;\n",
       "}\n",
       "#T_89ae8_row15_col9, #T_89ae8_row20_col3 {\n",
       "  background-color: #6e90f2;\n",
       "  color: #f1f1f1;\n",
       "}\n",
       "#T_89ae8_row15_col17, #T_89ae8_row17_col15 {\n",
       "  background-color: #d24b40;\n",
       "  color: #f1f1f1;\n",
       "}\n",
       "#T_89ae8_row16_col14 {\n",
       "  background-color: #c83836;\n",
       "  color: #f1f1f1;\n",
       "}\n",
       "#T_89ae8_row18_col1, #T_89ae8_row23_col25 {\n",
       "  background-color: #f6a283;\n",
       "  color: #000000;\n",
       "}\n",
       "#T_89ae8_row18_col4 {\n",
       "  background-color: #d6dce4;\n",
       "  color: #000000;\n",
       "}\n",
       "#T_89ae8_row19_col1 {\n",
       "  background-color: #92b4fe;\n",
       "  color: #000000;\n",
       "}\n",
       "#T_89ae8_row19_col2 {\n",
       "  background-color: #93b5fe;\n",
       "  color: #000000;\n",
       "}\n",
       "#T_89ae8_row19_col11 {\n",
       "  background-color: #97b8ff;\n",
       "  color: #000000;\n",
       "}\n",
       "#T_89ae8_row20_col10 {\n",
       "  background-color: #abc8fd;\n",
       "  color: #000000;\n",
       "}\n",
       "#T_89ae8_row20_col11 {\n",
       "  background-color: #a6c4fe;\n",
       "  color: #000000;\n",
       "}\n",
       "#T_89ae8_row20_col13 {\n",
       "  background-color: #b3cdfb;\n",
       "  color: #000000;\n",
       "}\n",
       "#T_89ae8_row22_col3, #T_89ae8_row22_col12 {\n",
       "  background-color: #b6cefa;\n",
       "  color: #000000;\n",
       "}\n",
       "#T_89ae8_row24_col25, #T_89ae8_row25_col24 {\n",
       "  background-color: #b50927;\n",
       "  color: #f1f1f1;\n",
       "}\n",
       "</style>\n",
       "<table id=\"T_89ae8\">\n",
       "  <thead>\n",
       "    <tr>\n",
       "      <th class=\"blank level0\" >&nbsp;</th>\n",
       "      <th id=\"T_89ae8_level0_col0\" class=\"col_heading level0 col0\" >DepTime</th>\n",
       "      <th id=\"T_89ae8_level0_col1\" class=\"col_heading level0 col1\" >DepDelay</th>\n",
       "      <th id=\"T_89ae8_level0_col2\" class=\"col_heading level0 col2\" >DepDelayMinutes</th>\n",
       "      <th id=\"T_89ae8_level0_col3\" class=\"col_heading level0 col3\" >DepDel15</th>\n",
       "      <th id=\"T_89ae8_level0_col4\" class=\"col_heading level0 col4\" >DepartureDelayGroups</th>\n",
       "      <th id=\"T_89ae8_level0_col5\" class=\"col_heading level0 col5\" >TaxiOut</th>\n",
       "      <th id=\"T_89ae8_level0_col6\" class=\"col_heading level0 col6\" >WheelsOff</th>\n",
       "      <th id=\"T_89ae8_level0_col7\" class=\"col_heading level0 col7\" >WheelsOn</th>\n",
       "      <th id=\"T_89ae8_level0_col8\" class=\"col_heading level0 col8\" >TaxiIn</th>\n",
       "      <th id=\"T_89ae8_level0_col9\" class=\"col_heading level0 col9\" >ArrTime</th>\n",
       "      <th id=\"T_89ae8_level0_col10\" class=\"col_heading level0 col10\" >ArrDelay</th>\n",
       "      <th id=\"T_89ae8_level0_col11\" class=\"col_heading level0 col11\" >ArrDelayMinutes</th>\n",
       "      <th id=\"T_89ae8_level0_col12\" class=\"col_heading level0 col12\" >ArrDel15</th>\n",
       "      <th id=\"T_89ae8_level0_col13\" class=\"col_heading level0 col13\" >ArrivalDelayGroups</th>\n",
       "      <th id=\"T_89ae8_level0_col14\" class=\"col_heading level0 col14\" >CRSElapsedTime</th>\n",
       "      <th id=\"T_89ae8_level0_col15\" class=\"col_heading level0 col15\" >ActualElapsedTime</th>\n",
       "      <th id=\"T_89ae8_level0_col16\" class=\"col_heading level0 col16\" >AirTime</th>\n",
       "      <th id=\"T_89ae8_level0_col17\" class=\"col_heading level0 col17\" >Distance</th>\n",
       "      <th id=\"T_89ae8_level0_col18\" class=\"col_heading level0 col18\" >CarrierDelay</th>\n",
       "      <th id=\"T_89ae8_level0_col19\" class=\"col_heading level0 col19\" >WeatherDelay</th>\n",
       "      <th id=\"T_89ae8_level0_col20\" class=\"col_heading level0 col20\" >NASDelay</th>\n",
       "      <th id=\"T_89ae8_level0_col21\" class=\"col_heading level0 col21\" >SecurityDelay</th>\n",
       "      <th id=\"T_89ae8_level0_col22\" class=\"col_heading level0 col22\" >LateAircraftDelay</th>\n",
       "      <th id=\"T_89ae8_level0_col23\" class=\"col_heading level0 col23\" >FirstDepTime</th>\n",
       "      <th id=\"T_89ae8_level0_col24\" class=\"col_heading level0 col24\" >TotalAddGTime</th>\n",
       "      <th id=\"T_89ae8_level0_col25\" class=\"col_heading level0 col25\" >LongestAddGTime</th>\n",
       "    </tr>\n",
       "  </thead>\n",
       "  <tbody>\n",
       "    <tr>\n",
       "      <th id=\"T_89ae8_level0_row0\" class=\"row_heading level0 row0\" >DepTime</th>\n",
       "      <td id=\"T_89ae8_row0_col0\" class=\"data row0 col0\" >1.000000</td>\n",
       "      <td id=\"T_89ae8_row0_col1\" class=\"data row0 col1\" >0.133076</td>\n",
       "      <td id=\"T_89ae8_row0_col2\" class=\"data row0 col2\" >0.129948</td>\n",
       "      <td id=\"T_89ae8_row0_col3\" class=\"data row0 col3\" >0.250080</td>\n",
       "      <td id=\"T_89ae8_row0_col4\" class=\"data row0 col4\" >0.191388</td>\n",
       "      <td id=\"T_89ae8_row0_col5\" class=\"data row0 col5\" >0.131614</td>\n",
       "      <td id=\"T_89ae8_row0_col6\" class=\"data row0 col6\" >0.969472</td>\n",
       "      <td id=\"T_89ae8_row0_col7\" class=\"data row0 col7\" >0.693240</td>\n",
       "      <td id=\"T_89ae8_row0_col8\" class=\"data row0 col8\" >0.063722</td>\n",
       "      <td id=\"T_89ae8_row0_col9\" class=\"data row0 col9\" >0.663341</td>\n",
       "      <td id=\"T_89ae8_row0_col10\" class=\"data row0 col10\" >0.126421</td>\n",
       "      <td id=\"T_89ae8_row0_col11\" class=\"data row0 col11\" >0.120610</td>\n",
       "      <td id=\"T_89ae8_row0_col12\" class=\"data row0 col12\" >0.222469</td>\n",
       "      <td id=\"T_89ae8_row0_col13\" class=\"data row0 col13\" >0.172232</td>\n",
       "      <td id=\"T_89ae8_row0_col14\" class=\"data row0 col14\" >-0.013604</td>\n",
       "      <td id=\"T_89ae8_row0_col15\" class=\"data row0 col15\" >0.110510</td>\n",
       "      <td id=\"T_89ae8_row0_col16\" class=\"data row0 col16\" >0.091511</td>\n",
       "      <td id=\"T_89ae8_row0_col17\" class=\"data row0 col17\" >-0.004102</td>\n",
       "      <td id=\"T_89ae8_row0_col18\" class=\"data row0 col18\" >0.039401</td>\n",
       "      <td id=\"T_89ae8_row0_col19\" class=\"data row0 col19\" >0.021194</td>\n",
       "      <td id=\"T_89ae8_row0_col20\" class=\"data row0 col20\" >0.057190</td>\n",
       "      <td id=\"T_89ae8_row0_col21\" class=\"data row0 col21\" >0.004569</td>\n",
       "      <td id=\"T_89ae8_row0_col22\" class=\"data row0 col22\" >0.127657</td>\n",
       "      <td id=\"T_89ae8_row0_col23\" class=\"data row0 col23\" >0.040475</td>\n",
       "      <td id=\"T_89ae8_row0_col24\" class=\"data row0 col24\" >0.024034</td>\n",
       "      <td id=\"T_89ae8_row0_col25\" class=\"data row0 col25\" >0.024079</td>\n",
       "    </tr>\n",
       "    <tr>\n",
       "      <th id=\"T_89ae8_level0_row1\" class=\"row_heading level0 row1\" >DepDelay</th>\n",
       "      <td id=\"T_89ae8_row1_col0\" class=\"data row1 col0\" >0.133076</td>\n",
       "      <td id=\"T_89ae8_row1_col1\" class=\"data row1 col1\" >1.000000</td>\n",
       "      <td id=\"T_89ae8_row1_col2\" class=\"data row1 col2\" >0.997910</td>\n",
       "      <td id=\"T_89ae8_row1_col3\" class=\"data row1 col3\" >0.548335</td>\n",
       "      <td id=\"T_89ae8_row1_col4\" class=\"data row1 col4\" >0.821624</td>\n",
       "      <td id=\"T_89ae8_row1_col5\" class=\"data row1 col5\" >0.051616</td>\n",
       "      <td id=\"T_89ae8_row1_col6\" class=\"data row1 col6\" >0.122346</td>\n",
       "      <td id=\"T_89ae8_row1_col7\" class=\"data row1 col7\" >0.036071</td>\n",
       "      <td id=\"T_89ae8_row1_col8\" class=\"data row1 col8\" >0.017112</td>\n",
       "      <td id=\"T_89ae8_row1_col9\" class=\"data row1 col9\" >0.029398</td>\n",
       "      <td id=\"T_89ae8_row1_col10\" class=\"data row1 col10\" >0.964055</td>\n",
       "      <td id=\"T_89ae8_row1_col11\" class=\"data row1 col11\" >0.972308</td>\n",
       "      <td id=\"T_89ae8_row1_col12\" class=\"data row1 col12\" >0.508926</td>\n",
       "      <td id=\"T_89ae8_row1_col13\" class=\"data row1 col13\" >0.770756</td>\n",
       "      <td id=\"T_89ae8_row1_col14\" class=\"data row1 col14\" >0.022724</td>\n",
       "      <td id=\"T_89ae8_row1_col15\" class=\"data row1 col15\" >0.035210</td>\n",
       "      <td id=\"T_89ae8_row1_col16\" class=\"data row1 col16\" >0.028413</td>\n",
       "      <td id=\"T_89ae8_row1_col17\" class=\"data row1 col17\" >0.021589</td>\n",
       "      <td id=\"T_89ae8_row1_col18\" class=\"data row1 col18\" >0.731257</td>\n",
       "      <td id=\"T_89ae8_row1_col19\" class=\"data row1 col19\" >0.275693</td>\n",
       "      <td id=\"T_89ae8_row1_col20\" class=\"data row1 col20\" >0.242059</td>\n",
       "      <td id=\"T_89ae8_row1_col21\" class=\"data row1 col21\" >0.038098</td>\n",
       "      <td id=\"T_89ae8_row1_col22\" class=\"data row1 col22\" >0.591870</td>\n",
       "      <td id=\"T_89ae8_row1_col23\" class=\"data row1 col23\" >0.194756</td>\n",
       "      <td id=\"T_89ae8_row1_col24\" class=\"data row1 col24\" >0.195455</td>\n",
       "      <td id=\"T_89ae8_row1_col25\" class=\"data row1 col25\" >0.193704</td>\n",
       "    </tr>\n",
       "    <tr>\n",
       "      <th id=\"T_89ae8_level0_row2\" class=\"row_heading level0 row2\" >DepDelayMinutes</th>\n",
       "      <td id=\"T_89ae8_row2_col0\" class=\"data row2 col0\" >0.129948</td>\n",
       "      <td id=\"T_89ae8_row2_col1\" class=\"data row2 col1\" >0.997910</td>\n",
       "      <td id=\"T_89ae8_row2_col2\" class=\"data row2 col2\" >1.000000</td>\n",
       "      <td id=\"T_89ae8_row2_col3\" class=\"data row2 col3\" >0.530038</td>\n",
       "      <td id=\"T_89ae8_row2_col4\" class=\"data row2 col4\" >0.807738</td>\n",
       "      <td id=\"T_89ae8_row2_col5\" class=\"data row2 col5\" >0.054493</td>\n",
       "      <td id=\"T_89ae8_row2_col6\" class=\"data row2 col6\" >0.119551</td>\n",
       "      <td id=\"T_89ae8_row2_col7\" class=\"data row2 col7\" >0.035403</td>\n",
       "      <td id=\"T_89ae8_row2_col8\" class=\"data row2 col8\" >0.022915</td>\n",
       "      <td id=\"T_89ae8_row2_col9\" class=\"data row2 col9\" >0.029179</td>\n",
       "      <td id=\"T_89ae8_row2_col10\" class=\"data row2 col10\" >0.961990</td>\n",
       "      <td id=\"T_89ae8_row2_col11\" class=\"data row2 col11\" >0.975506</td>\n",
       "      <td id=\"T_89ae8_row2_col12\" class=\"data row2 col12\" >0.494021</td>\n",
       "      <td id=\"T_89ae8_row2_col13\" class=\"data row2 col13\" >0.758582</td>\n",
       "      <td id=\"T_89ae8_row2_col14\" class=\"data row2 col14\" >0.018152</td>\n",
       "      <td id=\"T_89ae8_row2_col15\" class=\"data row2 col15\" >0.034029</td>\n",
       "      <td id=\"T_89ae8_row2_col16\" class=\"data row2 col16\" >0.026230</td>\n",
       "      <td id=\"T_89ae8_row2_col17\" class=\"data row2 col17\" >0.016364</td>\n",
       "      <td id=\"T_89ae8_row2_col18\" class=\"data row2 col18\" >0.736442</td>\n",
       "      <td id=\"T_89ae8_row2_col19\" class=\"data row2 col19\" >0.277687</td>\n",
       "      <td id=\"T_89ae8_row2_col20\" class=\"data row2 col20\" >0.240199</td>\n",
       "      <td id=\"T_89ae8_row2_col21\" class=\"data row2 col21\" >0.037885</td>\n",
       "      <td id=\"T_89ae8_row2_col22\" class=\"data row2 col22\" >0.592094</td>\n",
       "      <td id=\"T_89ae8_row2_col23\" class=\"data row2 col23\" >0.194445</td>\n",
       "      <td id=\"T_89ae8_row2_col24\" class=\"data row2 col24\" >0.196090</td>\n",
       "      <td id=\"T_89ae8_row2_col25\" class=\"data row2 col25\" >0.194277</td>\n",
       "    </tr>\n",
       "    <tr>\n",
       "      <th id=\"T_89ae8_level0_row3\" class=\"row_heading level0 row3\" >DepDel15</th>\n",
       "      <td id=\"T_89ae8_row3_col0\" class=\"data row3 col0\" >0.250080</td>\n",
       "      <td id=\"T_89ae8_row3_col1\" class=\"data row3 col1\" >0.548335</td>\n",
       "      <td id=\"T_89ae8_row3_col2\" class=\"data row3 col2\" >0.530038</td>\n",
       "      <td id=\"T_89ae8_row3_col3\" class=\"data row3 col3\" >1.000000</td>\n",
       "      <td id=\"T_89ae8_row3_col4\" class=\"data row3 col4\" >0.749702</td>\n",
       "      <td id=\"T_89ae8_row3_col5\" class=\"data row3 col5\" >0.061194</td>\n",
       "      <td id=\"T_89ae8_row3_col6\" class=\"data row3 col6\" >0.239661</td>\n",
       "      <td id=\"T_89ae8_row3_col7\" class=\"data row3 col7\" >0.123818</td>\n",
       "      <td id=\"T_89ae8_row3_col8\" class=\"data row3 col8\" >0.007356</td>\n",
       "      <td id=\"T_89ae8_row3_col9\" class=\"data row3 col9\" >0.112351</td>\n",
       "      <td id=\"T_89ae8_row3_col10\" class=\"data row3 col10\" >0.531001</td>\n",
       "      <td id=\"T_89ae8_row3_col11\" class=\"data row3 col11\" >0.485089</td>\n",
       "      <td id=\"T_89ae8_row3_col12\" class=\"data row3 col12\" >0.747034</td>\n",
       "      <td id=\"T_89ae8_row3_col13\" class=\"data row3 col13\" >0.683952</td>\n",
       "      <td id=\"T_89ae8_row3_col14\" class=\"data row3 col14\" >0.029611</td>\n",
       "      <td id=\"T_89ae8_row3_col15\" class=\"data row3 col15\" >0.056191</td>\n",
       "      <td id=\"T_89ae8_row3_col16\" class=\"data row3 col16\" >0.049983</td>\n",
       "      <td id=\"T_89ae8_row3_col17\" class=\"data row3 col17\" >0.033488</td>\n",
       "      <td id=\"T_89ae8_row3_col18\" class=\"data row3 col18\" >0.289182</td>\n",
       "      <td id=\"T_89ae8_row3_col19\" class=\"data row3 col19\" >0.108302</td>\n",
       "      <td id=\"T_89ae8_row3_col20\" class=\"data row3 col20\" >0.169526</td>\n",
       "      <td id=\"T_89ae8_row3_col21\" class=\"data row3 col21\" >0.030617</td>\n",
       "      <td id=\"T_89ae8_row3_col22\" class=\"data row3 col22\" >0.375331</td>\n",
       "      <td id=\"T_89ae8_row3_col23\" class=\"data row3 col23\" >0.131456</td>\n",
       "      <td id=\"T_89ae8_row3_col24\" class=\"data row3 col24\" >0.102410</td>\n",
       "      <td id=\"T_89ae8_row3_col25\" class=\"data row3 col25\" >0.103359</td>\n",
       "    </tr>\n",
       "    <tr>\n",
       "      <th id=\"T_89ae8_level0_row4\" class=\"row_heading level0 row4\" >DepartureDelayGroups</th>\n",
       "      <td id=\"T_89ae8_row4_col0\" class=\"data row4 col0\" >0.191388</td>\n",
       "      <td id=\"T_89ae8_row4_col1\" class=\"data row4 col1\" >0.821624</td>\n",
       "      <td id=\"T_89ae8_row4_col2\" class=\"data row4 col2\" >0.807738</td>\n",
       "      <td id=\"T_89ae8_row4_col3\" class=\"data row4 col3\" >0.749702</td>\n",
       "      <td id=\"T_89ae8_row4_col4\" class=\"data row4 col4\" >1.000000</td>\n",
       "      <td id=\"T_89ae8_row4_col5\" class=\"data row4 col5\" >0.052532</td>\n",
       "      <td id=\"T_89ae8_row4_col6\" class=\"data row4 col6\" >0.176179</td>\n",
       "      <td id=\"T_89ae8_row4_col7\" class=\"data row4 col7\" >0.051593</td>\n",
       "      <td id=\"T_89ae8_row4_col8\" class=\"data row4 col8\" >0.009093</td>\n",
       "      <td id=\"T_89ae8_row4_col9\" class=\"data row4 col9\" >0.041560</td>\n",
       "      <td id=\"T_89ae8_row4_col10\" class=\"data row4 col10\" >0.795042</td>\n",
       "      <td id=\"T_89ae8_row4_col11\" class=\"data row4 col11\" >0.772539</td>\n",
       "      <td id=\"T_89ae8_row4_col12\" class=\"data row4 col12\" >0.679143</td>\n",
       "      <td id=\"T_89ae8_row4_col13\" class=\"data row4 col13\" >0.921125</td>\n",
       "      <td id=\"T_89ae8_row4_col14\" class=\"data row4 col14\" >0.031511</td>\n",
       "      <td id=\"T_89ae8_row4_col15\" class=\"data row4 col15\" >0.036633</td>\n",
       "      <td id=\"T_89ae8_row4_col16\" class=\"data row4 col16\" >0.030629</td>\n",
       "      <td id=\"T_89ae8_row4_col17\" class=\"data row4 col17\" >0.031070</td>\n",
       "      <td id=\"T_89ae8_row4_col18\" class=\"data row4 col18\" >0.478633</td>\n",
       "      <td id=\"T_89ae8_row4_col19\" class=\"data row4 col19\" >0.198134</td>\n",
       "      <td id=\"T_89ae8_row4_col20\" class=\"data row4 col20\" >0.238486</td>\n",
       "      <td id=\"T_89ae8_row4_col21\" class=\"data row4 col21\" >0.035971</td>\n",
       "      <td id=\"T_89ae8_row4_col22\" class=\"data row4 col22\" >0.591963</td>\n",
       "      <td id=\"T_89ae8_row4_col23\" class=\"data row4 col23\" >0.203157</td>\n",
       "      <td id=\"T_89ae8_row4_col24\" class=\"data row4 col24\" >0.189236</td>\n",
       "      <td id=\"T_89ae8_row4_col25\" class=\"data row4 col25\" >0.189724</td>\n",
       "    </tr>\n",
       "    <tr>\n",
       "      <th id=\"T_89ae8_level0_row5\" class=\"row_heading level0 row5\" >TaxiOut</th>\n",
       "      <td id=\"T_89ae8_row5_col0\" class=\"data row5 col0\" >0.131614</td>\n",
       "      <td id=\"T_89ae8_row5_col1\" class=\"data row5 col1\" >0.051616</td>\n",
       "      <td id=\"T_89ae8_row5_col2\" class=\"data row5 col2\" >0.054493</td>\n",
       "      <td id=\"T_89ae8_row5_col3\" class=\"data row5 col3\" >0.061194</td>\n",
       "      <td id=\"T_89ae8_row5_col4\" class=\"data row5 col4\" >0.052532</td>\n",
       "      <td id=\"T_89ae8_row5_col5\" class=\"data row5 col5\" >1.000000</td>\n",
       "      <td id=\"T_89ae8_row5_col6\" class=\"data row5 col6\" >0.157956</td>\n",
       "      <td id=\"T_89ae8_row5_col7\" class=\"data row5 col7\" >0.152091</td>\n",
       "      <td id=\"T_89ae8_row5_col8\" class=\"data row5 col8\" >0.073699</td>\n",
       "      <td id=\"T_89ae8_row5_col9\" class=\"data row5 col9\" >0.148759</td>\n",
       "      <td id=\"T_89ae8_row5_col10\" class=\"data row5 col10\" >0.176186</td>\n",
       "      <td id=\"T_89ae8_row5_col11\" class=\"data row5 col11\" >0.154931</td>\n",
       "      <td id=\"T_89ae8_row5_col12\" class=\"data row5 col12\" >0.244984</td>\n",
       "      <td id=\"T_89ae8_row5_col13\" class=\"data row5 col13\" >0.226467</td>\n",
       "      <td id=\"T_89ae8_row5_col14\" class=\"data row5 col14\" >0.076168</td>\n",
       "      <td id=\"T_89ae8_row5_col15\" class=\"data row5 col15\" >0.254566</td>\n",
       "      <td id=\"T_89ae8_row5_col16\" class=\"data row5 col16\" >0.122944</td>\n",
       "      <td id=\"T_89ae8_row5_col17\" class=\"data row5 col17\" >0.037387</td>\n",
       "      <td id=\"T_89ae8_row5_col18\" class=\"data row5 col18\" >0.045944</td>\n",
       "      <td id=\"T_89ae8_row5_col19\" class=\"data row5 col19\" >0.054930</td>\n",
       "      <td id=\"T_89ae8_row5_col20\" class=\"data row5 col20\" >0.293551</td>\n",
       "      <td id=\"T_89ae8_row5_col21\" class=\"data row5 col21\" >0.002973</td>\n",
       "      <td id=\"T_89ae8_row5_col22\" class=\"data row5 col22\" >0.035166</td>\n",
       "      <td id=\"T_89ae8_row5_col23\" class=\"data row5 col23\" >0.018473</td>\n",
       "      <td id=\"T_89ae8_row5_col24\" class=\"data row5 col24\" >0.019728</td>\n",
       "      <td id=\"T_89ae8_row5_col25\" class=\"data row5 col25\" >0.020374</td>\n",
       "    </tr>\n",
       "    <tr>\n",
       "      <th id=\"T_89ae8_level0_row6\" class=\"row_heading level0 row6\" >WheelsOff</th>\n",
       "      <td id=\"T_89ae8_row6_col0\" class=\"data row6 col0\" >0.969472</td>\n",
       "      <td id=\"T_89ae8_row6_col1\" class=\"data row6 col1\" >0.122346</td>\n",
       "      <td id=\"T_89ae8_row6_col2\" class=\"data row6 col2\" >0.119551</td>\n",
       "      <td id=\"T_89ae8_row6_col3\" class=\"data row6 col3\" >0.239661</td>\n",
       "      <td id=\"T_89ae8_row6_col4\" class=\"data row6 col4\" >0.176179</td>\n",
       "      <td id=\"T_89ae8_row6_col5\" class=\"data row6 col5\" >0.157956</td>\n",
       "      <td id=\"T_89ae8_row6_col6\" class=\"data row6 col6\" >1.000000</td>\n",
       "      <td id=\"T_89ae8_row6_col7\" class=\"data row6 col7\" >0.716570</td>\n",
       "      <td id=\"T_89ae8_row6_col8\" class=\"data row6 col8\" >0.067224</td>\n",
       "      <td id=\"T_89ae8_row6_col9\" class=\"data row6 col9\" >0.686509</td>\n",
       "      <td id=\"T_89ae8_row6_col10\" class=\"data row6 col10\" >0.121537</td>\n",
       "      <td id=\"T_89ae8_row6_col11\" class=\"data row6 col11\" >0.115665</td>\n",
       "      <td id=\"T_89ae8_row6_col12\" class=\"data row6 col12\" >0.219987</td>\n",
       "      <td id=\"T_89ae8_row6_col13\" class=\"data row6 col13\" >0.165193</td>\n",
       "      <td id=\"T_89ae8_row6_col14\" class=\"data row6 col14\" >-0.022760</td>\n",
       "      <td id=\"T_89ae8_row6_col15\" class=\"data row6 col15\" >0.108453</td>\n",
       "      <td id=\"T_89ae8_row6_col16\" class=\"data row6 col16\" >0.085455</td>\n",
       "      <td id=\"T_89ae8_row6_col17\" class=\"data row6 col17\" >-0.016689</td>\n",
       "      <td id=\"T_89ae8_row6_col18\" class=\"data row6 col18\" >0.036328</td>\n",
       "      <td id=\"T_89ae8_row6_col19\" class=\"data row6 col19\" >0.020650</td>\n",
       "      <td id=\"T_89ae8_row6_col20\" class=\"data row6 col20\" >0.062573</td>\n",
       "      <td id=\"T_89ae8_row6_col21\" class=\"data row6 col21\" >0.004569</td>\n",
       "      <td id=\"T_89ae8_row6_col22\" class=\"data row6 col22\" >0.119430</td>\n",
       "      <td id=\"T_89ae8_row6_col23\" class=\"data row6 col23\" >0.013385</td>\n",
       "      <td id=\"T_89ae8_row6_col24\" class=\"data row6 col24\" >-0.009408</td>\n",
       "      <td id=\"T_89ae8_row6_col25\" class=\"data row6 col25\" >-0.008928</td>\n",
       "    </tr>\n",
       "    <tr>\n",
       "      <th id=\"T_89ae8_level0_row7\" class=\"row_heading level0 row7\" >WheelsOn</th>\n",
       "      <td id=\"T_89ae8_row7_col0\" class=\"data row7 col0\" >0.693240</td>\n",
       "      <td id=\"T_89ae8_row7_col1\" class=\"data row7 col1\" >0.036071</td>\n",
       "      <td id=\"T_89ae8_row7_col2\" class=\"data row7 col2\" >0.035403</td>\n",
       "      <td id=\"T_89ae8_row7_col3\" class=\"data row7 col3\" >0.123818</td>\n",
       "      <td id=\"T_89ae8_row7_col4\" class=\"data row7 col4\" >0.051593</td>\n",
       "      <td id=\"T_89ae8_row7_col5\" class=\"data row7 col5\" >0.152091</td>\n",
       "      <td id=\"T_89ae8_row7_col6\" class=\"data row7 col6\" >0.716570</td>\n",
       "      <td id=\"T_89ae8_row7_col7\" class=\"data row7 col7\" >1.000000</td>\n",
       "      <td id=\"T_89ae8_row7_col8\" class=\"data row7 col8\" >0.095980</td>\n",
       "      <td id=\"T_89ae8_row7_col9\" class=\"data row7 col9\" >0.966094</td>\n",
       "      <td id=\"T_89ae8_row7_col10\" class=\"data row7 col10\" >0.040165</td>\n",
       "      <td id=\"T_89ae8_row7_col11\" class=\"data row7 col11\" >0.039863</td>\n",
       "      <td id=\"T_89ae8_row7_col12\" class=\"data row7 col12\" >0.118113</td>\n",
       "      <td id=\"T_89ae8_row7_col13\" class=\"data row7 col13\" >0.052592</td>\n",
       "      <td id=\"T_89ae8_row7_col14\" class=\"data row7 col14\" >0.015502</td>\n",
       "      <td id=\"T_89ae8_row7_col15\" class=\"data row7 col15\" >0.147855</td>\n",
       "      <td id=\"T_89ae8_row7_col16\" class=\"data row7 col16\" >0.124570</td>\n",
       "      <td id=\"T_89ae8_row7_col17\" class=\"data row7 col17\" >0.016844</td>\n",
       "      <td id=\"T_89ae8_row7_col18\" class=\"data row7 col18\" >0.001937</td>\n",
       "      <td id=\"T_89ae8_row7_col19\" class=\"data row7 col19\" >0.009138</td>\n",
       "      <td id=\"T_89ae8_row7_col20\" class=\"data row7 col20\" >0.048203</td>\n",
       "      <td id=\"T_89ae8_row7_col21\" class=\"data row7 col21\" >0.002280</td>\n",
       "      <td id=\"T_89ae8_row7_col22\" class=\"data row7 col22\" >0.035357</td>\n",
       "      <td id=\"T_89ae8_row7_col23\" class=\"data row7 col23\" >-0.008364</td>\n",
       "      <td id=\"T_89ae8_row7_col24\" class=\"data row7 col24\" >-0.020983</td>\n",
       "      <td id=\"T_89ae8_row7_col25\" class=\"data row7 col25\" >-0.020555</td>\n",
       "    </tr>\n",
       "    <tr>\n",
       "      <th id=\"T_89ae8_level0_row8\" class=\"row_heading level0 row8\" >TaxiIn</th>\n",
       "      <td id=\"T_89ae8_row8_col0\" class=\"data row8 col0\" >0.063722</td>\n",
       "      <td id=\"T_89ae8_row8_col1\" class=\"data row8 col1\" >0.017112</td>\n",
       "      <td id=\"T_89ae8_row8_col2\" class=\"data row8 col2\" >0.022915</td>\n",
       "      <td id=\"T_89ae8_row8_col3\" class=\"data row8 col3\" >0.007356</td>\n",
       "      <td id=\"T_89ae8_row8_col4\" class=\"data row8 col4\" >0.009093</td>\n",
       "      <td id=\"T_89ae8_row8_col5\" class=\"data row8 col5\" >0.073699</td>\n",
       "      <td id=\"T_89ae8_row8_col6\" class=\"data row8 col6\" >0.067224</td>\n",
       "      <td id=\"T_89ae8_row8_col7\" class=\"data row8 col7\" >0.095980</td>\n",
       "      <td id=\"T_89ae8_row8_col8\" class=\"data row8 col8\" >1.000000</td>\n",
       "      <td id=\"T_89ae8_row8_col9\" class=\"data row8 col9\" >0.096328</td>\n",
       "      <td id=\"T_89ae8_row8_col10\" class=\"data row8 col10\" >0.108542</td>\n",
       "      <td id=\"T_89ae8_row8_col11\" class=\"data row8 col11\" >0.095400</td>\n",
       "      <td id=\"T_89ae8_row8_col12\" class=\"data row8 col12\" >0.151333</td>\n",
       "      <td id=\"T_89ae8_row8_col13\" class=\"data row8 col13\" >0.136949</td>\n",
       "      <td id=\"T_89ae8_row8_col14\" class=\"data row8 col14\" >0.094655</td>\n",
       "      <td id=\"T_89ae8_row8_col15\" class=\"data row8 col15\" >0.217998</td>\n",
       "      <td id=\"T_89ae8_row8_col16\" class=\"data row8 col16\" >0.124435</td>\n",
       "      <td id=\"T_89ae8_row8_col17\" class=\"data row8 col17\" >0.071899</td>\n",
       "      <td id=\"T_89ae8_row8_col18\" class=\"data row8 col18\" >0.017157</td>\n",
       "      <td id=\"T_89ae8_row8_col19\" class=\"data row8 col19\" >0.017289</td>\n",
       "      <td id=\"T_89ae8_row8_col20\" class=\"data row8 col20\" >0.217296</td>\n",
       "      <td id=\"T_89ae8_row8_col21\" class=\"data row8 col21\" >0.001523</td>\n",
       "      <td id=\"T_89ae8_row8_col22\" class=\"data row8 col22\" >0.024135</td>\n",
       "      <td id=\"T_89ae8_row8_col23\" class=\"data row8 col23\" >-0.000705</td>\n",
       "      <td id=\"T_89ae8_row8_col24\" class=\"data row8 col24\" >-0.002943</td>\n",
       "      <td id=\"T_89ae8_row8_col25\" class=\"data row8 col25\" >-0.002707</td>\n",
       "    </tr>\n",
       "    <tr>\n",
       "      <th id=\"T_89ae8_level0_row9\" class=\"row_heading level0 row9\" >ArrTime</th>\n",
       "      <td id=\"T_89ae8_row9_col0\" class=\"data row9 col0\" >0.663341</td>\n",
       "      <td id=\"T_89ae8_row9_col1\" class=\"data row9 col1\" >0.029398</td>\n",
       "      <td id=\"T_89ae8_row9_col2\" class=\"data row9 col2\" >0.029179</td>\n",
       "      <td id=\"T_89ae8_row9_col3\" class=\"data row9 col3\" >0.112351</td>\n",
       "      <td id=\"T_89ae8_row9_col4\" class=\"data row9 col4\" >0.041560</td>\n",
       "      <td id=\"T_89ae8_row9_col5\" class=\"data row9 col5\" >0.148759</td>\n",
       "      <td id=\"T_89ae8_row9_col6\" class=\"data row9 col6\" >0.686509</td>\n",
       "      <td id=\"T_89ae8_row9_col7\" class=\"data row9 col7\" >0.966094</td>\n",
       "      <td id=\"T_89ae8_row9_col8\" class=\"data row9 col8\" >0.096328</td>\n",
       "      <td id=\"T_89ae8_row9_col9\" class=\"data row9 col9\" >1.000000</td>\n",
       "      <td id=\"T_89ae8_row9_col10\" class=\"data row9 col10\" >0.033009</td>\n",
       "      <td id=\"T_89ae8_row9_col11\" class=\"data row9 col11\" >0.033588</td>\n",
       "      <td id=\"T_89ae8_row9_col12\" class=\"data row9 col12\" >0.107704</td>\n",
       "      <td id=\"T_89ae8_row9_col13\" class=\"data row9 col13\" >0.042434</td>\n",
       "      <td id=\"T_89ae8_row9_col14\" class=\"data row9 col14\" >0.012994</td>\n",
       "      <td id=\"T_89ae8_row9_col15\" class=\"data row9 col15\" >0.144158</td>\n",
       "      <td id=\"T_89ae8_row9_col16\" class=\"data row9 col16\" >0.121106</td>\n",
       "      <td id=\"T_89ae8_row9_col17\" class=\"data row9 col17\" >0.013522</td>\n",
       "      <td id=\"T_89ae8_row9_col18\" class=\"data row9 col18\" >-0.000006</td>\n",
       "      <td id=\"T_89ae8_row9_col19\" class=\"data row9 col19\" >0.008498</td>\n",
       "      <td id=\"T_89ae8_row9_col20\" class=\"data row9 col20\" >0.044150</td>\n",
       "      <td id=\"T_89ae8_row9_col21\" class=\"data row9 col21\" >0.002122</td>\n",
       "      <td id=\"T_89ae8_row9_col22\" class=\"data row9 col22\" >0.029027</td>\n",
       "      <td id=\"T_89ae8_row9_col23\" class=\"data row9 col23\" >-0.010242</td>\n",
       "      <td id=\"T_89ae8_row9_col24\" class=\"data row9 col24\" >-0.021792</td>\n",
       "      <td id=\"T_89ae8_row9_col25\" class=\"data row9 col25\" >-0.021403</td>\n",
       "    </tr>\n",
       "    <tr>\n",
       "      <th id=\"T_89ae8_level0_row10\" class=\"row_heading level0 row10\" >ArrDelay</th>\n",
       "      <td id=\"T_89ae8_row10_col0\" class=\"data row10 col0\" >0.126421</td>\n",
       "      <td id=\"T_89ae8_row10_col1\" class=\"data row10 col1\" >0.964055</td>\n",
       "      <td id=\"T_89ae8_row10_col2\" class=\"data row10 col2\" >0.961990</td>\n",
       "      <td id=\"T_89ae8_row10_col3\" class=\"data row10 col3\" >0.531001</td>\n",
       "      <td id=\"T_89ae8_row10_col4\" class=\"data row10 col4\" >0.795042</td>\n",
       "      <td id=\"T_89ae8_row10_col5\" class=\"data row10 col5\" >0.176186</td>\n",
       "      <td id=\"T_89ae8_row10_col6\" class=\"data row10 col6\" >0.121537</td>\n",
       "      <td id=\"T_89ae8_row10_col7\" class=\"data row10 col7\" >0.040165</td>\n",
       "      <td id=\"T_89ae8_row10_col8\" class=\"data row10 col8\" >0.108542</td>\n",
       "      <td id=\"T_89ae8_row10_col9\" class=\"data row10 col9\" >0.033009</td>\n",
       "      <td id=\"T_89ae8_row10_col10\" class=\"data row10 col10\" >1.000000</td>\n",
       "      <td id=\"T_89ae8_row10_col11\" class=\"data row10 col11\" >0.986200</td>\n",
       "      <td id=\"T_89ae8_row10_col12\" class=\"data row10 col12\" >0.575323</td>\n",
       "      <td id=\"T_89ae8_row10_col13\" class=\"data row10 col13\" >0.836342</td>\n",
       "      <td id=\"T_89ae8_row10_col14\" class=\"data row10 col14\" >-0.004345</td>\n",
       "      <td id=\"T_89ae8_row10_col15\" class=\"data row10 col15\" >0.052469</td>\n",
       "      <td id=\"T_89ae8_row10_col16\" class=\"data row10 col16\" >0.020297</td>\n",
       "      <td id=\"T_89ae8_row10_col17\" class=\"data row10 col17\" >0.001281</td>\n",
       "      <td id=\"T_89ae8_row10_col18\" class=\"data row10 col18\" >0.716423</td>\n",
       "      <td id=\"T_89ae8_row10_col19\" class=\"data row10 col19\" >0.279244</td>\n",
       "      <td id=\"T_89ae8_row10_col20\" class=\"data row10 col20\" >0.333711</td>\n",
       "      <td id=\"T_89ae8_row10_col21\" class=\"data row10 col21\" >0.038416</td>\n",
       "      <td id=\"T_89ae8_row10_col22\" class=\"data row10 col22\" >0.581804</td>\n",
       "      <td id=\"T_89ae8_row10_col23\" class=\"data row10 col23\" >0.182246</td>\n",
       "      <td id=\"T_89ae8_row10_col24\" class=\"data row10 col24\" >0.180918</td>\n",
       "      <td id=\"T_89ae8_row10_col25\" class=\"data row10 col25\" >0.180460</td>\n",
       "    </tr>\n",
       "    <tr>\n",
       "      <th id=\"T_89ae8_level0_row11\" class=\"row_heading level0 row11\" >ArrDelayMinutes</th>\n",
       "      <td id=\"T_89ae8_row11_col0\" class=\"data row11 col0\" >0.120610</td>\n",
       "      <td id=\"T_89ae8_row11_col1\" class=\"data row11 col1\" >0.972308</td>\n",
       "      <td id=\"T_89ae8_row11_col2\" class=\"data row11 col2\" >0.975506</td>\n",
       "      <td id=\"T_89ae8_row11_col3\" class=\"data row11 col3\" >0.485089</td>\n",
       "      <td id=\"T_89ae8_row11_col4\" class=\"data row11 col4\" >0.772539</td>\n",
       "      <td id=\"T_89ae8_row11_col5\" class=\"data row11 col5\" >0.154931</td>\n",
       "      <td id=\"T_89ae8_row11_col6\" class=\"data row11 col6\" >0.115665</td>\n",
       "      <td id=\"T_89ae8_row11_col7\" class=\"data row11 col7\" >0.039863</td>\n",
       "      <td id=\"T_89ae8_row11_col8\" class=\"data row11 col8\" >0.095400</td>\n",
       "      <td id=\"T_89ae8_row11_col9\" class=\"data row11 col9\" >0.033588</td>\n",
       "      <td id=\"T_89ae8_row11_col10\" class=\"data row11 col10\" >0.986200</td>\n",
       "      <td id=\"T_89ae8_row11_col11\" class=\"data row11 col11\" >1.000000</td>\n",
       "      <td id=\"T_89ae8_row11_col12\" class=\"data row11 col12\" >0.530604</td>\n",
       "      <td id=\"T_89ae8_row11_col13\" class=\"data row11 col13\" >0.789130</td>\n",
       "      <td id=\"T_89ae8_row11_col14\" class=\"data row11 col14\" >0.011734</td>\n",
       "      <td id=\"T_89ae8_row11_col15\" class=\"data row11 col15\" >0.061514</td>\n",
       "      <td id=\"T_89ae8_row11_col16\" class=\"data row11 col16\" >0.033710</td>\n",
       "      <td id=\"T_89ae8_row11_col17\" class=\"data row11 col17\" >0.010855</td>\n",
       "      <td id=\"T_89ae8_row11_col18\" class=\"data row11 col18\" >0.735698</td>\n",
       "      <td id=\"T_89ae8_row11_col19\" class=\"data row11 col19\" >0.287298</td>\n",
       "      <td id=\"T_89ae8_row11_col20\" class=\"data row11 col20\" >0.328339</td>\n",
       "      <td id=\"T_89ae8_row11_col21\" class=\"data row11 col21\" >0.038140</td>\n",
       "      <td id=\"T_89ae8_row11_col22\" class=\"data row11 col22\" >0.586642</td>\n",
       "      <td id=\"T_89ae8_row11_col23\" class=\"data row11 col23\" >0.181922</td>\n",
       "      <td id=\"T_89ae8_row11_col24\" class=\"data row11 col24\" >0.182758</td>\n",
       "      <td id=\"T_89ae8_row11_col25\" class=\"data row11 col25\" >0.182179</td>\n",
       "    </tr>\n",
       "    <tr>\n",
       "      <th id=\"T_89ae8_level0_row12\" class=\"row_heading level0 row12\" >ArrDel15</th>\n",
       "      <td id=\"T_89ae8_row12_col0\" class=\"data row12 col0\" >0.222469</td>\n",
       "      <td id=\"T_89ae8_row12_col1\" class=\"data row12 col1\" >0.508926</td>\n",
       "      <td id=\"T_89ae8_row12_col2\" class=\"data row12 col2\" >0.494021</td>\n",
       "      <td id=\"T_89ae8_row12_col3\" class=\"data row12 col3\" >0.747034</td>\n",
       "      <td id=\"T_89ae8_row12_col4\" class=\"data row12 col4\" >0.679143</td>\n",
       "      <td id=\"T_89ae8_row12_col5\" class=\"data row12 col5\" >0.244984</td>\n",
       "      <td id=\"T_89ae8_row12_col6\" class=\"data row12 col6\" >0.219987</td>\n",
       "      <td id=\"T_89ae8_row12_col7\" class=\"data row12 col7\" >0.118113</td>\n",
       "      <td id=\"T_89ae8_row12_col8\" class=\"data row12 col8\" >0.151333</td>\n",
       "      <td id=\"T_89ae8_row12_col9\" class=\"data row12 col9\" >0.107704</td>\n",
       "      <td id=\"T_89ae8_row12_col10\" class=\"data row12 col10\" >0.575323</td>\n",
       "      <td id=\"T_89ae8_row12_col11\" class=\"data row12 col11\" >0.530604</td>\n",
       "      <td id=\"T_89ae8_row12_col12\" class=\"data row12 col12\" >1.000000</td>\n",
       "      <td id=\"T_89ae8_row12_col13\" class=\"data row12 col13\" >0.756776</td>\n",
       "      <td id=\"T_89ae8_row12_col14\" class=\"data row12 col14\" >0.019573</td>\n",
       "      <td id=\"T_89ae8_row12_col15\" class=\"data row12 col15\" >0.109425</td>\n",
       "      <td id=\"T_89ae8_row12_col16\" class=\"data row12 col16\" >0.065902</td>\n",
       "      <td id=\"T_89ae8_row12_col17\" class=\"data row12 col17\" >0.025041</td>\n",
       "      <td id=\"T_89ae8_row12_col18\" class=\"data row12 col18\" >0.304129</td>\n",
       "      <td id=\"T_89ae8_row12_col19\" class=\"data row12 col19\" >0.111748</td>\n",
       "      <td id=\"T_89ae8_row12_col20\" class=\"data row12 col20\" >0.321830</td>\n",
       "      <td id=\"T_89ae8_row12_col21\" class=\"data row12 col21\" >0.032743</td>\n",
       "      <td id=\"T_89ae8_row12_col22\" class=\"data row12 col22\" >0.382751</td>\n",
       "      <td id=\"T_89ae8_row12_col23\" class=\"data row12 col23\" >0.113747</td>\n",
       "      <td id=\"T_89ae8_row12_col24\" class=\"data row12 col24\" >0.084664</td>\n",
       "      <td id=\"T_89ae8_row12_col25\" class=\"data row12 col25\" >0.086030</td>\n",
       "    </tr>\n",
       "    <tr>\n",
       "      <th id=\"T_89ae8_level0_row13\" class=\"row_heading level0 row13\" >ArrivalDelayGroups</th>\n",
       "      <td id=\"T_89ae8_row13_col0\" class=\"data row13 col0\" >0.172232</td>\n",
       "      <td id=\"T_89ae8_row13_col1\" class=\"data row13 col1\" >0.770756</td>\n",
       "      <td id=\"T_89ae8_row13_col2\" class=\"data row13 col2\" >0.758582</td>\n",
       "      <td id=\"T_89ae8_row13_col3\" class=\"data row13 col3\" >0.683952</td>\n",
       "      <td id=\"T_89ae8_row13_col4\" class=\"data row13 col4\" >0.921125</td>\n",
       "      <td id=\"T_89ae8_row13_col5\" class=\"data row13 col5\" >0.226467</td>\n",
       "      <td id=\"T_89ae8_row13_col6\" class=\"data row13 col6\" >0.165193</td>\n",
       "      <td id=\"T_89ae8_row13_col7\" class=\"data row13 col7\" >0.052592</td>\n",
       "      <td id=\"T_89ae8_row13_col8\" class=\"data row13 col8\" >0.136949</td>\n",
       "      <td id=\"T_89ae8_row13_col9\" class=\"data row13 col9\" >0.042434</td>\n",
       "      <td id=\"T_89ae8_row13_col10\" class=\"data row13 col10\" >0.836342</td>\n",
       "      <td id=\"T_89ae8_row13_col11\" class=\"data row13 col11\" >0.789130</td>\n",
       "      <td id=\"T_89ae8_row13_col12\" class=\"data row13 col12\" >0.756776</td>\n",
       "      <td id=\"T_89ae8_row13_col13\" class=\"data row13 col13\" >1.000000</td>\n",
       "      <td id=\"T_89ae8_row13_col14\" class=\"data row13 col14\" >-0.001403</td>\n",
       "      <td id=\"T_89ae8_row13_col15\" class=\"data row13 col15\" >0.063262</td>\n",
       "      <td id=\"T_89ae8_row13_col16\" class=\"data row13 col16\" >0.022180</td>\n",
       "      <td id=\"T_89ae8_row13_col17\" class=\"data row13 col17\" >0.005691</td>\n",
       "      <td id=\"T_89ae8_row13_col18\" class=\"data row13 col18\" >0.465434</td>\n",
       "      <td id=\"T_89ae8_row13_col19\" class=\"data row13 col19\" >0.200139</td>\n",
       "      <td id=\"T_89ae8_row13_col20\" class=\"data row13 col20\" >0.359397</td>\n",
       "      <td id=\"T_89ae8_row13_col21\" class=\"data row13 col21\" >0.035742</td>\n",
       "      <td id=\"T_89ae8_row13_col22\" class=\"data row13 col22\" >0.570408</td>\n",
       "      <td id=\"T_89ae8_row13_col23\" class=\"data row13 col23\" >0.183393</td>\n",
       "      <td id=\"T_89ae8_row13_col24\" class=\"data row13 col24\" >0.168019</td>\n",
       "      <td id=\"T_89ae8_row13_col25\" class=\"data row13 col25\" >0.169572</td>\n",
       "    </tr>\n",
       "    <tr>\n",
       "      <th id=\"T_89ae8_level0_row14\" class=\"row_heading level0 row14\" >CRSElapsedTime</th>\n",
       "      <td id=\"T_89ae8_row14_col0\" class=\"data row14 col0\" >-0.013604</td>\n",
       "      <td id=\"T_89ae8_row14_col1\" class=\"data row14 col1\" >0.022724</td>\n",
       "      <td id=\"T_89ae8_row14_col2\" class=\"data row14 col2\" >0.018152</td>\n",
       "      <td id=\"T_89ae8_row14_col3\" class=\"data row14 col3\" >0.029611</td>\n",
       "      <td id=\"T_89ae8_row14_col4\" class=\"data row14 col4\" >0.031511</td>\n",
       "      <td id=\"T_89ae8_row14_col5\" class=\"data row14 col5\" >0.076168</td>\n",
       "      <td id=\"T_89ae8_row14_col6\" class=\"data row14 col6\" >-0.022760</td>\n",
       "      <td id=\"T_89ae8_row14_col7\" class=\"data row14 col7\" >0.015502</td>\n",
       "      <td id=\"T_89ae8_row14_col8\" class=\"data row14 col8\" >0.094655</td>\n",
       "      <td id=\"T_89ae8_row14_col9\" class=\"data row14 col9\" >0.012994</td>\n",
       "      <td id=\"T_89ae8_row14_col10\" class=\"data row14 col10\" >-0.004345</td>\n",
       "      <td id=\"T_89ae8_row14_col11\" class=\"data row14 col11\" >0.011734</td>\n",
       "      <td id=\"T_89ae8_row14_col12\" class=\"data row14 col12\" >0.019573</td>\n",
       "      <td id=\"T_89ae8_row14_col13\" class=\"data row14 col13\" >-0.001403</td>\n",
       "      <td id=\"T_89ae8_row14_col14\" class=\"data row14 col14\" >1.000000</td>\n",
       "      <td id=\"T_89ae8_row14_col15\" class=\"data row14 col15\" >0.918666</td>\n",
       "      <td id=\"T_89ae8_row14_col16\" class=\"data row14 col16\" >0.940096</td>\n",
       "      <td id=\"T_89ae8_row14_col17\" class=\"data row14 col17\" >0.982828</td>\n",
       "      <td id=\"T_89ae8_row14_col18\" class=\"data row14 col18\" >0.012896</td>\n",
       "      <td id=\"T_89ae8_row14_col19\" class=\"data row14 col19\" >-0.008231</td>\n",
       "      <td id=\"T_89ae8_row14_col20\" class=\"data row14 col20\" >0.024713</td>\n",
       "      <td id=\"T_89ae8_row14_col21\" class=\"data row14 col21\" >0.002188</td>\n",
       "      <td id=\"T_89ae8_row14_col22\" class=\"data row14 col22\" >-0.004735</td>\n",
       "      <td id=\"T_89ae8_row14_col23\" class=\"data row14 col23\" >0.014740</td>\n",
       "      <td id=\"T_89ae8_row14_col24\" class=\"data row14 col24\" >0.010516</td>\n",
       "      <td id=\"T_89ae8_row14_col25\" class=\"data row14 col25\" >0.010505</td>\n",
       "    </tr>\n",
       "    <tr>\n",
       "      <th id=\"T_89ae8_level0_row15\" class=\"row_heading level0 row15\" >ActualElapsedTime</th>\n",
       "      <td id=\"T_89ae8_row15_col0\" class=\"data row15 col0\" >0.110510</td>\n",
       "      <td id=\"T_89ae8_row15_col1\" class=\"data row15 col1\" >0.035210</td>\n",
       "      <td id=\"T_89ae8_row15_col2\" class=\"data row15 col2\" >0.034029</td>\n",
       "      <td id=\"T_89ae8_row15_col3\" class=\"data row15 col3\" >0.056191</td>\n",
       "      <td id=\"T_89ae8_row15_col4\" class=\"data row15 col4\" >0.036633</td>\n",
       "      <td id=\"T_89ae8_row15_col5\" class=\"data row15 col5\" >0.254566</td>\n",
       "      <td id=\"T_89ae8_row15_col6\" class=\"data row15 col6\" >0.108453</td>\n",
       "      <td id=\"T_89ae8_row15_col7\" class=\"data row15 col7\" >0.147855</td>\n",
       "      <td id=\"T_89ae8_row15_col8\" class=\"data row15 col8\" >0.217998</td>\n",
       "      <td id=\"T_89ae8_row15_col9\" class=\"data row15 col9\" >0.144158</td>\n",
       "      <td id=\"T_89ae8_row15_col10\" class=\"data row15 col10\" >0.052469</td>\n",
       "      <td id=\"T_89ae8_row15_col11\" class=\"data row15 col11\" >0.061514</td>\n",
       "      <td id=\"T_89ae8_row15_col12\" class=\"data row15 col12\" >0.109425</td>\n",
       "      <td id=\"T_89ae8_row15_col13\" class=\"data row15 col13\" >0.063262</td>\n",
       "      <td id=\"T_89ae8_row15_col14\" class=\"data row15 col14\" >0.918666</td>\n",
       "      <td id=\"T_89ae8_row15_col15\" class=\"data row15 col15\" >1.000000</td>\n",
       "      <td id=\"T_89ae8_row15_col16\" class=\"data row15 col16\" >0.986739</td>\n",
       "      <td id=\"T_89ae8_row15_col17\" class=\"data row15 col17\" >0.910245</td>\n",
       "      <td id=\"T_89ae8_row15_col18\" class=\"data row15 col18\" >0.027727</td>\n",
       "      <td id=\"T_89ae8_row15_col19\" class=\"data row15 col19\" >0.004462</td>\n",
       "      <td id=\"T_89ae8_row15_col20\" class=\"data row15 col20\" >0.106160</td>\n",
       "      <td id=\"T_89ae8_row15_col21\" class=\"data row15 col21\" >0.004200</td>\n",
       "      <td id=\"T_89ae8_row15_col22\" class=\"data row15 col22\" >0.013400</td>\n",
       "      <td id=\"T_89ae8_row15_col23\" class=\"data row15 col23\" >0.005705</td>\n",
       "      <td id=\"T_89ae8_row15_col24\" class=\"data row15 col24\" >-0.004746</td>\n",
       "      <td id=\"T_89ae8_row15_col25\" class=\"data row15 col25\" >-0.004448</td>\n",
       "    </tr>\n",
       "    <tr>\n",
       "      <th id=\"T_89ae8_level0_row16\" class=\"row_heading level0 row16\" >AirTime</th>\n",
       "      <td id=\"T_89ae8_row16_col0\" class=\"data row16 col0\" >0.091511</td>\n",
       "      <td id=\"T_89ae8_row16_col1\" class=\"data row16 col1\" >0.028413</td>\n",
       "      <td id=\"T_89ae8_row16_col2\" class=\"data row16 col2\" >0.026230</td>\n",
       "      <td id=\"T_89ae8_row16_col3\" class=\"data row16 col3\" >0.049983</td>\n",
       "      <td id=\"T_89ae8_row16_col4\" class=\"data row16 col4\" >0.030629</td>\n",
       "      <td id=\"T_89ae8_row16_col5\" class=\"data row16 col5\" >0.122944</td>\n",
       "      <td id=\"T_89ae8_row16_col6\" class=\"data row16 col6\" >0.085455</td>\n",
       "      <td id=\"T_89ae8_row16_col7\" class=\"data row16 col7\" >0.124570</td>\n",
       "      <td id=\"T_89ae8_row16_col8\" class=\"data row16 col8\" >0.124435</td>\n",
       "      <td id=\"T_89ae8_row16_col9\" class=\"data row16 col9\" >0.121106</td>\n",
       "      <td id=\"T_89ae8_row16_col10\" class=\"data row16 col10\" >0.020297</td>\n",
       "      <td id=\"T_89ae8_row16_col11\" class=\"data row16 col11\" >0.033710</td>\n",
       "      <td id=\"T_89ae8_row16_col12\" class=\"data row16 col12\" >0.065902</td>\n",
       "      <td id=\"T_89ae8_row16_col13\" class=\"data row16 col13\" >0.022180</td>\n",
       "      <td id=\"T_89ae8_row16_col14\" class=\"data row16 col14\" >0.940096</td>\n",
       "      <td id=\"T_89ae8_row16_col15\" class=\"data row16 col15\" >0.986739</td>\n",
       "      <td id=\"T_89ae8_row16_col16\" class=\"data row16 col16\" >1.000000</td>\n",
       "      <td id=\"T_89ae8_row16_col17\" class=\"data row16 col17\" >0.938720</td>\n",
       "      <td id=\"T_89ae8_row16_col18\" class=\"data row16 col18\" >0.020873</td>\n",
       "      <td id=\"T_89ae8_row16_col19\" class=\"data row16 col19\" >-0.004551</td>\n",
       "      <td id=\"T_89ae8_row16_col20\" class=\"data row16 col20\" >0.050018</td>\n",
       "      <td id=\"T_89ae8_row16_col21\" class=\"data row16 col21\" >0.003817</td>\n",
       "      <td id=\"T_89ae8_row16_col22\" class=\"data row16 col22\" >0.006690</td>\n",
       "      <td id=\"T_89ae8_row16_col23\" class=\"data row16 col23\" >0.003597</td>\n",
       "      <td id=\"T_89ae8_row16_col24\" class=\"data row16 col24\" >-0.007277</td>\n",
       "      <td id=\"T_89ae8_row16_col25\" class=\"data row16 col25\" >-0.007075</td>\n",
       "    </tr>\n",
       "    <tr>\n",
       "      <th id=\"T_89ae8_level0_row17\" class=\"row_heading level0 row17\" >Distance</th>\n",
       "      <td id=\"T_89ae8_row17_col0\" class=\"data row17 col0\" >-0.004102</td>\n",
       "      <td id=\"T_89ae8_row17_col1\" class=\"data row17 col1\" >0.021589</td>\n",
       "      <td id=\"T_89ae8_row17_col2\" class=\"data row17 col2\" >0.016364</td>\n",
       "      <td id=\"T_89ae8_row17_col3\" class=\"data row17 col3\" >0.033488</td>\n",
       "      <td id=\"T_89ae8_row17_col4\" class=\"data row17 col4\" >0.031070</td>\n",
       "      <td id=\"T_89ae8_row17_col5\" class=\"data row17 col5\" >0.037387</td>\n",
       "      <td id=\"T_89ae8_row17_col6\" class=\"data row17 col6\" >-0.016689</td>\n",
       "      <td id=\"T_89ae8_row17_col7\" class=\"data row17 col7\" >0.016844</td>\n",
       "      <td id=\"T_89ae8_row17_col8\" class=\"data row17 col8\" >0.071899</td>\n",
       "      <td id=\"T_89ae8_row17_col9\" class=\"data row17 col9\" >0.013522</td>\n",
       "      <td id=\"T_89ae8_row17_col10\" class=\"data row17 col10\" >0.001281</td>\n",
       "      <td id=\"T_89ae8_row17_col11\" class=\"data row17 col11\" >0.010855</td>\n",
       "      <td id=\"T_89ae8_row17_col12\" class=\"data row17 col12\" >0.025041</td>\n",
       "      <td id=\"T_89ae8_row17_col13\" class=\"data row17 col13\" >0.005691</td>\n",
       "      <td id=\"T_89ae8_row17_col14\" class=\"data row17 col14\" >0.982828</td>\n",
       "      <td id=\"T_89ae8_row17_col15\" class=\"data row17 col15\" >0.910245</td>\n",
       "      <td id=\"T_89ae8_row17_col16\" class=\"data row17 col16\" >0.938720</td>\n",
       "      <td id=\"T_89ae8_row17_col17\" class=\"data row17 col17\" >1.000000</td>\n",
       "      <td id=\"T_89ae8_row17_col18\" class=\"data row17 col18\" >0.012373</td>\n",
       "      <td id=\"T_89ae8_row17_col19\" class=\"data row17 col19\" >-0.010457</td>\n",
       "      <td id=\"T_89ae8_row17_col20\" class=\"data row17 col20\" >0.020861</td>\n",
       "      <td id=\"T_89ae8_row17_col21\" class=\"data row17 col21\" >0.003125</td>\n",
       "      <td id=\"T_89ae8_row17_col22\" class=\"data row17 col22\" >-0.003617</td>\n",
       "      <td id=\"T_89ae8_row17_col23\" class=\"data row17 col23\" >0.011728</td>\n",
       "      <td id=\"T_89ae8_row17_col24\" class=\"data row17 col24\" >0.005837</td>\n",
       "      <td id=\"T_89ae8_row17_col25\" class=\"data row17 col25\" >0.005806</td>\n",
       "    </tr>\n",
       "    <tr>\n",
       "      <th id=\"T_89ae8_level0_row18\" class=\"row_heading level0 row18\" >CarrierDelay</th>\n",
       "      <td id=\"T_89ae8_row18_col0\" class=\"data row18 col0\" >0.039401</td>\n",
       "      <td id=\"T_89ae8_row18_col1\" class=\"data row18 col1\" >0.731257</td>\n",
       "      <td id=\"T_89ae8_row18_col2\" class=\"data row18 col2\" >0.736442</td>\n",
       "      <td id=\"T_89ae8_row18_col3\" class=\"data row18 col3\" >0.289182</td>\n",
       "      <td id=\"T_89ae8_row18_col4\" class=\"data row18 col4\" >0.478633</td>\n",
       "      <td id=\"T_89ae8_row18_col5\" class=\"data row18 col5\" >0.045944</td>\n",
       "      <td id=\"T_89ae8_row18_col6\" class=\"data row18 col6\" >0.036328</td>\n",
       "      <td id=\"T_89ae8_row18_col7\" class=\"data row18 col7\" >0.001937</td>\n",
       "      <td id=\"T_89ae8_row18_col8\" class=\"data row18 col8\" >0.017157</td>\n",
       "      <td id=\"T_89ae8_row18_col9\" class=\"data row18 col9\" >-0.000006</td>\n",
       "      <td id=\"T_89ae8_row18_col10\" class=\"data row18 col10\" >0.716423</td>\n",
       "      <td id=\"T_89ae8_row18_col11\" class=\"data row18 col11\" >0.735698</td>\n",
       "      <td id=\"T_89ae8_row18_col12\" class=\"data row18 col12\" >0.304129</td>\n",
       "      <td id=\"T_89ae8_row18_col13\" class=\"data row18 col13\" >0.465434</td>\n",
       "      <td id=\"T_89ae8_row18_col14\" class=\"data row18 col14\" >0.012896</td>\n",
       "      <td id=\"T_89ae8_row18_col15\" class=\"data row18 col15\" >0.027727</td>\n",
       "      <td id=\"T_89ae8_row18_col16\" class=\"data row18 col16\" >0.020873</td>\n",
       "      <td id=\"T_89ae8_row18_col17\" class=\"data row18 col17\" >0.012373</td>\n",
       "      <td id=\"T_89ae8_row18_col18\" class=\"data row18 col18\" >1.000000</td>\n",
       "      <td id=\"T_89ae8_row18_col19\" class=\"data row18 col19\" >-0.005725</td>\n",
       "      <td id=\"T_89ae8_row18_col20\" class=\"data row18 col20\" >0.019978</td>\n",
       "      <td id=\"T_89ae8_row18_col21\" class=\"data row18 col21\" >-0.000915</td>\n",
       "      <td id=\"T_89ae8_row18_col22\" class=\"data row18 col22\" >0.059440</td>\n",
       "      <td id=\"T_89ae8_row18_col23\" class=\"data row18 col23\" >0.142095</td>\n",
       "      <td id=\"T_89ae8_row18_col24\" class=\"data row18 col24\" >0.116467</td>\n",
       "      <td id=\"T_89ae8_row18_col25\" class=\"data row18 col25\" >0.115450</td>\n",
       "    </tr>\n",
       "    <tr>\n",
       "      <th id=\"T_89ae8_level0_row19\" class=\"row_heading level0 row19\" >WeatherDelay</th>\n",
       "      <td id=\"T_89ae8_row19_col0\" class=\"data row19 col0\" >0.021194</td>\n",
       "      <td id=\"T_89ae8_row19_col1\" class=\"data row19 col1\" >0.275693</td>\n",
       "      <td id=\"T_89ae8_row19_col2\" class=\"data row19 col2\" >0.277687</td>\n",
       "      <td id=\"T_89ae8_row19_col3\" class=\"data row19 col3\" >0.108302</td>\n",
       "      <td id=\"T_89ae8_row19_col4\" class=\"data row19 col4\" >0.198134</td>\n",
       "      <td id=\"T_89ae8_row19_col5\" class=\"data row19 col5\" >0.054930</td>\n",
       "      <td id=\"T_89ae8_row19_col6\" class=\"data row19 col6\" >0.020650</td>\n",
       "      <td id=\"T_89ae8_row19_col7\" class=\"data row19 col7\" >0.009138</td>\n",
       "      <td id=\"T_89ae8_row19_col8\" class=\"data row19 col8\" >0.017289</td>\n",
       "      <td id=\"T_89ae8_row19_col9\" class=\"data row19 col9\" >0.008498</td>\n",
       "      <td id=\"T_89ae8_row19_col10\" class=\"data row19 col10\" >0.279244</td>\n",
       "      <td id=\"T_89ae8_row19_col11\" class=\"data row19 col11\" >0.287298</td>\n",
       "      <td id=\"T_89ae8_row19_col12\" class=\"data row19 col12\" >0.111748</td>\n",
       "      <td id=\"T_89ae8_row19_col13\" class=\"data row19 col13\" >0.200139</td>\n",
       "      <td id=\"T_89ae8_row19_col14\" class=\"data row19 col14\" >-0.008231</td>\n",
       "      <td id=\"T_89ae8_row19_col15\" class=\"data row19 col15\" >0.004462</td>\n",
       "      <td id=\"T_89ae8_row19_col16\" class=\"data row19 col16\" >-0.004551</td>\n",
       "      <td id=\"T_89ae8_row19_col17\" class=\"data row19 col17\" >-0.010457</td>\n",
       "      <td id=\"T_89ae8_row19_col18\" class=\"data row19 col18\" >-0.005725</td>\n",
       "      <td id=\"T_89ae8_row19_col19\" class=\"data row19 col19\" >1.000000</td>\n",
       "      <td id=\"T_89ae8_row19_col20\" class=\"data row19 col20\" >0.027052</td>\n",
       "      <td id=\"T_89ae8_row19_col21\" class=\"data row19 col21\" >-0.000654</td>\n",
       "      <td id=\"T_89ae8_row19_col22\" class=\"data row19 col22\" >0.019614</td>\n",
       "      <td id=\"T_89ae8_row19_col23\" class=\"data row19 col23\" >0.100090</td>\n",
       "      <td id=\"T_89ae8_row19_col24\" class=\"data row19 col24\" >0.156591</td>\n",
       "      <td id=\"T_89ae8_row19_col25\" class=\"data row19 col25\" >0.155756</td>\n",
       "    </tr>\n",
       "    <tr>\n",
       "      <th id=\"T_89ae8_level0_row20\" class=\"row_heading level0 row20\" >NASDelay</th>\n",
       "      <td id=\"T_89ae8_row20_col0\" class=\"data row20 col0\" >0.057190</td>\n",
       "      <td id=\"T_89ae8_row20_col1\" class=\"data row20 col1\" >0.242059</td>\n",
       "      <td id=\"T_89ae8_row20_col2\" class=\"data row20 col2\" >0.240199</td>\n",
       "      <td id=\"T_89ae8_row20_col3\" class=\"data row20 col3\" >0.169526</td>\n",
       "      <td id=\"T_89ae8_row20_col4\" class=\"data row20 col4\" >0.238486</td>\n",
       "      <td id=\"T_89ae8_row20_col5\" class=\"data row20 col5\" >0.293551</td>\n",
       "      <td id=\"T_89ae8_row20_col6\" class=\"data row20 col6\" >0.062573</td>\n",
       "      <td id=\"T_89ae8_row20_col7\" class=\"data row20 col7\" >0.048203</td>\n",
       "      <td id=\"T_89ae8_row20_col8\" class=\"data row20 col8\" >0.217296</td>\n",
       "      <td id=\"T_89ae8_row20_col9\" class=\"data row20 col9\" >0.044150</td>\n",
       "      <td id=\"T_89ae8_row20_col10\" class=\"data row20 col10\" >0.333711</td>\n",
       "      <td id=\"T_89ae8_row20_col11\" class=\"data row20 col11\" >0.328339</td>\n",
       "      <td id=\"T_89ae8_row20_col12\" class=\"data row20 col12\" >0.321830</td>\n",
       "      <td id=\"T_89ae8_row20_col13\" class=\"data row20 col13\" >0.359397</td>\n",
       "      <td id=\"T_89ae8_row20_col14\" class=\"data row20 col14\" >0.024713</td>\n",
       "      <td id=\"T_89ae8_row20_col15\" class=\"data row20 col15\" >0.106160</td>\n",
       "      <td id=\"T_89ae8_row20_col16\" class=\"data row20 col16\" >0.050018</td>\n",
       "      <td id=\"T_89ae8_row20_col17\" class=\"data row20 col17\" >0.020861</td>\n",
       "      <td id=\"T_89ae8_row20_col18\" class=\"data row20 col18\" >0.019978</td>\n",
       "      <td id=\"T_89ae8_row20_col19\" class=\"data row20 col19\" >0.027052</td>\n",
       "      <td id=\"T_89ae8_row20_col20\" class=\"data row20 col20\" >1.000000</td>\n",
       "      <td id=\"T_89ae8_row20_col21\" class=\"data row20 col21\" >0.003444</td>\n",
       "      <td id=\"T_89ae8_row20_col22\" class=\"data row20 col22\" >0.045147</td>\n",
       "      <td id=\"T_89ae8_row20_col23\" class=\"data row20 col23\" >0.117164</td>\n",
       "      <td id=\"T_89ae8_row20_col24\" class=\"data row20 col24\" >0.146810</td>\n",
       "      <td id=\"T_89ae8_row20_col25\" class=\"data row20 col25\" >0.148194</td>\n",
       "    </tr>\n",
       "    <tr>\n",
       "      <th id=\"T_89ae8_level0_row21\" class=\"row_heading level0 row21\" >SecurityDelay</th>\n",
       "      <td id=\"T_89ae8_row21_col0\" class=\"data row21 col0\" >0.004569</td>\n",
       "      <td id=\"T_89ae8_row21_col1\" class=\"data row21 col1\" >0.038098</td>\n",
       "      <td id=\"T_89ae8_row21_col2\" class=\"data row21 col2\" >0.037885</td>\n",
       "      <td id=\"T_89ae8_row21_col3\" class=\"data row21 col3\" >0.030617</td>\n",
       "      <td id=\"T_89ae8_row21_col4\" class=\"data row21 col4\" >0.035971</td>\n",
       "      <td id=\"T_89ae8_row21_col5\" class=\"data row21 col5\" >0.002973</td>\n",
       "      <td id=\"T_89ae8_row21_col6\" class=\"data row21 col6\" >0.004569</td>\n",
       "      <td id=\"T_89ae8_row21_col7\" class=\"data row21 col7\" >0.002280</td>\n",
       "      <td id=\"T_89ae8_row21_col8\" class=\"data row21 col8\" >0.001523</td>\n",
       "      <td id=\"T_89ae8_row21_col9\" class=\"data row21 col9\" >0.002122</td>\n",
       "      <td id=\"T_89ae8_row21_col10\" class=\"data row21 col10\" >0.038416</td>\n",
       "      <td id=\"T_89ae8_row21_col11\" class=\"data row21 col11\" >0.038140</td>\n",
       "      <td id=\"T_89ae8_row21_col12\" class=\"data row21 col12\" >0.032743</td>\n",
       "      <td id=\"T_89ae8_row21_col13\" class=\"data row21 col13\" >0.035742</td>\n",
       "      <td id=\"T_89ae8_row21_col14\" class=\"data row21 col14\" >0.002188</td>\n",
       "      <td id=\"T_89ae8_row21_col15\" class=\"data row21 col15\" >0.004200</td>\n",
       "      <td id=\"T_89ae8_row21_col16\" class=\"data row21 col16\" >0.003817</td>\n",
       "      <td id=\"T_89ae8_row21_col17\" class=\"data row21 col17\" >0.003125</td>\n",
       "      <td id=\"T_89ae8_row21_col18\" class=\"data row21 col18\" >-0.000915</td>\n",
       "      <td id=\"T_89ae8_row21_col19\" class=\"data row21 col19\" >-0.000654</td>\n",
       "      <td id=\"T_89ae8_row21_col20\" class=\"data row21 col20\" >0.003444</td>\n",
       "      <td id=\"T_89ae8_row21_col21\" class=\"data row21 col21\" >1.000000</td>\n",
       "      <td id=\"T_89ae8_row21_col22\" class=\"data row21 col22\" >0.004936</td>\n",
       "      <td id=\"T_89ae8_row21_col23\" class=\"data row21 col23\" >0.022166</td>\n",
       "      <td id=\"T_89ae8_row21_col24\" class=\"data row21 col24\" >0.010296</td>\n",
       "      <td id=\"T_89ae8_row21_col25\" class=\"data row21 col25\" >0.010566</td>\n",
       "    </tr>\n",
       "    <tr>\n",
       "      <th id=\"T_89ae8_level0_row22\" class=\"row_heading level0 row22\" >LateAircraftDelay</th>\n",
       "      <td id=\"T_89ae8_row22_col0\" class=\"data row22 col0\" >0.127657</td>\n",
       "      <td id=\"T_89ae8_row22_col1\" class=\"data row22 col1\" >0.591870</td>\n",
       "      <td id=\"T_89ae8_row22_col2\" class=\"data row22 col2\" >0.592094</td>\n",
       "      <td id=\"T_89ae8_row22_col3\" class=\"data row22 col3\" >0.375331</td>\n",
       "      <td id=\"T_89ae8_row22_col4\" class=\"data row22 col4\" >0.591963</td>\n",
       "      <td id=\"T_89ae8_row22_col5\" class=\"data row22 col5\" >0.035166</td>\n",
       "      <td id=\"T_89ae8_row22_col6\" class=\"data row22 col6\" >0.119430</td>\n",
       "      <td id=\"T_89ae8_row22_col7\" class=\"data row22 col7\" >0.035357</td>\n",
       "      <td id=\"T_89ae8_row22_col8\" class=\"data row22 col8\" >0.024135</td>\n",
       "      <td id=\"T_89ae8_row22_col9\" class=\"data row22 col9\" >0.029027</td>\n",
       "      <td id=\"T_89ae8_row22_col10\" class=\"data row22 col10\" >0.581804</td>\n",
       "      <td id=\"T_89ae8_row22_col11\" class=\"data row22 col11\" >0.586642</td>\n",
       "      <td id=\"T_89ae8_row22_col12\" class=\"data row22 col12\" >0.382751</td>\n",
       "      <td id=\"T_89ae8_row22_col13\" class=\"data row22 col13\" >0.570408</td>\n",
       "      <td id=\"T_89ae8_row22_col14\" class=\"data row22 col14\" >-0.004735</td>\n",
       "      <td id=\"T_89ae8_row22_col15\" class=\"data row22 col15\" >0.013400</td>\n",
       "      <td id=\"T_89ae8_row22_col16\" class=\"data row22 col16\" >0.006690</td>\n",
       "      <td id=\"T_89ae8_row22_col17\" class=\"data row22 col17\" >-0.003617</td>\n",
       "      <td id=\"T_89ae8_row22_col18\" class=\"data row22 col18\" >0.059440</td>\n",
       "      <td id=\"T_89ae8_row22_col19\" class=\"data row22 col19\" >0.019614</td>\n",
       "      <td id=\"T_89ae8_row22_col20\" class=\"data row22 col20\" >0.045147</td>\n",
       "      <td id=\"T_89ae8_row22_col21\" class=\"data row22 col21\" >0.004936</td>\n",
       "      <td id=\"T_89ae8_row22_col22\" class=\"data row22 col22\" >1.000000</td>\n",
       "      <td id=\"T_89ae8_row22_col23\" class=\"data row22 col23\" >0.039997</td>\n",
       "      <td id=\"T_89ae8_row22_col24\" class=\"data row22 col24\" >0.031262</td>\n",
       "      <td id=\"T_89ae8_row22_col25\" class=\"data row22 col25\" >0.031201</td>\n",
       "    </tr>\n",
       "    <tr>\n",
       "      <th id=\"T_89ae8_level0_row23\" class=\"row_heading level0 row23\" >FirstDepTime</th>\n",
       "      <td id=\"T_89ae8_row23_col0\" class=\"data row23 col0\" >0.040475</td>\n",
       "      <td id=\"T_89ae8_row23_col1\" class=\"data row23 col1\" >0.194756</td>\n",
       "      <td id=\"T_89ae8_row23_col2\" class=\"data row23 col2\" >0.194445</td>\n",
       "      <td id=\"T_89ae8_row23_col3\" class=\"data row23 col3\" >0.131456</td>\n",
       "      <td id=\"T_89ae8_row23_col4\" class=\"data row23 col4\" >0.203157</td>\n",
       "      <td id=\"T_89ae8_row23_col5\" class=\"data row23 col5\" >0.018473</td>\n",
       "      <td id=\"T_89ae8_row23_col6\" class=\"data row23 col6\" >0.013385</td>\n",
       "      <td id=\"T_89ae8_row23_col7\" class=\"data row23 col7\" >-0.008364</td>\n",
       "      <td id=\"T_89ae8_row23_col8\" class=\"data row23 col8\" >-0.000705</td>\n",
       "      <td id=\"T_89ae8_row23_col9\" class=\"data row23 col9\" >-0.010242</td>\n",
       "      <td id=\"T_89ae8_row23_col10\" class=\"data row23 col10\" >0.182246</td>\n",
       "      <td id=\"T_89ae8_row23_col11\" class=\"data row23 col11\" >0.181922</td>\n",
       "      <td id=\"T_89ae8_row23_col12\" class=\"data row23 col12\" >0.113747</td>\n",
       "      <td id=\"T_89ae8_row23_col13\" class=\"data row23 col13\" >0.183393</td>\n",
       "      <td id=\"T_89ae8_row23_col14\" class=\"data row23 col14\" >0.014740</td>\n",
       "      <td id=\"T_89ae8_row23_col15\" class=\"data row23 col15\" >0.005705</td>\n",
       "      <td id=\"T_89ae8_row23_col16\" class=\"data row23 col16\" >0.003597</td>\n",
       "      <td id=\"T_89ae8_row23_col17\" class=\"data row23 col17\" >0.011728</td>\n",
       "      <td id=\"T_89ae8_row23_col18\" class=\"data row23 col18\" >0.142095</td>\n",
       "      <td id=\"T_89ae8_row23_col19\" class=\"data row23 col19\" >0.100090</td>\n",
       "      <td id=\"T_89ae8_row23_col20\" class=\"data row23 col20\" >0.117164</td>\n",
       "      <td id=\"T_89ae8_row23_col21\" class=\"data row23 col21\" >0.022166</td>\n",
       "      <td id=\"T_89ae8_row23_col22\" class=\"data row23 col22\" >0.039997</td>\n",
       "      <td id=\"T_89ae8_row23_col23\" class=\"data row23 col23\" >1.000000</td>\n",
       "      <td id=\"T_89ae8_row23_col24\" class=\"data row23 col24\" >0.714666</td>\n",
       "      <td id=\"T_89ae8_row23_col25\" class=\"data row23 col25\" >0.722163</td>\n",
       "    </tr>\n",
       "    <tr>\n",
       "      <th id=\"T_89ae8_level0_row24\" class=\"row_heading level0 row24\" >TotalAddGTime</th>\n",
       "      <td id=\"T_89ae8_row24_col0\" class=\"data row24 col0\" >0.024034</td>\n",
       "      <td id=\"T_89ae8_row24_col1\" class=\"data row24 col1\" >0.195455</td>\n",
       "      <td id=\"T_89ae8_row24_col2\" class=\"data row24 col2\" >0.196090</td>\n",
       "      <td id=\"T_89ae8_row24_col3\" class=\"data row24 col3\" >0.102410</td>\n",
       "      <td id=\"T_89ae8_row24_col4\" class=\"data row24 col4\" >0.189236</td>\n",
       "      <td id=\"T_89ae8_row24_col5\" class=\"data row24 col5\" >0.019728</td>\n",
       "      <td id=\"T_89ae8_row24_col6\" class=\"data row24 col6\" >-0.009408</td>\n",
       "      <td id=\"T_89ae8_row24_col7\" class=\"data row24 col7\" >-0.020983</td>\n",
       "      <td id=\"T_89ae8_row24_col8\" class=\"data row24 col8\" >-0.002943</td>\n",
       "      <td id=\"T_89ae8_row24_col9\" class=\"data row24 col9\" >-0.021792</td>\n",
       "      <td id=\"T_89ae8_row24_col10\" class=\"data row24 col10\" >0.180918</td>\n",
       "      <td id=\"T_89ae8_row24_col11\" class=\"data row24 col11\" >0.182758</td>\n",
       "      <td id=\"T_89ae8_row24_col12\" class=\"data row24 col12\" >0.084664</td>\n",
       "      <td id=\"T_89ae8_row24_col13\" class=\"data row24 col13\" >0.168019</td>\n",
       "      <td id=\"T_89ae8_row24_col14\" class=\"data row24 col14\" >0.010516</td>\n",
       "      <td id=\"T_89ae8_row24_col15\" class=\"data row24 col15\" >-0.004746</td>\n",
       "      <td id=\"T_89ae8_row24_col16\" class=\"data row24 col16\" >-0.007277</td>\n",
       "      <td id=\"T_89ae8_row24_col17\" class=\"data row24 col17\" >0.005837</td>\n",
       "      <td id=\"T_89ae8_row24_col18\" class=\"data row24 col18\" >0.116467</td>\n",
       "      <td id=\"T_89ae8_row24_col19\" class=\"data row24 col19\" >0.156591</td>\n",
       "      <td id=\"T_89ae8_row24_col20\" class=\"data row24 col20\" >0.146810</td>\n",
       "      <td id=\"T_89ae8_row24_col21\" class=\"data row24 col21\" >0.010296</td>\n",
       "      <td id=\"T_89ae8_row24_col22\" class=\"data row24 col22\" >0.031262</td>\n",
       "      <td id=\"T_89ae8_row24_col23\" class=\"data row24 col23\" >0.714666</td>\n",
       "      <td id=\"T_89ae8_row24_col24\" class=\"data row24 col24\" >1.000000</td>\n",
       "      <td id=\"T_89ae8_row24_col25\" class=\"data row24 col25\" >0.992923</td>\n",
       "    </tr>\n",
       "    <tr>\n",
       "      <th id=\"T_89ae8_level0_row25\" class=\"row_heading level0 row25\" >LongestAddGTime</th>\n",
       "      <td id=\"T_89ae8_row25_col0\" class=\"data row25 col0\" >0.024079</td>\n",
       "      <td id=\"T_89ae8_row25_col1\" class=\"data row25 col1\" >0.193704</td>\n",
       "      <td id=\"T_89ae8_row25_col2\" class=\"data row25 col2\" >0.194277</td>\n",
       "      <td id=\"T_89ae8_row25_col3\" class=\"data row25 col3\" >0.103359</td>\n",
       "      <td id=\"T_89ae8_row25_col4\" class=\"data row25 col4\" >0.189724</td>\n",
       "      <td id=\"T_89ae8_row25_col5\" class=\"data row25 col5\" >0.020374</td>\n",
       "      <td id=\"T_89ae8_row25_col6\" class=\"data row25 col6\" >-0.008928</td>\n",
       "      <td id=\"T_89ae8_row25_col7\" class=\"data row25 col7\" >-0.020555</td>\n",
       "      <td id=\"T_89ae8_row25_col8\" class=\"data row25 col8\" >-0.002707</td>\n",
       "      <td id=\"T_89ae8_row25_col9\" class=\"data row25 col9\" >-0.021403</td>\n",
       "      <td id=\"T_89ae8_row25_col10\" class=\"data row25 col10\" >0.180460</td>\n",
       "      <td id=\"T_89ae8_row25_col11\" class=\"data row25 col11\" >0.182179</td>\n",
       "      <td id=\"T_89ae8_row25_col12\" class=\"data row25 col12\" >0.086030</td>\n",
       "      <td id=\"T_89ae8_row25_col13\" class=\"data row25 col13\" >0.169572</td>\n",
       "      <td id=\"T_89ae8_row25_col14\" class=\"data row25 col14\" >0.010505</td>\n",
       "      <td id=\"T_89ae8_row25_col15\" class=\"data row25 col15\" >-0.004448</td>\n",
       "      <td id=\"T_89ae8_row25_col16\" class=\"data row25 col16\" >-0.007075</td>\n",
       "      <td id=\"T_89ae8_row25_col17\" class=\"data row25 col17\" >0.005806</td>\n",
       "      <td id=\"T_89ae8_row25_col18\" class=\"data row25 col18\" >0.115450</td>\n",
       "      <td id=\"T_89ae8_row25_col19\" class=\"data row25 col19\" >0.155756</td>\n",
       "      <td id=\"T_89ae8_row25_col20\" class=\"data row25 col20\" >0.148194</td>\n",
       "      <td id=\"T_89ae8_row25_col21\" class=\"data row25 col21\" >0.010566</td>\n",
       "      <td id=\"T_89ae8_row25_col22\" class=\"data row25 col22\" >0.031201</td>\n",
       "      <td id=\"T_89ae8_row25_col23\" class=\"data row25 col23\" >0.722163</td>\n",
       "      <td id=\"T_89ae8_row25_col24\" class=\"data row25 col24\" >0.992923</td>\n",
       "      <td id=\"T_89ae8_row25_col25\" class=\"data row25 col25\" >1.000000</td>\n",
       "    </tr>\n",
       "  </tbody>\n",
       "</table>\n"
      ],
      "text/plain": [
       "<pandas.io.formats.style.Styler at 0x1fc5df24e90>"
      ]
     },
     "execution_count": 9,
     "metadata": {},
     "output_type": "execute_result"
    }
   ],
   "source": [
    "corr = (df_flights\n",
    "        .select_dtypes('float16')\n",
    "        .corr())\n",
    "corr.style.background_gradient(cmap='coolwarm')"
   ]
  },
  {
   "cell_type": "code",
   "execution_count": 10,
   "metadata": {},
   "outputs": [
    {
     "data": {
      "image/png": "[encoded data removed]",
      "text/plain": [
       "<Figure size 640x480 with 2 Axes>"
      ]
     },
     "metadata": {},
     "output_type": "display_data"
    }
   ],
   "source": [
    "sns.heatmap(\n",
    "    (df_flights\n",
    "     .select_dtypes('float16')\n",
    "     .corr()))\n",
    "plt.show()\n"
   ]
  },
  {
   "cell_type": "code",
   "execution_count": 11,
   "metadata": {},
   "outputs": [
    {
     "data": {
      "text/plain": [
       "<AxesSubplot: xlabel='FlightDate'>"
      ]
     },
     "execution_count": 11,
     "metadata": {},
     "output_type": "execute_result"
    },
    {
     "data": {
      "image/png": "[encoded data removed]",
      "text/plain": [
       "<Figure size 640x480 with 1 Axes>"
      ]
     },
     "metadata": {},
     "output_type": "display_data"
    }
   ],
   "source": [
    "(df_flights.\n",
    " groupby(\"FlightDate\")\n",
    " [\"Cancelled\"]\n",
    " .agg(\"mean\")\n",
    " .plot()\n",
    " )\n"
   ]
  },
  {
   "cell_type": "code",
   "execution_count": 12,
   "metadata": {},
   "outputs": [
    {
     "data": {
      "text/plain": [
       "<AxesSubplot: xlabel='FlightDate'>"
      ]
     },
     "execution_count": 12,
     "metadata": {},
     "output_type": "execute_result"
    },
    {
     "data": {
      "image/png": "[encoded data removed]",
      "text/plain": [
       "<Figure size 640x480 with 1 Axes>"
      ]
     },
     "metadata": {},
     "output_type": "display_data"
    }
   ],
   "source": [
    "(df_flights.\n",
    " groupby(\"FlightDate\")\n",
    "[[\"WeatherDelay\", \"NASDelay\"]]\n",
    " .agg(\"mean\")\n",
    " .plot())"
   ]
  },
  {
   "cell_type": "code",
   "execution_count": 13,
   "metadata": {},
   "outputs": [
    {
     "data": {
      "text/plain": [
       "<AxesSubplot: xlabel='FlightDate'>"
      ]
     },
     "execution_count": 13,
     "metadata": {},
     "output_type": "execute_result"
    },
    {
     "data": {
      "image/png": "[encoded data removed]",
      "text/plain": [
       "<Figure size 640x480 with 1 Axes>"
      ]
     },
     "metadata": {},
     "output_type": "display_data"
    }
   ],
   "source": [
    "(df_flights.\n",
    " groupby(\"FlightDate\")\n",
    " [[\"CarrierDelay\",\"LateAircraftDelay\"]]\n",
    " .agg(\"mean\")\n",
    " .plot())"
   ]
  },
  {
   "cell_type": "markdown",
   "metadata": {},
   "source": [
    "##### Frequency Distribution Table"
   ]
  },
  {
   "cell_type": "code",
   "execution_count": 14,
   "metadata": {},
   "outputs": [
    {
     "data": {
      "text/html": [
       "<div>\n",
       "<style scoped>\n",
       "    .dataframe tbody tr th:only-of-type {\n",
       "        vertical-align: middle;\n",
       "    }\n",
       "\n",
       "    .dataframe tbody tr th {\n",
       "        vertical-align: top;\n",
       "    }\n",
       "\n",
       "    .dataframe thead th {\n",
       "        text-align: right;\n",
       "    }\n",
       "</style>\n",
       "<table border=\"1\" class=\"dataframe\">\n",
       "  <thead>\n",
       "    <tr style=\"text-align: right;\">\n",
       "      <th></th>\n",
       "      <th>Row Count</th>\n",
       "    </tr>\n",
       "    <tr>\n",
       "      <th>Operating_Airline</th>\n",
       "      <th></th>\n",
       "    </tr>\n",
       "  </thead>\n",
       "  <tbody>\n",
       "    <tr>\n",
       "      <th>Southwest Airlines Co.</th>\n",
       "      <td>850814</td>\n",
       "    </tr>\n",
       "    <tr>\n",
       "      <th>Delta Air Lines Inc.</th>\n",
       "      <td>590787</td>\n",
       "    </tr>\n",
       "    <tr>\n",
       "      <th>American Airlines Inc.</th>\n",
       "      <td>574280</td>\n",
       "    </tr>\n",
       "    <tr>\n",
       "      <th>SkyWest Airlines Inc.</th>\n",
       "      <td>504520</td>\n",
       "    </tr>\n",
       "    <tr>\n",
       "      <th>United Air Lines Inc.</th>\n",
       "      <td>406927</td>\n",
       "    </tr>\n",
       "    <tr>\n",
       "      <th>Republic Airlines</th>\n",
       "      <td>224567</td>\n",
       "    </tr>\n",
       "    <tr>\n",
       "      <th>JetBlue Airways</th>\n",
       "      <td>179893</td>\n",
       "    </tr>\n",
       "    <tr>\n",
       "      <th>Envoy Air</th>\n",
       "      <td>172616</td>\n",
       "    </tr>\n",
       "    <tr>\n",
       "      <th>Endeavor Air Inc.</th>\n",
       "      <td>162517</td>\n",
       "    </tr>\n",
       "    <tr>\n",
       "      <th>Comair Inc.</th>\n",
       "      <td>153276</td>\n",
       "    </tr>\n",
       "    <tr>\n",
       "      <th>Alaska Airlines Inc.</th>\n",
       "      <td>150024</td>\n",
       "    </tr>\n",
       "    <tr>\n",
       "      <th>Spirit Air Lines</th>\n",
       "      <td>148789</td>\n",
       "    </tr>\n",
       "    <tr>\n",
       "      <th>Frontier Airlines Inc.</th>\n",
       "      <td>99894</td>\n",
       "    </tr>\n",
       "    <tr>\n",
       "      <th>Allegiant Air</th>\n",
       "      <td>82786</td>\n",
       "    </tr>\n",
       "    <tr>\n",
       "      <th>Mesa Airlines Inc.</th>\n",
       "      <td>80859</td>\n",
       "    </tr>\n",
       "    <tr>\n",
       "      <th>Horizon Air</th>\n",
       "      <td>64566</td>\n",
       "    </tr>\n",
       "    <tr>\n",
       "      <th>Capital Cargo International</th>\n",
       "      <td>59966</td>\n",
       "    </tr>\n",
       "    <tr>\n",
       "      <th>Commutair Aka Champlain Enterprises, Inc.</th>\n",
       "      <td>51198</td>\n",
       "    </tr>\n",
       "    <tr>\n",
       "      <th>Hawaiian Airlines Inc.</th>\n",
       "      <td>48726</td>\n",
       "    </tr>\n",
       "    <tr>\n",
       "      <th>Air Wisconsin Airlines Corp</th>\n",
       "      <td>45652</td>\n",
       "    </tr>\n",
       "    <tr>\n",
       "      <th>GoJet Airlines, LLC d/b/a United Express</th>\n",
       "      <td>39310</td>\n",
       "    </tr>\n",
       "  </tbody>\n",
       "</table>\n",
       "</div>"
      ],
      "text/plain": [
       "                                           Row Count\n",
       "Operating_Airline                                   \n",
       "Southwest Airlines Co.                        850814\n",
       "Delta Air Lines Inc.                          590787\n",
       "American Airlines Inc.                        574280\n",
       "SkyWest Airlines Inc.                         504520\n",
       "United Air Lines Inc.                         406927\n",
       "Republic Airlines                             224567\n",
       "JetBlue Airways                               179893\n",
       "Envoy Air                                     172616\n",
       "Endeavor Air Inc.                             162517\n",
       "Comair Inc.                                   153276\n",
       "Alaska Airlines Inc.                          150024\n",
       "Spirit Air Lines                              148789\n",
       "Frontier Airlines Inc.                         99894\n",
       "Allegiant Air                                  82786\n",
       "Mesa Airlines Inc.                             80859\n",
       "Horizon Air                                    64566\n",
       "Capital Cargo International                    59966\n",
       "Commutair Aka Champlain Enterprises, Inc.      51198\n",
       "Hawaiian Airlines Inc.                         48726\n",
       "Air Wisconsin Airlines Corp                    45652\n",
       "GoJet Airlines, LLC d/b/a United Express       39310"
      ]
     },
     "execution_count": 14,
     "metadata": {},
     "output_type": "execute_result"
    }
   ],
   "source": [
    "(df_flights\n",
    " [[\"Operating_Airline\"]]\n",
    " .value_counts()\n",
    ".sort_values(ascending=False)\n",
    ".to_frame(\"Row Count\")\n",
    ")"
   ]
  },
  {
   "cell_type": "code",
   "execution_count": 15,
   "metadata": {},
   "outputs": [
    {
     "data": {
      "application/vnd.plotly.v1+json": {
       "config": {
        "plotlyServerURL": "https://plot.ly"
       },
       "data": [
        {
         "alignmentgroup": "True",
         "hovertemplate": "variable=Operating_Airline<br>value=%{x}<br>index=%{y}<extra></extra>",
         "legendgroup": "Operating_Airline",
         "marker": {
          "color": "#636efa",
          "pattern": {
           "shape": ""
          }
         },
         "name": "Operating_Airline",
         "offsetgroup": "Operating_Airline",
         "orientation": "h",
         "showlegend": true,
         "textposition": "auto",
         "type": "bar",
         "x": [
          39310,
          45652,
          48726,
          51198,
          59966,
          64566,
          80859,
          82786,
          99894,
          148789,
          150024,
          153276,
          162517,
          172616,
          179893,
          224567,
          406927,
          504520,
          574280,
          590787,
          850814
         ],
         "xaxis": "x",
         "y": [
          "GoJet Airlines, LLC d/b/a United Express",
          "Air Wisconsin Airlines Corp",
          "Hawaiian Airlines Inc.",
          "Commutair Aka Champlain Enterprises, Inc.",
          "Capital Cargo International",
          "Horizon Air",
          "Mesa Airlines Inc.",
          "Allegiant Air",
          "Frontier Airlines Inc.",
          "Spirit Air Lines",
          "Alaska Airlines Inc.",
          "Comair Inc.",
          "Endeavor Air Inc.",
          "Envoy Air",
          "JetBlue Airways",
          "Republic Airlines",
          "United Air Lines Inc.",
          "SkyWest Airlines Inc.",
          "American Airlines Inc.",
          "Delta Air Lines Inc.",
          "Southwest Airlines Co."
         ],
         "yaxis": "y"
        }
       ],
       "layout": {
        "barmode": "relative",
        "height": 700,
        "legend": {
         "title": {
          "text": "variable"
         },
         "tracegroupgap": 0
        },
        "template": {
         "data": {
          "bar": [
           {
            "error_x": {
             "color": "#f2f5fa"
            },
            "error_y": {
             "color": "#f2f5fa"
            },
            "marker": {
             "line": {
              "color": "rgb(17,17,17)",
              "width": 0.5
             },
             "pattern": {
              "fillmode": "overlay",
              "size": 10,
              "solidity": 0.2
             }
            },
            "type": "bar"
           }
          ],
          "barpolar": [
           {
            "marker": {
             "line": {
              "color": "rgb(17,17,17)",
              "width": 0.5
             },
             "pattern": {
              "fillmode": "overlay",
              "size": 10,
              "solidity": 0.2
             }
            },
            "type": "barpolar"
           }
          ],
          "carpet": [
           {
            "aaxis": {
             "endlinecolor": "#A2B1C6",
             "gridcolor": "#506784",
             "linecolor": "#506784",
             "minorgridcolor": "#506784",
             "startlinecolor": "#A2B1C6"
            },
            "baxis": {
             "endlinecolor": "#A2B1C6",
             "gridcolor": "#506784",
             "linecolor": "#506784",
             "minorgridcolor": "#506784",
             "startlinecolor": "#A2B1C6"
            },
            "type": "carpet"
           }
          ],
          "choropleth": [
           {
            "colorbar": {
             "outlinewidth": 0,
             "ticks": ""
            },
            "type": "choropleth"
           }
          ],
          "contour": [
           {
            "colorbar": {
             "outlinewidth": 0,
             "ticks": ""
            },
            "colorscale": [
             [
              0,
              "#0d0887"
             ],
             [
              0.1111111111111111,
              "#46039f"
             ],
             [
              0.2222222222222222,
              "#7201a8"
             ],
             [
              0.3333333333333333,
              "#9c179e"
             ],
             [
              0.4444444444444444,
              "#bd3786"
             ],
             [
              0.5555555555555556,
              "#d8576b"
             ],
             [
              0.6666666666666666,
              "#ed7953"
             ],
             [
              0.7777777777777778,
              "#fb9f3a"
             ],
             [
              0.8888888888888888,
              "#fdca26"
             ],
             [
              1,
              "#f0f921"
             ]
            ],
            "type": "contour"
           }
          ],
          "contourcarpet": [
           {
            "colorbar": {
             "outlinewidth": 0,
             "ticks": ""
            },
            "type": "contourcarpet"
           }
          ],
          "heatmap": [
           {
            "colorbar": {
             "outlinewidth": 0,
             "ticks": ""
            },
            "colorscale": [
             [
              0,
              "#0d0887"
             ],
             [
              0.1111111111111111,
              "#46039f"
             ],
             [
              0.2222222222222222,
              "#7201a8"
             ],
             [
              0.3333333333333333,
              "#9c179e"
             ],
             [
              0.4444444444444444,
              "#bd3786"
             ],
             [
              0.5555555555555556,
              "#d8576b"
             ],
             [
              0.6666666666666666,
              "#ed7953"
             ],
             [
              0.7777777777777778,
              "#fb9f3a"
             ],
             [
              0.8888888888888888,
              "#fdca26"
             ],
             [
              1,
              "#f0f921"
             ]
            ],
            "type": "heatmap"
           }
          ],
          "heatmapgl": [
           {
            "colorbar": {
             "outlinewidth": 0,
             "ticks": ""
            },
            "colorscale": [
             [
              0,
              "#0d0887"
             ],
             [
              0.1111111111111111,
              "#46039f"
             ],
             [
              0.2222222222222222,
              "#7201a8"
             ],
             [
              0.3333333333333333,
              "#9c179e"
             ],
             [
              0.4444444444444444,
              "#bd3786"
             ],
             [
              0.5555555555555556,
              "#d8576b"
             ],
             [
              0.6666666666666666,
              "#ed7953"
             ],
             [
              0.7777777777777778,
              "#fb9f3a"
             ],
             [
              0.8888888888888888,
              "#fdca26"
             ],
             [
              1,
              "#f0f921"
             ]
            ],
            "type": "heatmapgl"
           }
          ],
          "histogram": [
           {
            "marker": {
             "pattern": {
              "fillmode": "overlay",
              "size": 10,
              "solidity": 0.2
             }
            },
            "type": "histogram"
           }
          ],
          "histogram2d": [
           {
            "colorbar": {
             "outlinewidth": 0,
             "ticks": ""
            },
            "colorscale": [
             [
              0,
              "#0d0887"
             ],
             [
              0.1111111111111111,
              "#46039f"
             ],
             [
              0.2222222222222222,
              "#7201a8"
             ],
             [
              0.3333333333333333,
              "#9c179e"
             ],
             [
              0.4444444444444444,
              "#bd3786"
             ],
             [
              0.5555555555555556,
              "#d8576b"
             ],
             [
              0.6666666666666666,
              "#ed7953"
             ],
             [
              0.7777777777777778,
              "#fb9f3a"
             ],
             [
              0.8888888888888888,
              "#fdca26"
             ],
             [
              1,
              "#f0f921"
             ]
            ],
            "type": "histogram2d"
           }
          ],
          "histogram2dcontour": [
           {
            "colorbar": {
             "outlinewidth": 0,
             "ticks": ""
            },
            "colorscale": [
             [
              0,
              "#0d0887"
             ],
             [
              0.1111111111111111,
              "#46039f"
             ],
             [
              0.2222222222222222,
              "#7201a8"
             ],
             [
              0.3333333333333333,
              "#9c179e"
             ],
             [
              0.4444444444444444,
              "#bd3786"
             ],
             [
              0.5555555555555556,
              "#d8576b"
             ],
             [
              0.6666666666666666,
              "#ed7953"
             ],
             [
              0.7777777777777778,
              "#fb9f3a"
             ],
             [
              0.8888888888888888,
              "#fdca26"
             ],
             [
              1,
              "#f0f921"
             ]
            ],
            "type": "histogram2dcontour"
           }
          ],
          "mesh3d": [
           {
            "colorbar": {
             "outlinewidth": 0,
             "ticks": ""
            },
            "type": "mesh3d"
           }
          ],
          "parcoords": [
           {
            "line": {
             "colorbar": {
              "outlinewidth": 0,
              "ticks": ""
             }
            },
            "type": "parcoords"
           }
          ],
          "pie": [
           {
            "automargin": true,
            "type": "pie"
           }
          ],
          "scatter": [
           {
            "marker": {
             "line": {
              "color": "#283442"
             }
            },
            "type": "scatter"
           }
          ],
          "scatter3d": [
           {
            "line": {
             "colorbar": {
              "outlinewidth": 0,
              "ticks": ""
             }
            },
            "marker": {
             "colorbar": {
              "outlinewidth": 0,
              "ticks": ""
             }
            },
            "type": "scatter3d"
           }
          ],
          "scattercarpet": [
           {
            "marker": {
             "colorbar": {
              "outlinewidth": 0,
              "ticks": ""
             }
            },
            "type": "scattercarpet"
           }
          ],
          "scattergeo": [
           {
            "marker": {
             "colorbar": {
              "outlinewidth": 0,
              "ticks": ""
             }
            },
            "type": "scattergeo"
           }
          ],
          "scattergl": [
           {
            "marker": {
             "line": {
              "color": "#283442"
             }
            },
            "type": "scattergl"
           }
          ],
          "scattermapbox": [
           {
            "marker": {
             "colorbar": {
              "outlinewidth": 0,
              "ticks": ""
             }
            },
            "type": "scattermapbox"
           }
          ],
          "scatterpolar": [
           {
            "marker": {
             "colorbar": {
              "outlinewidth": 0,
              "ticks": ""
             }
            },
            "type": "scatterpolar"
           }
          ],
          "scatterpolargl": [
           {
            "marker": {
             "colorbar": {
              "outlinewidth": 0,
              "ticks": ""
             }
            },
            "type": "scatterpolargl"
           }
          ],
          "scatterternary": [
           {
            "marker": {
             "colorbar": {
              "outlinewidth": 0,
              "ticks": ""
             }
            },
            "type": "scatterternary"
           }
          ],
          "surface": [
           {
            "colorbar": {
             "outlinewidth": 0,
             "ticks": ""
            },
            "colorscale": [
             [
              0,
              "#0d0887"
             ],
             [
              0.1111111111111111,
              "#46039f"
             ],
             [
              0.2222222222222222,
              "#7201a8"
             ],
             [
              0.3333333333333333,
              "#9c179e"
             ],
             [
              0.4444444444444444,
              "#bd3786"
             ],
             [
              0.5555555555555556,
              "#d8576b"
             ],
             [
              0.6666666666666666,
              "#ed7953"
             ],
             [
              0.7777777777777778,
              "#fb9f3a"
             ],
             [
              0.8888888888888888,
              "#fdca26"
             ],
             [
              1,
              "#f0f921"
             ]
            ],
            "type": "surface"
           }
          ],
          "table": [
           {
            "cells": {
             "fill": {
              "color": "#506784"
             },
             "line": {
              "color": "rgb(17,17,17)"
             }
            },
            "header": {
             "fill": {
              "color": "#2a3f5f"
             },
             "line": {
              "color": "rgb(17,17,17)"
             }
            },
            "type": "table"
           }
          ]
         },
         "layout": {
          "annotationdefaults": {
           "arrowcolor": "#f2f5fa",
           "arrowhead": 0,
           "arrowwidth": 1
          },
          "autotypenumbers": "strict",
          "coloraxis": {
           "colorbar": {
            "outlinewidth": 0,
            "ticks": ""
           }
          },
          "colorscale": {
           "diverging": [
            [
             0,
             "#8e0152"
            ],
            [
             0.1,
             "#c51b7d"
            ],
            [
             0.2,
             "#de77ae"
            ],
            [
             0.3,
             "#f1b6da"
            ],
            [
             0.4,
             "#fde0ef"
            ],
            [
             0.5,
             "#f7f7f7"
            ],
            [
             0.6,
             "#e6f5d0"
            ],
            [
             0.7,
             "#b8e186"
            ],
            [
             0.8,
             "#7fbc41"
            ],
            [
             0.9,
             "#4d9221"
            ],
            [
             1,
             "#276419"
            ]
           ],
           "sequential": [
            [
             0,
             "#0d0887"
            ],
            [
             0.1111111111111111,
             "#46039f"
            ],
            [
             0.2222222222222222,
             "#7201a8"
            ],
            [
             0.3333333333333333,
             "#9c179e"
            ],
            [
             0.4444444444444444,
             "#bd3786"
            ],
            [
             0.5555555555555556,
             "#d8576b"
            ],
            [
             0.6666666666666666,
             "#ed7953"
            ],
            [
             0.7777777777777778,
             "#fb9f3a"
            ],
            [
             0.8888888888888888,
             "#fdca26"
            ],
            [
             1,
             "#f0f921"
            ]
           ],
           "sequentialminus": [
            [
             0,
             "#0d0887"
            ],
            [
             0.1111111111111111,
             "#46039f"
            ],
            [
             0.2222222222222222,
             "#7201a8"
            ],
            [
             0.3333333333333333,
             "#9c179e"
            ],
            [
             0.4444444444444444,
             "#bd3786"
            ],
            [
             0.5555555555555556,
             "#d8576b"
            ],
            [
             0.6666666666666666,
             "#ed7953"
            ],
            [
             0.7777777777777778,
             "#fb9f3a"
            ],
            [
             0.8888888888888888,
             "#fdca26"
            ],
            [
             1,
             "#f0f921"
            ]
           ]
          },
          "colorway": [
           "#636efa",
           "#EF553B",
           "#00cc96",
           "#ab63fa",
           "#FFA15A",
           "#19d3f3",
           "#FF6692",
           "#B6E880",
           "#FF97FF",
           "#FECB52"
          ],
          "font": {
           "color": "#f2f5fa"
          },
          "geo": {
           "bgcolor": "rgb(17,17,17)",
           "lakecolor": "rgb(17,17,17)",
           "landcolor": "rgb(17,17,17)",
           "showlakes": true,
           "showland": true,
           "subunitcolor": "#506784"
          },
          "hoverlabel": {
           "align": "left"
          },
          "hovermode": "closest",
          "mapbox": {
           "style": "dark"
          },
          "paper_bgcolor": "rgb(17,17,17)",
          "plot_bgcolor": "rgb(17,17,17)",
          "polar": {
           "angularaxis": {
            "gridcolor": "#506784",
            "linecolor": "#506784",
            "ticks": ""
           },
           "bgcolor": "rgb(17,17,17)",
           "radialaxis": {
            "gridcolor": "#506784",
            "linecolor": "#506784",
            "ticks": ""
           }
          },
          "scene": {
           "xaxis": {
            "backgroundcolor": "rgb(17,17,17)",
            "gridcolor": "#506784",
            "gridwidth": 2,
            "linecolor": "#506784",
            "showbackground": true,
            "ticks": "",
            "zerolinecolor": "#C8D4E3"
           },
           "yaxis": {
            "backgroundcolor": "rgb(17,17,17)",
            "gridcolor": "#506784",
            "gridwidth": 2,
            "linecolor": "#506784",
            "showbackground": true,
            "ticks": "",
            "zerolinecolor": "#C8D4E3"
           },
           "zaxis": {
            "backgroundcolor": "rgb(17,17,17)",
            "gridcolor": "#506784",
            "gridwidth": 2,
            "linecolor": "#506784",
            "showbackground": true,
            "ticks": "",
            "zerolinecolor": "#C8D4E3"
           }
          },
          "shapedefaults": {
           "line": {
            "color": "#f2f5fa"
           }
          },
          "sliderdefaults": {
           "bgcolor": "#C8D4E3",
           "bordercolor": "rgb(17,17,17)",
           "borderwidth": 1,
           "tickwidth": 0
          },
          "ternary": {
           "aaxis": {
            "gridcolor": "#506784",
            "linecolor": "#506784",
            "ticks": ""
           },
           "baxis": {
            "gridcolor": "#506784",
            "linecolor": "#506784",
            "ticks": ""
           },
           "bgcolor": "rgb(17,17,17)",
           "caxis": {
            "gridcolor": "#506784",
            "linecolor": "#506784",
            "ticks": ""
           }
          },
          "title": {
           "x": 0.05
          },
          "updatemenudefaults": {
           "bgcolor": "#506784",
           "borderwidth": 0
          },
          "xaxis": {
           "automargin": true,
           "gridcolor": "#283442",
           "linecolor": "#506784",
           "ticks": "",
           "title": {
            "standoff": 15
           },
           "zerolinecolor": "#283442",
           "zerolinewidth": 2
          },
          "yaxis": {
           "automargin": true,
           "gridcolor": "#283442",
           "linecolor": "#506784",
           "ticks": "",
           "title": {
            "standoff": 15
           },
           "zerolinecolor": "#283442",
           "zerolinewidth": 2
          }
         }
        },
        "title": {
         "text": "Flights per airline"
        },
        "xaxis": {
         "anchor": "y",
         "domain": [
          0,
          1
         ],
         "title": {
          "text": "value"
         }
        },
        "yaxis": {
         "anchor": "x",
         "domain": [
          0,
          1
         ],
         "title": {
          "text": "index"
         }
        }
       }
      }
     },
     "metadata": {},
     "output_type": "display_data"
    }
   ],
   "source": [
    "px.bar(\n",
    "    df_flights[\"Operating_Airline\"]\n",
    "    .value_counts()\n",
    "    .sort_values(ascending=True), \n",
    "    orientation='h', \n",
    "    template=\"plotly_dark\",\n",
    "    title=\"Flights per airline\",\n",
    "    height=700,\n",
    "    )"
   ]
  },
  {
   "cell_type": "code",
   "execution_count": 16,
   "metadata": {},
   "outputs": [
    {
     "name": "stderr",
     "output_type": "stream",
     "text": [
      "<__array_function__ internals>:180: RuntimeWarning:\n",
      "\n",
      "Converting input from bool to <class 'numpy.uint8'> for compatibility.\n",
      "\n",
      "<__array_function__ internals>:180: RuntimeWarning:\n",
      "\n",
      "Converting input from bool to <class 'numpy.uint8'> for compatibility.\n",
      "\n"
     ]
    },
    {
     "data": {
      "image/png": "[encoded data removed]",
      "text/plain": [
       "<Figure size 750x750 with 12 Axes>"
      ]
     },
     "metadata": {},
     "output_type": "display_data"
    }
   ],
   "source": [
    "g = sns.pairplot(df_flights[[\"DepTime\", \"Diverted\", \"Cancelled\"]])\n",
    "plt.show()"
   ]
  },
  {
   "cell_type": "code",
   "execution_count": null,
   "metadata": {},
   "outputs": [],
   "source": []
  }
 ],
 "metadata": {
  "kernelspec": {
   "display_name": "Python 3.11.0 ('team-3-N2NXnkel')",
   "language": "python",
   "name": "python3"
  },
  "language_info": {
   "codemirror_mode": {
    "name": "ipython",
    "version": 3
   },
   "file_extension": ".py",
   "mimetype": "text/x-python",
   "name": "python",
   "nbconvert_exporter": "python",
   "pygments_lexer": "ipython3",
   "version": "3.11.0"
  },
  "vscode": {
   "interpreter": {
    "hash": "13b707afe647235fabbd8fa9a50cb628621b6b26172b2c2a7128d664447ee1d0"
   }
  }
 },
 "nbformat": 4,
 "nbformat_minor": 2
}

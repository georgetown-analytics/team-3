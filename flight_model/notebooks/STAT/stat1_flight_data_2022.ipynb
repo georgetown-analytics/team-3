{
 "cells": [
  {
   "cell_type": "code",
   "execution_count": 1,
   "metadata": {},
   "outputs": [],
   "source": [
    "import numpy as np\n",
    "import pandas as pd\n",
    "import matplotlib.pyplot as plt\n",
    "import seaborn as sns\n",
    "import plotly.express as px\n",
    "\n",
    "sns.set_theme(style=\"darkgrid\")\n",
    "current_palette = sns.color_palette()\n"
   ]
  },
  {
   "cell_type": "code",
   "execution_count": 2,
   "metadata": {},
   "outputs": [],
   "source": [
    "pd.options.display.min_rows = 20\n",
    "pd.options.display.max_columns = 500\n"
   ]
  },
  {
   "cell_type": "markdown",
   "metadata": {},
   "source": [
    "### Load in the data"
   ]
  },
  {
   "cell_type": "code",
   "execution_count": 6,
   "metadata": {},
   "outputs": [],
   "source": [
    "## Read in 2022 data from filesystem\n",
    "df_flights = pd.read_csv(\"../../data/eda/flights/flight_data_Y2022/flight_data_2022.csv.zip\",  low_memory=False)"
   ]
  },
  {
   "cell_type": "code",
   "execution_count": 7,
   "metadata": {},
   "outputs": [],
   "source": [
    "airlines = pd.read_csv(\n",
    "    \"../../data/databases/flight_attributes/airlines.csv.zip\", low_memory=False)\n",
    "airline_mapper = airlines.set_index(\"Code\")[\"Description\"]\n"
   ]
  },
  {
   "cell_type": "code",
   "execution_count": 8,
   "metadata": {},
   "outputs": [],
   "source": [
    "cancellation_codes = pd.read_csv(\n",
    "    \"../../data/databases/flight_attributes/cancellation_codes.csv\", low_memory=False)\n",
    "cancellation_code_mapper = cancellation_codes.set_index(\n",
    "    \"CANCELLATION_REASON\")[\"CANCELLATION_DESCRIPTION\"]\n"
   ]
  },
  {
   "cell_type": "markdown",
   "metadata": {},
   "source": [
    "### Clean the data"
   ]
  },
  {
   "cell_type": "markdown",
   "metadata": {},
   "source": [
    "Feature Selection"
   ]
  },
  {
   "cell_type": "code",
   "execution_count": 9,
   "metadata": {},
   "outputs": [],
   "source": [
    "\n",
    "\n",
    "SELECTED_COLUMNS = [\n",
    "    \"FlightDate\",\n",
    "    \"Operating_Airline \",\n",
    "    \"Tail_Number\",\n",
    "    \"Flight_Number_Operating_Airline\",\n",
    "    \"OriginAirportID\",\n",
    "    \"Origin\",\n",
    "    \"OriginCityName\",\n",
    "    \"OriginState\",\n",
    "    \"OriginStateName\",\n",
    "    \"DestAirportID\",\n",
    "    \"Dest\",\n",
    "    \"DestCityName\",\n",
    "    \"DestState\",\n",
    "    \"DestStateName\",\n",
    "    \"CRSDepTime\",\n",
    "    \"DepTime\",\n",
    "    \"DepDelay\",\n",
    "    \"DepDel15\",\n",
    "    \"DepDelayMinutes\",\n",
    "    \"DepTimeBlk\",\n",
    "    \"TaxiOut\",\n",
    "    \"WheelsOn\",\n",
    "    \"TaxiIn\",\n",
    "    \"CRSArrTime\",\n",
    "    \"ArrTime\",\n",
    "    \"ArrDelayMinutes\",\n",
    "    \"ArrDel15\",\n",
    "    \"ArrTimeBlk\",\n",
    "    \"Cancelled\",\n",
    "    \"CancellationCode\",\n",
    "    \"Diverted\",\n",
    "    \"CRSElapsedTime\",\n",
    "    \"AirTime\",\n",
    "    \"Distance\",\n",
    "    \"CarrierDelay\",\n",
    "    \"WeatherDelay\",\n",
    "    \"NASDelay\",\n",
    "    \"SecurityDelay\",\n",
    "    \"LateAircraftDelay\",\n",
    "    \"FirstDepTime\",\n",
    "    \"TotalAddGTime\",\n",
    "]\n"
   ]
  },
  {
   "cell_type": "code",
   "execution_count": null,
   "metadata": {},
   "outputs": [],
   "source": [
    "df_flights[SELECTED_COLUMNS].columns.to_list()\n"
   ]
  },
  {
   "cell_type": "code",
   "execution_count": 10,
   "metadata": {},
   "outputs": [
    {
     "ename": "AttributeError",
     "evalue": "'DataFrame' object has no attribute 'Flights'",
     "output_type": "error",
     "traceback": [
      "\u001b[1;31m---------------------------------------------------------------------------\u001b[0m",
      "\u001b[1;31mAttributeError\u001b[0m                            Traceback (most recent call last)",
      "Cell \u001b[1;32mIn [10], line 67\u001b[0m\n\u001b[0;32m     15\u001b[0m     df_flights\u001b[39m.\u001b[39mpipe(airline_mapping)\n\u001b[0;32m     16\u001b[0m     \u001b[39mreturn\u001b[39;00m df_flights\u001b[39m.\u001b[39massign(\n\u001b[0;32m     17\u001b[0m         DepTime\u001b[39m=\u001b[39mdf_flights\u001b[39m.\u001b[39mDepTime\u001b[39m.\u001b[39mfillna(\u001b[39m0\u001b[39m)\u001b[39m.\u001b[39mastype(\u001b[39m\"\u001b[39m\u001b[39mfloat16\u001b[39m\u001b[39m\"\u001b[39m),\n\u001b[0;32m     18\u001b[0m         DepDelay\u001b[39m=\u001b[39mdf_flights\u001b[39m.\u001b[39mDepDelay\u001b[39m.\u001b[39mfillna(\u001b[39m0\u001b[39m)\u001b[39m.\u001b[39mastype(\u001b[39m\"\u001b[39m\u001b[39mfloat16\u001b[39m\u001b[39m\"\u001b[39m),\n\u001b[1;32m   (...)\u001b[0m\n\u001b[0;32m     63\u001b[0m         }\n\u001b[0;32m     64\u001b[0m     )\n\u001b[1;32m---> 67\u001b[0m df_flights \u001b[39m=\u001b[39m tweak_df_flights(df_flights)\n\u001b[0;32m     68\u001b[0m df_flights\u001b[39m.\u001b[39minfo()\n",
      "Cell \u001b[1;32mIn [10], line 29\u001b[0m, in \u001b[0;36mtweak_df_flights\u001b[1;34m(df_flights)\u001b[0m\n\u001b[0;32m     10\u001b[0m df_flights \u001b[39m=\u001b[39m (\n\u001b[0;32m     11\u001b[0m     df_flights[SELECTED_COLUMNS]\n\u001b[0;32m     12\u001b[0m     \u001b[39m.\u001b[39mcopy()\n\u001b[0;32m     13\u001b[0m     \u001b[39m.\u001b[39mrename(columns\u001b[39m=\u001b[39m{\u001b[39m\"\u001b[39m\u001b[39mOperating_Airline \u001b[39m\u001b[39m\"\u001b[39m: \u001b[39m\"\u001b[39m\u001b[39mOperating_Airline\u001b[39m\u001b[39m\"\u001b[39m, \u001b[39m\"\u001b[39m\u001b[39mFlight_Number_Operating_Airline\u001b[39m\u001b[39m\"\u001b[39m: \u001b[39m\"\u001b[39m\u001b[39mFlight_Number\u001b[39m\u001b[39m\"\u001b[39m})\n\u001b[0;32m     14\u001b[0m )\n\u001b[0;32m     15\u001b[0m df_flights\u001b[39m.\u001b[39mpipe(airline_mapping)\n\u001b[0;32m     16\u001b[0m \u001b[39mreturn\u001b[39;00m df_flights\u001b[39m.\u001b[39massign(\n\u001b[0;32m     17\u001b[0m     DepTime\u001b[39m=\u001b[39mdf_flights\u001b[39m.\u001b[39mDepTime\u001b[39m.\u001b[39mfillna(\u001b[39m0\u001b[39m)\u001b[39m.\u001b[39mastype(\u001b[39m\"\u001b[39m\u001b[39mfloat16\u001b[39m\u001b[39m\"\u001b[39m),\n\u001b[0;32m     18\u001b[0m     DepDelay\u001b[39m=\u001b[39mdf_flights\u001b[39m.\u001b[39mDepDelay\u001b[39m.\u001b[39mfillna(\u001b[39m0\u001b[39m)\u001b[39m.\u001b[39mastype(\u001b[39m\"\u001b[39m\u001b[39mfloat16\u001b[39m\u001b[39m\"\u001b[39m),\n\u001b[0;32m     19\u001b[0m     DepDel15\u001b[39m=\u001b[39mdf_flights\u001b[39m.\u001b[39mDepDel15\u001b[39m.\u001b[39mfillna(\u001b[39m0\u001b[39m)\u001b[39m.\u001b[39mastype(\u001b[39m\"\u001b[39m\u001b[39mfloat16\u001b[39m\u001b[39m\"\u001b[39m),\n\u001b[0;32m     20\u001b[0m     DepDelayMinutes\u001b[39m=\u001b[39mdf_flights\u001b[39m.\u001b[39mDepDelayMinutes\u001b[39m.\u001b[39mfillna(\u001b[39m0\u001b[39m)\u001b[39m.\u001b[39mastype(\u001b[39m\"\u001b[39m\u001b[39mfloat16\u001b[39m\u001b[39m\"\u001b[39m),\n\u001b[0;32m     21\u001b[0m     TaxiOut\u001b[39m=\u001b[39mdf_flights\u001b[39m.\u001b[39mTaxiOut\u001b[39m.\u001b[39mfillna(\u001b[39m0\u001b[39m)\u001b[39m.\u001b[39mastype(\u001b[39m\"\u001b[39m\u001b[39mfloat16\u001b[39m\u001b[39m\"\u001b[39m),\n\u001b[0;32m     22\u001b[0m     WheelsOn\u001b[39m=\u001b[39mdf_flights\u001b[39m.\u001b[39mWheelsOn\u001b[39m.\u001b[39mfillna(\u001b[39m0\u001b[39m)\u001b[39m.\u001b[39mastype(\u001b[39m\"\u001b[39m\u001b[39mfloat16\u001b[39m\u001b[39m\"\u001b[39m),\n\u001b[0;32m     23\u001b[0m     TaxiIn\u001b[39m=\u001b[39mdf_flights\u001b[39m.\u001b[39mTaxiIn\u001b[39m.\u001b[39mfillna(\u001b[39m0\u001b[39m)\u001b[39m.\u001b[39mastype(\u001b[39m\"\u001b[39m\u001b[39mfloat16\u001b[39m\u001b[39m\"\u001b[39m),\n\u001b[0;32m     24\u001b[0m     ArrDel15\u001b[39m=\u001b[39mdf_flights\u001b[39m.\u001b[39mArrDel15\u001b[39m.\u001b[39mfillna(\u001b[39m0\u001b[39m)\u001b[39m.\u001b[39mastype(\u001b[39m\"\u001b[39m\u001b[39mfloat16\u001b[39m\u001b[39m\"\u001b[39m),\n\u001b[0;32m     25\u001b[0m     ArrDelayMinutes\u001b[39m=\u001b[39mdf_flights\u001b[39m.\u001b[39mArrDelayMinutes\u001b[39m.\u001b[39mfillna(\u001b[39m0\u001b[39m)\u001b[39m.\u001b[39mastype(\u001b[39m\"\u001b[39m\u001b[39mfloat16\u001b[39m\u001b[39m\"\u001b[39m),\n\u001b[0;32m     26\u001b[0m     CRSElapsedTime\u001b[39m=\u001b[39mdf_flights\u001b[39m.\u001b[39mCRSElapsedTime\u001b[39m.\u001b[39mfillna(\u001b[39m0\u001b[39m)\u001b[39m.\u001b[39mastype(\u001b[39m\"\u001b[39m\u001b[39mfloat16\u001b[39m\u001b[39m\"\u001b[39m),\n\u001b[0;32m     27\u001b[0m     ArrTime\u001b[39m=\u001b[39mdf_flights\u001b[39m.\u001b[39mArrTime\u001b[39m.\u001b[39mfillna(\u001b[39m0\u001b[39m)\u001b[39m.\u001b[39mastype(\u001b[39m\"\u001b[39m\u001b[39mfloat16\u001b[39m\u001b[39m\"\u001b[39m),\n\u001b[0;32m     28\u001b[0m     AirTime\u001b[39m=\u001b[39mdf_flights\u001b[39m.\u001b[39mAirTime\u001b[39m.\u001b[39mfillna(\u001b[39m0\u001b[39m)\u001b[39m.\u001b[39mastype(\u001b[39m\"\u001b[39m\u001b[39mfloat16\u001b[39m\u001b[39m\"\u001b[39m),\n\u001b[1;32m---> 29\u001b[0m     Flights\u001b[39m=\u001b[39mdf_flights\u001b[39m.\u001b[39;49mFlights\u001b[39m.\u001b[39mfillna(\u001b[39m0\u001b[39m)\u001b[39m.\u001b[39mastype(\u001b[39m\"\u001b[39m\u001b[39mfloat16\u001b[39m\u001b[39m\"\u001b[39m),\n\u001b[0;32m     30\u001b[0m     Distance\u001b[39m=\u001b[39mdf_flights\u001b[39m.\u001b[39mDistance\u001b[39m.\u001b[39mfillna(\u001b[39m0\u001b[39m)\u001b[39m.\u001b[39mastype(\u001b[39m\"\u001b[39m\u001b[39mfloat16\u001b[39m\u001b[39m\"\u001b[39m),\n\u001b[0;32m     31\u001b[0m     CarrierDelay\u001b[39m=\u001b[39mdf_flights\u001b[39m.\u001b[39mCarrierDelay\u001b[39m.\u001b[39mfillna(\u001b[39m0\u001b[39m)\u001b[39m.\u001b[39mastype(\u001b[39m\"\u001b[39m\u001b[39mfloat16\u001b[39m\u001b[39m\"\u001b[39m),\n\u001b[0;32m     32\u001b[0m     WeatherDelay\u001b[39m=\u001b[39mdf_flights\u001b[39m.\u001b[39mWeatherDelay\u001b[39m.\u001b[39mfillna(\u001b[39m0\u001b[39m)\u001b[39m.\u001b[39mastype(\u001b[39m\"\u001b[39m\u001b[39mfloat16\u001b[39m\u001b[39m\"\u001b[39m),\n\u001b[0;32m     33\u001b[0m     NASDelay\u001b[39m=\u001b[39mdf_flights\u001b[39m.\u001b[39mNASDelay\u001b[39m.\u001b[39mfillna(\u001b[39m0\u001b[39m)\u001b[39m.\u001b[39mastype(\u001b[39m\"\u001b[39m\u001b[39mfloat16\u001b[39m\u001b[39m\"\u001b[39m),\n\u001b[0;32m     34\u001b[0m     SecurityDelay\u001b[39m=\u001b[39mdf_flights\u001b[39m.\u001b[39mSecurityDelay\u001b[39m.\u001b[39mfillna(\u001b[39m0\u001b[39m)\u001b[39m.\u001b[39mastype(\u001b[39m\"\u001b[39m\u001b[39mfloat16\u001b[39m\u001b[39m\"\u001b[39m),\n\u001b[0;32m     35\u001b[0m     LateAircraftDelay\u001b[39m=\u001b[39mdf_flights\u001b[39m.\u001b[39mLateAircraftDelay\u001b[39m.\u001b[39mfillna(\n\u001b[0;32m     36\u001b[0m         \u001b[39m0\u001b[39m)\u001b[39m.\u001b[39mastype(\u001b[39m\"\u001b[39m\u001b[39mfloat16\u001b[39m\u001b[39m\"\u001b[39m),\n\u001b[0;32m     37\u001b[0m     FirstDepTime\u001b[39m=\u001b[39mdf_flights\u001b[39m.\u001b[39mFirstDepTime\u001b[39m.\u001b[39mfillna(\u001b[39m0\u001b[39m)\u001b[39m.\u001b[39mastype(\u001b[39m\"\u001b[39m\u001b[39mfloat16\u001b[39m\u001b[39m\"\u001b[39m),\n\u001b[0;32m     38\u001b[0m     TotalAddGTime\u001b[39m=\u001b[39mdf_flights\u001b[39m.\u001b[39mTotalAddGTime\u001b[39m.\u001b[39mfillna(\u001b[39m0\u001b[39m)\u001b[39m.\u001b[39mastype(\u001b[39m\"\u001b[39m\u001b[39mfloat16\u001b[39m\u001b[39m\"\u001b[39m),\n\u001b[0;32m     39\u001b[0m     CancellationCode\u001b[39m=\u001b[39mdf_flights\u001b[39m.\u001b[39mCancellationCode\u001b[39m.\u001b[39mfillna(\n\u001b[0;32m     40\u001b[0m         \u001b[39m\"\u001b[39m\u001b[39mnone\u001b[39m\u001b[39m\"\u001b[39m)\u001b[39m.\u001b[39mastype(\u001b[39m\"\u001b[39m\u001b[39mcategory\u001b[39m\u001b[39m\"\u001b[39m),\n\u001b[0;32m     41\u001b[0m     Tail_Number\u001b[39m=\u001b[39mdf_flights\u001b[39m.\u001b[39mTail_Number\u001b[39m.\u001b[39mfillna(\u001b[39m\"\u001b[39m\u001b[39mnone\u001b[39m\u001b[39m\"\u001b[39m)\u001b[39m.\u001b[39mastype(\u001b[39m\"\u001b[39m\u001b[39mcategory\u001b[39m\u001b[39m\"\u001b[39m),\n\u001b[0;32m     42\u001b[0m     FlightDate\u001b[39m=\u001b[39mpd\u001b[39m.\u001b[39mto_datetime(df_flights\u001b[39m.\u001b[39mFlightDate)\n\u001b[0;32m     43\u001b[0m )\u001b[39m.\u001b[39mastype(\n\u001b[0;32m     44\u001b[0m     {\n\u001b[0;32m     45\u001b[0m         \u001b[39m\"\u001b[39m\u001b[39mOperating_Airline\u001b[39m\u001b[39m\"\u001b[39m: \u001b[39m\"\u001b[39m\u001b[39mcategory\u001b[39m\u001b[39m\"\u001b[39m,\n\u001b[0;32m     46\u001b[0m         \u001b[39m\"\u001b[39m\u001b[39mOrigin\u001b[39m\u001b[39m\"\u001b[39m: \u001b[39m\"\u001b[39m\u001b[39mcategory\u001b[39m\u001b[39m\"\u001b[39m,\n\u001b[0;32m     47\u001b[0m         \u001b[39m\"\u001b[39m\u001b[39mDest\u001b[39m\u001b[39m\"\u001b[39m: \u001b[39m\"\u001b[39m\u001b[39mcategory\u001b[39m\u001b[39m\"\u001b[39m,\n\u001b[0;32m     48\u001b[0m         \u001b[39m\"\u001b[39m\u001b[39mDestState\u001b[39m\u001b[39m\"\u001b[39m: \u001b[39m\"\u001b[39m\u001b[39mcategory\u001b[39m\u001b[39m\"\u001b[39m,\n\u001b[0;32m     49\u001b[0m         \u001b[39m\"\u001b[39m\u001b[39mOriginState\u001b[39m\u001b[39m\"\u001b[39m: \u001b[39m\"\u001b[39m\u001b[39mcategory\u001b[39m\u001b[39m\"\u001b[39m,\n\u001b[0;32m     50\u001b[0m         \u001b[39m\"\u001b[39m\u001b[39mOriginCityName\u001b[39m\u001b[39m\"\u001b[39m: \u001b[39m\"\u001b[39m\u001b[39mcategory\u001b[39m\u001b[39m\"\u001b[39m,\n\u001b[0;32m     51\u001b[0m         \u001b[39m\"\u001b[39m\u001b[39mOriginStateName\u001b[39m\u001b[39m\"\u001b[39m: \u001b[39m\"\u001b[39m\u001b[39mcategory\u001b[39m\u001b[39m\"\u001b[39m,\n\u001b[0;32m     52\u001b[0m         \u001b[39m\"\u001b[39m\u001b[39mDestStateName\u001b[39m\u001b[39m\"\u001b[39m: \u001b[39m\"\u001b[39m\u001b[39mcategory\u001b[39m\u001b[39m\"\u001b[39m,\n\u001b[0;32m     53\u001b[0m         \u001b[39m\"\u001b[39m\u001b[39mDestCityName\u001b[39m\u001b[39m\"\u001b[39m: \u001b[39m\"\u001b[39m\u001b[39mcategory\u001b[39m\u001b[39m\"\u001b[39m,\n\u001b[0;32m     54\u001b[0m         \u001b[39m\"\u001b[39m\u001b[39mDepTimeBlk\u001b[39m\u001b[39m\"\u001b[39m: \u001b[39m\"\u001b[39m\u001b[39mcategory\u001b[39m\u001b[39m\"\u001b[39m,\n\u001b[0;32m     55\u001b[0m         \u001b[39m\"\u001b[39m\u001b[39mArrTimeBlk\u001b[39m\u001b[39m\"\u001b[39m: \u001b[39m\"\u001b[39m\u001b[39mcategory\u001b[39m\u001b[39m\"\u001b[39m,\n\u001b[0;32m     56\u001b[0m         \u001b[39m\"\u001b[39m\u001b[39mCancelled\u001b[39m\u001b[39m\"\u001b[39m: \u001b[39m\"\u001b[39m\u001b[39mbool\u001b[39m\u001b[39m\"\u001b[39m,\n\u001b[0;32m     57\u001b[0m         \u001b[39m\"\u001b[39m\u001b[39mDiverted\u001b[39m\u001b[39m\"\u001b[39m: \u001b[39m\"\u001b[39m\u001b[39mbool\u001b[39m\u001b[39m\"\u001b[39m,\n\u001b[0;32m     58\u001b[0m         \u001b[39m\"\u001b[39m\u001b[39mOriginAirportID\u001b[39m\u001b[39m\"\u001b[39m: \u001b[39m\"\u001b[39m\u001b[39mint16\u001b[39m\u001b[39m\"\u001b[39m,\n\u001b[0;32m     59\u001b[0m         \u001b[39m\"\u001b[39m\u001b[39mDestAirportID\u001b[39m\u001b[39m\"\u001b[39m: \u001b[39m\"\u001b[39m\u001b[39mint16\u001b[39m\u001b[39m\"\u001b[39m,\n\u001b[0;32m     60\u001b[0m         \u001b[39m\"\u001b[39m\u001b[39mCRSDepTime\u001b[39m\u001b[39m\"\u001b[39m: \u001b[39m\"\u001b[39m\u001b[39mint16\u001b[39m\u001b[39m\"\u001b[39m,\n\u001b[0;32m     61\u001b[0m         \u001b[39m\"\u001b[39m\u001b[39mCRSArrTime\u001b[39m\u001b[39m\"\u001b[39m: \u001b[39m\"\u001b[39m\u001b[39mint16\u001b[39m\u001b[39m\"\u001b[39m,\n\u001b[0;32m     62\u001b[0m         \u001b[39m\"\u001b[39m\u001b[39mFlight_Number\u001b[39m\u001b[39m\"\u001b[39m: \u001b[39m\"\u001b[39m\u001b[39mint16\u001b[39m\u001b[39m\"\u001b[39m\n\u001b[0;32m     63\u001b[0m     }\n\u001b[0;32m     64\u001b[0m )\n",
      "File \u001b[1;32mc:\\Users\\jenni\\.virtualenvs\\team-3-N2NXnkel\\Lib\\site-packages\\pandas\\core\\generic.py:5902\u001b[0m, in \u001b[0;36mNDFrame.__getattr__\u001b[1;34m(self, name)\u001b[0m\n\u001b[0;32m   5895\u001b[0m \u001b[39mif\u001b[39;00m (\n\u001b[0;32m   5896\u001b[0m     name \u001b[39mnot\u001b[39;00m \u001b[39min\u001b[39;00m \u001b[39mself\u001b[39m\u001b[39m.\u001b[39m_internal_names_set\n\u001b[0;32m   5897\u001b[0m     \u001b[39mand\u001b[39;00m name \u001b[39mnot\u001b[39;00m \u001b[39min\u001b[39;00m \u001b[39mself\u001b[39m\u001b[39m.\u001b[39m_metadata\n\u001b[0;32m   5898\u001b[0m     \u001b[39mand\u001b[39;00m name \u001b[39mnot\u001b[39;00m \u001b[39min\u001b[39;00m \u001b[39mself\u001b[39m\u001b[39m.\u001b[39m_accessors\n\u001b[0;32m   5899\u001b[0m     \u001b[39mand\u001b[39;00m \u001b[39mself\u001b[39m\u001b[39m.\u001b[39m_info_axis\u001b[39m.\u001b[39m_can_hold_identifiers_and_holds_name(name)\n\u001b[0;32m   5900\u001b[0m ):\n\u001b[0;32m   5901\u001b[0m     \u001b[39mreturn\u001b[39;00m \u001b[39mself\u001b[39m[name]\n\u001b[1;32m-> 5902\u001b[0m \u001b[39mreturn\u001b[39;00m \u001b[39mobject\u001b[39;49m\u001b[39m.\u001b[39;49m\u001b[39m__getattribute__\u001b[39;49m(\u001b[39mself\u001b[39;49m, name)\n",
      "\u001b[1;31mAttributeError\u001b[0m: 'DataFrame' object has no attribute 'Flights'"
     ]
    }
   ],
   "source": [
    "def airline_mapping(df_flights):\n",
    "    df_flights[\"Operating_Airline\"] = (\n",
    "        df_flights[\"Operating_Airline\"].map(airline_mapper))\n",
    "    df_flights[\"CancellationCode\"] = (\n",
    "        df_flights[\"CancellationCode\"].map(cancellation_code_mapper))\n",
    "    return df_flights\n",
    "\n",
    "\n",
    "def tweak_df_flights(df_flights):\n",
    "    df_flights = (\n",
    "        df_flights[SELECTED_COLUMNS]\n",
    "        .copy()\n",
    "        .rename(columns={\"Operating_Airline \": \"Operating_Airline\", \"Flight_Number_Operating_Airline\": \"Flight_Number\"})\n",
    "    )\n",
    "    df_flights.pipe(airline_mapping)\n",
    "    return df_flights.assign(\n",
    "        DepTime=df_flights.DepTime.fillna(0).astype(\"float16\"),\n",
    "        DepDelay=df_flights.DepDelay.fillna(0).astype(\"float16\"),\n",
    "        DepDel15=df_flights.DepDel15.fillna(0).astype(\"float16\"),\n",
    "        DepDelayMinutes=df_flights.DepDelayMinutes.fillna(0).astype(\"float16\"),\n",
    "        TaxiOut=df_flights.TaxiOut.fillna(0).astype(\"float16\"),\n",
    "        WheelsOn=df_flights.WheelsOn.fillna(0).astype(\"float16\"),\n",
    "        TaxiIn=df_flights.TaxiIn.fillna(0).astype(\"float16\"),\n",
    "        ArrDel15=df_flights.ArrDel15.fillna(0).astype(\"float16\"),\n",
    "        ArrDelayMinutes=df_flights.ArrDelayMinutes.fillna(0).astype(\"float16\"),\n",
    "        CRSElapsedTime=df_flights.CRSElapsedTime.fillna(0).astype(\"float16\"),\n",
    "        ArrTime=df_flights.ArrTime.fillna(0).astype(\"float16\"),\n",
    "        AirTime=df_flights.AirTime.fillna(0).astype(\"float16\"),\n",
    "        Distance=df_flights.Distance.fillna(0).astype(\"float16\"),\n",
    "        CarrierDelay=df_flights.CarrierDelay.fillna(0).astype(\"float16\"),\n",
    "        WeatherDelay=df_flights.WeatherDelay.fillna(0).astype(\"float16\"),\n",
    "        NASDelay=df_flights.NASDelay.fillna(0).astype(\"float16\"),\n",
    "        SecurityDelay=df_flights.SecurityDelay.fillna(0).astype(\"float16\"),\n",
    "        LateAircraftDelay=df_flights.LateAircraftDelay.fillna(\n",
    "            0).astype(\"float16\"),\n",
    "        FirstDepTime=df_flights.FirstDepTime.fillna(0).astype(\"float16\"),\n",
    "        TotalAddGTime=df_flights.TotalAddGTime.fillna(0).astype(\"float16\"),\n",
    "        CancellationCode=df_flights.CancellationCode.fillna(\n",
    "            \"none\").astype(\"category\"),\n",
    "        Tail_Number=df_flights.Tail_Number.fillna(\"none\").astype(\"category\"),\n",
    "        FlightDate=pd.to_datetime(df_flights.FlightDate)\n",
    "    ).astype(\n",
    "        {\n",
    "            \"Operating_Airline\": \"category\",\n",
    "            \"Origin\": \"category\",\n",
    "            \"Dest\": \"category\",\n",
    "            \"DestState\": \"category\",\n",
    "            \"OriginState\": \"category\",\n",
    "            \"OriginCityName\": \"category\",\n",
    "            \"OriginStateName\": \"category\",\n",
    "            \"DestStateName\": \"category\",\n",
    "            \"DestCityName\": \"category\",\n",
    "            \"DepTimeBlk\": \"category\",\n",
    "            \"ArrTimeBlk\": \"category\",\n",
    "            \"Cancelled\": \"bool\",\n",
    "            \"Diverted\": \"bool\",\n",
    "            \"OriginAirportID\": \"int16\",\n",
    "            \"DestAirportID\": \"int16\",\n",
    "            \"CRSDepTime\": \"int16\",\n",
    "            \"CRSArrTime\": \"int16\",\n",
    "            \"Flight_Number\": \"int16\"\n",
    "        }\n",
    "    )\n",
    "\n",
    "\n",
    "df_flights = tweak_df_flights(df_flights)\n",
    "df_flights.info()\n"
   ]
  },
  {
   "cell_type": "code",
   "execution_count": null,
   "metadata": {},
   "outputs": [],
   "source": [
    "df_flights.shape\n"
   ]
  },
  {
   "cell_type": "markdown",
   "metadata": {},
   "source": [
    "## Statistical Analysis"
   ]
  },
  {
   "cell_type": "code",
   "execution_count": null,
   "metadata": {},
   "outputs": [],
   "source": [
    "df_flights.head(1)\n"
   ]
  },
  {
   "cell_type": "code",
   "execution_count": null,
   "metadata": {},
   "outputs": [],
   "source": [
    "(df_flights\n",
    " .groupby(\"FlightDate\")\n",
    " [[\"DepDelayMinutes\"]]\n",
    " .mean()\n",
    " .plot(title=\"Distribution of flight delays\"))\n"
   ]
  },
  {
   "cell_type": "code",
   "execution_count": null,
   "metadata": {},
   "outputs": [],
   "source": [
    "(df_flights\n",
    " .query(\"DepDelayMinutes > 0 and DepDelayMinutes < 60\")\n",
    " [[\"DepDelayMinutes\"]]\n",
    " .plot(kind=\"hist\", bins=30, title=\"Distribution of flight delays within an hour\"))\n",
    "plt.show()\n"
   ]
  },
  {
   "cell_type": "code",
   "execution_count": null,
   "metadata": {},
   "outputs": [],
   "source": [
    "px.line(df_flights\n",
    "        .groupby(\"FlightDate\")\n",
    "        [[\"DepDelayMinutes\"]]\n",
    "        .mean()\n",
    "        )\n"
   ]
  },
  {
   "cell_type": "markdown",
   "metadata": {},
   "source": [
    "#### Flight Status Categories"
   ]
  },
  {
   "cell_type": "markdown",
   "metadata": {},
   "source": [
    "Departure Delay Groups"
   ]
  },
  {
   "cell_type": "code",
   "execution_count": null,
   "metadata": {},
   "outputs": [],
   "source": [
    "# Departure Delay intervals until 180 mins\n",
    "def DepDelay_Class(df_flights):\n",
    "    df_flights[\"DepDelayClass\"] = None\n",
    "    df_flights.loc[df_flights[\"DepDelayMinutes\"] <= 15, \"DepDelayClass\"] = \"OnTime\"\n",
    "    df_flights.loc[(df_flights[\"DepDelayMinutes\"] > 15) & (df_flights[\"DepDelayMinutes\"] <= 30), \"DepDelayClass\"] = \"Delay15_30\"\n",
    "    df_flights.loc[(df_flights[\"DepDelayMinutes\"] > 30) & (df_flights[\"DepDelayMinutes\"] <= 45), \"DepDelayClass\"] = \"Delay30_45\"\n",
    "    df_flights.loc[(df_flights[\"DepDelayMinutes\"] > 45) & (df_flights[\"DepDelayMinutes\"] <= 60), \"DepDelayClass\"] = \"Delay45_60\"\n",
    "    df_flights.loc[(df_flights[\"DepDelayMinutes\"] > 60) & (df_flights[\"DepDelayMinutes\"] <= 75), \"DepDelayClass\"] = \"Delay60_75\"\n",
    "    df_flights.loc[(df_flights[\"DepDelayMinutes\"] > 75) & (df_flights[\"DepDelayMinutes\"] <= 90), \"DepDelayClass\"] = \"Delay75_90\"\n",
    "    df_flights.loc[(df_flights[\"DepDelayMinutes\"] > 90) & (df_flights[\"DepDelayMinutes\"] <= 105), \"DepDelayClass\"] = \"Delay90_105\"\n",
    "    df_flights.loc[(df_flights[\"DepDelayMinutes\"] > 105) & (df_flights[\"DepDelayMinutes\"] <= 120), \"DepDelayClass\"] = \"Delay105_120\"\n",
    "    df_flights.loc[(df_flights[\"DepDelayMinutes\"] > 120) & (df_flights[\"DepDelayMinutes\"] <= 135), \"DepDelayClass\"] = \"Delay120_135\"\n",
    "    df_flights.loc[(df_flights[\"DepDelayMinutes\"] > 135) & (df_flights[\"DepDelayMinutes\"] <= 150), \"DepDelayClass\"] = \"Delay135_150\"\n",
    "    df_flights.loc[(df_flights[\"DepDelayMinutes\"] > 150) & (df_flights[\"DepDelayMinutes\"] <= 165), \"DepDelayClass\"] = \"Delay150_165\"\n",
    "    df_flights.loc[(df_flights[\"DepDelayMinutes\"] > 165) & (df_flights[\"DepDelayMinutes\"] <= 180), \"DepDelayClass\"] = \"Delay165_180\"\n",
    "    df_flights.loc[df_flights[\"Cancelled\"], \"DepDelayClass\"] = \"Cancelled\"\n",
    "    \n",
    "DepDelay_Class(df_flights)"
   ]
  },
  {
   "cell_type": "code",
   "execution_count": null,
   "metadata": {},
   "outputs": [],
   "source": [
    "(df_flights\n",
    " .DepDelayClass\n",
    " .value_counts(ascending=True)\n",
    " .plot(kind='barh', figsize=(10,5), color=current_palette[5], title=\"Flight Delay Classes 2022\")\n",
    " )"
   ]
  },
  {
   "cell_type": "code",
   "execution_count": null,
   "metadata": {},
   "outputs": [],
   "source": [
    "df_flights[\"DepDelayClass\"].value_counts()/ df_flights.shape[0]"
   ]
  },
  {
   "cell_type": "code",
   "execution_count": null,
   "metadata": {},
   "outputs": [],
   "source": [
    "# Factors affecting delay\n",
    "# Assumption: A flight is counted as \"on time\" if it operated less than 15 minutes later than the\n",
    "def flight_status(df_flights):\n",
    "        df_flights[\"FlightStatus\"]=\"OnTime\"\n",
    "\n",
    "        df_flights.loc[df_flights[\"DepDel15\"] == 0, \"FlightStatus\"]=\"OnTime\"\n",
    "        df_flights.loc[(df_flights[\"DepDelayMinutes\"] >= 0) & (df_flights[\"DepDelayMinutes\"] <= 15), \"FlightStatus\"]=\"OnTime\"\n",
    "        df_flights.loc[df_flights[\"WeatherDelay\"] > 15, \"FlightStatus\"]=\"WeatherDelay\"\n",
    "        df_flights.loc[df_flights[\"NASDelay\"] > 15, \"FlightStatus\"]=\"NASDelay\"\n",
    "        df_flights.loc[df_flights[\"SecurityDelay\"] > 15, \"FlightStatus\"]=\"SecurityDelay\"\n",
    "        df_flights.loc[df_flights[\"LateAircraftDelay\"] > 15, \"FlightStatus\"]=\"LateAircraftDelay\"\n",
    "        df_flights.loc[df_flights[\"CarrierDelay\"] > 15, \"FlightStatus\"]=\"CarrierDelay\"\n",
    "        df_flights.loc[df_flights[\"Cancelled\"], \"FlightStatus\"]=\"Cancelled\"\n",
    "    \n",
    "\n",
    "flight_status(df_flights)\n"
   ]
  },
  {
   "cell_type": "code",
   "execution_count": null,
   "metadata": {},
   "outputs": [],
   "source": [
    "(df_flights\n",
    " .FlightStatus\n",
    " .value_counts(ascending=True)\n",
    " .plot(kind='barh', figsize=(10,5), color=current_palette[1], title=\"Flight Status 2022\")\n",
    " )"
   ]
  },
  {
   "cell_type": "code",
   "execution_count": null,
   "metadata": {},
   "outputs": [],
   "source": [
    "df_agg = (df_flights\n",
    " .groupby([df_flights[\"FlightDate\"].dt.month, \"Operating_Airline\"])\n",
    " [[\"FlightStatus\"]]\n",
    " .value_counts()\n",
    " .unstack()\n",
    " )\n",
    "df_agg.style.background_gradient(cmap=\"Greens\")"
   ]
  },
  {
   "cell_type": "code",
   "execution_count": null,
   "metadata": {},
   "outputs": [],
   "source": []
  },
  {
   "cell_type": "code",
   "execution_count": null,
   "metadata": {},
   "outputs": [],
   "source": [
    "#df_flights.loc[df_flights[\"ArrTime\"] == 0]"
   ]
  },
  {
   "cell_type": "code",
   "execution_count": null,
   "metadata": {},
   "outputs": [],
   "source": [
    "(df_flights[\"FlightStatus\"].value_counts())/df_flights.shape[0]"
   ]
  },
  {
   "cell_type": "code",
   "execution_count": null,
   "metadata": {},
   "outputs": [],
   "source": [
    "df_flights[\"FlightStatus\"].value_counts()"
   ]
  },
  {
   "cell_type": "code",
   "execution_count": null,
   "metadata": {},
   "outputs": [],
   "source": [
    "df_flights.head()"
   ]
  },
  {
   "cell_type": "code",
   "execution_count": null,
   "metadata": {},
   "outputs": [],
   "source": [
    "plt.scatter(df_flights[\"DepDelay\"], df_flights[\"DepDelayMinutes\"])"
   ]
  },
  {
   "cell_type": "code",
   "execution_count": null,
   "metadata": {},
   "outputs": [],
   "source": [
    "sns.regplot(x=\"DepDelay\", y=\"DepDelayMinutes\", data=df_flights)\n",
    "plt.show()"
   ]
  },
  {
   "cell_type": "code",
   "execution_count": null,
   "metadata": {},
   "outputs": [],
   "source": [
    "(df_flights\n",
    " [[\"FlightStatus\"]]\n",
    " .value_counts()\n",
    " .sort_values(ascending=False)\n",
    " .to_frame(\"Row Count\")\n",
    " )"
   ]
  },
  {
   "cell_type": "markdown",
   "metadata": {},
   "source": [
    "#### Correlation [Pearson]"
   ]
  },
  {
   "cell_type": "code",
   "execution_count": null,
   "metadata": {},
   "outputs": [],
   "source": [
    "corr = (df_flights\n",
    "        .select_dtypes('float16')\n",
    "        .corr())\n",
    "corr.style.background_gradient(cmap='coolwarm')\n"
   ]
  },
  {
   "cell_type": "code",
   "execution_count": null,
   "metadata": {},
   "outputs": [],
   "source": [
    "sns.heatmap(\n",
    "    (df_flights\n",
    "     .select_dtypes('float16')\n",
    "     .corr()))\n",
    "plt.show()\n"
   ]
  },
  {
   "cell_type": "code",
   "execution_count": null,
   "metadata": {},
   "outputs": [],
   "source": [
    "(df_flights.\n",
    " groupby(\"FlightDate\")\n",
    " [\"Cancelled\"]\n",
    " .agg(\"mean\")\n",
    " .plot()\n",
    " )\n"
   ]
  },
  {
   "cell_type": "code",
   "execution_count": null,
   "metadata": {},
   "outputs": [],
   "source": [
    "(df_flights.\n",
    " groupby(\"FlightDate\")\n",
    " [[\"WeatherDelay\", \"NASDelay\"]]\n",
    " .agg(\"mean\")\n",
    " .plot())\n"
   ]
  },
  {
   "cell_type": "code",
   "execution_count": null,
   "metadata": {},
   "outputs": [],
   "source": [
    "(df_flights.\n",
    " groupby(\"FlightDate\")\n",
    " [[\"CarrierDelay\", \"LateAircraftDelay\"]]\n",
    " .agg(\"mean\")\n",
    " .plot())\n"
   ]
  },
  {
   "cell_type": "markdown",
   "metadata": {},
   "source": [
    "##### Frequency Distribution Table"
   ]
  },
  {
   "cell_type": "code",
   "execution_count": null,
   "metadata": {},
   "outputs": [],
   "source": [
    "(df_flights\n",
    " [[\"Operating_Airline\"]]\n",
    " .value_counts()\n",
    " .sort_values(ascending=False)\n",
    " .to_frame(\"Row Count\")\n",
    " )\n"
   ]
  },
  {
   "cell_type": "code",
   "execution_count": null,
   "metadata": {},
   "outputs": [],
   "source": [
    "px.bar(\n",
    "    df_flights[\"Operating_Airline\"]\n",
    "    .value_counts()\n",
    "    .sort_values(ascending=True),\n",
    "    orientation='h',\n",
    "    template=\"plotly_dark\",\n",
    "    title=\"Flights per airline\",\n",
    "    height=700,\n",
    ")\n"
   ]
  },
  {
   "cell_type": "code",
   "execution_count": null,
   "metadata": {},
   "outputs": [],
   "source": [
    "df_flights.head(3)"
   ]
  },
  {
   "cell_type": "code",
   "execution_count": null,
   "metadata": {},
   "outputs": [],
   "source": [
    "(df_flights.\n",
    " groupby([\"Flight_Number\", \"Tail_Number\", \"OriginCityName\",\"DestCityName\" ])\n",
    "[[\"DepDelayMinutes\"]]\n",
    "#.agg([\"mean\", \"sum\"]).head(20)\n",
    ")\n"
   ]
  },
  {
   "cell_type": "code",
   "execution_count": null,
   "metadata": {},
   "outputs": [],
   "source": [
    "cols = [\"FlightDate\",\"Tail_Number\",\"Flight_Number\",\"Operating_Airline\", \"OriginCityName\",\"DestCityName\", \"CRSDepTime\", \"DepTime\",\"DepDelayMinutes\",\"AirTime\", \"FlightStatus\"]\n",
    "(df_flights\n",
    " .loc[df_flights[\"DepDelayMinutes\"] >10, cols ]\n",
    " .sort_values(by=[\"Flight_Number\", \"FlightDate\", \"CRSDepTime\"],ascending=[True, True, True]))"
   ]
  },
  {
   "cell_type": "code",
   "execution_count": null,
   "metadata": {},
   "outputs": [],
   "source": [
    "cols = [\"FlightDate\",\"Tail_Number\",\"Flight_Number\",\"Operating_Airline\", \"OriginCityName\",\"DestCityName\", \"CRSDepTime\", \"DepTime\",\"DepDelayMinutes\",\"AirTime\", \"FlightStatus\"]\n",
    "(df_flights[cols]\n",
    " .groupby([\"Flight_Number\", \"Operating_Airline\"])\n",
    " [[\"DepDelayMinutes\"]]\n",
    " .mean())"
   ]
  },
  {
   "cell_type": "code",
   "execution_count": null,
   "metadata": {},
   "outputs": [],
   "source": []
  }
 ],
 "metadata": {
  "kernelspec": {
   "display_name": "Python 3.11.0 ('team-3-N2NXnkel')",
   "language": "python",
   "name": "python3"
  },
  "language_info": {
   "codemirror_mode": {
    "name": "ipython",
    "version": 3
   },
   "file_extension": ".py",
   "mimetype": "text/x-python",
   "name": "python",
   "nbconvert_exporter": "python",
   "pygments_lexer": "ipython3",
   "version": "3.11.0"
  },
  "vscode": {
   "interpreter": {
    "hash": "13b707afe647235fabbd8fa9a50cb628621b6b26172b2c2a7128d664447ee1d0"
   }
  }
 },
 "nbformat": 4,
 "nbformat_minor": 2
}

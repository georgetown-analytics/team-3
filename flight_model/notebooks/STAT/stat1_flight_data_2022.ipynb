{
 "cells": [
  {
   "cell_type": "code",
   "execution_count": 1,
   "metadata": {},
   "outputs": [],
   "source": [
    "import numpy as np\n",
    "import pandas as pd\n",
    "import matplotlib.pyplot as plt\n",
    "import seaborn as sns\n",
    "import plotly.express as px\n",
    "\n",
    "sns.set_theme(style=\"darkgrid\")\n",
    "current_palette = sns.color_palette()\n"
   ]
  },
  {
   "cell_type": "code",
   "execution_count": 2,
   "metadata": {},
   "outputs": [],
   "source": [
    "pd.options.display.min_rows = 20\n",
    "pd.options.display.max_columns = 500\n"
   ]
  },
  {
   "cell_type": "markdown",
   "metadata": {},
   "source": [
    "### Load in the data"
   ]
  },
  {
   "cell_type": "code",
   "execution_count": 3,
   "metadata": {},
   "outputs": [],
   "source": [
    "## Read in 2022 data from filesystem\n",
    "df_flights = pd.read_csv(\"../../data/eda/flights/flight_data_Y2022/flight_data_2022.csv.zip\",  low_memory=False)\n"
   ]
  },
  {
   "cell_type": "code",
   "execution_count": 4,
   "metadata": {},
   "outputs": [],
   "source": [
    "df_flights = df_flights.rename(columns={\"Operating_Airline \": \"Operating_Airline\", \"Flight_Number_Operating_Airline\": \"Flight_Number\"})"
   ]
  },
  {
   "cell_type": "code",
   "execution_count": 5,
   "metadata": {},
   "outputs": [],
   "source": [
    "airlines = pd.read_csv(\n",
    "    \"../../data/databases/flight_attributes/airlines.csv.zip\", low_memory=False)\n",
    "airline_mapper = airlines.set_index(\"Code\")[\"Description\"]\n"
   ]
  },
  {
   "cell_type": "code",
   "execution_count": 6,
   "metadata": {},
   "outputs": [],
   "source": [
    "cancellation_codes = pd.read_csv(\n",
    "    \"../../data/databases/flight_attributes/cancellation_codes.csv\", low_memory=False)\n",
    "cancellation_code_mapper = cancellation_codes.set_index(\n",
    "    \"CANCELLATION_REASON\")[\"CANCELLATION_DESCRIPTION\"]\n"
   ]
  },
  {
   "cell_type": "code",
   "execution_count": 7,
   "metadata": {},
   "outputs": [
    {
     "data": {
      "text/html": [
       "<div>\n",
       "<style scoped>\n",
       "    .dataframe tbody tr th:only-of-type {\n",
       "        vertical-align: middle;\n",
       "    }\n",
       "\n",
       "    .dataframe tbody tr th {\n",
       "        vertical-align: top;\n",
       "    }\n",
       "\n",
       "    .dataframe thead th {\n",
       "        text-align: right;\n",
       "    }\n",
       "</style>\n",
       "<table border=\"1\" class=\"dataframe\">\n",
       "  <thead>\n",
       "    <tr style=\"text-align: right;\">\n",
       "      <th></th>\n",
       "      <th>Origin</th>\n",
       "      <th>latitude</th>\n",
       "      <th>longitude</th>\n",
       "    </tr>\n",
       "  </thead>\n",
       "  <tbody>\n",
       "    <tr>\n",
       "      <th>0</th>\n",
       "      <td>00M</td>\n",
       "      <td>31.953765</td>\n",
       "      <td>-89.234505</td>\n",
       "    </tr>\n",
       "    <tr>\n",
       "      <th>1</th>\n",
       "      <td>00R</td>\n",
       "      <td>30.685861</td>\n",
       "      <td>-95.017928</td>\n",
       "    </tr>\n",
       "    <tr>\n",
       "      <th>2</th>\n",
       "      <td>00V</td>\n",
       "      <td>38.945749</td>\n",
       "      <td>-104.569893</td>\n",
       "    </tr>\n",
       "    <tr>\n",
       "      <th>3</th>\n",
       "      <td>01G</td>\n",
       "      <td>42.741347</td>\n",
       "      <td>-78.052081</td>\n",
       "    </tr>\n",
       "    <tr>\n",
       "      <th>4</th>\n",
       "      <td>01J</td>\n",
       "      <td>30.688012</td>\n",
       "      <td>-81.905944</td>\n",
       "    </tr>\n",
       "  </tbody>\n",
       "</table>\n",
       "</div>"
      ],
      "text/plain": [
       "  Origin   latitude   longitude\n",
       "0    00M  31.953765  -89.234505\n",
       "1    00R  30.685861  -95.017928\n",
       "2    00V  38.945749 -104.569893\n",
       "3    01G  42.741347  -78.052081\n",
       "4    01J  30.688012  -81.905944"
      ]
     },
     "execution_count": 7,
     "metadata": {},
     "output_type": "execute_result"
    }
   ],
   "source": [
    "usa_airports = (pd.read_csv(\"../../data/databases/flight_attributes/usa_airports.csv.zip\",\n",
    "                            usecols= [\"iata\",\"latitude\",\"longitude\"], \n",
    "                            low_memory=False))\n",
    "usa_airports = usa_airports.rename(columns={\"iata\": \"Origin\"})\n",
    "usa_airports.head()\n",
    "\n"
   ]
  },
  {
   "cell_type": "markdown",
   "metadata": {},
   "source": [
    "### Clean the data"
   ]
  },
  {
   "cell_type": "markdown",
   "metadata": {},
   "source": [
    "Feature Selection"
   ]
  },
  {
   "cell_type": "code",
   "execution_count": 10,
   "metadata": {},
   "outputs": [],
   "source": [
    "# df_flights[SELECTED_COLUMNS].columns.to_list()\n"
   ]
  },
  {
   "cell_type": "code",
   "execution_count": 8,
   "metadata": {},
   "outputs": [
    {
     "name": "stdout",
     "output_type": "stream",
     "text": [
      "<class 'pandas.core.frame.DataFrame'>\n",
      "Int64Index: 4691967 entries, 0 to 4691966\n",
      "Data columns (total 43 columns):\n",
      " #   Column             Dtype         \n",
      "---  ------             -----         \n",
      " 0   FlightDate         datetime64[ns]\n",
      " 1   Operating_Airline  category      \n",
      " 2   Tail_Number        category      \n",
      " 3   Flight_Number      int16         \n",
      " 4   OriginAirportID    int16         \n",
      " 5   Origin             category      \n",
      " 6   OriginCityName     category      \n",
      " 7   OriginState        category      \n",
      " 8   OriginStateName    category      \n",
      " 9   DestAirportID      int16         \n",
      " 10  Dest               category      \n",
      " 11  DestCityName       category      \n",
      " 12  DestState          category      \n",
      " 13  DestStateName      category      \n",
      " 14  CRSDepTime         int16         \n",
      " 15  DepTime            float16       \n",
      " 16  DepDelay           float16       \n",
      " 17  DepDel15           float16       \n",
      " 18  DepDelayMinutes    float16       \n",
      " 19  DepTimeBlk         category      \n",
      " 20  TaxiOut            float16       \n",
      " 21  WheelsOn           float16       \n",
      " 22  TaxiIn             float16       \n",
      " 23  CRSArrTime         int16         \n",
      " 24  ArrTime            float16       \n",
      " 25  ArrDelayMinutes    float16       \n",
      " 26  ArrDel15           float16       \n",
      " 27  ArrTimeBlk         category      \n",
      " 28  Cancelled          bool          \n",
      " 29  CancellationCode   category      \n",
      " 30  Diverted           bool          \n",
      " 31  CRSElapsedTime     float16       \n",
      " 32  AirTime            float16       \n",
      " 33  Distance           float16       \n",
      " 34  CarrierDelay       float16       \n",
      " 35  WeatherDelay       float16       \n",
      " 36  NASDelay           float16       \n",
      " 37  SecurityDelay      float16       \n",
      " 38  LateAircraftDelay  float16       \n",
      " 39  FirstDepTime       float16       \n",
      " 40  TotalAddGTime      float16       \n",
      " 41  latitude           float64       \n",
      " 42  longitude          float64       \n",
      "dtypes: bool(2), category(13), datetime64[ns](1), float16(20), float64(2), int16(5)\n",
      "memory usage: 456.6 MB\n"
     ]
    }
   ],
   "source": [
    "def airline_mapping(df_flights):\n",
    "    df_flights[\"Operating_Airline\"] = (\n",
    "        df_flights[\"Operating_Airline\"].map(airline_mapper))\n",
    "    df_flights[\"CancellationCode\"] = (\n",
    "        df_flights[\"CancellationCode\"].map(cancellation_code_mapper))\n",
    "    return df_flights\n",
    "\n",
    "def tweak_df_flights(df_flights):\n",
    "    SELECTED_COLUMNS = [\"FlightDate\", \"Operating_Airline\", \"Tail_Number\", \"Flight_Number\", \"OriginAirportID\",\n",
    "                        \"Origin\", \"OriginCityName\", \"OriginState\", \"OriginStateName\", \"DestAirportID\", \"Dest\", \"DestCityName\",\n",
    "                        \"DestState\", \"DestStateName\", \"CRSDepTime\", \"DepTime\", \"DepDelay\", \"DepDel15\", \"DepDelayMinutes\", \"DepTimeBlk\",\n",
    "                        \"TaxiOut\", \"WheelsOn\", \"TaxiIn\", \"CRSArrTime\", \"ArrTime\", \"ArrDelayMinutes\", \"ArrDel15\", \"ArrTimeBlk\",\n",
    "                        \"Cancelled\", \"CancellationCode\", \"Diverted\", \"CRSElapsedTime\", \"AirTime\", \"Distance\", \"CarrierDelay\",\n",
    "                        \"WeatherDelay\", \"NASDelay\", \"SecurityDelay\", \"LateAircraftDelay\", \"FirstDepTime\", \"TotalAddGTime\",\n",
    "                        ]\n",
    "    df_flights = (\n",
    "        df_flights[SELECTED_COLUMNS]\n",
    "        .copy()\n",
    "    )\n",
    "    df_flights = (pd.merge(df_flights, usa_airports, how=\"left\", on=[\"Origin\"]))\n",
    "    df_flights.pipe(airline_mapping)\n",
    "    return df_flights.assign(\n",
    "        DepTime=df_flights.DepTime.fillna(0).astype(\"float16\"),\n",
    "        DepDelay=df_flights.DepDelay.fillna(0).astype(\"float16\"),\n",
    "        DepDel15=df_flights.DepDel15.fillna(0).astype(\"float16\"),\n",
    "        DepDelayMinutes=df_flights.DepDelayMinutes.fillna(0).astype(\"float16\"),\n",
    "        TaxiOut=df_flights.TaxiOut.fillna(0).astype(\"float16\"),\n",
    "        WheelsOn=df_flights.WheelsOn.fillna(0).astype(\"float16\"),\n",
    "        TaxiIn=df_flights.TaxiIn.fillna(0).astype(\"float16\"),\n",
    "        ArrDel15=df_flights.ArrDel15.fillna(0).astype(\"float16\"),\n",
    "        ArrDelayMinutes=df_flights.ArrDelayMinutes.fillna(0).astype(\"float16\"),\n",
    "        CRSElapsedTime=df_flights.CRSElapsedTime.fillna(0).astype(\"float16\"),\n",
    "        ArrTime=df_flights.ArrTime.fillna(0).astype(\"float16\"),\n",
    "        AirTime=df_flights.AirTime.fillna(0).astype(\"float16\"),\n",
    "        Distance=df_flights.Distance.fillna(0).astype(\"float16\"),\n",
    "        CarrierDelay=df_flights.CarrierDelay.fillna(0).astype(\"float16\"),\n",
    "        WeatherDelay=df_flights.WeatherDelay.fillna(0).astype(\"float16\"),\n",
    "        NASDelay=df_flights.NASDelay.fillna(0).astype(\"float16\"),\n",
    "        SecurityDelay=df_flights.SecurityDelay.fillna(0).astype(\"float16\"),\n",
    "        LateAircraftDelay=df_flights.LateAircraftDelay.fillna(\n",
    "            0).astype(\"float16\"),\n",
    "        FirstDepTime=df_flights.FirstDepTime.fillna(0).astype(\"float16\"),\n",
    "        TotalAddGTime=df_flights.TotalAddGTime.fillna(0).astype(\"float16\"),\n",
    "        CancellationCode=df_flights.CancellationCode.fillna(\n",
    "            \"none\").astype(\"category\"),\n",
    "        Tail_Number=df_flights.Tail_Number.fillna(\"none\").astype(\"category\"),\n",
    "        FlightDate=pd.to_datetime(df_flights.FlightDate)\n",
    "    ).astype(\n",
    "        {\n",
    "            \"Operating_Airline\": \"category\",\n",
    "            \"Origin\": \"category\",\n",
    "            \"Dest\": \"category\",\n",
    "            \"DestState\": \"category\",\n",
    "            \"OriginState\": \"category\",\n",
    "            \"OriginCityName\": \"category\",\n",
    "            \"OriginStateName\": \"category\",\n",
    "            \"DestStateName\": \"category\",\n",
    "            \"DestCityName\": \"category\",\n",
    "            \"DepTimeBlk\": \"category\",\n",
    "            \"ArrTimeBlk\": \"category\",\n",
    "            \"Cancelled\": \"bool\",\n",
    "            \"Diverted\": \"bool\",\n",
    "            \"OriginAirportID\": \"int16\",\n",
    "            \"DestAirportID\": \"int16\",\n",
    "            \"CRSDepTime\": \"int16\",\n",
    "            \"CRSArrTime\": \"int16\",\n",
    "            \"Flight_Number\": \"int16\"\n",
    "        }\n",
    "    )\n",
    "\n",
    "\n",
    "df_flights = tweak_df_flights(df_flights)\n",
    "df_flights.info()\n"
   ]
  },
  {
   "cell_type": "code",
   "execution_count": null,
   "metadata": {},
   "outputs": [],
   "source": [
    "## save to db"
   ]
  },
  {
   "cell_type": "code",
   "execution_count": 12,
   "metadata": {},
   "outputs": [
    {
     "data": {
      "text/html": [
       "<div>\n",
       "<style scoped>\n",
       "    .dataframe tbody tr th:only-of-type {\n",
       "        vertical-align: middle;\n",
       "    }\n",
       "\n",
       "    .dataframe tbody tr th {\n",
       "        vertical-align: top;\n",
       "    }\n",
       "\n",
       "    .dataframe thead th {\n",
       "        text-align: right;\n",
       "    }\n",
       "</style>\n",
       "<table border=\"1\" class=\"dataframe\">\n",
       "  <thead>\n",
       "    <tr style=\"text-align: right;\">\n",
       "      <th></th>\n",
       "      <th>FlightDate</th>\n",
       "      <th>Operating_Airline</th>\n",
       "      <th>Tail_Number</th>\n",
       "      <th>Flight_Number</th>\n",
       "      <th>OriginAirportID</th>\n",
       "      <th>Origin</th>\n",
       "      <th>OriginCityName</th>\n",
       "      <th>OriginState</th>\n",
       "      <th>OriginStateName</th>\n",
       "      <th>DestAirportID</th>\n",
       "      <th>Dest</th>\n",
       "      <th>DestCityName</th>\n",
       "      <th>DestState</th>\n",
       "      <th>DestStateName</th>\n",
       "      <th>CRSDepTime</th>\n",
       "      <th>DepTime</th>\n",
       "      <th>DepDelay</th>\n",
       "      <th>DepDel15</th>\n",
       "      <th>DepDelayMinutes</th>\n",
       "      <th>DepTimeBlk</th>\n",
       "      <th>TaxiOut</th>\n",
       "      <th>WheelsOn</th>\n",
       "      <th>TaxiIn</th>\n",
       "      <th>CRSArrTime</th>\n",
       "      <th>ArrTime</th>\n",
       "      <th>ArrDelayMinutes</th>\n",
       "      <th>ArrDel15</th>\n",
       "      <th>ArrTimeBlk</th>\n",
       "      <th>Cancelled</th>\n",
       "      <th>CancellationCode</th>\n",
       "      <th>Diverted</th>\n",
       "      <th>CRSElapsedTime</th>\n",
       "      <th>AirTime</th>\n",
       "      <th>Distance</th>\n",
       "      <th>CarrierDelay</th>\n",
       "      <th>WeatherDelay</th>\n",
       "      <th>NASDelay</th>\n",
       "      <th>SecurityDelay</th>\n",
       "      <th>LateAircraftDelay</th>\n",
       "      <th>FirstDepTime</th>\n",
       "      <th>TotalAddGTime</th>\n",
       "      <th>latitude</th>\n",
       "      <th>longitude</th>\n",
       "    </tr>\n",
       "  </thead>\n",
       "  <tbody>\n",
       "    <tr>\n",
       "      <th>0</th>\n",
       "      <td>2022-01-06</td>\n",
       "      <td>Delta Air Lines Inc.</td>\n",
       "      <td>N315DN</td>\n",
       "      <td>1581</td>\n",
       "      <td>11697</td>\n",
       "      <td>FLL</td>\n",
       "      <td>Fort Lauderdale, FL</td>\n",
       "      <td>FL</td>\n",
       "      <td>Florida</td>\n",
       "      <td>12953</td>\n",
       "      <td>LGA</td>\n",
       "      <td>New York, NY</td>\n",
       "      <td>NY</td>\n",
       "      <td>New York</td>\n",
       "      <td>1126</td>\n",
       "      <td>0.0</td>\n",
       "      <td>0.0</td>\n",
       "      <td>0.0</td>\n",
       "      <td>0.0</td>\n",
       "      <td>1100-1159</td>\n",
       "      <td>0.0</td>\n",
       "      <td>0.0</td>\n",
       "      <td>0.0</td>\n",
       "      <td>1419</td>\n",
       "      <td>0.0</td>\n",
       "      <td>0.0</td>\n",
       "      <td>0.0</td>\n",
       "      <td>1400-1459</td>\n",
       "      <td>True</td>\n",
       "      <td>Airline/Carrier</td>\n",
       "      <td>False</td>\n",
       "      <td>173.0</td>\n",
       "      <td>0.0</td>\n",
       "      <td>1076.0</td>\n",
       "      <td>0.0</td>\n",
       "      <td>0.0</td>\n",
       "      <td>0.0</td>\n",
       "      <td>0.0</td>\n",
       "      <td>0.0</td>\n",
       "      <td>0.0</td>\n",
       "      <td>0.0</td>\n",
       "      <td>26.072583</td>\n",
       "      <td>-80.152750</td>\n",
       "    </tr>\n",
       "    <tr>\n",
       "      <th>1</th>\n",
       "      <td>2022-01-06</td>\n",
       "      <td>Delta Air Lines Inc.</td>\n",
       "      <td>N545US</td>\n",
       "      <td>1582</td>\n",
       "      <td>10397</td>\n",
       "      <td>ATL</td>\n",
       "      <td>Atlanta, GA</td>\n",
       "      <td>GA</td>\n",
       "      <td>Georgia</td>\n",
       "      <td>11697</td>\n",
       "      <td>FLL</td>\n",
       "      <td>Fort Lauderdale, FL</td>\n",
       "      <td>FL</td>\n",
       "      <td>Florida</td>\n",
       "      <td>1631</td>\n",
       "      <td>1627.0</td>\n",
       "      <td>-4.0</td>\n",
       "      <td>0.0</td>\n",
       "      <td>0.0</td>\n",
       "      <td>1600-1659</td>\n",
       "      <td>15.0</td>\n",
       "      <td>1815.0</td>\n",
       "      <td>5.0</td>\n",
       "      <td>1821</td>\n",
       "      <td>1820.0</td>\n",
       "      <td>0.0</td>\n",
       "      <td>0.0</td>\n",
       "      <td>1800-1859</td>\n",
       "      <td>False</td>\n",
       "      <td>none</td>\n",
       "      <td>False</td>\n",
       "      <td>110.0</td>\n",
       "      <td>93.0</td>\n",
       "      <td>581.0</td>\n",
       "      <td>0.0</td>\n",
       "      <td>0.0</td>\n",
       "      <td>0.0</td>\n",
       "      <td>0.0</td>\n",
       "      <td>0.0</td>\n",
       "      <td>0.0</td>\n",
       "      <td>0.0</td>\n",
       "      <td>33.640444</td>\n",
       "      <td>-84.426944</td>\n",
       "    </tr>\n",
       "    <tr>\n",
       "      <th>2</th>\n",
       "      <td>2022-01-06</td>\n",
       "      <td>Delta Air Lines Inc.</td>\n",
       "      <td>N545US</td>\n",
       "      <td>1582</td>\n",
       "      <td>11697</td>\n",
       "      <td>FLL</td>\n",
       "      <td>Fort Lauderdale, FL</td>\n",
       "      <td>FL</td>\n",
       "      <td>Florida</td>\n",
       "      <td>10397</td>\n",
       "      <td>ATL</td>\n",
       "      <td>Atlanta, GA</td>\n",
       "      <td>GA</td>\n",
       "      <td>Georgia</td>\n",
       "      <td>1931</td>\n",
       "      <td>1929.0</td>\n",
       "      <td>-2.0</td>\n",
       "      <td>0.0</td>\n",
       "      <td>0.0</td>\n",
       "      <td>1900-1959</td>\n",
       "      <td>13.0</td>\n",
       "      <td>2104.0</td>\n",
       "      <td>10.0</td>\n",
       "      <td>2127</td>\n",
       "      <td>2116.0</td>\n",
       "      <td>0.0</td>\n",
       "      <td>0.0</td>\n",
       "      <td>2100-2159</td>\n",
       "      <td>False</td>\n",
       "      <td>none</td>\n",
       "      <td>False</td>\n",
       "      <td>116.0</td>\n",
       "      <td>83.0</td>\n",
       "      <td>581.0</td>\n",
       "      <td>0.0</td>\n",
       "      <td>0.0</td>\n",
       "      <td>0.0</td>\n",
       "      <td>0.0</td>\n",
       "      <td>0.0</td>\n",
       "      <td>0.0</td>\n",
       "      <td>0.0</td>\n",
       "      <td>26.072583</td>\n",
       "      <td>-80.152750</td>\n",
       "    </tr>\n",
       "    <tr>\n",
       "      <th>3</th>\n",
       "      <td>2022-01-06</td>\n",
       "      <td>Delta Air Lines Inc.</td>\n",
       "      <td>N345NB</td>\n",
       "      <td>1583</td>\n",
       "      <td>11697</td>\n",
       "      <td>FLL</td>\n",
       "      <td>Fort Lauderdale, FL</td>\n",
       "      <td>FL</td>\n",
       "      <td>Florida</td>\n",
       "      <td>14492</td>\n",
       "      <td>RDU</td>\n",
       "      <td>Raleigh/Durham, NC</td>\n",
       "      <td>NC</td>\n",
       "      <td>North Carolina</td>\n",
       "      <td>1024</td>\n",
       "      <td>1019.0</td>\n",
       "      <td>-5.0</td>\n",
       "      <td>0.0</td>\n",
       "      <td>0.0</td>\n",
       "      <td>1000-1059</td>\n",
       "      <td>17.0</td>\n",
       "      <td>1209.0</td>\n",
       "      <td>3.0</td>\n",
       "      <td>1227</td>\n",
       "      <td>1212.0</td>\n",
       "      <td>0.0</td>\n",
       "      <td>0.0</td>\n",
       "      <td>1200-1259</td>\n",
       "      <td>False</td>\n",
       "      <td>none</td>\n",
       "      <td>False</td>\n",
       "      <td>123.0</td>\n",
       "      <td>93.0</td>\n",
       "      <td>680.0</td>\n",
       "      <td>0.0</td>\n",
       "      <td>0.0</td>\n",
       "      <td>0.0</td>\n",
       "      <td>0.0</td>\n",
       "      <td>0.0</td>\n",
       "      <td>0.0</td>\n",
       "      <td>0.0</td>\n",
       "      <td>26.072583</td>\n",
       "      <td>-80.152750</td>\n",
       "    </tr>\n",
       "    <tr>\n",
       "      <th>4</th>\n",
       "      <td>2022-01-06</td>\n",
       "      <td>Delta Air Lines Inc.</td>\n",
       "      <td>N978AT</td>\n",
       "      <td>1584</td>\n",
       "      <td>10397</td>\n",
       "      <td>ATL</td>\n",
       "      <td>Atlanta, GA</td>\n",
       "      <td>GA</td>\n",
       "      <td>Georgia</td>\n",
       "      <td>12448</td>\n",
       "      <td>JAN</td>\n",
       "      <td>Jackson/Vicksburg, MS</td>\n",
       "      <td>MS</td>\n",
       "      <td>Mississippi</td>\n",
       "      <td>1117</td>\n",
       "      <td>1113.0</td>\n",
       "      <td>-4.0</td>\n",
       "      <td>0.0</td>\n",
       "      <td>0.0</td>\n",
       "      <td>1100-1159</td>\n",
       "      <td>14.0</td>\n",
       "      <td>1127.0</td>\n",
       "      <td>4.0</td>\n",
       "      <td>1142</td>\n",
       "      <td>1131.0</td>\n",
       "      <td>0.0</td>\n",
       "      <td>0.0</td>\n",
       "      <td>1100-1159</td>\n",
       "      <td>False</td>\n",
       "      <td>none</td>\n",
       "      <td>False</td>\n",
       "      <td>85.0</td>\n",
       "      <td>60.0</td>\n",
       "      <td>341.0</td>\n",
       "      <td>0.0</td>\n",
       "      <td>0.0</td>\n",
       "      <td>0.0</td>\n",
       "      <td>0.0</td>\n",
       "      <td>0.0</td>\n",
       "      <td>0.0</td>\n",
       "      <td>0.0</td>\n",
       "      <td>33.640444</td>\n",
       "      <td>-84.426944</td>\n",
       "    </tr>\n",
       "  </tbody>\n",
       "</table>\n",
       "</div>"
      ],
      "text/plain": [
       "  FlightDate     Operating_Airline Tail_Number  Flight_Number  \\\n",
       "0 2022-01-06  Delta Air Lines Inc.      N315DN           1581   \n",
       "1 2022-01-06  Delta Air Lines Inc.      N545US           1582   \n",
       "2 2022-01-06  Delta Air Lines Inc.      N545US           1582   \n",
       "3 2022-01-06  Delta Air Lines Inc.      N345NB           1583   \n",
       "4 2022-01-06  Delta Air Lines Inc.      N978AT           1584   \n",
       "\n",
       "   OriginAirportID Origin       OriginCityName OriginState OriginStateName  \\\n",
       "0            11697    FLL  Fort Lauderdale, FL          FL         Florida   \n",
       "1            10397    ATL          Atlanta, GA          GA         Georgia   \n",
       "2            11697    FLL  Fort Lauderdale, FL          FL         Florida   \n",
       "3            11697    FLL  Fort Lauderdale, FL          FL         Florida   \n",
       "4            10397    ATL          Atlanta, GA          GA         Georgia   \n",
       "\n",
       "   DestAirportID Dest           DestCityName DestState   DestStateName  \\\n",
       "0          12953  LGA           New York, NY        NY        New York   \n",
       "1          11697  FLL    Fort Lauderdale, FL        FL         Florida   \n",
       "2          10397  ATL            Atlanta, GA        GA         Georgia   \n",
       "3          14492  RDU     Raleigh/Durham, NC        NC  North Carolina   \n",
       "4          12448  JAN  Jackson/Vicksburg, MS        MS     Mississippi   \n",
       "\n",
       "   CRSDepTime  DepTime  DepDelay  DepDel15  DepDelayMinutes DepTimeBlk  \\\n",
       "0        1126      0.0       0.0       0.0              0.0  1100-1159   \n",
       "1        1631   1627.0      -4.0       0.0              0.0  1600-1659   \n",
       "2        1931   1929.0      -2.0       0.0              0.0  1900-1959   \n",
       "3        1024   1019.0      -5.0       0.0              0.0  1000-1059   \n",
       "4        1117   1113.0      -4.0       0.0              0.0  1100-1159   \n",
       "\n",
       "   TaxiOut  WheelsOn  TaxiIn  CRSArrTime  ArrTime  ArrDelayMinutes  ArrDel15  \\\n",
       "0      0.0       0.0     0.0        1419      0.0              0.0       0.0   \n",
       "1     15.0    1815.0     5.0        1821   1820.0              0.0       0.0   \n",
       "2     13.0    2104.0    10.0        2127   2116.0              0.0       0.0   \n",
       "3     17.0    1209.0     3.0        1227   1212.0              0.0       0.0   \n",
       "4     14.0    1127.0     4.0        1142   1131.0              0.0       0.0   \n",
       "\n",
       "  ArrTimeBlk  Cancelled CancellationCode  Diverted  CRSElapsedTime  AirTime  \\\n",
       "0  1400-1459       True  Airline/Carrier     False           173.0      0.0   \n",
       "1  1800-1859      False             none     False           110.0     93.0   \n",
       "2  2100-2159      False             none     False           116.0     83.0   \n",
       "3  1200-1259      False             none     False           123.0     93.0   \n",
       "4  1100-1159      False             none     False            85.0     60.0   \n",
       "\n",
       "   Distance  CarrierDelay  WeatherDelay  NASDelay  SecurityDelay  \\\n",
       "0    1076.0           0.0           0.0       0.0            0.0   \n",
       "1     581.0           0.0           0.0       0.0            0.0   \n",
       "2     581.0           0.0           0.0       0.0            0.0   \n",
       "3     680.0           0.0           0.0       0.0            0.0   \n",
       "4     341.0           0.0           0.0       0.0            0.0   \n",
       "\n",
       "   LateAircraftDelay  FirstDepTime  TotalAddGTime   latitude  longitude  \n",
       "0                0.0           0.0            0.0  26.072583 -80.152750  \n",
       "1                0.0           0.0            0.0  33.640444 -84.426944  \n",
       "2                0.0           0.0            0.0  26.072583 -80.152750  \n",
       "3                0.0           0.0            0.0  26.072583 -80.152750  \n",
       "4                0.0           0.0            0.0  33.640444 -84.426944  "
      ]
     },
     "execution_count": 12,
     "metadata": {},
     "output_type": "execute_result"
    }
   ],
   "source": [
    "df_flights.head()"
   ]
  },
  {
   "cell_type": "code",
   "execution_count": null,
   "metadata": {},
   "outputs": [],
   "source": [
    "df_flights.shape\n"
   ]
  },
  {
   "cell_type": "markdown",
   "metadata": {},
   "source": [
    "## Statistical Analysis"
   ]
  },
  {
   "cell_type": "code",
   "execution_count": null,
   "metadata": {},
   "outputs": [],
   "source": [
    "df_flights.head(1)\n"
   ]
  },
  {
   "cell_type": "code",
   "execution_count": null,
   "metadata": {},
   "outputs": [],
   "source": [
    "(df_flights\n",
    " .groupby(\"FlightDate\")\n",
    " [[\"DepDelayMinutes\"]]\n",
    " .mean()\n",
    " .plot(title=\"Distribution of flight delays\"))\n"
   ]
  },
  {
   "cell_type": "code",
   "execution_count": null,
   "metadata": {},
   "outputs": [],
   "source": [
    "(df_flights\n",
    " .query(\"DepDelayMinutes > 0 and DepDelayMinutes < 60\")\n",
    " [[\"DepDelayMinutes\"]]\n",
    " .plot(kind=\"hist\", bins=30, title=\"Distribution of flight delays within an hour\"))\n",
    "plt.show()\n"
   ]
  },
  {
   "cell_type": "code",
   "execution_count": null,
   "metadata": {},
   "outputs": [],
   "source": [
    "px.line(df_flights\n",
    "        .groupby(\"FlightDate\")\n",
    "        [[\"DepDelayMinutes\"]]\n",
    "        .mean()\n",
    "        )\n"
   ]
  },
  {
   "cell_type": "markdown",
   "metadata": {},
   "source": [
    "#### Flight Status Categories"
   ]
  },
  {
   "cell_type": "markdown",
   "metadata": {},
   "source": [
    "Departure Delay Groups"
   ]
  },
  {
   "cell_type": "code",
   "execution_count": null,
   "metadata": {},
   "outputs": [],
   "source": [
    "# Departure Delay intervals until 180 mins\n",
    "def DepDelay_Class(df_flights):\n",
    "    df_flights[\"DepDelayClass\"] = None\n",
    "    df_flights.loc[df_flights[\"DepDelayMinutes\"] <= 15, \"DepDelayClass\"] = \"OnTime\"\n",
    "    df_flights.loc[(df_flights[\"DepDelayMinutes\"] > 15) & (df_flights[\"DepDelayMinutes\"] <= 30), \"DepDelayClass\"] = \"Delay15_30\"\n",
    "    df_flights.loc[(df_flights[\"DepDelayMinutes\"] > 30) & (df_flights[\"DepDelayMinutes\"] <= 45), \"DepDelayClass\"] = \"Delay30_45\"\n",
    "    df_flights.loc[(df_flights[\"DepDelayMinutes\"] > 45) & (df_flights[\"DepDelayMinutes\"] <= 60), \"DepDelayClass\"] = \"Delay45_60\"\n",
    "    df_flights.loc[(df_flights[\"DepDelayMinutes\"] > 60) & (df_flights[\"DepDelayMinutes\"] <= 75), \"DepDelayClass\"] = \"Delay60_75\"\n",
    "    df_flights.loc[(df_flights[\"DepDelayMinutes\"] > 75) & (df_flights[\"DepDelayMinutes\"] <= 90), \"DepDelayClass\"] = \"Delay75_90\"\n",
    "    df_flights.loc[(df_flights[\"DepDelayMinutes\"] > 90) & (df_flights[\"DepDelayMinutes\"] <= 105), \"DepDelayClass\"] = \"Delay90_105\"\n",
    "    df_flights.loc[(df_flights[\"DepDelayMinutes\"] > 105) & (df_flights[\"DepDelayMinutes\"] <= 120), \"DepDelayClass\"] = \"Delay105_120\"\n",
    "    df_flights.loc[(df_flights[\"DepDelayMinutes\"] > 120) & (df_flights[\"DepDelayMinutes\"] <= 135), \"DepDelayClass\"] = \"Delay120_135\"\n",
    "    df_flights.loc[(df_flights[\"DepDelayMinutes\"] > 135) & (df_flights[\"DepDelayMinutes\"] <= 150), \"DepDelayClass\"] = \"Delay135_150\"\n",
    "    df_flights.loc[(df_flights[\"DepDelayMinutes\"] > 150) & (df_flights[\"DepDelayMinutes\"] <= 165), \"DepDelayClass\"] = \"Delay150_165\"\n",
    "    df_flights.loc[(df_flights[\"DepDelayMinutes\"] > 165) & (df_flights[\"DepDelayMinutes\"] <= 180), \"DepDelayClass\"] = \"Delay165_180\"\n",
    "    df_flights.loc[df_flights[\"Cancelled\"], \"DepDelayClass\"] = \"Cancelled\"\n",
    "    \n",
    "DepDelay_Class(df_flights)"
   ]
  },
  {
   "cell_type": "code",
   "execution_count": null,
   "metadata": {},
   "outputs": [],
   "source": [
    "(df_flights\n",
    " .DepDelayClass\n",
    " .value_counts(ascending=True)\n",
    " .plot(kind='barh', figsize=(10,5), color=current_palette[5], title=\"Flight Delay Classes 2022\")\n",
    " )"
   ]
  },
  {
   "cell_type": "code",
   "execution_count": null,
   "metadata": {},
   "outputs": [],
   "source": [
    "df_flights[\"DepDelayClass\"].value_counts()/ df_flights.shape[0]"
   ]
  },
  {
   "cell_type": "code",
   "execution_count": null,
   "metadata": {},
   "outputs": [],
   "source": [
    "# Factors affecting delay\n",
    "# Assumption: A flight is counted as \"on time\" if it operated less than 15 minutes later than the\n",
    "def flight_status(df_flights):\n",
    "        df_flights[\"FlightStatus\"]=\"OnTime\"\n",
    "\n",
    "        df_flights.loc[df_flights[\"DepDel15\"] == 0, \"FlightStatus\"]=\"OnTime\"\n",
    "        df_flights.loc[(df_flights[\"DepDelayMinutes\"] >= 0) & (df_flights[\"DepDelayMinutes\"] <= 15), \"FlightStatus\"]=\"OnTime\"\n",
    "        df_flights.loc[df_flights[\"WeatherDelay\"] > 15, \"FlightStatus\"]=\"WeatherDelay\"\n",
    "        df_flights.loc[df_flights[\"NASDelay\"] > 15, \"FlightStatus\"]=\"NASDelay\"\n",
    "        df_flights.loc[df_flights[\"SecurityDelay\"] > 15, \"FlightStatus\"]=\"SecurityDelay\"\n",
    "        df_flights.loc[df_flights[\"LateAircraftDelay\"] > 15, \"FlightStatus\"]=\"LateAircraftDelay\"\n",
    "        df_flights.loc[df_flights[\"CarrierDelay\"] > 15, \"FlightStatus\"]=\"CarrierDelay\"\n",
    "        df_flights.loc[df_flights[\"Cancelled\"], \"FlightStatus\"]=\"Cancelled\"\n",
    "    \n",
    "\n",
    "flight_status(df_flights)\n"
   ]
  },
  {
   "cell_type": "code",
   "execution_count": null,
   "metadata": {},
   "outputs": [],
   "source": [
    "(df_flights\n",
    " .FlightStatus\n",
    " .value_counts(ascending=True)\n",
    " .plot(kind='barh', figsize=(10,5), color=current_palette[1], title=\"Flight Status 2022\")\n",
    " )"
   ]
  },
  {
   "cell_type": "code",
   "execution_count": null,
   "metadata": {},
   "outputs": [],
   "source": [
    "df_agg = (df_flights\n",
    " .groupby([df_flights[\"FlightDate\"].dt.month, \"Operating_Airline\"])\n",
    " [[\"FlightStatus\"]]\n",
    " .value_counts()\n",
    " .unstack()\n",
    " )\n",
    "df_agg.style.background_gradient(cmap=\"Greens\")"
   ]
  },
  {
   "cell_type": "code",
   "execution_count": null,
   "metadata": {},
   "outputs": [],
   "source": []
  },
  {
   "cell_type": "code",
   "execution_count": null,
   "metadata": {},
   "outputs": [],
   "source": [
    "#df_flights.loc[df_flights[\"ArrTime\"] == 0]"
   ]
  },
  {
   "cell_type": "code",
   "execution_count": null,
   "metadata": {},
   "outputs": [],
   "source": [
    "(df_flights[\"FlightStatus\"].value_counts())/df_flights.shape[0]"
   ]
  },
  {
   "cell_type": "code",
   "execution_count": null,
   "metadata": {},
   "outputs": [],
   "source": [
    "df_flights[\"FlightStatus\"].value_counts()"
   ]
  },
  {
   "cell_type": "code",
   "execution_count": null,
   "metadata": {},
   "outputs": [],
   "source": [
    "df_flights.head()"
   ]
  },
  {
   "cell_type": "code",
   "execution_count": null,
   "metadata": {},
   "outputs": [],
   "source": [
    "plt.scatter(df_flights[\"DepDelay\"], df_flights[\"DepDelayMinutes\"])"
   ]
  },
  {
   "cell_type": "code",
   "execution_count": null,
   "metadata": {},
   "outputs": [],
   "source": [
    "sns.regplot(x=\"DepDelay\", y=\"DepDelayMinutes\", data=df_flights)\n",
    "plt.show()"
   ]
  },
  {
   "cell_type": "code",
   "execution_count": null,
   "metadata": {},
   "outputs": [],
   "source": [
    "(df_flights\n",
    " [[\"FlightStatus\"]]\n",
    " .value_counts()\n",
    " .sort_values(ascending=False)\n",
    " .to_frame(\"Row Count\")\n",
    " )"
   ]
  },
  {
   "cell_type": "markdown",
   "metadata": {},
   "source": [
    "#### Correlation [Pearson]"
   ]
  },
  {
   "cell_type": "code",
   "execution_count": null,
   "metadata": {},
   "outputs": [],
   "source": [
    "corr = (df_flights\n",
    "        .select_dtypes('float16')\n",
    "        .corr())\n",
    "corr.style.background_gradient(cmap='coolwarm')\n"
   ]
  },
  {
   "cell_type": "code",
   "execution_count": null,
   "metadata": {},
   "outputs": [],
   "source": [
    "sns.heatmap(\n",
    "    (df_flights\n",
    "     .select_dtypes('float16')\n",
    "     .corr()))\n",
    "plt.show()\n"
   ]
  },
  {
   "cell_type": "code",
   "execution_count": null,
   "metadata": {},
   "outputs": [],
   "source": [
    "(df_flights.\n",
    " groupby(\"FlightDate\")\n",
    " [\"Cancelled\"]\n",
    " .agg(\"mean\")\n",
    " .plot()\n",
    " )\n"
   ]
  },
  {
   "cell_type": "code",
   "execution_count": null,
   "metadata": {},
   "outputs": [],
   "source": [
    "(df_flights.\n",
    " groupby(\"FlightDate\")\n",
    " [[\"WeatherDelay\", \"NASDelay\"]]\n",
    " .agg(\"mean\")\n",
    " .plot())\n"
   ]
  },
  {
   "cell_type": "code",
   "execution_count": null,
   "metadata": {},
   "outputs": [],
   "source": [
    "(df_flights.\n",
    " groupby(\"FlightDate\")\n",
    " [[\"CarrierDelay\", \"LateAircraftDelay\"]]\n",
    " .agg(\"mean\")\n",
    " .plot())\n"
   ]
  },
  {
   "cell_type": "markdown",
   "metadata": {},
   "source": [
    "##### Frequency Distribution Table"
   ]
  },
  {
   "cell_type": "code",
   "execution_count": null,
   "metadata": {},
   "outputs": [],
   "source": [
    "(df_flights\n",
    " [[\"Operating_Airline\"]]\n",
    " .value_counts()\n",
    " .sort_values(ascending=False)\n",
    " .to_frame(\"Row Count\")\n",
    " )\n"
   ]
  },
  {
   "cell_type": "code",
   "execution_count": null,
   "metadata": {},
   "outputs": [],
   "source": [
    "px.bar(\n",
    "    df_flights[\"Operating_Airline\"]\n",
    "    .value_counts()\n",
    "    .sort_values(ascending=True),\n",
    "    orientation='h',\n",
    "    template=\"plotly_dark\",\n",
    "    title=\"Flights per airline\",\n",
    "    height=700,\n",
    ")\n"
   ]
  },
  {
   "cell_type": "code",
   "execution_count": null,
   "metadata": {},
   "outputs": [],
   "source": [
    "df_flights.head(3)"
   ]
  },
  {
   "cell_type": "code",
   "execution_count": null,
   "metadata": {},
   "outputs": [],
   "source": [
    "(df_flights.\n",
    " groupby([\"Flight_Number\", \"Tail_Number\", \"OriginCityName\",\"DestCityName\" ])\n",
    "[[\"DepDelayMinutes\"]]\n",
    "#.agg([\"mean\", \"sum\"]).head(20)\n",
    ")\n"
   ]
  },
  {
   "cell_type": "code",
   "execution_count": null,
   "metadata": {},
   "outputs": [],
   "source": [
    "cols = [\"FlightDate\",\"Tail_Number\",\"Flight_Number\",\"Operating_Airline\", \"OriginCityName\",\"DestCityName\", \"CRSDepTime\", \"DepTime\",\"DepDelayMinutes\",\"AirTime\", \"FlightStatus\"]\n",
    "(df_flights\n",
    " .loc[df_flights[\"DepDelayMinutes\"] >10, cols ]\n",
    " .sort_values(by=[\"Flight_Number\", \"FlightDate\", \"CRSDepTime\"],ascending=[True, True, True]))"
   ]
  },
  {
   "cell_type": "code",
   "execution_count": null,
   "metadata": {},
   "outputs": [],
   "source": [
    "cols = [\"FlightDate\",\"Tail_Number\",\"Flight_Number\",\"Operating_Airline\", \"OriginCityName\",\"DestCityName\", \"CRSDepTime\", \"DepTime\",\"DepDelayMinutes\",\"AirTime\", \"FlightStatus\"]\n",
    "(df_flights[cols]\n",
    " .groupby([\"Flight_Number\", \"Operating_Airline\"])\n",
    " [[\"DepDelayMinutes\"]]\n",
    " .mean())"
   ]
  },
  {
   "cell_type": "code",
   "execution_count": null,
   "metadata": {},
   "outputs": [],
   "source": []
  }
 ],
 "metadata": {
  "kernelspec": {
   "display_name": "Python 3.11.0 ('team-3-N2NXnkel')",
   "language": "python",
   "name": "python3"
  },
  "language_info": {
   "codemirror_mode": {
    "name": "ipython",
    "version": 3
   },
   "file_extension": ".py",
   "mimetype": "text/x-python",
   "name": "python",
   "nbconvert_exporter": "python",
   "pygments_lexer": "ipython3",
   "version": "3.11.0"
  },
  "vscode": {
   "interpreter": {
    "hash": "13b707afe647235fabbd8fa9a50cb628621b6b26172b2c2a7128d664447ee1d0"
   }
  }
 },
 "nbformat": 4,
 "nbformat_minor": 2
}

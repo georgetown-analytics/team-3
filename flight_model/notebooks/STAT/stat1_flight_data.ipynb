{
 "cells": [
  {
   "cell_type": "code",
   "execution_count": 1,
   "metadata": {},
   "outputs": [],
   "source": [
    "import numpy as np\n",
    "import pandas as pd\n",
    "import matplotlib.pyplot as plt\n",
    "import seaborn as sns \n",
    "import plotly.express as px\n",
    "\n",
    "sns.set_theme(style=\"darkgrid\")\n",
    "current_palette=sns.color_palette()"
   ]
  },
  {
   "cell_type": "code",
   "execution_count": 2,
   "metadata": {},
   "outputs": [],
   "source": [
    "pd.options.display.min_rows = 20\n",
    "pd.options.display.max_columns = 500"
   ]
  },
  {
   "cell_type": "markdown",
   "metadata": {},
   "source": [
    "### Load in the data"
   ]
  },
  {
   "cell_type": "code",
   "execution_count": 3,
   "metadata": {},
   "outputs": [],
   "source": [
    "## Read in 2022 data from filesystem\n",
    "df_flights = pd.read_csv(\"../../data/eda/flights/flight_data_Y2022/flight_data_2022.csv.zip\",  low_memory=False)"
   ]
  },
  {
   "cell_type": "code",
   "execution_count": 4,
   "metadata": {},
   "outputs": [],
   "source": [
    "airlines = pd.read_csv(\"../../data/databases/flight_attributes/airlines.csv.zip\", low_memory=False)\n",
    "airline_mapper = airlines.set_index(\"Code\")[\"Description\"]"
   ]
  },
  {
   "cell_type": "code",
   "execution_count": 5,
   "metadata": {},
   "outputs": [],
   "source": [
    "cancellation_codes = pd.read_csv(\"../../data/databases/flight_attributes/cancellation_codes.csv\", low_memory=False)\n",
    "cancellation_code_mapper = cancellation_codes.set_index(\"CANCELLATION_REASON\")[\"CANCELLATION_DESCRIPTION\"]"
   ]
  },
  {
   "cell_type": "markdown",
   "metadata": {},
   "source": [
    "### Clean the data"
   ]
  },
  {
   "cell_type": "markdown",
   "metadata": {},
   "source": [
    "Feature Selection"
   ]
  },
  {
   "cell_type": "code",
   "execution_count": 6,
   "metadata": {},
   "outputs": [],
   "source": [
    "\n",
    "\n",
    "SELECTED_COLUMNS = [\n",
    "    \"FlightDate\",\n",
    "    \"Operating_Airline \",\n",
    "    \"Tail_Number\",\n",
    "    \"Flight_Number_Operating_Airline\",\n",
    "    \"OriginAirportID\",\n",
    "    \"Origin\",\n",
    "    \"OriginCityName\",\n",
    "    \"OriginState\",\n",
    "    \"OriginStateName\",\n",
    "    \"DestAirportID\",\n",
    "    \"Dest\",\n",
    "    \"DestCityName\",\n",
    "    \"DestState\",\n",
    "    \"DestStateName\",\n",
    "    \"CRSDepTime\",\n",
    "    \"DepTime\",\n",
    "    \"DepDelay\",\n",
    "    \"DepDel15\",\n",
    "    \"DepDelayMinutes\",\n",
    "    \"DepTimeBlk\",\n",
    "    \"TaxiOut\",\n",
    "    \"WheelsOn\",\n",
    "    \"TaxiIn\",\n",
    "    \"CRSArrTime\",\n",
    "    \"ArrTime\",\n",
    "    \"ArrDelayMinutes\",\n",
    "    \"ArrDel15\",\n",
    "    \"ArrTimeBlk\",\n",
    "    \"Cancelled\",\n",
    "    \"CancellationCode\",\n",
    "    \"Diverted\",\n",
    "    \"CRSElapsedTime\",\n",
    "    \"AirTime\",\n",
    "    \"Flights\",\n",
    "    \"Distance\",\n",
    "    \"DistanceGroup\",\n",
    "    \"CarrierDelay\",\n",
    "    \"WeatherDelay\",\n",
    "    \"NASDelay\",\n",
    "    \"SecurityDelay\",\n",
    "    \"LateAircraftDelay\",\n",
    "    \"FirstDepTime\",\n",
    "    \"TotalAddGTime\",\n",
    "]\n"
   ]
  },
  {
   "cell_type": "code",
   "execution_count": 7,
   "metadata": {},
   "outputs": [],
   "source": [
    "#df_flights[SELECTED_COLUMNS].columns.to_list()"
   ]
  },
  {
   "cell_type": "code",
   "execution_count": 8,
   "metadata": {},
   "outputs": [
    {
     "name": "stdout",
     "output_type": "stream",
     "text": [
      "<class 'pandas.core.frame.DataFrame'>\n",
      "RangeIndex: 4691967 entries, 0 to 4691966\n",
      "Data columns (total 43 columns):\n",
      " #   Column                           Dtype         \n",
      "---  ------                           -----         \n",
      " 0   FlightDate                       datetime64[ns]\n",
      " 1   Operating_Airline                category      \n",
      " 2   Tail_Number                      category      \n",
      " 3   Flight_Number_Operating_Airline  int16         \n",
      " 4   OriginAirportID                  int16         \n",
      " 5   Origin                           category      \n",
      " 6   OriginCityName                   category      \n",
      " 7   OriginState                      category      \n",
      " 8   OriginStateName                  category      \n",
      " 9   DestAirportID                    int16         \n",
      " 10  Dest                             category      \n",
      " 11  DestCityName                     category      \n",
      " 12  DestState                        category      \n",
      " 13  DestStateName                    category      \n",
      " 14  CRSDepTime                       int16         \n",
      " 15  DepTime                          float16       \n",
      " 16  DepDelay                         float16       \n",
      " 17  DepDel15                         float16       \n",
      " 18  DepDelayMinutes                  float16       \n",
      " 19  DepTimeBlk                       category      \n",
      " 20  TaxiOut                          float16       \n",
      " 21  WheelsOn                         float16       \n",
      " 22  TaxiIn                           float16       \n",
      " 23  CRSArrTime                       int16         \n",
      " 24  ArrTime                          float16       \n",
      " 25  ArrDelayMinutes                  float16       \n",
      " 26  ArrDel15                         float16       \n",
      " 27  ArrTimeBlk                       category      \n",
      " 28  Cancelled                        bool          \n",
      " 29  CancellationCode                 category      \n",
      " 30  Diverted                         bool          \n",
      " 31  CRSElapsedTime                   float16       \n",
      " 32  AirTime                          float16       \n",
      " 33  Flights                          int16         \n",
      " 34  Distance                         float16       \n",
      " 35  DistanceGroup                    int16         \n",
      " 36  CarrierDelay                     float16       \n",
      " 37  WeatherDelay                     float16       \n",
      " 38  NASDelay                         float16       \n",
      " 39  SecurityDelay                    float16       \n",
      " 40  LateAircraftDelay                float16       \n",
      " 41  FirstDepTime                     float16       \n",
      " 42  TotalAddGTime                    float16       \n",
      "dtypes: bool(2), category(13), datetime64[ns](1), float16(20), int16(7)\n",
      "memory usage: 367.1 MB\n"
     ]
    }
   ],
   "source": [
    "def airline_mapping(df_flights):\n",
    "    df_flights[\"Operating_Airline\"] = (df_flights[\"Operating_Airline\"].map(airline_mapper))\n",
    "    df_flights[\"CancellationCode\"] = (df_flights[\"CancellationCode\"].map(cancellation_code_mapper))\n",
    "    return df_flights\n",
    "\n",
    "def tweak_df_flights(df_flights):\n",
    "    df_flights = (\n",
    "        df_flights[SELECTED_COLUMNS]\n",
    "        .copy()\n",
    "        .rename(columns={\"Operating_Airline \": \"Operating_Airline\"})\n",
    "    )\n",
    "    df_flights.pipe(airline_mapping)\n",
    "    return df_flights.assign(\n",
    "        DepTime=df_flights.DepTime.fillna(0).astype(\"float16\"),\n",
    "        DepDelay=df_flights.DepDelay.fillna(0).astype(\"float16\"),\n",
    "        DepDel15=df_flights.DepDel15.fillna(0).astype(\"float16\"),\n",
    "        DepDelayMinutes=df_flights.DepDelayMinutes.fillna(0).astype(\"float16\"),\n",
    "        TaxiOut=df_flights.TaxiOut.fillna(0).astype(\"float16\"),\n",
    "        WheelsOn=df_flights.WheelsOn.fillna(0).astype(\"float16\"),\n",
    "        TaxiIn=df_flights.TaxiIn.fillna(0).astype(\"float16\"),\n",
    "        ArrDel15=df_flights.ArrDel15.fillna(0).astype(\"float16\"),\n",
    "        ArrDelayMinutes=df_flights.ArrDelayMinutes.fillna(0).astype(\"float16\"),\n",
    "        CRSElapsedTime=df_flights.CRSElapsedTime.fillna(0).astype(\"float16\"), \n",
    "        ArrTime=df_flights.ArrTime.fillna(0).astype(\"float16\"),\n",
    "        AirTime=df_flights.AirTime.fillna(0).astype(\"float16\"),\n",
    "        Flights=df_flights.Flights.fillna(0).astype(\"float16\"),\n",
    "        Distance=df_flights.Distance.fillna(0).astype(\"float16\"),\n",
    "        CarrierDelay=df_flights.CarrierDelay.fillna(0).astype(\"float16\"),\n",
    "        WeatherDelay=df_flights.WeatherDelay.fillna(0).astype(\"float16\"),\n",
    "        NASDelay=df_flights.NASDelay.fillna(0).astype(\"float16\"),\n",
    "        SecurityDelay=df_flights.SecurityDelay.fillna(0).astype(\"float16\"),\n",
    "        LateAircraftDelay=df_flights.LateAircraftDelay.fillna(0).astype(\"float16\"),\n",
    "        FirstDepTime=df_flights.FirstDepTime.fillna(0).astype(\"float16\"),\n",
    "        TotalAddGTime=df_flights.TotalAddGTime.fillna(0).astype(\"float16\"),\n",
    "        CancellationCode=df_flights.CancellationCode.fillna(\"none\").astype(\"category\"),\n",
    "        Tail_Number=df_flights.Tail_Number.fillna(\"none\").astype(\"category\"),\n",
    "        FlightDate=pd.to_datetime(df_flights.FlightDate),\n",
    "    ).astype(\n",
    "        {\n",
    "            \"Operating_Airline\": \"category\",\n",
    "            \"Origin\": \"category\",\n",
    "            \"Dest\": \"category\",\n",
    "            \"DestState\": \"category\",\n",
    "            \"OriginState\": \"category\",\n",
    "            \"OriginCityName\": \"category\",\n",
    "            \"OriginStateName\": \"category\",\n",
    "            \"DestStateName\": \"category\",\n",
    "            \"DestCityName\": \"category\",\n",
    "            \"DepTimeBlk\": \"category\",\n",
    "            \"ArrTimeBlk\": \"category\",\n",
    "            \"Cancelled\": \"bool\",\n",
    "            \"Diverted\": \"bool\",\n",
    "            \"OriginAirportID\": \"int16\",\n",
    "            \"DestAirportID\": \"int16\",\n",
    "            \"CRSDepTime\": \"int16\",\n",
    "            \"CRSArrTime\": \"int16\",\n",
    "            \"DistanceGroup\": \"int16\",\n",
    "            \"Flight_Number_Operating_Airline\": \"int16\",\n",
    "            \"Flights\": \"int16\",\n",
    "        }\n",
    "    )\n",
    "\n",
    "\n",
    "df_flights = tweak_df_flights(df_flights)\n",
    "df_flights.info()"
   ]
  },
  {
   "cell_type": "code",
   "execution_count": 9,
   "metadata": {},
   "outputs": [
    {
     "data": {
      "text/plain": [
       "(4691967, 43)"
      ]
     },
     "execution_count": 9,
     "metadata": {},
     "output_type": "execute_result"
    }
   ],
   "source": [
    "df_flights.shape"
   ]
  },
  {
   "cell_type": "markdown",
   "metadata": {},
   "source": [
    "## Statistical Analysis"
   ]
  },
  {
   "cell_type": "markdown",
   "metadata": {},
   "source": [
    "#### Correlation matrix"
   ]
  },
  {
   "cell_type": "code",
   "execution_count": 10,
   "metadata": {},
   "outputs": [
    {
     "data": {
      "text/html": [
       "<div>\n",
       "<style scoped>\n",
       "    .dataframe tbody tr th:only-of-type {\n",
       "        vertical-align: middle;\n",
       "    }\n",
       "\n",
       "    .dataframe tbody tr th {\n",
       "        vertical-align: top;\n",
       "    }\n",
       "\n",
       "    .dataframe thead th {\n",
       "        text-align: right;\n",
       "    }\n",
       "</style>\n",
       "<table border=\"1\" class=\"dataframe\">\n",
       "  <thead>\n",
       "    <tr style=\"text-align: right;\">\n",
       "      <th></th>\n",
       "      <th>FlightDate</th>\n",
       "      <th>Operating_Airline</th>\n",
       "      <th>Tail_Number</th>\n",
       "      <th>Flight_Number_Operating_Airline</th>\n",
       "      <th>OriginAirportID</th>\n",
       "      <th>Origin</th>\n",
       "      <th>OriginCityName</th>\n",
       "      <th>OriginState</th>\n",
       "      <th>OriginStateName</th>\n",
       "      <th>DestAirportID</th>\n",
       "      <th>Dest</th>\n",
       "      <th>DestCityName</th>\n",
       "      <th>DestState</th>\n",
       "      <th>DestStateName</th>\n",
       "      <th>CRSDepTime</th>\n",
       "      <th>DepTime</th>\n",
       "      <th>DepDelay</th>\n",
       "      <th>DepDel15</th>\n",
       "      <th>DepDelayMinutes</th>\n",
       "      <th>DepTimeBlk</th>\n",
       "      <th>TaxiOut</th>\n",
       "      <th>WheelsOn</th>\n",
       "      <th>TaxiIn</th>\n",
       "      <th>CRSArrTime</th>\n",
       "      <th>ArrTime</th>\n",
       "      <th>ArrDelayMinutes</th>\n",
       "      <th>ArrDel15</th>\n",
       "      <th>ArrTimeBlk</th>\n",
       "      <th>Cancelled</th>\n",
       "      <th>CancellationCode</th>\n",
       "      <th>Diverted</th>\n",
       "      <th>CRSElapsedTime</th>\n",
       "      <th>AirTime</th>\n",
       "      <th>Flights</th>\n",
       "      <th>Distance</th>\n",
       "      <th>DistanceGroup</th>\n",
       "      <th>CarrierDelay</th>\n",
       "      <th>WeatherDelay</th>\n",
       "      <th>NASDelay</th>\n",
       "      <th>SecurityDelay</th>\n",
       "      <th>LateAircraftDelay</th>\n",
       "      <th>FirstDepTime</th>\n",
       "      <th>TotalAddGTime</th>\n",
       "    </tr>\n",
       "  </thead>\n",
       "  <tbody>\n",
       "    <tr>\n",
       "      <th>0</th>\n",
       "      <td>2022-01-06</td>\n",
       "      <td>Delta Air Lines Inc.</td>\n",
       "      <td>N315DN</td>\n",
       "      <td>1581</td>\n",
       "      <td>11697</td>\n",
       "      <td>FLL</td>\n",
       "      <td>Fort Lauderdale, FL</td>\n",
       "      <td>FL</td>\n",
       "      <td>Florida</td>\n",
       "      <td>12953</td>\n",
       "      <td>LGA</td>\n",
       "      <td>New York, NY</td>\n",
       "      <td>NY</td>\n",
       "      <td>New York</td>\n",
       "      <td>1126</td>\n",
       "      <td>0.0</td>\n",
       "      <td>0.0</td>\n",
       "      <td>0.0</td>\n",
       "      <td>0.0</td>\n",
       "      <td>1100-1159</td>\n",
       "      <td>0.0</td>\n",
       "      <td>0.0</td>\n",
       "      <td>0.0</td>\n",
       "      <td>1419</td>\n",
       "      <td>0.0</td>\n",
       "      <td>0.0</td>\n",
       "      <td>0.0</td>\n",
       "      <td>1400-1459</td>\n",
       "      <td>True</td>\n",
       "      <td>Airline/Carrier</td>\n",
       "      <td>False</td>\n",
       "      <td>173.0</td>\n",
       "      <td>0.0</td>\n",
       "      <td>1</td>\n",
       "      <td>1076.0</td>\n",
       "      <td>5</td>\n",
       "      <td>0.0</td>\n",
       "      <td>0.0</td>\n",
       "      <td>0.0</td>\n",
       "      <td>0.0</td>\n",
       "      <td>0.0</td>\n",
       "      <td>0.0</td>\n",
       "      <td>0.0</td>\n",
       "    </tr>\n",
       "    <tr>\n",
       "      <th>1</th>\n",
       "      <td>2022-01-06</td>\n",
       "      <td>Delta Air Lines Inc.</td>\n",
       "      <td>N545US</td>\n",
       "      <td>1582</td>\n",
       "      <td>10397</td>\n",
       "      <td>ATL</td>\n",
       "      <td>Atlanta, GA</td>\n",
       "      <td>GA</td>\n",
       "      <td>Georgia</td>\n",
       "      <td>11697</td>\n",
       "      <td>FLL</td>\n",
       "      <td>Fort Lauderdale, FL</td>\n",
       "      <td>FL</td>\n",
       "      <td>Florida</td>\n",
       "      <td>1631</td>\n",
       "      <td>1627.0</td>\n",
       "      <td>-4.0</td>\n",
       "      <td>0.0</td>\n",
       "      <td>0.0</td>\n",
       "      <td>1600-1659</td>\n",
       "      <td>15.0</td>\n",
       "      <td>1815.0</td>\n",
       "      <td>5.0</td>\n",
       "      <td>1821</td>\n",
       "      <td>1820.0</td>\n",
       "      <td>0.0</td>\n",
       "      <td>0.0</td>\n",
       "      <td>1800-1859</td>\n",
       "      <td>False</td>\n",
       "      <td>none</td>\n",
       "      <td>False</td>\n",
       "      <td>110.0</td>\n",
       "      <td>93.0</td>\n",
       "      <td>1</td>\n",
       "      <td>581.0</td>\n",
       "      <td>3</td>\n",
       "      <td>0.0</td>\n",
       "      <td>0.0</td>\n",
       "      <td>0.0</td>\n",
       "      <td>0.0</td>\n",
       "      <td>0.0</td>\n",
       "      <td>0.0</td>\n",
       "      <td>0.0</td>\n",
       "    </tr>\n",
       "    <tr>\n",
       "      <th>2</th>\n",
       "      <td>2022-01-06</td>\n",
       "      <td>Delta Air Lines Inc.</td>\n",
       "      <td>N545US</td>\n",
       "      <td>1582</td>\n",
       "      <td>11697</td>\n",
       "      <td>FLL</td>\n",
       "      <td>Fort Lauderdale, FL</td>\n",
       "      <td>FL</td>\n",
       "      <td>Florida</td>\n",
       "      <td>10397</td>\n",
       "      <td>ATL</td>\n",
       "      <td>Atlanta, GA</td>\n",
       "      <td>GA</td>\n",
       "      <td>Georgia</td>\n",
       "      <td>1931</td>\n",
       "      <td>1929.0</td>\n",
       "      <td>-2.0</td>\n",
       "      <td>0.0</td>\n",
       "      <td>0.0</td>\n",
       "      <td>1900-1959</td>\n",
       "      <td>13.0</td>\n",
       "      <td>2104.0</td>\n",
       "      <td>10.0</td>\n",
       "      <td>2127</td>\n",
       "      <td>2116.0</td>\n",
       "      <td>0.0</td>\n",
       "      <td>0.0</td>\n",
       "      <td>2100-2159</td>\n",
       "      <td>False</td>\n",
       "      <td>none</td>\n",
       "      <td>False</td>\n",
       "      <td>116.0</td>\n",
       "      <td>83.0</td>\n",
       "      <td>1</td>\n",
       "      <td>581.0</td>\n",
       "      <td>3</td>\n",
       "      <td>0.0</td>\n",
       "      <td>0.0</td>\n",
       "      <td>0.0</td>\n",
       "      <td>0.0</td>\n",
       "      <td>0.0</td>\n",
       "      <td>0.0</td>\n",
       "      <td>0.0</td>\n",
       "    </tr>\n",
       "    <tr>\n",
       "      <th>3</th>\n",
       "      <td>2022-01-06</td>\n",
       "      <td>Delta Air Lines Inc.</td>\n",
       "      <td>N345NB</td>\n",
       "      <td>1583</td>\n",
       "      <td>11697</td>\n",
       "      <td>FLL</td>\n",
       "      <td>Fort Lauderdale, FL</td>\n",
       "      <td>FL</td>\n",
       "      <td>Florida</td>\n",
       "      <td>14492</td>\n",
       "      <td>RDU</td>\n",
       "      <td>Raleigh/Durham, NC</td>\n",
       "      <td>NC</td>\n",
       "      <td>North Carolina</td>\n",
       "      <td>1024</td>\n",
       "      <td>1019.0</td>\n",
       "      <td>-5.0</td>\n",
       "      <td>0.0</td>\n",
       "      <td>0.0</td>\n",
       "      <td>1000-1059</td>\n",
       "      <td>17.0</td>\n",
       "      <td>1209.0</td>\n",
       "      <td>3.0</td>\n",
       "      <td>1227</td>\n",
       "      <td>1212.0</td>\n",
       "      <td>0.0</td>\n",
       "      <td>0.0</td>\n",
       "      <td>1200-1259</td>\n",
       "      <td>False</td>\n",
       "      <td>none</td>\n",
       "      <td>False</td>\n",
       "      <td>123.0</td>\n",
       "      <td>93.0</td>\n",
       "      <td>1</td>\n",
       "      <td>680.0</td>\n",
       "      <td>3</td>\n",
       "      <td>0.0</td>\n",
       "      <td>0.0</td>\n",
       "      <td>0.0</td>\n",
       "      <td>0.0</td>\n",
       "      <td>0.0</td>\n",
       "      <td>0.0</td>\n",
       "      <td>0.0</td>\n",
       "    </tr>\n",
       "    <tr>\n",
       "      <th>4</th>\n",
       "      <td>2022-01-06</td>\n",
       "      <td>Delta Air Lines Inc.</td>\n",
       "      <td>N978AT</td>\n",
       "      <td>1584</td>\n",
       "      <td>10397</td>\n",
       "      <td>ATL</td>\n",
       "      <td>Atlanta, GA</td>\n",
       "      <td>GA</td>\n",
       "      <td>Georgia</td>\n",
       "      <td>12448</td>\n",
       "      <td>JAN</td>\n",
       "      <td>Jackson/Vicksburg, MS</td>\n",
       "      <td>MS</td>\n",
       "      <td>Mississippi</td>\n",
       "      <td>1117</td>\n",
       "      <td>1113.0</td>\n",
       "      <td>-4.0</td>\n",
       "      <td>0.0</td>\n",
       "      <td>0.0</td>\n",
       "      <td>1100-1159</td>\n",
       "      <td>14.0</td>\n",
       "      <td>1127.0</td>\n",
       "      <td>4.0</td>\n",
       "      <td>1142</td>\n",
       "      <td>1131.0</td>\n",
       "      <td>0.0</td>\n",
       "      <td>0.0</td>\n",
       "      <td>1100-1159</td>\n",
       "      <td>False</td>\n",
       "      <td>none</td>\n",
       "      <td>False</td>\n",
       "      <td>85.0</td>\n",
       "      <td>60.0</td>\n",
       "      <td>1</td>\n",
       "      <td>341.0</td>\n",
       "      <td>2</td>\n",
       "      <td>0.0</td>\n",
       "      <td>0.0</td>\n",
       "      <td>0.0</td>\n",
       "      <td>0.0</td>\n",
       "      <td>0.0</td>\n",
       "      <td>0.0</td>\n",
       "      <td>0.0</td>\n",
       "    </tr>\n",
       "  </tbody>\n",
       "</table>\n",
       "</div>"
      ],
      "text/plain": [
       "  FlightDate     Operating_Airline Tail_Number  \\\n",
       "0 2022-01-06  Delta Air Lines Inc.      N315DN   \n",
       "1 2022-01-06  Delta Air Lines Inc.      N545US   \n",
       "2 2022-01-06  Delta Air Lines Inc.      N545US   \n",
       "3 2022-01-06  Delta Air Lines Inc.      N345NB   \n",
       "4 2022-01-06  Delta Air Lines Inc.      N978AT   \n",
       "\n",
       "   Flight_Number_Operating_Airline  OriginAirportID Origin  \\\n",
       "0                             1581            11697    FLL   \n",
       "1                             1582            10397    ATL   \n",
       "2                             1582            11697    FLL   \n",
       "3                             1583            11697    FLL   \n",
       "4                             1584            10397    ATL   \n",
       "\n",
       "        OriginCityName OriginState OriginStateName  DestAirportID Dest  \\\n",
       "0  Fort Lauderdale, FL          FL         Florida          12953  LGA   \n",
       "1          Atlanta, GA          GA         Georgia          11697  FLL   \n",
       "2  Fort Lauderdale, FL          FL         Florida          10397  ATL   \n",
       "3  Fort Lauderdale, FL          FL         Florida          14492  RDU   \n",
       "4          Atlanta, GA          GA         Georgia          12448  JAN   \n",
       "\n",
       "            DestCityName DestState   DestStateName  CRSDepTime  DepTime  \\\n",
       "0           New York, NY        NY        New York        1126      0.0   \n",
       "1    Fort Lauderdale, FL        FL         Florida        1631   1627.0   \n",
       "2            Atlanta, GA        GA         Georgia        1931   1929.0   \n",
       "3     Raleigh/Durham, NC        NC  North Carolina        1024   1019.0   \n",
       "4  Jackson/Vicksburg, MS        MS     Mississippi        1117   1113.0   \n",
       "\n",
       "   DepDelay  DepDel15  DepDelayMinutes DepTimeBlk  TaxiOut  WheelsOn  TaxiIn  \\\n",
       "0       0.0       0.0              0.0  1100-1159      0.0       0.0     0.0   \n",
       "1      -4.0       0.0              0.0  1600-1659     15.0    1815.0     5.0   \n",
       "2      -2.0       0.0              0.0  1900-1959     13.0    2104.0    10.0   \n",
       "3      -5.0       0.0              0.0  1000-1059     17.0    1209.0     3.0   \n",
       "4      -4.0       0.0              0.0  1100-1159     14.0    1127.0     4.0   \n",
       "\n",
       "   CRSArrTime  ArrTime  ArrDelayMinutes  ArrDel15 ArrTimeBlk  Cancelled  \\\n",
       "0        1419      0.0              0.0       0.0  1400-1459       True   \n",
       "1        1821   1820.0              0.0       0.0  1800-1859      False   \n",
       "2        2127   2116.0              0.0       0.0  2100-2159      False   \n",
       "3        1227   1212.0              0.0       0.0  1200-1259      False   \n",
       "4        1142   1131.0              0.0       0.0  1100-1159      False   \n",
       "\n",
       "  CancellationCode  Diverted  CRSElapsedTime  AirTime  Flights  Distance  \\\n",
       "0  Airline/Carrier     False           173.0      0.0        1    1076.0   \n",
       "1             none     False           110.0     93.0        1     581.0   \n",
       "2             none     False           116.0     83.0        1     581.0   \n",
       "3             none     False           123.0     93.0        1     680.0   \n",
       "4             none     False            85.0     60.0        1     341.0   \n",
       "\n",
       "   DistanceGroup  CarrierDelay  WeatherDelay  NASDelay  SecurityDelay  \\\n",
       "0              5           0.0           0.0       0.0            0.0   \n",
       "1              3           0.0           0.0       0.0            0.0   \n",
       "2              3           0.0           0.0       0.0            0.0   \n",
       "3              3           0.0           0.0       0.0            0.0   \n",
       "4              2           0.0           0.0       0.0            0.0   \n",
       "\n",
       "   LateAircraftDelay  FirstDepTime  TotalAddGTime  \n",
       "0                0.0           0.0            0.0  \n",
       "1                0.0           0.0            0.0  \n",
       "2                0.0           0.0            0.0  \n",
       "3                0.0           0.0            0.0  \n",
       "4                0.0           0.0            0.0  "
      ]
     },
     "execution_count": 10,
     "metadata": {},
     "output_type": "execute_result"
    }
   ],
   "source": [
    "df_flights.head()"
   ]
  },
  {
   "cell_type": "code",
   "execution_count": 11,
   "metadata": {},
   "outputs": [
    {
     "data": {
      "text/plain": [
       "<AxesSubplot: title={'center': 'Distribution of flight delays'}, xlabel='FlightDate'>"
      ]
     },
     "execution_count": 11,
     "metadata": {},
     "output_type": "execute_result"
    },
    {
     "data": {
      "image/png": "[encoded data removed]",
      "text/plain": [
       "<Figure size 640x480 with 1 Axes>"
      ]
     },
     "metadata": {},
     "output_type": "display_data"
    }
   ],
   "source": [
    "(df_flights\n",
    " .groupby(\"FlightDate\")\n",
    " [[\"DepDelayMinutes\"]]\n",
    " .mean()\n",
    " .plot(title=\"Distribution of flight delays\"))"
   ]
  },
  {
   "cell_type": "code",
   "execution_count": 22,
   "metadata": {},
   "outputs": [
    {
     "data": {
      "text/plain": [
       "<AxesSubplot: title={'center': 'Distribution of flight delays'}, ylabel='Frequency'>"
      ]
     },
     "execution_count": 22,
     "metadata": {},
     "output_type": "execute_result"
    },
    {
     "data": {
      "image/png": "[encoded data removed]",
      "text/plain": [
       "<Figure size 640x480 with 1 Axes>"
      ]
     },
     "metadata": {},
     "output_type": "display_data"
    }
   ],
   "source": [
    "(df_flights\n",
    " .query(\"DepDelayMinutes < 30\")\n",
    " [[\"DepDelayMinutes\"]]\n",
    " #.mean()\n",
    " .plot(kind=\"hist\", bins=50,title=\"Distribution of flight delays\"))"
   ]
  },
  {
   "cell_type": "code",
   "execution_count": 13,
   "metadata": {},
   "outputs": [
    {
     "data": {
      "text/html": [
       "<div>\n",
       "<style scoped>\n",
       "    .dataframe tbody tr th:only-of-type {\n",
       "        vertical-align: middle;\n",
       "    }\n",
       "\n",
       "    .dataframe tbody tr th {\n",
       "        vertical-align: top;\n",
       "    }\n",
       "\n",
       "    .dataframe thead th {\n",
       "        text-align: right;\n",
       "    }\n",
       "</style>\n",
       "<table border=\"1\" class=\"dataframe\">\n",
       "  <thead>\n",
       "    <tr style=\"text-align: right;\">\n",
       "      <th></th>\n",
       "      <th>FlightDate</th>\n",
       "      <th>Operating_Airline</th>\n",
       "      <th>Tail_Number</th>\n",
       "      <th>Flight_Number_Operating_Airline</th>\n",
       "      <th>OriginAirportID</th>\n",
       "      <th>Origin</th>\n",
       "      <th>OriginCityName</th>\n",
       "      <th>OriginState</th>\n",
       "      <th>OriginStateName</th>\n",
       "      <th>DestAirportID</th>\n",
       "      <th>Dest</th>\n",
       "      <th>DestCityName</th>\n",
       "      <th>DestState</th>\n",
       "      <th>DestStateName</th>\n",
       "      <th>CRSDepTime</th>\n",
       "      <th>DepTime</th>\n",
       "      <th>DepDelay</th>\n",
       "      <th>DepDel15</th>\n",
       "      <th>DepDelayMinutes</th>\n",
       "      <th>DepTimeBlk</th>\n",
       "      <th>TaxiOut</th>\n",
       "      <th>WheelsOn</th>\n",
       "      <th>TaxiIn</th>\n",
       "      <th>CRSArrTime</th>\n",
       "      <th>ArrTime</th>\n",
       "      <th>ArrDelayMinutes</th>\n",
       "      <th>ArrDel15</th>\n",
       "      <th>ArrTimeBlk</th>\n",
       "      <th>Cancelled</th>\n",
       "      <th>CancellationCode</th>\n",
       "      <th>Diverted</th>\n",
       "      <th>CRSElapsedTime</th>\n",
       "      <th>AirTime</th>\n",
       "      <th>Flights</th>\n",
       "      <th>Distance</th>\n",
       "      <th>DistanceGroup</th>\n",
       "      <th>CarrierDelay</th>\n",
       "      <th>WeatherDelay</th>\n",
       "      <th>NASDelay</th>\n",
       "      <th>SecurityDelay</th>\n",
       "      <th>LateAircraftDelay</th>\n",
       "      <th>FirstDepTime</th>\n",
       "      <th>TotalAddGTime</th>\n",
       "    </tr>\n",
       "  </thead>\n",
       "  <tbody>\n",
       "    <tr>\n",
       "      <th>0</th>\n",
       "      <td>2022-01-06</td>\n",
       "      <td>Delta Air Lines Inc.</td>\n",
       "      <td>N315DN</td>\n",
       "      <td>1581</td>\n",
       "      <td>11697</td>\n",
       "      <td>FLL</td>\n",
       "      <td>Fort Lauderdale, FL</td>\n",
       "      <td>FL</td>\n",
       "      <td>Florida</td>\n",
       "      <td>12953</td>\n",
       "      <td>LGA</td>\n",
       "      <td>New York, NY</td>\n",
       "      <td>NY</td>\n",
       "      <td>New York</td>\n",
       "      <td>1126</td>\n",
       "      <td>0.0</td>\n",
       "      <td>0.0</td>\n",
       "      <td>0.0</td>\n",
       "      <td>0.0</td>\n",
       "      <td>1100-1159</td>\n",
       "      <td>0.0</td>\n",
       "      <td>0.0</td>\n",
       "      <td>0.0</td>\n",
       "      <td>1419</td>\n",
       "      <td>0.0</td>\n",
       "      <td>0.0</td>\n",
       "      <td>0.0</td>\n",
       "      <td>1400-1459</td>\n",
       "      <td>True</td>\n",
       "      <td>Airline/Carrier</td>\n",
       "      <td>False</td>\n",
       "      <td>173.0</td>\n",
       "      <td>0.0</td>\n",
       "      <td>1</td>\n",
       "      <td>1076.0</td>\n",
       "      <td>5</td>\n",
       "      <td>0.0</td>\n",
       "      <td>0.0</td>\n",
       "      <td>0.0</td>\n",
       "      <td>0.0</td>\n",
       "      <td>0.0</td>\n",
       "      <td>0.0</td>\n",
       "      <td>0.0</td>\n",
       "    </tr>\n",
       "    <tr>\n",
       "      <th>1</th>\n",
       "      <td>2022-01-06</td>\n",
       "      <td>Delta Air Lines Inc.</td>\n",
       "      <td>N545US</td>\n",
       "      <td>1582</td>\n",
       "      <td>10397</td>\n",
       "      <td>ATL</td>\n",
       "      <td>Atlanta, GA</td>\n",
       "      <td>GA</td>\n",
       "      <td>Georgia</td>\n",
       "      <td>11697</td>\n",
       "      <td>FLL</td>\n",
       "      <td>Fort Lauderdale, FL</td>\n",
       "      <td>FL</td>\n",
       "      <td>Florida</td>\n",
       "      <td>1631</td>\n",
       "      <td>1627.0</td>\n",
       "      <td>-4.0</td>\n",
       "      <td>0.0</td>\n",
       "      <td>0.0</td>\n",
       "      <td>1600-1659</td>\n",
       "      <td>15.0</td>\n",
       "      <td>1815.0</td>\n",
       "      <td>5.0</td>\n",
       "      <td>1821</td>\n",
       "      <td>1820.0</td>\n",
       "      <td>0.0</td>\n",
       "      <td>0.0</td>\n",
       "      <td>1800-1859</td>\n",
       "      <td>False</td>\n",
       "      <td>none</td>\n",
       "      <td>False</td>\n",
       "      <td>110.0</td>\n",
       "      <td>93.0</td>\n",
       "      <td>1</td>\n",
       "      <td>581.0</td>\n",
       "      <td>3</td>\n",
       "      <td>0.0</td>\n",
       "      <td>0.0</td>\n",
       "      <td>0.0</td>\n",
       "      <td>0.0</td>\n",
       "      <td>0.0</td>\n",
       "      <td>0.0</td>\n",
       "      <td>0.0</td>\n",
       "    </tr>\n",
       "    <tr>\n",
       "      <th>2</th>\n",
       "      <td>2022-01-06</td>\n",
       "      <td>Delta Air Lines Inc.</td>\n",
       "      <td>N545US</td>\n",
       "      <td>1582</td>\n",
       "      <td>11697</td>\n",
       "      <td>FLL</td>\n",
       "      <td>Fort Lauderdale, FL</td>\n",
       "      <td>FL</td>\n",
       "      <td>Florida</td>\n",
       "      <td>10397</td>\n",
       "      <td>ATL</td>\n",
       "      <td>Atlanta, GA</td>\n",
       "      <td>GA</td>\n",
       "      <td>Georgia</td>\n",
       "      <td>1931</td>\n",
       "      <td>1929.0</td>\n",
       "      <td>-2.0</td>\n",
       "      <td>0.0</td>\n",
       "      <td>0.0</td>\n",
       "      <td>1900-1959</td>\n",
       "      <td>13.0</td>\n",
       "      <td>2104.0</td>\n",
       "      <td>10.0</td>\n",
       "      <td>2127</td>\n",
       "      <td>2116.0</td>\n",
       "      <td>0.0</td>\n",
       "      <td>0.0</td>\n",
       "      <td>2100-2159</td>\n",
       "      <td>False</td>\n",
       "      <td>none</td>\n",
       "      <td>False</td>\n",
       "      <td>116.0</td>\n",
       "      <td>83.0</td>\n",
       "      <td>1</td>\n",
       "      <td>581.0</td>\n",
       "      <td>3</td>\n",
       "      <td>0.0</td>\n",
       "      <td>0.0</td>\n",
       "      <td>0.0</td>\n",
       "      <td>0.0</td>\n",
       "      <td>0.0</td>\n",
       "      <td>0.0</td>\n",
       "      <td>0.0</td>\n",
       "    </tr>\n",
       "    <tr>\n",
       "      <th>3</th>\n",
       "      <td>2022-01-06</td>\n",
       "      <td>Delta Air Lines Inc.</td>\n",
       "      <td>N345NB</td>\n",
       "      <td>1583</td>\n",
       "      <td>11697</td>\n",
       "      <td>FLL</td>\n",
       "      <td>Fort Lauderdale, FL</td>\n",
       "      <td>FL</td>\n",
       "      <td>Florida</td>\n",
       "      <td>14492</td>\n",
       "      <td>RDU</td>\n",
       "      <td>Raleigh/Durham, NC</td>\n",
       "      <td>NC</td>\n",
       "      <td>North Carolina</td>\n",
       "      <td>1024</td>\n",
       "      <td>1019.0</td>\n",
       "      <td>-5.0</td>\n",
       "      <td>0.0</td>\n",
       "      <td>0.0</td>\n",
       "      <td>1000-1059</td>\n",
       "      <td>17.0</td>\n",
       "      <td>1209.0</td>\n",
       "      <td>3.0</td>\n",
       "      <td>1227</td>\n",
       "      <td>1212.0</td>\n",
       "      <td>0.0</td>\n",
       "      <td>0.0</td>\n",
       "      <td>1200-1259</td>\n",
       "      <td>False</td>\n",
       "      <td>none</td>\n",
       "      <td>False</td>\n",
       "      <td>123.0</td>\n",
       "      <td>93.0</td>\n",
       "      <td>1</td>\n",
       "      <td>680.0</td>\n",
       "      <td>3</td>\n",
       "      <td>0.0</td>\n",
       "      <td>0.0</td>\n",
       "      <td>0.0</td>\n",
       "      <td>0.0</td>\n",
       "      <td>0.0</td>\n",
       "      <td>0.0</td>\n",
       "      <td>0.0</td>\n",
       "    </tr>\n",
       "    <tr>\n",
       "      <th>4</th>\n",
       "      <td>2022-01-06</td>\n",
       "      <td>Delta Air Lines Inc.</td>\n",
       "      <td>N978AT</td>\n",
       "      <td>1584</td>\n",
       "      <td>10397</td>\n",
       "      <td>ATL</td>\n",
       "      <td>Atlanta, GA</td>\n",
       "      <td>GA</td>\n",
       "      <td>Georgia</td>\n",
       "      <td>12448</td>\n",
       "      <td>JAN</td>\n",
       "      <td>Jackson/Vicksburg, MS</td>\n",
       "      <td>MS</td>\n",
       "      <td>Mississippi</td>\n",
       "      <td>1117</td>\n",
       "      <td>1113.0</td>\n",
       "      <td>-4.0</td>\n",
       "      <td>0.0</td>\n",
       "      <td>0.0</td>\n",
       "      <td>1100-1159</td>\n",
       "      <td>14.0</td>\n",
       "      <td>1127.0</td>\n",
       "      <td>4.0</td>\n",
       "      <td>1142</td>\n",
       "      <td>1131.0</td>\n",
       "      <td>0.0</td>\n",
       "      <td>0.0</td>\n",
       "      <td>1100-1159</td>\n",
       "      <td>False</td>\n",
       "      <td>none</td>\n",
       "      <td>False</td>\n",
       "      <td>85.0</td>\n",
       "      <td>60.0</td>\n",
       "      <td>1</td>\n",
       "      <td>341.0</td>\n",
       "      <td>2</td>\n",
       "      <td>0.0</td>\n",
       "      <td>0.0</td>\n",
       "      <td>0.0</td>\n",
       "      <td>0.0</td>\n",
       "      <td>0.0</td>\n",
       "      <td>0.0</td>\n",
       "      <td>0.0</td>\n",
       "    </tr>\n",
       "    <tr>\n",
       "      <th>5</th>\n",
       "      <td>2022-01-06</td>\n",
       "      <td>Delta Air Lines Inc.</td>\n",
       "      <td>N978AT</td>\n",
       "      <td>1584</td>\n",
       "      <td>12448</td>\n",
       "      <td>JAN</td>\n",
       "      <td>Jackson/Vicksburg, MS</td>\n",
       "      <td>MS</td>\n",
       "      <td>Mississippi</td>\n",
       "      <td>10397</td>\n",
       "      <td>ATL</td>\n",
       "      <td>Atlanta, GA</td>\n",
       "      <td>GA</td>\n",
       "      <td>Georgia</td>\n",
       "      <td>1237</td>\n",
       "      <td>1230.0</td>\n",
       "      <td>-7.0</td>\n",
       "      <td>0.0</td>\n",
       "      <td>0.0</td>\n",
       "      <td>1200-1259</td>\n",
       "      <td>11.0</td>\n",
       "      <td>1430.0</td>\n",
       "      <td>5.0</td>\n",
       "      <td>1458</td>\n",
       "      <td>1435.0</td>\n",
       "      <td>0.0</td>\n",
       "      <td>0.0</td>\n",
       "      <td>1400-1459</td>\n",
       "      <td>False</td>\n",
       "      <td>none</td>\n",
       "      <td>False</td>\n",
       "      <td>81.0</td>\n",
       "      <td>49.0</td>\n",
       "      <td>1</td>\n",
       "      <td>341.0</td>\n",
       "      <td>2</td>\n",
       "      <td>0.0</td>\n",
       "      <td>0.0</td>\n",
       "      <td>0.0</td>\n",
       "      <td>0.0</td>\n",
       "      <td>0.0</td>\n",
       "      <td>0.0</td>\n",
       "      <td>0.0</td>\n",
       "    </tr>\n",
       "    <tr>\n",
       "      <th>6</th>\n",
       "      <td>2022-01-06</td>\n",
       "      <td>Delta Air Lines Inc.</td>\n",
       "      <td>N878DN</td>\n",
       "      <td>1585</td>\n",
       "      <td>14524</td>\n",
       "      <td>RIC</td>\n",
       "      <td>Richmond, VA</td>\n",
       "      <td>VA</td>\n",
       "      <td>Virginia</td>\n",
       "      <td>10397</td>\n",
       "      <td>ATL</td>\n",
       "      <td>Atlanta, GA</td>\n",
       "      <td>GA</td>\n",
       "      <td>Georgia</td>\n",
       "      <td>900</td>\n",
       "      <td>857.0</td>\n",
       "      <td>-3.0</td>\n",
       "      <td>0.0</td>\n",
       "      <td>0.0</td>\n",
       "      <td>0900-0959</td>\n",
       "      <td>13.0</td>\n",
       "      <td>1030.0</td>\n",
       "      <td>8.0</td>\n",
       "      <td>1050</td>\n",
       "      <td>1038.0</td>\n",
       "      <td>0.0</td>\n",
       "      <td>0.0</td>\n",
       "      <td>1000-1059</td>\n",
       "      <td>False</td>\n",
       "      <td>none</td>\n",
       "      <td>False</td>\n",
       "      <td>110.0</td>\n",
       "      <td>80.0</td>\n",
       "      <td>1</td>\n",
       "      <td>481.0</td>\n",
       "      <td>2</td>\n",
       "      <td>0.0</td>\n",
       "      <td>0.0</td>\n",
       "      <td>0.0</td>\n",
       "      <td>0.0</td>\n",
       "      <td>0.0</td>\n",
       "      <td>0.0</td>\n",
       "      <td>0.0</td>\n",
       "    </tr>\n",
       "    <tr>\n",
       "      <th>7</th>\n",
       "      <td>2022-01-06</td>\n",
       "      <td>Delta Air Lines Inc.</td>\n",
       "      <td>N596NW</td>\n",
       "      <td>1586</td>\n",
       "      <td>13487</td>\n",
       "      <td>MSP</td>\n",
       "      <td>Minneapolis, MN</td>\n",
       "      <td>MN</td>\n",
       "      <td>Minnesota</td>\n",
       "      <td>14635</td>\n",
       "      <td>RSW</td>\n",
       "      <td>Fort Myers, FL</td>\n",
       "      <td>FL</td>\n",
       "      <td>Florida</td>\n",
       "      <td>1000</td>\n",
       "      <td>1018.0</td>\n",
       "      <td>18.0</td>\n",
       "      <td>1.0</td>\n",
       "      <td>18.0</td>\n",
       "      <td>1000-1059</td>\n",
       "      <td>15.0</td>\n",
       "      <td>1431.0</td>\n",
       "      <td>4.0</td>\n",
       "      <td>1433</td>\n",
       "      <td>1435.0</td>\n",
       "      <td>2.0</td>\n",
       "      <td>0.0</td>\n",
       "      <td>1400-1459</td>\n",
       "      <td>False</td>\n",
       "      <td>none</td>\n",
       "      <td>False</td>\n",
       "      <td>213.0</td>\n",
       "      <td>178.0</td>\n",
       "      <td>1</td>\n",
       "      <td>1416.0</td>\n",
       "      <td>6</td>\n",
       "      <td>0.0</td>\n",
       "      <td>0.0</td>\n",
       "      <td>0.0</td>\n",
       "      <td>0.0</td>\n",
       "      <td>0.0</td>\n",
       "      <td>0.0</td>\n",
       "      <td>0.0</td>\n",
       "    </tr>\n",
       "    <tr>\n",
       "      <th>8</th>\n",
       "      <td>2022-01-06</td>\n",
       "      <td>Delta Air Lines Inc.</td>\n",
       "      <td>N872DN</td>\n",
       "      <td>1587</td>\n",
       "      <td>10397</td>\n",
       "      <td>ATL</td>\n",
       "      <td>Atlanta, GA</td>\n",
       "      <td>GA</td>\n",
       "      <td>Georgia</td>\n",
       "      <td>14492</td>\n",
       "      <td>RDU</td>\n",
       "      <td>Raleigh/Durham, NC</td>\n",
       "      <td>NC</td>\n",
       "      <td>North Carolina</td>\n",
       "      <td>1414</td>\n",
       "      <td>1422.0</td>\n",
       "      <td>8.0</td>\n",
       "      <td>0.0</td>\n",
       "      <td>8.0</td>\n",
       "      <td>1400-1459</td>\n",
       "      <td>11.0</td>\n",
       "      <td>1528.0</td>\n",
       "      <td>3.0</td>\n",
       "      <td>1533</td>\n",
       "      <td>1531.0</td>\n",
       "      <td>0.0</td>\n",
       "      <td>0.0</td>\n",
       "      <td>1500-1559</td>\n",
       "      <td>False</td>\n",
       "      <td>none</td>\n",
       "      <td>False</td>\n",
       "      <td>79.0</td>\n",
       "      <td>55.0</td>\n",
       "      <td>1</td>\n",
       "      <td>356.0</td>\n",
       "      <td>2</td>\n",
       "      <td>0.0</td>\n",
       "      <td>0.0</td>\n",
       "      <td>0.0</td>\n",
       "      <td>0.0</td>\n",
       "      <td>0.0</td>\n",
       "      <td>0.0</td>\n",
       "      <td>0.0</td>\n",
       "    </tr>\n",
       "    <tr>\n",
       "      <th>9</th>\n",
       "      <td>2022-01-06</td>\n",
       "      <td>Delta Air Lines Inc.</td>\n",
       "      <td>N872DN</td>\n",
       "      <td>1587</td>\n",
       "      <td>14492</td>\n",
       "      <td>RDU</td>\n",
       "      <td>Raleigh/Durham, NC</td>\n",
       "      <td>NC</td>\n",
       "      <td>North Carolina</td>\n",
       "      <td>10397</td>\n",
       "      <td>ATL</td>\n",
       "      <td>Atlanta, GA</td>\n",
       "      <td>GA</td>\n",
       "      <td>Georgia</td>\n",
       "      <td>1643</td>\n",
       "      <td>1640.0</td>\n",
       "      <td>-3.0</td>\n",
       "      <td>0.0</td>\n",
       "      <td>0.0</td>\n",
       "      <td>1600-1659</td>\n",
       "      <td>12.0</td>\n",
       "      <td>1759.0</td>\n",
       "      <td>4.0</td>\n",
       "      <td>1814</td>\n",
       "      <td>1803.0</td>\n",
       "      <td>0.0</td>\n",
       "      <td>0.0</td>\n",
       "      <td>1800-1859</td>\n",
       "      <td>False</td>\n",
       "      <td>none</td>\n",
       "      <td>False</td>\n",
       "      <td>91.0</td>\n",
       "      <td>67.0</td>\n",
       "      <td>1</td>\n",
       "      <td>356.0</td>\n",
       "      <td>2</td>\n",
       "      <td>0.0</td>\n",
       "      <td>0.0</td>\n",
       "      <td>0.0</td>\n",
       "      <td>0.0</td>\n",
       "      <td>0.0</td>\n",
       "      <td>0.0</td>\n",
       "      <td>0.0</td>\n",
       "    </tr>\n",
       "    <tr>\n",
       "      <th>...</th>\n",
       "      <td>...</td>\n",
       "      <td>...</td>\n",
       "      <td>...</td>\n",
       "      <td>...</td>\n",
       "      <td>...</td>\n",
       "      <td>...</td>\n",
       "      <td>...</td>\n",
       "      <td>...</td>\n",
       "      <td>...</td>\n",
       "      <td>...</td>\n",
       "      <td>...</td>\n",
       "      <td>...</td>\n",
       "      <td>...</td>\n",
       "      <td>...</td>\n",
       "      <td>...</td>\n",
       "      <td>...</td>\n",
       "      <td>...</td>\n",
       "      <td>...</td>\n",
       "      <td>...</td>\n",
       "      <td>...</td>\n",
       "      <td>...</td>\n",
       "      <td>...</td>\n",
       "      <td>...</td>\n",
       "      <td>...</td>\n",
       "      <td>...</td>\n",
       "      <td>...</td>\n",
       "      <td>...</td>\n",
       "      <td>...</td>\n",
       "      <td>...</td>\n",
       "      <td>...</td>\n",
       "      <td>...</td>\n",
       "      <td>...</td>\n",
       "      <td>...</td>\n",
       "      <td>...</td>\n",
       "      <td>...</td>\n",
       "      <td>...</td>\n",
       "      <td>...</td>\n",
       "      <td>...</td>\n",
       "      <td>...</td>\n",
       "      <td>...</td>\n",
       "      <td>...</td>\n",
       "      <td>...</td>\n",
       "      <td>...</td>\n",
       "    </tr>\n",
       "    <tr>\n",
       "      <th>4691953</th>\n",
       "      <td>2022-08-29</td>\n",
       "      <td>Comair Inc.</td>\n",
       "      <td>N600NN</td>\n",
       "      <td>5296</td>\n",
       "      <td>11278</td>\n",
       "      <td>DCA</td>\n",
       "      <td>Washington, DC</td>\n",
       "      <td>VA</td>\n",
       "      <td>Virginia</td>\n",
       "      <td>11986</td>\n",
       "      <td>GRR</td>\n",
       "      <td>Grand Rapids, MI</td>\n",
       "      <td>MI</td>\n",
       "      <td>Michigan</td>\n",
       "      <td>1712</td>\n",
       "      <td>1708.0</td>\n",
       "      <td>-4.0</td>\n",
       "      <td>0.0</td>\n",
       "      <td>0.0</td>\n",
       "      <td>1700-1759</td>\n",
       "      <td>16.0</td>\n",
       "      <td>1910.0</td>\n",
       "      <td>5.0</td>\n",
       "      <td>1906</td>\n",
       "      <td>1915.0</td>\n",
       "      <td>9.0</td>\n",
       "      <td>0.0</td>\n",
       "      <td>1900-1959</td>\n",
       "      <td>False</td>\n",
       "      <td>none</td>\n",
       "      <td>False</td>\n",
       "      <td>114.0</td>\n",
       "      <td>106.0</td>\n",
       "      <td>1</td>\n",
       "      <td>524.0</td>\n",
       "      <td>3</td>\n",
       "      <td>0.0</td>\n",
       "      <td>0.0</td>\n",
       "      <td>0.0</td>\n",
       "      <td>0.0</td>\n",
       "      <td>0.0</td>\n",
       "      <td>0.0</td>\n",
       "      <td>0.0</td>\n",
       "    </tr>\n",
       "    <tr>\n",
       "      <th>4691956</th>\n",
       "      <td>2022-08-01</td>\n",
       "      <td>Comair Inc.</td>\n",
       "      <td>N595NN</td>\n",
       "      <td>5297</td>\n",
       "      <td>13577</td>\n",
       "      <td>MYR</td>\n",
       "      <td>Myrtle Beach, SC</td>\n",
       "      <td>SC</td>\n",
       "      <td>South Carolina</td>\n",
       "      <td>14100</td>\n",
       "      <td>PHL</td>\n",
       "      <td>Philadelphia, PA</td>\n",
       "      <td>PA</td>\n",
       "      <td>Pennsylvania</td>\n",
       "      <td>1800</td>\n",
       "      <td>1821.0</td>\n",
       "      <td>21.0</td>\n",
       "      <td>1.0</td>\n",
       "      <td>21.0</td>\n",
       "      <td>1800-1859</td>\n",
       "      <td>19.0</td>\n",
       "      <td>2000.0</td>\n",
       "      <td>5.0</td>\n",
       "      <td>1941</td>\n",
       "      <td>2005.0</td>\n",
       "      <td>24.0</td>\n",
       "      <td>1.0</td>\n",
       "      <td>1900-1959</td>\n",
       "      <td>False</td>\n",
       "      <td>none</td>\n",
       "      <td>False</td>\n",
       "      <td>101.0</td>\n",
       "      <td>80.0</td>\n",
       "      <td>1</td>\n",
       "      <td>473.0</td>\n",
       "      <td>2</td>\n",
       "      <td>0.0</td>\n",
       "      <td>0.0</td>\n",
       "      <td>3.0</td>\n",
       "      <td>0.0</td>\n",
       "      <td>21.0</td>\n",
       "      <td>0.0</td>\n",
       "      <td>0.0</td>\n",
       "    </tr>\n",
       "    <tr>\n",
       "      <th>4691958</th>\n",
       "      <td>2022-08-03</td>\n",
       "      <td>Comair Inc.</td>\n",
       "      <td>N574NN</td>\n",
       "      <td>5297</td>\n",
       "      <td>13577</td>\n",
       "      <td>MYR</td>\n",
       "      <td>Myrtle Beach, SC</td>\n",
       "      <td>SC</td>\n",
       "      <td>South Carolina</td>\n",
       "      <td>14100</td>\n",
       "      <td>PHL</td>\n",
       "      <td>Philadelphia, PA</td>\n",
       "      <td>PA</td>\n",
       "      <td>Pennsylvania</td>\n",
       "      <td>1800</td>\n",
       "      <td>1749.0</td>\n",
       "      <td>-11.0</td>\n",
       "      <td>0.0</td>\n",
       "      <td>0.0</td>\n",
       "      <td>1800-1859</td>\n",
       "      <td>11.0</td>\n",
       "      <td>1911.0</td>\n",
       "      <td>6.0</td>\n",
       "      <td>1941</td>\n",
       "      <td>1917.0</td>\n",
       "      <td>0.0</td>\n",
       "      <td>0.0</td>\n",
       "      <td>1900-1959</td>\n",
       "      <td>False</td>\n",
       "      <td>none</td>\n",
       "      <td>False</td>\n",
       "      <td>101.0</td>\n",
       "      <td>71.0</td>\n",
       "      <td>1</td>\n",
       "      <td>473.0</td>\n",
       "      <td>2</td>\n",
       "      <td>0.0</td>\n",
       "      <td>0.0</td>\n",
       "      <td>0.0</td>\n",
       "      <td>0.0</td>\n",
       "      <td>0.0</td>\n",
       "      <td>0.0</td>\n",
       "      <td>0.0</td>\n",
       "    </tr>\n",
       "    <tr>\n",
       "      <th>4691959</th>\n",
       "      <td>2022-08-06</td>\n",
       "      <td>Comair Inc.</td>\n",
       "      <td>N585NN</td>\n",
       "      <td>5297</td>\n",
       "      <td>13577</td>\n",
       "      <td>MYR</td>\n",
       "      <td>Myrtle Beach, SC</td>\n",
       "      <td>SC</td>\n",
       "      <td>South Carolina</td>\n",
       "      <td>14100</td>\n",
       "      <td>PHL</td>\n",
       "      <td>Philadelphia, PA</td>\n",
       "      <td>PA</td>\n",
       "      <td>Pennsylvania</td>\n",
       "      <td>1800</td>\n",
       "      <td>1812.0</td>\n",
       "      <td>12.0</td>\n",
       "      <td>0.0</td>\n",
       "      <td>12.0</td>\n",
       "      <td>1800-1859</td>\n",
       "      <td>13.0</td>\n",
       "      <td>1942.0</td>\n",
       "      <td>5.0</td>\n",
       "      <td>1941</td>\n",
       "      <td>1947.0</td>\n",
       "      <td>6.0</td>\n",
       "      <td>0.0</td>\n",
       "      <td>1900-1959</td>\n",
       "      <td>False</td>\n",
       "      <td>none</td>\n",
       "      <td>False</td>\n",
       "      <td>101.0</td>\n",
       "      <td>77.0</td>\n",
       "      <td>1</td>\n",
       "      <td>473.0</td>\n",
       "      <td>2</td>\n",
       "      <td>0.0</td>\n",
       "      <td>0.0</td>\n",
       "      <td>0.0</td>\n",
       "      <td>0.0</td>\n",
       "      <td>0.0</td>\n",
       "      <td>0.0</td>\n",
       "      <td>0.0</td>\n",
       "    </tr>\n",
       "    <tr>\n",
       "      <th>4691960</th>\n",
       "      <td>2022-08-07</td>\n",
       "      <td>Comair Inc.</td>\n",
       "      <td>N705PS</td>\n",
       "      <td>5297</td>\n",
       "      <td>13577</td>\n",
       "      <td>MYR</td>\n",
       "      <td>Myrtle Beach, SC</td>\n",
       "      <td>SC</td>\n",
       "      <td>South Carolina</td>\n",
       "      <td>14100</td>\n",
       "      <td>PHL</td>\n",
       "      <td>Philadelphia, PA</td>\n",
       "      <td>PA</td>\n",
       "      <td>Pennsylvania</td>\n",
       "      <td>1800</td>\n",
       "      <td>1747.0</td>\n",
       "      <td>-13.0</td>\n",
       "      <td>0.0</td>\n",
       "      <td>0.0</td>\n",
       "      <td>1800-1859</td>\n",
       "      <td>11.0</td>\n",
       "      <td>1908.0</td>\n",
       "      <td>23.0</td>\n",
       "      <td>1941</td>\n",
       "      <td>1931.0</td>\n",
       "      <td>0.0</td>\n",
       "      <td>0.0</td>\n",
       "      <td>1900-1959</td>\n",
       "      <td>False</td>\n",
       "      <td>none</td>\n",
       "      <td>False</td>\n",
       "      <td>101.0</td>\n",
       "      <td>70.0</td>\n",
       "      <td>1</td>\n",
       "      <td>473.0</td>\n",
       "      <td>2</td>\n",
       "      <td>0.0</td>\n",
       "      <td>0.0</td>\n",
       "      <td>0.0</td>\n",
       "      <td>0.0</td>\n",
       "      <td>0.0</td>\n",
       "      <td>0.0</td>\n",
       "      <td>0.0</td>\n",
       "    </tr>\n",
       "    <tr>\n",
       "      <th>4691961</th>\n",
       "      <td>2022-08-09</td>\n",
       "      <td>Comair Inc.</td>\n",
       "      <td>N612NN</td>\n",
       "      <td>5297</td>\n",
       "      <td>13577</td>\n",
       "      <td>MYR</td>\n",
       "      <td>Myrtle Beach, SC</td>\n",
       "      <td>SC</td>\n",
       "      <td>South Carolina</td>\n",
       "      <td>14100</td>\n",
       "      <td>PHL</td>\n",
       "      <td>Philadelphia, PA</td>\n",
       "      <td>PA</td>\n",
       "      <td>Pennsylvania</td>\n",
       "      <td>1800</td>\n",
       "      <td>1752.0</td>\n",
       "      <td>-8.0</td>\n",
       "      <td>0.0</td>\n",
       "      <td>0.0</td>\n",
       "      <td>1800-1859</td>\n",
       "      <td>15.0</td>\n",
       "      <td>1927.0</td>\n",
       "      <td>8.0</td>\n",
       "      <td>1941</td>\n",
       "      <td>1935.0</td>\n",
       "      <td>0.0</td>\n",
       "      <td>0.0</td>\n",
       "      <td>1900-1959</td>\n",
       "      <td>False</td>\n",
       "      <td>none</td>\n",
       "      <td>False</td>\n",
       "      <td>101.0</td>\n",
       "      <td>80.0</td>\n",
       "      <td>1</td>\n",
       "      <td>473.0</td>\n",
       "      <td>2</td>\n",
       "      <td>0.0</td>\n",
       "      <td>0.0</td>\n",
       "      <td>0.0</td>\n",
       "      <td>0.0</td>\n",
       "      <td>0.0</td>\n",
       "      <td>0.0</td>\n",
       "      <td>0.0</td>\n",
       "    </tr>\n",
       "    <tr>\n",
       "      <th>4691963</th>\n",
       "      <td>2022-08-16</td>\n",
       "      <td>Comair Inc.</td>\n",
       "      <td>N563NN</td>\n",
       "      <td>5297</td>\n",
       "      <td>13577</td>\n",
       "      <td>MYR</td>\n",
       "      <td>Myrtle Beach, SC</td>\n",
       "      <td>SC</td>\n",
       "      <td>South Carolina</td>\n",
       "      <td>14100</td>\n",
       "      <td>PHL</td>\n",
       "      <td>Philadelphia, PA</td>\n",
       "      <td>PA</td>\n",
       "      <td>Pennsylvania</td>\n",
       "      <td>1801</td>\n",
       "      <td>1745.0</td>\n",
       "      <td>-16.0</td>\n",
       "      <td>0.0</td>\n",
       "      <td>0.0</td>\n",
       "      <td>1800-1859</td>\n",
       "      <td>13.0</td>\n",
       "      <td>1918.0</td>\n",
       "      <td>7.0</td>\n",
       "      <td>1940</td>\n",
       "      <td>1925.0</td>\n",
       "      <td>0.0</td>\n",
       "      <td>0.0</td>\n",
       "      <td>1900-1959</td>\n",
       "      <td>False</td>\n",
       "      <td>none</td>\n",
       "      <td>False</td>\n",
       "      <td>99.0</td>\n",
       "      <td>80.0</td>\n",
       "      <td>1</td>\n",
       "      <td>473.0</td>\n",
       "      <td>2</td>\n",
       "      <td>0.0</td>\n",
       "      <td>0.0</td>\n",
       "      <td>0.0</td>\n",
       "      <td>0.0</td>\n",
       "      <td>0.0</td>\n",
       "      <td>0.0</td>\n",
       "      <td>0.0</td>\n",
       "    </tr>\n",
       "    <tr>\n",
       "      <th>4691964</th>\n",
       "      <td>2022-08-17</td>\n",
       "      <td>Comair Inc.</td>\n",
       "      <td>N614NN</td>\n",
       "      <td>5297</td>\n",
       "      <td>13577</td>\n",
       "      <td>MYR</td>\n",
       "      <td>Myrtle Beach, SC</td>\n",
       "      <td>SC</td>\n",
       "      <td>South Carolina</td>\n",
       "      <td>14100</td>\n",
       "      <td>PHL</td>\n",
       "      <td>Philadelphia, PA</td>\n",
       "      <td>PA</td>\n",
       "      <td>Pennsylvania</td>\n",
       "      <td>1801</td>\n",
       "      <td>1831.0</td>\n",
       "      <td>30.0</td>\n",
       "      <td>1.0</td>\n",
       "      <td>30.0</td>\n",
       "      <td>1800-1859</td>\n",
       "      <td>16.0</td>\n",
       "      <td>2002.0</td>\n",
       "      <td>6.0</td>\n",
       "      <td>1940</td>\n",
       "      <td>2008.0</td>\n",
       "      <td>28.0</td>\n",
       "      <td>1.0</td>\n",
       "      <td>1900-1959</td>\n",
       "      <td>False</td>\n",
       "      <td>none</td>\n",
       "      <td>False</td>\n",
       "      <td>99.0</td>\n",
       "      <td>75.0</td>\n",
       "      <td>1</td>\n",
       "      <td>473.0</td>\n",
       "      <td>2</td>\n",
       "      <td>0.0</td>\n",
       "      <td>0.0</td>\n",
       "      <td>0.0</td>\n",
       "      <td>0.0</td>\n",
       "      <td>28.0</td>\n",
       "      <td>0.0</td>\n",
       "      <td>0.0</td>\n",
       "    </tr>\n",
       "    <tr>\n",
       "      <th>4691965</th>\n",
       "      <td>2022-08-18</td>\n",
       "      <td>Comair Inc.</td>\n",
       "      <td>N614NN</td>\n",
       "      <td>5297</td>\n",
       "      <td>13577</td>\n",
       "      <td>MYR</td>\n",
       "      <td>Myrtle Beach, SC</td>\n",
       "      <td>SC</td>\n",
       "      <td>South Carolina</td>\n",
       "      <td>14100</td>\n",
       "      <td>PHL</td>\n",
       "      <td>Philadelphia, PA</td>\n",
       "      <td>PA</td>\n",
       "      <td>Pennsylvania</td>\n",
       "      <td>1801</td>\n",
       "      <td>1745.0</td>\n",
       "      <td>-16.0</td>\n",
       "      <td>0.0</td>\n",
       "      <td>0.0</td>\n",
       "      <td>1800-1859</td>\n",
       "      <td>13.0</td>\n",
       "      <td>1906.0</td>\n",
       "      <td>6.0</td>\n",
       "      <td>1940</td>\n",
       "      <td>1912.0</td>\n",
       "      <td>0.0</td>\n",
       "      <td>0.0</td>\n",
       "      <td>1900-1959</td>\n",
       "      <td>False</td>\n",
       "      <td>none</td>\n",
       "      <td>False</td>\n",
       "      <td>99.0</td>\n",
       "      <td>68.0</td>\n",
       "      <td>1</td>\n",
       "      <td>473.0</td>\n",
       "      <td>2</td>\n",
       "      <td>0.0</td>\n",
       "      <td>0.0</td>\n",
       "      <td>0.0</td>\n",
       "      <td>0.0</td>\n",
       "      <td>0.0</td>\n",
       "      <td>0.0</td>\n",
       "      <td>0.0</td>\n",
       "    </tr>\n",
       "    <tr>\n",
       "      <th>4691966</th>\n",
       "      <td>2022-08-19</td>\n",
       "      <td>Comair Inc.</td>\n",
       "      <td>N611NN</td>\n",
       "      <td>5297</td>\n",
       "      <td>13577</td>\n",
       "      <td>MYR</td>\n",
       "      <td>Myrtle Beach, SC</td>\n",
       "      <td>SC</td>\n",
       "      <td>South Carolina</td>\n",
       "      <td>14100</td>\n",
       "      <td>PHL</td>\n",
       "      <td>Philadelphia, PA</td>\n",
       "      <td>PA</td>\n",
       "      <td>Pennsylvania</td>\n",
       "      <td>1801</td>\n",
       "      <td>1749.0</td>\n",
       "      <td>-12.0</td>\n",
       "      <td>0.0</td>\n",
       "      <td>0.0</td>\n",
       "      <td>1800-1859</td>\n",
       "      <td>13.0</td>\n",
       "      <td>1919.0</td>\n",
       "      <td>8.0</td>\n",
       "      <td>1940</td>\n",
       "      <td>1927.0</td>\n",
       "      <td>0.0</td>\n",
       "      <td>0.0</td>\n",
       "      <td>1900-1959</td>\n",
       "      <td>False</td>\n",
       "      <td>none</td>\n",
       "      <td>False</td>\n",
       "      <td>99.0</td>\n",
       "      <td>77.0</td>\n",
       "      <td>1</td>\n",
       "      <td>473.0</td>\n",
       "      <td>2</td>\n",
       "      <td>0.0</td>\n",
       "      <td>0.0</td>\n",
       "      <td>0.0</td>\n",
       "      <td>0.0</td>\n",
       "      <td>0.0</td>\n",
       "      <td>0.0</td>\n",
       "      <td>0.0</td>\n",
       "    </tr>\n",
       "  </tbody>\n",
       "</table>\n",
       "<p>4228753 rows × 43 columns</p>\n",
       "</div>"
      ],
      "text/plain": [
       "        FlightDate     Operating_Airline Tail_Number  \\\n",
       "0       2022-01-06  Delta Air Lines Inc.      N315DN   \n",
       "1       2022-01-06  Delta Air Lines Inc.      N545US   \n",
       "2       2022-01-06  Delta Air Lines Inc.      N545US   \n",
       "3       2022-01-06  Delta Air Lines Inc.      N345NB   \n",
       "4       2022-01-06  Delta Air Lines Inc.      N978AT   \n",
       "5       2022-01-06  Delta Air Lines Inc.      N978AT   \n",
       "6       2022-01-06  Delta Air Lines Inc.      N878DN   \n",
       "7       2022-01-06  Delta Air Lines Inc.      N596NW   \n",
       "8       2022-01-06  Delta Air Lines Inc.      N872DN   \n",
       "9       2022-01-06  Delta Air Lines Inc.      N872DN   \n",
       "...            ...                   ...         ...   \n",
       "4691953 2022-08-29           Comair Inc.      N600NN   \n",
       "4691956 2022-08-01           Comair Inc.      N595NN   \n",
       "4691958 2022-08-03           Comair Inc.      N574NN   \n",
       "4691959 2022-08-06           Comair Inc.      N585NN   \n",
       "4691960 2022-08-07           Comair Inc.      N705PS   \n",
       "4691961 2022-08-09           Comair Inc.      N612NN   \n",
       "4691963 2022-08-16           Comair Inc.      N563NN   \n",
       "4691964 2022-08-17           Comair Inc.      N614NN   \n",
       "4691965 2022-08-18           Comair Inc.      N614NN   \n",
       "4691966 2022-08-19           Comair Inc.      N611NN   \n",
       "\n",
       "         Flight_Number_Operating_Airline  OriginAirportID Origin  \\\n",
       "0                                   1581            11697    FLL   \n",
       "1                                   1582            10397    ATL   \n",
       "2                                   1582            11697    FLL   \n",
       "3                                   1583            11697    FLL   \n",
       "4                                   1584            10397    ATL   \n",
       "5                                   1584            12448    JAN   \n",
       "6                                   1585            14524    RIC   \n",
       "7                                   1586            13487    MSP   \n",
       "8                                   1587            10397    ATL   \n",
       "9                                   1587            14492    RDU   \n",
       "...                                  ...              ...    ...   \n",
       "4691953                             5296            11278    DCA   \n",
       "4691956                             5297            13577    MYR   \n",
       "4691958                             5297            13577    MYR   \n",
       "4691959                             5297            13577    MYR   \n",
       "4691960                             5297            13577    MYR   \n",
       "4691961                             5297            13577    MYR   \n",
       "4691963                             5297            13577    MYR   \n",
       "4691964                             5297            13577    MYR   \n",
       "4691965                             5297            13577    MYR   \n",
       "4691966                             5297            13577    MYR   \n",
       "\n",
       "                OriginCityName OriginState OriginStateName  DestAirportID  \\\n",
       "0          Fort Lauderdale, FL          FL         Florida          12953   \n",
       "1                  Atlanta, GA          GA         Georgia          11697   \n",
       "2          Fort Lauderdale, FL          FL         Florida          10397   \n",
       "3          Fort Lauderdale, FL          FL         Florida          14492   \n",
       "4                  Atlanta, GA          GA         Georgia          12448   \n",
       "5        Jackson/Vicksburg, MS          MS     Mississippi          10397   \n",
       "6                 Richmond, VA          VA        Virginia          10397   \n",
       "7              Minneapolis, MN          MN       Minnesota          14635   \n",
       "8                  Atlanta, GA          GA         Georgia          14492   \n",
       "9           Raleigh/Durham, NC          NC  North Carolina          10397   \n",
       "...                        ...         ...             ...            ...   \n",
       "4691953         Washington, DC          VA        Virginia          11986   \n",
       "4691956       Myrtle Beach, SC          SC  South Carolina          14100   \n",
       "4691958       Myrtle Beach, SC          SC  South Carolina          14100   \n",
       "4691959       Myrtle Beach, SC          SC  South Carolina          14100   \n",
       "4691960       Myrtle Beach, SC          SC  South Carolina          14100   \n",
       "4691961       Myrtle Beach, SC          SC  South Carolina          14100   \n",
       "4691963       Myrtle Beach, SC          SC  South Carolina          14100   \n",
       "4691964       Myrtle Beach, SC          SC  South Carolina          14100   \n",
       "4691965       Myrtle Beach, SC          SC  South Carolina          14100   \n",
       "4691966       Myrtle Beach, SC          SC  South Carolina          14100   \n",
       "\n",
       "        Dest           DestCityName DestState   DestStateName  CRSDepTime  \\\n",
       "0        LGA           New York, NY        NY        New York        1126   \n",
       "1        FLL    Fort Lauderdale, FL        FL         Florida        1631   \n",
       "2        ATL            Atlanta, GA        GA         Georgia        1931   \n",
       "3        RDU     Raleigh/Durham, NC        NC  North Carolina        1024   \n",
       "4        JAN  Jackson/Vicksburg, MS        MS     Mississippi        1117   \n",
       "5        ATL            Atlanta, GA        GA         Georgia        1237   \n",
       "6        ATL            Atlanta, GA        GA         Georgia         900   \n",
       "7        RSW         Fort Myers, FL        FL         Florida        1000   \n",
       "8        RDU     Raleigh/Durham, NC        NC  North Carolina        1414   \n",
       "9        ATL            Atlanta, GA        GA         Georgia        1643   \n",
       "...      ...                    ...       ...             ...         ...   \n",
       "4691953  GRR       Grand Rapids, MI        MI        Michigan        1712   \n",
       "4691956  PHL       Philadelphia, PA        PA    Pennsylvania        1800   \n",
       "4691958  PHL       Philadelphia, PA        PA    Pennsylvania        1800   \n",
       "4691959  PHL       Philadelphia, PA        PA    Pennsylvania        1800   \n",
       "4691960  PHL       Philadelphia, PA        PA    Pennsylvania        1800   \n",
       "4691961  PHL       Philadelphia, PA        PA    Pennsylvania        1800   \n",
       "4691963  PHL       Philadelphia, PA        PA    Pennsylvania        1801   \n",
       "4691964  PHL       Philadelphia, PA        PA    Pennsylvania        1801   \n",
       "4691965  PHL       Philadelphia, PA        PA    Pennsylvania        1801   \n",
       "4691966  PHL       Philadelphia, PA        PA    Pennsylvania        1801   \n",
       "\n",
       "         DepTime  DepDelay  DepDel15  DepDelayMinutes DepTimeBlk  TaxiOut  \\\n",
       "0            0.0       0.0       0.0              0.0  1100-1159      0.0   \n",
       "1         1627.0      -4.0       0.0              0.0  1600-1659     15.0   \n",
       "2         1929.0      -2.0       0.0              0.0  1900-1959     13.0   \n",
       "3         1019.0      -5.0       0.0              0.0  1000-1059     17.0   \n",
       "4         1113.0      -4.0       0.0              0.0  1100-1159     14.0   \n",
       "5         1230.0      -7.0       0.0              0.0  1200-1259     11.0   \n",
       "6          857.0      -3.0       0.0              0.0  0900-0959     13.0   \n",
       "7         1018.0      18.0       1.0             18.0  1000-1059     15.0   \n",
       "8         1422.0       8.0       0.0              8.0  1400-1459     11.0   \n",
       "9         1640.0      -3.0       0.0              0.0  1600-1659     12.0   \n",
       "...          ...       ...       ...              ...        ...      ...   \n",
       "4691953   1708.0      -4.0       0.0              0.0  1700-1759     16.0   \n",
       "4691956   1821.0      21.0       1.0             21.0  1800-1859     19.0   \n",
       "4691958   1749.0     -11.0       0.0              0.0  1800-1859     11.0   \n",
       "4691959   1812.0      12.0       0.0             12.0  1800-1859     13.0   \n",
       "4691960   1747.0     -13.0       0.0              0.0  1800-1859     11.0   \n",
       "4691961   1752.0      -8.0       0.0              0.0  1800-1859     15.0   \n",
       "4691963   1745.0     -16.0       0.0              0.0  1800-1859     13.0   \n",
       "4691964   1831.0      30.0       1.0             30.0  1800-1859     16.0   \n",
       "4691965   1745.0     -16.0       0.0              0.0  1800-1859     13.0   \n",
       "4691966   1749.0     -12.0       0.0              0.0  1800-1859     13.0   \n",
       "\n",
       "         WheelsOn  TaxiIn  CRSArrTime  ArrTime  ArrDelayMinutes  ArrDel15  \\\n",
       "0             0.0     0.0        1419      0.0              0.0       0.0   \n",
       "1          1815.0     5.0        1821   1820.0              0.0       0.0   \n",
       "2          2104.0    10.0        2127   2116.0              0.0       0.0   \n",
       "3          1209.0     3.0        1227   1212.0              0.0       0.0   \n",
       "4          1127.0     4.0        1142   1131.0              0.0       0.0   \n",
       "5          1430.0     5.0        1458   1435.0              0.0       0.0   \n",
       "6          1030.0     8.0        1050   1038.0              0.0       0.0   \n",
       "7          1431.0     4.0        1433   1435.0              2.0       0.0   \n",
       "8          1528.0     3.0        1533   1531.0              0.0       0.0   \n",
       "9          1759.0     4.0        1814   1803.0              0.0       0.0   \n",
       "...           ...     ...         ...      ...              ...       ...   \n",
       "4691953    1910.0     5.0        1906   1915.0              9.0       0.0   \n",
       "4691956    2000.0     5.0        1941   2005.0             24.0       1.0   \n",
       "4691958    1911.0     6.0        1941   1917.0              0.0       0.0   \n",
       "4691959    1942.0     5.0        1941   1947.0              6.0       0.0   \n",
       "4691960    1908.0    23.0        1941   1931.0              0.0       0.0   \n",
       "4691961    1927.0     8.0        1941   1935.0              0.0       0.0   \n",
       "4691963    1918.0     7.0        1940   1925.0              0.0       0.0   \n",
       "4691964    2002.0     6.0        1940   2008.0             28.0       1.0   \n",
       "4691965    1906.0     6.0        1940   1912.0              0.0       0.0   \n",
       "4691966    1919.0     8.0        1940   1927.0              0.0       0.0   \n",
       "\n",
       "        ArrTimeBlk  Cancelled CancellationCode  Diverted  CRSElapsedTime  \\\n",
       "0        1400-1459       True  Airline/Carrier     False           173.0   \n",
       "1        1800-1859      False             none     False           110.0   \n",
       "2        2100-2159      False             none     False           116.0   \n",
       "3        1200-1259      False             none     False           123.0   \n",
       "4        1100-1159      False             none     False            85.0   \n",
       "5        1400-1459      False             none     False            81.0   \n",
       "6        1000-1059      False             none     False           110.0   \n",
       "7        1400-1459      False             none     False           213.0   \n",
       "8        1500-1559      False             none     False            79.0   \n",
       "9        1800-1859      False             none     False            91.0   \n",
       "...            ...        ...              ...       ...             ...   \n",
       "4691953  1900-1959      False             none     False           114.0   \n",
       "4691956  1900-1959      False             none     False           101.0   \n",
       "4691958  1900-1959      False             none     False           101.0   \n",
       "4691959  1900-1959      False             none     False           101.0   \n",
       "4691960  1900-1959      False             none     False           101.0   \n",
       "4691961  1900-1959      False             none     False           101.0   \n",
       "4691963  1900-1959      False             none     False            99.0   \n",
       "4691964  1900-1959      False             none     False            99.0   \n",
       "4691965  1900-1959      False             none     False            99.0   \n",
       "4691966  1900-1959      False             none     False            99.0   \n",
       "\n",
       "         AirTime  Flights  Distance  DistanceGroup  CarrierDelay  \\\n",
       "0            0.0        1    1076.0              5           0.0   \n",
       "1           93.0        1     581.0              3           0.0   \n",
       "2           83.0        1     581.0              3           0.0   \n",
       "3           93.0        1     680.0              3           0.0   \n",
       "4           60.0        1     341.0              2           0.0   \n",
       "5           49.0        1     341.0              2           0.0   \n",
       "6           80.0        1     481.0              2           0.0   \n",
       "7          178.0        1    1416.0              6           0.0   \n",
       "8           55.0        1     356.0              2           0.0   \n",
       "9           67.0        1     356.0              2           0.0   \n",
       "...          ...      ...       ...            ...           ...   \n",
       "4691953    106.0        1     524.0              3           0.0   \n",
       "4691956     80.0        1     473.0              2           0.0   \n",
       "4691958     71.0        1     473.0              2           0.0   \n",
       "4691959     77.0        1     473.0              2           0.0   \n",
       "4691960     70.0        1     473.0              2           0.0   \n",
       "4691961     80.0        1     473.0              2           0.0   \n",
       "4691963     80.0        1     473.0              2           0.0   \n",
       "4691964     75.0        1     473.0              2           0.0   \n",
       "4691965     68.0        1     473.0              2           0.0   \n",
       "4691966     77.0        1     473.0              2           0.0   \n",
       "\n",
       "         WeatherDelay  NASDelay  SecurityDelay  LateAircraftDelay  \\\n",
       "0                 0.0       0.0            0.0                0.0   \n",
       "1                 0.0       0.0            0.0                0.0   \n",
       "2                 0.0       0.0            0.0                0.0   \n",
       "3                 0.0       0.0            0.0                0.0   \n",
       "4                 0.0       0.0            0.0                0.0   \n",
       "5                 0.0       0.0            0.0                0.0   \n",
       "6                 0.0       0.0            0.0                0.0   \n",
       "7                 0.0       0.0            0.0                0.0   \n",
       "8                 0.0       0.0            0.0                0.0   \n",
       "9                 0.0       0.0            0.0                0.0   \n",
       "...               ...       ...            ...                ...   \n",
       "4691953           0.0       0.0            0.0                0.0   \n",
       "4691956           0.0       3.0            0.0               21.0   \n",
       "4691958           0.0       0.0            0.0                0.0   \n",
       "4691959           0.0       0.0            0.0                0.0   \n",
       "4691960           0.0       0.0            0.0                0.0   \n",
       "4691961           0.0       0.0            0.0                0.0   \n",
       "4691963           0.0       0.0            0.0                0.0   \n",
       "4691964           0.0       0.0            0.0               28.0   \n",
       "4691965           0.0       0.0            0.0                0.0   \n",
       "4691966           0.0       0.0            0.0                0.0   \n",
       "\n",
       "         FirstDepTime  TotalAddGTime  \n",
       "0                 0.0            0.0  \n",
       "1                 0.0            0.0  \n",
       "2                 0.0            0.0  \n",
       "3                 0.0            0.0  \n",
       "4                 0.0            0.0  \n",
       "5                 0.0            0.0  \n",
       "6                 0.0            0.0  \n",
       "7                 0.0            0.0  \n",
       "8                 0.0            0.0  \n",
       "9                 0.0            0.0  \n",
       "...               ...            ...  \n",
       "4691953           0.0            0.0  \n",
       "4691956           0.0            0.0  \n",
       "4691958           0.0            0.0  \n",
       "4691959           0.0            0.0  \n",
       "4691960           0.0            0.0  \n",
       "4691961           0.0            0.0  \n",
       "4691963           0.0            0.0  \n",
       "4691964           0.0            0.0  \n",
       "4691965           0.0            0.0  \n",
       "4691966           0.0            0.0  \n",
       "\n",
       "[4228753 rows x 43 columns]"
      ]
     },
     "execution_count": 13,
     "metadata": {},
     "output_type": "execute_result"
    }
   ],
   "source": [
    "(df_flights.\n",
    "    query(\"DepDelayMinutes < 45\"))"
   ]
  },
  {
   "cell_type": "code",
   "execution_count": 14,
   "metadata": {},
   "outputs": [
    {
     "data": {
      "application/vnd.plotly.v1+json": {
       "config": {
        "plotlyServerURL": "https://plot.ly"
       },
       "data": [
        {
         "hovertemplate": "variable=DepDelayMinutes<br>FlightDate=%{x}<br>value=%{y}<extra></extra>",
         "legendgroup": "DepDelayMinutes",
         "line": {
          "color": "#636efa",
          "dash": "solid"
         },
         "marker": {
          "symbol": "circle"
         },
         "mode": "lines",
         "name": "DepDelayMinutes",
         "orientation": "v",
         "showlegend": true,
         "type": "scatter",
         "x": [
          "2022-01-01T00:00:00",
          "2022-01-02T00:00:00",
          "2022-01-03T00:00:00",
          "2022-01-04T00:00:00",
          "2022-01-05T00:00:00",
          "2022-01-06T00:00:00",
          "2022-01-07T00:00:00",
          "2022-01-08T00:00:00",
          "2022-01-09T00:00:00",
          "2022-01-10T00:00:00",
          "2022-01-11T00:00:00",
          "2022-01-12T00:00:00",
          "2022-01-13T00:00:00",
          "2022-01-14T00:00:00",
          "2022-01-15T00:00:00",
          "2022-01-16T00:00:00",
          "2022-01-17T00:00:00",
          "2022-01-18T00:00:00",
          "2022-01-19T00:00:00",
          "2022-01-20T00:00:00",
          "2022-01-21T00:00:00",
          "2022-01-22T00:00:00",
          "2022-01-23T00:00:00",
          "2022-01-24T00:00:00",
          "2022-01-25T00:00:00",
          "2022-01-26T00:00:00",
          "2022-01-27T00:00:00",
          "2022-01-28T00:00:00",
          "2022-01-29T00:00:00",
          "2022-01-30T00:00:00",
          "2022-01-31T00:00:00",
          "2022-02-01T00:00:00",
          "2022-02-02T00:00:00",
          "2022-02-03T00:00:00",
          "2022-02-04T00:00:00",
          "2022-02-05T00:00:00",
          "2022-02-06T00:00:00",
          "2022-02-07T00:00:00",
          "2022-02-08T00:00:00",
          "2022-02-09T00:00:00",
          "2022-02-10T00:00:00",
          "2022-02-11T00:00:00",
          "2022-02-12T00:00:00",
          "2022-02-13T00:00:00",
          "2022-02-14T00:00:00",
          "2022-02-15T00:00:00",
          "2022-02-16T00:00:00",
          "2022-02-17T00:00:00",
          "2022-02-18T00:00:00",
          "2022-02-19T00:00:00",
          "2022-02-20T00:00:00",
          "2022-02-21T00:00:00",
          "2022-02-22T00:00:00",
          "2022-02-23T00:00:00",
          "2022-02-24T00:00:00",
          "2022-02-25T00:00:00",
          "2022-02-26T00:00:00",
          "2022-02-27T00:00:00",
          "2022-02-28T00:00:00",
          "2022-03-01T00:00:00",
          "2022-03-02T00:00:00",
          "2022-03-03T00:00:00",
          "2022-03-04T00:00:00",
          "2022-03-05T00:00:00",
          "2022-03-06T00:00:00",
          "2022-03-07T00:00:00",
          "2022-03-08T00:00:00",
          "2022-03-09T00:00:00",
          "2022-03-10T00:00:00",
          "2022-03-11T00:00:00",
          "2022-03-12T00:00:00",
          "2022-03-13T00:00:00",
          "2022-03-14T00:00:00",
          "2022-03-15T00:00:00",
          "2022-03-16T00:00:00",
          "2022-03-17T00:00:00",
          "2022-03-18T00:00:00",
          "2022-03-19T00:00:00",
          "2022-03-20T00:00:00",
          "2022-03-21T00:00:00",
          "2022-03-22T00:00:00",
          "2022-03-23T00:00:00",
          "2022-03-24T00:00:00",
          "2022-03-25T00:00:00",
          "2022-03-26T00:00:00",
          "2022-03-27T00:00:00",
          "2022-03-28T00:00:00",
          "2022-03-29T00:00:00",
          "2022-03-30T00:00:00",
          "2022-03-31T00:00:00",
          "2022-04-01T00:00:00",
          "2022-04-02T00:00:00",
          "2022-04-03T00:00:00",
          "2022-04-04T00:00:00",
          "2022-04-05T00:00:00",
          "2022-04-06T00:00:00",
          "2022-04-07T00:00:00",
          "2022-04-08T00:00:00",
          "2022-04-09T00:00:00",
          "2022-04-10T00:00:00",
          "2022-04-11T00:00:00",
          "2022-04-12T00:00:00",
          "2022-04-13T00:00:00",
          "2022-04-14T00:00:00",
          "2022-04-15T00:00:00",
          "2022-04-16T00:00:00",
          "2022-04-17T00:00:00",
          "2022-04-18T00:00:00",
          "2022-04-19T00:00:00",
          "2022-04-20T00:00:00",
          "2022-04-21T00:00:00",
          "2022-04-22T00:00:00",
          "2022-04-23T00:00:00",
          "2022-04-24T00:00:00",
          "2022-04-25T00:00:00",
          "2022-04-26T00:00:00",
          "2022-04-27T00:00:00",
          "2022-04-28T00:00:00",
          "2022-04-29T00:00:00",
          "2022-04-30T00:00:00",
          "2022-05-01T00:00:00",
          "2022-05-02T00:00:00",
          "2022-05-03T00:00:00",
          "2022-05-04T00:00:00",
          "2022-05-05T00:00:00",
          "2022-05-06T00:00:00",
          "2022-05-07T00:00:00",
          "2022-05-08T00:00:00",
          "2022-05-09T00:00:00",
          "2022-05-10T00:00:00",
          "2022-05-11T00:00:00",
          "2022-05-12T00:00:00",
          "2022-05-13T00:00:00",
          "2022-05-14T00:00:00",
          "2022-05-15T00:00:00",
          "2022-05-16T00:00:00",
          "2022-05-17T00:00:00",
          "2022-05-18T00:00:00",
          "2022-05-19T00:00:00",
          "2022-05-20T00:00:00",
          "2022-05-21T00:00:00",
          "2022-05-22T00:00:00",
          "2022-05-23T00:00:00",
          "2022-05-24T00:00:00",
          "2022-05-25T00:00:00",
          "2022-05-26T00:00:00",
          "2022-05-27T00:00:00",
          "2022-05-28T00:00:00",
          "2022-05-29T00:00:00",
          "2022-05-30T00:00:00",
          "2022-05-31T00:00:00",
          "2022-06-01T00:00:00",
          "2022-06-02T00:00:00",
          "2022-06-03T00:00:00",
          "2022-06-04T00:00:00",
          "2022-06-05T00:00:00",
          "2022-06-06T00:00:00",
          "2022-06-07T00:00:00",
          "2022-06-08T00:00:00",
          "2022-06-09T00:00:00",
          "2022-06-10T00:00:00",
          "2022-06-11T00:00:00",
          "2022-06-12T00:00:00",
          "2022-06-13T00:00:00",
          "2022-06-14T00:00:00",
          "2022-06-15T00:00:00",
          "2022-06-16T00:00:00",
          "2022-06-17T00:00:00",
          "2022-06-18T00:00:00",
          "2022-06-19T00:00:00",
          "2022-06-20T00:00:00",
          "2022-06-21T00:00:00",
          "2022-06-22T00:00:00",
          "2022-06-23T00:00:00",
          "2022-06-24T00:00:00",
          "2022-06-25T00:00:00",
          "2022-06-26T00:00:00",
          "2022-06-27T00:00:00",
          "2022-06-28T00:00:00",
          "2022-06-29T00:00:00",
          "2022-06-30T00:00:00",
          "2022-07-01T00:00:00",
          "2022-07-02T00:00:00",
          "2022-07-03T00:00:00",
          "2022-07-04T00:00:00",
          "2022-07-05T00:00:00",
          "2022-07-06T00:00:00",
          "2022-07-07T00:00:00",
          "2022-07-08T00:00:00",
          "2022-07-09T00:00:00",
          "2022-07-10T00:00:00",
          "2022-07-11T00:00:00",
          "2022-07-12T00:00:00",
          "2022-07-13T00:00:00",
          "2022-07-14T00:00:00",
          "2022-07-15T00:00:00",
          "2022-07-16T00:00:00",
          "2022-07-17T00:00:00",
          "2022-07-18T00:00:00",
          "2022-07-19T00:00:00",
          "2022-07-20T00:00:00",
          "2022-07-21T00:00:00",
          "2022-07-22T00:00:00",
          "2022-07-23T00:00:00",
          "2022-07-24T00:00:00",
          "2022-07-25T00:00:00",
          "2022-07-26T00:00:00",
          "2022-07-27T00:00:00",
          "2022-07-28T00:00:00",
          "2022-07-29T00:00:00",
          "2022-07-30T00:00:00",
          "2022-07-31T00:00:00",
          "2022-08-01T00:00:00",
          "2022-08-02T00:00:00",
          "2022-08-03T00:00:00",
          "2022-08-04T00:00:00",
          "2022-08-05T00:00:00",
          "2022-08-06T00:00:00",
          "2022-08-07T00:00:00",
          "2022-08-08T00:00:00",
          "2022-08-09T00:00:00",
          "2022-08-10T00:00:00",
          "2022-08-11T00:00:00",
          "2022-08-12T00:00:00",
          "2022-08-13T00:00:00",
          "2022-08-14T00:00:00",
          "2022-08-15T00:00:00",
          "2022-08-16T00:00:00",
          "2022-08-17T00:00:00",
          "2022-08-18T00:00:00",
          "2022-08-19T00:00:00",
          "2022-08-20T00:00:00",
          "2022-08-21T00:00:00",
          "2022-08-22T00:00:00",
          "2022-08-23T00:00:00",
          "2022-08-24T00:00:00",
          "2022-08-25T00:00:00",
          "2022-08-26T00:00:00",
          "2022-08-27T00:00:00",
          "2022-08-28T00:00:00",
          "2022-08-29T00:00:00",
          "2022-08-30T00:00:00",
          "2022-08-31T00:00:00"
         ],
         "xaxis": "x",
         "y": [
          25.897565841674805,
          33.76983642578125,
          29.141277313232422,
          24.51805305480957,
          19.28447914123535,
          17.436893463134766,
          19.638912200927734,
          16.203292846679688,
          15.482609748840332,
          9.72344970703125,
          6.516510009765625,
          5.47851037979126,
          6.6447625160217285,
          9.079635620117188,
          11.055415153503418,
          14.26701831817627,
          13.95512580871582,
          6.53339958190918,
          8.552984237670898,
          11.017536163330078,
          9.945489883422852,
          10.756608009338379,
          13.080378532409668,
          12.009010314941406,
          6.775904655456543,
          6.470177173614502,
          9.69841480255127,
          17.262929916381836,
          8.260035514831543,
          11.516844749450684,
          10.308344841003418,
          6.370266437530518,
          14.035530090332031,
          12.413132667541504,
          18.480377197265625,
          16.28558921813965,
          13.695697784423828,
          13.919293403625488,
          5.411828994750977,
          5.194522380828857,
          7.572727680206299,
          9.245427131652832,
          8.555680274963379,
          18.97836685180664,
          13.225690841674805,
          7.28555154800415,
          7.1883463859558105,
          18.770137786865234,
          25.184328079223633,
          18.38443946838379,
          12.271842956542969,
          12.525251388549805,
          22.080121994018555,
          16.187227249145508,
          17.76143455505371,
          22.385637283325195,
          15.799201965332031,
          13.648492813110352,
          10.655567169189453,
          8.284579277038574,
          6.7837443351745605,
          8.41157341003418,
          9.6184663772583,
          13.126769065856934,
          19.265457153320312,
          17.870800018310547,
          8.993886947631836,
          15.181601524353027,
          19.798185348510742,
          22.464189529418945,
          36.996036529541016,
          24.82476234436035,
          15.24302864074707,
          9.717905044555664,
          9.058012008666992,
          17.089569091796875,
          26.433290481567383,
          20.442113876342773,
          15.092241287231445,
          13.971282958984375,
          13.63029670715332,
          10.487852096557617,
          16.749156951904297,
          10.536460876464844,
          11.216458320617676,
          12.111234664916992,
          15.033868789672852,
          8.242745399475098,
          11.112600326538086,
          18.449806213378906,
          23.139101028442383,
          27.868682861328125,
          19.75995635986328,
          14.677108764648438,
          19.12674903869629,
          15.876245498657227,
          25.37740707397461,
          19.197978973388672,
          14.511109352111816,
          14.054869651794434,
          14.519819259643555,
          13.51803207397461,
          19.452802658081055,
          19.375295639038086,
          18.499061584472656,
          13.367341041564941,
          13.829269409179688,
          17.6801815032959,
          13.135929107666016,
          8.485284805297852,
          11.249218940734863,
          14.474714279174805,
          10.460919380187988,
          14.077957153320312,
          17.791383743286133,
          9.746469497680664,
          9.800010681152344,
          9.968785285949707,
          11.458786010742188,
          15.422432899475098,
          15.308566093444824,
          13.921972274780273,
          10.141416549682617,
          11.56900405883789,
          17.503448486328125,
          16.72652244567871,
          13.92016315460205,
          14.818560600280762,
          11.994468688964844,
          8.339590072631836,
          9.50609302520752,
          12.663793563842773,
          18.683565139770508,
          13.854395866394043,
          17.392963409423828,
          18.77686882019043,
          12.856651306152344,
          9.782381057739258,
          13.374374389648438,
          22.196420669555664,
          24.294586181640625,
          20.0201416015625,
          18.086095809936523,
          13.850664138793945,
          14.31096363067627,
          14.508230209350586,
          19.96173667907715,
          17.860097885131836,
          16.50603485107422,
          10.988760948181152,
          9.46446704864502,
          16.215030670166016,
          21.342369079589844,
          18.860891342163086,
          13.029776573181152,
          13.227299690246582,
          17.241230010986328,
          12.775838851928711,
          17.324737548828125,
          19.156774520874023,
          18.76433753967285,
          18.394556045532227,
          27.451862335205078,
          18.440185546875,
          18.939334869384766,
          14.261678695678711,
          34.116600036621094,
          26.071062088012695,
          19.579431533813477,
          16.552541732788086,
          13.48975658416748,
          10.609737396240234,
          18.4788761138916,
          19.056163787841797,
          16.978124618530273,
          17.003416061401367,
          18.738656997680664,
          20.0649356842041,
          12.246256828308105,
          12.606138229370117,
          10.70119571685791,
          19.685874938964844,
          15.834558486938477,
          10.83924388885498,
          9.00600814819336,
          13.451571464538574,
          13.87326431274414,
          10.900506019592285,
          14.041910171508789,
          18.291685104370117,
          16.965721130371094,
          13.468377113342285,
          13.10194206237793,
          14.310163497924805,
          16.857006072998047,
          18.21282958984375,
          19.822175979614258,
          19.036746978759766,
          23.341440200805664,
          16.357542037963867,
          14.371115684509277,
          22.065439224243164,
          17.997934341430664,
          30.424617767333984,
          25.505929946899414,
          28.021448135375977,
          20.031494140625,
          15.62250804901123,
          16.314716339111328,
          16.297412872314453,
          15.421106338500977,
          17.5932559967041,
          13.67985725402832,
          9.693243026733398,
          15.576471328735352,
          25.357824325561523,
          26.746469497680664,
          22.899490356445312,
          25.638286590576172,
          19.694610595703125,
          17.45682716369629,
          23.012475967407227,
          19.20166778564453,
          16.563840866088867,
          13.1743745803833,
          16.07171058654785,
          14.17322826385498,
          10.244282722473145,
          11.234792709350586,
          16.120450973510742,
          16.735069274902344,
          13.614051818847656,
          22.178333282470703,
          27.571584701538086,
          12.796152114868164,
          9.721406936645508,
          9.47803783416748,
          12.415291786193848,
          9.720102310180664,
          14.080743789672852,
          17.589256286621094,
          13.79355239868164,
          11.304683685302734
         ],
         "yaxis": "y"
        }
       ],
       "layout": {
        "legend": {
         "title": {
          "text": "variable"
         },
         "tracegroupgap": 0
        },
        "margin": {
         "t": 60
        },
        "template": {
         "data": {
          "bar": [
           {
            "error_x": {
             "color": "#2a3f5f"
            },
            "error_y": {
             "color": "#2a3f5f"
            },
            "marker": {
             "line": {
              "color": "#E5ECF6",
              "width": 0.5
             },
             "pattern": {
              "fillmode": "overlay",
              "size": 10,
              "solidity": 0.2
             }
            },
            "type": "bar"
           }
          ],
          "barpolar": [
           {
            "marker": {
             "line": {
              "color": "#E5ECF6",
              "width": 0.5
             },
             "pattern": {
              "fillmode": "overlay",
              "size": 10,
              "solidity": 0.2
             }
            },
            "type": "barpolar"
           }
          ],
          "carpet": [
           {
            "aaxis": {
             "endlinecolor": "#2a3f5f",
             "gridcolor": "white",
             "linecolor": "white",
             "minorgridcolor": "white",
             "startlinecolor": "#2a3f5f"
            },
            "baxis": {
             "endlinecolor": "#2a3f5f",
             "gridcolor": "white",
             "linecolor": "white",
             "minorgridcolor": "white",
             "startlinecolor": "#2a3f5f"
            },
            "type": "carpet"
           }
          ],
          "choropleth": [
           {
            "colorbar": {
             "outlinewidth": 0,
             "ticks": ""
            },
            "type": "choropleth"
           }
          ],
          "contour": [
           {
            "colorbar": {
             "outlinewidth": 0,
             "ticks": ""
            },
            "colorscale": [
             [
              0,
              "#0d0887"
             ],
             [
              0.1111111111111111,
              "#46039f"
             ],
             [
              0.2222222222222222,
              "#7201a8"
             ],
             [
              0.3333333333333333,
              "#9c179e"
             ],
             [
              0.4444444444444444,
              "#bd3786"
             ],
             [
              0.5555555555555556,
              "#d8576b"
             ],
             [
              0.6666666666666666,
              "#ed7953"
             ],
             [
              0.7777777777777778,
              "#fb9f3a"
             ],
             [
              0.8888888888888888,
              "#fdca26"
             ],
             [
              1,
              "#f0f921"
             ]
            ],
            "type": "contour"
           }
          ],
          "contourcarpet": [
           {
            "colorbar": {
             "outlinewidth": 0,
             "ticks": ""
            },
            "type": "contourcarpet"
           }
          ],
          "heatmap": [
           {
            "colorbar": {
             "outlinewidth": 0,
             "ticks": ""
            },
            "colorscale": [
             [
              0,
              "#0d0887"
             ],
             [
              0.1111111111111111,
              "#46039f"
             ],
             [
              0.2222222222222222,
              "#7201a8"
             ],
             [
              0.3333333333333333,
              "#9c179e"
             ],
             [
              0.4444444444444444,
              "#bd3786"
             ],
             [
              0.5555555555555556,
              "#d8576b"
             ],
             [
              0.6666666666666666,
              "#ed7953"
             ],
             [
              0.7777777777777778,
              "#fb9f3a"
             ],
             [
              0.8888888888888888,
              "#fdca26"
             ],
             [
              1,
              "#f0f921"
             ]
            ],
            "type": "heatmap"
           }
          ],
          "heatmapgl": [
           {
            "colorbar": {
             "outlinewidth": 0,
             "ticks": ""
            },
            "colorscale": [
             [
              0,
              "#0d0887"
             ],
             [
              0.1111111111111111,
              "#46039f"
             ],
             [
              0.2222222222222222,
              "#7201a8"
             ],
             [
              0.3333333333333333,
              "#9c179e"
             ],
             [
              0.4444444444444444,
              "#bd3786"
             ],
             [
              0.5555555555555556,
              "#d8576b"
             ],
             [
              0.6666666666666666,
              "#ed7953"
             ],
             [
              0.7777777777777778,
              "#fb9f3a"
             ],
             [
              0.8888888888888888,
              "#fdca26"
             ],
             [
              1,
              "#f0f921"
             ]
            ],
            "type": "heatmapgl"
           }
          ],
          "histogram": [
           {
            "marker": {
             "pattern": {
              "fillmode": "overlay",
              "size": 10,
              "solidity": 0.2
             }
            },
            "type": "histogram"
           }
          ],
          "histogram2d": [
           {
            "colorbar": {
             "outlinewidth": 0,
             "ticks": ""
            },
            "colorscale": [
             [
              0,
              "#0d0887"
             ],
             [
              0.1111111111111111,
              "#46039f"
             ],
             [
              0.2222222222222222,
              "#7201a8"
             ],
             [
              0.3333333333333333,
              "#9c179e"
             ],
             [
              0.4444444444444444,
              "#bd3786"
             ],
             [
              0.5555555555555556,
              "#d8576b"
             ],
             [
              0.6666666666666666,
              "#ed7953"
             ],
             [
              0.7777777777777778,
              "#fb9f3a"
             ],
             [
              0.8888888888888888,
              "#fdca26"
             ],
             [
              1,
              "#f0f921"
             ]
            ],
            "type": "histogram2d"
           }
          ],
          "histogram2dcontour": [
           {
            "colorbar": {
             "outlinewidth": 0,
             "ticks": ""
            },
            "colorscale": [
             [
              0,
              "#0d0887"
             ],
             [
              0.1111111111111111,
              "#46039f"
             ],
             [
              0.2222222222222222,
              "#7201a8"
             ],
             [
              0.3333333333333333,
              "#9c179e"
             ],
             [
              0.4444444444444444,
              "#bd3786"
             ],
             [
              0.5555555555555556,
              "#d8576b"
             ],
             [
              0.6666666666666666,
              "#ed7953"
             ],
             [
              0.7777777777777778,
              "#fb9f3a"
             ],
             [
              0.8888888888888888,
              "#fdca26"
             ],
             [
              1,
              "#f0f921"
             ]
            ],
            "type": "histogram2dcontour"
           }
          ],
          "mesh3d": [
           {
            "colorbar": {
             "outlinewidth": 0,
             "ticks": ""
            },
            "type": "mesh3d"
           }
          ],
          "parcoords": [
           {
            "line": {
             "colorbar": {
              "outlinewidth": 0,
              "ticks": ""
             }
            },
            "type": "parcoords"
           }
          ],
          "pie": [
           {
            "automargin": true,
            "type": "pie"
           }
          ],
          "scatter": [
           {
            "fillpattern": {
             "fillmode": "overlay",
             "size": 10,
             "solidity": 0.2
            },
            "type": "scatter"
           }
          ],
          "scatter3d": [
           {
            "line": {
             "colorbar": {
              "outlinewidth": 0,
              "ticks": ""
             }
            },
            "marker": {
             "colorbar": {
              "outlinewidth": 0,
              "ticks": ""
             }
            },
            "type": "scatter3d"
           }
          ],
          "scattercarpet": [
           {
            "marker": {
             "colorbar": {
              "outlinewidth": 0,
              "ticks": ""
             }
            },
            "type": "scattercarpet"
           }
          ],
          "scattergeo": [
           {
            "marker": {
             "colorbar": {
              "outlinewidth": 0,
              "ticks": ""
             }
            },
            "type": "scattergeo"
           }
          ],
          "scattergl": [
           {
            "marker": {
             "colorbar": {
              "outlinewidth": 0,
              "ticks": ""
             }
            },
            "type": "scattergl"
           }
          ],
          "scattermapbox": [
           {
            "marker": {
             "colorbar": {
              "outlinewidth": 0,
              "ticks": ""
             }
            },
            "type": "scattermapbox"
           }
          ],
          "scatterpolar": [
           {
            "marker": {
             "colorbar": {
              "outlinewidth": 0,
              "ticks": ""
             }
            },
            "type": "scatterpolar"
           }
          ],
          "scatterpolargl": [
           {
            "marker": {
             "colorbar": {
              "outlinewidth": 0,
              "ticks": ""
             }
            },
            "type": "scatterpolargl"
           }
          ],
          "scatterternary": [
           {
            "marker": {
             "colorbar": {
              "outlinewidth": 0,
              "ticks": ""
             }
            },
            "type": "scatterternary"
           }
          ],
          "surface": [
           {
            "colorbar": {
             "outlinewidth": 0,
             "ticks": ""
            },
            "colorscale": [
             [
              0,
              "#0d0887"
             ],
             [
              0.1111111111111111,
              "#46039f"
             ],
             [
              0.2222222222222222,
              "#7201a8"
             ],
             [
              0.3333333333333333,
              "#9c179e"
             ],
             [
              0.4444444444444444,
              "#bd3786"
             ],
             [
              0.5555555555555556,
              "#d8576b"
             ],
             [
              0.6666666666666666,
              "#ed7953"
             ],
             [
              0.7777777777777778,
              "#fb9f3a"
             ],
             [
              0.8888888888888888,
              "#fdca26"
             ],
             [
              1,
              "#f0f921"
             ]
            ],
            "type": "surface"
           }
          ],
          "table": [
           {
            "cells": {
             "fill": {
              "color": "#EBF0F8"
             },
             "line": {
              "color": "white"
             }
            },
            "header": {
             "fill": {
              "color": "#C8D4E3"
             },
             "line": {
              "color": "white"
             }
            },
            "type": "table"
           }
          ]
         },
         "layout": {
          "annotationdefaults": {
           "arrowcolor": "#2a3f5f",
           "arrowhead": 0,
           "arrowwidth": 1
          },
          "autotypenumbers": "strict",
          "coloraxis": {
           "colorbar": {
            "outlinewidth": 0,
            "ticks": ""
           }
          },
          "colorscale": {
           "diverging": [
            [
             0,
             "#8e0152"
            ],
            [
             0.1,
             "#c51b7d"
            ],
            [
             0.2,
             "#de77ae"
            ],
            [
             0.3,
             "#f1b6da"
            ],
            [
             0.4,
             "#fde0ef"
            ],
            [
             0.5,
             "#f7f7f7"
            ],
            [
             0.6,
             "#e6f5d0"
            ],
            [
             0.7,
             "#b8e186"
            ],
            [
             0.8,
             "#7fbc41"
            ],
            [
             0.9,
             "#4d9221"
            ],
            [
             1,
             "#276419"
            ]
           ],
           "sequential": [
            [
             0,
             "#0d0887"
            ],
            [
             0.1111111111111111,
             "#46039f"
            ],
            [
             0.2222222222222222,
             "#7201a8"
            ],
            [
             0.3333333333333333,
             "#9c179e"
            ],
            [
             0.4444444444444444,
             "#bd3786"
            ],
            [
             0.5555555555555556,
             "#d8576b"
            ],
            [
             0.6666666666666666,
             "#ed7953"
            ],
            [
             0.7777777777777778,
             "#fb9f3a"
            ],
            [
             0.8888888888888888,
             "#fdca26"
            ],
            [
             1,
             "#f0f921"
            ]
           ],
           "sequentialminus": [
            [
             0,
             "#0d0887"
            ],
            [
             0.1111111111111111,
             "#46039f"
            ],
            [
             0.2222222222222222,
             "#7201a8"
            ],
            [
             0.3333333333333333,
             "#9c179e"
            ],
            [
             0.4444444444444444,
             "#bd3786"
            ],
            [
             0.5555555555555556,
             "#d8576b"
            ],
            [
             0.6666666666666666,
             "#ed7953"
            ],
            [
             0.7777777777777778,
             "#fb9f3a"
            ],
            [
             0.8888888888888888,
             "#fdca26"
            ],
            [
             1,
             "#f0f921"
            ]
           ]
          },
          "colorway": [
           "#636efa",
           "#EF553B",
           "#00cc96",
           "#ab63fa",
           "#FFA15A",
           "#19d3f3",
           "#FF6692",
           "#B6E880",
           "#FF97FF",
           "#FECB52"
          ],
          "font": {
           "color": "#2a3f5f"
          },
          "geo": {
           "bgcolor": "white",
           "lakecolor": "white",
           "landcolor": "#E5ECF6",
           "showlakes": true,
           "showland": true,
           "subunitcolor": "white"
          },
          "hoverlabel": {
           "align": "left"
          },
          "hovermode": "closest",
          "mapbox": {
           "style": "light"
          },
          "paper_bgcolor": "white",
          "plot_bgcolor": "#E5ECF6",
          "polar": {
           "angularaxis": {
            "gridcolor": "white",
            "linecolor": "white",
            "ticks": ""
           },
           "bgcolor": "#E5ECF6",
           "radialaxis": {
            "gridcolor": "white",
            "linecolor": "white",
            "ticks": ""
           }
          },
          "scene": {
           "xaxis": {
            "backgroundcolor": "#E5ECF6",
            "gridcolor": "white",
            "gridwidth": 2,
            "linecolor": "white",
            "showbackground": true,
            "ticks": "",
            "zerolinecolor": "white"
           },
           "yaxis": {
            "backgroundcolor": "#E5ECF6",
            "gridcolor": "white",
            "gridwidth": 2,
            "linecolor": "white",
            "showbackground": true,
            "ticks": "",
            "zerolinecolor": "white"
           },
           "zaxis": {
            "backgroundcolor": "#E5ECF6",
            "gridcolor": "white",
            "gridwidth": 2,
            "linecolor": "white",
            "showbackground": true,
            "ticks": "",
            "zerolinecolor": "white"
           }
          },
          "shapedefaults": {
           "line": {
            "color": "#2a3f5f"
           }
          },
          "ternary": {
           "aaxis": {
            "gridcolor": "white",
            "linecolor": "white",
            "ticks": ""
           },
           "baxis": {
            "gridcolor": "white",
            "linecolor": "white",
            "ticks": ""
           },
           "bgcolor": "#E5ECF6",
           "caxis": {
            "gridcolor": "white",
            "linecolor": "white",
            "ticks": ""
           }
          },
          "title": {
           "x": 0.05
          },
          "xaxis": {
           "automargin": true,
           "gridcolor": "white",
           "linecolor": "white",
           "ticks": "",
           "title": {
            "standoff": 15
           },
           "zerolinecolor": "white",
           "zerolinewidth": 2
          },
          "yaxis": {
           "automargin": true,
           "gridcolor": "white",
           "linecolor": "white",
           "ticks": "",
           "title": {
            "standoff": 15
           },
           "zerolinecolor": "white",
           "zerolinewidth": 2
          }
         }
        },
        "xaxis": {
         "anchor": "y",
         "domain": [
          0,
          1
         ],
         "title": {
          "text": "FlightDate"
         }
        },
        "yaxis": {
         "anchor": "x",
         "domain": [
          0,
          1
         ],
         "title": {
          "text": "value"
         }
        }
       }
      }
     },
     "metadata": {},
     "output_type": "display_data"
    }
   ],
   "source": [
    "px.line(df_flights\n",
    " .groupby(\"FlightDate\")\n",
    " [[\"DepDelayMinutes\"]]\n",
    " .mean()\n",
    " )"
   ]
  },
  {
   "cell_type": "markdown",
   "metadata": {},
   "source": [
    "#### Correlation [Pearson]"
   ]
  },
  {
   "cell_type": "code",
   "execution_count": 15,
   "metadata": {},
   "outputs": [
    {
     "data": {
      "text/html": [
       "<style type=\"text/css\">\n",
       "#T_902ce_row0_col0, #T_902ce_row1_col1, #T_902ce_row1_col3, #T_902ce_row2_col2, #T_902ce_row3_col1, #T_902ce_row3_col3, #T_902ce_row4_col4, #T_902ce_row5_col5, #T_902ce_row6_col6, #T_902ce_row7_col7, #T_902ce_row8_col8, #T_902ce_row9_col9, #T_902ce_row10_col10, #T_902ce_row11_col11, #T_902ce_row12_col12, #T_902ce_row13_col13, #T_902ce_row14_col14, #T_902ce_row15_col15, #T_902ce_row16_col16, #T_902ce_row17_col17, #T_902ce_row18_col18, #T_902ce_row19_col19 {\n",
       "  background-color: #b40426;\n",
       "  color: #f1f1f1;\n",
       "}\n",
       "#T_902ce_row0_col1, #T_902ce_row2_col14, #T_902ce_row5_col2, #T_902ce_row9_col14, #T_902ce_row11_col4 {\n",
       "  background-color: #5f7fe8;\n",
       "  color: #f1f1f1;\n",
       "}\n",
       "#T_902ce_row0_col2, #T_902ce_row9_col4 {\n",
       "  background-color: #8badfd;\n",
       "  color: #000000;\n",
       "}\n",
       "#T_902ce_row0_col3, #T_902ce_row6_col5, #T_902ce_row6_col7, #T_902ce_row18_col15 {\n",
       "  background-color: #5e7de7;\n",
       "  color: #f1f1f1;\n",
       "}\n",
       "#T_902ce_row0_col4, #T_902ce_row0_col17, #T_902ce_row2_col7, #T_902ce_row4_col11, #T_902ce_row5_col11, #T_902ce_row6_col11, #T_902ce_row8_col0 {\n",
       "  background-color: #6384eb;\n",
       "  color: #f1f1f1;\n",
       "}\n",
       "#T_902ce_row0_col5 {\n",
       "  background-color: #f7ac8e;\n",
       "  color: #000000;\n",
       "}\n",
       "#T_902ce_row0_col6, #T_902ce_row15_col0, #T_902ce_row15_col5 {\n",
       "  background-color: #4f69d9;\n",
       "  color: #f1f1f1;\n",
       "}\n",
       "#T_902ce_row0_col7 {\n",
       "  background-color: #f7b79b;\n",
       "  color: #000000;\n",
       "}\n",
       "#T_902ce_row0_col8, #T_902ce_row18_col14 {\n",
       "  background-color: #5d7ce6;\n",
       "  color: #f1f1f1;\n",
       "}\n",
       "#T_902ce_row0_col9 {\n",
       "  background-color: #7da0f9;\n",
       "  color: #f1f1f1;\n",
       "}\n",
       "#T_902ce_row0_col10, #T_902ce_row4_col16, #T_902ce_row5_col16, #T_902ce_row5_col18, #T_902ce_row5_col19, #T_902ce_row6_col1, #T_902ce_row6_col2, #T_902ce_row6_col16, #T_902ce_row7_col16, #T_902ce_row7_col18, #T_902ce_row7_col19, #T_902ce_row10_col0, #T_902ce_row10_col3, #T_902ce_row10_col8, #T_902ce_row10_col9, #T_902ce_row10_col14, #T_902ce_row10_col16, #T_902ce_row10_col17, #T_902ce_row12_col3, #T_902ce_row12_col8, #T_902ce_row12_col14, #T_902ce_row12_col17, #T_902ce_row13_col16, #T_902ce_row14_col11, #T_902ce_row14_col12, #T_902ce_row14_col13, #T_902ce_row14_col16, #T_902ce_row16_col4, #T_902ce_row16_col15, #T_902ce_row18_col6, #T_902ce_row19_col5, #T_902ce_row19_col6, #T_902ce_row19_col7, #T_902ce_row19_col11 {\n",
       "  background-color: #3b4cc0;\n",
       "  color: #f1f1f1;\n",
       "}\n",
       "#T_902ce_row0_col11, #T_902ce_row5_col6, #T_902ce_row5_col9, #T_902ce_row7_col6, #T_902ce_row8_col6 {\n",
       "  background-color: #5977e3;\n",
       "  color: #f1f1f1;\n",
       "}\n",
       "#T_902ce_row0_col12, #T_902ce_row0_col16, #T_902ce_row5_col13, #T_902ce_row6_col3, #T_902ce_row7_col13, #T_902ce_row10_col1, #T_902ce_row11_col14, #T_902ce_row11_col16, #T_902ce_row12_col1, #T_902ce_row12_col9, #T_902ce_row12_col16, #T_902ce_row13_col14, #T_902ce_row14_col10, #T_902ce_row15_col16, #T_902ce_row16_col6, #T_902ce_row16_col13, #T_902ce_row17_col12, #T_902ce_row17_col16 {\n",
       "  background-color: #3c4ec2;\n",
       "  color: #f1f1f1;\n",
       "}\n",
       "#T_902ce_row0_col13, #T_902ce_row0_col19, #T_902ce_row2_col12, #T_902ce_row5_col15, #T_902ce_row11_col15, #T_902ce_row13_col4, #T_902ce_row18_col17 {\n",
       "  background-color: #485fd1;\n",
       "  color: #f1f1f1;\n",
       "}\n",
       "#T_902ce_row0_col14, #T_902ce_row1_col12, #T_902ce_row2_col16, #T_902ce_row3_col10, #T_902ce_row3_col11, #T_902ce_row4_col1, #T_902ce_row7_col17, #T_902ce_row9_col10, #T_902ce_row9_col12, #T_902ce_row9_col16, #T_902ce_row10_col7, #T_902ce_row10_col19, #T_902ce_row12_col4, #T_902ce_row12_col7, #T_902ce_row14_col0, #T_902ce_row16_col18, #T_902ce_row16_col19, #T_902ce_row17_col4 {\n",
       "  background-color: #445acc;\n",
       "  color: #f1f1f1;\n",
       "}\n",
       "#T_902ce_row0_col15, #T_902ce_row3_col4, #T_902ce_row4_col2, #T_902ce_row4_col13, #T_902ce_row8_col7, #T_902ce_row13_col0, #T_902ce_row14_col4, #T_902ce_row17_col19, #T_902ce_row18_col0 {\n",
       "  background-color: #4a63d3;\n",
       "  color: #f1f1f1;\n",
       "}\n",
       "#T_902ce_row0_col18, #T_902ce_row1_col4, #T_902ce_row1_col7, #T_902ce_row3_col7, #T_902ce_row4_col12, #T_902ce_row11_col9, #T_902ce_row15_col17, #T_902ce_row17_col7, #T_902ce_row17_col18 {\n",
       "  background-color: #4961d2;\n",
       "  color: #f1f1f1;\n",
       "}\n",
       "#T_902ce_row1_col0, #T_902ce_row4_col8, #T_902ce_row7_col4, #T_902ce_row18_col13 {\n",
       "  background-color: #688aef;\n",
       "  color: #f1f1f1;\n",
       "}\n",
       "#T_902ce_row1_col2 {\n",
       "  background-color: #e8d6cc;\n",
       "  color: #000000;\n",
       "}\n",
       "#T_902ce_row1_col5, #T_902ce_row2_col4, #T_902ce_row2_col11, #T_902ce_row3_col5, #T_902ce_row15_col11, #T_902ce_row17_col5 {\n",
       "  background-color: #4b64d5;\n",
       "  color: #f1f1f1;\n",
       "}\n",
       "#T_902ce_row1_col6, #T_902ce_row6_col13, #T_902ce_row7_col8, #T_902ce_row8_col12, #T_902ce_row10_col2, #T_902ce_row10_col15, #T_902ce_row11_col8, #T_902ce_row12_col18, #T_902ce_row13_col5, #T_902ce_row13_col6, #T_902ce_row13_col7, #T_902ce_row13_col12, #T_902ce_row14_col6, #T_902ce_row16_col1, #T_902ce_row16_col2, #T_902ce_row16_col3, #T_902ce_row16_col5, #T_902ce_row16_col7, #T_902ce_row18_col12, #T_902ce_row18_col16 {\n",
       "  background-color: #4055c8;\n",
       "  color: #f1f1f1;\n",
       "}\n",
       "#T_902ce_row1_col8, #T_902ce_row8_col1 {\n",
       "  background-color: #be242e;\n",
       "  color: #f1f1f1;\n",
       "}\n",
       "#T_902ce_row1_col9 {\n",
       "  background-color: #dcdddd;\n",
       "  color: #000000;\n",
       "}\n",
       "#T_902ce_row1_col10, #T_902ce_row1_col11, #T_902ce_row1_col16, #T_902ce_row3_col16, #T_902ce_row4_col3, #T_902ce_row8_col16, #T_902ce_row10_col5, #T_902ce_row12_col5, #T_902ce_row15_col10, #T_902ce_row15_col14, #T_902ce_row19_col0, #T_902ce_row19_col17 {\n",
       "  background-color: #455cce;\n",
       "  color: #f1f1f1;\n",
       "}\n",
       "#T_902ce_row1_col13, #T_902ce_row13_col3, #T_902ce_row13_col8 {\n",
       "  background-color: #f5a081;\n",
       "  color: #000000;\n",
       "}\n",
       "#T_902ce_row1_col14, #T_902ce_row13_col2 {\n",
       "  background-color: #98b9ff;\n",
       "  color: #000000;\n",
       "}\n",
       "#T_902ce_row1_col15 {\n",
       "  background-color: #89acfd;\n",
       "  color: #000000;\n",
       "}\n",
       "#T_902ce_row1_col17, #T_902ce_row3_col17 {\n",
       "  background-color: #f1ccb8;\n",
       "  color: #000000;\n",
       "}\n",
       "#T_902ce_row1_col18, #T_902ce_row3_col18, #T_902ce_row8_col19 {\n",
       "  background-color: #7b9ff9;\n",
       "  color: #f1f1f1;\n",
       "}\n",
       "#T_902ce_row1_col19, #T_902ce_row3_col19, #T_902ce_row6_col15 {\n",
       "  background-color: #80a3fa;\n",
       "  color: #f1f1f1;\n",
       "}\n",
       "#T_902ce_row2_col0 {\n",
       "  background-color: #90b2fe;\n",
       "  color: #000000;\n",
       "}\n",
       "#T_902ce_row2_col1 {\n",
       "  background-color: #e7d7ce;\n",
       "  color: #000000;\n",
       "}\n",
       "#T_902ce_row2_col3, #T_902ce_row8_col9 {\n",
       "  background-color: #e2dad5;\n",
       "  color: #000000;\n",
       "}\n",
       "#T_902ce_row2_col5, #T_902ce_row3_col0, #T_902ce_row4_col0, #T_902ce_row11_col5, #T_902ce_row19_col15 {\n",
       "  background-color: #6788ee;\n",
       "  color: #f1f1f1;\n",
       "}\n",
       "#T_902ce_row2_col6, #T_902ce_row6_col18, #T_902ce_row11_col1, #T_902ce_row11_col3, #T_902ce_row11_col17, #T_902ce_row12_col0, #T_902ce_row16_col11, #T_902ce_row16_col14, #T_902ce_row16_col17, #T_902ce_row17_col10, #T_902ce_row18_col7, #T_902ce_row18_col11, #T_902ce_row19_col16 {\n",
       "  background-color: #3d50c3;\n",
       "  color: #f1f1f1;\n",
       "}\n",
       "#T_902ce_row2_col8 {\n",
       "  background-color: #d7dce3;\n",
       "  color: #000000;\n",
       "}\n",
       "#T_902ce_row2_col9 {\n",
       "  background-color: #f59d7e;\n",
       "  color: #000000;\n",
       "}\n",
       "#T_902ce_row2_col10, #T_902ce_row4_col17, #T_902ce_row4_col19, #T_902ce_row5_col17, #T_902ce_row7_col15, #T_902ce_row8_col11, #T_902ce_row11_col2, #T_902ce_row17_col15 {\n",
       "  background-color: #465ecf;\n",
       "  color: #f1f1f1;\n",
       "}\n",
       "#T_902ce_row2_col13, #T_902ce_row8_col14 {\n",
       "  background-color: #9dbdff;\n",
       "  color: #000000;\n",
       "}\n",
       "#T_902ce_row2_col15, #T_902ce_row4_col7, #T_902ce_row15_col19, #T_902ce_row19_col14 {\n",
       "  background-color: #6f92f3;\n",
       "  color: #f1f1f1;\n",
       "}\n",
       "#T_902ce_row2_col17 {\n",
       "  background-color: #b9d0f9;\n",
       "  color: #000000;\n",
       "}\n",
       "#T_902ce_row2_col18, #T_902ce_row11_col7, #T_902ce_row17_col0 {\n",
       "  background-color: #6687ed;\n",
       "  color: #f1f1f1;\n",
       "}\n",
       "#T_902ce_row2_col19, #T_902ce_row9_col18, #T_902ce_row19_col13 {\n",
       "  background-color: #6180e9;\n",
       "  color: #f1f1f1;\n",
       "}\n",
       "#T_902ce_row3_col2, #T_902ce_row9_col8 {\n",
       "  background-color: #e3d9d3;\n",
       "  color: #000000;\n",
       "}\n",
       "#T_902ce_row3_col6, #T_902ce_row3_col12, #T_902ce_row5_col12, #T_902ce_row7_col10, #T_902ce_row7_col12, #T_902ce_row8_col10, #T_902ce_row10_col18, #T_902ce_row11_col13, #T_902ce_row12_col2, #T_902ce_row12_col19, #T_902ce_row13_col10, #T_902ce_row14_col15, #T_902ce_row14_col17, #T_902ce_row15_col13, #T_902ce_row17_col6, #T_902ce_row19_col10 {\n",
       "  background-color: #4257c9;\n",
       "  color: #f1f1f1;\n",
       "}\n",
       "#T_902ce_row3_col8, #T_902ce_row8_col3 {\n",
       "  background-color: #bd1f2d;\n",
       "  color: #f1f1f1;\n",
       "}\n",
       "#T_902ce_row3_col9, #T_902ce_row8_col2 {\n",
       "  background-color: #d8dce2;\n",
       "  color: #000000;\n",
       "}\n",
       "#T_902ce_row3_col13, #T_902ce_row8_col13 {\n",
       "  background-color: #f59f80;\n",
       "  color: #000000;\n",
       "}\n",
       "#T_902ce_row3_col14 {\n",
       "  background-color: #9abbff;\n",
       "  color: #000000;\n",
       "}\n",
       "#T_902ce_row3_col15 {\n",
       "  background-color: #88abfd;\n",
       "  color: #000000;\n",
       "}\n",
       "#T_902ce_row4_col5 {\n",
       "  background-color: #7093f3;\n",
       "  color: #f1f1f1;\n",
       "}\n",
       "#T_902ce_row4_col6, #T_902ce_row6_col0, #T_902ce_row12_col6 {\n",
       "  background-color: #516ddb;\n",
       "  color: #f1f1f1;\n",
       "}\n",
       "#T_902ce_row4_col9, #T_902ce_row15_col1, #T_902ce_row15_col3 {\n",
       "  background-color: #85a8fc;\n",
       "  color: #f1f1f1;\n",
       "}\n",
       "#T_902ce_row4_col10 {\n",
       "  background-color: #5572df;\n",
       "  color: #f1f1f1;\n",
       "}\n",
       "#T_902ce_row4_col14, #T_902ce_row13_col17, #T_902ce_row15_col7, #T_902ce_row17_col13, #T_902ce_row19_col9 {\n",
       "  background-color: #4e68d8;\n",
       "  color: #f1f1f1;\n",
       "}\n",
       "#T_902ce_row4_col15, #T_902ce_row13_col9, #T_902ce_row15_col4 {\n",
       "  background-color: #9bbcff;\n",
       "  color: #000000;\n",
       "}\n",
       "#T_902ce_row4_col18, #T_902ce_row5_col8, #T_902ce_row5_col10, #T_902ce_row6_col14, #T_902ce_row6_col17, #T_902ce_row13_col11, #T_902ce_row14_col5, #T_902ce_row14_col7, #T_902ce_row15_col12, #T_902ce_row16_col8, #T_902ce_row17_col14, #T_902ce_row18_col10 {\n",
       "  background-color: #4358cb;\n",
       "  color: #f1f1f1;\n",
       "}\n",
       "#T_902ce_row5_col0 {\n",
       "  background-color: #f7ad90;\n",
       "  color: #000000;\n",
       "}\n",
       "#T_902ce_row5_col1, #T_902ce_row5_col3, #T_902ce_row5_col14, #T_902ce_row6_col19, #T_902ce_row7_col14, #T_902ce_row10_col13, #T_902ce_row12_col13, #T_902ce_row12_col15, #T_902ce_row13_col15, #T_902ce_row16_col0, #T_902ce_row19_col4, #T_902ce_row19_col12 {\n",
       "  background-color: #3f53c6;\n",
       "  color: #f1f1f1;\n",
       "}\n",
       "#T_902ce_row5_col4, #T_902ce_row13_col18 {\n",
       "  background-color: #6a8bef;\n",
       "  color: #f1f1f1;\n",
       "}\n",
       "#T_902ce_row5_col7, #T_902ce_row7_col5 {\n",
       "  background-color: #c0282f;\n",
       "  color: #f1f1f1;\n",
       "}\n",
       "#T_902ce_row6_col4, #T_902ce_row9_col11, #T_902ce_row10_col4 {\n",
       "  background-color: #506bda;\n",
       "  color: #f1f1f1;\n",
       "}\n",
       "#T_902ce_row6_col8 {\n",
       "  background-color: #5470de;\n",
       "  color: #f1f1f1;\n",
       "}\n",
       "#T_902ce_row6_col9, #T_902ce_row9_col5, #T_902ce_row13_col19 {\n",
       "  background-color: #6485ec;\n",
       "  color: #f1f1f1;\n",
       "}\n",
       "#T_902ce_row6_col10, #T_902ce_row7_col2, #T_902ce_row14_col18 {\n",
       "  background-color: #5b7ae5;\n",
       "  color: #f1f1f1;\n",
       "}\n",
       "#T_902ce_row6_col12 {\n",
       "  background-color: #536edd;\n",
       "  color: #f1f1f1;\n",
       "}\n",
       "#T_902ce_row7_col0 {\n",
       "  background-color: #f7b89c;\n",
       "  color: #000000;\n",
       "}\n",
       "#T_902ce_row7_col1, #T_902ce_row7_col3, #T_902ce_row11_col18, #T_902ce_row11_col19, #T_902ce_row16_col9, #T_902ce_row16_col10, #T_902ce_row16_col12, #T_902ce_row17_col11, #T_902ce_row18_col4, #T_902ce_row18_col5 {\n",
       "  background-color: #3e51c5;\n",
       "  color: #f1f1f1;\n",
       "}\n",
       "#T_902ce_row7_col9 {\n",
       "  background-color: #5673e0;\n",
       "  color: #f1f1f1;\n",
       "}\n",
       "#T_902ce_row7_col11, #T_902ce_row9_col7, #T_902ce_row11_col6, #T_902ce_row15_col18, #T_902ce_row18_col2 {\n",
       "  background-color: #6282ea;\n",
       "  color: #f1f1f1;\n",
       "}\n",
       "#T_902ce_row8_col4, #T_902ce_row9_col6 {\n",
       "  background-color: #6b8df0;\n",
       "  color: #f1f1f1;\n",
       "}\n",
       "#T_902ce_row8_col5 {\n",
       "  background-color: #4c66d6;\n",
       "  color: #f1f1f1;\n",
       "}\n",
       "#T_902ce_row8_col15 {\n",
       "  background-color: #a7c5fe;\n",
       "  color: #000000;\n",
       "}\n",
       "#T_902ce_row8_col17 {\n",
       "  background-color: #f0cdbb;\n",
       "  color: #000000;\n",
       "}\n",
       "#T_902ce_row8_col18 {\n",
       "  background-color: #779af7;\n",
       "  color: #f1f1f1;\n",
       "}\n",
       "#T_902ce_row9_col0 {\n",
       "  background-color: #86a9fc;\n",
       "  color: #f1f1f1;\n",
       "}\n",
       "#T_902ce_row9_col1 {\n",
       "  background-color: #dddcdc;\n",
       "  color: #000000;\n",
       "}\n",
       "#T_902ce_row9_col2 {\n",
       "  background-color: #f59c7d;\n",
       "  color: #000000;\n",
       "}\n",
       "#T_902ce_row9_col3 {\n",
       "  background-color: #d9dce1;\n",
       "  color: #000000;\n",
       "}\n",
       "#T_902ce_row9_col13, #T_902ce_row15_col9 {\n",
       "  background-color: #a1c0ff;\n",
       "  color: #000000;\n",
       "}\n",
       "#T_902ce_row9_col15 {\n",
       "  background-color: #a5c3fe;\n",
       "  color: #000000;\n",
       "}\n",
       "#T_902ce_row9_col17 {\n",
       "  background-color: #bbd1f8;\n",
       "  color: #000000;\n",
       "}\n",
       "#T_902ce_row9_col19, #T_902ce_row11_col0, #T_902ce_row14_col2 {\n",
       "  background-color: #5a78e4;\n",
       "  color: #f1f1f1;\n",
       "}\n",
       "#T_902ce_row10_col6, #T_902ce_row14_col9, #T_902ce_row18_col9, #T_902ce_row19_col2 {\n",
       "  background-color: #5875e1;\n",
       "  color: #f1f1f1;\n",
       "}\n",
       "#T_902ce_row10_col11, #T_902ce_row11_col10, #T_902ce_row11_col12, #T_902ce_row12_col11 {\n",
       "  background-color: #ca3b37;\n",
       "  color: #f1f1f1;\n",
       "}\n",
       "#T_902ce_row10_col12, #T_902ce_row12_col10 {\n",
       "  background-color: #ba162b;\n",
       "  color: #f1f1f1;\n",
       "}\n",
       "#T_902ce_row13_col1 {\n",
       "  background-color: #f6a283;\n",
       "  color: #000000;\n",
       "}\n",
       "#T_902ce_row14_col1 {\n",
       "  background-color: #92b4fe;\n",
       "  color: #000000;\n",
       "}\n",
       "#T_902ce_row14_col3 {\n",
       "  background-color: #93b5fe;\n",
       "  color: #000000;\n",
       "}\n",
       "#T_902ce_row14_col8 {\n",
       "  background-color: #97b8ff;\n",
       "  color: #000000;\n",
       "}\n",
       "#T_902ce_row14_col19, #T_902ce_row18_col8, #T_902ce_row19_col8 {\n",
       "  background-color: #7295f4;\n",
       "  color: #f1f1f1;\n",
       "}\n",
       "#T_902ce_row15_col2 {\n",
       "  background-color: #6e90f2;\n",
       "  color: #f1f1f1;\n",
       "}\n",
       "#T_902ce_row15_col6 {\n",
       "  background-color: #82a6fb;\n",
       "  color: #f1f1f1;\n",
       "}\n",
       "#T_902ce_row15_col8 {\n",
       "  background-color: #a6c4fe;\n",
       "  color: #000000;\n",
       "}\n",
       "#T_902ce_row17_col1, #T_902ce_row17_col3, #T_902ce_row17_col8 {\n",
       "  background-color: #efcebd;\n",
       "  color: #000000;\n",
       "}\n",
       "#T_902ce_row17_col2, #T_902ce_row17_col9 {\n",
       "  background-color: #b6cefa;\n",
       "  color: #000000;\n",
       "}\n",
       "#T_902ce_row18_col1, #T_902ce_row18_col3, #T_902ce_row19_col1, #T_902ce_row19_col3 {\n",
       "  background-color: #7597f6;\n",
       "  color: #f1f1f1;\n",
       "}\n",
       "#T_902ce_row18_col19 {\n",
       "  background-color: #f6a586;\n",
       "  color: #000000;\n",
       "}\n",
       "#T_902ce_row19_col18 {\n",
       "  background-color: #f7a688;\n",
       "  color: #000000;\n",
       "}\n",
       "</style>\n",
       "<table id=\"T_902ce\">\n",
       "  <thead>\n",
       "    <tr>\n",
       "      <th class=\"blank level0\" >&nbsp;</th>\n",
       "      <th id=\"T_902ce_level0_col0\" class=\"col_heading level0 col0\" >DepTime</th>\n",
       "      <th id=\"T_902ce_level0_col1\" class=\"col_heading level0 col1\" >DepDelay</th>\n",
       "      <th id=\"T_902ce_level0_col2\" class=\"col_heading level0 col2\" >DepDel15</th>\n",
       "      <th id=\"T_902ce_level0_col3\" class=\"col_heading level0 col3\" >DepDelayMinutes</th>\n",
       "      <th id=\"T_902ce_level0_col4\" class=\"col_heading level0 col4\" >TaxiOut</th>\n",
       "      <th id=\"T_902ce_level0_col5\" class=\"col_heading level0 col5\" >WheelsOn</th>\n",
       "      <th id=\"T_902ce_level0_col6\" class=\"col_heading level0 col6\" >TaxiIn</th>\n",
       "      <th id=\"T_902ce_level0_col7\" class=\"col_heading level0 col7\" >ArrTime</th>\n",
       "      <th id=\"T_902ce_level0_col8\" class=\"col_heading level0 col8\" >ArrDelayMinutes</th>\n",
       "      <th id=\"T_902ce_level0_col9\" class=\"col_heading level0 col9\" >ArrDel15</th>\n",
       "      <th id=\"T_902ce_level0_col10\" class=\"col_heading level0 col10\" >CRSElapsedTime</th>\n",
       "      <th id=\"T_902ce_level0_col11\" class=\"col_heading level0 col11\" >AirTime</th>\n",
       "      <th id=\"T_902ce_level0_col12\" class=\"col_heading level0 col12\" >Distance</th>\n",
       "      <th id=\"T_902ce_level0_col13\" class=\"col_heading level0 col13\" >CarrierDelay</th>\n",
       "      <th id=\"T_902ce_level0_col14\" class=\"col_heading level0 col14\" >WeatherDelay</th>\n",
       "      <th id=\"T_902ce_level0_col15\" class=\"col_heading level0 col15\" >NASDelay</th>\n",
       "      <th id=\"T_902ce_level0_col16\" class=\"col_heading level0 col16\" >SecurityDelay</th>\n",
       "      <th id=\"T_902ce_level0_col17\" class=\"col_heading level0 col17\" >LateAircraftDelay</th>\n",
       "      <th id=\"T_902ce_level0_col18\" class=\"col_heading level0 col18\" >FirstDepTime</th>\n",
       "      <th id=\"T_902ce_level0_col19\" class=\"col_heading level0 col19\" >TotalAddGTime</th>\n",
       "    </tr>\n",
       "  </thead>\n",
       "  <tbody>\n",
       "    <tr>\n",
       "      <th id=\"T_902ce_level0_row0\" class=\"row_heading level0 row0\" >DepTime</th>\n",
       "      <td id=\"T_902ce_row0_col0\" class=\"data row0 col0\" >1.000000</td>\n",
       "      <td id=\"T_902ce_row0_col1\" class=\"data row0 col1\" >0.133076</td>\n",
       "      <td id=\"T_902ce_row0_col2\" class=\"data row0 col2\" >0.250080</td>\n",
       "      <td id=\"T_902ce_row0_col3\" class=\"data row0 col3\" >0.129948</td>\n",
       "      <td id=\"T_902ce_row0_col4\" class=\"data row0 col4\" >0.131614</td>\n",
       "      <td id=\"T_902ce_row0_col5\" class=\"data row0 col5\" >0.693240</td>\n",
       "      <td id=\"T_902ce_row0_col6\" class=\"data row0 col6\" >0.063722</td>\n",
       "      <td id=\"T_902ce_row0_col7\" class=\"data row0 col7\" >0.663341</td>\n",
       "      <td id=\"T_902ce_row0_col8\" class=\"data row0 col8\" >0.120610</td>\n",
       "      <td id=\"T_902ce_row0_col9\" class=\"data row0 col9\" >0.222469</td>\n",
       "      <td id=\"T_902ce_row0_col10\" class=\"data row0 col10\" >-0.013604</td>\n",
       "      <td id=\"T_902ce_row0_col11\" class=\"data row0 col11\" >0.091511</td>\n",
       "      <td id=\"T_902ce_row0_col12\" class=\"data row0 col12\" >-0.004102</td>\n",
       "      <td id=\"T_902ce_row0_col13\" class=\"data row0 col13\" >0.039401</td>\n",
       "      <td id=\"T_902ce_row0_col14\" class=\"data row0 col14\" >0.021194</td>\n",
       "      <td id=\"T_902ce_row0_col15\" class=\"data row0 col15\" >0.057190</td>\n",
       "      <td id=\"T_902ce_row0_col16\" class=\"data row0 col16\" >0.004569</td>\n",
       "      <td id=\"T_902ce_row0_col17\" class=\"data row0 col17\" >0.127657</td>\n",
       "      <td id=\"T_902ce_row0_col18\" class=\"data row0 col18\" >0.040475</td>\n",
       "      <td id=\"T_902ce_row0_col19\" class=\"data row0 col19\" >0.024034</td>\n",
       "    </tr>\n",
       "    <tr>\n",
       "      <th id=\"T_902ce_level0_row1\" class=\"row_heading level0 row1\" >DepDelay</th>\n",
       "      <td id=\"T_902ce_row1_col0\" class=\"data row1 col0\" >0.133076</td>\n",
       "      <td id=\"T_902ce_row1_col1\" class=\"data row1 col1\" >1.000000</td>\n",
       "      <td id=\"T_902ce_row1_col2\" class=\"data row1 col2\" >0.548335</td>\n",
       "      <td id=\"T_902ce_row1_col3\" class=\"data row1 col3\" >0.997910</td>\n",
       "      <td id=\"T_902ce_row1_col4\" class=\"data row1 col4\" >0.051616</td>\n",
       "      <td id=\"T_902ce_row1_col5\" class=\"data row1 col5\" >0.036071</td>\n",
       "      <td id=\"T_902ce_row1_col6\" class=\"data row1 col6\" >0.017112</td>\n",
       "      <td id=\"T_902ce_row1_col7\" class=\"data row1 col7\" >0.029398</td>\n",
       "      <td id=\"T_902ce_row1_col8\" class=\"data row1 col8\" >0.972308</td>\n",
       "      <td id=\"T_902ce_row1_col9\" class=\"data row1 col9\" >0.508926</td>\n",
       "      <td id=\"T_902ce_row1_col10\" class=\"data row1 col10\" >0.022724</td>\n",
       "      <td id=\"T_902ce_row1_col11\" class=\"data row1 col11\" >0.028413</td>\n",
       "      <td id=\"T_902ce_row1_col12\" class=\"data row1 col12\" >0.021589</td>\n",
       "      <td id=\"T_902ce_row1_col13\" class=\"data row1 col13\" >0.731257</td>\n",
       "      <td id=\"T_902ce_row1_col14\" class=\"data row1 col14\" >0.275693</td>\n",
       "      <td id=\"T_902ce_row1_col15\" class=\"data row1 col15\" >0.242059</td>\n",
       "      <td id=\"T_902ce_row1_col16\" class=\"data row1 col16\" >0.038098</td>\n",
       "      <td id=\"T_902ce_row1_col17\" class=\"data row1 col17\" >0.591870</td>\n",
       "      <td id=\"T_902ce_row1_col18\" class=\"data row1 col18\" >0.194756</td>\n",
       "      <td id=\"T_902ce_row1_col19\" class=\"data row1 col19\" >0.195455</td>\n",
       "    </tr>\n",
       "    <tr>\n",
       "      <th id=\"T_902ce_level0_row2\" class=\"row_heading level0 row2\" >DepDel15</th>\n",
       "      <td id=\"T_902ce_row2_col0\" class=\"data row2 col0\" >0.250080</td>\n",
       "      <td id=\"T_902ce_row2_col1\" class=\"data row2 col1\" >0.548335</td>\n",
       "      <td id=\"T_902ce_row2_col2\" class=\"data row2 col2\" >1.000000</td>\n",
       "      <td id=\"T_902ce_row2_col3\" class=\"data row2 col3\" >0.530038</td>\n",
       "      <td id=\"T_902ce_row2_col4\" class=\"data row2 col4\" >0.061194</td>\n",
       "      <td id=\"T_902ce_row2_col5\" class=\"data row2 col5\" >0.123818</td>\n",
       "      <td id=\"T_902ce_row2_col6\" class=\"data row2 col6\" >0.007356</td>\n",
       "      <td id=\"T_902ce_row2_col7\" class=\"data row2 col7\" >0.112351</td>\n",
       "      <td id=\"T_902ce_row2_col8\" class=\"data row2 col8\" >0.485089</td>\n",
       "      <td id=\"T_902ce_row2_col9\" class=\"data row2 col9\" >0.747034</td>\n",
       "      <td id=\"T_902ce_row2_col10\" class=\"data row2 col10\" >0.029611</td>\n",
       "      <td id=\"T_902ce_row2_col11\" class=\"data row2 col11\" >0.049983</td>\n",
       "      <td id=\"T_902ce_row2_col12\" class=\"data row2 col12\" >0.033488</td>\n",
       "      <td id=\"T_902ce_row2_col13\" class=\"data row2 col13\" >0.289182</td>\n",
       "      <td id=\"T_902ce_row2_col14\" class=\"data row2 col14\" >0.108302</td>\n",
       "      <td id=\"T_902ce_row2_col15\" class=\"data row2 col15\" >0.169526</td>\n",
       "      <td id=\"T_902ce_row2_col16\" class=\"data row2 col16\" >0.030617</td>\n",
       "      <td id=\"T_902ce_row2_col17\" class=\"data row2 col17\" >0.375331</td>\n",
       "      <td id=\"T_902ce_row2_col18\" class=\"data row2 col18\" >0.131456</td>\n",
       "      <td id=\"T_902ce_row2_col19\" class=\"data row2 col19\" >0.102410</td>\n",
       "    </tr>\n",
       "    <tr>\n",
       "      <th id=\"T_902ce_level0_row3\" class=\"row_heading level0 row3\" >DepDelayMinutes</th>\n",
       "      <td id=\"T_902ce_row3_col0\" class=\"data row3 col0\" >0.129948</td>\n",
       "      <td id=\"T_902ce_row3_col1\" class=\"data row3 col1\" >0.997910</td>\n",
       "      <td id=\"T_902ce_row3_col2\" class=\"data row3 col2\" >0.530038</td>\n",
       "      <td id=\"T_902ce_row3_col3\" class=\"data row3 col3\" >1.000000</td>\n",
       "      <td id=\"T_902ce_row3_col4\" class=\"data row3 col4\" >0.054493</td>\n",
       "      <td id=\"T_902ce_row3_col5\" class=\"data row3 col5\" >0.035403</td>\n",
       "      <td id=\"T_902ce_row3_col6\" class=\"data row3 col6\" >0.022915</td>\n",
       "      <td id=\"T_902ce_row3_col7\" class=\"data row3 col7\" >0.029179</td>\n",
       "      <td id=\"T_902ce_row3_col8\" class=\"data row3 col8\" >0.975506</td>\n",
       "      <td id=\"T_902ce_row3_col9\" class=\"data row3 col9\" >0.494021</td>\n",
       "      <td id=\"T_902ce_row3_col10\" class=\"data row3 col10\" >0.018152</td>\n",
       "      <td id=\"T_902ce_row3_col11\" class=\"data row3 col11\" >0.026230</td>\n",
       "      <td id=\"T_902ce_row3_col12\" class=\"data row3 col12\" >0.016364</td>\n",
       "      <td id=\"T_902ce_row3_col13\" class=\"data row3 col13\" >0.736442</td>\n",
       "      <td id=\"T_902ce_row3_col14\" class=\"data row3 col14\" >0.277687</td>\n",
       "      <td id=\"T_902ce_row3_col15\" class=\"data row3 col15\" >0.240199</td>\n",
       "      <td id=\"T_902ce_row3_col16\" class=\"data row3 col16\" >0.037885</td>\n",
       "      <td id=\"T_902ce_row3_col17\" class=\"data row3 col17\" >0.592094</td>\n",
       "      <td id=\"T_902ce_row3_col18\" class=\"data row3 col18\" >0.194445</td>\n",
       "      <td id=\"T_902ce_row3_col19\" class=\"data row3 col19\" >0.196090</td>\n",
       "    </tr>\n",
       "    <tr>\n",
       "      <th id=\"T_902ce_level0_row4\" class=\"row_heading level0 row4\" >TaxiOut</th>\n",
       "      <td id=\"T_902ce_row4_col0\" class=\"data row4 col0\" >0.131614</td>\n",
       "      <td id=\"T_902ce_row4_col1\" class=\"data row4 col1\" >0.051616</td>\n",
       "      <td id=\"T_902ce_row4_col2\" class=\"data row4 col2\" >0.061194</td>\n",
       "      <td id=\"T_902ce_row4_col3\" class=\"data row4 col3\" >0.054493</td>\n",
       "      <td id=\"T_902ce_row4_col4\" class=\"data row4 col4\" >1.000000</td>\n",
       "      <td id=\"T_902ce_row4_col5\" class=\"data row4 col5\" >0.152091</td>\n",
       "      <td id=\"T_902ce_row4_col6\" class=\"data row4 col6\" >0.073699</td>\n",
       "      <td id=\"T_902ce_row4_col7\" class=\"data row4 col7\" >0.148759</td>\n",
       "      <td id=\"T_902ce_row4_col8\" class=\"data row4 col8\" >0.154931</td>\n",
       "      <td id=\"T_902ce_row4_col9\" class=\"data row4 col9\" >0.244984</td>\n",
       "      <td id=\"T_902ce_row4_col10\" class=\"data row4 col10\" >0.076168</td>\n",
       "      <td id=\"T_902ce_row4_col11\" class=\"data row4 col11\" >0.122944</td>\n",
       "      <td id=\"T_902ce_row4_col12\" class=\"data row4 col12\" >0.037387</td>\n",
       "      <td id=\"T_902ce_row4_col13\" class=\"data row4 col13\" >0.045944</td>\n",
       "      <td id=\"T_902ce_row4_col14\" class=\"data row4 col14\" >0.054930</td>\n",
       "      <td id=\"T_902ce_row4_col15\" class=\"data row4 col15\" >0.293551</td>\n",
       "      <td id=\"T_902ce_row4_col16\" class=\"data row4 col16\" >0.002973</td>\n",
       "      <td id=\"T_902ce_row4_col17\" class=\"data row4 col17\" >0.035166</td>\n",
       "      <td id=\"T_902ce_row4_col18\" class=\"data row4 col18\" >0.018473</td>\n",
       "      <td id=\"T_902ce_row4_col19\" class=\"data row4 col19\" >0.019728</td>\n",
       "    </tr>\n",
       "    <tr>\n",
       "      <th id=\"T_902ce_level0_row5\" class=\"row_heading level0 row5\" >WheelsOn</th>\n",
       "      <td id=\"T_902ce_row5_col0\" class=\"data row5 col0\" >0.693240</td>\n",
       "      <td id=\"T_902ce_row5_col1\" class=\"data row5 col1\" >0.036071</td>\n",
       "      <td id=\"T_902ce_row5_col2\" class=\"data row5 col2\" >0.123818</td>\n",
       "      <td id=\"T_902ce_row5_col3\" class=\"data row5 col3\" >0.035403</td>\n",
       "      <td id=\"T_902ce_row5_col4\" class=\"data row5 col4\" >0.152091</td>\n",
       "      <td id=\"T_902ce_row5_col5\" class=\"data row5 col5\" >1.000000</td>\n",
       "      <td id=\"T_902ce_row5_col6\" class=\"data row5 col6\" >0.095980</td>\n",
       "      <td id=\"T_902ce_row5_col7\" class=\"data row5 col7\" >0.966094</td>\n",
       "      <td id=\"T_902ce_row5_col8\" class=\"data row5 col8\" >0.039863</td>\n",
       "      <td id=\"T_902ce_row5_col9\" class=\"data row5 col9\" >0.118113</td>\n",
       "      <td id=\"T_902ce_row5_col10\" class=\"data row5 col10\" >0.015502</td>\n",
       "      <td id=\"T_902ce_row5_col11\" class=\"data row5 col11\" >0.124570</td>\n",
       "      <td id=\"T_902ce_row5_col12\" class=\"data row5 col12\" >0.016844</td>\n",
       "      <td id=\"T_902ce_row5_col13\" class=\"data row5 col13\" >0.001937</td>\n",
       "      <td id=\"T_902ce_row5_col14\" class=\"data row5 col14\" >0.009138</td>\n",
       "      <td id=\"T_902ce_row5_col15\" class=\"data row5 col15\" >0.048203</td>\n",
       "      <td id=\"T_902ce_row5_col16\" class=\"data row5 col16\" >0.002280</td>\n",
       "      <td id=\"T_902ce_row5_col17\" class=\"data row5 col17\" >0.035357</td>\n",
       "      <td id=\"T_902ce_row5_col18\" class=\"data row5 col18\" >-0.008364</td>\n",
       "      <td id=\"T_902ce_row5_col19\" class=\"data row5 col19\" >-0.020983</td>\n",
       "    </tr>\n",
       "    <tr>\n",
       "      <th id=\"T_902ce_level0_row6\" class=\"row_heading level0 row6\" >TaxiIn</th>\n",
       "      <td id=\"T_902ce_row6_col0\" class=\"data row6 col0\" >0.063722</td>\n",
       "      <td id=\"T_902ce_row6_col1\" class=\"data row6 col1\" >0.017112</td>\n",
       "      <td id=\"T_902ce_row6_col2\" class=\"data row6 col2\" >0.007356</td>\n",
       "      <td id=\"T_902ce_row6_col3\" class=\"data row6 col3\" >0.022915</td>\n",
       "      <td id=\"T_902ce_row6_col4\" class=\"data row6 col4\" >0.073699</td>\n",
       "      <td id=\"T_902ce_row6_col5\" class=\"data row6 col5\" >0.095980</td>\n",
       "      <td id=\"T_902ce_row6_col6\" class=\"data row6 col6\" >1.000000</td>\n",
       "      <td id=\"T_902ce_row6_col7\" class=\"data row6 col7\" >0.096328</td>\n",
       "      <td id=\"T_902ce_row6_col8\" class=\"data row6 col8\" >0.095400</td>\n",
       "      <td id=\"T_902ce_row6_col9\" class=\"data row6 col9\" >0.151333</td>\n",
       "      <td id=\"T_902ce_row6_col10\" class=\"data row6 col10\" >0.094655</td>\n",
       "      <td id=\"T_902ce_row6_col11\" class=\"data row6 col11\" >0.124435</td>\n",
       "      <td id=\"T_902ce_row6_col12\" class=\"data row6 col12\" >0.071899</td>\n",
       "      <td id=\"T_902ce_row6_col13\" class=\"data row6 col13\" >0.017157</td>\n",
       "      <td id=\"T_902ce_row6_col14\" class=\"data row6 col14\" >0.017289</td>\n",
       "      <td id=\"T_902ce_row6_col15\" class=\"data row6 col15\" >0.217296</td>\n",
       "      <td id=\"T_902ce_row6_col16\" class=\"data row6 col16\" >0.001523</td>\n",
       "      <td id=\"T_902ce_row6_col17\" class=\"data row6 col17\" >0.024135</td>\n",
       "      <td id=\"T_902ce_row6_col18\" class=\"data row6 col18\" >-0.000705</td>\n",
       "      <td id=\"T_902ce_row6_col19\" class=\"data row6 col19\" >-0.002943</td>\n",
       "    </tr>\n",
       "    <tr>\n",
       "      <th id=\"T_902ce_level0_row7\" class=\"row_heading level0 row7\" >ArrTime</th>\n",
       "      <td id=\"T_902ce_row7_col0\" class=\"data row7 col0\" >0.663341</td>\n",
       "      <td id=\"T_902ce_row7_col1\" class=\"data row7 col1\" >0.029398</td>\n",
       "      <td id=\"T_902ce_row7_col2\" class=\"data row7 col2\" >0.112351</td>\n",
       "      <td id=\"T_902ce_row7_col3\" class=\"data row7 col3\" >0.029179</td>\n",
       "      <td id=\"T_902ce_row7_col4\" class=\"data row7 col4\" >0.148759</td>\n",
       "      <td id=\"T_902ce_row7_col5\" class=\"data row7 col5\" >0.966094</td>\n",
       "      <td id=\"T_902ce_row7_col6\" class=\"data row7 col6\" >0.096328</td>\n",
       "      <td id=\"T_902ce_row7_col7\" class=\"data row7 col7\" >1.000000</td>\n",
       "      <td id=\"T_902ce_row7_col8\" class=\"data row7 col8\" >0.033588</td>\n",
       "      <td id=\"T_902ce_row7_col9\" class=\"data row7 col9\" >0.107704</td>\n",
       "      <td id=\"T_902ce_row7_col10\" class=\"data row7 col10\" >0.012994</td>\n",
       "      <td id=\"T_902ce_row7_col11\" class=\"data row7 col11\" >0.121106</td>\n",
       "      <td id=\"T_902ce_row7_col12\" class=\"data row7 col12\" >0.013522</td>\n",
       "      <td id=\"T_902ce_row7_col13\" class=\"data row7 col13\" >-0.000006</td>\n",
       "      <td id=\"T_902ce_row7_col14\" class=\"data row7 col14\" >0.008498</td>\n",
       "      <td id=\"T_902ce_row7_col15\" class=\"data row7 col15\" >0.044150</td>\n",
       "      <td id=\"T_902ce_row7_col16\" class=\"data row7 col16\" >0.002122</td>\n",
       "      <td id=\"T_902ce_row7_col17\" class=\"data row7 col17\" >0.029027</td>\n",
       "      <td id=\"T_902ce_row7_col18\" class=\"data row7 col18\" >-0.010242</td>\n",
       "      <td id=\"T_902ce_row7_col19\" class=\"data row7 col19\" >-0.021792</td>\n",
       "    </tr>\n",
       "    <tr>\n",
       "      <th id=\"T_902ce_level0_row8\" class=\"row_heading level0 row8\" >ArrDelayMinutes</th>\n",
       "      <td id=\"T_902ce_row8_col0\" class=\"data row8 col0\" >0.120610</td>\n",
       "      <td id=\"T_902ce_row8_col1\" class=\"data row8 col1\" >0.972308</td>\n",
       "      <td id=\"T_902ce_row8_col2\" class=\"data row8 col2\" >0.485089</td>\n",
       "      <td id=\"T_902ce_row8_col3\" class=\"data row8 col3\" >0.975506</td>\n",
       "      <td id=\"T_902ce_row8_col4\" class=\"data row8 col4\" >0.154931</td>\n",
       "      <td id=\"T_902ce_row8_col5\" class=\"data row8 col5\" >0.039863</td>\n",
       "      <td id=\"T_902ce_row8_col6\" class=\"data row8 col6\" >0.095400</td>\n",
       "      <td id=\"T_902ce_row8_col7\" class=\"data row8 col7\" >0.033588</td>\n",
       "      <td id=\"T_902ce_row8_col8\" class=\"data row8 col8\" >1.000000</td>\n",
       "      <td id=\"T_902ce_row8_col9\" class=\"data row8 col9\" >0.530604</td>\n",
       "      <td id=\"T_902ce_row8_col10\" class=\"data row8 col10\" >0.011734</td>\n",
       "      <td id=\"T_902ce_row8_col11\" class=\"data row8 col11\" >0.033710</td>\n",
       "      <td id=\"T_902ce_row8_col12\" class=\"data row8 col12\" >0.010855</td>\n",
       "      <td id=\"T_902ce_row8_col13\" class=\"data row8 col13\" >0.735698</td>\n",
       "      <td id=\"T_902ce_row8_col14\" class=\"data row8 col14\" >0.287298</td>\n",
       "      <td id=\"T_902ce_row8_col15\" class=\"data row8 col15\" >0.328339</td>\n",
       "      <td id=\"T_902ce_row8_col16\" class=\"data row8 col16\" >0.038140</td>\n",
       "      <td id=\"T_902ce_row8_col17\" class=\"data row8 col17\" >0.586642</td>\n",
       "      <td id=\"T_902ce_row8_col18\" class=\"data row8 col18\" >0.181922</td>\n",
       "      <td id=\"T_902ce_row8_col19\" class=\"data row8 col19\" >0.182758</td>\n",
       "    </tr>\n",
       "    <tr>\n",
       "      <th id=\"T_902ce_level0_row9\" class=\"row_heading level0 row9\" >ArrDel15</th>\n",
       "      <td id=\"T_902ce_row9_col0\" class=\"data row9 col0\" >0.222469</td>\n",
       "      <td id=\"T_902ce_row9_col1\" class=\"data row9 col1\" >0.508926</td>\n",
       "      <td id=\"T_902ce_row9_col2\" class=\"data row9 col2\" >0.747034</td>\n",
       "      <td id=\"T_902ce_row9_col3\" class=\"data row9 col3\" >0.494021</td>\n",
       "      <td id=\"T_902ce_row9_col4\" class=\"data row9 col4\" >0.244984</td>\n",
       "      <td id=\"T_902ce_row9_col5\" class=\"data row9 col5\" >0.118113</td>\n",
       "      <td id=\"T_902ce_row9_col6\" class=\"data row9 col6\" >0.151333</td>\n",
       "      <td id=\"T_902ce_row9_col7\" class=\"data row9 col7\" >0.107704</td>\n",
       "      <td id=\"T_902ce_row9_col8\" class=\"data row9 col8\" >0.530604</td>\n",
       "      <td id=\"T_902ce_row9_col9\" class=\"data row9 col9\" >1.000000</td>\n",
       "      <td id=\"T_902ce_row9_col10\" class=\"data row9 col10\" >0.019573</td>\n",
       "      <td id=\"T_902ce_row9_col11\" class=\"data row9 col11\" >0.065902</td>\n",
       "      <td id=\"T_902ce_row9_col12\" class=\"data row9 col12\" >0.025041</td>\n",
       "      <td id=\"T_902ce_row9_col13\" class=\"data row9 col13\" >0.304129</td>\n",
       "      <td id=\"T_902ce_row9_col14\" class=\"data row9 col14\" >0.111748</td>\n",
       "      <td id=\"T_902ce_row9_col15\" class=\"data row9 col15\" >0.321830</td>\n",
       "      <td id=\"T_902ce_row9_col16\" class=\"data row9 col16\" >0.032743</td>\n",
       "      <td id=\"T_902ce_row9_col17\" class=\"data row9 col17\" >0.382751</td>\n",
       "      <td id=\"T_902ce_row9_col18\" class=\"data row9 col18\" >0.113747</td>\n",
       "      <td id=\"T_902ce_row9_col19\" class=\"data row9 col19\" >0.084664</td>\n",
       "    </tr>\n",
       "    <tr>\n",
       "      <th id=\"T_902ce_level0_row10\" class=\"row_heading level0 row10\" >CRSElapsedTime</th>\n",
       "      <td id=\"T_902ce_row10_col0\" class=\"data row10 col0\" >-0.013604</td>\n",
       "      <td id=\"T_902ce_row10_col1\" class=\"data row10 col1\" >0.022724</td>\n",
       "      <td id=\"T_902ce_row10_col2\" class=\"data row10 col2\" >0.029611</td>\n",
       "      <td id=\"T_902ce_row10_col3\" class=\"data row10 col3\" >0.018152</td>\n",
       "      <td id=\"T_902ce_row10_col4\" class=\"data row10 col4\" >0.076168</td>\n",
       "      <td id=\"T_902ce_row10_col5\" class=\"data row10 col5\" >0.015502</td>\n",
       "      <td id=\"T_902ce_row10_col6\" class=\"data row10 col6\" >0.094655</td>\n",
       "      <td id=\"T_902ce_row10_col7\" class=\"data row10 col7\" >0.012994</td>\n",
       "      <td id=\"T_902ce_row10_col8\" class=\"data row10 col8\" >0.011734</td>\n",
       "      <td id=\"T_902ce_row10_col9\" class=\"data row10 col9\" >0.019573</td>\n",
       "      <td id=\"T_902ce_row10_col10\" class=\"data row10 col10\" >1.000000</td>\n",
       "      <td id=\"T_902ce_row10_col11\" class=\"data row10 col11\" >0.940096</td>\n",
       "      <td id=\"T_902ce_row10_col12\" class=\"data row10 col12\" >0.982828</td>\n",
       "      <td id=\"T_902ce_row10_col13\" class=\"data row10 col13\" >0.012896</td>\n",
       "      <td id=\"T_902ce_row10_col14\" class=\"data row10 col14\" >-0.008231</td>\n",
       "      <td id=\"T_902ce_row10_col15\" class=\"data row10 col15\" >0.024713</td>\n",
       "      <td id=\"T_902ce_row10_col16\" class=\"data row10 col16\" >0.002188</td>\n",
       "      <td id=\"T_902ce_row10_col17\" class=\"data row10 col17\" >-0.004735</td>\n",
       "      <td id=\"T_902ce_row10_col18\" class=\"data row10 col18\" >0.014740</td>\n",
       "      <td id=\"T_902ce_row10_col19\" class=\"data row10 col19\" >0.010516</td>\n",
       "    </tr>\n",
       "    <tr>\n",
       "      <th id=\"T_902ce_level0_row11\" class=\"row_heading level0 row11\" >AirTime</th>\n",
       "      <td id=\"T_902ce_row11_col0\" class=\"data row11 col0\" >0.091511</td>\n",
       "      <td id=\"T_902ce_row11_col1\" class=\"data row11 col1\" >0.028413</td>\n",
       "      <td id=\"T_902ce_row11_col2\" class=\"data row11 col2\" >0.049983</td>\n",
       "      <td id=\"T_902ce_row11_col3\" class=\"data row11 col3\" >0.026230</td>\n",
       "      <td id=\"T_902ce_row11_col4\" class=\"data row11 col4\" >0.122944</td>\n",
       "      <td id=\"T_902ce_row11_col5\" class=\"data row11 col5\" >0.124570</td>\n",
       "      <td id=\"T_902ce_row11_col6\" class=\"data row11 col6\" >0.124435</td>\n",
       "      <td id=\"T_902ce_row11_col7\" class=\"data row11 col7\" >0.121106</td>\n",
       "      <td id=\"T_902ce_row11_col8\" class=\"data row11 col8\" >0.033710</td>\n",
       "      <td id=\"T_902ce_row11_col9\" class=\"data row11 col9\" >0.065902</td>\n",
       "      <td id=\"T_902ce_row11_col10\" class=\"data row11 col10\" >0.940096</td>\n",
       "      <td id=\"T_902ce_row11_col11\" class=\"data row11 col11\" >1.000000</td>\n",
       "      <td id=\"T_902ce_row11_col12\" class=\"data row11 col12\" >0.938720</td>\n",
       "      <td id=\"T_902ce_row11_col13\" class=\"data row11 col13\" >0.020873</td>\n",
       "      <td id=\"T_902ce_row11_col14\" class=\"data row11 col14\" >-0.004551</td>\n",
       "      <td id=\"T_902ce_row11_col15\" class=\"data row11 col15\" >0.050018</td>\n",
       "      <td id=\"T_902ce_row11_col16\" class=\"data row11 col16\" >0.003817</td>\n",
       "      <td id=\"T_902ce_row11_col17\" class=\"data row11 col17\" >0.006690</td>\n",
       "      <td id=\"T_902ce_row11_col18\" class=\"data row11 col18\" >0.003597</td>\n",
       "      <td id=\"T_902ce_row11_col19\" class=\"data row11 col19\" >-0.007277</td>\n",
       "    </tr>\n",
       "    <tr>\n",
       "      <th id=\"T_902ce_level0_row12\" class=\"row_heading level0 row12\" >Distance</th>\n",
       "      <td id=\"T_902ce_row12_col0\" class=\"data row12 col0\" >-0.004102</td>\n",
       "      <td id=\"T_902ce_row12_col1\" class=\"data row12 col1\" >0.021589</td>\n",
       "      <td id=\"T_902ce_row12_col2\" class=\"data row12 col2\" >0.033488</td>\n",
       "      <td id=\"T_902ce_row12_col3\" class=\"data row12 col3\" >0.016364</td>\n",
       "      <td id=\"T_902ce_row12_col4\" class=\"data row12 col4\" >0.037387</td>\n",
       "      <td id=\"T_902ce_row12_col5\" class=\"data row12 col5\" >0.016844</td>\n",
       "      <td id=\"T_902ce_row12_col6\" class=\"data row12 col6\" >0.071899</td>\n",
       "      <td id=\"T_902ce_row12_col7\" class=\"data row12 col7\" >0.013522</td>\n",
       "      <td id=\"T_902ce_row12_col8\" class=\"data row12 col8\" >0.010855</td>\n",
       "      <td id=\"T_902ce_row12_col9\" class=\"data row12 col9\" >0.025041</td>\n",
       "      <td id=\"T_902ce_row12_col10\" class=\"data row12 col10\" >0.982828</td>\n",
       "      <td id=\"T_902ce_row12_col11\" class=\"data row12 col11\" >0.938720</td>\n",
       "      <td id=\"T_902ce_row12_col12\" class=\"data row12 col12\" >1.000000</td>\n",
       "      <td id=\"T_902ce_row12_col13\" class=\"data row12 col13\" >0.012373</td>\n",
       "      <td id=\"T_902ce_row12_col14\" class=\"data row12 col14\" >-0.010457</td>\n",
       "      <td id=\"T_902ce_row12_col15\" class=\"data row12 col15\" >0.020861</td>\n",
       "      <td id=\"T_902ce_row12_col16\" class=\"data row12 col16\" >0.003125</td>\n",
       "      <td id=\"T_902ce_row12_col17\" class=\"data row12 col17\" >-0.003617</td>\n",
       "      <td id=\"T_902ce_row12_col18\" class=\"data row12 col18\" >0.011728</td>\n",
       "      <td id=\"T_902ce_row12_col19\" class=\"data row12 col19\" >0.005837</td>\n",
       "    </tr>\n",
       "    <tr>\n",
       "      <th id=\"T_902ce_level0_row13\" class=\"row_heading level0 row13\" >CarrierDelay</th>\n",
       "      <td id=\"T_902ce_row13_col0\" class=\"data row13 col0\" >0.039401</td>\n",
       "      <td id=\"T_902ce_row13_col1\" class=\"data row13 col1\" >0.731257</td>\n",
       "      <td id=\"T_902ce_row13_col2\" class=\"data row13 col2\" >0.289182</td>\n",
       "      <td id=\"T_902ce_row13_col3\" class=\"data row13 col3\" >0.736442</td>\n",
       "      <td id=\"T_902ce_row13_col4\" class=\"data row13 col4\" >0.045944</td>\n",
       "      <td id=\"T_902ce_row13_col5\" class=\"data row13 col5\" >0.001937</td>\n",
       "      <td id=\"T_902ce_row13_col6\" class=\"data row13 col6\" >0.017157</td>\n",
       "      <td id=\"T_902ce_row13_col7\" class=\"data row13 col7\" >-0.000006</td>\n",
       "      <td id=\"T_902ce_row13_col8\" class=\"data row13 col8\" >0.735698</td>\n",
       "      <td id=\"T_902ce_row13_col9\" class=\"data row13 col9\" >0.304129</td>\n",
       "      <td id=\"T_902ce_row13_col10\" class=\"data row13 col10\" >0.012896</td>\n",
       "      <td id=\"T_902ce_row13_col11\" class=\"data row13 col11\" >0.020873</td>\n",
       "      <td id=\"T_902ce_row13_col12\" class=\"data row13 col12\" >0.012373</td>\n",
       "      <td id=\"T_902ce_row13_col13\" class=\"data row13 col13\" >1.000000</td>\n",
       "      <td id=\"T_902ce_row13_col14\" class=\"data row13 col14\" >-0.005725</td>\n",
       "      <td id=\"T_902ce_row13_col15\" class=\"data row13 col15\" >0.019978</td>\n",
       "      <td id=\"T_902ce_row13_col16\" class=\"data row13 col16\" >-0.000915</td>\n",
       "      <td id=\"T_902ce_row13_col17\" class=\"data row13 col17\" >0.059440</td>\n",
       "      <td id=\"T_902ce_row13_col18\" class=\"data row13 col18\" >0.142095</td>\n",
       "      <td id=\"T_902ce_row13_col19\" class=\"data row13 col19\" >0.116467</td>\n",
       "    </tr>\n",
       "    <tr>\n",
       "      <th id=\"T_902ce_level0_row14\" class=\"row_heading level0 row14\" >WeatherDelay</th>\n",
       "      <td id=\"T_902ce_row14_col0\" class=\"data row14 col0\" >0.021194</td>\n",
       "      <td id=\"T_902ce_row14_col1\" class=\"data row14 col1\" >0.275693</td>\n",
       "      <td id=\"T_902ce_row14_col2\" class=\"data row14 col2\" >0.108302</td>\n",
       "      <td id=\"T_902ce_row14_col3\" class=\"data row14 col3\" >0.277687</td>\n",
       "      <td id=\"T_902ce_row14_col4\" class=\"data row14 col4\" >0.054930</td>\n",
       "      <td id=\"T_902ce_row14_col5\" class=\"data row14 col5\" >0.009138</td>\n",
       "      <td id=\"T_902ce_row14_col6\" class=\"data row14 col6\" >0.017289</td>\n",
       "      <td id=\"T_902ce_row14_col7\" class=\"data row14 col7\" >0.008498</td>\n",
       "      <td id=\"T_902ce_row14_col8\" class=\"data row14 col8\" >0.287298</td>\n",
       "      <td id=\"T_902ce_row14_col9\" class=\"data row14 col9\" >0.111748</td>\n",
       "      <td id=\"T_902ce_row14_col10\" class=\"data row14 col10\" >-0.008231</td>\n",
       "      <td id=\"T_902ce_row14_col11\" class=\"data row14 col11\" >-0.004551</td>\n",
       "      <td id=\"T_902ce_row14_col12\" class=\"data row14 col12\" >-0.010457</td>\n",
       "      <td id=\"T_902ce_row14_col13\" class=\"data row14 col13\" >-0.005725</td>\n",
       "      <td id=\"T_902ce_row14_col14\" class=\"data row14 col14\" >1.000000</td>\n",
       "      <td id=\"T_902ce_row14_col15\" class=\"data row14 col15\" >0.027052</td>\n",
       "      <td id=\"T_902ce_row14_col16\" class=\"data row14 col16\" >-0.000654</td>\n",
       "      <td id=\"T_902ce_row14_col17\" class=\"data row14 col17\" >0.019614</td>\n",
       "      <td id=\"T_902ce_row14_col18\" class=\"data row14 col18\" >0.100090</td>\n",
       "      <td id=\"T_902ce_row14_col19\" class=\"data row14 col19\" >0.156591</td>\n",
       "    </tr>\n",
       "    <tr>\n",
       "      <th id=\"T_902ce_level0_row15\" class=\"row_heading level0 row15\" >NASDelay</th>\n",
       "      <td id=\"T_902ce_row15_col0\" class=\"data row15 col0\" >0.057190</td>\n",
       "      <td id=\"T_902ce_row15_col1\" class=\"data row15 col1\" >0.242059</td>\n",
       "      <td id=\"T_902ce_row15_col2\" class=\"data row15 col2\" >0.169526</td>\n",
       "      <td id=\"T_902ce_row15_col3\" class=\"data row15 col3\" >0.240199</td>\n",
       "      <td id=\"T_902ce_row15_col4\" class=\"data row15 col4\" >0.293551</td>\n",
       "      <td id=\"T_902ce_row15_col5\" class=\"data row15 col5\" >0.048203</td>\n",
       "      <td id=\"T_902ce_row15_col6\" class=\"data row15 col6\" >0.217296</td>\n",
       "      <td id=\"T_902ce_row15_col7\" class=\"data row15 col7\" >0.044150</td>\n",
       "      <td id=\"T_902ce_row15_col8\" class=\"data row15 col8\" >0.328339</td>\n",
       "      <td id=\"T_902ce_row15_col9\" class=\"data row15 col9\" >0.321830</td>\n",
       "      <td id=\"T_902ce_row15_col10\" class=\"data row15 col10\" >0.024713</td>\n",
       "      <td id=\"T_902ce_row15_col11\" class=\"data row15 col11\" >0.050018</td>\n",
       "      <td id=\"T_902ce_row15_col12\" class=\"data row15 col12\" >0.020861</td>\n",
       "      <td id=\"T_902ce_row15_col13\" class=\"data row15 col13\" >0.019978</td>\n",
       "      <td id=\"T_902ce_row15_col14\" class=\"data row15 col14\" >0.027052</td>\n",
       "      <td id=\"T_902ce_row15_col15\" class=\"data row15 col15\" >1.000000</td>\n",
       "      <td id=\"T_902ce_row15_col16\" class=\"data row15 col16\" >0.003444</td>\n",
       "      <td id=\"T_902ce_row15_col17\" class=\"data row15 col17\" >0.045147</td>\n",
       "      <td id=\"T_902ce_row15_col18\" class=\"data row15 col18\" >0.117164</td>\n",
       "      <td id=\"T_902ce_row15_col19\" class=\"data row15 col19\" >0.146810</td>\n",
       "    </tr>\n",
       "    <tr>\n",
       "      <th id=\"T_902ce_level0_row16\" class=\"row_heading level0 row16\" >SecurityDelay</th>\n",
       "      <td id=\"T_902ce_row16_col0\" class=\"data row16 col0\" >0.004569</td>\n",
       "      <td id=\"T_902ce_row16_col1\" class=\"data row16 col1\" >0.038098</td>\n",
       "      <td id=\"T_902ce_row16_col2\" class=\"data row16 col2\" >0.030617</td>\n",
       "      <td id=\"T_902ce_row16_col3\" class=\"data row16 col3\" >0.037885</td>\n",
       "      <td id=\"T_902ce_row16_col4\" class=\"data row16 col4\" >0.002973</td>\n",
       "      <td id=\"T_902ce_row16_col5\" class=\"data row16 col5\" >0.002280</td>\n",
       "      <td id=\"T_902ce_row16_col6\" class=\"data row16 col6\" >0.001523</td>\n",
       "      <td id=\"T_902ce_row16_col7\" class=\"data row16 col7\" >0.002122</td>\n",
       "      <td id=\"T_902ce_row16_col8\" class=\"data row16 col8\" >0.038140</td>\n",
       "      <td id=\"T_902ce_row16_col9\" class=\"data row16 col9\" >0.032743</td>\n",
       "      <td id=\"T_902ce_row16_col10\" class=\"data row16 col10\" >0.002188</td>\n",
       "      <td id=\"T_902ce_row16_col11\" class=\"data row16 col11\" >0.003817</td>\n",
       "      <td id=\"T_902ce_row16_col12\" class=\"data row16 col12\" >0.003125</td>\n",
       "      <td id=\"T_902ce_row16_col13\" class=\"data row16 col13\" >-0.000915</td>\n",
       "      <td id=\"T_902ce_row16_col14\" class=\"data row16 col14\" >-0.000654</td>\n",
       "      <td id=\"T_902ce_row16_col15\" class=\"data row16 col15\" >0.003444</td>\n",
       "      <td id=\"T_902ce_row16_col16\" class=\"data row16 col16\" >1.000000</td>\n",
       "      <td id=\"T_902ce_row16_col17\" class=\"data row16 col17\" >0.004936</td>\n",
       "      <td id=\"T_902ce_row16_col18\" class=\"data row16 col18\" >0.022166</td>\n",
       "      <td id=\"T_902ce_row16_col19\" class=\"data row16 col19\" >0.010296</td>\n",
       "    </tr>\n",
       "    <tr>\n",
       "      <th id=\"T_902ce_level0_row17\" class=\"row_heading level0 row17\" >LateAircraftDelay</th>\n",
       "      <td id=\"T_902ce_row17_col0\" class=\"data row17 col0\" >0.127657</td>\n",
       "      <td id=\"T_902ce_row17_col1\" class=\"data row17 col1\" >0.591870</td>\n",
       "      <td id=\"T_902ce_row17_col2\" class=\"data row17 col2\" >0.375331</td>\n",
       "      <td id=\"T_902ce_row17_col3\" class=\"data row17 col3\" >0.592094</td>\n",
       "      <td id=\"T_902ce_row17_col4\" class=\"data row17 col4\" >0.035166</td>\n",
       "      <td id=\"T_902ce_row17_col5\" class=\"data row17 col5\" >0.035357</td>\n",
       "      <td id=\"T_902ce_row17_col6\" class=\"data row17 col6\" >0.024135</td>\n",
       "      <td id=\"T_902ce_row17_col7\" class=\"data row17 col7\" >0.029027</td>\n",
       "      <td id=\"T_902ce_row17_col8\" class=\"data row17 col8\" >0.586642</td>\n",
       "      <td id=\"T_902ce_row17_col9\" class=\"data row17 col9\" >0.382751</td>\n",
       "      <td id=\"T_902ce_row17_col10\" class=\"data row17 col10\" >-0.004735</td>\n",
       "      <td id=\"T_902ce_row17_col11\" class=\"data row17 col11\" >0.006690</td>\n",
       "      <td id=\"T_902ce_row17_col12\" class=\"data row17 col12\" >-0.003617</td>\n",
       "      <td id=\"T_902ce_row17_col13\" class=\"data row17 col13\" >0.059440</td>\n",
       "      <td id=\"T_902ce_row17_col14\" class=\"data row17 col14\" >0.019614</td>\n",
       "      <td id=\"T_902ce_row17_col15\" class=\"data row17 col15\" >0.045147</td>\n",
       "      <td id=\"T_902ce_row17_col16\" class=\"data row17 col16\" >0.004936</td>\n",
       "      <td id=\"T_902ce_row17_col17\" class=\"data row17 col17\" >1.000000</td>\n",
       "      <td id=\"T_902ce_row17_col18\" class=\"data row17 col18\" >0.039997</td>\n",
       "      <td id=\"T_902ce_row17_col19\" class=\"data row17 col19\" >0.031262</td>\n",
       "    </tr>\n",
       "    <tr>\n",
       "      <th id=\"T_902ce_level0_row18\" class=\"row_heading level0 row18\" >FirstDepTime</th>\n",
       "      <td id=\"T_902ce_row18_col0\" class=\"data row18 col0\" >0.040475</td>\n",
       "      <td id=\"T_902ce_row18_col1\" class=\"data row18 col1\" >0.194756</td>\n",
       "      <td id=\"T_902ce_row18_col2\" class=\"data row18 col2\" >0.131456</td>\n",
       "      <td id=\"T_902ce_row18_col3\" class=\"data row18 col3\" >0.194445</td>\n",
       "      <td id=\"T_902ce_row18_col4\" class=\"data row18 col4\" >0.018473</td>\n",
       "      <td id=\"T_902ce_row18_col5\" class=\"data row18 col5\" >-0.008364</td>\n",
       "      <td id=\"T_902ce_row18_col6\" class=\"data row18 col6\" >-0.000705</td>\n",
       "      <td id=\"T_902ce_row18_col7\" class=\"data row18 col7\" >-0.010242</td>\n",
       "      <td id=\"T_902ce_row18_col8\" class=\"data row18 col8\" >0.181922</td>\n",
       "      <td id=\"T_902ce_row18_col9\" class=\"data row18 col9\" >0.113747</td>\n",
       "      <td id=\"T_902ce_row18_col10\" class=\"data row18 col10\" >0.014740</td>\n",
       "      <td id=\"T_902ce_row18_col11\" class=\"data row18 col11\" >0.003597</td>\n",
       "      <td id=\"T_902ce_row18_col12\" class=\"data row18 col12\" >0.011728</td>\n",
       "      <td id=\"T_902ce_row18_col13\" class=\"data row18 col13\" >0.142095</td>\n",
       "      <td id=\"T_902ce_row18_col14\" class=\"data row18 col14\" >0.100090</td>\n",
       "      <td id=\"T_902ce_row18_col15\" class=\"data row18 col15\" >0.117164</td>\n",
       "      <td id=\"T_902ce_row18_col16\" class=\"data row18 col16\" >0.022166</td>\n",
       "      <td id=\"T_902ce_row18_col17\" class=\"data row18 col17\" >0.039997</td>\n",
       "      <td id=\"T_902ce_row18_col18\" class=\"data row18 col18\" >1.000000</td>\n",
       "      <td id=\"T_902ce_row18_col19\" class=\"data row18 col19\" >0.714666</td>\n",
       "    </tr>\n",
       "    <tr>\n",
       "      <th id=\"T_902ce_level0_row19\" class=\"row_heading level0 row19\" >TotalAddGTime</th>\n",
       "      <td id=\"T_902ce_row19_col0\" class=\"data row19 col0\" >0.024034</td>\n",
       "      <td id=\"T_902ce_row19_col1\" class=\"data row19 col1\" >0.195455</td>\n",
       "      <td id=\"T_902ce_row19_col2\" class=\"data row19 col2\" >0.102410</td>\n",
       "      <td id=\"T_902ce_row19_col3\" class=\"data row19 col3\" >0.196090</td>\n",
       "      <td id=\"T_902ce_row19_col4\" class=\"data row19 col4\" >0.019728</td>\n",
       "      <td id=\"T_902ce_row19_col5\" class=\"data row19 col5\" >-0.020983</td>\n",
       "      <td id=\"T_902ce_row19_col6\" class=\"data row19 col6\" >-0.002943</td>\n",
       "      <td id=\"T_902ce_row19_col7\" class=\"data row19 col7\" >-0.021792</td>\n",
       "      <td id=\"T_902ce_row19_col8\" class=\"data row19 col8\" >0.182758</td>\n",
       "      <td id=\"T_902ce_row19_col9\" class=\"data row19 col9\" >0.084664</td>\n",
       "      <td id=\"T_902ce_row19_col10\" class=\"data row19 col10\" >0.010516</td>\n",
       "      <td id=\"T_902ce_row19_col11\" class=\"data row19 col11\" >-0.007277</td>\n",
       "      <td id=\"T_902ce_row19_col12\" class=\"data row19 col12\" >0.005837</td>\n",
       "      <td id=\"T_902ce_row19_col13\" class=\"data row19 col13\" >0.116467</td>\n",
       "      <td id=\"T_902ce_row19_col14\" class=\"data row19 col14\" >0.156591</td>\n",
       "      <td id=\"T_902ce_row19_col15\" class=\"data row19 col15\" >0.146810</td>\n",
       "      <td id=\"T_902ce_row19_col16\" class=\"data row19 col16\" >0.010296</td>\n",
       "      <td id=\"T_902ce_row19_col17\" class=\"data row19 col17\" >0.031262</td>\n",
       "      <td id=\"T_902ce_row19_col18\" class=\"data row19 col18\" >0.714666</td>\n",
       "      <td id=\"T_902ce_row19_col19\" class=\"data row19 col19\" >1.000000</td>\n",
       "    </tr>\n",
       "  </tbody>\n",
       "</table>\n"
      ],
      "text/plain": [
       "<pandas.io.formats.style.Styler at 0x24e8a3f70d0>"
      ]
     },
     "execution_count": 15,
     "metadata": {},
     "output_type": "execute_result"
    }
   ],
   "source": [
    "corr = (df_flights\n",
    "        .select_dtypes('float16')\n",
    "        .corr())\n",
    "corr.style.background_gradient(cmap='coolwarm')"
   ]
  },
  {
   "cell_type": "code",
   "execution_count": 16,
   "metadata": {},
   "outputs": [
    {
     "data": {
      "image/png": "[encoded data removed]",
      "text/plain": [
       "<Figure size 640x480 with 2 Axes>"
      ]
     },
     "metadata": {},
     "output_type": "display_data"
    }
   ],
   "source": [
    "sns.heatmap(\n",
    "    (df_flights\n",
    "     .select_dtypes('float16')\n",
    "     .corr()))\n",
    "plt.show()\n"
   ]
  },
  {
   "cell_type": "code",
   "execution_count": 17,
   "metadata": {},
   "outputs": [
    {
     "data": {
      "text/plain": [
       "<AxesSubplot: xlabel='FlightDate'>"
      ]
     },
     "execution_count": 17,
     "metadata": {},
     "output_type": "execute_result"
    },
    {
     "data": {
      "image/png": "[encoded data removed]",
      "text/plain": [
       "<Figure size 640x480 with 1 Axes>"
      ]
     },
     "metadata": {},
     "output_type": "display_data"
    }
   ],
   "source": [
    "(df_flights.\n",
    " groupby(\"FlightDate\")\n",
    " [\"Cancelled\"]\n",
    " .agg(\"mean\")\n",
    " .plot()\n",
    " )\n"
   ]
  },
  {
   "cell_type": "code",
   "execution_count": 18,
   "metadata": {},
   "outputs": [
    {
     "data": {
      "text/plain": [
       "<AxesSubplot: xlabel='FlightDate'>"
      ]
     },
     "execution_count": 18,
     "metadata": {},
     "output_type": "execute_result"
    },
    {
     "data": {
      "image/png": "[encoded data removed]",
      "text/plain": [
       "<Figure size 640x480 with 1 Axes>"
      ]
     },
     "metadata": {},
     "output_type": "display_data"
    }
   ],
   "source": [
    "(df_flights.\n",
    " groupby(\"FlightDate\")\n",
    "[[\"WeatherDelay\", \"NASDelay\"]]\n",
    " .agg(\"mean\")\n",
    " .plot())"
   ]
  },
  {
   "cell_type": "code",
   "execution_count": 19,
   "metadata": {},
   "outputs": [
    {
     "data": {
      "text/plain": [
       "<AxesSubplot: xlabel='FlightDate'>"
      ]
     },
     "execution_count": 19,
     "metadata": {},
     "output_type": "execute_result"
    },
    {
     "data": {
      "image/png": "[encoded data removed]",
      "text/plain": [
       "<Figure size 640x480 with 1 Axes>"
      ]
     },
     "metadata": {},
     "output_type": "display_data"
    }
   ],
   "source": [
    "(df_flights.\n",
    " groupby(\"FlightDate\")\n",
    " [[\"CarrierDelay\",\"LateAircraftDelay\"]]\n",
    " .agg(\"mean\")\n",
    " .plot())"
   ]
  },
  {
   "cell_type": "markdown",
   "metadata": {},
   "source": [
    "##### Frequency Distribution Table"
   ]
  },
  {
   "cell_type": "code",
   "execution_count": 20,
   "metadata": {},
   "outputs": [
    {
     "data": {
      "text/html": [
       "<div>\n",
       "<style scoped>\n",
       "    .dataframe tbody tr th:only-of-type {\n",
       "        vertical-align: middle;\n",
       "    }\n",
       "\n",
       "    .dataframe tbody tr th {\n",
       "        vertical-align: top;\n",
       "    }\n",
       "\n",
       "    .dataframe thead th {\n",
       "        text-align: right;\n",
       "    }\n",
       "</style>\n",
       "<table border=\"1\" class=\"dataframe\">\n",
       "  <thead>\n",
       "    <tr style=\"text-align: right;\">\n",
       "      <th></th>\n",
       "      <th>Row Count</th>\n",
       "    </tr>\n",
       "    <tr>\n",
       "      <th>Operating_Airline</th>\n",
       "      <th></th>\n",
       "    </tr>\n",
       "  </thead>\n",
       "  <tbody>\n",
       "    <tr>\n",
       "      <th>Southwest Airlines Co.</th>\n",
       "      <td>850814</td>\n",
       "    </tr>\n",
       "    <tr>\n",
       "      <th>Delta Air Lines Inc.</th>\n",
       "      <td>590787</td>\n",
       "    </tr>\n",
       "    <tr>\n",
       "      <th>American Airlines Inc.</th>\n",
       "      <td>574280</td>\n",
       "    </tr>\n",
       "    <tr>\n",
       "      <th>SkyWest Airlines Inc.</th>\n",
       "      <td>504520</td>\n",
       "    </tr>\n",
       "    <tr>\n",
       "      <th>United Air Lines Inc.</th>\n",
       "      <td>406927</td>\n",
       "    </tr>\n",
       "    <tr>\n",
       "      <th>Republic Airlines</th>\n",
       "      <td>224567</td>\n",
       "    </tr>\n",
       "    <tr>\n",
       "      <th>JetBlue Airways</th>\n",
       "      <td>179893</td>\n",
       "    </tr>\n",
       "    <tr>\n",
       "      <th>Envoy Air</th>\n",
       "      <td>172616</td>\n",
       "    </tr>\n",
       "    <tr>\n",
       "      <th>Endeavor Air Inc.</th>\n",
       "      <td>162517</td>\n",
       "    </tr>\n",
       "    <tr>\n",
       "      <th>Comair Inc.</th>\n",
       "      <td>153276</td>\n",
       "    </tr>\n",
       "    <tr>\n",
       "      <th>Alaska Airlines Inc.</th>\n",
       "      <td>150024</td>\n",
       "    </tr>\n",
       "    <tr>\n",
       "      <th>Spirit Air Lines</th>\n",
       "      <td>148789</td>\n",
       "    </tr>\n",
       "    <tr>\n",
       "      <th>Frontier Airlines Inc.</th>\n",
       "      <td>99894</td>\n",
       "    </tr>\n",
       "    <tr>\n",
       "      <th>Allegiant Air</th>\n",
       "      <td>82786</td>\n",
       "    </tr>\n",
       "    <tr>\n",
       "      <th>Mesa Airlines Inc.</th>\n",
       "      <td>80859</td>\n",
       "    </tr>\n",
       "    <tr>\n",
       "      <th>Horizon Air</th>\n",
       "      <td>64566</td>\n",
       "    </tr>\n",
       "    <tr>\n",
       "      <th>Capital Cargo International</th>\n",
       "      <td>59966</td>\n",
       "    </tr>\n",
       "    <tr>\n",
       "      <th>Commutair Aka Champlain Enterprises, Inc.</th>\n",
       "      <td>51198</td>\n",
       "    </tr>\n",
       "    <tr>\n",
       "      <th>Hawaiian Airlines Inc.</th>\n",
       "      <td>48726</td>\n",
       "    </tr>\n",
       "    <tr>\n",
       "      <th>Air Wisconsin Airlines Corp</th>\n",
       "      <td>45652</td>\n",
       "    </tr>\n",
       "    <tr>\n",
       "      <th>GoJet Airlines, LLC d/b/a United Express</th>\n",
       "      <td>39310</td>\n",
       "    </tr>\n",
       "  </tbody>\n",
       "</table>\n",
       "</div>"
      ],
      "text/plain": [
       "                                           Row Count\n",
       "Operating_Airline                                   \n",
       "Southwest Airlines Co.                        850814\n",
       "Delta Air Lines Inc.                          590787\n",
       "American Airlines Inc.                        574280\n",
       "SkyWest Airlines Inc.                         504520\n",
       "United Air Lines Inc.                         406927\n",
       "Republic Airlines                             224567\n",
       "JetBlue Airways                               179893\n",
       "Envoy Air                                     172616\n",
       "Endeavor Air Inc.                             162517\n",
       "Comair Inc.                                   153276\n",
       "Alaska Airlines Inc.                          150024\n",
       "Spirit Air Lines                              148789\n",
       "Frontier Airlines Inc.                         99894\n",
       "Allegiant Air                                  82786\n",
       "Mesa Airlines Inc.                             80859\n",
       "Horizon Air                                    64566\n",
       "Capital Cargo International                    59966\n",
       "Commutair Aka Champlain Enterprises, Inc.      51198\n",
       "Hawaiian Airlines Inc.                         48726\n",
       "Air Wisconsin Airlines Corp                    45652\n",
       "GoJet Airlines, LLC d/b/a United Express       39310"
      ]
     },
     "execution_count": 20,
     "metadata": {},
     "output_type": "execute_result"
    }
   ],
   "source": [
    "(df_flights\n",
    " [[\"Operating_Airline\"]]\n",
    " .value_counts()\n",
    ".sort_values(ascending=False)\n",
    ".to_frame(\"Row Count\")\n",
    ")"
   ]
  },
  {
   "cell_type": "code",
   "execution_count": 21,
   "metadata": {},
   "outputs": [
    {
     "data": {
      "application/vnd.plotly.v1+json": {
       "config": {
        "plotlyServerURL": "https://plot.ly"
       },
       "data": [
        {
         "alignmentgroup": "True",
         "hovertemplate": "variable=Operating_Airline<br>value=%{x}<br>index=%{y}<extra></extra>",
         "legendgroup": "Operating_Airline",
         "marker": {
          "color": "#636efa",
          "pattern": {
           "shape": ""
          }
         },
         "name": "Operating_Airline",
         "offsetgroup": "Operating_Airline",
         "orientation": "h",
         "showlegend": true,
         "textposition": "auto",
         "type": "bar",
         "x": [
          39310,
          45652,
          48726,
          51198,
          59966,
          64566,
          80859,
          82786,
          99894,
          148789,
          150024,
          153276,
          162517,
          172616,
          179893,
          224567,
          406927,
          504520,
          574280,
          590787,
          850814
         ],
         "xaxis": "x",
         "y": [
          "GoJet Airlines, LLC d/b/a United Express",
          "Air Wisconsin Airlines Corp",
          "Hawaiian Airlines Inc.",
          "Commutair Aka Champlain Enterprises, Inc.",
          "Capital Cargo International",
          "Horizon Air",
          "Mesa Airlines Inc.",
          "Allegiant Air",
          "Frontier Airlines Inc.",
          "Spirit Air Lines",
          "Alaska Airlines Inc.",
          "Comair Inc.",
          "Endeavor Air Inc.",
          "Envoy Air",
          "JetBlue Airways",
          "Republic Airlines",
          "United Air Lines Inc.",
          "SkyWest Airlines Inc.",
          "American Airlines Inc.",
          "Delta Air Lines Inc.",
          "Southwest Airlines Co."
         ],
         "yaxis": "y"
        }
       ],
       "layout": {
        "barmode": "relative",
        "height": 700,
        "legend": {
         "title": {
          "text": "variable"
         },
         "tracegroupgap": 0
        },
        "template": {
         "data": {
          "bar": [
           {
            "error_x": {
             "color": "#f2f5fa"
            },
            "error_y": {
             "color": "#f2f5fa"
            },
            "marker": {
             "line": {
              "color": "rgb(17,17,17)",
              "width": 0.5
             },
             "pattern": {
              "fillmode": "overlay",
              "size": 10,
              "solidity": 0.2
             }
            },
            "type": "bar"
           }
          ],
          "barpolar": [
           {
            "marker": {
             "line": {
              "color": "rgb(17,17,17)",
              "width": 0.5
             },
             "pattern": {
              "fillmode": "overlay",
              "size": 10,
              "solidity": 0.2
             }
            },
            "type": "barpolar"
           }
          ],
          "carpet": [
           {
            "aaxis": {
             "endlinecolor": "#A2B1C6",
             "gridcolor": "#506784",
             "linecolor": "#506784",
             "minorgridcolor": "#506784",
             "startlinecolor": "#A2B1C6"
            },
            "baxis": {
             "endlinecolor": "#A2B1C6",
             "gridcolor": "#506784",
             "linecolor": "#506784",
             "minorgridcolor": "#506784",
             "startlinecolor": "#A2B1C6"
            },
            "type": "carpet"
           }
          ],
          "choropleth": [
           {
            "colorbar": {
             "outlinewidth": 0,
             "ticks": ""
            },
            "type": "choropleth"
           }
          ],
          "contour": [
           {
            "colorbar": {
             "outlinewidth": 0,
             "ticks": ""
            },
            "colorscale": [
             [
              0,
              "#0d0887"
             ],
             [
              0.1111111111111111,
              "#46039f"
             ],
             [
              0.2222222222222222,
              "#7201a8"
             ],
             [
              0.3333333333333333,
              "#9c179e"
             ],
             [
              0.4444444444444444,
              "#bd3786"
             ],
             [
              0.5555555555555556,
              "#d8576b"
             ],
             [
              0.6666666666666666,
              "#ed7953"
             ],
             [
              0.7777777777777778,
              "#fb9f3a"
             ],
             [
              0.8888888888888888,
              "#fdca26"
             ],
             [
              1,
              "#f0f921"
             ]
            ],
            "type": "contour"
           }
          ],
          "contourcarpet": [
           {
            "colorbar": {
             "outlinewidth": 0,
             "ticks": ""
            },
            "type": "contourcarpet"
           }
          ],
          "heatmap": [
           {
            "colorbar": {
             "outlinewidth": 0,
             "ticks": ""
            },
            "colorscale": [
             [
              0,
              "#0d0887"
             ],
             [
              0.1111111111111111,
              "#46039f"
             ],
             [
              0.2222222222222222,
              "#7201a8"
             ],
             [
              0.3333333333333333,
              "#9c179e"
             ],
             [
              0.4444444444444444,
              "#bd3786"
             ],
             [
              0.5555555555555556,
              "#d8576b"
             ],
             [
              0.6666666666666666,
              "#ed7953"
             ],
             [
              0.7777777777777778,
              "#fb9f3a"
             ],
             [
              0.8888888888888888,
              "#fdca26"
             ],
             [
              1,
              "#f0f921"
             ]
            ],
            "type": "heatmap"
           }
          ],
          "heatmapgl": [
           {
            "colorbar": {
             "outlinewidth": 0,
             "ticks": ""
            },
            "colorscale": [
             [
              0,
              "#0d0887"
             ],
             [
              0.1111111111111111,
              "#46039f"
             ],
             [
              0.2222222222222222,
              "#7201a8"
             ],
             [
              0.3333333333333333,
              "#9c179e"
             ],
             [
              0.4444444444444444,
              "#bd3786"
             ],
             [
              0.5555555555555556,
              "#d8576b"
             ],
             [
              0.6666666666666666,
              "#ed7953"
             ],
             [
              0.7777777777777778,
              "#fb9f3a"
             ],
             [
              0.8888888888888888,
              "#fdca26"
             ],
             [
              1,
              "#f0f921"
             ]
            ],
            "type": "heatmapgl"
           }
          ],
          "histogram": [
           {
            "marker": {
             "pattern": {
              "fillmode": "overlay",
              "size": 10,
              "solidity": 0.2
             }
            },
            "type": "histogram"
           }
          ],
          "histogram2d": [
           {
            "colorbar": {
             "outlinewidth": 0,
             "ticks": ""
            },
            "colorscale": [
             [
              0,
              "#0d0887"
             ],
             [
              0.1111111111111111,
              "#46039f"
             ],
             [
              0.2222222222222222,
              "#7201a8"
             ],
             [
              0.3333333333333333,
              "#9c179e"
             ],
             [
              0.4444444444444444,
              "#bd3786"
             ],
             [
              0.5555555555555556,
              "#d8576b"
             ],
             [
              0.6666666666666666,
              "#ed7953"
             ],
             [
              0.7777777777777778,
              "#fb9f3a"
             ],
             [
              0.8888888888888888,
              "#fdca26"
             ],
             [
              1,
              "#f0f921"
             ]
            ],
            "type": "histogram2d"
           }
          ],
          "histogram2dcontour": [
           {
            "colorbar": {
             "outlinewidth": 0,
             "ticks": ""
            },
            "colorscale": [
             [
              0,
              "#0d0887"
             ],
             [
              0.1111111111111111,
              "#46039f"
             ],
             [
              0.2222222222222222,
              "#7201a8"
             ],
             [
              0.3333333333333333,
              "#9c179e"
             ],
             [
              0.4444444444444444,
              "#bd3786"
             ],
             [
              0.5555555555555556,
              "#d8576b"
             ],
             [
              0.6666666666666666,
              "#ed7953"
             ],
             [
              0.7777777777777778,
              "#fb9f3a"
             ],
             [
              0.8888888888888888,
              "#fdca26"
             ],
             [
              1,
              "#f0f921"
             ]
            ],
            "type": "histogram2dcontour"
           }
          ],
          "mesh3d": [
           {
            "colorbar": {
             "outlinewidth": 0,
             "ticks": ""
            },
            "type": "mesh3d"
           }
          ],
          "parcoords": [
           {
            "line": {
             "colorbar": {
              "outlinewidth": 0,
              "ticks": ""
             }
            },
            "type": "parcoords"
           }
          ],
          "pie": [
           {
            "automargin": true,
            "type": "pie"
           }
          ],
          "scatter": [
           {
            "marker": {
             "line": {
              "color": "#283442"
             }
            },
            "type": "scatter"
           }
          ],
          "scatter3d": [
           {
            "line": {
             "colorbar": {
              "outlinewidth": 0,
              "ticks": ""
             }
            },
            "marker": {
             "colorbar": {
              "outlinewidth": 0,
              "ticks": ""
             }
            },
            "type": "scatter3d"
           }
          ],
          "scattercarpet": [
           {
            "marker": {
             "colorbar": {
              "outlinewidth": 0,
              "ticks": ""
             }
            },
            "type": "scattercarpet"
           }
          ],
          "scattergeo": [
           {
            "marker": {
             "colorbar": {
              "outlinewidth": 0,
              "ticks": ""
             }
            },
            "type": "scattergeo"
           }
          ],
          "scattergl": [
           {
            "marker": {
             "line": {
              "color": "#283442"
             }
            },
            "type": "scattergl"
           }
          ],
          "scattermapbox": [
           {
            "marker": {
             "colorbar": {
              "outlinewidth": 0,
              "ticks": ""
             }
            },
            "type": "scattermapbox"
           }
          ],
          "scatterpolar": [
           {
            "marker": {
             "colorbar": {
              "outlinewidth": 0,
              "ticks": ""
             }
            },
            "type": "scatterpolar"
           }
          ],
          "scatterpolargl": [
           {
            "marker": {
             "colorbar": {
              "outlinewidth": 0,
              "ticks": ""
             }
            },
            "type": "scatterpolargl"
           }
          ],
          "scatterternary": [
           {
            "marker": {
             "colorbar": {
              "outlinewidth": 0,
              "ticks": ""
             }
            },
            "type": "scatterternary"
           }
          ],
          "surface": [
           {
            "colorbar": {
             "outlinewidth": 0,
             "ticks": ""
            },
            "colorscale": [
             [
              0,
              "#0d0887"
             ],
             [
              0.1111111111111111,
              "#46039f"
             ],
             [
              0.2222222222222222,
              "#7201a8"
             ],
             [
              0.3333333333333333,
              "#9c179e"
             ],
             [
              0.4444444444444444,
              "#bd3786"
             ],
             [
              0.5555555555555556,
              "#d8576b"
             ],
             [
              0.6666666666666666,
              "#ed7953"
             ],
             [
              0.7777777777777778,
              "#fb9f3a"
             ],
             [
              0.8888888888888888,
              "#fdca26"
             ],
             [
              1,
              "#f0f921"
             ]
            ],
            "type": "surface"
           }
          ],
          "table": [
           {
            "cells": {
             "fill": {
              "color": "#506784"
             },
             "line": {
              "color": "rgb(17,17,17)"
             }
            },
            "header": {
             "fill": {
              "color": "#2a3f5f"
             },
             "line": {
              "color": "rgb(17,17,17)"
             }
            },
            "type": "table"
           }
          ]
         },
         "layout": {
          "annotationdefaults": {
           "arrowcolor": "#f2f5fa",
           "arrowhead": 0,
           "arrowwidth": 1
          },
          "autotypenumbers": "strict",
          "coloraxis": {
           "colorbar": {
            "outlinewidth": 0,
            "ticks": ""
           }
          },
          "colorscale": {
           "diverging": [
            [
             0,
             "#8e0152"
            ],
            [
             0.1,
             "#c51b7d"
            ],
            [
             0.2,
             "#de77ae"
            ],
            [
             0.3,
             "#f1b6da"
            ],
            [
             0.4,
             "#fde0ef"
            ],
            [
             0.5,
             "#f7f7f7"
            ],
            [
             0.6,
             "#e6f5d0"
            ],
            [
             0.7,
             "#b8e186"
            ],
            [
             0.8,
             "#7fbc41"
            ],
            [
             0.9,
             "#4d9221"
            ],
            [
             1,
             "#276419"
            ]
           ],
           "sequential": [
            [
             0,
             "#0d0887"
            ],
            [
             0.1111111111111111,
             "#46039f"
            ],
            [
             0.2222222222222222,
             "#7201a8"
            ],
            [
             0.3333333333333333,
             "#9c179e"
            ],
            [
             0.4444444444444444,
             "#bd3786"
            ],
            [
             0.5555555555555556,
             "#d8576b"
            ],
            [
             0.6666666666666666,
             "#ed7953"
            ],
            [
             0.7777777777777778,
             "#fb9f3a"
            ],
            [
             0.8888888888888888,
             "#fdca26"
            ],
            [
             1,
             "#f0f921"
            ]
           ],
           "sequentialminus": [
            [
             0,
             "#0d0887"
            ],
            [
             0.1111111111111111,
             "#46039f"
            ],
            [
             0.2222222222222222,
             "#7201a8"
            ],
            [
             0.3333333333333333,
             "#9c179e"
            ],
            [
             0.4444444444444444,
             "#bd3786"
            ],
            [
             0.5555555555555556,
             "#d8576b"
            ],
            [
             0.6666666666666666,
             "#ed7953"
            ],
            [
             0.7777777777777778,
             "#fb9f3a"
            ],
            [
             0.8888888888888888,
             "#fdca26"
            ],
            [
             1,
             "#f0f921"
            ]
           ]
          },
          "colorway": [
           "#636efa",
           "#EF553B",
           "#00cc96",
           "#ab63fa",
           "#FFA15A",
           "#19d3f3",
           "#FF6692",
           "#B6E880",
           "#FF97FF",
           "#FECB52"
          ],
          "font": {
           "color": "#f2f5fa"
          },
          "geo": {
           "bgcolor": "rgb(17,17,17)",
           "lakecolor": "rgb(17,17,17)",
           "landcolor": "rgb(17,17,17)",
           "showlakes": true,
           "showland": true,
           "subunitcolor": "#506784"
          },
          "hoverlabel": {
           "align": "left"
          },
          "hovermode": "closest",
          "mapbox": {
           "style": "dark"
          },
          "paper_bgcolor": "rgb(17,17,17)",
          "plot_bgcolor": "rgb(17,17,17)",
          "polar": {
           "angularaxis": {
            "gridcolor": "#506784",
            "linecolor": "#506784",
            "ticks": ""
           },
           "bgcolor": "rgb(17,17,17)",
           "radialaxis": {
            "gridcolor": "#506784",
            "linecolor": "#506784",
            "ticks": ""
           }
          },
          "scene": {
           "xaxis": {
            "backgroundcolor": "rgb(17,17,17)",
            "gridcolor": "#506784",
            "gridwidth": 2,
            "linecolor": "#506784",
            "showbackground": true,
            "ticks": "",
            "zerolinecolor": "#C8D4E3"
           },
           "yaxis": {
            "backgroundcolor": "rgb(17,17,17)",
            "gridcolor": "#506784",
            "gridwidth": 2,
            "linecolor": "#506784",
            "showbackground": true,
            "ticks": "",
            "zerolinecolor": "#C8D4E3"
           },
           "zaxis": {
            "backgroundcolor": "rgb(17,17,17)",
            "gridcolor": "#506784",
            "gridwidth": 2,
            "linecolor": "#506784",
            "showbackground": true,
            "ticks": "",
            "zerolinecolor": "#C8D4E3"
           }
          },
          "shapedefaults": {
           "line": {
            "color": "#f2f5fa"
           }
          },
          "sliderdefaults": {
           "bgcolor": "#C8D4E3",
           "bordercolor": "rgb(17,17,17)",
           "borderwidth": 1,
           "tickwidth": 0
          },
          "ternary": {
           "aaxis": {
            "gridcolor": "#506784",
            "linecolor": "#506784",
            "ticks": ""
           },
           "baxis": {
            "gridcolor": "#506784",
            "linecolor": "#506784",
            "ticks": ""
           },
           "bgcolor": "rgb(17,17,17)",
           "caxis": {
            "gridcolor": "#506784",
            "linecolor": "#506784",
            "ticks": ""
           }
          },
          "title": {
           "x": 0.05
          },
          "updatemenudefaults": {
           "bgcolor": "#506784",
           "borderwidth": 0
          },
          "xaxis": {
           "automargin": true,
           "gridcolor": "#283442",
           "linecolor": "#506784",
           "ticks": "",
           "title": {
            "standoff": 15
           },
           "zerolinecolor": "#283442",
           "zerolinewidth": 2
          },
          "yaxis": {
           "automargin": true,
           "gridcolor": "#283442",
           "linecolor": "#506784",
           "ticks": "",
           "title": {
            "standoff": 15
           },
           "zerolinecolor": "#283442",
           "zerolinewidth": 2
          }
         }
        },
        "title": {
         "text": "Flights per airline"
        },
        "xaxis": {
         "anchor": "y",
         "domain": [
          0,
          1
         ],
         "title": {
          "text": "value"
         }
        },
        "yaxis": {
         "anchor": "x",
         "domain": [
          0,
          1
         ],
         "title": {
          "text": "index"
         }
        }
       }
      }
     },
     "metadata": {},
     "output_type": "display_data"
    }
   ],
   "source": [
    "px.bar(\n",
    "    df_flights[\"Operating_Airline\"]\n",
    "    .value_counts()\n",
    "    .sort_values(ascending=True), \n",
    "    orientation='h', \n",
    "    template=\"plotly_dark\",\n",
    "    title=\"Flights per airline\",\n",
    "    height=700,\n",
    "    )"
   ]
  },
  {
   "cell_type": "code",
   "execution_count": null,
   "metadata": {},
   "outputs": [],
   "source": []
  }
 ],
 "metadata": {
  "kernelspec": {
   "display_name": "Python 3.11.0 ('team-3-N2NXnkel')",
   "language": "python",
   "name": "python3"
  },
  "language_info": {
   "codemirror_mode": {
    "name": "ipython",
    "version": 3
   },
   "file_extension": ".py",
   "mimetype": "text/x-python",
   "name": "python",
   "nbconvert_exporter": "python",
   "pygments_lexer": "ipython3",
   "version": "3.11.0"
  },
  "vscode": {
   "interpreter": {
    "hash": "13b707afe647235fabbd8fa9a50cb628621b6b26172b2c2a7128d664447ee1d0"
   }
  }
 },
 "nbformat": 4,
 "nbformat_minor": 2
}

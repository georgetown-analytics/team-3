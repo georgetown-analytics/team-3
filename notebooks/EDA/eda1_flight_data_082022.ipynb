{
 "cells": [
  {
   "cell_type": "code",
   "execution_count": null,
   "metadata": {},
   "outputs": [],
   "source": [
    "import numpy as np\n",
    "import pandas as pd\n",
    "import matplotlib.pyplot as plt\n",
    "import seaborn as sns \n",
    "import plotly.express as px"
   ]
  },
  {
   "cell_type": "markdown",
   "metadata": {},
   "source": [
    "#### Exploratory Data Analysis "
   ]
  },
  {
   "cell_type": "markdown",
   "metadata": {},
   "source": [
    "#### Reading the data"
   ]
  },
  {
   "cell_type": "code",
   "execution_count": null,
   "metadata": {},
   "outputs": [],
   "source": [
    "## Convert csv to parquet format to reduce dimension\n",
    "## This is done once to load the data\n",
    "## df = pd.read_csv(\"../../data/eda/flights/flight_data_082022/flight_data_082022.csv\", low_memory=False)\n",
    "# df.to_parquet(\"../../data/eda/flights/flight_data_082022/flight_data_082022.parquet\",engine='fastparquet')\n",
    "\n",
    "df_flights = pd.read_parquet(\"../../data/eda/flights/flight_data_082022/flight_data_082022.parquet\")"
   ]
  },
  {
   "cell_type": "markdown",
   "metadata": {},
   "source": [
    "#### Data cleaning\n"
   ]
  },
  {
   "cell_type": "code",
   "execution_count": null,
   "metadata": {},
   "outputs": [],
   "source": [
    "## clean the data by removing spaces\n",
    "df_flights= df_flights.rename(columns={'Operating_Airline ' : 'Operating_Airline'})\n",
    "df_flights[\"Cancelled\"] = df_flights[\"Cancelled\"].astype(\"bool\")"
   ]
  },
  {
   "cell_type": "markdown",
   "metadata": {},
   "source": [
    "#### Understanding the data"
   ]
  },
  {
   "cell_type": "code",
   "execution_count": null,
   "metadata": {},
   "outputs": [],
   "source": [
    "df_flights.columns.to_list()"
   ]
  },
  {
   "cell_type": "code",
   "execution_count": null,
   "metadata": {},
   "outputs": [],
   "source": [
    "df_flights.dtypes"
   ]
  },
  {
   "cell_type": "code",
   "execution_count": null,
   "metadata": {},
   "outputs": [],
   "source": [
    "df_flights.shape"
   ]
  },
  {
   "cell_type": "code",
   "execution_count": null,
   "metadata": {},
   "outputs": [],
   "source": [
    "df_flights.tail()"
   ]
  },
  {
   "cell_type": "code",
   "execution_count": null,
   "metadata": {},
   "outputs": [],
   "source": [
    "df_flights.describe()"
   ]
  },
  {
   "cell_type": "markdown",
   "metadata": {},
   "source": [
    "#### Analysis of Features\n",
    "Identification of Potential Features \n",
    "- Time Series Features:\n",
    "    'Year',\n",
    "    'Quarter',\n",
    "    'Month',\n",
    "    'DayofMonth',\n",
    "    'DayOfWeek',\n",
    "    'FlightDate',\n",
    "- Flight Info:\n",
    "    - Airline: Marketing_Airline_Network\n",
    "    - Origin: Origin, OriginCityName\n",
    "    - Destination: Dest, DestCityName\n",
    "- Departure / Delay Info:\n",
    "    - CRSDepTime: Scheduled Departure\n",
    "    - DepTime: Actual Departure\n",
    "    - DepDelay: Departure Delay"
   ]
  },
  {
   "cell_type": "code",
   "execution_count": null,
   "metadata": {},
   "outputs": [],
   "source": [
    "df_flights.columns.to_list()"
   ]
  },
  {
   "cell_type": "markdown",
   "metadata": {},
   "source": [
    "#### Delays by Airline in August 2022"
   ]
  },
  {
   "cell_type": "code",
   "execution_count": null,
   "metadata": {},
   "outputs": [],
   "source": [
    "airline_csv = \"https://raw.githubusercontent.com/jenbam/airlines/master/data-raw/airlines.csv\"\n",
    "airlines = pd.read_csv(airline_csv)\n",
    "## save locally\n",
    "#airlines.to_csv(\"airlines.csv\") \n",
    "airlines.query(\"Code == '9E'\")\n",
    "#airlines\n"
   ]
  },
  {
   "cell_type": "code",
   "execution_count": null,
   "metadata": {},
   "outputs": [],
   "source": [
    "airline_counts=df_flights[\"Operating_Airline\"].value_counts()\n",
    "airline_counts.head()"
   ]
  },
  {
   "cell_type": "code",
   "execution_count": null,
   "metadata": {},
   "outputs": [],
   "source": [
    "airline_counts=df_flights[\"Operating_Airline\"].value_counts()\n",
    "airline_counts\n",
    "airline_counts.index=airline_counts.index.map(\n",
    "    airlines.set_index('Code')['Description']\n",
    "    ).rename(\"Airline\")\n",
    "airline_counts.head()"
   ]
  },
  {
   "cell_type": "code",
   "execution_count": null,
   "metadata": {},
   "outputs": [],
   "source": [
    "airline_counts.plot(kind='barh', figsize=(10,10))"
   ]
  },
  {
   "cell_type": "code",
   "execution_count": null,
   "metadata": {},
   "outputs": [],
   "source": [
    "airline_counts.sort_values(ascending=True).plot(kind='barh', figsize=(10,10))"
   ]
  },
  {
   "cell_type": "code",
   "execution_count": null,
   "metadata": {},
   "outputs": [],
   "source": [
    "df_flights.query('Year == 2022').head()"
   ]
  },
  {
   "cell_type": "code",
   "execution_count": null,
   "metadata": {},
   "outputs": [],
   "source": [
    "airline_counts.sort_values(ascending=True).to_frame(\"Row Count\")"
   ]
  },
  {
   "cell_type": "code",
   "execution_count": null,
   "metadata": {},
   "outputs": [],
   "source": [
    "px.bar(\n",
    "    airline_counts.sort_values(ascending=True), \n",
    "    orientation='h', \n",
    "    template=\"plotly_dark\",\n",
    "    title=\"Flights per airline\",\n",
    "    height=700,\n",
    "    )"
   ]
  },
  {
   "cell_type": "code",
   "execution_count": null,
   "metadata": {},
   "outputs": [],
   "source": [
    "pct_cancelled = df_flights[\"Cancelled\"].mean()\n",
    "print(f\"{pct_cancelled:0.2f}% of flights are cancelled\")\n",
    "pct_cancelled"
   ]
  },
  {
   "cell_type": "code",
   "execution_count": null,
   "metadata": {},
   "outputs": [],
   "source": [
    "df_flights[\"Cancelled\"].value_counts()"
   ]
  },
  {
   "cell_type": "markdown",
   "metadata": {},
   "source": [
    "### Cancelled flights, group by Year"
   ]
  },
  {
   "cell_type": "code",
   "execution_count": null,
   "metadata": {},
   "outputs": [],
   "source": [
    "#df_flights.query(\"Year==2022\").query(\"Cancelled\")\n",
    "df_flights.groupby([\"Year\"])[\"Cancelled\"].agg(\"mean\").to_frame()"
   ]
  },
  {
   "cell_type": "code",
   "execution_count": null,
   "metadata": {},
   "outputs": [],
   "source": []
  },
  {
   "cell_type": "code",
   "execution_count": null,
   "metadata": {},
   "outputs": [],
   "source": []
  }
 ],
 "metadata": {
  "kernelspec": {
   "display_name": "Python 3 (ipykernel)",
   "language": "python",
   "name": "python3"
  },
  "language_info": {
   "codemirror_mode": {
    "name": "ipython",
    "version": 3
   },
   "file_extension": ".py",
   "mimetype": "text/x-python",
   "name": "python",
   "nbconvert_exporter": "python",
   "pygments_lexer": "ipython3",
   "version": "3.10.7"
  },
  "vscode": {
   "interpreter": {
    "hash": "c1898d6cb0e1cdc2f80c185504810a75bef999fd51058daa5a4d1f09cfd35875"
   }
  }
 },
 "nbformat": 4,
 "nbformat_minor": 2
}
